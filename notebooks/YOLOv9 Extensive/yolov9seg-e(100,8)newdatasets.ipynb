{
 "cells": [
  {
   "cell_type": "markdown",
   "metadata": {},
   "source": [
    "# Model E + Epochs 100 + Batch 8\n",
    "\n",
    " Train : 894 Images\n",
    "\n",
    " Valid : 75 Images"
   ]
  },
  {
   "cell_type": "code",
   "execution_count": 2,
   "metadata": {},
   "outputs": [
    {
     "name": "stdout",
     "output_type": "stream",
     "text": [
      "Fri Mar 21 05:39:37 2025       \n",
      "+-----------------------------------------------------------------------------------------+\n",
      "| NVIDIA-SMI 560.94                 Driver Version: 560.94         CUDA Version: 12.6     |\n",
      "|-----------------------------------------+------------------------+----------------------+\n",
      "| GPU  Name                  Driver-Model | Bus-Id          Disp.A | Volatile Uncorr. ECC |\n",
      "| Fan  Temp   Perf          Pwr:Usage/Cap |           Memory-Usage | GPU-Util  Compute M. |\n",
      "|                                         |                        |               MIG M. |\n",
      "|=========================================+========================+======================|\n",
      "|   0  NVIDIA GeForce RTX 4080 ...  WDDM  |   00000000:01:00.0  On |                  N/A |\n",
      "|  0%   34C    P8             10W /  320W |     236MiB /  16376MiB |      0%      Default |\n",
      "|                                         |                        |                  N/A |\n",
      "+-----------------------------------------+------------------------+----------------------+\n",
      "                                                                                         \n",
      "+-----------------------------------------------------------------------------------------+\n",
      "| Processes:                                                                              |\n",
      "|  GPU   GI   CI        PID   Type   Process name                              GPU Memory |\n",
      "|        ID   ID                                                               Usage      |\n",
      "|=========================================================================================|\n",
      "|    0   N/A  N/A      1652    C+G   ...on\\134.0.3124.72\\msedgewebview2.exe      N/A      |\n",
      "|    0   N/A  N/A      6540    C+G   ...crosoft\\Edge\\Application\\msedge.exe      N/A      |\n",
      "|    0   N/A  N/A      8180    C+G   ...on\\134.0.3124.72\\msedgewebview2.exe      N/A      |\n",
      "|    0   N/A  N/A      9080    C+G   ...155_x64__8wekyb3d8bbwe\\ms-teams.exe      N/A      |\n",
      "|    0   N/A  N/A      9612    C+G   ...nt.CBS_cw5n1h2txyewy\\SearchHost.exe      N/A      |\n",
      "|    0   N/A  N/A      9620    C+G   ...2txyewy\\StartMenuExperienceHost.exe      N/A      |\n",
      "|    0   N/A  N/A      9752    C+G   C:\\Windows\\System32\\ShellHost.exe           N/A      |\n",
      "|    0   N/A  N/A      9784    C+G   C:\\Windows\\explorer.exe                     N/A      |\n",
      "|    0   N/A  N/A     12900    C+G   ...5n1h2txyewy\\ShellExperienceHost.exe      N/A      |\n",
      "|    0   N/A  N/A     14692    C+G   ...cal\\Microsoft\\OneDrive\\OneDrive.exe      N/A      |\n",
      "|    0   N/A  N/A     15572    C+G   ...on\\134.0.3124.68\\msedgewebview2.exe      N/A      |\n",
      "|    0   N/A  N/A     16852    C+G   ...on\\134.0.3124.68\\msedgewebview2.exe      N/A      |\n",
      "|    0   N/A  N/A     16880    C+G   ...__8wekyb3d8bbwe\\Notepad\\Notepad.exe      N/A      |\n",
      "|    0   N/A  N/A     17932    C+G   ...Programs\\Microsoft VS Code\\Code.exe      N/A      |\n",
      "|    0   N/A  N/A     18856    C+G   ...crosoft\\Edge\\Application\\msedge.exe      N/A      |\n",
      "|    0   N/A  N/A     21232    C+G   ...CBS_cw5n1h2txyewy\\TextInputHost.exe      N/A      |\n",
      "+-----------------------------------------------------------------------------------------+\n"
     ]
    }
   ],
   "source": [
    "!nvidia-smi"
   ]
  },
  {
   "cell_type": "code",
   "execution_count": 3,
   "metadata": {},
   "outputs": [
    {
     "name": "stdout",
     "output_type": "stream",
     "text": [
      "number of GPU:  1\n",
      "GPU Name:  NVIDIA GeForce RTX 4080 SUPER\n"
     ]
    }
   ],
   "source": [
    "import torch\n",
    "\n",
    "print(\"number of GPU: \", torch.cuda.device_count())\n",
    "print(\"GPU Name: \", torch.cuda.get_device_name())"
   ]
  },
  {
   "cell_type": "code",
   "execution_count": 4,
   "metadata": {},
   "outputs": [
    {
     "name": "stdout",
     "output_type": "stream",
     "text": [
      "using device :  cuda\n"
     ]
    }
   ],
   "source": [
    "device = torch.device('cuda' if torch.cuda.is_available() else 'cpu')\n",
    "print('using device : ', device)"
   ]
  },
  {
   "cell_type": "code",
   "execution_count": 4,
   "metadata": {},
   "outputs": [],
   "source": [
    "torch.cuda.empty_cache()"
   ]
  },
  {
   "cell_type": "code",
   "execution_count": 5,
   "metadata": {},
   "outputs": [
    {
     "name": "stdout",
     "output_type": "stream",
     "text": [
      "c:\\5025211148\\YOLOv9-Segmentation\n"
     ]
    }
   ],
   "source": [
    "import os\n",
    "HOME = os.getcwd()\n",
    "print(HOME)"
   ]
  },
  {
   "cell_type": "code",
   "execution_count": 6,
   "metadata": {},
   "outputs": [
    {
     "name": "stdout",
     "output_type": "stream",
     "text": [
      "Requirement already satisfied: ultralytics in c:\\users\\admin\\anaconda3\\lib\\site-packages (8.2.98)\n",
      "Requirement already satisfied: numpy<2.0.0,>=1.23.0 in c:\\users\\admin\\anaconda3\\lib\\site-packages (from ultralytics) (1.26.4)\n",
      "Requirement already satisfied: matplotlib>=3.3.0 in c:\\users\\admin\\anaconda3\\lib\\site-packages (from ultralytics) (3.8.4)\n",
      "Requirement already satisfied: opencv-python>=4.6.0 in c:\\users\\admin\\anaconda3\\lib\\site-packages (from ultralytics) (4.10.0.84)\n",
      "Requirement already satisfied: pillow>=7.1.2 in c:\\users\\admin\\anaconda3\\lib\\site-packages (from ultralytics) (10.3.0)\n",
      "Requirement already satisfied: pyyaml>=5.3.1 in c:\\users\\admin\\anaconda3\\lib\\site-packages (from ultralytics) (6.0.1)\n",
      "Requirement already satisfied: requests>=2.23.0 in c:\\users\\admin\\anaconda3\\lib\\site-packages (from ultralytics) (2.32.2)\n",
      "Requirement already satisfied: scipy>=1.4.1 in c:\\users\\admin\\anaconda3\\lib\\site-packages (from ultralytics) (1.13.1)\n",
      "Requirement already satisfied: torch>=1.8.0 in c:\\users\\admin\\anaconda3\\lib\\site-packages (from ultralytics) (2.4.1)\n",
      "Requirement already satisfied: torchvision>=0.9.0 in c:\\users\\admin\\anaconda3\\lib\\site-packages (from ultralytics) (0.19.1)\n",
      "Requirement already satisfied: tqdm>=4.64.0 in c:\\users\\admin\\anaconda3\\lib\\site-packages (from ultralytics) (4.66.4)\n",
      "Requirement already satisfied: psutil in c:\\users\\admin\\appdata\\roaming\\python\\python312\\site-packages (from ultralytics) (6.0.0)\n",
      "Requirement already satisfied: py-cpuinfo in c:\\users\\admin\\anaconda3\\lib\\site-packages (from ultralytics) (9.0.0)\n",
      "Requirement already satisfied: pandas>=1.1.4 in c:\\users\\admin\\anaconda3\\lib\\site-packages (from ultralytics) (2.2.2)\n",
      "Requirement already satisfied: seaborn>=0.11.0 in c:\\users\\admin\\anaconda3\\lib\\site-packages (from ultralytics) (0.13.2)\n",
      "Requirement already satisfied: ultralytics-thop>=2.0.0 in c:\\users\\admin\\anaconda3\\lib\\site-packages (from ultralytics) (2.0.6)\n",
      "Requirement already satisfied: contourpy>=1.0.1 in c:\\users\\admin\\anaconda3\\lib\\site-packages (from matplotlib>=3.3.0->ultralytics) (1.2.0)\n",
      "Requirement already satisfied: cycler>=0.10 in c:\\users\\admin\\anaconda3\\lib\\site-packages (from matplotlib>=3.3.0->ultralytics) (0.11.0)\n",
      "Requirement already satisfied: fonttools>=4.22.0 in c:\\users\\admin\\anaconda3\\lib\\site-packages (from matplotlib>=3.3.0->ultralytics) (4.51.0)\n",
      "Requirement already satisfied: kiwisolver>=1.3.1 in c:\\users\\admin\\anaconda3\\lib\\site-packages (from matplotlib>=3.3.0->ultralytics) (1.4.4)\n",
      "Requirement already satisfied: packaging>=20.0 in c:\\users\\admin\\appdata\\roaming\\python\\python312\\site-packages (from matplotlib>=3.3.0->ultralytics) (24.1)\n",
      "Requirement already satisfied: pyparsing>=2.3.1 in c:\\users\\admin\\anaconda3\\lib\\site-packages (from matplotlib>=3.3.0->ultralytics) (3.0.9)\n",
      "Requirement already satisfied: python-dateutil>=2.7 in c:\\users\\admin\\appdata\\roaming\\python\\python312\\site-packages (from matplotlib>=3.3.0->ultralytics) (2.9.0.post0)\n",
      "Requirement already satisfied: pytz>=2020.1 in c:\\users\\admin\\anaconda3\\lib\\site-packages (from pandas>=1.1.4->ultralytics) (2024.1)\n",
      "Requirement already satisfied: tzdata>=2022.7 in c:\\users\\admin\\anaconda3\\lib\\site-packages (from pandas>=1.1.4->ultralytics) (2023.3)\n",
      "Requirement already satisfied: charset-normalizer<4,>=2 in c:\\users\\admin\\anaconda3\\lib\\site-packages (from requests>=2.23.0->ultralytics) (2.0.4)\n",
      "Requirement already satisfied: idna<4,>=2.5 in c:\\users\\admin\\appdata\\roaming\\python\\python312\\site-packages (from requests>=2.23.0->ultralytics) (3.7)\n",
      "Requirement already satisfied: urllib3<3,>=1.21.1 in c:\\users\\admin\\anaconda3\\lib\\site-packages (from requests>=2.23.0->ultralytics) (2.2.2)\n",
      "Requirement already satisfied: certifi>=2017.4.17 in c:\\users\\admin\\anaconda3\\lib\\site-packages (from requests>=2.23.0->ultralytics) (2024.8.30)\n",
      "Requirement already satisfied: filelock in c:\\users\\admin\\anaconda3\\lib\\site-packages (from torch>=1.8.0->ultralytics) (3.13.1)\n",
      "Requirement already satisfied: typing-extensions>=4.8.0 in c:\\users\\admin\\anaconda3\\lib\\site-packages (from torch>=1.8.0->ultralytics) (4.11.0)\n",
      "Requirement already satisfied: sympy in c:\\users\\admin\\anaconda3\\lib\\site-packages (from torch>=1.8.0->ultralytics) (1.12)\n",
      "Requirement already satisfied: networkx in c:\\users\\admin\\anaconda3\\lib\\site-packages (from torch>=1.8.0->ultralytics) (3.2.1)\n",
      "Requirement already satisfied: jinja2 in c:\\users\\admin\\anaconda3\\lib\\site-packages (from torch>=1.8.0->ultralytics) (3.1.4)\n",
      "Requirement already satisfied: fsspec in c:\\users\\admin\\anaconda3\\lib\\site-packages (from torch>=1.8.0->ultralytics) (2024.3.1)\n",
      "Requirement already satisfied: setuptools in c:\\users\\admin\\anaconda3\\lib\\site-packages (from torch>=1.8.0->ultralytics) (69.5.1)\n",
      "Requirement already satisfied: colorama in c:\\users\\admin\\appdata\\roaming\\python\\python312\\site-packages (from tqdm>=4.64.0->ultralytics) (0.4.6)\n",
      "Requirement already satisfied: six>=1.5 in c:\\users\\admin\\appdata\\roaming\\python\\python312\\site-packages (from python-dateutil>=2.7->matplotlib>=3.3.0->ultralytics) (1.16.0)\n",
      "Requirement already satisfied: MarkupSafe>=2.0 in c:\\users\\admin\\anaconda3\\lib\\site-packages (from jinja2->torch>=1.8.0->ultralytics) (2.1.3)\n",
      "Requirement already satisfied: mpmath>=0.19 in c:\\users\\admin\\anaconda3\\lib\\site-packages (from sympy->torch>=1.8.0->ultralytics) (1.3.0)\n",
      "Note: you may need to restart the kernel to use updated packages.\n"
     ]
    }
   ],
   "source": [
    "%pip install ultralytics"
   ]
  },
  {
   "cell_type": "code",
   "execution_count": 6,
   "metadata": {},
   "outputs": [
    {
     "name": "stdout",
     "output_type": "stream",
     "text": [
      "Ultralytics YOLOv8.2.98  Python-3.12.4 torch-2.4.1 CUDA:0 (NVIDIA GeForce RTX 4080 SUPER, 16376MiB)\n",
      "Setup complete  (32 CPUs, 63.8 GB RAM, 230.0/476.5 GB disk)\n"
     ]
    }
   ],
   "source": [
    "from IPython import display\n",
    "display.clear_output()\n",
    "\n",
    "import ultralytics\n",
    "ultralytics.checks()"
   ]
  },
  {
   "cell_type": "code",
   "execution_count": 7,
   "metadata": {},
   "outputs": [],
   "source": [
    "from ultralytics import YOLO\n",
    "from IPython.display import display, Image"
   ]
  },
  {
   "cell_type": "code",
   "execution_count": null,
   "metadata": {},
   "outputs": [],
   "source": [
    "%pip install --user roboflow\n",
    "\n",
    "from roboflow import Roboflow\n",
    "rf = Roboflow(api_key=\"R66BD6MEFMOCLYffXdn9\")\n",
    "project = rf.workspace(\"mcab\").project(\"merge-inez\")\n",
    "version = project.version(1)\n",
    "dataset = version.download(\"yolov9\")\n",
    "                "
   ]
  },
  {
   "cell_type": "code",
   "execution_count": 8,
   "metadata": {},
   "outputs": [
    {
     "name": "stdout",
     "output_type": "stream",
     "text": [
      "c:\\5025211148\\YOLOv9-Segmentation\n"
     ]
    }
   ],
   "source": [
    "%cd {HOME}\n"
   ]
  },
  {
   "cell_type": "code",
   "execution_count": 9,
   "metadata": {},
   "outputs": [],
   "source": [
    "model = YOLO(\"yolov9e-seg.pt\")"
   ]
  },
  {
   "cell_type": "code",
   "execution_count": 10,
   "metadata": {},
   "outputs": [
    {
     "name": "stdout",
     "output_type": "stream",
     "text": [
      "YOLOv9e-seg summary: 1,261 layers, 60,512,800 parameters, 0 gradients, 248.4 GFLOPs\n"
     ]
    },
    {
     "data": {
      "text/plain": [
       "(1261, 60512800, 0, 248.4070912)"
      ]
     },
     "execution_count": 10,
     "metadata": {},
     "output_type": "execute_result"
    }
   ],
   "source": [
    "model.info()"
   ]
  },
  {
   "cell_type": "code",
   "execution_count": 11,
   "metadata": {},
   "outputs": [
    {
     "name": "stdout",
     "output_type": "stream",
     "text": [
      "New https://pypi.org/project/ultralytics/8.3.93 available  Update with 'pip install -U ultralytics'\n",
      "Ultralytics YOLOv8.2.98  Python-3.12.4 torch-2.4.1 CUDA:0 (NVIDIA GeForce RTX 4080 SUPER, 16376MiB)\n",
      "\u001b[34m\u001b[1mengine\\trainer: \u001b[0mtask=segment, mode=train, model=yolov9e-seg.pt, data=C:\\5025211148\\YOLOv9-Segmentation\\merge-inez-1\\data.yaml, epochs=100, time=None, patience=100, batch=8, imgsz=640, save=True, save_period=-1, cache=False, device=None, workers=8, project=None, name=train13, exist_ok=False, pretrained=True, optimizer=auto, verbose=True, seed=0, deterministic=True, single_cls=False, rect=False, cos_lr=False, close_mosaic=10, resume=False, amp=True, fraction=1.0, profile=False, freeze=None, multi_scale=False, overlap_mask=True, mask_ratio=4, dropout=0.0, val=True, split=val, save_json=False, save_hybrid=False, conf=None, iou=0.7, max_det=300, half=False, dnn=False, plots=True, source=None, vid_stride=1, stream_buffer=False, visualize=False, augment=False, agnostic_nms=False, classes=None, retina_masks=False, embed=None, show=False, save_frames=False, save_txt=False, save_conf=False, save_crop=False, show_labels=True, show_conf=True, show_boxes=True, line_width=None, format=torchscript, keras=False, optimize=False, int8=False, dynamic=False, simplify=False, opset=None, workspace=4, nms=False, lr0=0.01, lrf=0.01, momentum=0.937, weight_decay=0.0005, warmup_epochs=3.0, warmup_momentum=0.8, warmup_bias_lr=0.1, box=7.5, cls=0.5, dfl=1.5, pose=12.0, kobj=1.0, label_smoothing=0.0, nbs=64, hsv_h=0.015, hsv_s=0.7, hsv_v=0.4, degrees=0.0, translate=0.1, scale=0.5, shear=0.0, perspective=0.0, flipud=0.0, fliplr=0.5, bgr=0.0, mosaic=1.0, mixup=0.0, copy_paste=0.0, auto_augment=randaugment, erasing=0.4, crop_fraction=1.0, cfg=None, tracker=botsort.yaml, save_dir=runs\\segment\\train13\n",
      "WARNING  YOLOv9 `Silence` module is deprecated in favor of nn.Identity. Please delete local *.pt file and re-download the latest model checkpoint.\n",
      "Overriding model.yaml nc=80 with nc=2\n",
      "\n",
      "                   from  n    params  module                                       arguments                     \n",
      "  0                  -1  1         0  torch.nn.modules.linear.Identity             []                            \n",
      "  1                  -1  1      1856  ultralytics.nn.modules.conv.Conv             [3, 64, 3, 2]                 \n",
      "  2                  -1  1     73984  ultralytics.nn.modules.conv.Conv             [64, 128, 3, 2]               \n",
      "  3                  -1  1    252160  ultralytics.nn.modules.block.RepNCSPELAN4    [128, 256, 128, 64, 2]        \n",
      "  4                  -1  1    164352  ultralytics.nn.modules.block.ADown           [256, 256]                    \n",
      "  5                  -1  1   1004032  ultralytics.nn.modules.block.RepNCSPELAN4    [256, 512, 256, 128, 2]       \n",
      "  6                  -1  1    656384  ultralytics.nn.modules.block.ADown           [512, 512]                    \n",
      "  7                  -1  1   4006912  ultralytics.nn.modules.block.RepNCSPELAN4    [512, 1024, 512, 256, 2]      \n",
      "  8                  -1  1   2623488  ultralytics.nn.modules.block.ADown           [1024, 1024]                  \n",
      "  9                  -1  1   4269056  ultralytics.nn.modules.block.RepNCSPELAN4    [1024, 1024, 512, 256, 2]     \n",
      " 10                   1  1      4160  ultralytics.nn.modules.block.CBLinear        [64, [64]]                    \n",
      " 11                   3  1     49344  ultralytics.nn.modules.block.CBLinear        [256, [64, 128]]              \n",
      " 12                   5  1    229824  ultralytics.nn.modules.block.CBLinear        [512, [64, 128, 256]]         \n",
      " 13                   7  1    984000  ultralytics.nn.modules.block.CBLinear        [1024, [64, 128, 256, 512]]   \n",
      " 14                   9  1   2033600  ultralytics.nn.modules.block.CBLinear        [1024, [64, 128, 256, 512, 1024]]\n",
      " 15                   0  1      1856  ultralytics.nn.modules.conv.Conv             [3, 64, 3, 2]                 \n",
      " 16[10, 11, 12, 13, 14, -1]  1         0  ultralytics.nn.modules.block.CBFuse          [[0, 0, 0, 0, 0]]             \n",
      " 17                  -1  1     73984  ultralytics.nn.modules.conv.Conv             [64, 128, 3, 2]               \n",
      " 18[11, 12, 13, 14, -1]  1         0  ultralytics.nn.modules.block.CBFuse          [[1, 1, 1, 1]]                \n",
      " 19                  -1  1    252160  ultralytics.nn.modules.block.RepNCSPELAN4    [128, 256, 128, 64, 2]        \n",
      " 20                  -1  1    164352  ultralytics.nn.modules.block.ADown           [256, 256]                    \n",
      " 21    [12, 13, 14, -1]  1         0  ultralytics.nn.modules.block.CBFuse          [[2, 2, 2]]                   \n",
      " 22                  -1  1   1004032  ultralytics.nn.modules.block.RepNCSPELAN4    [256, 512, 256, 128, 2]       \n",
      " 23                  -1  1    656384  ultralytics.nn.modules.block.ADown           [512, 512]                    \n",
      " 24        [13, 14, -1]  1         0  ultralytics.nn.modules.block.CBFuse          [[3, 3]]                      \n",
      " 25                  -1  1   4006912  ultralytics.nn.modules.block.RepNCSPELAN4    [512, 1024, 512, 256, 2]      \n",
      " 26                  -1  1   2623488  ultralytics.nn.modules.block.ADown           [1024, 1024]                  \n",
      " 27            [14, -1]  1         0  ultralytics.nn.modules.block.CBFuse          [[4]]                         \n",
      " 28                  -1  1   4269056  ultralytics.nn.modules.block.RepNCSPELAN4    [1024, 1024, 512, 256, 2]     \n",
      " 29                  -1  1    787968  ultralytics.nn.modules.block.SPPELAN         [1024, 512, 256]              \n",
      " 30                  -1  1         0  torch.nn.modules.upsampling.Upsample         [None, 2, 'nearest']          \n",
      " 31            [-1, 25]  1         0  ultralytics.nn.modules.conv.Concat           [1]                           \n",
      " 32                  -1  1   4005888  ultralytics.nn.modules.block.RepNCSPELAN4    [1536, 512, 512, 256, 2]      \n",
      " 33                  -1  1         0  torch.nn.modules.upsampling.Upsample         [None, 2, 'nearest']          \n",
      " 34            [-1, 22]  1         0  ultralytics.nn.modules.conv.Concat           [1]                           \n",
      " 35                  -1  1   1069056  ultralytics.nn.modules.block.RepNCSPELAN4    [1024, 256, 256, 128, 2]      \n",
      " 36                  -1  1    164352  ultralytics.nn.modules.block.ADown           [256, 256]                    \n",
      " 37            [-1, 32]  1         0  ultralytics.nn.modules.conv.Concat           [1]                           \n",
      " 38                  -1  1   3612672  ultralytics.nn.modules.block.RepNCSPELAN4    [768, 512, 512, 256, 2]       \n",
      " 39                  -1  1    656384  ultralytics.nn.modules.block.ADown           [512, 512]                    \n",
      " 40            [-1, 29]  1         0  ultralytics.nn.modules.conv.Concat           [1]                           \n",
      " 41                  -1  1  12860416  ultralytics.nn.modules.block.RepNCSPELAN4    [1024, 512, 1024, 512, 2]     \n",
      " 42        [35, 38, 41]  1   7890550  ultralytics.nn.modules.head.Segment          [2, 32, 256, [256, 512, 512]] \n",
      "YOLOv9e-seg summary: 1,261 layers, 60,452,662 parameters, 60,452,646 gradients, 248.1 GFLOPs\n",
      "\n",
      "Transferred 1867/1873 items from pretrained weights\n",
      "Freezing layer 'model.42.dfl.conv.weight'\n",
      "\u001b[34m\u001b[1mAMP: \u001b[0mrunning Automatic Mixed Precision (AMP) checks with YOLOv8n...\n",
      "\u001b[34m\u001b[1mAMP: \u001b[0mchecks passed \n"
     ]
    },
    {
     "name": "stderr",
     "output_type": "stream",
     "text": [
      "\u001b[34m\u001b[1mtrain: \u001b[0mScanning C:\\5025211148\\YOLOv9-Segmentation\\merge-inez-1\\train\\labels.cache... 894 images, 0 backgrounds, 0 corrupt: 100%|██████████| 894/894 [00:00<?, ?it/s]\n",
      "\u001b[34m\u001b[1mval: \u001b[0mScanning C:\\5025211148\\YOLOv9-Segmentation\\merge-inez-1\\valid\\labels.cache... 75 images, 0 backgrounds, 0 corrupt: 100%|██████████| 75/75 [00:00<?, ?it/s]"
     ]
    },
    {
     "name": "stdout",
     "output_type": "stream",
     "text": [
      "\u001b[34m\u001b[1mval: \u001b[0mWARNING  C:\\5025211148\\YOLOv9-Segmentation\\merge-inez-1\\valid\\images\\slice_234_jpg.rf.8c97c306d89d4aea1956db536d9ae8da.jpg: 1 duplicate labels removed\n"
     ]
    },
    {
     "name": "stderr",
     "output_type": "stream",
     "text": [
      "\n"
     ]
    },
    {
     "name": "stdout",
     "output_type": "stream",
     "text": [
      "Plotting labels to runs\\segment\\train13\\labels.jpg... \n",
      "\u001b[34m\u001b[1moptimizer:\u001b[0m 'optimizer=auto' found, ignoring 'lr0=0.01' and 'momentum=0.937' and determining best 'optimizer', 'lr0' and 'momentum' automatically... \n",
      "\u001b[34m\u001b[1moptimizer:\u001b[0m AdamW(lr=0.001667, momentum=0.9) with parameter groups 307 weight(decay=0.0), 323 weight(decay=0.0005), 322 bias(decay=0.0)\n",
      "Image sizes 640 train, 640 val\n",
      "Using 8 dataloader workers\n",
      "Logging results to \u001b[1mruns\\segment\\train13\u001b[0m\n",
      "Starting training for 100 epochs...\n",
      "\n",
      "      Epoch    GPU_mem   box_loss   seg_loss   cls_loss   dfl_loss  Instances       Size\n"
     ]
    },
    {
     "name": "stderr",
     "output_type": "stream",
     "text": [
      "      1/100      12.2G       1.26      2.277      1.715      1.468         17        640: 100%|██████████| 112/112 [00:35<00:00,  3.12it/s]\n",
      "                 Class     Images  Instances      Box(P          R      mAP50  mAP50-95)     Mask(P          R      mAP50  mAP50-95): 100%|██████████| 5/5 [00:01<00:00,  4.58it/s]"
     ]
    },
    {
     "name": "stdout",
     "output_type": "stream",
     "text": [
      "                   all         75        150     0.0022      0.167    0.00148   0.000268    0.00044     0.0333   0.000237   2.82e-05\n"
     ]
    },
    {
     "name": "stderr",
     "output_type": "stream",
     "text": [
      "\n"
     ]
    },
    {
     "name": "stdout",
     "output_type": "stream",
     "text": [
      "\n",
      "      Epoch    GPU_mem   box_loss   seg_loss   cls_loss   dfl_loss  Instances       Size\n"
     ]
    },
    {
     "name": "stderr",
     "output_type": "stream",
     "text": [
      "      2/100      12.7G      1.226      1.999       1.07      1.441         23        640: 100%|██████████| 112/112 [00:32<00:00,  3.46it/s]\n",
      "                 Class     Images  Instances      Box(P          R      mAP50  mAP50-95)     Mask(P          R      mAP50  mAP50-95): 100%|██████████| 5/5 [00:01<00:00,  4.90it/s]"
     ]
    },
    {
     "name": "stdout",
     "output_type": "stream",
     "text": [
      "                   all         75        150      0.087       0.06     0.0211    0.00638     0.0898     0.0667     0.0204    0.00581\n"
     ]
    },
    {
     "name": "stderr",
     "output_type": "stream",
     "text": [
      "\n"
     ]
    },
    {
     "name": "stdout",
     "output_type": "stream",
     "text": [
      "\n",
      "      Epoch    GPU_mem   box_loss   seg_loss   cls_loss   dfl_loss  Instances       Size\n"
     ]
    },
    {
     "name": "stderr",
     "output_type": "stream",
     "text": [
      "      3/100      12.6G      1.224       1.91     0.9696      1.441         19        640: 100%|██████████| 112/112 [00:31<00:00,  3.54it/s]\n",
      "                 Class     Images  Instances      Box(P          R      mAP50  mAP50-95)     Mask(P          R      mAP50  mAP50-95): 100%|██████████| 5/5 [00:01<00:00,  4.94it/s]"
     ]
    },
    {
     "name": "stdout",
     "output_type": "stream",
     "text": [
      "                   all         75        150      0.344       0.16     0.0858     0.0247      0.109      0.207     0.0419     0.0119\n"
     ]
    },
    {
     "name": "stderr",
     "output_type": "stream",
     "text": [
      "\n"
     ]
    },
    {
     "name": "stdout",
     "output_type": "stream",
     "text": [
      "\n",
      "      Epoch    GPU_mem   box_loss   seg_loss   cls_loss   dfl_loss  Instances       Size\n"
     ]
    },
    {
     "name": "stderr",
     "output_type": "stream",
     "text": [
      "      4/100      12.8G       1.17      1.907     0.8974       1.41         15        640: 100%|██████████| 112/112 [00:31<00:00,  3.58it/s]\n",
      "                 Class     Images  Instances      Box(P          R      mAP50  mAP50-95)     Mask(P          R      mAP50  mAP50-95): 100%|██████████| 5/5 [00:01<00:00,  4.99it/s]"
     ]
    },
    {
     "name": "stdout",
     "output_type": "stream",
     "text": [
      "                   all         75        150      0.624      0.293      0.291      0.129      0.534      0.267      0.187     0.0797\n"
     ]
    },
    {
     "name": "stderr",
     "output_type": "stream",
     "text": [
      "\n"
     ]
    },
    {
     "name": "stdout",
     "output_type": "stream",
     "text": [
      "\n",
      "      Epoch    GPU_mem   box_loss   seg_loss   cls_loss   dfl_loss  Instances       Size\n"
     ]
    },
    {
     "name": "stderr",
     "output_type": "stream",
     "text": [
      "      5/100      12.6G      1.087      1.724     0.7671      1.329         14        640: 100%|██████████| 112/112 [00:31<00:00,  3.52it/s]\n",
      "                 Class     Images  Instances      Box(P          R      mAP50  mAP50-95)     Mask(P          R      mAP50  mAP50-95): 100%|██████████| 5/5 [00:01<00:00,  4.71it/s]"
     ]
    },
    {
     "name": "stdout",
     "output_type": "stream",
     "text": [
      "                   all         75        150      0.476      0.658      0.568      0.393      0.484      0.664      0.572       0.39\n"
     ]
    },
    {
     "name": "stderr",
     "output_type": "stream",
     "text": [
      "\n"
     ]
    },
    {
     "name": "stdout",
     "output_type": "stream",
     "text": [
      "\n",
      "      Epoch    GPU_mem   box_loss   seg_loss   cls_loss   dfl_loss  Instances       Size\n"
     ]
    },
    {
     "name": "stderr",
     "output_type": "stream",
     "text": [
      "      6/100      11.3G      1.056      1.711     0.7232      1.315         22        640: 100%|██████████| 112/112 [00:31<00:00,  3.56it/s]\n",
      "                 Class     Images  Instances      Box(P          R      mAP50  mAP50-95)     Mask(P          R      mAP50  mAP50-95): 100%|██████████| 5/5 [00:01<00:00,  4.53it/s]"
     ]
    },
    {
     "name": "stdout",
     "output_type": "stream",
     "text": [
      "                   all         75        150       0.66      0.721      0.666      0.429      0.725      0.787      0.734      0.445\n"
     ]
    },
    {
     "name": "stderr",
     "output_type": "stream",
     "text": [
      "\n"
     ]
    },
    {
     "name": "stdout",
     "output_type": "stream",
     "text": [
      "\n",
      "      Epoch    GPU_mem   box_loss   seg_loss   cls_loss   dfl_loss  Instances       Size\n"
     ]
    },
    {
     "name": "stderr",
     "output_type": "stream",
     "text": [
      "      7/100      12.7G      1.034      1.669      0.698      1.299         17        640: 100%|██████████| 112/112 [00:31<00:00,  3.51it/s]\n",
      "                 Class     Images  Instances      Box(P          R      mAP50  mAP50-95)     Mask(P          R      mAP50  mAP50-95): 100%|██████████| 5/5 [00:01<00:00,  4.81it/s]"
     ]
    },
    {
     "name": "stdout",
     "output_type": "stream",
     "text": [
      "                   all         75        150      0.528      0.707      0.628      0.428      0.489      0.727      0.601      0.418\n"
     ]
    },
    {
     "name": "stderr",
     "output_type": "stream",
     "text": [
      "\n"
     ]
    },
    {
     "name": "stdout",
     "output_type": "stream",
     "text": [
      "\n",
      "      Epoch    GPU_mem   box_loss   seg_loss   cls_loss   dfl_loss  Instances       Size\n"
     ]
    },
    {
     "name": "stderr",
     "output_type": "stream",
     "text": [
      "      8/100      11.3G      1.019       1.57     0.6459      1.286         23        640: 100%|██████████| 112/112 [00:31<00:00,  3.56it/s]\n",
      "                 Class     Images  Instances      Box(P          R      mAP50  mAP50-95)     Mask(P          R      mAP50  mAP50-95): 100%|██████████| 5/5 [00:01<00:00,  4.94it/s]"
     ]
    },
    {
     "name": "stdout",
     "output_type": "stream",
     "text": [
      "                   all         75        150      0.579       0.33        0.3      0.163      0.543       0.28      0.263      0.118\n"
     ]
    },
    {
     "name": "stderr",
     "output_type": "stream",
     "text": [
      "\n"
     ]
    },
    {
     "name": "stdout",
     "output_type": "stream",
     "text": [
      "\n",
      "      Epoch    GPU_mem   box_loss   seg_loss   cls_loss   dfl_loss  Instances       Size\n"
     ]
    },
    {
     "name": "stderr",
     "output_type": "stream",
     "text": [
      "      9/100      11.4G     0.9733      1.571     0.6168      1.258         26        640: 100%|██████████| 112/112 [00:31<00:00,  3.53it/s]\n",
      "                 Class     Images  Instances      Box(P          R      mAP50  mAP50-95)     Mask(P          R      mAP50  mAP50-95): 100%|██████████| 5/5 [00:01<00:00,  4.65it/s]"
     ]
    },
    {
     "name": "stdout",
     "output_type": "stream",
     "text": [
      "                   all         75        150      0.393      0.293      0.336      0.257        0.5      0.327      0.372      0.219\n"
     ]
    },
    {
     "name": "stderr",
     "output_type": "stream",
     "text": [
      "\n"
     ]
    },
    {
     "name": "stdout",
     "output_type": "stream",
     "text": [
      "\n",
      "      Epoch    GPU_mem   box_loss   seg_loss   cls_loss   dfl_loss  Instances       Size\n"
     ]
    },
    {
     "name": "stderr",
     "output_type": "stream",
     "text": [
      "     10/100      11.4G     0.9818       1.59     0.6191      1.262         19        640: 100%|██████████| 112/112 [00:31<00:00,  3.55it/s]\n",
      "                 Class     Images  Instances      Box(P          R      mAP50  mAP50-95)     Mask(P          R      mAP50  mAP50-95): 100%|██████████| 5/5 [00:01<00:00,  4.81it/s]"
     ]
    },
    {
     "name": "stdout",
     "output_type": "stream",
     "text": [
      "                   all         75        150      0.723      0.713      0.678       0.45      0.753       0.74      0.723      0.442\n"
     ]
    },
    {
     "name": "stderr",
     "output_type": "stream",
     "text": [
      "\n"
     ]
    },
    {
     "name": "stdout",
     "output_type": "stream",
     "text": [
      "\n",
      "      Epoch    GPU_mem   box_loss   seg_loss   cls_loss   dfl_loss  Instances       Size\n"
     ]
    },
    {
     "name": "stderr",
     "output_type": "stream",
     "text": [
      "     11/100      12.5G     0.9448       1.54     0.5709      1.243         30        640: 100%|██████████| 112/112 [00:31<00:00,  3.55it/s]\n",
      "                 Class     Images  Instances      Box(P          R      mAP50  mAP50-95)     Mask(P          R      mAP50  mAP50-95): 100%|██████████| 5/5 [00:01<00:00,  4.94it/s]"
     ]
    },
    {
     "name": "stdout",
     "output_type": "stream",
     "text": [
      "                   all         75        150      0.877      0.892      0.857      0.551      0.841      0.859      0.809      0.539\n"
     ]
    },
    {
     "name": "stderr",
     "output_type": "stream",
     "text": [
      "\n"
     ]
    },
    {
     "name": "stdout",
     "output_type": "stream",
     "text": [
      "\n",
      "      Epoch    GPU_mem   box_loss   seg_loss   cls_loss   dfl_loss  Instances       Size\n"
     ]
    },
    {
     "name": "stderr",
     "output_type": "stream",
     "text": [
      "     12/100      11.3G     0.9487      1.562     0.5827      1.251         23        640: 100%|██████████| 112/112 [00:31<00:00,  3.55it/s]\n",
      "                 Class     Images  Instances      Box(P          R      mAP50  mAP50-95)     Mask(P          R      mAP50  mAP50-95): 100%|██████████| 5/5 [00:01<00:00,  4.94it/s]"
     ]
    },
    {
     "name": "stdout",
     "output_type": "stream",
     "text": [
      "                   all         75        150      0.632      0.667      0.602      0.459      0.628      0.653      0.596      0.426\n"
     ]
    },
    {
     "name": "stderr",
     "output_type": "stream",
     "text": [
      "\n"
     ]
    },
    {
     "name": "stdout",
     "output_type": "stream",
     "text": [
      "\n",
      "      Epoch    GPU_mem   box_loss   seg_loss   cls_loss   dfl_loss  Instances       Size\n"
     ]
    },
    {
     "name": "stderr",
     "output_type": "stream",
     "text": [
      "     13/100      12.5G     0.9191      1.496     0.5602      1.233         25        640: 100%|██████████| 112/112 [00:31<00:00,  3.58it/s]\n",
      "                 Class     Images  Instances      Box(P          R      mAP50  mAP50-95)     Mask(P          R      mAP50  mAP50-95): 100%|██████████| 5/5 [00:01<00:00,  4.86it/s]"
     ]
    },
    {
     "name": "stdout",
     "output_type": "stream",
     "text": [
      "                   all         75        150      0.717       0.74      0.641      0.526      0.736       0.76      0.658      0.503\n"
     ]
    },
    {
     "name": "stderr",
     "output_type": "stream",
     "text": [
      "\n"
     ]
    },
    {
     "name": "stdout",
     "output_type": "stream",
     "text": [
      "\n",
      "      Epoch    GPU_mem   box_loss   seg_loss   cls_loss   dfl_loss  Instances       Size\n"
     ]
    },
    {
     "name": "stderr",
     "output_type": "stream",
     "text": [
      "     14/100      12.6G     0.9417      1.529     0.5643      1.229         24        640: 100%|██████████| 112/112 [00:31<00:00,  3.59it/s]\n",
      "                 Class     Images  Instances      Box(P          R      mAP50  mAP50-95)     Mask(P          R      mAP50  mAP50-95): 100%|██████████| 5/5 [00:01<00:00,  4.92it/s]"
     ]
    },
    {
     "name": "stdout",
     "output_type": "stream",
     "text": [
      "                   all         75        150      0.702        0.7      0.656      0.486      0.734      0.727      0.683      0.482\n"
     ]
    },
    {
     "name": "stderr",
     "output_type": "stream",
     "text": [
      "\n"
     ]
    },
    {
     "name": "stdout",
     "output_type": "stream",
     "text": [
      "\n",
      "      Epoch    GPU_mem   box_loss   seg_loss   cls_loss   dfl_loss  Instances       Size\n"
     ]
    },
    {
     "name": "stderr",
     "output_type": "stream",
     "text": [
      "     15/100      11.3G      0.925      1.482     0.5365      1.234         27        640: 100%|██████████| 112/112 [00:31<00:00,  3.57it/s]\n",
      "                 Class     Images  Instances      Box(P          R      mAP50  mAP50-95)     Mask(P          R      mAP50  mAP50-95): 100%|██████████| 5/5 [00:01<00:00,  4.86it/s]"
     ]
    },
    {
     "name": "stdout",
     "output_type": "stream",
     "text": [
      "                   all         75        150      0.762      0.753      0.664      0.532      0.748       0.74      0.646      0.499\n"
     ]
    },
    {
     "name": "stderr",
     "output_type": "stream",
     "text": [
      "\n"
     ]
    },
    {
     "name": "stdout",
     "output_type": "stream",
     "text": [
      "\n",
      "      Epoch    GPU_mem   box_loss   seg_loss   cls_loss   dfl_loss  Instances       Size\n"
     ]
    },
    {
     "name": "stderr",
     "output_type": "stream",
     "text": [
      "     16/100      12.5G     0.9211      1.504     0.5361      1.237         21        640: 100%|██████████| 112/112 [00:31<00:00,  3.57it/s]\n",
      "                 Class     Images  Instances      Box(P          R      mAP50  mAP50-95)     Mask(P          R      mAP50  mAP50-95): 100%|██████████| 5/5 [00:01<00:00,  4.97it/s]"
     ]
    },
    {
     "name": "stdout",
     "output_type": "stream",
     "text": [
      "                   all         75        150      0.775      0.696       0.68      0.534      0.824      0.728       0.74      0.524\n"
     ]
    },
    {
     "name": "stderr",
     "output_type": "stream",
     "text": [
      "\n"
     ]
    },
    {
     "name": "stdout",
     "output_type": "stream",
     "text": [
      "\n",
      "      Epoch    GPU_mem   box_loss   seg_loss   cls_loss   dfl_loss  Instances       Size\n"
     ]
    },
    {
     "name": "stderr",
     "output_type": "stream",
     "text": [
      "     17/100      11.3G     0.8984      1.454     0.5274      1.222         28        640: 100%|██████████| 112/112 [00:31<00:00,  3.57it/s]\n",
      "                 Class     Images  Instances      Box(P          R      mAP50  mAP50-95)     Mask(P          R      mAP50  mAP50-95): 100%|██████████| 5/5 [00:01<00:00,  4.91it/s]"
     ]
    },
    {
     "name": "stdout",
     "output_type": "stream",
     "text": [
      "                   all         75        150      0.656       0.74      0.649      0.531      0.656       0.74       0.65      0.495\n"
     ]
    },
    {
     "name": "stderr",
     "output_type": "stream",
     "text": [
      "\n"
     ]
    },
    {
     "name": "stdout",
     "output_type": "stream",
     "text": [
      "\n",
      "      Epoch    GPU_mem   box_loss   seg_loss   cls_loss   dfl_loss  Instances       Size\n"
     ]
    },
    {
     "name": "stderr",
     "output_type": "stream",
     "text": [
      "     18/100      11.3G     0.9119      1.476     0.5173      1.225         37        640: 100%|██████████| 112/112 [00:31<00:00,  3.60it/s]\n",
      "                 Class     Images  Instances      Box(P          R      mAP50  mAP50-95)     Mask(P          R      mAP50  mAP50-95): 100%|██████████| 5/5 [00:01<00:00,  4.88it/s]"
     ]
    },
    {
     "name": "stdout",
     "output_type": "stream",
     "text": [
      "                   all         75        150      0.748      0.483      0.529      0.351      0.748      0.483      0.542      0.353\n"
     ]
    },
    {
     "name": "stderr",
     "output_type": "stream",
     "text": [
      "\n"
     ]
    },
    {
     "name": "stdout",
     "output_type": "stream",
     "text": [
      "\n",
      "      Epoch    GPU_mem   box_loss   seg_loss   cls_loss   dfl_loss  Instances       Size\n"
     ]
    },
    {
     "name": "stderr",
     "output_type": "stream",
     "text": [
      "     19/100      12.7G     0.9082      1.446     0.5092      1.208         26        640: 100%|██████████| 112/112 [00:31<00:00,  3.56it/s]\n",
      "                 Class     Images  Instances      Box(P          R      mAP50  mAP50-95)     Mask(P          R      mAP50  mAP50-95): 100%|██████████| 5/5 [00:01<00:00,  4.82it/s]"
     ]
    },
    {
     "name": "stdout",
     "output_type": "stream",
     "text": [
      "                   all         75        150      0.746      0.733       0.65       0.51      0.797       0.78      0.699      0.508\n"
     ]
    },
    {
     "name": "stderr",
     "output_type": "stream",
     "text": [
      "\n"
     ]
    },
    {
     "name": "stdout",
     "output_type": "stream",
     "text": [
      "\n",
      "      Epoch    GPU_mem   box_loss   seg_loss   cls_loss   dfl_loss  Instances       Size\n"
     ]
    },
    {
     "name": "stderr",
     "output_type": "stream",
     "text": [
      "     20/100      11.3G     0.8898      1.446     0.5052      1.196         18        640: 100%|██████████| 112/112 [00:31<00:00,  3.55it/s]\n",
      "                 Class     Images  Instances      Box(P          R      mAP50  mAP50-95)     Mask(P          R      mAP50  mAP50-95): 100%|██████████| 5/5 [00:01<00:00,  4.93it/s]"
     ]
    },
    {
     "name": "stdout",
     "output_type": "stream",
     "text": [
      "                   all         75        150      0.738      0.727      0.668      0.527       0.73      0.774       0.69      0.508\n"
     ]
    },
    {
     "name": "stderr",
     "output_type": "stream",
     "text": [
      "\n"
     ]
    },
    {
     "name": "stdout",
     "output_type": "stream",
     "text": [
      "\n",
      "      Epoch    GPU_mem   box_loss   seg_loss   cls_loss   dfl_loss  Instances       Size\n"
     ]
    },
    {
     "name": "stderr",
     "output_type": "stream",
     "text": [
      "     21/100      12.6G     0.9035      1.452      0.508      1.214         27        640: 100%|██████████| 112/112 [00:31<00:00,  3.56it/s]\n",
      "                 Class     Images  Instances      Box(P          R      mAP50  mAP50-95)     Mask(P          R      mAP50  mAP50-95): 100%|██████████| 5/5 [00:01<00:00,  4.87it/s]"
     ]
    },
    {
     "name": "stdout",
     "output_type": "stream",
     "text": [
      "                   all         75        150      0.752      0.768      0.684      0.552       0.76      0.767      0.673       0.52\n"
     ]
    },
    {
     "name": "stderr",
     "output_type": "stream",
     "text": [
      "\n"
     ]
    },
    {
     "name": "stdout",
     "output_type": "stream",
     "text": [
      "\n",
      "      Epoch    GPU_mem   box_loss   seg_loss   cls_loss   dfl_loss  Instances       Size\n"
     ]
    },
    {
     "name": "stderr",
     "output_type": "stream",
     "text": [
      "     22/100      12.6G     0.8809      1.418     0.4931      1.196         26        640: 100%|██████████| 112/112 [00:31<00:00,  3.56it/s]\n",
      "                 Class     Images  Instances      Box(P          R      mAP50  mAP50-95)     Mask(P          R      mAP50  mAP50-95): 100%|██████████| 5/5 [00:01<00:00,  4.89it/s]"
     ]
    },
    {
     "name": "stdout",
     "output_type": "stream",
     "text": [
      "                   all         75        150      0.727      0.744      0.662      0.539      0.778      0.759      0.699      0.521\n"
     ]
    },
    {
     "name": "stderr",
     "output_type": "stream",
     "text": [
      "\n"
     ]
    },
    {
     "name": "stdout",
     "output_type": "stream",
     "text": [
      "\n",
      "      Epoch    GPU_mem   box_loss   seg_loss   cls_loss   dfl_loss  Instances       Size\n"
     ]
    },
    {
     "name": "stderr",
     "output_type": "stream",
     "text": [
      "     23/100      12.6G     0.8662      1.384     0.4781      1.194         22        640: 100%|██████████| 112/112 [00:31<00:00,  3.58it/s]\n",
      "                 Class     Images  Instances      Box(P          R      mAP50  mAP50-95)     Mask(P          R      mAP50  mAP50-95): 100%|██████████| 5/5 [00:01<00:00,  4.93it/s]"
     ]
    },
    {
     "name": "stdout",
     "output_type": "stream",
     "text": [
      "                   all         75        150      0.764      0.633      0.786      0.484      0.789      0.671      0.797      0.417\n"
     ]
    },
    {
     "name": "stderr",
     "output_type": "stream",
     "text": [
      "\n"
     ]
    },
    {
     "name": "stdout",
     "output_type": "stream",
     "text": [
      "\n",
      "      Epoch    GPU_mem   box_loss   seg_loss   cls_loss   dfl_loss  Instances       Size\n"
     ]
    },
    {
     "name": "stderr",
     "output_type": "stream",
     "text": [
      "     24/100      12.8G     0.8666      1.405     0.4668      1.192         19        640: 100%|██████████| 112/112 [00:31<00:00,  3.58it/s]\n",
      "                 Class     Images  Instances      Box(P          R      mAP50  mAP50-95)     Mask(P          R      mAP50  mAP50-95): 100%|██████████| 5/5 [00:01<00:00,  4.93it/s]"
     ]
    },
    {
     "name": "stdout",
     "output_type": "stream",
     "text": [
      "                   all         75        150      0.859      0.813      0.802      0.542      0.901      0.874      0.865       0.55\n"
     ]
    },
    {
     "name": "stderr",
     "output_type": "stream",
     "text": [
      "\n"
     ]
    },
    {
     "name": "stdout",
     "output_type": "stream",
     "text": [
      "\n",
      "      Epoch    GPU_mem   box_loss   seg_loss   cls_loss   dfl_loss  Instances       Size\n"
     ]
    },
    {
     "name": "stderr",
     "output_type": "stream",
     "text": [
      "     25/100      11.3G     0.8896       1.45     0.4761      1.202         20        640: 100%|██████████| 112/112 [00:31<00:00,  3.54it/s]\n",
      "                 Class     Images  Instances      Box(P          R      mAP50  mAP50-95)     Mask(P          R      mAP50  mAP50-95): 100%|██████████| 5/5 [00:01<00:00,  4.78it/s]"
     ]
    },
    {
     "name": "stdout",
     "output_type": "stream",
     "text": [
      "                   all         75        150      0.873      0.866       0.86       0.57        0.9      0.892      0.875       0.56\n"
     ]
    },
    {
     "name": "stderr",
     "output_type": "stream",
     "text": [
      "\n"
     ]
    },
    {
     "name": "stdout",
     "output_type": "stream",
     "text": [
      "\n",
      "      Epoch    GPU_mem   box_loss   seg_loss   cls_loss   dfl_loss  Instances       Size\n"
     ]
    },
    {
     "name": "stderr",
     "output_type": "stream",
     "text": [
      "     26/100      12.6G     0.8537      1.404     0.4607      1.182         24        640: 100%|██████████| 112/112 [00:31<00:00,  3.54it/s]\n",
      "                 Class     Images  Instances      Box(P          R      mAP50  mAP50-95)     Mask(P          R      mAP50  mAP50-95): 100%|██████████| 5/5 [00:01<00:00,  4.94it/s]"
     ]
    },
    {
     "name": "stdout",
     "output_type": "stream",
     "text": [
      "                   all         75        150      0.826       0.79        0.8      0.564      0.836      0.793      0.798      0.549\n"
     ]
    },
    {
     "name": "stderr",
     "output_type": "stream",
     "text": [
      "\n"
     ]
    },
    {
     "name": "stdout",
     "output_type": "stream",
     "text": [
      "\n",
      "      Epoch    GPU_mem   box_loss   seg_loss   cls_loss   dfl_loss  Instances       Size\n"
     ]
    },
    {
     "name": "stderr",
     "output_type": "stream",
     "text": [
      "     27/100      11.3G     0.8709       1.39     0.4639      1.189         21        640: 100%|██████████| 112/112 [00:31<00:00,  3.56it/s]\n",
      "                 Class     Images  Instances      Box(P          R      mAP50  mAP50-95)     Mask(P          R      mAP50  mAP50-95): 100%|██████████| 5/5 [00:01<00:00,  4.99it/s]"
     ]
    },
    {
     "name": "stdout",
     "output_type": "stream",
     "text": [
      "                   all         75        150       0.78      0.679      0.666      0.508      0.758      0.665      0.634      0.474\n"
     ]
    },
    {
     "name": "stderr",
     "output_type": "stream",
     "text": [
      "\n"
     ]
    },
    {
     "name": "stdout",
     "output_type": "stream",
     "text": [
      "\n",
      "      Epoch    GPU_mem   box_loss   seg_loss   cls_loss   dfl_loss  Instances       Size\n"
     ]
    },
    {
     "name": "stderr",
     "output_type": "stream",
     "text": [
      "     28/100      12.6G     0.8624      1.365     0.4616      1.195         23        640: 100%|██████████| 112/112 [00:31<00:00,  3.55it/s]\n",
      "                 Class     Images  Instances      Box(P          R      mAP50  mAP50-95)     Mask(P          R      mAP50  mAP50-95): 100%|██████████| 5/5 [00:01<00:00,  4.93it/s]"
     ]
    },
    {
     "name": "stdout",
     "output_type": "stream",
     "text": [
      "                   all         75        150      0.787      0.787      0.754      0.555      0.783      0.787      0.744      0.519\n"
     ]
    },
    {
     "name": "stderr",
     "output_type": "stream",
     "text": [
      "\n"
     ]
    },
    {
     "name": "stdout",
     "output_type": "stream",
     "text": [
      "\n",
      "      Epoch    GPU_mem   box_loss   seg_loss   cls_loss   dfl_loss  Instances       Size\n"
     ]
    },
    {
     "name": "stderr",
     "output_type": "stream",
     "text": [
      "     29/100      12.6G     0.8636      1.403     0.4685      1.184         20        640: 100%|██████████| 112/112 [00:31<00:00,  3.56it/s]\n",
      "                 Class     Images  Instances      Box(P          R      mAP50  mAP50-95)     Mask(P          R      mAP50  mAP50-95): 100%|██████████| 5/5 [00:01<00:00,  4.93it/s]"
     ]
    },
    {
     "name": "stdout",
     "output_type": "stream",
     "text": [
      "                   all         75        150      0.745      0.687      0.665      0.508      0.738       0.68      0.652      0.497\n"
     ]
    },
    {
     "name": "stderr",
     "output_type": "stream",
     "text": [
      "\n"
     ]
    },
    {
     "name": "stdout",
     "output_type": "stream",
     "text": [
      "\n",
      "      Epoch    GPU_mem   box_loss   seg_loss   cls_loss   dfl_loss  Instances       Size\n"
     ]
    },
    {
     "name": "stderr",
     "output_type": "stream",
     "text": [
      "     30/100      11.3G     0.8709      1.393     0.4686      1.185         19        640: 100%|██████████| 112/112 [00:31<00:00,  3.57it/s]\n",
      "                 Class     Images  Instances      Box(P          R      mAP50  mAP50-95)     Mask(P          R      mAP50  mAP50-95): 100%|██████████| 5/5 [00:01<00:00,  4.88it/s]"
     ]
    },
    {
     "name": "stdout",
     "output_type": "stream",
     "text": [
      "                   all         75        150      0.735      0.679      0.647      0.499      0.761      0.698       0.66      0.508\n"
     ]
    },
    {
     "name": "stderr",
     "output_type": "stream",
     "text": [
      "\n"
     ]
    },
    {
     "name": "stdout",
     "output_type": "stream",
     "text": [
      "\n",
      "      Epoch    GPU_mem   box_loss   seg_loss   cls_loss   dfl_loss  Instances       Size\n"
     ]
    },
    {
     "name": "stderr",
     "output_type": "stream",
     "text": [
      "     31/100      12.6G     0.8438      1.356     0.4475      1.172         29        640: 100%|██████████| 112/112 [00:31<00:00,  3.54it/s]\n",
      "                 Class     Images  Instances      Box(P          R      mAP50  mAP50-95)     Mask(P          R      mAP50  mAP50-95): 100%|██████████| 5/5 [00:01<00:00,  4.93it/s]"
     ]
    },
    {
     "name": "stdout",
     "output_type": "stream",
     "text": [
      "                   all         75        150      0.796      0.773      0.741      0.542      0.805      0.785      0.766      0.524\n"
     ]
    },
    {
     "name": "stderr",
     "output_type": "stream",
     "text": [
      "\n"
     ]
    },
    {
     "name": "stdout",
     "output_type": "stream",
     "text": [
      "\n",
      "      Epoch    GPU_mem   box_loss   seg_loss   cls_loss   dfl_loss  Instances       Size\n"
     ]
    },
    {
     "name": "stderr",
     "output_type": "stream",
     "text": [
      "     32/100      11.5G     0.8492      1.349     0.4505      1.172         14        640: 100%|██████████| 112/112 [00:31<00:00,  3.54it/s]\n",
      "                 Class     Images  Instances      Box(P          R      mAP50  mAP50-95)     Mask(P          R      mAP50  mAP50-95): 100%|██████████| 5/5 [00:01<00:00,  4.88it/s]"
     ]
    },
    {
     "name": "stdout",
     "output_type": "stream",
     "text": [
      "                   all         75        150      0.747      0.712      0.668      0.536      0.777      0.736      0.692       0.51\n"
     ]
    },
    {
     "name": "stderr",
     "output_type": "stream",
     "text": [
      "\n"
     ]
    },
    {
     "name": "stdout",
     "output_type": "stream",
     "text": [
      "\n",
      "      Epoch    GPU_mem   box_loss   seg_loss   cls_loss   dfl_loss  Instances       Size\n"
     ]
    },
    {
     "name": "stderr",
     "output_type": "stream",
     "text": [
      "     33/100      11.3G     0.8349       1.35      0.442      1.168         28        640: 100%|██████████| 112/112 [00:31<00:00,  3.53it/s]\n",
      "                 Class     Images  Instances      Box(P          R      mAP50  mAP50-95)     Mask(P          R      mAP50  mAP50-95): 100%|██████████| 5/5 [00:01<00:00,  4.81it/s]"
     ]
    },
    {
     "name": "stdout",
     "output_type": "stream",
     "text": [
      "                   all         75        150      0.806      0.733      0.708      0.554        0.8      0.793      0.739      0.532\n"
     ]
    },
    {
     "name": "stderr",
     "output_type": "stream",
     "text": [
      "\n"
     ]
    },
    {
     "name": "stdout",
     "output_type": "stream",
     "text": [
      "\n",
      "      Epoch    GPU_mem   box_loss   seg_loss   cls_loss   dfl_loss  Instances       Size\n"
     ]
    },
    {
     "name": "stderr",
     "output_type": "stream",
     "text": [
      "     34/100      12.6G     0.8271       1.33     0.4368      1.167         21        640: 100%|██████████| 112/112 [00:31<00:00,  3.55it/s]\n",
      "                 Class     Images  Instances      Box(P          R      mAP50  mAP50-95)     Mask(P          R      mAP50  mAP50-95): 100%|██████████| 5/5 [00:01<00:00,  4.97it/s]"
     ]
    },
    {
     "name": "stdout",
     "output_type": "stream",
     "text": [
      "                   all         75        150      0.819       0.78      0.741      0.542      0.855      0.813       0.81      0.538\n"
     ]
    },
    {
     "name": "stderr",
     "output_type": "stream",
     "text": [
      "\n"
     ]
    },
    {
     "name": "stdout",
     "output_type": "stream",
     "text": [
      "\n",
      "      Epoch    GPU_mem   box_loss   seg_loss   cls_loss   dfl_loss  Instances       Size\n"
     ]
    },
    {
     "name": "stderr",
     "output_type": "stream",
     "text": [
      "     35/100      11.3G     0.8452       1.33     0.4363      1.158         17        640: 100%|██████████| 112/112 [00:31<00:00,  3.52it/s]\n",
      "                 Class     Images  Instances      Box(P          R      mAP50  mAP50-95)     Mask(P          R      mAP50  mAP50-95): 100%|██████████| 5/5 [00:01<00:00,  4.94it/s]"
     ]
    },
    {
     "name": "stdout",
     "output_type": "stream",
     "text": [
      "                   all         75        150      0.803        0.8      0.744      0.572      0.857      0.853      0.809      0.555\n"
     ]
    },
    {
     "name": "stderr",
     "output_type": "stream",
     "text": [
      "\n"
     ]
    },
    {
     "name": "stdout",
     "output_type": "stream",
     "text": [
      "\n",
      "      Epoch    GPU_mem   box_loss   seg_loss   cls_loss   dfl_loss  Instances       Size\n"
     ]
    },
    {
     "name": "stderr",
     "output_type": "stream",
     "text": [
      "     36/100      12.8G     0.8317      1.339      0.438      1.167         22        640: 100%|██████████| 112/112 [00:31<00:00,  3.51it/s]\n",
      "                 Class     Images  Instances      Box(P          R      mAP50  mAP50-95)     Mask(P          R      mAP50  mAP50-95): 100%|██████████| 5/5 [00:01<00:00,  4.65it/s]"
     ]
    },
    {
     "name": "stdout",
     "output_type": "stream",
     "text": [
      "                   all         75        150       0.87      0.878       0.82      0.562      0.935       0.94      0.936      0.572\n"
     ]
    },
    {
     "name": "stderr",
     "output_type": "stream",
     "text": [
      "\n"
     ]
    },
    {
     "name": "stdout",
     "output_type": "stream",
     "text": [
      "\n",
      "      Epoch    GPU_mem   box_loss   seg_loss   cls_loss   dfl_loss  Instances       Size\n"
     ]
    },
    {
     "name": "stderr",
     "output_type": "stream",
     "text": [
      "     37/100      12.5G     0.8078      1.302     0.4235      1.156         25        640: 100%|██████████| 112/112 [00:31<00:00,  3.56it/s]\n",
      "                 Class     Images  Instances      Box(P          R      mAP50  mAP50-95)     Mask(P          R      mAP50  mAP50-95): 100%|██████████| 5/5 [00:01<00:00,  4.86it/s]"
     ]
    },
    {
     "name": "stdout",
     "output_type": "stream",
     "text": [
      "                   all         75        150      0.738      0.727      0.686      0.533      0.726      0.747      0.685      0.516\n"
     ]
    },
    {
     "name": "stderr",
     "output_type": "stream",
     "text": [
      "\n"
     ]
    },
    {
     "name": "stdout",
     "output_type": "stream",
     "text": [
      "\n",
      "      Epoch    GPU_mem   box_loss   seg_loss   cls_loss   dfl_loss  Instances       Size\n"
     ]
    },
    {
     "name": "stderr",
     "output_type": "stream",
     "text": [
      "     38/100      12.5G     0.8291      1.325     0.4309      1.163         15        640: 100%|██████████| 112/112 [00:31<00:00,  3.54it/s]\n",
      "                 Class     Images  Instances      Box(P          R      mAP50  mAP50-95)     Mask(P          R      mAP50  mAP50-95): 100%|██████████| 5/5 [00:01<00:00,  4.97it/s]"
     ]
    },
    {
     "name": "stdout",
     "output_type": "stream",
     "text": [
      "                   all         75        150      0.916      0.907      0.893      0.588      0.951       0.94      0.928      0.582\n"
     ]
    },
    {
     "name": "stderr",
     "output_type": "stream",
     "text": [
      "\n"
     ]
    },
    {
     "name": "stdout",
     "output_type": "stream",
     "text": [
      "\n",
      "      Epoch    GPU_mem   box_loss   seg_loss   cls_loss   dfl_loss  Instances       Size\n"
     ]
    },
    {
     "name": "stderr",
     "output_type": "stream",
     "text": [
      "     39/100      12.5G     0.8311      1.335     0.4201      1.155         22        640: 100%|██████████| 112/112 [00:31<00:00,  3.57it/s]\n",
      "                 Class     Images  Instances      Box(P          R      mAP50  mAP50-95)     Mask(P          R      mAP50  mAP50-95): 100%|██████████| 5/5 [00:01<00:00,  4.82it/s]"
     ]
    },
    {
     "name": "stdout",
     "output_type": "stream",
     "text": [
      "                   all         75        150      0.918      0.906      0.879      0.579      0.925      0.913      0.889      0.558\n"
     ]
    },
    {
     "name": "stderr",
     "output_type": "stream",
     "text": [
      "\n"
     ]
    },
    {
     "name": "stdout",
     "output_type": "stream",
     "text": [
      "\n",
      "      Epoch    GPU_mem   box_loss   seg_loss   cls_loss   dfl_loss  Instances       Size\n"
     ]
    },
    {
     "name": "stderr",
     "output_type": "stream",
     "text": [
      "     40/100      12.6G     0.8084      1.317     0.4149       1.15         29        640: 100%|██████████| 112/112 [00:31<00:00,  3.55it/s]\n",
      "                 Class     Images  Instances      Box(P          R      mAP50  mAP50-95)     Mask(P          R      mAP50  mAP50-95): 100%|██████████| 5/5 [00:01<00:00,  4.85it/s]"
     ]
    },
    {
     "name": "stdout",
     "output_type": "stream",
     "text": [
      "                   all         75        150      0.726      0.707      0.663      0.526      0.794      0.767      0.727       0.51\n"
     ]
    },
    {
     "name": "stderr",
     "output_type": "stream",
     "text": [
      "\n"
     ]
    },
    {
     "name": "stdout",
     "output_type": "stream",
     "text": [
      "\n",
      "      Epoch    GPU_mem   box_loss   seg_loss   cls_loss   dfl_loss  Instances       Size\n"
     ]
    },
    {
     "name": "stderr",
     "output_type": "stream",
     "text": [
      "     41/100      11.3G     0.8202      1.331     0.4092      1.155         25        640: 100%|██████████| 112/112 [00:31<00:00,  3.56it/s]\n",
      "                 Class     Images  Instances      Box(P          R      mAP50  mAP50-95)     Mask(P          R      mAP50  mAP50-95): 100%|██████████| 5/5 [00:00<00:00,  5.02it/s]"
     ]
    },
    {
     "name": "stdout",
     "output_type": "stream",
     "text": [
      "                   all         75        150      0.856      0.833      0.804      0.583      0.861      0.833      0.804      0.547\n"
     ]
    },
    {
     "name": "stderr",
     "output_type": "stream",
     "text": [
      "\n"
     ]
    },
    {
     "name": "stdout",
     "output_type": "stream",
     "text": [
      "\n",
      "      Epoch    GPU_mem   box_loss   seg_loss   cls_loss   dfl_loss  Instances       Size\n"
     ]
    },
    {
     "name": "stderr",
     "output_type": "stream",
     "text": [
      "     42/100      12.6G     0.8171      1.305     0.4092      1.155         21        640: 100%|██████████| 112/112 [00:31<00:00,  3.57it/s]\n",
      "                 Class     Images  Instances      Box(P          R      mAP50  mAP50-95)     Mask(P          R      mAP50  mAP50-95): 100%|██████████| 5/5 [00:01<00:00,  4.94it/s]"
     ]
    },
    {
     "name": "stdout",
     "output_type": "stream",
     "text": [
      "                   all         75        150       0.76      0.767      0.702      0.558      0.813       0.82      0.745      0.548\n"
     ]
    },
    {
     "name": "stderr",
     "output_type": "stream",
     "text": [
      "\n"
     ]
    },
    {
     "name": "stdout",
     "output_type": "stream",
     "text": [
      "\n",
      "      Epoch    GPU_mem   box_loss   seg_loss   cls_loss   dfl_loss  Instances       Size\n"
     ]
    },
    {
     "name": "stderr",
     "output_type": "stream",
     "text": [
      "     43/100      12.6G     0.7931      1.285     0.3992      1.137         27        640: 100%|██████████| 112/112 [00:31<00:00,  3.55it/s]\n",
      "                 Class     Images  Instances      Box(P          R      mAP50  mAP50-95)     Mask(P          R      mAP50  mAP50-95): 100%|██████████| 5/5 [00:01<00:00,  4.85it/s]"
     ]
    },
    {
     "name": "stdout",
     "output_type": "stream",
     "text": [
      "                   all         75        150      0.873      0.877      0.841      0.574        0.9      0.904      0.876      0.559\n"
     ]
    },
    {
     "name": "stderr",
     "output_type": "stream",
     "text": [
      "\n"
     ]
    },
    {
     "name": "stdout",
     "output_type": "stream",
     "text": [
      "\n",
      "      Epoch    GPU_mem   box_loss   seg_loss   cls_loss   dfl_loss  Instances       Size\n"
     ]
    },
    {
     "name": "stderr",
     "output_type": "stream",
     "text": [
      "     44/100      12.6G     0.8044      1.293     0.4001      1.149         20        640: 100%|██████████| 112/112 [00:31<00:00,  3.58it/s]\n",
      "                 Class     Images  Instances      Box(P          R      mAP50  mAP50-95)     Mask(P          R      mAP50  mAP50-95): 100%|██████████| 5/5 [00:01<00:00,  4.82it/s]"
     ]
    },
    {
     "name": "stdout",
     "output_type": "stream",
     "text": [
      "                   all         75        150      0.735      0.697      0.658       0.52      0.771      0.724      0.694      0.505\n"
     ]
    },
    {
     "name": "stderr",
     "output_type": "stream",
     "text": [
      "\n"
     ]
    },
    {
     "name": "stdout",
     "output_type": "stream",
     "text": [
      "\n",
      "      Epoch    GPU_mem   box_loss   seg_loss   cls_loss   dfl_loss  Instances       Size\n"
     ]
    },
    {
     "name": "stderr",
     "output_type": "stream",
     "text": [
      "     45/100      12.6G     0.7749      1.255     0.3913      1.127         29        640: 100%|██████████| 112/112 [00:31<00:00,  3.58it/s]\n",
      "                 Class     Images  Instances      Box(P          R      mAP50  mAP50-95)     Mask(P          R      mAP50  mAP50-95): 100%|██████████| 5/5 [00:01<00:00,  4.94it/s]"
     ]
    },
    {
     "name": "stdout",
     "output_type": "stream",
     "text": [
      "                   all         75        150      0.828       0.82      0.788      0.571      0.849       0.84      0.796      0.549\n"
     ]
    },
    {
     "name": "stderr",
     "output_type": "stream",
     "text": [
      "\n"
     ]
    },
    {
     "name": "stdout",
     "output_type": "stream",
     "text": [
      "\n",
      "      Epoch    GPU_mem   box_loss   seg_loss   cls_loss   dfl_loss  Instances       Size\n"
     ]
    },
    {
     "name": "stderr",
     "output_type": "stream",
     "text": [
      "     46/100      11.3G     0.7704      1.243     0.3883      1.131         30        640: 100%|██████████| 112/112 [00:31<00:00,  3.55it/s]\n",
      "                 Class     Images  Instances      Box(P          R      mAP50  mAP50-95)     Mask(P          R      mAP50  mAP50-95): 100%|██████████| 5/5 [00:01<00:00,  4.79it/s]"
     ]
    },
    {
     "name": "stdout",
     "output_type": "stream",
     "text": [
      "                   all         75        150      0.865      0.873      0.851      0.594      0.838      0.847      0.816      0.571\n"
     ]
    },
    {
     "name": "stderr",
     "output_type": "stream",
     "text": [
      "\n"
     ]
    },
    {
     "name": "stdout",
     "output_type": "stream",
     "text": [
      "\n",
      "      Epoch    GPU_mem   box_loss   seg_loss   cls_loss   dfl_loss  Instances       Size\n"
     ]
    },
    {
     "name": "stderr",
     "output_type": "stream",
     "text": [
      "     47/100      12.6G     0.8084      1.283     0.4042      1.147         25        640: 100%|██████████| 112/112 [00:31<00:00,  3.52it/s]\n",
      "                 Class     Images  Instances      Box(P          R      mAP50  mAP50-95)     Mask(P          R      mAP50  mAP50-95): 100%|██████████| 5/5 [00:01<00:00,  4.96it/s]"
     ]
    },
    {
     "name": "stdout",
     "output_type": "stream",
     "text": [
      "                   all         75        150      0.808       0.82       0.78      0.578      0.828       0.82      0.781      0.554\n"
     ]
    },
    {
     "name": "stderr",
     "output_type": "stream",
     "text": [
      "\n"
     ]
    },
    {
     "name": "stdout",
     "output_type": "stream",
     "text": [
      "\n",
      "      Epoch    GPU_mem   box_loss   seg_loss   cls_loss   dfl_loss  Instances       Size\n"
     ]
    },
    {
     "name": "stderr",
     "output_type": "stream",
     "text": [
      "     48/100      12.7G     0.7784      1.271     0.3854      1.124         22        640: 100%|██████████| 112/112 [00:31<00:00,  3.61it/s]\n",
      "                 Class     Images  Instances      Box(P          R      mAP50  mAP50-95)     Mask(P          R      mAP50  mAP50-95): 100%|██████████| 5/5 [00:01<00:00,  4.74it/s]"
     ]
    },
    {
     "name": "stdout",
     "output_type": "stream",
     "text": [
      "                   all         75        150      0.851       0.86      0.818      0.573      0.857      0.867      0.824      0.554\n"
     ]
    },
    {
     "name": "stderr",
     "output_type": "stream",
     "text": [
      "\n"
     ]
    },
    {
     "name": "stdout",
     "output_type": "stream",
     "text": [
      "\n",
      "      Epoch    GPU_mem   box_loss   seg_loss   cls_loss   dfl_loss  Instances       Size\n"
     ]
    },
    {
     "name": "stderr",
     "output_type": "stream",
     "text": [
      "     49/100      11.4G     0.7893      1.262     0.3904      1.142         24        640: 100%|██████████| 112/112 [00:30<00:00,  3.62it/s]\n",
      "                 Class     Images  Instances      Box(P          R      mAP50  mAP50-95)     Mask(P          R      mAP50  mAP50-95): 100%|██████████| 5/5 [00:00<00:00,  5.03it/s]"
     ]
    },
    {
     "name": "stdout",
     "output_type": "stream",
     "text": [
      "                   all         75        150      0.791      0.764      0.715      0.566      0.843      0.808      0.786      0.551\n"
     ]
    },
    {
     "name": "stderr",
     "output_type": "stream",
     "text": [
      "\n"
     ]
    },
    {
     "name": "stdout",
     "output_type": "stream",
     "text": [
      "\n",
      "      Epoch    GPU_mem   box_loss   seg_loss   cls_loss   dfl_loss  Instances       Size\n"
     ]
    },
    {
     "name": "stderr",
     "output_type": "stream",
     "text": [
      "     50/100      12.6G     0.7752      1.256     0.3898      1.128         20        640: 100%|██████████| 112/112 [00:30<00:00,  3.62it/s]\n",
      "                 Class     Images  Instances      Box(P          R      mAP50  mAP50-95)     Mask(P          R      mAP50  mAP50-95): 100%|██████████| 5/5 [00:00<00:00,  5.11it/s]"
     ]
    },
    {
     "name": "stdout",
     "output_type": "stream",
     "text": [
      "                   all         75        150      0.845       0.84      0.794      0.564      0.866       0.86      0.804      0.552\n"
     ]
    },
    {
     "name": "stderr",
     "output_type": "stream",
     "text": [
      "\n"
     ]
    },
    {
     "name": "stdout",
     "output_type": "stream",
     "text": [
      "\n",
      "      Epoch    GPU_mem   box_loss   seg_loss   cls_loss   dfl_loss  Instances       Size\n"
     ]
    },
    {
     "name": "stderr",
     "output_type": "stream",
     "text": [
      "     51/100      12.5G     0.7796      1.258      0.382       1.13         13        640: 100%|██████████| 112/112 [00:31<00:00,  3.57it/s]\n",
      "                 Class     Images  Instances      Box(P          R      mAP50  mAP50-95)     Mask(P          R      mAP50  mAP50-95): 100%|██████████| 5/5 [00:01<00:00,  4.95it/s]"
     ]
    },
    {
     "name": "stdout",
     "output_type": "stream",
     "text": [
      "                   all         75        150      0.828      0.837      0.779      0.573      0.857      0.852      0.799      0.563\n"
     ]
    },
    {
     "name": "stderr",
     "output_type": "stream",
     "text": [
      "\n"
     ]
    },
    {
     "name": "stdout",
     "output_type": "stream",
     "text": [
      "\n",
      "      Epoch    GPU_mem   box_loss   seg_loss   cls_loss   dfl_loss  Instances       Size\n"
     ]
    },
    {
     "name": "stderr",
     "output_type": "stream",
     "text": [
      "     52/100      12.6G     0.7717      1.255     0.3859      1.127         15        640: 100%|██████████| 112/112 [00:30<00:00,  3.62it/s]\n",
      "                 Class     Images  Instances      Box(P          R      mAP50  mAP50-95)     Mask(P          R      mAP50  mAP50-95): 100%|██████████| 5/5 [00:00<00:00,  5.06it/s]"
     ]
    },
    {
     "name": "stdout",
     "output_type": "stream",
     "text": [
      "                   all         75        150      0.777      0.744      0.733      0.564      0.785       0.75      0.735      0.538\n"
     ]
    },
    {
     "name": "stderr",
     "output_type": "stream",
     "text": [
      "\n"
     ]
    },
    {
     "name": "stdout",
     "output_type": "stream",
     "text": [
      "\n",
      "      Epoch    GPU_mem   box_loss   seg_loss   cls_loss   dfl_loss  Instances       Size\n"
     ]
    },
    {
     "name": "stderr",
     "output_type": "stream",
     "text": [
      "     53/100      12.8G     0.7628      1.224     0.3739      1.112         19        640: 100%|██████████| 112/112 [00:31<00:00,  3.61it/s]\n",
      "                 Class     Images  Instances      Box(P          R      mAP50  mAP50-95)     Mask(P          R      mAP50  mAP50-95): 100%|██████████| 5/5 [00:01<00:00,  4.95it/s]"
     ]
    },
    {
     "name": "stdout",
     "output_type": "stream",
     "text": [
      "                   all         75        150      0.809        0.8      0.774      0.578      0.851      0.846      0.816       0.56\n"
     ]
    },
    {
     "name": "stderr",
     "output_type": "stream",
     "text": [
      "\n"
     ]
    },
    {
     "name": "stdout",
     "output_type": "stream",
     "text": [
      "\n",
      "      Epoch    GPU_mem   box_loss   seg_loss   cls_loss   dfl_loss  Instances       Size\n"
     ]
    },
    {
     "name": "stderr",
     "output_type": "stream",
     "text": [
      "     54/100      11.3G     0.7457      1.219     0.3719      1.112         29        640: 100%|██████████| 112/112 [00:31<00:00,  3.60it/s]\n",
      "                 Class     Images  Instances      Box(P          R      mAP50  mAP50-95)     Mask(P          R      mAP50  mAP50-95): 100%|██████████| 5/5 [00:00<00:00,  5.01it/s]"
     ]
    },
    {
     "name": "stdout",
     "output_type": "stream",
     "text": [
      "                   all         75        150      0.829      0.849       0.79       0.58      0.869      0.867      0.833      0.555\n"
     ]
    },
    {
     "name": "stderr",
     "output_type": "stream",
     "text": [
      "\n"
     ]
    },
    {
     "name": "stdout",
     "output_type": "stream",
     "text": [
      "\n",
      "      Epoch    GPU_mem   box_loss   seg_loss   cls_loss   dfl_loss  Instances       Size\n"
     ]
    },
    {
     "name": "stderr",
     "output_type": "stream",
     "text": [
      "     55/100      12.6G     0.7616       1.24     0.3765      1.117         28        640: 100%|██████████| 112/112 [00:30<00:00,  3.63it/s]\n",
      "                 Class     Images  Instances      Box(P          R      mAP50  mAP50-95)     Mask(P          R      mAP50  mAP50-95): 100%|██████████| 5/5 [00:01<00:00,  4.95it/s]"
     ]
    },
    {
     "name": "stdout",
     "output_type": "stream",
     "text": [
      "                   all         75        150       0.83       0.84      0.799        0.6       0.87       0.86      0.841      0.594\n"
     ]
    },
    {
     "name": "stderr",
     "output_type": "stream",
     "text": [
      "\n"
     ]
    },
    {
     "name": "stdout",
     "output_type": "stream",
     "text": [
      "\n",
      "      Epoch    GPU_mem   box_loss   seg_loss   cls_loss   dfl_loss  Instances       Size\n"
     ]
    },
    {
     "name": "stderr",
     "output_type": "stream",
     "text": [
      "     56/100      12.6G     0.7734       1.24     0.3762       1.13         21        640: 100%|██████████| 112/112 [00:30<00:00,  3.62it/s]\n",
      "                 Class     Images  Instances      Box(P          R      mAP50  mAP50-95)     Mask(P          R      mAP50  mAP50-95): 100%|██████████| 5/5 [00:00<00:00,  5.05it/s]"
     ]
    },
    {
     "name": "stdout",
     "output_type": "stream",
     "text": [
      "                   all         75        150      0.834      0.853      0.794      0.584      0.909      0.879      0.869      0.577\n"
     ]
    },
    {
     "name": "stderr",
     "output_type": "stream",
     "text": [
      "\n"
     ]
    },
    {
     "name": "stdout",
     "output_type": "stream",
     "text": [
      "\n",
      "      Epoch    GPU_mem   box_loss   seg_loss   cls_loss   dfl_loss  Instances       Size\n"
     ]
    },
    {
     "name": "stderr",
     "output_type": "stream",
     "text": [
      "     57/100      11.3G     0.7426      1.203     0.3643       1.11         29        640: 100%|██████████| 112/112 [00:31<00:00,  3.60it/s]\n",
      "                 Class     Images  Instances      Box(P          R      mAP50  mAP50-95)     Mask(P          R      mAP50  mAP50-95): 100%|██████████| 5/5 [00:01<00:00,  4.92it/s]"
     ]
    },
    {
     "name": "stdout",
     "output_type": "stream",
     "text": [
      "                   all         75        150      0.816      0.833      0.766      0.576      0.807       0.82      0.752      0.545\n"
     ]
    },
    {
     "name": "stderr",
     "output_type": "stream",
     "text": [
      "\n"
     ]
    },
    {
     "name": "stdout",
     "output_type": "stream",
     "text": [
      "\n",
      "      Epoch    GPU_mem   box_loss   seg_loss   cls_loss   dfl_loss  Instances       Size\n"
     ]
    },
    {
     "name": "stderr",
     "output_type": "stream",
     "text": [
      "     58/100      11.3G     0.7379       1.18     0.3623      1.106         33        640: 100%|██████████| 112/112 [00:31<00:00,  3.61it/s]\n",
      "                 Class     Images  Instances      Box(P          R      mAP50  mAP50-95)     Mask(P          R      mAP50  mAP50-95): 100%|██████████| 5/5 [00:01<00:00,  4.91it/s]"
     ]
    },
    {
     "name": "stdout",
     "output_type": "stream",
     "text": [
      "                   all         75        150      0.926      0.743      0.802       0.58      0.935      0.766      0.847      0.552\n"
     ]
    },
    {
     "name": "stderr",
     "output_type": "stream",
     "text": [
      "\n"
     ]
    },
    {
     "name": "stdout",
     "output_type": "stream",
     "text": [
      "\n",
      "      Epoch    GPU_mem   box_loss   seg_loss   cls_loss   dfl_loss  Instances       Size\n"
     ]
    },
    {
     "name": "stderr",
     "output_type": "stream",
     "text": [
      "     59/100      12.7G     0.7518      1.214     0.3614      1.109         17        640: 100%|██████████| 112/112 [00:31<00:00,  3.60it/s]\n",
      "                 Class     Images  Instances      Box(P          R      mAP50  mAP50-95)     Mask(P          R      mAP50  mAP50-95): 100%|██████████| 5/5 [00:00<00:00,  5.08it/s]"
     ]
    },
    {
     "name": "stdout",
     "output_type": "stream",
     "text": [
      "                   all         75        150      0.857      0.855      0.852      0.615      0.903      0.885        0.9      0.587\n"
     ]
    },
    {
     "name": "stderr",
     "output_type": "stream",
     "text": [
      "\n"
     ]
    },
    {
     "name": "stdout",
     "output_type": "stream",
     "text": [
      "\n",
      "      Epoch    GPU_mem   box_loss   seg_loss   cls_loss   dfl_loss  Instances       Size\n"
     ]
    },
    {
     "name": "stderr",
     "output_type": "stream",
     "text": [
      "     60/100      12.6G     0.7365      1.201     0.3592      1.098         17        640: 100%|██████████| 112/112 [00:31<00:00,  3.61it/s]\n",
      "                 Class     Images  Instances      Box(P          R      mAP50  mAP50-95)     Mask(P          R      mAP50  mAP50-95): 100%|██████████| 5/5 [00:00<00:00,  5.06it/s]"
     ]
    },
    {
     "name": "stdout",
     "output_type": "stream",
     "text": [
      "                   all         75        150      0.819       0.81      0.768      0.573      0.866      0.853      0.831      0.569\n"
     ]
    },
    {
     "name": "stderr",
     "output_type": "stream",
     "text": [
      "\n"
     ]
    },
    {
     "name": "stdout",
     "output_type": "stream",
     "text": [
      "\n",
      "      Epoch    GPU_mem   box_loss   seg_loss   cls_loss   dfl_loss  Instances       Size\n"
     ]
    },
    {
     "name": "stderr",
     "output_type": "stream",
     "text": [
      "     61/100      12.6G     0.7313       1.18      0.355      1.099         22        640: 100%|██████████| 112/112 [00:31<00:00,  3.59it/s]\n",
      "                 Class     Images  Instances      Box(P          R      mAP50  mAP50-95)     Mask(P          R      mAP50  mAP50-95): 100%|██████████| 5/5 [00:01<00:00,  4.93it/s]"
     ]
    },
    {
     "name": "stdout",
     "output_type": "stream",
     "text": [
      "                   all         75        150      0.874      0.887      0.851      0.599      0.876      0.873      0.845      0.573\n"
     ]
    },
    {
     "name": "stderr",
     "output_type": "stream",
     "text": [
      "\n"
     ]
    },
    {
     "name": "stdout",
     "output_type": "stream",
     "text": [
      "\n",
      "      Epoch    GPU_mem   box_loss   seg_loss   cls_loss   dfl_loss  Instances       Size\n"
     ]
    },
    {
     "name": "stderr",
     "output_type": "stream",
     "text": [
      "     62/100      12.6G     0.7437      1.207     0.3655       1.11         14        640: 100%|██████████| 112/112 [00:31<00:00,  3.60it/s]\n",
      "                 Class     Images  Instances      Box(P          R      mAP50  mAP50-95)     Mask(P          R      mAP50  mAP50-95): 100%|██████████| 5/5 [00:01<00:00,  4.85it/s]"
     ]
    },
    {
     "name": "stdout",
     "output_type": "stream",
     "text": [
      "                   all         75        150      0.916      0.887      0.902      0.619      0.935      0.893      0.914      0.599\n"
     ]
    },
    {
     "name": "stderr",
     "output_type": "stream",
     "text": [
      "\n"
     ]
    },
    {
     "name": "stdout",
     "output_type": "stream",
     "text": [
      "\n",
      "      Epoch    GPU_mem   box_loss   seg_loss   cls_loss   dfl_loss  Instances       Size\n"
     ]
    },
    {
     "name": "stderr",
     "output_type": "stream",
     "text": [
      "     63/100      12.6G     0.7294      1.172     0.3571      1.096         22        640: 100%|██████████| 112/112 [00:31<00:00,  3.57it/s]\n",
      "                 Class     Images  Instances      Box(P          R      mAP50  mAP50-95)     Mask(P          R      mAP50  mAP50-95): 100%|██████████| 5/5 [00:01<00:00,  4.97it/s]"
     ]
    },
    {
     "name": "stdout",
     "output_type": "stream",
     "text": [
      "                   all         75        150      0.822      0.833      0.791      0.597      0.891      0.863      0.865      0.582\n"
     ]
    },
    {
     "name": "stderr",
     "output_type": "stream",
     "text": [
      "\n"
     ]
    },
    {
     "name": "stdout",
     "output_type": "stream",
     "text": [
      "\n",
      "      Epoch    GPU_mem   box_loss   seg_loss   cls_loss   dfl_loss  Instances       Size\n"
     ]
    },
    {
     "name": "stderr",
     "output_type": "stream",
     "text": [
      "     64/100      12.8G     0.7271      1.175     0.3575      1.103         14        640: 100%|██████████| 112/112 [00:31<00:00,  3.61it/s]\n",
      "                 Class     Images  Instances      Box(P          R      mAP50  mAP50-95)     Mask(P          R      mAP50  mAP50-95): 100%|██████████| 5/5 [00:01<00:00,  4.91it/s]"
     ]
    },
    {
     "name": "stdout",
     "output_type": "stream",
     "text": [
      "                   all         75        150      0.885      0.891      0.911      0.631       0.91        0.9      0.929      0.621\n"
     ]
    },
    {
     "name": "stderr",
     "output_type": "stream",
     "text": [
      "\n"
     ]
    },
    {
     "name": "stdout",
     "output_type": "stream",
     "text": [
      "\n",
      "      Epoch    GPU_mem   box_loss   seg_loss   cls_loss   dfl_loss  Instances       Size\n"
     ]
    },
    {
     "name": "stderr",
     "output_type": "stream",
     "text": [
      "     65/100      12.6G      0.713      1.131     0.3524      1.084         30        640: 100%|██████████| 112/112 [00:30<00:00,  3.62it/s]\n",
      "                 Class     Images  Instances      Box(P          R      mAP50  mAP50-95)     Mask(P          R      mAP50  mAP50-95): 100%|██████████| 5/5 [00:00<00:00,  5.03it/s]"
     ]
    },
    {
     "name": "stdout",
     "output_type": "stream",
     "text": [
      "                   all         75        150      0.855      0.863      0.834      0.593      0.855      0.863      0.841      0.574\n"
     ]
    },
    {
     "name": "stderr",
     "output_type": "stream",
     "text": [
      "\n"
     ]
    },
    {
     "name": "stdout",
     "output_type": "stream",
     "text": [
      "\n",
      "      Epoch    GPU_mem   box_loss   seg_loss   cls_loss   dfl_loss  Instances       Size\n"
     ]
    },
    {
     "name": "stderr",
     "output_type": "stream",
     "text": [
      "     66/100      12.8G     0.7298      1.176     0.3574       1.09         24        640: 100%|██████████| 112/112 [00:30<00:00,  3.61it/s]\n",
      "                 Class     Images  Instances      Box(P          R      mAP50  mAP50-95)     Mask(P          R      mAP50  mAP50-95): 100%|██████████| 5/5 [00:00<00:00,  5.07it/s]"
     ]
    },
    {
     "name": "stdout",
     "output_type": "stream",
     "text": [
      "                   all         75        150      0.797      0.783       0.75      0.567      0.841      0.813      0.778      0.556\n"
     ]
    },
    {
     "name": "stderr",
     "output_type": "stream",
     "text": [
      "\n"
     ]
    },
    {
     "name": "stdout",
     "output_type": "stream",
     "text": [
      "\n",
      "      Epoch    GPU_mem   box_loss   seg_loss   cls_loss   dfl_loss  Instances       Size\n"
     ]
    },
    {
     "name": "stderr",
     "output_type": "stream",
     "text": [
      "     67/100      12.8G     0.7213      1.172     0.3484      1.092         24        640: 100%|██████████| 112/112 [00:31<00:00,  3.61it/s]\n",
      "                 Class     Images  Instances      Box(P          R      mAP50  mAP50-95)     Mask(P          R      mAP50  mAP50-95): 100%|██████████| 5/5 [00:00<00:00,  5.00it/s]"
     ]
    },
    {
     "name": "stdout",
     "output_type": "stream",
     "text": [
      "                   all         75        150      0.809      0.773      0.733      0.563      0.862      0.813      0.779      0.545\n"
     ]
    },
    {
     "name": "stderr",
     "output_type": "stream",
     "text": [
      "\n"
     ]
    },
    {
     "name": "stdout",
     "output_type": "stream",
     "text": [
      "\n",
      "      Epoch    GPU_mem   box_loss   seg_loss   cls_loss   dfl_loss  Instances       Size\n"
     ]
    },
    {
     "name": "stderr",
     "output_type": "stream",
     "text": [
      "     68/100      12.6G     0.7049      1.144     0.3443      1.086         24        640: 100%|██████████| 112/112 [00:30<00:00,  3.62it/s]\n",
      "                 Class     Images  Instances      Box(P          R      mAP50  mAP50-95)     Mask(P          R      mAP50  mAP50-95): 100%|██████████| 5/5 [00:00<00:00,  5.01it/s]"
     ]
    },
    {
     "name": "stdout",
     "output_type": "stream",
     "text": [
      "                   all         75        150      0.854      0.845      0.811      0.603       0.91      0.898      0.891      0.592\n"
     ]
    },
    {
     "name": "stderr",
     "output_type": "stream",
     "text": [
      "\n"
     ]
    },
    {
     "name": "stdout",
     "output_type": "stream",
     "text": [
      "\n",
      "      Epoch    GPU_mem   box_loss   seg_loss   cls_loss   dfl_loss  Instances       Size\n"
     ]
    },
    {
     "name": "stderr",
     "output_type": "stream",
     "text": [
      "     69/100      12.5G     0.7005      1.146     0.3453      1.074         28        640: 100%|██████████| 112/112 [00:31<00:00,  3.61it/s]\n",
      "                 Class     Images  Instances      Box(P          R      mAP50  mAP50-95)     Mask(P          R      mAP50  mAP50-95): 100%|██████████| 5/5 [00:01<00:00,  4.81it/s]"
     ]
    },
    {
     "name": "stdout",
     "output_type": "stream",
     "text": [
      "                   all         75        150      0.875      0.864      0.836      0.598       0.92      0.893      0.908      0.583\n"
     ]
    },
    {
     "name": "stderr",
     "output_type": "stream",
     "text": [
      "\n"
     ]
    },
    {
     "name": "stdout",
     "output_type": "stream",
     "text": [
      "\n",
      "      Epoch    GPU_mem   box_loss   seg_loss   cls_loss   dfl_loss  Instances       Size\n"
     ]
    },
    {
     "name": "stderr",
     "output_type": "stream",
     "text": [
      "     70/100      12.6G     0.7045      1.146     0.3359      1.073         25        640: 100%|██████████| 112/112 [00:30<00:00,  3.62it/s]\n",
      "                 Class     Images  Instances      Box(P          R      mAP50  mAP50-95)     Mask(P          R      mAP50  mAP50-95): 100%|██████████| 5/5 [00:00<00:00,  5.03it/s]"
     ]
    },
    {
     "name": "stdout",
     "output_type": "stream",
     "text": [
      "                   all         75        150      0.775       0.76      0.724      0.562       0.79      0.773      0.765      0.541\n"
     ]
    },
    {
     "name": "stderr",
     "output_type": "stream",
     "text": [
      "\n"
     ]
    },
    {
     "name": "stdout",
     "output_type": "stream",
     "text": [
      "\n",
      "      Epoch    GPU_mem   box_loss   seg_loss   cls_loss   dfl_loss  Instances       Size\n"
     ]
    },
    {
     "name": "stderr",
     "output_type": "stream",
     "text": [
      "     71/100      12.6G     0.6979       1.15     0.3464      1.081         16        640: 100%|██████████| 112/112 [00:31<00:00,  3.60it/s]\n",
      "                 Class     Images  Instances      Box(P          R      mAP50  mAP50-95)     Mask(P          R      mAP50  mAP50-95): 100%|██████████| 5/5 [00:00<00:00,  5.03it/s]"
     ]
    },
    {
     "name": "stdout",
     "output_type": "stream",
     "text": [
      "                   all         75        150      0.747       0.77      0.681      0.562      0.783       0.78      0.723      0.532\n"
     ]
    },
    {
     "name": "stderr",
     "output_type": "stream",
     "text": [
      "\n"
     ]
    },
    {
     "name": "stdout",
     "output_type": "stream",
     "text": [
      "\n",
      "      Epoch    GPU_mem   box_loss   seg_loss   cls_loss   dfl_loss  Instances       Size\n"
     ]
    },
    {
     "name": "stderr",
     "output_type": "stream",
     "text": [
      "     72/100      12.8G     0.6873      1.118     0.3348      1.071         26        640: 100%|██████████| 112/112 [00:31<00:00,  3.59it/s]\n",
      "                 Class     Images  Instances      Box(P          R      mAP50  mAP50-95)     Mask(P          R      mAP50  mAP50-95): 100%|██████████| 5/5 [00:00<00:00,  5.00it/s]"
     ]
    },
    {
     "name": "stdout",
     "output_type": "stream",
     "text": [
      "                   all         75        150      0.796       0.74      0.707      0.561      0.865      0.793      0.785      0.539\n"
     ]
    },
    {
     "name": "stderr",
     "output_type": "stream",
     "text": [
      "\n"
     ]
    },
    {
     "name": "stdout",
     "output_type": "stream",
     "text": [
      "\n",
      "      Epoch    GPU_mem   box_loss   seg_loss   cls_loss   dfl_loss  Instances       Size\n"
     ]
    },
    {
     "name": "stderr",
     "output_type": "stream",
     "text": [
      "     73/100      11.3G     0.6923      1.131     0.3348      1.066         19        640: 100%|██████████| 112/112 [00:30<00:00,  3.62it/s]\n",
      "                 Class     Images  Instances      Box(P          R      mAP50  mAP50-95)     Mask(P          R      mAP50  mAP50-95): 100%|██████████| 5/5 [00:00<00:00,  5.01it/s]"
     ]
    },
    {
     "name": "stdout",
     "output_type": "stream",
     "text": [
      "                   all         75        150      0.902      0.914      0.912      0.611      0.928       0.92      0.915      0.605\n"
     ]
    },
    {
     "name": "stderr",
     "output_type": "stream",
     "text": [
      "\n"
     ]
    },
    {
     "name": "stdout",
     "output_type": "stream",
     "text": [
      "\n",
      "      Epoch    GPU_mem   box_loss   seg_loss   cls_loss   dfl_loss  Instances       Size\n"
     ]
    },
    {
     "name": "stderr",
     "output_type": "stream",
     "text": [
      "     74/100      12.6G     0.6973      1.131     0.3402      1.075         13        640: 100%|██████████| 112/112 [00:31<00:00,  3.61it/s]\n",
      "                 Class     Images  Instances      Box(P          R      mAP50  mAP50-95)     Mask(P          R      mAP50  mAP50-95): 100%|██████████| 5/5 [00:01<00:00,  4.95it/s]"
     ]
    },
    {
     "name": "stdout",
     "output_type": "stream",
     "text": [
      "                   all         75        150      0.866       0.86      0.817      0.588      0.902      0.879      0.861      0.581\n"
     ]
    },
    {
     "name": "stderr",
     "output_type": "stream",
     "text": [
      "\n"
     ]
    },
    {
     "name": "stdout",
     "output_type": "stream",
     "text": [
      "\n",
      "      Epoch    GPU_mem   box_loss   seg_loss   cls_loss   dfl_loss  Instances       Size\n"
     ]
    },
    {
     "name": "stderr",
     "output_type": "stream",
     "text": [
      "     75/100      12.8G     0.6934      1.128     0.3314      1.066         28        640: 100%|██████████| 112/112 [00:30<00:00,  3.62it/s]\n",
      "                 Class     Images  Instances      Box(P          R      mAP50  mAP50-95)     Mask(P          R      mAP50  mAP50-95): 100%|██████████| 5/5 [00:00<00:00,  5.04it/s]"
     ]
    },
    {
     "name": "stdout",
     "output_type": "stream",
     "text": [
      "                   all         75        150      0.871      0.846       0.86      0.619      0.928      0.894      0.933      0.605\n"
     ]
    },
    {
     "name": "stderr",
     "output_type": "stream",
     "text": [
      "\n"
     ]
    },
    {
     "name": "stdout",
     "output_type": "stream",
     "text": [
      "\n",
      "      Epoch    GPU_mem   box_loss   seg_loss   cls_loss   dfl_loss  Instances       Size\n"
     ]
    },
    {
     "name": "stderr",
     "output_type": "stream",
     "text": [
      "     76/100      12.6G     0.6821       1.12     0.3241      1.068         27        640: 100%|██████████| 112/112 [00:30<00:00,  3.64it/s]\n",
      "                 Class     Images  Instances      Box(P          R      mAP50  mAP50-95)     Mask(P          R      mAP50  mAP50-95): 100%|██████████| 5/5 [00:01<00:00,  4.99it/s]"
     ]
    },
    {
     "name": "stdout",
     "output_type": "stream",
     "text": [
      "                   all         75        150      0.853      0.853      0.835      0.612      0.919      0.867       0.89      0.595\n"
     ]
    },
    {
     "name": "stderr",
     "output_type": "stream",
     "text": [
      "\n"
     ]
    },
    {
     "name": "stdout",
     "output_type": "stream",
     "text": [
      "\n",
      "      Epoch    GPU_mem   box_loss   seg_loss   cls_loss   dfl_loss  Instances       Size\n"
     ]
    },
    {
     "name": "stderr",
     "output_type": "stream",
     "text": [
      "     77/100      11.3G     0.6714      1.097     0.3193      1.062         26        640: 100%|██████████| 112/112 [00:30<00:00,  3.62it/s]\n",
      "                 Class     Images  Instances      Box(P          R      mAP50  mAP50-95)     Mask(P          R      mAP50  mAP50-95): 100%|██████████| 5/5 [00:01<00:00,  4.99it/s]"
     ]
    },
    {
     "name": "stdout",
     "output_type": "stream",
     "text": [
      "                   all         75        150      0.821      0.793      0.756      0.583      0.875       0.84      0.848      0.568\n"
     ]
    },
    {
     "name": "stderr",
     "output_type": "stream",
     "text": [
      "\n"
     ]
    },
    {
     "name": "stdout",
     "output_type": "stream",
     "text": [
      "\n",
      "      Epoch    GPU_mem   box_loss   seg_loss   cls_loss   dfl_loss  Instances       Size\n"
     ]
    },
    {
     "name": "stderr",
     "output_type": "stream",
     "text": [
      "     78/100      11.3G     0.6731      1.078     0.3205      1.057         33        640: 100%|██████████| 112/112 [00:31<00:00,  3.60it/s]\n",
      "                 Class     Images  Instances      Box(P          R      mAP50  mAP50-95)     Mask(P          R      mAP50  mAP50-95): 100%|██████████| 5/5 [00:01<00:00,  4.77it/s]"
     ]
    },
    {
     "name": "stdout",
     "output_type": "stream",
     "text": [
      "                   all         75        150      0.793      0.765       0.73      0.569      0.845      0.812      0.801      0.542\n"
     ]
    },
    {
     "name": "stderr",
     "output_type": "stream",
     "text": [
      "\n"
     ]
    },
    {
     "name": "stdout",
     "output_type": "stream",
     "text": [
      "\n",
      "      Epoch    GPU_mem   box_loss   seg_loss   cls_loss   dfl_loss  Instances       Size\n"
     ]
    },
    {
     "name": "stderr",
     "output_type": "stream",
     "text": [
      "     79/100      12.6G     0.6591      1.077     0.3197       1.06         19        640: 100%|██████████| 112/112 [00:30<00:00,  3.63it/s]\n",
      "                 Class     Images  Instances      Box(P          R      mAP50  mAP50-95)     Mask(P          R      mAP50  mAP50-95): 100%|██████████| 5/5 [00:01<00:00,  4.79it/s]"
     ]
    },
    {
     "name": "stdout",
     "output_type": "stream",
     "text": [
      "                   all         75        150        0.8      0.807      0.735      0.578      0.853       0.86      0.815       0.56\n"
     ]
    },
    {
     "name": "stderr",
     "output_type": "stream",
     "text": [
      "\n"
     ]
    },
    {
     "name": "stdout",
     "output_type": "stream",
     "text": [
      "\n",
      "      Epoch    GPU_mem   box_loss   seg_loss   cls_loss   dfl_loss  Instances       Size\n"
     ]
    },
    {
     "name": "stderr",
     "output_type": "stream",
     "text": [
      "     80/100      12.6G     0.6615      1.067     0.3176      1.045         18        640: 100%|██████████| 112/112 [00:31<00:00,  3.59it/s]\n",
      "                 Class     Images  Instances      Box(P          R      mAP50  mAP50-95)     Mask(P          R      mAP50  mAP50-95): 100%|██████████| 5/5 [00:01<00:00,  4.88it/s]"
     ]
    },
    {
     "name": "stdout",
     "output_type": "stream",
     "text": [
      "                   all         75        150      0.845      0.867      0.827      0.611      0.899        0.9      0.888        0.6\n"
     ]
    },
    {
     "name": "stderr",
     "output_type": "stream",
     "text": [
      "\n"
     ]
    },
    {
     "name": "stdout",
     "output_type": "stream",
     "text": [
      "\n",
      "      Epoch    GPU_mem   box_loss   seg_loss   cls_loss   dfl_loss  Instances       Size\n"
     ]
    },
    {
     "name": "stderr",
     "output_type": "stream",
     "text": [
      "     81/100      12.6G     0.6582      1.079     0.3189      1.062         20        640: 100%|██████████| 112/112 [00:31<00:00,  3.60it/s]\n",
      "                 Class     Images  Instances      Box(P          R      mAP50  mAP50-95)     Mask(P          R      mAP50  mAP50-95): 100%|██████████| 5/5 [00:00<00:00,  5.10it/s]"
     ]
    },
    {
     "name": "stdout",
     "output_type": "stream",
     "text": [
      "                   all         75        150      0.858      0.872      0.827      0.616      0.917      0.893      0.896        0.6\n"
     ]
    },
    {
     "name": "stderr",
     "output_type": "stream",
     "text": [
      "\n"
     ]
    },
    {
     "name": "stdout",
     "output_type": "stream",
     "text": [
      "\n",
      "      Epoch    GPU_mem   box_loss   seg_loss   cls_loss   dfl_loss  Instances       Size\n"
     ]
    },
    {
     "name": "stderr",
     "output_type": "stream",
     "text": [
      "     82/100      11.3G     0.6609      1.063     0.3151       1.05         14        640: 100%|██████████| 112/112 [00:31<00:00,  3.60it/s]\n",
      "                 Class     Images  Instances      Box(P          R      mAP50  mAP50-95)     Mask(P          R      mAP50  mAP50-95): 100%|██████████| 5/5 [00:01<00:00,  4.91it/s]"
     ]
    },
    {
     "name": "stdout",
     "output_type": "stream",
     "text": [
      "                   all         75        150      0.894      0.873      0.872      0.631      0.909      0.887      0.903       0.62\n"
     ]
    },
    {
     "name": "stderr",
     "output_type": "stream",
     "text": [
      "\n"
     ]
    },
    {
     "name": "stdout",
     "output_type": "stream",
     "text": [
      "\n",
      "      Epoch    GPU_mem   box_loss   seg_loss   cls_loss   dfl_loss  Instances       Size\n"
     ]
    },
    {
     "name": "stderr",
     "output_type": "stream",
     "text": [
      "     83/100      12.7G      0.661      1.087     0.3132      1.047         26        640: 100%|██████████| 112/112 [00:31<00:00,  3.60it/s]\n",
      "                 Class     Images  Instances      Box(P          R      mAP50  mAP50-95)     Mask(P          R      mAP50  mAP50-95): 100%|██████████| 5/5 [00:01<00:00,  4.98it/s]"
     ]
    },
    {
     "name": "stdout",
     "output_type": "stream",
     "text": [
      "                   all         75        150      0.821      0.815      0.793       0.59      0.848       0.84      0.835      0.567\n"
     ]
    },
    {
     "name": "stderr",
     "output_type": "stream",
     "text": [
      "\n"
     ]
    },
    {
     "name": "stdout",
     "output_type": "stream",
     "text": [
      "\n",
      "      Epoch    GPU_mem   box_loss   seg_loss   cls_loss   dfl_loss  Instances       Size\n"
     ]
    },
    {
     "name": "stderr",
     "output_type": "stream",
     "text": [
      "     84/100      12.8G      0.654      1.067     0.3156      1.051         23        640: 100%|██████████| 112/112 [00:30<00:00,  3.63it/s]\n",
      "                 Class     Images  Instances      Box(P          R      mAP50  mAP50-95)     Mask(P          R      mAP50  mAP50-95): 100%|██████████| 5/5 [00:00<00:00,  5.00it/s]"
     ]
    },
    {
     "name": "stdout",
     "output_type": "stream",
     "text": [
      "                   all         75        150      0.866      0.873      0.847      0.606      0.904      0.893      0.861      0.592\n"
     ]
    },
    {
     "name": "stderr",
     "output_type": "stream",
     "text": [
      "\n"
     ]
    },
    {
     "name": "stdout",
     "output_type": "stream",
     "text": [
      "\n",
      "      Epoch    GPU_mem   box_loss   seg_loss   cls_loss   dfl_loss  Instances       Size\n"
     ]
    },
    {
     "name": "stderr",
     "output_type": "stream",
     "text": [
      "     85/100      12.7G     0.6524      1.071     0.3109      1.052         16        640: 100%|██████████| 112/112 [00:31<00:00,  3.58it/s]\n",
      "                 Class     Images  Instances      Box(P          R      mAP50  mAP50-95)     Mask(P          R      mAP50  mAP50-95): 100%|██████████| 5/5 [00:01<00:00,  4.80it/s]"
     ]
    },
    {
     "name": "stdout",
     "output_type": "stream",
     "text": [
      "                   all         75        150      0.839      0.833      0.802        0.6      0.848       0.84      0.811      0.574\n"
     ]
    },
    {
     "name": "stderr",
     "output_type": "stream",
     "text": [
      "\n"
     ]
    },
    {
     "name": "stdout",
     "output_type": "stream",
     "text": [
      "\n",
      "      Epoch    GPU_mem   box_loss   seg_loss   cls_loss   dfl_loss  Instances       Size\n"
     ]
    },
    {
     "name": "stderr",
     "output_type": "stream",
     "text": [
      "     86/100      12.5G     0.6444      1.074     0.3074      1.042         15        640: 100%|██████████| 112/112 [00:30<00:00,  3.62it/s]\n",
      "                 Class     Images  Instances      Box(P          R      mAP50  mAP50-95)     Mask(P          R      mAP50  mAP50-95): 100%|██████████| 5/5 [00:01<00:00,  4.95it/s]"
     ]
    },
    {
     "name": "stdout",
     "output_type": "stream",
     "text": [
      "                   all         75        150      0.839      0.847      0.825      0.609       0.88      0.887      0.886      0.593\n"
     ]
    },
    {
     "name": "stderr",
     "output_type": "stream",
     "text": [
      "\n"
     ]
    },
    {
     "name": "stdout",
     "output_type": "stream",
     "text": [
      "\n",
      "      Epoch    GPU_mem   box_loss   seg_loss   cls_loss   dfl_loss  Instances       Size\n"
     ]
    },
    {
     "name": "stderr",
     "output_type": "stream",
     "text": [
      "     87/100      12.7G     0.6429      1.045     0.3084      1.039         16        640: 100%|██████████| 112/112 [00:30<00:00,  3.63it/s]\n",
      "                 Class     Images  Instances      Box(P          R      mAP50  mAP50-95)     Mask(P          R      mAP50  mAP50-95): 100%|██████████| 5/5 [00:01<00:00,  4.96it/s]"
     ]
    },
    {
     "name": "stdout",
     "output_type": "stream",
     "text": [
      "                   all         75        150      0.792        0.8      0.737      0.575      0.863      0.853       0.83      0.558\n"
     ]
    },
    {
     "name": "stderr",
     "output_type": "stream",
     "text": [
      "\n"
     ]
    },
    {
     "name": "stdout",
     "output_type": "stream",
     "text": [
      "\n",
      "      Epoch    GPU_mem   box_loss   seg_loss   cls_loss   dfl_loss  Instances       Size\n"
     ]
    },
    {
     "name": "stderr",
     "output_type": "stream",
     "text": [
      "     88/100      12.6G     0.6251      1.034     0.2969      1.036         27        640: 100%|██████████| 112/112 [00:31<00:00,  3.61it/s]\n",
      "                 Class     Images  Instances      Box(P          R      mAP50  mAP50-95)     Mask(P          R      mAP50  mAP50-95): 100%|██████████| 5/5 [00:01<00:00,  4.76it/s]"
     ]
    },
    {
     "name": "stdout",
     "output_type": "stream",
     "text": [
      "                   all         75        150       0.87      0.883      0.852      0.621        0.9      0.907      0.897      0.601\n"
     ]
    },
    {
     "name": "stderr",
     "output_type": "stream",
     "text": [
      "\n"
     ]
    },
    {
     "name": "stdout",
     "output_type": "stream",
     "text": [
      "\n",
      "      Epoch    GPU_mem   box_loss   seg_loss   cls_loss   dfl_loss  Instances       Size\n"
     ]
    },
    {
     "name": "stderr",
     "output_type": "stream",
     "text": [
      "     89/100      12.6G     0.6365      1.049     0.3056      1.044         21        640: 100%|██████████| 112/112 [00:31<00:00,  3.59it/s]\n",
      "                 Class     Images  Instances      Box(P          R      mAP50  mAP50-95)     Mask(P          R      mAP50  mAP50-95): 100%|██████████| 5/5 [00:00<00:00,  5.02it/s]"
     ]
    },
    {
     "name": "stdout",
     "output_type": "stream",
     "text": [
      "                   all         75        150      0.868      0.873      0.861      0.615      0.909      0.913      0.911      0.609\n"
     ]
    },
    {
     "name": "stderr",
     "output_type": "stream",
     "text": [
      "\n"
     ]
    },
    {
     "name": "stdout",
     "output_type": "stream",
     "text": [
      "\n",
      "      Epoch    GPU_mem   box_loss   seg_loss   cls_loss   dfl_loss  Instances       Size\n"
     ]
    },
    {
     "name": "stderr",
     "output_type": "stream",
     "text": [
      "     90/100      11.3G     0.6241      1.022     0.3009      1.033         16        640: 100%|██████████| 112/112 [00:31<00:00,  3.61it/s]\n",
      "                 Class     Images  Instances      Box(P          R      mAP50  mAP50-95)     Mask(P          R      mAP50  mAP50-95): 100%|██████████| 5/5 [00:00<00:00,  5.05it/s]"
     ]
    },
    {
     "name": "stdout",
     "output_type": "stream",
     "text": [
      "                   all         75        150      0.819       0.84      0.788      0.596      0.851      0.873      0.837      0.573\n"
     ]
    },
    {
     "name": "stderr",
     "output_type": "stream",
     "text": [
      "\n"
     ]
    },
    {
     "name": "stdout",
     "output_type": "stream",
     "text": [
      "Closing dataloader mosaic\n",
      "\n",
      "      Epoch    GPU_mem   box_loss   seg_loss   cls_loss   dfl_loss  Instances       Size\n"
     ]
    },
    {
     "name": "stderr",
     "output_type": "stream",
     "text": [
      "     91/100      12.6G     0.6273      1.061     0.2844      1.046         12        640: 100%|██████████| 112/112 [00:31<00:00,  3.60it/s]\n",
      "                 Class     Images  Instances      Box(P          R      mAP50  mAP50-95)     Mask(P          R      mAP50  mAP50-95): 100%|██████████| 5/5 [00:00<00:00,  5.08it/s]"
     ]
    },
    {
     "name": "stdout",
     "output_type": "stream",
     "text": [
      "                   all         75        150      0.815      0.824      0.773      0.591      0.855      0.863       0.83      0.565\n"
     ]
    },
    {
     "name": "stderr",
     "output_type": "stream",
     "text": [
      "\n"
     ]
    },
    {
     "name": "stdout",
     "output_type": "stream",
     "text": [
      "\n",
      "      Epoch    GPU_mem   box_loss   seg_loss   cls_loss   dfl_loss  Instances       Size\n"
     ]
    },
    {
     "name": "stderr",
     "output_type": "stream",
     "text": [
      "     92/100      12.6G      0.611      1.018     0.2834      1.025         12        640: 100%|██████████| 112/112 [00:31<00:00,  3.58it/s]\n",
      "                 Class     Images  Instances      Box(P          R      mAP50  mAP50-95)     Mask(P          R      mAP50  mAP50-95): 100%|██████████| 5/5 [00:01<00:00,  4.84it/s]"
     ]
    },
    {
     "name": "stdout",
     "output_type": "stream",
     "text": [
      "                   all         75        150       0.86      0.865      0.859       0.61      0.876      0.869      0.871       0.59\n"
     ]
    },
    {
     "name": "stderr",
     "output_type": "stream",
     "text": [
      "\n"
     ]
    },
    {
     "name": "stdout",
     "output_type": "stream",
     "text": [
      "\n",
      "      Epoch    GPU_mem   box_loss   seg_loss   cls_loss   dfl_loss  Instances       Size\n"
     ]
    },
    {
     "name": "stderr",
     "output_type": "stream",
     "text": [
      "     93/100      11.3G     0.5959      1.019     0.2761      1.023         12        640: 100%|██████████| 112/112 [00:30<00:00,  3.62it/s]\n",
      "                 Class     Images  Instances      Box(P          R      mAP50  mAP50-95)     Mask(P          R      mAP50  mAP50-95): 100%|██████████| 5/5 [00:00<00:00,  5.02it/s]"
     ]
    },
    {
     "name": "stdout",
     "output_type": "stream",
     "text": [
      "                   all         75        150      0.861      0.853      0.844      0.616      0.903      0.893      0.885      0.596\n"
     ]
    },
    {
     "name": "stderr",
     "output_type": "stream",
     "text": [
      "\n"
     ]
    },
    {
     "name": "stdout",
     "output_type": "stream",
     "text": [
      "\n",
      "      Epoch    GPU_mem   box_loss   seg_loss   cls_loss   dfl_loss  Instances       Size\n"
     ]
    },
    {
     "name": "stderr",
     "output_type": "stream",
     "text": [
      "     94/100      12.5G     0.5934       1.01     0.2726      1.024         12        640: 100%|██████████| 112/112 [00:30<00:00,  3.63it/s]\n",
      "                 Class     Images  Instances      Box(P          R      mAP50  mAP50-95)     Mask(P          R      mAP50  mAP50-95): 100%|██████████| 5/5 [00:00<00:00,  5.00it/s]"
     ]
    },
    {
     "name": "stdout",
     "output_type": "stream",
     "text": [
      "                   all         75        150      0.836      0.833      0.801      0.608      0.863       0.86      0.835      0.581\n"
     ]
    },
    {
     "name": "stderr",
     "output_type": "stream",
     "text": [
      "\n"
     ]
    },
    {
     "name": "stdout",
     "output_type": "stream",
     "text": [
      "\n",
      "      Epoch    GPU_mem   box_loss   seg_loss   cls_loss   dfl_loss  Instances       Size\n"
     ]
    },
    {
     "name": "stderr",
     "output_type": "stream",
     "text": [
      "     95/100      12.6G     0.5841      1.002     0.2704       1.01         12        640: 100%|██████████| 112/112 [00:31<00:00,  3.60it/s]\n",
      "                 Class     Images  Instances      Box(P          R      mAP50  mAP50-95)     Mask(P          R      mAP50  mAP50-95): 100%|██████████| 5/5 [00:01<00:00,  4.74it/s]"
     ]
    },
    {
     "name": "stdout",
     "output_type": "stream",
     "text": [
      "                   all         75        150       0.85      0.847      0.814      0.612      0.872      0.873      0.847      0.587\n"
     ]
    },
    {
     "name": "stderr",
     "output_type": "stream",
     "text": [
      "\n"
     ]
    },
    {
     "name": "stdout",
     "output_type": "stream",
     "text": [
      "\n",
      "      Epoch    GPU_mem   box_loss   seg_loss   cls_loss   dfl_loss  Instances       Size\n"
     ]
    },
    {
     "name": "stderr",
     "output_type": "stream",
     "text": [
      "     96/100      11.5G     0.5829     0.9832     0.2658      1.016         12        640: 100%|██████████| 112/112 [00:30<00:00,  3.62it/s]\n",
      "                 Class     Images  Instances      Box(P          R      mAP50  mAP50-95)     Mask(P          R      mAP50  mAP50-95): 100%|██████████| 5/5 [00:00<00:00,  5.03it/s]"
     ]
    },
    {
     "name": "stdout",
     "output_type": "stream",
     "text": [
      "                   all         75        150       0.85      0.864      0.827      0.611      0.875      0.886      0.852      0.591\n"
     ]
    },
    {
     "name": "stderr",
     "output_type": "stream",
     "text": [
      "\n"
     ]
    },
    {
     "name": "stdout",
     "output_type": "stream",
     "text": [
      "\n",
      "      Epoch    GPU_mem   box_loss   seg_loss   cls_loss   dfl_loss  Instances       Size\n"
     ]
    },
    {
     "name": "stderr",
     "output_type": "stream",
     "text": [
      "     97/100      12.8G     0.5785      0.981      0.266      1.014         12        640: 100%|██████████| 112/112 [00:30<00:00,  3.62it/s]\n",
      "                 Class     Images  Instances      Box(P          R      mAP50  mAP50-95)     Mask(P          R      mAP50  mAP50-95): 100%|██████████| 5/5 [00:00<00:00,  5.02it/s]"
     ]
    },
    {
     "name": "stdout",
     "output_type": "stream",
     "text": [
      "                   all         75        150      0.888      0.893      0.867      0.619      0.901      0.907      0.886      0.605\n"
     ]
    },
    {
     "name": "stderr",
     "output_type": "stream",
     "text": [
      "\n"
     ]
    },
    {
     "name": "stdout",
     "output_type": "stream",
     "text": [
      "\n",
      "      Epoch    GPU_mem   box_loss   seg_loss   cls_loss   dfl_loss  Instances       Size\n"
     ]
    },
    {
     "name": "stderr",
     "output_type": "stream",
     "text": [
      "     98/100      11.5G     0.5714     0.9857     0.2659      1.008         12        640: 100%|██████████| 112/112 [00:31<00:00,  3.61it/s]\n",
      "                 Class     Images  Instances      Box(P          R      mAP50  mAP50-95)     Mask(P          R      mAP50  mAP50-95): 100%|██████████| 5/5 [00:01<00:00,  4.98it/s]"
     ]
    },
    {
     "name": "stdout",
     "output_type": "stream",
     "text": [
      "                   all         75        150      0.861      0.866      0.827      0.602      0.894       0.88      0.864      0.591\n"
     ]
    },
    {
     "name": "stderr",
     "output_type": "stream",
     "text": [
      "\n"
     ]
    },
    {
     "name": "stdout",
     "output_type": "stream",
     "text": [
      "\n",
      "      Epoch    GPU_mem   box_loss   seg_loss   cls_loss   dfl_loss  Instances       Size\n"
     ]
    },
    {
     "name": "stderr",
     "output_type": "stream",
     "text": [
      "     99/100      12.8G     0.5583     0.9771      0.259          1         12        640: 100%|██████████| 112/112 [00:31<00:00,  3.60it/s]\n",
      "                 Class     Images  Instances      Box(P          R      mAP50  mAP50-95)     Mask(P          R      mAP50  mAP50-95): 100%|██████████| 5/5 [00:01<00:00,  4.97it/s]"
     ]
    },
    {
     "name": "stdout",
     "output_type": "stream",
     "text": [
      "                   all         75        150      0.866      0.873      0.837      0.616      0.894      0.893       0.87      0.597\n"
     ]
    },
    {
     "name": "stderr",
     "output_type": "stream",
     "text": [
      "\n"
     ]
    },
    {
     "name": "stdout",
     "output_type": "stream",
     "text": [
      "\n",
      "      Epoch    GPU_mem   box_loss   seg_loss   cls_loss   dfl_loss  Instances       Size\n"
     ]
    },
    {
     "name": "stderr",
     "output_type": "stream",
     "text": [
      "    100/100      12.6G     0.5617     0.9678     0.2586     0.9953         12        640: 100%|██████████| 112/112 [00:31<00:00,  3.61it/s]\n",
      "                 Class     Images  Instances      Box(P          R      mAP50  mAP50-95)     Mask(P          R      mAP50  mAP50-95): 100%|██████████| 5/5 [00:01<00:00,  4.80it/s]"
     ]
    },
    {
     "name": "stdout",
     "output_type": "stream",
     "text": [
      "                   all         75        150      0.849       0.86      0.824      0.608      0.884      0.873      0.857      0.591\n"
     ]
    },
    {
     "name": "stderr",
     "output_type": "stream",
     "text": [
      "\n"
     ]
    },
    {
     "name": "stdout",
     "output_type": "stream",
     "text": [
      "\n",
      "100 epochs completed in 0.965 hours.\n",
      "Optimizer stripped from runs\\segment\\train13\\weights\\last.pt, 121.9MB\n",
      "Optimizer stripped from runs\\segment\\train13\\weights\\best.pt, 121.9MB\n",
      "\n",
      "Validating runs\\segment\\train13\\weights\\best.pt...\n",
      "Ultralytics YOLOv8.2.98  Python-3.12.4 torch-2.4.1 CUDA:0 (NVIDIA GeForce RTX 4080 SUPER, 16376MiB)\n",
      "YOLOv9e-seg summary (fused): 714 layers, 59,683,222 parameters, 0 gradients, 244.4 GFLOPs\n"
     ]
    },
    {
     "name": "stderr",
     "output_type": "stream",
     "text": [
      "                 Class     Images  Instances      Box(P          R      mAP50  mAP50-95)     Mask(P          R      mAP50  mAP50-95): 100%|██████████| 5/5 [00:01<00:00,  3.89it/s]\n"
     ]
    },
    {
     "name": "stdout",
     "output_type": "stream",
     "text": [
      "                   all         75        150      0.883      0.895      0.911       0.63      0.908        0.9      0.929      0.621\n",
      "                    ab         75         75      0.945          1      0.995      0.969      0.958          1      0.995       0.93\n",
      "                    mc         75         75       0.82      0.789      0.827      0.291      0.858        0.8      0.863      0.312\n",
      "Speed: 0.4ms preprocess, 10.1ms inference, 0.0ms loss, 1.1ms postprocess per image\n",
      "Results saved to \u001b[1mruns\\segment\\train13\u001b[0m\n"
     ]
    }
   ],
   "source": [
    "result = model.train(data=\"C:\\\\5025211148\\\\YOLOv9-Segmentation\\\\merge-inez-1\\\\data.yaml\", epochs=100, imgsz=640, batch=8)"
   ]
  },
  {
   "cell_type": "code",
   "execution_count": 10,
   "metadata": {},
   "outputs": [
    {
     "name": "stdout",
     "output_type": "stream",
     "text": [
      "\n",
      "image 1/1 C:\\5025211148\\YOLOv9-Segmentation\\merge-inez-1\\valid\\images\\slice_2_png.rf.773ebb3973e8d24b3610d7d5889312bf.jpg: 640x640 1 ab, 1 mc, 16.8ms\n",
      "Speed: 0.0ms preprocess, 16.8ms inference, 49.6ms postprocess per image at shape (1, 3, 640, 640)\n"
     ]
    },
    {
     "data": {
      "image/png": "[encoded data removed]",
      "text/plain": [
       "<Figure size 640x480 with 1 Axes>"
      ]
     },
     "metadata": {},
     "output_type": "display_data"
    }
   ],
   "source": [
    "import cv2\n",
    "import matplotlib.pyplot as plt\n",
    "%matplotlib inline\n",
    "from ultralytics import YOLO\n",
    "\n",
    "model = YOLO(\"C:\\\\5025211148\\\\YOLOv9-Segmentation\\\\runs\\\\segment\\\\train13\\\\weights\\\\best.pt\")  # load a custom model\n",
    "\n",
    "# Predict with the model\n",
    "results = model(\"C:\\\\5025211148\\\\YOLOv9-Segmentation\\\\merge-inez-1\\\\valid\\\\images\\\\slice_2_png.rf.773ebb3973e8d24b3610d7d5889312bf.jpg\")\n",
    "\n",
    "\n",
    "predicted_img = results[0].plot()\n",
    "output_dir = \"C:\\\\5025211148\\\\YOLOv9-Segmentation\\\\runs\\\\segment\\\\predict\"\n",
    "os.makedirs(output_dir, exist_ok=True)\n",
    "\n",
    "output_image_path = os.path.join(output_dir, \"predicted.jpg\")\n",
    "\n",
    "cv2.imwrite(output_image_path, predicted_img)\n",
    "\n",
    "predicted_img_rgb = cv2.cvtColor(predicted_img, cv2.COLOR_BGR2RGB)\n",
    "\n",
    "plt.imshow(predicted_img_rgb)\n",
    "plt.axis('off')  # Hilangkan sumbu\n",
    "plt.show()"
   ]
  },
  {
   "cell_type": "code",
   "execution_count": 11,
   "metadata": {},
   "outputs": [],
   "source": [
    "model_path = r'C:\\\\5025211148\\\\YOLOv9-Segmentation\\\\runs\\\\segment\\\\train13\\\\weights\\\\best.pt'\n",
    "valid_path = r'C:\\\\5025211148\\\\YOLOv9-Segmentation\\\\merge-inez-1\\\\valid\\\\images'\n",
    "ground_truth_path = r'C:\\\\5025211148\\\\YOLOv9-Segmentation\\\\merge-inez-1\\\\valid\\\\labels'\n",
    "gt_AB_path = r\"C:\\\\5025211148\\\\YOLOv9-Segmentation\\\\Dataset Train Val\\\\gt-AB\"\n",
    "gt_MC_path = r\"C:\\\\5025211148\\\\YOLOv9-Segmentation\\\\Dataset Train Val\\\\gt-MC\"\n",
    "\n",
    "segmented_AB_path = fr'C:\\\\5025211148\\\\YOLOv9-Segmentation\\\\segmented_AB'\n",
    "segmented_AB_path_2 = r'C:\\\\5025211148\\\\YOLOv9-Segmentation\\\\segmented_AB'\n",
    "segmented_AB_npy = r'C:\\\\5025211148\\\\YOLOv9-Segmentation\\\\yolov9c-segmented_AB.npy'\n",
    "\n",
    "segmented_MC_path = fr'C:\\\\5025211148\\\\YOLOv9-Segmentation\\\\segmented_MC'\n",
    "segmented_MC_path_2 = r'C:\\\\5025211148\\\\YOLOv9-Segmentation\\\\segmented_MC'\n",
    "segmented_MC_npy = r'C:\\\\5025211148\\\\YOLOv9-Segmentation\\\\yolov9c-segmented_MC.npy'\n",
    "\n",
    "for path in [gt_AB_path, gt_MC_path, segmented_AB_path, segmented_MC_path]:\n",
    "  os.makedirs(path, exist_ok=True)"
   ]
  },
  {
   "cell_type": "code",
   "execution_count": 12,
   "metadata": {},
   "outputs": [
    {
     "name": "stdout",
     "output_type": "stream",
     "text": [
      "C:\\\\5025211148\\\\YOLOv9-Segmentation\\\\merge-inez-1\\\\valid\\\\images\\slice_0_png.rf.b6a308ad17de783c210d9ceb410d76a1.jpg\n",
      "C:\\\\5025211148\\\\YOLOv9-Segmentation\\\\merge-inez-1\\\\valid\\\\images\\slice_1_png.rf.813ec633aebc1e939b902b040068a91a.jpg\n",
      "C:\\\\5025211148\\\\YOLOv9-Segmentation\\\\merge-inez-1\\\\valid\\\\images\\slice_2_png.rf.773ebb3973e8d24b3610d7d5889312bf.jpg\n",
      "C:\\\\5025211148\\\\YOLOv9-Segmentation\\\\merge-inez-1\\\\valid\\\\images\\slice_3_png.rf.2b7ac0dccdcc3241e2441dcdfe40b19a.jpg\n",
      "C:\\\\5025211148\\\\YOLOv9-Segmentation\\\\merge-inez-1\\\\valid\\\\images\\slice_4_png.rf.ed9951865dd8c8e9c4bb357b12d90bf3.jpg\n",
      "C:\\\\5025211148\\\\YOLOv9-Segmentation\\\\merge-inez-1\\\\valid\\\\images\\slice_5_png.rf.fa534a063f0865aba05bfb1f39bf17f1.jpg\n",
      "C:\\\\5025211148\\\\YOLOv9-Segmentation\\\\merge-inez-1\\\\valid\\\\images\\slice_6_png.rf.69513226c67a48924c9727490a40871b.jpg\n",
      "C:\\\\5025211148\\\\YOLOv9-Segmentation\\\\merge-inez-1\\\\valid\\\\images\\slice_7_png.rf.911a9c8ba0e64b11ffd5e11ceb31250e.jpg\n",
      "C:\\\\5025211148\\\\YOLOv9-Segmentation\\\\merge-inez-1\\\\valid\\\\images\\slice_8_png.rf.08bf826fea5c4ff01a4a4d1f987b7af6.jpg\n",
      "C:\\\\5025211148\\\\YOLOv9-Segmentation\\\\merge-inez-1\\\\valid\\\\images\\slice_9_png.rf.7b263d87fcdea007b3b78938772a24a5.jpg\n",
      "C:\\\\5025211148\\\\YOLOv9-Segmentation\\\\merge-inez-1\\\\valid\\\\images\\slice_10_png.rf.8cfc23276c5e0a0a9c082a84937bbfa9.jpg\n",
      "C:\\\\5025211148\\\\YOLOv9-Segmentation\\\\merge-inez-1\\\\valid\\\\images\\slice_11_png.rf.2f4ba45901be13bdd4a6d27191f04632.jpg\n",
      "C:\\\\5025211148\\\\YOLOv9-Segmentation\\\\merge-inez-1\\\\valid\\\\images\\slice_12_png.rf.e697ea8e2a874fe7e9b6625b141d770f.jpg\n",
      "C:\\\\5025211148\\\\YOLOv9-Segmentation\\\\merge-inez-1\\\\valid\\\\images\\slice_13_png.rf.3e77ef333ad7540a2e71c11b85729e94.jpg\n",
      "C:\\\\5025211148\\\\YOLOv9-Segmentation\\\\merge-inez-1\\\\valid\\\\images\\slice_14_png.rf.d4246e1825c0cc584de095d27ae0ba29.jpg\n",
      "C:\\\\5025211148\\\\YOLOv9-Segmentation\\\\merge-inez-1\\\\valid\\\\images\\slice_15_png.rf.08dca079baea99e2094955b7bca56721.jpg\n",
      "C:\\\\5025211148\\\\YOLOv9-Segmentation\\\\merge-inez-1\\\\valid\\\\images\\slice_16_png.rf.5505cc7edadd735a4051c540ba652f82.jpg\n",
      "C:\\\\5025211148\\\\YOLOv9-Segmentation\\\\merge-inez-1\\\\valid\\\\images\\slice_184_jpg.rf.fb7007d3aec48c5887b58c4b1f251982.jpg\n",
      "C:\\\\5025211148\\\\YOLOv9-Segmentation\\\\merge-inez-1\\\\valid\\\\images\\slice_185_jpg.rf.c259553f5c57f7ea65f5ec81e559a32a.jpg\n",
      "C:\\\\5025211148\\\\YOLOv9-Segmentation\\\\merge-inez-1\\\\valid\\\\images\\slice_186_jpg.rf.7fea4a8ac7a43acb2f28d29a8c9e2b18.jpg\n",
      "C:\\\\5025211148\\\\YOLOv9-Segmentation\\\\merge-inez-1\\\\valid\\\\images\\slice_187_jpg.rf.9abf8d193ac601a0c952ef8160a9a2f3.jpg\n",
      "C:\\\\5025211148\\\\YOLOv9-Segmentation\\\\merge-inez-1\\\\valid\\\\images\\slice_188_jpg.rf.5fbe759a3a7c1fde7f222c92ef628ffc.jpg\n",
      "C:\\\\5025211148\\\\YOLOv9-Segmentation\\\\merge-inez-1\\\\valid\\\\images\\slice_189_jpg.rf.c1670c9fd948cb7906245cbbfe3f3ed5.jpg\n",
      "C:\\\\5025211148\\\\YOLOv9-Segmentation\\\\merge-inez-1\\\\valid\\\\images\\slice_190_jpg.rf.ad95785b57764989b3cd348bf7ebf3df.jpg\n",
      "C:\\\\5025211148\\\\YOLOv9-Segmentation\\\\merge-inez-1\\\\valid\\\\images\\slice_191_jpg.rf.0ee9ad54909660dc8183df6b1a9d936d.jpg\n",
      "C:\\\\5025211148\\\\YOLOv9-Segmentation\\\\merge-inez-1\\\\valid\\\\images\\slice_192_jpg.rf.5f98ffbe0c04578941047e31680f4ac8.jpg\n",
      "C:\\\\5025211148\\\\YOLOv9-Segmentation\\\\merge-inez-1\\\\valid\\\\images\\slice_193_jpg.rf.997bde128c89a09bddde6eede7136af8.jpg\n",
      "C:\\\\5025211148\\\\YOLOv9-Segmentation\\\\merge-inez-1\\\\valid\\\\images\\slice_194_jpg.rf.510119948c76ce4b0ba77184428b99a1.jpg\n",
      "C:\\\\5025211148\\\\YOLOv9-Segmentation\\\\merge-inez-1\\\\valid\\\\images\\slice_195_jpg.rf.4bdeee9e3f4907b631f508bcec563dc2.jpg\n",
      "C:\\\\5025211148\\\\YOLOv9-Segmentation\\\\merge-inez-1\\\\valid\\\\images\\slice_196_jpg.rf.dc89629b77d81e3226e63a87afeecfc7.jpg\n",
      "C:\\\\5025211148\\\\YOLOv9-Segmentation\\\\merge-inez-1\\\\valid\\\\images\\slice_197_jpg.rf.9ce57987bde90784b202fe9e6d7c481e.jpg\n",
      "C:\\\\5025211148\\\\YOLOv9-Segmentation\\\\merge-inez-1\\\\valid\\\\images\\slice_198_jpg.rf.6b58b1ba2b6b73b61ba979f22fb46caf.jpg\n",
      "C:\\\\5025211148\\\\YOLOv9-Segmentation\\\\merge-inez-1\\\\valid\\\\images\\slice_199_jpg.rf.26f48bd8f377db569234a70975b06f44.jpg\n",
      "C:\\\\5025211148\\\\YOLOv9-Segmentation\\\\merge-inez-1\\\\valid\\\\images\\slice_200_jpg.rf.7a651a02064be38cf08502236c43f762.jpg\n",
      "C:\\\\5025211148\\\\YOLOv9-Segmentation\\\\merge-inez-1\\\\valid\\\\images\\slice_201_jpg.rf.405030fbbb0b7c68d0450b10c48f32b3.jpg\n",
      "C:\\\\5025211148\\\\YOLOv9-Segmentation\\\\merge-inez-1\\\\valid\\\\images\\slice_202_jpg.rf.f7e659f04a40049e6cba5239c0ca41fe.jpg\n",
      "C:\\\\5025211148\\\\YOLOv9-Segmentation\\\\merge-inez-1\\\\valid\\\\images\\slice_203_jpg.rf.e5030f4868e53e80acb8f21aef7489f9.jpg\n",
      "C:\\\\5025211148\\\\YOLOv9-Segmentation\\\\merge-inez-1\\\\valid\\\\images\\slice_204_jpg.rf.379e8a1abf3842f461423e8e76141932.jpg\n",
      "C:\\\\5025211148\\\\YOLOv9-Segmentation\\\\merge-inez-1\\\\valid\\\\images\\slice_205_jpg.rf.91c7f454ebef22c3ff8ce5727bba228e.jpg\n",
      "C:\\\\5025211148\\\\YOLOv9-Segmentation\\\\merge-inez-1\\\\valid\\\\images\\slice_206_jpg.rf.5b4192b7ef82aad37ac4d99ed13e2ee2.jpg\n",
      "C:\\\\5025211148\\\\YOLOv9-Segmentation\\\\merge-inez-1\\\\valid\\\\images\\slice_207_jpg.rf.6c10293c5a5cc5871fe43008a8840e3b.jpg\n",
      "C:\\\\5025211148\\\\YOLOv9-Segmentation\\\\merge-inez-1\\\\valid\\\\images\\slice_208_jpg.rf.474a2cc7da8963637f4a10d5518ef23b.jpg\n",
      "C:\\\\5025211148\\\\YOLOv9-Segmentation\\\\merge-inez-1\\\\valid\\\\images\\slice_209_jpg.rf.8931044812d6e143d00fc94414dc965c.jpg\n",
      "C:\\\\5025211148\\\\YOLOv9-Segmentation\\\\merge-inez-1\\\\valid\\\\images\\slice_210_jpg.rf.2f1e8d2936842397afbbace9a9c9ace1.jpg\n",
      "C:\\\\5025211148\\\\YOLOv9-Segmentation\\\\merge-inez-1\\\\valid\\\\images\\slice_211_jpg.rf.ce50dbaa10adb29f88ba7ce96c4b28e3.jpg\n",
      "C:\\\\5025211148\\\\YOLOv9-Segmentation\\\\merge-inez-1\\\\valid\\\\images\\slice_212_jpg.rf.fa999268d1357cfe3baf7f66d218858a.jpg\n",
      "C:\\\\5025211148\\\\YOLOv9-Segmentation\\\\merge-inez-1\\\\valid\\\\images\\slice_227_jpg.rf.47e302d51c39b996e9aa5c2457568e72.jpg\n",
      "C:\\\\5025211148\\\\YOLOv9-Segmentation\\\\merge-inez-1\\\\valid\\\\images\\slice_228_jpg.rf.d6fa4e941fd8ee957cb2fa40d1617dcd.jpg\n",
      "C:\\\\5025211148\\\\YOLOv9-Segmentation\\\\merge-inez-1\\\\valid\\\\images\\slice_229_jpg.rf.c4406e3223457b9d82da77009e090083.jpg\n",
      "C:\\\\5025211148\\\\YOLOv9-Segmentation\\\\merge-inez-1\\\\valid\\\\images\\slice_230_jpg.rf.c38851d2bc1de61efaff2c6a0c6a533b.jpg\n",
      "C:\\\\5025211148\\\\YOLOv9-Segmentation\\\\merge-inez-1\\\\valid\\\\images\\slice_231_jpg.rf.5a943022fe92bf999159d5a80fdfaa3c.jpg\n",
      "C:\\\\5025211148\\\\YOLOv9-Segmentation\\\\merge-inez-1\\\\valid\\\\images\\slice_232_jpg.rf.36559349f65c59474e2c273ef3a1895f.jpg\n",
      "C:\\\\5025211148\\\\YOLOv9-Segmentation\\\\merge-inez-1\\\\valid\\\\images\\slice_233_jpg.rf.21c7a2018478f98c4170d84b9d900a8b.jpg\n",
      "C:\\\\5025211148\\\\YOLOv9-Segmentation\\\\merge-inez-1\\\\valid\\\\images\\slice_234_jpg.rf.8376c291224523f2379285e6739f8508.jpg\n",
      "C:\\\\5025211148\\\\YOLOv9-Segmentation\\\\merge-inez-1\\\\valid\\\\images\\slice_234_jpg.rf.8c97c306d89d4aea1956db536d9ae8da.jpg\n",
      "C:\\\\5025211148\\\\YOLOv9-Segmentation\\\\merge-inez-1\\\\valid\\\\images\\slice_235_jpg.rf.7a0cd7f426f4c0b16065120adc6c63f0.jpg\n",
      "C:\\\\5025211148\\\\YOLOv9-Segmentation\\\\merge-inez-1\\\\valid\\\\images\\slice_236_jpg.rf.baef61c5ff250c1d85dc3ee096660de8.jpg\n",
      "C:\\\\5025211148\\\\YOLOv9-Segmentation\\\\merge-inez-1\\\\valid\\\\images\\slice_237_jpg.rf.b9610d515a5437097ad9d6ec26739bd9.jpg\n",
      "C:\\\\5025211148\\\\YOLOv9-Segmentation\\\\merge-inez-1\\\\valid\\\\images\\slice_238_jpg.rf.6025395d22a4004b13a3f9b376079bb8.jpg\n",
      "C:\\\\5025211148\\\\YOLOv9-Segmentation\\\\merge-inez-1\\\\valid\\\\images\\slice_239_jpg.rf.b6d73c66406e62a091551a6d3ccce095.jpg\n",
      "C:\\\\5025211148\\\\YOLOv9-Segmentation\\\\merge-inez-1\\\\valid\\\\images\\slice_239_jpg.rf.bd8f5271a858f2a277c210f5e04a86df.jpg\n",
      "C:\\\\5025211148\\\\YOLOv9-Segmentation\\\\merge-inez-1\\\\valid\\\\images\\slice_240_jpg.rf.0aa788cdb7219a189ea9e4b9a53b996a.jpg\n",
      "C:\\\\5025211148\\\\YOLOv9-Segmentation\\\\merge-inez-1\\\\valid\\\\images\\slice_241_jpg.rf.5bb370de0c0c5a0a1298999b8269e4b4.jpg\n",
      "C:\\\\5025211148\\\\YOLOv9-Segmentation\\\\merge-inez-1\\\\valid\\\\images\\slice_241_jpg.rf.8e99851409db29bcb7433e96215d032f.jpg\n",
      "C:\\\\5025211148\\\\YOLOv9-Segmentation\\\\merge-inez-1\\\\valid\\\\images\\slice_242_jpg.rf.04473fce5585378c912db056877ef4be.jpg\n",
      "C:\\\\5025211148\\\\YOLOv9-Segmentation\\\\merge-inez-1\\\\valid\\\\images\\slice_243_jpg.rf.4e282c9d623df41fb28d1181aff460f7.jpg\n",
      "C:\\\\5025211148\\\\YOLOv9-Segmentation\\\\merge-inez-1\\\\valid\\\\images\\slice_243_jpg.rf.ae3d135830b986a680d9ef8fbe5441f9.jpg\n",
      "C:\\\\5025211148\\\\YOLOv9-Segmentation\\\\merge-inez-1\\\\valid\\\\images\\slice_244_jpg.rf.4a9409f3b5a33b7c702d348109c89c68.jpg\n",
      "C:\\\\5025211148\\\\YOLOv9-Segmentation\\\\merge-inez-1\\\\valid\\\\images\\slice_245_jpg.rf.69a1679f246e89e375a49ba7b2e03b67.jpg\n",
      "C:\\\\5025211148\\\\YOLOv9-Segmentation\\\\merge-inez-1\\\\valid\\\\images\\slice_245_jpg.rf.7280f92363a1b9f4c1b74a7079335c62.jpg\n",
      "C:\\\\5025211148\\\\YOLOv9-Segmentation\\\\merge-inez-1\\\\valid\\\\images\\slice_246_jpg.rf.1b3b7419434d4f2ffe8a69c66cc0eb7d.jpg\n",
      "C:\\\\5025211148\\\\YOLOv9-Segmentation\\\\merge-inez-1\\\\valid\\\\images\\slice_247_jpg.rf.0132c277c4d7f8c5c95ea3a595ba7315.jpg\n",
      "C:\\\\5025211148\\\\YOLOv9-Segmentation\\\\merge-inez-1\\\\valid\\\\images\\slice_248_jpg.rf.fe48f8cb5097a5c105f48b585f33a07a.jpg\n",
      "C:\\\\5025211148\\\\YOLOv9-Segmentation\\\\merge-inez-1\\\\valid\\\\images\\slice_250_jpg.rf.84d15643db599a8826b8ca7b5320dfc5.jpg\n",
      "C:\\\\5025211148\\\\YOLOv9-Segmentation\\\\merge-inez-1\\\\valid\\\\images\\slice_257_jpg.rf.1afa5d3faf30171b5a1ee38437f1cae5.jpg\n"
     ]
    }
   ],
   "source": [
    "import os\n",
    "import re\n",
    "\n",
    "# specify the directory path\n",
    "directory_path = valid_path\n",
    "\n",
    "# create an empty list to store the filenames with directory path\n",
    "file_list = []\n",
    "\n",
    "# iterate over the files in the directory\n",
    "for filename in os.listdir(directory_path):\n",
    "    # check if the item is a file\n",
    "    if os.path.isfile(os.path.join(directory_path, filename)):\n",
    "        # append the filename with directory path to the list\n",
    "        file_list.append(os.path.join(directory_path, filename))\n",
    "\n",
    "def extract_number(s):\n",
    "    match = re.search(r'slice_(\\d+)', s)  # Match 'slice_' followed by one or more digits\n",
    "    return int(match.group(1)) if match else float('inf')\n",
    "\n",
    "file_list = sorted(file_list, key=extract_number)\n",
    "for filename in file_list:\n",
    "    print(filename)\n",
    "# print(file_list)  # Output: sorted file_list with filenames like 'slice_0', 'slice_1', 'slice_2', etc.\n"
   ]
  },
  {
   "cell_type": "code",
   "execution_count": 13,
   "metadata": {},
   "outputs": [],
   "source": [
    "from ultralytics import YOLO\n",
    "\n",
    "# Load a model\n",
    "model = YOLO(model_path, task='segment')  # load a pretrained model (recommended for training)"
   ]
  },
  {
   "cell_type": "code",
   "execution_count": 14,
   "metadata": {},
   "outputs": [
    {
     "name": "stdout",
     "output_type": "stream",
     "text": [
      "\n",
      "0: 640x640 1 ab, 1 mc, 845.5ms\n",
      "1: 640x640 1 ab, 1 mc, 845.5ms\n",
      "2: 640x640 1 ab, 1 mc, 845.5ms\n",
      "3: 640x640 1 ab, 1 mc, 845.5ms\n",
      "4: 640x640 1 ab, 1 mc, 845.5ms\n",
      "5: 640x640 1 ab, 1 mc, 845.5ms\n",
      "6: 640x640 1 ab, 1 mc, 845.5ms\n",
      "7: 640x640 1 ab, 1 mc, 845.5ms\n",
      "8: 640x640 1 ab, 1 mc, 845.5ms\n",
      "9: 640x640 1 ab, 1 mc, 845.5ms\n",
      "10: 640x640 1 ab, 1 mc, 845.5ms\n",
      "11: 640x640 1 ab, 1 mc, 845.5ms\n",
      "12: 640x640 1 ab, 1 mc, 845.5ms\n",
      "13: 640x640 1 ab, 1 mc, 845.5ms\n",
      "14: 640x640 1 ab, 1 mc, 845.5ms\n",
      "15: 640x640 1 ab, 1 mc, 845.5ms\n",
      "16: 640x640 1 ab, 1 mc, 845.5ms\n",
      "17: 640x640 1 ab, 845.5ms\n",
      "18: 640x640 1 ab, 1 mc, 845.5ms\n",
      "19: 640x640 1 ab, 1 mc, 845.5ms\n",
      "20: 640x640 1 ab, 1 mc, 845.5ms\n",
      "21: 640x640 1 ab, 1 mc, 845.5ms\n",
      "22: 640x640 1 ab, 1 mc, 845.5ms\n",
      "23: 640x640 1 ab, 1 mc, 845.5ms\n",
      "24: 640x640 1 ab, 1 mc, 845.5ms\n",
      "25: 640x640 1 ab, 1 mc, 845.5ms\n",
      "26: 640x640 1 ab, 1 mc, 845.5ms\n",
      "27: 640x640 1 ab, 1 mc, 845.5ms\n",
      "28: 640x640 1 ab, 1 mc, 845.5ms\n",
      "29: 640x640 1 ab, 1 mc, 845.5ms\n",
      "30: 640x640 1 ab, 1 mc, 845.5ms\n",
      "31: 640x640 1 ab, 1 mc, 845.5ms\n",
      "32: 640x640 1 ab, 1 mc, 845.5ms\n",
      "33: 640x640 1 ab, 1 mc, 845.5ms\n",
      "34: 640x640 1 ab, 1 mc, 845.5ms\n",
      "35: 640x640 1 ab, 1 mc, 845.5ms\n",
      "36: 640x640 1 ab, 1 mc, 845.5ms\n",
      "37: 640x640 1 ab, 1 mc, 845.5ms\n",
      "38: 640x640 1 ab, 1 mc, 845.5ms\n",
      "39: 640x640 1 ab, 1 mc, 845.5ms\n",
      "40: 640x640 1 ab, 1 mc, 845.5ms\n",
      "41: 640x640 1 ab, 1 mc, 845.5ms\n",
      "42: 640x640 1 ab, 1 mc, 845.5ms\n",
      "43: 640x640 1 ab, 1 mc, 845.5ms\n",
      "44: 640x640 1 ab, 1 mc, 845.5ms\n",
      "45: 640x640 1 ab, 1 mc, 845.5ms\n",
      "46: 640x640 1 ab, 1 mc, 845.5ms\n",
      "47: 640x640 1 ab, 1 mc, 845.5ms\n",
      "48: 640x640 1 ab, 1 mc, 845.5ms\n",
      "49: 640x640 1 ab, 1 mc, 845.5ms\n",
      "50: 640x640 1 ab, 1 mc, 845.5ms\n",
      "51: 640x640 3 abs, 1 mc, 845.5ms\n",
      "52: 640x640 3 abs, 1 mc, 845.5ms\n",
      "53: 640x640 2 abs, 1 mc, 845.5ms\n",
      "54: 640x640 1 ab, 1 mc, 845.5ms\n",
      "55: 640x640 2 abs, 1 mc, 845.5ms\n",
      "56: 640x640 2 abs, 1 mc, 845.5ms\n",
      "57: 640x640 2 abs, 1 mc, 845.5ms\n",
      "58: 640x640 2 abs, 1 mc, 845.5ms\n",
      "59: 640x640 1 ab, 1 mc, 845.5ms\n",
      "60: 640x640 1 ab, 1 mc, 845.5ms\n",
      "61: 640x640 1 ab, 845.5ms\n",
      "62: 640x640 1 ab, 1 mc, 845.5ms\n",
      "63: 640x640 1 ab, 1 mc, 845.5ms\n",
      "64: 640x640 1 ab, 1 mc, 845.5ms\n",
      "65: 640x640 1 ab, 1 mc, 845.5ms\n",
      "66: 640x640 1 ab, 1 mc, 845.5ms\n",
      "67: 640x640 1 ab, 845.5ms\n",
      "68: 640x640 2 abs, 845.5ms\n",
      "69: 640x640 1 ab, 1 mc, 845.5ms\n",
      "70: 640x640 2 abs, 1 mc, 845.5ms\n",
      "71: 640x640 2 abs, 1 mc, 845.5ms\n",
      "72: 640x640 2 abs, 1 mc, 845.5ms\n",
      "73: 640x640 2 abs, 1 mc, 845.5ms\n",
      "74: 640x640 1 ab, 1 mc, 845.5ms\n",
      "Speed: 2.2ms preprocess, 845.5ms inference, 0.9ms postprocess per image at shape (1, 3, 640, 640)\n",
      "Results saved to \u001b[1mruns\\segment\\predict5\u001b[0m\n"
     ]
    }
   ],
   "source": [
    "results = model(file_list, save=True)"
   ]
  },
  {
   "cell_type": "code",
   "execution_count": 15,
   "metadata": {},
   "outputs": [
    {
     "name": "stdout",
     "output_type": "stream",
     "text": [
      "75\n"
     ]
    }
   ],
   "source": [
    "print(len(results))"
   ]
  },
  {
   "cell_type": "code",
   "execution_count": 16,
   "metadata": {},
   "outputs": [
    {
     "name": "stdout",
     "output_type": "stream",
     "text": [
      "class tensor([0., 1.], device='cuda:0')\n",
      "indices (tensor([0], device='cuda:0'),)\n",
      "C:\\\\5025211148\\\\YOLOv9-Segmentation\\\\segmented_AB\\\\merged_segs_0.jpg\n",
      "\n",
      "\n",
      "class tensor([0., 1.], device='cuda:0')\n",
      "indices (tensor([0], device='cuda:0'),)\n",
      "C:\\\\5025211148\\\\YOLOv9-Segmentation\\\\segmented_AB\\\\merged_segs_1.jpg\n",
      "\n",
      "\n",
      "class tensor([0., 1.], device='cuda:0')\n",
      "indices (tensor([0], device='cuda:0'),)\n",
      "C:\\\\5025211148\\\\YOLOv9-Segmentation\\\\segmented_AB\\\\merged_segs_2.jpg\n",
      "\n",
      "\n",
      "class tensor([0., 1.], device='cuda:0')\n",
      "indices (tensor([0], device='cuda:0'),)\n",
      "C:\\\\5025211148\\\\YOLOv9-Segmentation\\\\segmented_AB\\\\merged_segs_3.jpg\n",
      "\n",
      "\n",
      "class tensor([0., 1.], device='cuda:0')\n",
      "indices (tensor([0], device='cuda:0'),)\n",
      "C:\\\\5025211148\\\\YOLOv9-Segmentation\\\\segmented_AB\\\\merged_segs_4.jpg\n",
      "\n",
      "\n",
      "class tensor([0., 1.], device='cuda:0')\n",
      "indices (tensor([0], device='cuda:0'),)\n",
      "C:\\\\5025211148\\\\YOLOv9-Segmentation\\\\segmented_AB\\\\merged_segs_5.jpg\n",
      "\n",
      "\n",
      "class tensor([0., 1.], device='cuda:0')\n",
      "indices (tensor([0], device='cuda:0'),)\n",
      "C:\\\\5025211148\\\\YOLOv9-Segmentation\\\\segmented_AB\\\\merged_segs_6.jpg\n",
      "\n",
      "\n",
      "class tensor([0., 1.], device='cuda:0')\n",
      "indices (tensor([0], device='cuda:0'),)\n",
      "C:\\\\5025211148\\\\YOLOv9-Segmentation\\\\segmented_AB\\\\merged_segs_7.jpg\n",
      "\n",
      "\n",
      "class tensor([0., 1.], device='cuda:0')\n",
      "indices (tensor([0], device='cuda:0'),)\n",
      "C:\\\\5025211148\\\\YOLOv9-Segmentation\\\\segmented_AB\\\\merged_segs_8.jpg\n",
      "\n",
      "\n",
      "class tensor([0., 1.], device='cuda:0')\n",
      "indices (tensor([0], device='cuda:0'),)\n",
      "C:\\\\5025211148\\\\YOLOv9-Segmentation\\\\segmented_AB\\\\merged_segs_9.jpg\n",
      "\n",
      "\n",
      "class tensor([0., 1.], device='cuda:0')\n",
      "indices (tensor([0], device='cuda:0'),)\n",
      "C:\\\\5025211148\\\\YOLOv9-Segmentation\\\\segmented_AB\\\\merged_segs_10.jpg\n",
      "\n",
      "\n",
      "class tensor([0., 1.], device='cuda:0')\n",
      "indices (tensor([0], device='cuda:0'),)\n",
      "C:\\\\5025211148\\\\YOLOv9-Segmentation\\\\segmented_AB\\\\merged_segs_11.jpg\n",
      "\n",
      "\n",
      "class tensor([0., 1.], device='cuda:0')\n",
      "indices (tensor([0], device='cuda:0'),)\n",
      "C:\\\\5025211148\\\\YOLOv9-Segmentation\\\\segmented_AB\\\\merged_segs_12.jpg\n",
      "\n",
      "\n",
      "class tensor([0., 1.], device='cuda:0')\n",
      "indices (tensor([0], device='cuda:0'),)\n",
      "C:\\\\5025211148\\\\YOLOv9-Segmentation\\\\segmented_AB\\\\merged_segs_13.jpg\n",
      "\n",
      "\n",
      "class tensor([0., 1.], device='cuda:0')\n",
      "indices (tensor([0], device='cuda:0'),)\n",
      "C:\\\\5025211148\\\\YOLOv9-Segmentation\\\\segmented_AB\\\\merged_segs_14.jpg\n",
      "\n",
      "\n",
      "class tensor([0., 1.], device='cuda:0')\n",
      "indices (tensor([0], device='cuda:0'),)\n",
      "C:\\\\5025211148\\\\YOLOv9-Segmentation\\\\segmented_AB\\\\merged_segs_15.jpg\n",
      "\n",
      "\n",
      "class tensor([0., 1.], device='cuda:0')\n",
      "indices (tensor([0], device='cuda:0'),)\n",
      "C:\\\\5025211148\\\\YOLOv9-Segmentation\\\\segmented_AB\\\\merged_segs_16.jpg\n",
      "\n",
      "\n",
      "class tensor([0.], device='cuda:0')\n",
      "indices (tensor([0], device='cuda:0'),)\n",
      "C:\\\\5025211148\\\\YOLOv9-Segmentation\\\\segmented_AB\\\\merged_segs_17.jpg\n",
      "\n",
      "\n",
      "class tensor([0., 1.], device='cuda:0')\n",
      "indices (tensor([0], device='cuda:0'),)\n",
      "C:\\\\5025211148\\\\YOLOv9-Segmentation\\\\segmented_AB\\\\merged_segs_18.jpg\n",
      "\n",
      "\n",
      "class tensor([0., 1.], device='cuda:0')\n",
      "indices (tensor([0], device='cuda:0'),)\n",
      "C:\\\\5025211148\\\\YOLOv9-Segmentation\\\\segmented_AB\\\\merged_segs_19.jpg\n",
      "\n",
      "\n",
      "class tensor([0., 1.], device='cuda:0')\n",
      "indices (tensor([0], device='cuda:0'),)\n",
      "C:\\\\5025211148\\\\YOLOv9-Segmentation\\\\segmented_AB\\\\merged_segs_20.jpg\n",
      "\n",
      "\n",
      "class tensor([0., 1.], device='cuda:0')\n",
      "indices (tensor([0], device='cuda:0'),)\n",
      "C:\\\\5025211148\\\\YOLOv9-Segmentation\\\\segmented_AB\\\\merged_segs_21.jpg\n",
      "\n",
      "\n",
      "class tensor([0., 1.], device='cuda:0')\n",
      "indices (tensor([0], device='cuda:0'),)\n",
      "C:\\\\5025211148\\\\YOLOv9-Segmentation\\\\segmented_AB\\\\merged_segs_22.jpg\n",
      "\n",
      "\n",
      "class tensor([0., 1.], device='cuda:0')\n",
      "indices (tensor([0], device='cuda:0'),)\n",
      "C:\\\\5025211148\\\\YOLOv9-Segmentation\\\\segmented_AB\\\\merged_segs_23.jpg\n",
      "\n",
      "\n",
      "class tensor([0., 1.], device='cuda:0')\n",
      "indices (tensor([0], device='cuda:0'),)\n",
      "C:\\\\5025211148\\\\YOLOv9-Segmentation\\\\segmented_AB\\\\merged_segs_24.jpg\n",
      "\n",
      "\n",
      "class tensor([0., 1.], device='cuda:0')\n",
      "indices (tensor([0], device='cuda:0'),)\n",
      "C:\\\\5025211148\\\\YOLOv9-Segmentation\\\\segmented_AB\\\\merged_segs_25.jpg\n",
      "\n",
      "\n",
      "class tensor([0., 1.], device='cuda:0')\n",
      "indices (tensor([0], device='cuda:0'),)\n",
      "C:\\\\5025211148\\\\YOLOv9-Segmentation\\\\segmented_AB\\\\merged_segs_26.jpg\n",
      "\n",
      "\n",
      "class tensor([0., 1.], device='cuda:0')\n",
      "indices (tensor([0], device='cuda:0'),)\n",
      "C:\\\\5025211148\\\\YOLOv9-Segmentation\\\\segmented_AB\\\\merged_segs_27.jpg\n",
      "\n",
      "\n",
      "class tensor([0., 1.], device='cuda:0')\n",
      "indices (tensor([0], device='cuda:0'),)\n",
      "C:\\\\5025211148\\\\YOLOv9-Segmentation\\\\segmented_AB\\\\merged_segs_28.jpg\n",
      "\n",
      "\n",
      "class tensor([0., 1.], device='cuda:0')\n",
      "indices (tensor([0], device='cuda:0'),)\n",
      "C:\\\\5025211148\\\\YOLOv9-Segmentation\\\\segmented_AB\\\\merged_segs_29.jpg\n",
      "\n",
      "\n",
      "class tensor([0., 1.], device='cuda:0')\n",
      "indices (tensor([0], device='cuda:0'),)\n",
      "C:\\\\5025211148\\\\YOLOv9-Segmentation\\\\segmented_AB\\\\merged_segs_30.jpg\n",
      "\n",
      "\n",
      "class tensor([0., 1.], device='cuda:0')\n",
      "indices (tensor([0], device='cuda:0'),)\n",
      "C:\\\\5025211148\\\\YOLOv9-Segmentation\\\\segmented_AB\\\\merged_segs_31.jpg\n",
      "\n",
      "\n",
      "class tensor([0., 1.], device='cuda:0')\n",
      "indices (tensor([0], device='cuda:0'),)\n",
      "C:\\\\5025211148\\\\YOLOv9-Segmentation\\\\segmented_AB\\\\merged_segs_32.jpg\n",
      "\n",
      "\n",
      "class tensor([0., 1.], device='cuda:0')\n",
      "indices (tensor([0], device='cuda:0'),)\n",
      "C:\\\\5025211148\\\\YOLOv9-Segmentation\\\\segmented_AB\\\\merged_segs_33.jpg\n",
      "\n",
      "\n",
      "class tensor([0., 1.], device='cuda:0')\n",
      "indices (tensor([0], device='cuda:0'),)\n",
      "C:\\\\5025211148\\\\YOLOv9-Segmentation\\\\segmented_AB\\\\merged_segs_34.jpg\n",
      "\n",
      "\n",
      "class tensor([0., 1.], device='cuda:0')\n",
      "indices (tensor([0], device='cuda:0'),)\n",
      "C:\\\\5025211148\\\\YOLOv9-Segmentation\\\\segmented_AB\\\\merged_segs_35.jpg\n",
      "\n",
      "\n",
      "class tensor([0., 1.], device='cuda:0')\n",
      "indices (tensor([0], device='cuda:0'),)\n",
      "C:\\\\5025211148\\\\YOLOv9-Segmentation\\\\segmented_AB\\\\merged_segs_36.jpg\n",
      "\n",
      "\n",
      "class tensor([0., 1.], device='cuda:0')\n",
      "indices (tensor([0], device='cuda:0'),)\n",
      "C:\\\\5025211148\\\\YOLOv9-Segmentation\\\\segmented_AB\\\\merged_segs_37.jpg\n",
      "\n",
      "\n",
      "class tensor([0., 1.], device='cuda:0')\n",
      "indices (tensor([0], device='cuda:0'),)\n",
      "C:\\\\5025211148\\\\YOLOv9-Segmentation\\\\segmented_AB\\\\merged_segs_38.jpg\n",
      "\n",
      "\n",
      "class tensor([0., 1.], device='cuda:0')\n",
      "indices (tensor([0], device='cuda:0'),)\n",
      "C:\\\\5025211148\\\\YOLOv9-Segmentation\\\\segmented_AB\\\\merged_segs_39.jpg\n",
      "\n",
      "\n",
      "class tensor([0., 1.], device='cuda:0')\n",
      "indices (tensor([0], device='cuda:0'),)\n",
      "C:\\\\5025211148\\\\YOLOv9-Segmentation\\\\segmented_AB\\\\merged_segs_40.jpg\n",
      "\n",
      "\n",
      "class tensor([0., 1.], device='cuda:0')\n",
      "indices (tensor([0], device='cuda:0'),)\n",
      "C:\\\\5025211148\\\\YOLOv9-Segmentation\\\\segmented_AB\\\\merged_segs_41.jpg\n",
      "\n",
      "\n",
      "class tensor([0., 1.], device='cuda:0')\n",
      "indices (tensor([0], device='cuda:0'),)\n",
      "C:\\\\5025211148\\\\YOLOv9-Segmentation\\\\segmented_AB\\\\merged_segs_42.jpg\n",
      "\n",
      "\n",
      "class tensor([0., 1.], device='cuda:0')\n",
      "indices (tensor([0], device='cuda:0'),)\n",
      "C:\\\\5025211148\\\\YOLOv9-Segmentation\\\\segmented_AB\\\\merged_segs_43.jpg\n",
      "\n",
      "\n",
      "class tensor([0., 1.], device='cuda:0')\n",
      "indices (tensor([0], device='cuda:0'),)\n",
      "C:\\\\5025211148\\\\YOLOv9-Segmentation\\\\segmented_AB\\\\merged_segs_44.jpg\n",
      "\n",
      "\n",
      "class tensor([0., 1.], device='cuda:0')\n",
      "indices (tensor([0], device='cuda:0'),)\n",
      "C:\\\\5025211148\\\\YOLOv9-Segmentation\\\\segmented_AB\\\\merged_segs_45.jpg\n",
      "\n",
      "\n",
      "class tensor([0., 1.], device='cuda:0')\n",
      "indices (tensor([0], device='cuda:0'),)\n",
      "C:\\\\5025211148\\\\YOLOv9-Segmentation\\\\segmented_AB\\\\merged_segs_46.jpg\n",
      "\n",
      "\n",
      "class tensor([0., 1.], device='cuda:0')\n",
      "indices (tensor([0], device='cuda:0'),)\n",
      "C:\\\\5025211148\\\\YOLOv9-Segmentation\\\\segmented_AB\\\\merged_segs_47.jpg\n",
      "\n",
      "\n",
      "class tensor([0., 1.], device='cuda:0')\n",
      "indices (tensor([0], device='cuda:0'),)\n",
      "C:\\\\5025211148\\\\YOLOv9-Segmentation\\\\segmented_AB\\\\merged_segs_48.jpg\n",
      "\n",
      "\n",
      "class tensor([0., 1.], device='cuda:0')\n",
      "indices (tensor([0], device='cuda:0'),)\n",
      "C:\\\\5025211148\\\\YOLOv9-Segmentation\\\\segmented_AB\\\\merged_segs_49.jpg\n",
      "\n",
      "\n",
      "class tensor([0., 1.], device='cuda:0')\n",
      "indices (tensor([0], device='cuda:0'),)\n",
      "C:\\\\5025211148\\\\YOLOv9-Segmentation\\\\segmented_AB\\\\merged_segs_50.jpg\n",
      "\n",
      "\n",
      "class tensor([0., 1., 0., 0.], device='cuda:0')\n",
      "indices (tensor([0], device='cuda:0'),)\n",
      "C:\\\\5025211148\\\\YOLOv9-Segmentation\\\\segmented_AB\\\\merged_segs_51.jpg\n",
      "\n",
      "\n",
      "class tensor([0., 0., 1., 0.], device='cuda:0')\n",
      "indices (tensor([0], device='cuda:0'),)\n",
      "C:\\\\5025211148\\\\YOLOv9-Segmentation\\\\segmented_AB\\\\merged_segs_52.jpg\n",
      "\n",
      "\n",
      "class tensor([0., 0., 1.], device='cuda:0')\n",
      "indices (tensor([0], device='cuda:0'),)\n",
      "C:\\\\5025211148\\\\YOLOv9-Segmentation\\\\segmented_AB\\\\merged_segs_53.jpg\n",
      "\n",
      "\n",
      "class tensor([0., 1.], device='cuda:0')\n",
      "indices (tensor([0], device='cuda:0'),)\n",
      "C:\\\\5025211148\\\\YOLOv9-Segmentation\\\\segmented_AB\\\\merged_segs_54.jpg\n",
      "\n",
      "\n",
      "class tensor([0., 1., 0.], device='cuda:0')\n",
      "indices (tensor([0], device='cuda:0'),)\n",
      "C:\\\\5025211148\\\\YOLOv9-Segmentation\\\\segmented_AB\\\\merged_segs_55.jpg\n",
      "\n",
      "\n",
      "class tensor([0., 0., 1.], device='cuda:0')\n",
      "indices (tensor([0], device='cuda:0'),)\n",
      "C:\\\\5025211148\\\\YOLOv9-Segmentation\\\\segmented_AB\\\\merged_segs_56.jpg\n",
      "\n",
      "\n",
      "class tensor([0., 0., 1.], device='cuda:0')\n",
      "indices (tensor([0], device='cuda:0'),)\n",
      "C:\\\\5025211148\\\\YOLOv9-Segmentation\\\\segmented_AB\\\\merged_segs_57.jpg\n",
      "\n",
      "\n",
      "class tensor([0., 1., 0.], device='cuda:0')\n",
      "indices (tensor([0], device='cuda:0'),)\n",
      "C:\\\\5025211148\\\\YOLOv9-Segmentation\\\\segmented_AB\\\\merged_segs_58.jpg\n",
      "\n",
      "\n",
      "class tensor([0., 1.], device='cuda:0')\n",
      "indices (tensor([0], device='cuda:0'),)\n",
      "C:\\\\5025211148\\\\YOLOv9-Segmentation\\\\segmented_AB\\\\merged_segs_59.jpg\n",
      "\n",
      "\n",
      "class tensor([0., 1.], device='cuda:0')\n",
      "indices (tensor([0], device='cuda:0'),)\n",
      "C:\\\\5025211148\\\\YOLOv9-Segmentation\\\\segmented_AB\\\\merged_segs_60.jpg\n",
      "\n",
      "\n",
      "class tensor([0.], device='cuda:0')\n",
      "indices (tensor([0], device='cuda:0'),)\n",
      "C:\\\\5025211148\\\\YOLOv9-Segmentation\\\\segmented_AB\\\\merged_segs_61.jpg\n",
      "\n",
      "\n",
      "class tensor([0., 1.], device='cuda:0')\n",
      "indices (tensor([0], device='cuda:0'),)\n",
      "C:\\\\5025211148\\\\YOLOv9-Segmentation\\\\segmented_AB\\\\merged_segs_62.jpg\n",
      "\n",
      "\n",
      "class tensor([0., 1.], device='cuda:0')\n",
      "indices (tensor([0], device='cuda:0'),)\n",
      "C:\\\\5025211148\\\\YOLOv9-Segmentation\\\\segmented_AB\\\\merged_segs_63.jpg\n",
      "\n",
      "\n",
      "class tensor([0., 1.], device='cuda:0')\n",
      "indices (tensor([0], device='cuda:0'),)\n",
      "C:\\\\5025211148\\\\YOLOv9-Segmentation\\\\segmented_AB\\\\merged_segs_64.jpg\n",
      "\n",
      "\n",
      "class tensor([0., 1.], device='cuda:0')\n",
      "indices (tensor([0], device='cuda:0'),)\n",
      "C:\\\\5025211148\\\\YOLOv9-Segmentation\\\\segmented_AB\\\\merged_segs_65.jpg\n",
      "\n",
      "\n",
      "class tensor([0., 1.], device='cuda:0')\n",
      "indices (tensor([0], device='cuda:0'),)\n",
      "C:\\\\5025211148\\\\YOLOv9-Segmentation\\\\segmented_AB\\\\merged_segs_66.jpg\n",
      "\n",
      "\n",
      "class tensor([0.], device='cuda:0')\n",
      "indices (tensor([0], device='cuda:0'),)\n",
      "C:\\\\5025211148\\\\YOLOv9-Segmentation\\\\segmented_AB\\\\merged_segs_67.jpg\n",
      "\n",
      "\n",
      "class tensor([0., 0.], device='cuda:0')\n",
      "indices (tensor([0], device='cuda:0'),)\n",
      "C:\\\\5025211148\\\\YOLOv9-Segmentation\\\\segmented_AB\\\\merged_segs_68.jpg\n",
      "\n",
      "\n",
      "class tensor([0., 1.], device='cuda:0')\n",
      "indices (tensor([0], device='cuda:0'),)\n",
      "C:\\\\5025211148\\\\YOLOv9-Segmentation\\\\segmented_AB\\\\merged_segs_69.jpg\n",
      "\n",
      "\n",
      "class tensor([0., 0., 1.], device='cuda:0')\n",
      "indices (tensor([0], device='cuda:0'),)\n",
      "C:\\\\5025211148\\\\YOLOv9-Segmentation\\\\segmented_AB\\\\merged_segs_70.jpg\n",
      "\n",
      "\n",
      "class tensor([0., 1., 0.], device='cuda:0')\n",
      "indices (tensor([0], device='cuda:0'),)\n",
      "C:\\\\5025211148\\\\YOLOv9-Segmentation\\\\segmented_AB\\\\merged_segs_71.jpg\n",
      "\n",
      "\n",
      "class tensor([0., 1., 0.], device='cuda:0')\n",
      "indices (tensor([0], device='cuda:0'),)\n",
      "C:\\\\5025211148\\\\YOLOv9-Segmentation\\\\segmented_AB\\\\merged_segs_72.jpg\n",
      "\n",
      "\n",
      "class tensor([0., 1., 0.], device='cuda:0')\n",
      "indices (tensor([0], device='cuda:0'),)\n",
      "C:\\\\5025211148\\\\YOLOv9-Segmentation\\\\segmented_AB\\\\merged_segs_73.jpg\n",
      "\n",
      "\n",
      "class tensor([0., 1.], device='cuda:0')\n",
      "indices (tensor([0], device='cuda:0'),)\n",
      "C:\\\\5025211148\\\\YOLOv9-Segmentation\\\\segmented_AB\\\\merged_segs_74.jpg\n",
      "\n",
      "\n"
     ]
    }
   ],
   "source": [
    "import torch\n",
    "import cv2\n",
    "import numpy as np\n",
    "i = 0\n",
    "x = 101\n",
    "y = 200\n",
    "\n",
    "for result in results:\n",
    "  if(result.masks is not None):\n",
    "    # get the AB masks\n",
    "    boxes = result.boxes.data\n",
    "    clss = boxes[:, 5]\n",
    "    AB_indices = torch.where(clss == 0)\n",
    "    AB_indices = (AB_indices[0][0].unsqueeze(0),)\n",
    "    # AB_indices = AB_indices[0][0]\n",
    "    print('class', clss)\n",
    "    print('indices', AB_indices)\n",
    "    # Convert mask to single channel image\n",
    "    try:\n",
    "      mask_raw = result.masks.cpu().data[[AB_indices]].numpy().transpose(1, 2, 0)\n",
    "      # Convert single channel grayscale to 3 channel image\n",
    "      mask_3channel = cv2.merge((mask_raw,mask_raw,mask_raw))\n",
    "\n",
    "      # Get the size of the original image (height, width, channels)\n",
    "      h2, w2, c2 = result.orig_img.shape\n",
    "\n",
    "      # Resize the mask to the same size as the image (can probably be removed if image is the same size as the model)\n",
    "      mask = cv2.resize(mask_3channel, (w2, h2))\n",
    "\n",
    "      # Convert BGR to HSV\n",
    "      hsv = cv2.cvtColor(mask, cv2.COLOR_BGR2HSV)\n",
    "\n",
    "      # Define range of brightness in HSV\n",
    "      lower_black = np.array([0,0,0])\n",
    "      upper_black = np.array([0,0,1])\n",
    "\n",
    "      # Create a mask. Threshold the HSV image to get everything black\n",
    "      mask = cv2.inRange(mask, lower_black, upper_black)\n",
    "\n",
    "      # Invert the mask to get everything but black\n",
    "      mask = cv2.bitwise_not(mask)\n",
    "\n",
    "      # Apply the mask to the original image\n",
    "      masked = cv2.bitwise_and(result.orig_img, result.orig_img, mask=mask)\n",
    "\n",
    "      # Show the masked part of the image\n",
    "      # cv2.imshow(\"mask\", masked)\n",
    "      resized_mask = cv2.resize(mask, (101, 200))\n",
    "      cv2.imwrite(fr'{segmented_AB_path}\\\\merged_segs_{i}.jpg', resized_mask)\n",
    "      print(fr'{segmented_AB_path}\\\\merged_segs_{i}.jpg')\n",
    "    except Exception as e:\n",
    "      print('error',e)\n",
    "      # print('\\n')\n",
    "      continue\n",
    "  else:\n",
    "    width = 101\n",
    "    height = 200\n",
    "    black_image = np.zeros((height, width), dtype=np.uint8)\n",
    "    print('ada yang kosong lo..')\n",
    "    # Save the black image to a file\n",
    "    cv2.imwrite(fr'{segmented_AB_path}\\\\merged_segs_{i}.jpg', black_image)\n",
    "    print(fr'{segmented_AB_path}\\\\merged_segs_{i}.jpg')\n",
    "  print('\\n')\n",
    "  i = i+1"
   ]
  },
  {
   "cell_type": "code",
   "execution_count": 17,
   "metadata": {},
   "outputs": [
    {
     "name": "stdout",
     "output_type": "stream",
     "text": [
      "C:\\\\5025211148\\\\YOLOv9-Segmentation\\\\segmented_AB\\merged_segs_0.jpg\n",
      "C:\\\\5025211148\\\\YOLOv9-Segmentation\\\\segmented_AB\\merged_segs_1.jpg\n",
      "C:\\\\5025211148\\\\YOLOv9-Segmentation\\\\segmented_AB\\merged_segs_2.jpg\n",
      "C:\\\\5025211148\\\\YOLOv9-Segmentation\\\\segmented_AB\\merged_segs_3.jpg\n",
      "C:\\\\5025211148\\\\YOLOv9-Segmentation\\\\segmented_AB\\merged_segs_4.jpg\n",
      "C:\\\\5025211148\\\\YOLOv9-Segmentation\\\\segmented_AB\\merged_segs_5.jpg\n",
      "C:\\\\5025211148\\\\YOLOv9-Segmentation\\\\segmented_AB\\merged_segs_6.jpg\n",
      "C:\\\\5025211148\\\\YOLOv9-Segmentation\\\\segmented_AB\\merged_segs_7.jpg\n",
      "C:\\\\5025211148\\\\YOLOv9-Segmentation\\\\segmented_AB\\merged_segs_8.jpg\n",
      "C:\\\\5025211148\\\\YOLOv9-Segmentation\\\\segmented_AB\\merged_segs_9.jpg\n",
      "C:\\\\5025211148\\\\YOLOv9-Segmentation\\\\segmented_AB\\merged_segs_10.jpg\n",
      "C:\\\\5025211148\\\\YOLOv9-Segmentation\\\\segmented_AB\\merged_segs_11.jpg\n",
      "C:\\\\5025211148\\\\YOLOv9-Segmentation\\\\segmented_AB\\merged_segs_12.jpg\n",
      "C:\\\\5025211148\\\\YOLOv9-Segmentation\\\\segmented_AB\\merged_segs_13.jpg\n",
      "C:\\\\5025211148\\\\YOLOv9-Segmentation\\\\segmented_AB\\merged_segs_14.jpg\n",
      "C:\\\\5025211148\\\\YOLOv9-Segmentation\\\\segmented_AB\\merged_segs_15.jpg\n",
      "C:\\\\5025211148\\\\YOLOv9-Segmentation\\\\segmented_AB\\merged_segs_16.jpg\n",
      "C:\\\\5025211148\\\\YOLOv9-Segmentation\\\\segmented_AB\\merged_segs_17.jpg\n",
      "C:\\\\5025211148\\\\YOLOv9-Segmentation\\\\segmented_AB\\merged_segs_18.jpg\n",
      "C:\\\\5025211148\\\\YOLOv9-Segmentation\\\\segmented_AB\\merged_segs_19.jpg\n",
      "C:\\\\5025211148\\\\YOLOv9-Segmentation\\\\segmented_AB\\merged_segs_20.jpg\n",
      "C:\\\\5025211148\\\\YOLOv9-Segmentation\\\\segmented_AB\\merged_segs_21.jpg\n",
      "C:\\\\5025211148\\\\YOLOv9-Segmentation\\\\segmented_AB\\merged_segs_22.jpg\n",
      "C:\\\\5025211148\\\\YOLOv9-Segmentation\\\\segmented_AB\\merged_segs_23.jpg\n",
      "C:\\\\5025211148\\\\YOLOv9-Segmentation\\\\segmented_AB\\merged_segs_24.jpg\n",
      "C:\\\\5025211148\\\\YOLOv9-Segmentation\\\\segmented_AB\\merged_segs_25.jpg\n",
      "C:\\\\5025211148\\\\YOLOv9-Segmentation\\\\segmented_AB\\merged_segs_26.jpg\n",
      "C:\\\\5025211148\\\\YOLOv9-Segmentation\\\\segmented_AB\\merged_segs_27.jpg\n",
      "C:\\\\5025211148\\\\YOLOv9-Segmentation\\\\segmented_AB\\merged_segs_28.jpg\n",
      "C:\\\\5025211148\\\\YOLOv9-Segmentation\\\\segmented_AB\\merged_segs_29.jpg\n",
      "C:\\\\5025211148\\\\YOLOv9-Segmentation\\\\segmented_AB\\merged_segs_30.jpg\n",
      "C:\\\\5025211148\\\\YOLOv9-Segmentation\\\\segmented_AB\\merged_segs_31.jpg\n",
      "C:\\\\5025211148\\\\YOLOv9-Segmentation\\\\segmented_AB\\merged_segs_32.jpg\n",
      "C:\\\\5025211148\\\\YOLOv9-Segmentation\\\\segmented_AB\\merged_segs_33.jpg\n",
      "C:\\\\5025211148\\\\YOLOv9-Segmentation\\\\segmented_AB\\merged_segs_34.jpg\n",
      "C:\\\\5025211148\\\\YOLOv9-Segmentation\\\\segmented_AB\\merged_segs_35.jpg\n",
      "C:\\\\5025211148\\\\YOLOv9-Segmentation\\\\segmented_AB\\merged_segs_36.jpg\n",
      "C:\\\\5025211148\\\\YOLOv9-Segmentation\\\\segmented_AB\\merged_segs_37.jpg\n",
      "C:\\\\5025211148\\\\YOLOv9-Segmentation\\\\segmented_AB\\merged_segs_38.jpg\n",
      "C:\\\\5025211148\\\\YOLOv9-Segmentation\\\\segmented_AB\\merged_segs_39.jpg\n",
      "C:\\\\5025211148\\\\YOLOv9-Segmentation\\\\segmented_AB\\merged_segs_40.jpg\n",
      "C:\\\\5025211148\\\\YOLOv9-Segmentation\\\\segmented_AB\\merged_segs_41.jpg\n",
      "C:\\\\5025211148\\\\YOLOv9-Segmentation\\\\segmented_AB\\merged_segs_42.jpg\n",
      "C:\\\\5025211148\\\\YOLOv9-Segmentation\\\\segmented_AB\\merged_segs_43.jpg\n",
      "C:\\\\5025211148\\\\YOLOv9-Segmentation\\\\segmented_AB\\merged_segs_44.jpg\n",
      "C:\\\\5025211148\\\\YOLOv9-Segmentation\\\\segmented_AB\\merged_segs_45.jpg\n",
      "C:\\\\5025211148\\\\YOLOv9-Segmentation\\\\segmented_AB\\merged_segs_46.jpg\n",
      "C:\\\\5025211148\\\\YOLOv9-Segmentation\\\\segmented_AB\\merged_segs_47.jpg\n",
      "C:\\\\5025211148\\\\YOLOv9-Segmentation\\\\segmented_AB\\merged_segs_48.jpg\n",
      "C:\\\\5025211148\\\\YOLOv9-Segmentation\\\\segmented_AB\\merged_segs_49.jpg\n",
      "C:\\\\5025211148\\\\YOLOv9-Segmentation\\\\segmented_AB\\merged_segs_50.jpg\n",
      "C:\\\\5025211148\\\\YOLOv9-Segmentation\\\\segmented_AB\\merged_segs_51.jpg\n",
      "C:\\\\5025211148\\\\YOLOv9-Segmentation\\\\segmented_AB\\merged_segs_52.jpg\n",
      "C:\\\\5025211148\\\\YOLOv9-Segmentation\\\\segmented_AB\\merged_segs_53.jpg\n",
      "C:\\\\5025211148\\\\YOLOv9-Segmentation\\\\segmented_AB\\merged_segs_54.jpg\n",
      "C:\\\\5025211148\\\\YOLOv9-Segmentation\\\\segmented_AB\\merged_segs_55.jpg\n",
      "C:\\\\5025211148\\\\YOLOv9-Segmentation\\\\segmented_AB\\merged_segs_56.jpg\n",
      "C:\\\\5025211148\\\\YOLOv9-Segmentation\\\\segmented_AB\\merged_segs_57.jpg\n",
      "C:\\\\5025211148\\\\YOLOv9-Segmentation\\\\segmented_AB\\merged_segs_58.jpg\n",
      "C:\\\\5025211148\\\\YOLOv9-Segmentation\\\\segmented_AB\\merged_segs_59.jpg\n",
      "C:\\\\5025211148\\\\YOLOv9-Segmentation\\\\segmented_AB\\merged_segs_60.jpg\n",
      "C:\\\\5025211148\\\\YOLOv9-Segmentation\\\\segmented_AB\\merged_segs_61.jpg\n",
      "C:\\\\5025211148\\\\YOLOv9-Segmentation\\\\segmented_AB\\merged_segs_62.jpg\n",
      "C:\\\\5025211148\\\\YOLOv9-Segmentation\\\\segmented_AB\\merged_segs_63.jpg\n",
      "C:\\\\5025211148\\\\YOLOv9-Segmentation\\\\segmented_AB\\merged_segs_64.jpg\n",
      "C:\\\\5025211148\\\\YOLOv9-Segmentation\\\\segmented_AB\\merged_segs_65.jpg\n",
      "C:\\\\5025211148\\\\YOLOv9-Segmentation\\\\segmented_AB\\merged_segs_66.jpg\n",
      "C:\\\\5025211148\\\\YOLOv9-Segmentation\\\\segmented_AB\\merged_segs_67.jpg\n",
      "C:\\\\5025211148\\\\YOLOv9-Segmentation\\\\segmented_AB\\merged_segs_68.jpg\n",
      "C:\\\\5025211148\\\\YOLOv9-Segmentation\\\\segmented_AB\\merged_segs_69.jpg\n",
      "C:\\\\5025211148\\\\YOLOv9-Segmentation\\\\segmented_AB\\merged_segs_70.jpg\n",
      "C:\\\\5025211148\\\\YOLOv9-Segmentation\\\\segmented_AB\\merged_segs_71.jpg\n",
      "C:\\\\5025211148\\\\YOLOv9-Segmentation\\\\segmented_AB\\merged_segs_72.jpg\n",
      "C:\\\\5025211148\\\\YOLOv9-Segmentation\\\\segmented_AB\\merged_segs_73.jpg\n",
      "C:\\\\5025211148\\\\YOLOv9-Segmentation\\\\segmented_AB\\merged_segs_74.jpg\n"
     ]
    }
   ],
   "source": [
    "import os\n",
    "import re\n",
    "\n",
    "# specify the directory path\n",
    "directory_path = segmented_AB_path_2\n",
    "\n",
    "# create an empty list to store the filenames with directory path\n",
    "file_list_AB = []\n",
    "\n",
    "# iterate over the files in the directory\n",
    "for filename in os.listdir(directory_path):\n",
    "    # check if the item is a file\n",
    "    if os.path.isfile(os.path.join(directory_path, filename)):\n",
    "        # append the filename with directory path to the list\n",
    "        file_list_AB.append(os.path.join(directory_path, filename))\n",
    "\n",
    "def extract_number(s):\n",
    "    match = re.search(r'merged_segs_(\\d+)', s)  # Match 'merged_segs_' followed by one or more digits\n",
    "    return int(match.group(1)) if match else float('inf')\n",
    "\n",
    "file_list_AB = sorted(file_list_AB, key=extract_number)\n",
    "for filename in file_list_AB:\n",
    "    print(filename)\n",
    "# print(file_list)  # Output: sorted file_list with filenames like 'merged_segs_0', 'merged_segs_1', 'merged_segs_2', etc.\n"
   ]
  },
  {
   "cell_type": "code",
   "execution_count": 18,
   "metadata": {},
   "outputs": [
    {
     "name": "stdout",
     "output_type": "stream",
     "text": [
      "(75, 200, 101)\n"
     ]
    }
   ],
   "source": [
    "import numpy as np\n",
    "from PIL import Image  # If your images are in image files\n",
    "\n",
    "# Assuming img_files is a list of file paths to the 2D images\n",
    "# img_files = ['image1.png', 'image2.png', 'image3.png']  # Replace with your actual file paths\n",
    "\n",
    "# Load the images and convert them to numpy arrays\n",
    "image_arrays = [np.array(Image.open(img_file)) for img_file in file_list_AB]\n",
    "\n",
    "# Stack the image arrays into a 3D numpy array\n",
    "stacked_images = np.stack(image_arrays, axis=0)\n",
    "\n",
    "# stacked_images is now a 3D numpy array where the first dimension represents the index of the image in the list\n",
    "\n",
    "# Example usage:\n",
    "print(stacked_images.shape)  # Output: (3, height, width, channels) assuming RGB images\n",
    "\n",
    "np.save(segmented_AB_npy, stacked_images)"
   ]
  },
  {
   "cell_type": "code",
   "execution_count": 19,
   "metadata": {},
   "outputs": [
    {
     "name": "stdout",
     "output_type": "stream",
     "text": [
      "class tensor([0., 1.], device='cuda:0')\n",
      "indices (tensor([1], device='cuda:0'),)\n",
      "C:\\\\5025211148\\\\YOLOv9-Segmentation\\\\segmented_MC\\\\merged_segs_0.jpg\n",
      "ketemu\n",
      "\n",
      "\n",
      "class tensor([0., 1.], device='cuda:0')\n",
      "indices (tensor([1], device='cuda:0'),)\n",
      "C:\\\\5025211148\\\\YOLOv9-Segmentation\\\\segmented_MC\\\\merged_segs_1.jpg\n",
      "ketemu\n",
      "\n",
      "\n",
      "class tensor([0., 1.], device='cuda:0')\n",
      "indices (tensor([1], device='cuda:0'),)\n",
      "C:\\\\5025211148\\\\YOLOv9-Segmentation\\\\segmented_MC\\\\merged_segs_2.jpg\n",
      "ketemu\n",
      "\n",
      "\n",
      "class tensor([0., 1.], device='cuda:0')\n",
      "indices (tensor([1], device='cuda:0'),)\n",
      "C:\\\\5025211148\\\\YOLOv9-Segmentation\\\\segmented_MC\\\\merged_segs_3.jpg\n",
      "ketemu\n",
      "\n",
      "\n",
      "class tensor([0., 1.], device='cuda:0')\n",
      "indices (tensor([1], device='cuda:0'),)\n",
      "C:\\\\5025211148\\\\YOLOv9-Segmentation\\\\segmented_MC\\\\merged_segs_4.jpg\n",
      "ketemu\n",
      "\n",
      "\n",
      "class tensor([0., 1.], device='cuda:0')\n",
      "indices (tensor([1], device='cuda:0'),)\n",
      "C:\\\\5025211148\\\\YOLOv9-Segmentation\\\\segmented_MC\\\\merged_segs_5.jpg\n",
      "ketemu\n",
      "\n",
      "\n",
      "class tensor([0., 1.], device='cuda:0')\n",
      "indices (tensor([1], device='cuda:0'),)\n",
      "C:\\\\5025211148\\\\YOLOv9-Segmentation\\\\segmented_MC\\\\merged_segs_6.jpg\n",
      "ketemu\n",
      "\n",
      "\n",
      "class tensor([0., 1.], device='cuda:0')\n",
      "indices (tensor([1], device='cuda:0'),)\n",
      "C:\\\\5025211148\\\\YOLOv9-Segmentation\\\\segmented_MC\\\\merged_segs_7.jpg\n",
      "ketemu\n",
      "\n",
      "\n",
      "class tensor([0., 1.], device='cuda:0')\n",
      "indices (tensor([1], device='cuda:0'),)\n",
      "C:\\\\5025211148\\\\YOLOv9-Segmentation\\\\segmented_MC\\\\merged_segs_8.jpg\n",
      "ketemu\n",
      "\n",
      "\n",
      "class tensor([0., 1.], device='cuda:0')\n",
      "indices (tensor([1], device='cuda:0'),)\n",
      "C:\\\\5025211148\\\\YOLOv9-Segmentation\\\\segmented_MC\\\\merged_segs_9.jpg\n",
      "ketemu\n",
      "\n",
      "\n",
      "class tensor([0., 1.], device='cuda:0')\n",
      "indices (tensor([1], device='cuda:0'),)\n",
      "C:\\\\5025211148\\\\YOLOv9-Segmentation\\\\segmented_MC\\\\merged_segs_10.jpg\n",
      "ketemu\n",
      "\n",
      "\n",
      "class tensor([0., 1.], device='cuda:0')\n",
      "indices (tensor([1], device='cuda:0'),)\n",
      "C:\\\\5025211148\\\\YOLOv9-Segmentation\\\\segmented_MC\\\\merged_segs_11.jpg\n",
      "ketemu\n",
      "\n",
      "\n",
      "class tensor([0., 1.], device='cuda:0')\n",
      "indices (tensor([1], device='cuda:0'),)\n",
      "C:\\\\5025211148\\\\YOLOv9-Segmentation\\\\segmented_MC\\\\merged_segs_12.jpg\n",
      "ketemu\n",
      "\n",
      "\n",
      "class tensor([0., 1.], device='cuda:0')\n",
      "indices (tensor([1], device='cuda:0'),)\n",
      "C:\\\\5025211148\\\\YOLOv9-Segmentation\\\\segmented_MC\\\\merged_segs_13.jpg\n",
      "ketemu\n",
      "\n",
      "\n",
      "class tensor([0., 1.], device='cuda:0')\n",
      "indices (tensor([1], device='cuda:0'),)\n",
      "C:\\\\5025211148\\\\YOLOv9-Segmentation\\\\segmented_MC\\\\merged_segs_14.jpg\n",
      "ketemu\n",
      "\n",
      "\n",
      "class tensor([0., 1.], device='cuda:0')\n",
      "indices (tensor([1], device='cuda:0'),)\n",
      "C:\\\\5025211148\\\\YOLOv9-Segmentation\\\\segmented_MC\\\\merged_segs_15.jpg\n",
      "ketemu\n",
      "\n",
      "\n",
      "class tensor([0., 1.], device='cuda:0')\n",
      "indices (tensor([1], device='cuda:0'),)\n",
      "C:\\\\5025211148\\\\YOLOv9-Segmentation\\\\segmented_MC\\\\merged_segs_16.jpg\n",
      "ketemu\n",
      "\n",
      "\n",
      "error index 0 is out of bounds for dimension 0 with size 0\n",
      "tidak ada mc lo..\n",
      "C:\\\\5025211148\\\\YOLOv9-Segmentation\\\\segmented_MC\\\\merged_segs_17.jpg\n",
      "class tensor([0., 1.], device='cuda:0')\n",
      "indices (tensor([1], device='cuda:0'),)\n",
      "C:\\\\5025211148\\\\YOLOv9-Segmentation\\\\segmented_MC\\\\merged_segs_18.jpg\n",
      "ketemu\n",
      "\n",
      "\n",
      "class tensor([0., 1.], device='cuda:0')\n",
      "indices (tensor([1], device='cuda:0'),)\n",
      "C:\\\\5025211148\\\\YOLOv9-Segmentation\\\\segmented_MC\\\\merged_segs_19.jpg\n",
      "ketemu\n",
      "\n",
      "\n",
      "class tensor([0., 1.], device='cuda:0')\n",
      "indices (tensor([1], device='cuda:0'),)\n",
      "C:\\\\5025211148\\\\YOLOv9-Segmentation\\\\segmented_MC\\\\merged_segs_20.jpg\n",
      "ketemu\n",
      "\n",
      "\n",
      "class tensor([0., 1.], device='cuda:0')\n",
      "indices (tensor([1], device='cuda:0'),)\n",
      "C:\\\\5025211148\\\\YOLOv9-Segmentation\\\\segmented_MC\\\\merged_segs_21.jpg\n",
      "ketemu\n",
      "\n",
      "\n",
      "class tensor([0., 1.], device='cuda:0')\n",
      "indices (tensor([1], device='cuda:0'),)\n",
      "C:\\\\5025211148\\\\YOLOv9-Segmentation\\\\segmented_MC\\\\merged_segs_22.jpg\n",
      "ketemu\n",
      "\n",
      "\n",
      "class tensor([0., 1.], device='cuda:0')\n",
      "indices (tensor([1], device='cuda:0'),)\n",
      "C:\\\\5025211148\\\\YOLOv9-Segmentation\\\\segmented_MC\\\\merged_segs_23.jpg\n",
      "ketemu\n",
      "\n",
      "\n",
      "class tensor([0., 1.], device='cuda:0')\n",
      "indices (tensor([1], device='cuda:0'),)\n",
      "C:\\\\5025211148\\\\YOLOv9-Segmentation\\\\segmented_MC\\\\merged_segs_24.jpg\n",
      "ketemu\n",
      "\n",
      "\n",
      "class tensor([0., 1.], device='cuda:0')\n",
      "indices (tensor([1], device='cuda:0'),)\n",
      "C:\\\\5025211148\\\\YOLOv9-Segmentation\\\\segmented_MC\\\\merged_segs_25.jpg\n",
      "ketemu\n",
      "\n",
      "\n",
      "class tensor([0., 1.], device='cuda:0')\n",
      "indices (tensor([1], device='cuda:0'),)\n",
      "C:\\\\5025211148\\\\YOLOv9-Segmentation\\\\segmented_MC\\\\merged_segs_26.jpg\n",
      "ketemu\n",
      "\n",
      "\n",
      "class tensor([0., 1.], device='cuda:0')\n",
      "indices (tensor([1], device='cuda:0'),)\n",
      "C:\\\\5025211148\\\\YOLOv9-Segmentation\\\\segmented_MC\\\\merged_segs_27.jpg\n",
      "ketemu\n",
      "\n",
      "\n",
      "class tensor([0., 1.], device='cuda:0')\n",
      "indices (tensor([1], device='cuda:0'),)\n",
      "C:\\\\5025211148\\\\YOLOv9-Segmentation\\\\segmented_MC\\\\merged_segs_28.jpg\n",
      "ketemu\n",
      "\n",
      "\n",
      "class tensor([0., 1.], device='cuda:0')\n",
      "indices (tensor([1], device='cuda:0'),)\n",
      "C:\\\\5025211148\\\\YOLOv9-Segmentation\\\\segmented_MC\\\\merged_segs_29.jpg\n",
      "ketemu\n",
      "\n",
      "\n",
      "class tensor([0., 1.], device='cuda:0')\n",
      "indices (tensor([1], device='cuda:0'),)\n",
      "C:\\\\5025211148\\\\YOLOv9-Segmentation\\\\segmented_MC\\\\merged_segs_30.jpg\n",
      "ketemu\n",
      "\n",
      "\n",
      "class tensor([0., 1.], device='cuda:0')\n",
      "indices (tensor([1], device='cuda:0'),)\n",
      "C:\\\\5025211148\\\\YOLOv9-Segmentation\\\\segmented_MC\\\\merged_segs_31.jpg\n",
      "ketemu\n",
      "\n",
      "\n",
      "class tensor([0., 1.], device='cuda:0')\n",
      "indices (tensor([1], device='cuda:0'),)\n",
      "C:\\\\5025211148\\\\YOLOv9-Segmentation\\\\segmented_MC\\\\merged_segs_32.jpg\n",
      "ketemu\n",
      "\n",
      "\n",
      "class tensor([0., 1.], device='cuda:0')\n",
      "indices (tensor([1], device='cuda:0'),)\n",
      "C:\\\\5025211148\\\\YOLOv9-Segmentation\\\\segmented_MC\\\\merged_segs_33.jpg\n",
      "ketemu\n",
      "\n",
      "\n",
      "class tensor([0., 1.], device='cuda:0')\n",
      "indices (tensor([1], device='cuda:0'),)\n",
      "C:\\\\5025211148\\\\YOLOv9-Segmentation\\\\segmented_MC\\\\merged_segs_34.jpg\n",
      "ketemu\n",
      "\n",
      "\n",
      "class tensor([0., 1.], device='cuda:0')\n",
      "indices (tensor([1], device='cuda:0'),)\n",
      "C:\\\\5025211148\\\\YOLOv9-Segmentation\\\\segmented_MC\\\\merged_segs_35.jpg\n",
      "ketemu\n",
      "\n",
      "\n",
      "class tensor([0., 1.], device='cuda:0')\n",
      "indices (tensor([1], device='cuda:0'),)\n",
      "C:\\\\5025211148\\\\YOLOv9-Segmentation\\\\segmented_MC\\\\merged_segs_36.jpg\n",
      "ketemu\n",
      "\n",
      "\n",
      "class tensor([0., 1.], device='cuda:0')\n",
      "indices (tensor([1], device='cuda:0'),)\n",
      "C:\\\\5025211148\\\\YOLOv9-Segmentation\\\\segmented_MC\\\\merged_segs_37.jpg\n",
      "ketemu\n",
      "\n",
      "\n",
      "class tensor([0., 1.], device='cuda:0')\n",
      "indices (tensor([1], device='cuda:0'),)\n",
      "C:\\\\5025211148\\\\YOLOv9-Segmentation\\\\segmented_MC\\\\merged_segs_38.jpg\n",
      "ketemu\n",
      "\n",
      "\n",
      "class tensor([0., 1.], device='cuda:0')\n",
      "indices (tensor([1], device='cuda:0'),)\n",
      "C:\\\\5025211148\\\\YOLOv9-Segmentation\\\\segmented_MC\\\\merged_segs_39.jpg\n",
      "ketemu\n",
      "\n",
      "\n",
      "class tensor([0., 1.], device='cuda:0')\n",
      "indices (tensor([1], device='cuda:0'),)\n",
      "C:\\\\5025211148\\\\YOLOv9-Segmentation\\\\segmented_MC\\\\merged_segs_40.jpg\n",
      "ketemu\n",
      "\n",
      "\n",
      "class tensor([0., 1.], device='cuda:0')\n",
      "indices (tensor([1], device='cuda:0'),)\n",
      "C:\\\\5025211148\\\\YOLOv9-Segmentation\\\\segmented_MC\\\\merged_segs_41.jpg\n",
      "ketemu\n",
      "\n",
      "\n",
      "class tensor([0., 1.], device='cuda:0')\n",
      "indices (tensor([1], device='cuda:0'),)\n",
      "C:\\\\5025211148\\\\YOLOv9-Segmentation\\\\segmented_MC\\\\merged_segs_42.jpg\n",
      "ketemu\n",
      "\n",
      "\n",
      "class tensor([0., 1.], device='cuda:0')\n",
      "indices (tensor([1], device='cuda:0'),)\n",
      "C:\\\\5025211148\\\\YOLOv9-Segmentation\\\\segmented_MC\\\\merged_segs_43.jpg\n",
      "ketemu\n",
      "\n",
      "\n",
      "class tensor([0., 1.], device='cuda:0')\n",
      "indices (tensor([1], device='cuda:0'),)\n",
      "C:\\\\5025211148\\\\YOLOv9-Segmentation\\\\segmented_MC\\\\merged_segs_44.jpg\n",
      "ketemu\n",
      "\n",
      "\n",
      "class tensor([0., 1.], device='cuda:0')\n",
      "indices (tensor([1], device='cuda:0'),)\n",
      "C:\\\\5025211148\\\\YOLOv9-Segmentation\\\\segmented_MC\\\\merged_segs_45.jpg\n",
      "ketemu\n",
      "\n",
      "\n",
      "class tensor([0., 1.], device='cuda:0')\n",
      "indices (tensor([1], device='cuda:0'),)\n",
      "C:\\\\5025211148\\\\YOLOv9-Segmentation\\\\segmented_MC\\\\merged_segs_46.jpg\n",
      "ketemu\n",
      "\n",
      "\n",
      "class tensor([0., 1.], device='cuda:0')\n",
      "indices (tensor([1], device='cuda:0'),)\n",
      "C:\\\\5025211148\\\\YOLOv9-Segmentation\\\\segmented_MC\\\\merged_segs_47.jpg\n",
      "ketemu\n",
      "\n",
      "\n",
      "class tensor([0., 1.], device='cuda:0')\n",
      "indices (tensor([1], device='cuda:0'),)\n",
      "C:\\\\5025211148\\\\YOLOv9-Segmentation\\\\segmented_MC\\\\merged_segs_48.jpg\n",
      "ketemu\n",
      "\n",
      "\n",
      "class tensor([0., 1.], device='cuda:0')\n",
      "indices (tensor([1], device='cuda:0'),)\n",
      "C:\\\\5025211148\\\\YOLOv9-Segmentation\\\\segmented_MC\\\\merged_segs_49.jpg\n",
      "ketemu\n",
      "\n",
      "\n",
      "class tensor([0., 1.], device='cuda:0')\n",
      "indices (tensor([1], device='cuda:0'),)\n",
      "C:\\\\5025211148\\\\YOLOv9-Segmentation\\\\segmented_MC\\\\merged_segs_50.jpg\n",
      "ketemu\n",
      "\n",
      "\n",
      "class tensor([0., 1., 0., 0.], device='cuda:0')\n",
      "indices (tensor([1], device='cuda:0'),)\n",
      "C:\\\\5025211148\\\\YOLOv9-Segmentation\\\\segmented_MC\\\\merged_segs_51.jpg\n",
      "ketemu\n",
      "\n",
      "\n",
      "class tensor([0., 0., 1., 0.], device='cuda:0')\n",
      "indices (tensor([2], device='cuda:0'),)\n",
      "C:\\\\5025211148\\\\YOLOv9-Segmentation\\\\segmented_MC\\\\merged_segs_52.jpg\n",
      "ketemu\n",
      "\n",
      "\n",
      "class tensor([0., 0., 1.], device='cuda:0')\n",
      "indices (tensor([2], device='cuda:0'),)\n",
      "C:\\\\5025211148\\\\YOLOv9-Segmentation\\\\segmented_MC\\\\merged_segs_53.jpg\n",
      "ketemu\n",
      "\n",
      "\n",
      "class tensor([0., 1.], device='cuda:0')\n",
      "indices (tensor([1], device='cuda:0'),)\n",
      "C:\\\\5025211148\\\\YOLOv9-Segmentation\\\\segmented_MC\\\\merged_segs_54.jpg\n",
      "ketemu\n",
      "\n",
      "\n",
      "class tensor([0., 1., 0.], device='cuda:0')\n",
      "indices (tensor([1], device='cuda:0'),)\n",
      "C:\\\\5025211148\\\\YOLOv9-Segmentation\\\\segmented_MC\\\\merged_segs_55.jpg\n",
      "ketemu\n",
      "\n",
      "\n",
      "class tensor([0., 0., 1.], device='cuda:0')\n",
      "indices (tensor([2], device='cuda:0'),)\n",
      "C:\\\\5025211148\\\\YOLOv9-Segmentation\\\\segmented_MC\\\\merged_segs_56.jpg\n",
      "ketemu\n",
      "\n",
      "\n",
      "class tensor([0., 0., 1.], device='cuda:0')\n",
      "indices (tensor([2], device='cuda:0'),)\n",
      "C:\\\\5025211148\\\\YOLOv9-Segmentation\\\\segmented_MC\\\\merged_segs_57.jpg\n",
      "ketemu\n",
      "\n",
      "\n",
      "class tensor([0., 1., 0.], device='cuda:0')\n",
      "indices (tensor([1], device='cuda:0'),)\n",
      "C:\\\\5025211148\\\\YOLOv9-Segmentation\\\\segmented_MC\\\\merged_segs_58.jpg\n",
      "ketemu\n",
      "\n",
      "\n",
      "class tensor([0., 1.], device='cuda:0')\n",
      "indices (tensor([1], device='cuda:0'),)\n",
      "C:\\\\5025211148\\\\YOLOv9-Segmentation\\\\segmented_MC\\\\merged_segs_59.jpg\n",
      "ketemu\n",
      "\n",
      "\n",
      "class tensor([0., 1.], device='cuda:0')\n",
      "indices (tensor([1], device='cuda:0'),)\n",
      "C:\\\\5025211148\\\\YOLOv9-Segmentation\\\\segmented_MC\\\\merged_segs_60.jpg\n",
      "ketemu\n",
      "\n",
      "\n",
      "error index 0 is out of bounds for dimension 0 with size 0\n",
      "tidak ada mc lo..\n",
      "C:\\\\5025211148\\\\YOLOv9-Segmentation\\\\segmented_MC\\\\merged_segs_61.jpg\n",
      "class tensor([0., 1.], device='cuda:0')\n",
      "indices (tensor([1], device='cuda:0'),)\n",
      "C:\\\\5025211148\\\\YOLOv9-Segmentation\\\\segmented_MC\\\\merged_segs_62.jpg\n",
      "ketemu\n",
      "\n",
      "\n",
      "class tensor([0., 1.], device='cuda:0')\n",
      "indices (tensor([1], device='cuda:0'),)\n",
      "C:\\\\5025211148\\\\YOLOv9-Segmentation\\\\segmented_MC\\\\merged_segs_63.jpg\n",
      "ketemu\n",
      "\n",
      "\n",
      "class tensor([0., 1.], device='cuda:0')\n",
      "indices (tensor([1], device='cuda:0'),)\n",
      "C:\\\\5025211148\\\\YOLOv9-Segmentation\\\\segmented_MC\\\\merged_segs_64.jpg\n",
      "ketemu\n",
      "\n",
      "\n",
      "class tensor([0., 1.], device='cuda:0')\n",
      "indices (tensor([1], device='cuda:0'),)\n",
      "C:\\\\5025211148\\\\YOLOv9-Segmentation\\\\segmented_MC\\\\merged_segs_65.jpg\n",
      "ketemu\n",
      "\n",
      "\n",
      "class tensor([0., 1.], device='cuda:0')\n",
      "indices (tensor([1], device='cuda:0'),)\n",
      "C:\\\\5025211148\\\\YOLOv9-Segmentation\\\\segmented_MC\\\\merged_segs_66.jpg\n",
      "ketemu\n",
      "\n",
      "\n",
      "error index 0 is out of bounds for dimension 0 with size 0\n",
      "tidak ada mc lo..\n",
      "C:\\\\5025211148\\\\YOLOv9-Segmentation\\\\segmented_MC\\\\merged_segs_67.jpg\n",
      "error index 0 is out of bounds for dimension 0 with size 0\n",
      "tidak ada mc lo..\n",
      "C:\\\\5025211148\\\\YOLOv9-Segmentation\\\\segmented_MC\\\\merged_segs_68.jpg\n",
      "class tensor([0., 1.], device='cuda:0')\n",
      "indices (tensor([1], device='cuda:0'),)\n",
      "C:\\\\5025211148\\\\YOLOv9-Segmentation\\\\segmented_MC\\\\merged_segs_69.jpg\n",
      "ketemu\n",
      "\n",
      "\n",
      "class tensor([0., 0., 1.], device='cuda:0')\n",
      "indices (tensor([2], device='cuda:0'),)\n",
      "C:\\\\5025211148\\\\YOLOv9-Segmentation\\\\segmented_MC\\\\merged_segs_70.jpg\n",
      "ketemu\n",
      "\n",
      "\n",
      "class tensor([0., 1., 0.], device='cuda:0')\n",
      "indices (tensor([1], device='cuda:0'),)\n",
      "C:\\\\5025211148\\\\YOLOv9-Segmentation\\\\segmented_MC\\\\merged_segs_71.jpg\n",
      "ketemu\n",
      "\n",
      "\n",
      "class tensor([0., 1., 0.], device='cuda:0')\n",
      "indices (tensor([1], device='cuda:0'),)\n",
      "C:\\\\5025211148\\\\YOLOv9-Segmentation\\\\segmented_MC\\\\merged_segs_72.jpg\n",
      "ketemu\n",
      "\n",
      "\n",
      "class tensor([0., 1., 0.], device='cuda:0')\n",
      "indices (tensor([1], device='cuda:0'),)\n",
      "C:\\\\5025211148\\\\YOLOv9-Segmentation\\\\segmented_MC\\\\merged_segs_73.jpg\n",
      "ketemu\n",
      "\n",
      "\n",
      "class tensor([0., 1.], device='cuda:0')\n",
      "indices (tensor([1], device='cuda:0'),)\n",
      "C:\\\\5025211148\\\\YOLOv9-Segmentation\\\\segmented_MC\\\\merged_segs_74.jpg\n",
      "ketemu\n",
      "\n",
      "\n"
     ]
    }
   ],
   "source": [
    "import torch\n",
    "import cv2\n",
    "i = 0\n",
    "x = 101\n",
    "y = 200\n",
    "\n",
    "for result in results:\n",
    "  if(result.masks is not None):\n",
    "    # get the AB masks\n",
    "    try:\n",
    "      boxes = result.boxes.data\n",
    "      clss = boxes[:, 5]\n",
    "      AB_indices = torch.where(clss == 1)\n",
    "      AB_indices = (AB_indices[0][0].unsqueeze(0),)\n",
    "      # AB_indices = AB_indices[0][0]\n",
    "      print('class', clss)\n",
    "      print('indices', AB_indices)\n",
    "      # Convert mask to single channel image\n",
    "      mask_raw = result.masks.cpu().data[[AB_indices]].numpy().transpose(1, 2, 0)\n",
    "      # Convert single channel grayscale to 3 channel image\n",
    "      mask_3channel = cv2.merge((mask_raw,mask_raw,mask_raw))\n",
    "\n",
    "      # Get the size of the original image (height, width, channels)\n",
    "      h2, w2, c2 = result.orig_img.shape\n",
    "\n",
    "      # Resize the mask to the same size as the image (can probably be removed if image is the same size as the model)\n",
    "      mask = cv2.resize(mask_3channel, (w2, h2))\n",
    "\n",
    "      # Convert BGR to HSV\n",
    "      hsv = cv2.cvtColor(mask, cv2.COLOR_BGR2HSV)\n",
    "\n",
    "      # Define range of brightness in HSV\n",
    "      lower_black = np.array([0,0,0])\n",
    "      upper_black = np.array([0,0,1])\n",
    "\n",
    "      # Create a mask. Threshold the HSV image to get everything black\n",
    "      mask = cv2.inRange(mask, lower_black, upper_black)\n",
    "\n",
    "      # Invert the mask to get everything but black\n",
    "      mask = cv2.bitwise_not(mask)\n",
    "\n",
    "      # Apply the mask to the original image\n",
    "      masked = cv2.bitwise_and(result.orig_img, result.orig_img, mask=mask)\n",
    "\n",
    "      # Show the masked part of the image\n",
    "      # cv2.imshow(\"mask\", masked)\n",
    "      resized_mask = cv2.resize(mask, (101, 200))\n",
    "      cv2.imwrite(fr'{segmented_MC_path}\\\\merged_segs_{i}.jpg', resized_mask)\n",
    "      print(fr'{segmented_MC_path}\\\\merged_segs_{i}.jpg')\n",
    "      print('ketemu')\n",
    "    except Exception as e:\n",
    "      print('error',e)\n",
    "      width = 101\n",
    "      height = 200\n",
    "      black_image = np.zeros((height, width), dtype=np.uint8)\n",
    "      print('tidak ada mc lo..')\n",
    "      # Save the black image to a file\n",
    "      cv2.imwrite(fr'{segmented_MC_path}\\\\merged_segs_{i}.jpg', black_image)\n",
    "      print(fr'{segmented_MC_path}\\\\merged_segs_{i}.jpg')\n",
    "      i = i+1\n",
    "      continue\n",
    "  else:\n",
    "    width = 101\n",
    "    height = 200\n",
    "    black_image = np.zeros((height, width), dtype=np.uint8)\n",
    "    print('ada yang kosong lo..')\n",
    "    # Save the black image to a file\n",
    "    cv2.imwrite(fr'{segmented_MC_path}\\\\merged_segs_{i}.jpg', black_image)\n",
    "    print(fr'{segmented_MC_path}\\\\merged_segs_{i}.jpg')\n",
    "  print('\\n')\n",
    "  i = i+1"
   ]
  },
  {
   "cell_type": "code",
   "execution_count": 20,
   "metadata": {},
   "outputs": [
    {
     "name": "stdout",
     "output_type": "stream",
     "text": [
      "C:\\\\5025211148\\\\YOLOv9-Segmentation\\\\segmented_MC\\merged_segs_0.jpg\n",
      "C:\\\\5025211148\\\\YOLOv9-Segmentation\\\\segmented_MC\\merged_segs_1.jpg\n",
      "C:\\\\5025211148\\\\YOLOv9-Segmentation\\\\segmented_MC\\merged_segs_2.jpg\n",
      "C:\\\\5025211148\\\\YOLOv9-Segmentation\\\\segmented_MC\\merged_segs_3.jpg\n",
      "C:\\\\5025211148\\\\YOLOv9-Segmentation\\\\segmented_MC\\merged_segs_4.jpg\n",
      "C:\\\\5025211148\\\\YOLOv9-Segmentation\\\\segmented_MC\\merged_segs_5.jpg\n",
      "C:\\\\5025211148\\\\YOLOv9-Segmentation\\\\segmented_MC\\merged_segs_6.jpg\n",
      "C:\\\\5025211148\\\\YOLOv9-Segmentation\\\\segmented_MC\\merged_segs_7.jpg\n",
      "C:\\\\5025211148\\\\YOLOv9-Segmentation\\\\segmented_MC\\merged_segs_8.jpg\n",
      "C:\\\\5025211148\\\\YOLOv9-Segmentation\\\\segmented_MC\\merged_segs_9.jpg\n",
      "C:\\\\5025211148\\\\YOLOv9-Segmentation\\\\segmented_MC\\merged_segs_10.jpg\n",
      "C:\\\\5025211148\\\\YOLOv9-Segmentation\\\\segmented_MC\\merged_segs_11.jpg\n",
      "C:\\\\5025211148\\\\YOLOv9-Segmentation\\\\segmented_MC\\merged_segs_12.jpg\n",
      "C:\\\\5025211148\\\\YOLOv9-Segmentation\\\\segmented_MC\\merged_segs_13.jpg\n",
      "C:\\\\5025211148\\\\YOLOv9-Segmentation\\\\segmented_MC\\merged_segs_14.jpg\n",
      "C:\\\\5025211148\\\\YOLOv9-Segmentation\\\\segmented_MC\\merged_segs_15.jpg\n",
      "C:\\\\5025211148\\\\YOLOv9-Segmentation\\\\segmented_MC\\merged_segs_16.jpg\n",
      "C:\\\\5025211148\\\\YOLOv9-Segmentation\\\\segmented_MC\\merged_segs_17.jpg\n",
      "C:\\\\5025211148\\\\YOLOv9-Segmentation\\\\segmented_MC\\merged_segs_18.jpg\n",
      "C:\\\\5025211148\\\\YOLOv9-Segmentation\\\\segmented_MC\\merged_segs_19.jpg\n",
      "C:\\\\5025211148\\\\YOLOv9-Segmentation\\\\segmented_MC\\merged_segs_20.jpg\n",
      "C:\\\\5025211148\\\\YOLOv9-Segmentation\\\\segmented_MC\\merged_segs_21.jpg\n",
      "C:\\\\5025211148\\\\YOLOv9-Segmentation\\\\segmented_MC\\merged_segs_22.jpg\n",
      "C:\\\\5025211148\\\\YOLOv9-Segmentation\\\\segmented_MC\\merged_segs_23.jpg\n",
      "C:\\\\5025211148\\\\YOLOv9-Segmentation\\\\segmented_MC\\merged_segs_24.jpg\n",
      "C:\\\\5025211148\\\\YOLOv9-Segmentation\\\\segmented_MC\\merged_segs_25.jpg\n",
      "C:\\\\5025211148\\\\YOLOv9-Segmentation\\\\segmented_MC\\merged_segs_26.jpg\n",
      "C:\\\\5025211148\\\\YOLOv9-Segmentation\\\\segmented_MC\\merged_segs_27.jpg\n",
      "C:\\\\5025211148\\\\YOLOv9-Segmentation\\\\segmented_MC\\merged_segs_28.jpg\n",
      "C:\\\\5025211148\\\\YOLOv9-Segmentation\\\\segmented_MC\\merged_segs_29.jpg\n",
      "C:\\\\5025211148\\\\YOLOv9-Segmentation\\\\segmented_MC\\merged_segs_30.jpg\n",
      "C:\\\\5025211148\\\\YOLOv9-Segmentation\\\\segmented_MC\\merged_segs_31.jpg\n",
      "C:\\\\5025211148\\\\YOLOv9-Segmentation\\\\segmented_MC\\merged_segs_32.jpg\n",
      "C:\\\\5025211148\\\\YOLOv9-Segmentation\\\\segmented_MC\\merged_segs_33.jpg\n",
      "C:\\\\5025211148\\\\YOLOv9-Segmentation\\\\segmented_MC\\merged_segs_34.jpg\n",
      "C:\\\\5025211148\\\\YOLOv9-Segmentation\\\\segmented_MC\\merged_segs_35.jpg\n",
      "C:\\\\5025211148\\\\YOLOv9-Segmentation\\\\segmented_MC\\merged_segs_36.jpg\n",
      "C:\\\\5025211148\\\\YOLOv9-Segmentation\\\\segmented_MC\\merged_segs_37.jpg\n",
      "C:\\\\5025211148\\\\YOLOv9-Segmentation\\\\segmented_MC\\merged_segs_38.jpg\n",
      "C:\\\\5025211148\\\\YOLOv9-Segmentation\\\\segmented_MC\\merged_segs_39.jpg\n",
      "C:\\\\5025211148\\\\YOLOv9-Segmentation\\\\segmented_MC\\merged_segs_40.jpg\n",
      "C:\\\\5025211148\\\\YOLOv9-Segmentation\\\\segmented_MC\\merged_segs_41.jpg\n",
      "C:\\\\5025211148\\\\YOLOv9-Segmentation\\\\segmented_MC\\merged_segs_42.jpg\n",
      "C:\\\\5025211148\\\\YOLOv9-Segmentation\\\\segmented_MC\\merged_segs_43.jpg\n",
      "C:\\\\5025211148\\\\YOLOv9-Segmentation\\\\segmented_MC\\merged_segs_44.jpg\n",
      "C:\\\\5025211148\\\\YOLOv9-Segmentation\\\\segmented_MC\\merged_segs_45.jpg\n",
      "C:\\\\5025211148\\\\YOLOv9-Segmentation\\\\segmented_MC\\merged_segs_46.jpg\n",
      "C:\\\\5025211148\\\\YOLOv9-Segmentation\\\\segmented_MC\\merged_segs_47.jpg\n",
      "C:\\\\5025211148\\\\YOLOv9-Segmentation\\\\segmented_MC\\merged_segs_48.jpg\n",
      "C:\\\\5025211148\\\\YOLOv9-Segmentation\\\\segmented_MC\\merged_segs_49.jpg\n",
      "C:\\\\5025211148\\\\YOLOv9-Segmentation\\\\segmented_MC\\merged_segs_50.jpg\n",
      "C:\\\\5025211148\\\\YOLOv9-Segmentation\\\\segmented_MC\\merged_segs_51.jpg\n",
      "C:\\\\5025211148\\\\YOLOv9-Segmentation\\\\segmented_MC\\merged_segs_52.jpg\n",
      "C:\\\\5025211148\\\\YOLOv9-Segmentation\\\\segmented_MC\\merged_segs_53.jpg\n",
      "C:\\\\5025211148\\\\YOLOv9-Segmentation\\\\segmented_MC\\merged_segs_54.jpg\n",
      "C:\\\\5025211148\\\\YOLOv9-Segmentation\\\\segmented_MC\\merged_segs_55.jpg\n",
      "C:\\\\5025211148\\\\YOLOv9-Segmentation\\\\segmented_MC\\merged_segs_56.jpg\n",
      "C:\\\\5025211148\\\\YOLOv9-Segmentation\\\\segmented_MC\\merged_segs_57.jpg\n",
      "C:\\\\5025211148\\\\YOLOv9-Segmentation\\\\segmented_MC\\merged_segs_58.jpg\n",
      "C:\\\\5025211148\\\\YOLOv9-Segmentation\\\\segmented_MC\\merged_segs_59.jpg\n",
      "C:\\\\5025211148\\\\YOLOv9-Segmentation\\\\segmented_MC\\merged_segs_60.jpg\n",
      "C:\\\\5025211148\\\\YOLOv9-Segmentation\\\\segmented_MC\\merged_segs_61.jpg\n",
      "C:\\\\5025211148\\\\YOLOv9-Segmentation\\\\segmented_MC\\merged_segs_62.jpg\n",
      "C:\\\\5025211148\\\\YOLOv9-Segmentation\\\\segmented_MC\\merged_segs_63.jpg\n",
      "C:\\\\5025211148\\\\YOLOv9-Segmentation\\\\segmented_MC\\merged_segs_64.jpg\n",
      "C:\\\\5025211148\\\\YOLOv9-Segmentation\\\\segmented_MC\\merged_segs_65.jpg\n",
      "C:\\\\5025211148\\\\YOLOv9-Segmentation\\\\segmented_MC\\merged_segs_66.jpg\n",
      "C:\\\\5025211148\\\\YOLOv9-Segmentation\\\\segmented_MC\\merged_segs_67.jpg\n",
      "C:\\\\5025211148\\\\YOLOv9-Segmentation\\\\segmented_MC\\merged_segs_68.jpg\n",
      "C:\\\\5025211148\\\\YOLOv9-Segmentation\\\\segmented_MC\\merged_segs_69.jpg\n",
      "C:\\\\5025211148\\\\YOLOv9-Segmentation\\\\segmented_MC\\merged_segs_70.jpg\n",
      "C:\\\\5025211148\\\\YOLOv9-Segmentation\\\\segmented_MC\\merged_segs_71.jpg\n",
      "C:\\\\5025211148\\\\YOLOv9-Segmentation\\\\segmented_MC\\merged_segs_72.jpg\n",
      "C:\\\\5025211148\\\\YOLOv9-Segmentation\\\\segmented_MC\\merged_segs_73.jpg\n",
      "C:\\\\5025211148\\\\YOLOv9-Segmentation\\\\segmented_MC\\merged_segs_74.jpg\n"
     ]
    }
   ],
   "source": [
    "import os\n",
    "import re\n",
    "\n",
    "# specify the directory path\n",
    "directory_path = segmented_MC_path_2\n",
    "\n",
    "# create an empty list to store the filenames with directory path\n",
    "file_list_MC = []\n",
    "\n",
    "# iterate over the files in the directory\n",
    "for filename in os.listdir(directory_path):\n",
    "    # check if the item is a file\n",
    "    if os.path.isfile(os.path.join(directory_path, filename)):\n",
    "        # append the filename with directory path to the list\n",
    "        file_list_MC.append(os.path.join(directory_path, filename))\n",
    "\n",
    "def extract_number(s):\n",
    "    match = re.search(r'merged_segs_(\\d+)', s)  # Match 'merged_segs_' followed by one or more digits\n",
    "    return int(match.group(1)) if match else float('inf')\n",
    "\n",
    "file_list_MC = sorted(file_list_MC, key=extract_number)\n",
    "for filename in file_list_MC:\n",
    "    print(filename)\n",
    "# print(file_list)  # Output: sorted file_list with filenames like 'merged_segs_0', 'merged_segs_1', 'merged_segs_2', etc.\n"
   ]
  },
  {
   "cell_type": "code",
   "execution_count": 21,
   "metadata": {},
   "outputs": [
    {
     "name": "stdout",
     "output_type": "stream",
     "text": [
      "(75, 200, 101)\n"
     ]
    }
   ],
   "source": [
    "import numpy as np\n",
    "from PIL import Image  # If your images are in image files\n",
    "\n",
    "# Assuming img_files is a list of file paths to the 2D images\n",
    "# img_files = ['image1.png', 'image2.png', 'image3.png']  # Replace with your actual file paths\n",
    "\n",
    "# Load the images and convert them to numpy arrays\n",
    "image_arrays = [np.array(Image.open(img_file)) for img_file in file_list_MC]\n",
    "\n",
    "# Stack the image arrays into a 3D numpy array\n",
    "stacked_images = np.stack(image_arrays, axis=0)\n",
    "\n",
    "# stacked_images is now a 3D numpy array where the first dimension represents the index of the image in the list\n",
    "\n",
    "# Example usage:\n",
    "print(stacked_images.shape)  # Output: (3, height, width, channels) assuming RGB images\n",
    "\n",
    "np.save(segmented_MC_npy, stacked_images)"
   ]
  },
  {
   "cell_type": "code",
   "execution_count": 22,
   "metadata": {},
   "outputs": [
    {
     "name": "stdout",
     "output_type": "stream",
     "text": [
      "Saved resized output image for slice_0_png.rf.b6a308ad17de783c210d9ceb410d76a1.jpg as C:\\\\5025211148\\\\YOLOv9-Segmentation\\\\Dataset Train Val\\\\gt-AB\\slice_0_png.rf.b6a308ad17de783c210d9ceb410d76a1_output.jpg\n",
      "Saved resized output image for slice_10_png.rf.8cfc23276c5e0a0a9c082a84937bbfa9.jpg as C:\\\\5025211148\\\\YOLOv9-Segmentation\\\\Dataset Train Val\\\\gt-AB\\slice_10_png.rf.8cfc23276c5e0a0a9c082a84937bbfa9_output.jpg\n",
      "Saved resized output image for slice_11_png.rf.2f4ba45901be13bdd4a6d27191f04632.jpg as C:\\\\5025211148\\\\YOLOv9-Segmentation\\\\Dataset Train Val\\\\gt-AB\\slice_11_png.rf.2f4ba45901be13bdd4a6d27191f04632_output.jpg\n",
      "Saved resized output image for slice_12_png.rf.e697ea8e2a874fe7e9b6625b141d770f.jpg as C:\\\\5025211148\\\\YOLOv9-Segmentation\\\\Dataset Train Val\\\\gt-AB\\slice_12_png.rf.e697ea8e2a874fe7e9b6625b141d770f_output.jpg\n",
      "Saved resized output image for slice_13_png.rf.3e77ef333ad7540a2e71c11b85729e94.jpg as C:\\\\5025211148\\\\YOLOv9-Segmentation\\\\Dataset Train Val\\\\gt-AB\\slice_13_png.rf.3e77ef333ad7540a2e71c11b85729e94_output.jpg\n",
      "Saved resized output image for slice_14_png.rf.d4246e1825c0cc584de095d27ae0ba29.jpg as C:\\\\5025211148\\\\YOLOv9-Segmentation\\\\Dataset Train Val\\\\gt-AB\\slice_14_png.rf.d4246e1825c0cc584de095d27ae0ba29_output.jpg\n",
      "Saved resized output image for slice_15_png.rf.08dca079baea99e2094955b7bca56721.jpg as C:\\\\5025211148\\\\YOLOv9-Segmentation\\\\Dataset Train Val\\\\gt-AB\\slice_15_png.rf.08dca079baea99e2094955b7bca56721_output.jpg\n",
      "Saved resized output image for slice_16_png.rf.5505cc7edadd735a4051c540ba652f82.jpg as C:\\\\5025211148\\\\YOLOv9-Segmentation\\\\Dataset Train Val\\\\gt-AB\\slice_16_png.rf.5505cc7edadd735a4051c540ba652f82_output.jpg\n",
      "Saved resized output image for slice_184_jpg.rf.fb7007d3aec48c5887b58c4b1f251982.jpg as C:\\\\5025211148\\\\YOLOv9-Segmentation\\\\Dataset Train Val\\\\gt-AB\\slice_184_jpg.rf.fb7007d3aec48c5887b58c4b1f251982_output.jpg\n",
      "Saved resized output image for slice_185_jpg.rf.c259553f5c57f7ea65f5ec81e559a32a.jpg as C:\\\\5025211148\\\\YOLOv9-Segmentation\\\\Dataset Train Val\\\\gt-AB\\slice_185_jpg.rf.c259553f5c57f7ea65f5ec81e559a32a_output.jpg\n",
      "Saved resized output image for slice_186_jpg.rf.7fea4a8ac7a43acb2f28d29a8c9e2b18.jpg as C:\\\\5025211148\\\\YOLOv9-Segmentation\\\\Dataset Train Val\\\\gt-AB\\slice_186_jpg.rf.7fea4a8ac7a43acb2f28d29a8c9e2b18_output.jpg\n",
      "Saved resized output image for slice_187_jpg.rf.9abf8d193ac601a0c952ef8160a9a2f3.jpg as C:\\\\5025211148\\\\YOLOv9-Segmentation\\\\Dataset Train Val\\\\gt-AB\\slice_187_jpg.rf.9abf8d193ac601a0c952ef8160a9a2f3_output.jpg\n",
      "Saved resized output image for slice_188_jpg.rf.5fbe759a3a7c1fde7f222c92ef628ffc.jpg as C:\\\\5025211148\\\\YOLOv9-Segmentation\\\\Dataset Train Val\\\\gt-AB\\slice_188_jpg.rf.5fbe759a3a7c1fde7f222c92ef628ffc_output.jpg\n",
      "Saved resized output image for slice_189_jpg.rf.c1670c9fd948cb7906245cbbfe3f3ed5.jpg as C:\\\\5025211148\\\\YOLOv9-Segmentation\\\\Dataset Train Val\\\\gt-AB\\slice_189_jpg.rf.c1670c9fd948cb7906245cbbfe3f3ed5_output.jpg\n",
      "Saved resized output image for slice_190_jpg.rf.ad95785b57764989b3cd348bf7ebf3df.jpg as C:\\\\5025211148\\\\YOLOv9-Segmentation\\\\Dataset Train Val\\\\gt-AB\\slice_190_jpg.rf.ad95785b57764989b3cd348bf7ebf3df_output.jpg\n",
      "Saved resized output image for slice_191_jpg.rf.0ee9ad54909660dc8183df6b1a9d936d.jpg as C:\\\\5025211148\\\\YOLOv9-Segmentation\\\\Dataset Train Val\\\\gt-AB\\slice_191_jpg.rf.0ee9ad54909660dc8183df6b1a9d936d_output.jpg\n",
      "Saved resized output image for slice_192_jpg.rf.5f98ffbe0c04578941047e31680f4ac8.jpg as C:\\\\5025211148\\\\YOLOv9-Segmentation\\\\Dataset Train Val\\\\gt-AB\\slice_192_jpg.rf.5f98ffbe0c04578941047e31680f4ac8_output.jpg\n",
      "Saved resized output image for slice_193_jpg.rf.997bde128c89a09bddde6eede7136af8.jpg as C:\\\\5025211148\\\\YOLOv9-Segmentation\\\\Dataset Train Val\\\\gt-AB\\slice_193_jpg.rf.997bde128c89a09bddde6eede7136af8_output.jpg\n",
      "Saved resized output image for slice_194_jpg.rf.510119948c76ce4b0ba77184428b99a1.jpg as C:\\\\5025211148\\\\YOLOv9-Segmentation\\\\Dataset Train Val\\\\gt-AB\\slice_194_jpg.rf.510119948c76ce4b0ba77184428b99a1_output.jpg\n",
      "Saved resized output image for slice_195_jpg.rf.4bdeee9e3f4907b631f508bcec563dc2.jpg as C:\\\\5025211148\\\\YOLOv9-Segmentation\\\\Dataset Train Val\\\\gt-AB\\slice_195_jpg.rf.4bdeee9e3f4907b631f508bcec563dc2_output.jpg\n",
      "Saved resized output image for slice_196_jpg.rf.dc89629b77d81e3226e63a87afeecfc7.jpg as C:\\\\5025211148\\\\YOLOv9-Segmentation\\\\Dataset Train Val\\\\gt-AB\\slice_196_jpg.rf.dc89629b77d81e3226e63a87afeecfc7_output.jpg\n",
      "Saved resized output image for slice_197_jpg.rf.9ce57987bde90784b202fe9e6d7c481e.jpg as C:\\\\5025211148\\\\YOLOv9-Segmentation\\\\Dataset Train Val\\\\gt-AB\\slice_197_jpg.rf.9ce57987bde90784b202fe9e6d7c481e_output.jpg\n",
      "Saved resized output image for slice_198_jpg.rf.6b58b1ba2b6b73b61ba979f22fb46caf.jpg as C:\\\\5025211148\\\\YOLOv9-Segmentation\\\\Dataset Train Val\\\\gt-AB\\slice_198_jpg.rf.6b58b1ba2b6b73b61ba979f22fb46caf_output.jpg\n",
      "Saved resized output image for slice_199_jpg.rf.26f48bd8f377db569234a70975b06f44.jpg as C:\\\\5025211148\\\\YOLOv9-Segmentation\\\\Dataset Train Val\\\\gt-AB\\slice_199_jpg.rf.26f48bd8f377db569234a70975b06f44_output.jpg\n",
      "Saved resized output image for slice_1_png.rf.813ec633aebc1e939b902b040068a91a.jpg as C:\\\\5025211148\\\\YOLOv9-Segmentation\\\\Dataset Train Val\\\\gt-AB\\slice_1_png.rf.813ec633aebc1e939b902b040068a91a_output.jpg\n",
      "Saved resized output image for slice_200_jpg.rf.7a651a02064be38cf08502236c43f762.jpg as C:\\\\5025211148\\\\YOLOv9-Segmentation\\\\Dataset Train Val\\\\gt-AB\\slice_200_jpg.rf.7a651a02064be38cf08502236c43f762_output.jpg\n",
      "Saved resized output image for slice_201_jpg.rf.405030fbbb0b7c68d0450b10c48f32b3.jpg as C:\\\\5025211148\\\\YOLOv9-Segmentation\\\\Dataset Train Val\\\\gt-AB\\slice_201_jpg.rf.405030fbbb0b7c68d0450b10c48f32b3_output.jpg\n",
      "Saved resized output image for slice_202_jpg.rf.f7e659f04a40049e6cba5239c0ca41fe.jpg as C:\\\\5025211148\\\\YOLOv9-Segmentation\\\\Dataset Train Val\\\\gt-AB\\slice_202_jpg.rf.f7e659f04a40049e6cba5239c0ca41fe_output.jpg\n",
      "Saved resized output image for slice_203_jpg.rf.e5030f4868e53e80acb8f21aef7489f9.jpg as C:\\\\5025211148\\\\YOLOv9-Segmentation\\\\Dataset Train Val\\\\gt-AB\\slice_203_jpg.rf.e5030f4868e53e80acb8f21aef7489f9_output.jpg\n",
      "Saved resized output image for slice_204_jpg.rf.379e8a1abf3842f461423e8e76141932.jpg as C:\\\\5025211148\\\\YOLOv9-Segmentation\\\\Dataset Train Val\\\\gt-AB\\slice_204_jpg.rf.379e8a1abf3842f461423e8e76141932_output.jpg\n",
      "Saved resized output image for slice_205_jpg.rf.91c7f454ebef22c3ff8ce5727bba228e.jpg as C:\\\\5025211148\\\\YOLOv9-Segmentation\\\\Dataset Train Val\\\\gt-AB\\slice_205_jpg.rf.91c7f454ebef22c3ff8ce5727bba228e_output.jpg\n",
      "Saved resized output image for slice_206_jpg.rf.5b4192b7ef82aad37ac4d99ed13e2ee2.jpg as C:\\\\5025211148\\\\YOLOv9-Segmentation\\\\Dataset Train Val\\\\gt-AB\\slice_206_jpg.rf.5b4192b7ef82aad37ac4d99ed13e2ee2_output.jpg\n",
      "Saved resized output image for slice_207_jpg.rf.6c10293c5a5cc5871fe43008a8840e3b.jpg as C:\\\\5025211148\\\\YOLOv9-Segmentation\\\\Dataset Train Val\\\\gt-AB\\slice_207_jpg.rf.6c10293c5a5cc5871fe43008a8840e3b_output.jpg\n",
      "Saved resized output image for slice_208_jpg.rf.474a2cc7da8963637f4a10d5518ef23b.jpg as C:\\\\5025211148\\\\YOLOv9-Segmentation\\\\Dataset Train Val\\\\gt-AB\\slice_208_jpg.rf.474a2cc7da8963637f4a10d5518ef23b_output.jpg\n",
      "Saved resized output image for slice_209_jpg.rf.8931044812d6e143d00fc94414dc965c.jpg as C:\\\\5025211148\\\\YOLOv9-Segmentation\\\\Dataset Train Val\\\\gt-AB\\slice_209_jpg.rf.8931044812d6e143d00fc94414dc965c_output.jpg\n",
      "Saved resized output image for slice_210_jpg.rf.2f1e8d2936842397afbbace9a9c9ace1.jpg as C:\\\\5025211148\\\\YOLOv9-Segmentation\\\\Dataset Train Val\\\\gt-AB\\slice_210_jpg.rf.2f1e8d2936842397afbbace9a9c9ace1_output.jpg\n",
      "Saved resized output image for slice_211_jpg.rf.ce50dbaa10adb29f88ba7ce96c4b28e3.jpg as C:\\\\5025211148\\\\YOLOv9-Segmentation\\\\Dataset Train Val\\\\gt-AB\\slice_211_jpg.rf.ce50dbaa10adb29f88ba7ce96c4b28e3_output.jpg\n",
      "Saved resized output image for slice_212_jpg.rf.fa999268d1357cfe3baf7f66d218858a.jpg as C:\\\\5025211148\\\\YOLOv9-Segmentation\\\\Dataset Train Val\\\\gt-AB\\slice_212_jpg.rf.fa999268d1357cfe3baf7f66d218858a_output.jpg\n",
      "Saved resized output image for slice_227_jpg.rf.47e302d51c39b996e9aa5c2457568e72.jpg as C:\\\\5025211148\\\\YOLOv9-Segmentation\\\\Dataset Train Val\\\\gt-AB\\slice_227_jpg.rf.47e302d51c39b996e9aa5c2457568e72_output.jpg\n",
      "Saved resized output image for slice_228_jpg.rf.d6fa4e941fd8ee957cb2fa40d1617dcd.jpg as C:\\\\5025211148\\\\YOLOv9-Segmentation\\\\Dataset Train Val\\\\gt-AB\\slice_228_jpg.rf.d6fa4e941fd8ee957cb2fa40d1617dcd_output.jpg\n",
      "Saved resized output image for slice_229_jpg.rf.c4406e3223457b9d82da77009e090083.jpg as C:\\\\5025211148\\\\YOLOv9-Segmentation\\\\Dataset Train Val\\\\gt-AB\\slice_229_jpg.rf.c4406e3223457b9d82da77009e090083_output.jpg\n",
      "Saved resized output image for slice_230_jpg.rf.c38851d2bc1de61efaff2c6a0c6a533b.jpg as C:\\\\5025211148\\\\YOLOv9-Segmentation\\\\Dataset Train Val\\\\gt-AB\\slice_230_jpg.rf.c38851d2bc1de61efaff2c6a0c6a533b_output.jpg\n",
      "Saved resized output image for slice_231_jpg.rf.5a943022fe92bf999159d5a80fdfaa3c.jpg as C:\\\\5025211148\\\\YOLOv9-Segmentation\\\\Dataset Train Val\\\\gt-AB\\slice_231_jpg.rf.5a943022fe92bf999159d5a80fdfaa3c_output.jpg\n",
      "Saved resized output image for slice_232_jpg.rf.36559349f65c59474e2c273ef3a1895f.jpg as C:\\\\5025211148\\\\YOLOv9-Segmentation\\\\Dataset Train Val\\\\gt-AB\\slice_232_jpg.rf.36559349f65c59474e2c273ef3a1895f_output.jpg\n",
      "Saved resized output image for slice_233_jpg.rf.21c7a2018478f98c4170d84b9d900a8b.jpg as C:\\\\5025211148\\\\YOLOv9-Segmentation\\\\Dataset Train Val\\\\gt-AB\\slice_233_jpg.rf.21c7a2018478f98c4170d84b9d900a8b_output.jpg\n",
      "Saved resized output image for slice_234_jpg.rf.8376c291224523f2379285e6739f8508.jpg as C:\\\\5025211148\\\\YOLOv9-Segmentation\\\\Dataset Train Val\\\\gt-AB\\slice_234_jpg.rf.8376c291224523f2379285e6739f8508_output.jpg\n",
      "Saved resized output image for slice_234_jpg.rf.8c97c306d89d4aea1956db536d9ae8da.jpg as C:\\\\5025211148\\\\YOLOv9-Segmentation\\\\Dataset Train Val\\\\gt-AB\\slice_234_jpg.rf.8c97c306d89d4aea1956db536d9ae8da_output.jpg\n",
      "Saved resized output image for slice_235_jpg.rf.7a0cd7f426f4c0b16065120adc6c63f0.jpg as C:\\\\5025211148\\\\YOLOv9-Segmentation\\\\Dataset Train Val\\\\gt-AB\\slice_235_jpg.rf.7a0cd7f426f4c0b16065120adc6c63f0_output.jpg\n",
      "Saved resized output image for slice_236_jpg.rf.baef61c5ff250c1d85dc3ee096660de8.jpg as C:\\\\5025211148\\\\YOLOv9-Segmentation\\\\Dataset Train Val\\\\gt-AB\\slice_236_jpg.rf.baef61c5ff250c1d85dc3ee096660de8_output.jpg\n",
      "Saved resized output image for slice_237_jpg.rf.b9610d515a5437097ad9d6ec26739bd9.jpg as C:\\\\5025211148\\\\YOLOv9-Segmentation\\\\Dataset Train Val\\\\gt-AB\\slice_237_jpg.rf.b9610d515a5437097ad9d6ec26739bd9_output.jpg\n",
      "Saved resized output image for slice_238_jpg.rf.6025395d22a4004b13a3f9b376079bb8.jpg as C:\\\\5025211148\\\\YOLOv9-Segmentation\\\\Dataset Train Val\\\\gt-AB\\slice_238_jpg.rf.6025395d22a4004b13a3f9b376079bb8_output.jpg\n",
      "Saved resized output image for slice_239_jpg.rf.b6d73c66406e62a091551a6d3ccce095.jpg as C:\\\\5025211148\\\\YOLOv9-Segmentation\\\\Dataset Train Val\\\\gt-AB\\slice_239_jpg.rf.b6d73c66406e62a091551a6d3ccce095_output.jpg\n",
      "Saved resized output image for slice_239_jpg.rf.bd8f5271a858f2a277c210f5e04a86df.jpg as C:\\\\5025211148\\\\YOLOv9-Segmentation\\\\Dataset Train Val\\\\gt-AB\\slice_239_jpg.rf.bd8f5271a858f2a277c210f5e04a86df_output.jpg\n",
      "Saved resized output image for slice_240_jpg.rf.0aa788cdb7219a189ea9e4b9a53b996a.jpg as C:\\\\5025211148\\\\YOLOv9-Segmentation\\\\Dataset Train Val\\\\gt-AB\\slice_240_jpg.rf.0aa788cdb7219a189ea9e4b9a53b996a_output.jpg\n",
      "Saved resized output image for slice_241_jpg.rf.5bb370de0c0c5a0a1298999b8269e4b4.jpg as C:\\\\5025211148\\\\YOLOv9-Segmentation\\\\Dataset Train Val\\\\gt-AB\\slice_241_jpg.rf.5bb370de0c0c5a0a1298999b8269e4b4_output.jpg\n",
      "Saved resized output image for slice_241_jpg.rf.8e99851409db29bcb7433e96215d032f.jpg as C:\\\\5025211148\\\\YOLOv9-Segmentation\\\\Dataset Train Val\\\\gt-AB\\slice_241_jpg.rf.8e99851409db29bcb7433e96215d032f_output.jpg\n",
      "Saved resized output image for slice_242_jpg.rf.04473fce5585378c912db056877ef4be.jpg as C:\\\\5025211148\\\\YOLOv9-Segmentation\\\\Dataset Train Val\\\\gt-AB\\slice_242_jpg.rf.04473fce5585378c912db056877ef4be_output.jpg\n",
      "Saved resized output image for slice_243_jpg.rf.4e282c9d623df41fb28d1181aff460f7.jpg as C:\\\\5025211148\\\\YOLOv9-Segmentation\\\\Dataset Train Val\\\\gt-AB\\slice_243_jpg.rf.4e282c9d623df41fb28d1181aff460f7_output.jpg\n",
      "Saved resized output image for slice_243_jpg.rf.ae3d135830b986a680d9ef8fbe5441f9.jpg as C:\\\\5025211148\\\\YOLOv9-Segmentation\\\\Dataset Train Val\\\\gt-AB\\slice_243_jpg.rf.ae3d135830b986a680d9ef8fbe5441f9_output.jpg\n",
      "Saved resized output image for slice_244_jpg.rf.4a9409f3b5a33b7c702d348109c89c68.jpg as C:\\\\5025211148\\\\YOLOv9-Segmentation\\\\Dataset Train Val\\\\gt-AB\\slice_244_jpg.rf.4a9409f3b5a33b7c702d348109c89c68_output.jpg\n",
      "Saved resized output image for slice_245_jpg.rf.69a1679f246e89e375a49ba7b2e03b67.jpg as C:\\\\5025211148\\\\YOLOv9-Segmentation\\\\Dataset Train Val\\\\gt-AB\\slice_245_jpg.rf.69a1679f246e89e375a49ba7b2e03b67_output.jpg\n",
      "Saved resized output image for slice_245_jpg.rf.7280f92363a1b9f4c1b74a7079335c62.jpg as C:\\\\5025211148\\\\YOLOv9-Segmentation\\\\Dataset Train Val\\\\gt-AB\\slice_245_jpg.rf.7280f92363a1b9f4c1b74a7079335c62_output.jpg\n",
      "Saved resized output image for slice_246_jpg.rf.1b3b7419434d4f2ffe8a69c66cc0eb7d.jpg as C:\\\\5025211148\\\\YOLOv9-Segmentation\\\\Dataset Train Val\\\\gt-AB\\slice_246_jpg.rf.1b3b7419434d4f2ffe8a69c66cc0eb7d_output.jpg\n",
      "Saved resized output image for slice_247_jpg.rf.0132c277c4d7f8c5c95ea3a595ba7315.jpg as C:\\\\5025211148\\\\YOLOv9-Segmentation\\\\Dataset Train Val\\\\gt-AB\\slice_247_jpg.rf.0132c277c4d7f8c5c95ea3a595ba7315_output.jpg\n",
      "Saved resized output image for slice_248_jpg.rf.fe48f8cb5097a5c105f48b585f33a07a.jpg as C:\\\\5025211148\\\\YOLOv9-Segmentation\\\\Dataset Train Val\\\\gt-AB\\slice_248_jpg.rf.fe48f8cb5097a5c105f48b585f33a07a_output.jpg\n",
      "Saved resized output image for slice_250_jpg.rf.84d15643db599a8826b8ca7b5320dfc5.jpg as C:\\\\5025211148\\\\YOLOv9-Segmentation\\\\Dataset Train Val\\\\gt-AB\\slice_250_jpg.rf.84d15643db599a8826b8ca7b5320dfc5_output.jpg\n",
      "Saved resized output image for slice_257_jpg.rf.1afa5d3faf30171b5a1ee38437f1cae5.jpg as C:\\\\5025211148\\\\YOLOv9-Segmentation\\\\Dataset Train Val\\\\gt-AB\\slice_257_jpg.rf.1afa5d3faf30171b5a1ee38437f1cae5_output.jpg\n",
      "Saved resized output image for slice_2_png.rf.773ebb3973e8d24b3610d7d5889312bf.jpg as C:\\\\5025211148\\\\YOLOv9-Segmentation\\\\Dataset Train Val\\\\gt-AB\\slice_2_png.rf.773ebb3973e8d24b3610d7d5889312bf_output.jpg\n",
      "Saved resized output image for slice_3_png.rf.2b7ac0dccdcc3241e2441dcdfe40b19a.jpg as C:\\\\5025211148\\\\YOLOv9-Segmentation\\\\Dataset Train Val\\\\gt-AB\\slice_3_png.rf.2b7ac0dccdcc3241e2441dcdfe40b19a_output.jpg\n",
      "Saved resized output image for slice_4_png.rf.ed9951865dd8c8e9c4bb357b12d90bf3.jpg as C:\\\\5025211148\\\\YOLOv9-Segmentation\\\\Dataset Train Val\\\\gt-AB\\slice_4_png.rf.ed9951865dd8c8e9c4bb357b12d90bf3_output.jpg\n",
      "Saved resized output image for slice_5_png.rf.fa534a063f0865aba05bfb1f39bf17f1.jpg as C:\\\\5025211148\\\\YOLOv9-Segmentation\\\\Dataset Train Val\\\\gt-AB\\slice_5_png.rf.fa534a063f0865aba05bfb1f39bf17f1_output.jpg\n",
      "Saved resized output image for slice_6_png.rf.69513226c67a48924c9727490a40871b.jpg as C:\\\\5025211148\\\\YOLOv9-Segmentation\\\\Dataset Train Val\\\\gt-AB\\slice_6_png.rf.69513226c67a48924c9727490a40871b_output.jpg\n",
      "Saved resized output image for slice_7_png.rf.911a9c8ba0e64b11ffd5e11ceb31250e.jpg as C:\\\\5025211148\\\\YOLOv9-Segmentation\\\\Dataset Train Val\\\\gt-AB\\slice_7_png.rf.911a9c8ba0e64b11ffd5e11ceb31250e_output.jpg\n",
      "Saved resized output image for slice_8_png.rf.08bf826fea5c4ff01a4a4d1f987b7af6.jpg as C:\\\\5025211148\\\\YOLOv9-Segmentation\\\\Dataset Train Val\\\\gt-AB\\slice_8_png.rf.08bf826fea5c4ff01a4a4d1f987b7af6_output.jpg\n",
      "Saved resized output image for slice_9_png.rf.7b263d87fcdea007b3b78938772a24a5.jpg as C:\\\\5025211148\\\\YOLOv9-Segmentation\\\\Dataset Train Val\\\\gt-AB\\slice_9_png.rf.7b263d87fcdea007b3b78938772a24a5_output.jpg\n"
     ]
    }
   ],
   "source": [
    "import os\n",
    "import cv2\n",
    "import numpy as np\n",
    "\n",
    "# Directory paths\n",
    "img_path = valid_path\n",
    "gt_path = ground_truth_path\n",
    "output_path = gt_AB_path\n",
    "\n",
    "# Ensure output directory exists\n",
    "if not os.path.exists(output_path):\n",
    "    os.makedirs(output_path)\n",
    "\n",
    "# Iterate over files in the image directory\n",
    "for img_file in os.listdir(img_path):\n",
    "    if img_file.endswith(\".jpg\") or img_file.endswith(\".png\"):  # adjust based on your image format\n",
    "        # Read the image\n",
    "        img = cv2.imread(os.path.join(img_path, img_file))\n",
    "\n",
    "        # Create a blank white image with the same dimensions as the original image\n",
    "        mask = np.ones_like(img) * 255\n",
    "\n",
    "        # Read the corresponding ground truth file\n",
    "        gt_file = os.path.splitext(img_file)[0] + \".txt\"  # assuming ground truth files have the same name as images\n",
    "        gt_file_path = os.path.join(gt_path, gt_file)\n",
    "\n",
    "        if os.path.exists(gt_file_path):\n",
    "            class_0_points = []\n",
    "            class_1_points = []\n",
    "            with open(gt_file_path, \"r\") as file:\n",
    "                lines = file.readlines()\n",
    "                for line in lines:\n",
    "                    data = line.split()\n",
    "                    class_label = int(data[0])\n",
    "                    points = [(float(data[i]), float(data[i+1])) for i in range(1, len(data), 2)]\n",
    "                    # Convert normalized coordinates to pixel coordinates\n",
    "                    img_height, img_width, _ = img.shape\n",
    "                    points = [(int(point[0] * img_width), int(point[1] * img_height)) for point in points]\n",
    "                    if class_label == 0:\n",
    "                        class_0_points.extend(points)\n",
    "                    elif class_label == 1:\n",
    "                        class_1_points.extend(points)\n",
    "\n",
    "            # Create numpy arrays of points for drawing the polygons\n",
    "            polygon_points_0 = np.array(class_0_points)\n",
    "            polygon_points_1 = np.array(class_1_points)\n",
    "\n",
    "            # Draw the filled polygons on the mask\n",
    "            if len(polygon_points_0) > 0:\n",
    "                cv2.fillPoly(mask, [polygon_points_0], color=(0, 0, 0))\n",
    "            if len(polygon_points_1) > 0:\n",
    "                cv2.fillPoly(mask, [polygon_points_1], color=(255, 255, 255))\n",
    "\n",
    "            # Resize the output image to 101x200\n",
    "            mask = 255 - mask\n",
    "            mask_resized = cv2.resize(mask, (101, 200))\n",
    "\n",
    "            # Save the output image as JPEG\n",
    "            output_file = os.path.splitext(img_file)[0] + \"_output.jpg\"\n",
    "            output_file_path = os.path.join(output_path, output_file)\n",
    "            cv2.imwrite(output_file_path, mask_resized)\n",
    "\n",
    "            print(f\"Saved resized output image for {img_file} as {output_file_path}\")\n",
    "        else:\n",
    "            print(f\"No ground truth file found for {img_file}\")\n",
    "\n",
    "# image_loader = ImageLoader(output_path)\n",
    "# gt_AB = image_loader.load_images()\n"
   ]
  },
  {
   "cell_type": "code",
   "execution_count": 23,
   "metadata": {},
   "outputs": [
    {
     "name": "stdout",
     "output_type": "stream",
     "text": [
      "Saved resized output image for slice_0_png.rf.b6a308ad17de783c210d9ceb410d76a1.jpg as C:\\\\5025211148\\\\YOLOv9-Segmentation\\\\Dataset Train Val\\\\gt-MC\\slice_0_png.rf.b6a308ad17de783c210d9ceb410d76a1_output.jpg\n",
      "Saved resized output image for slice_10_png.rf.8cfc23276c5e0a0a9c082a84937bbfa9.jpg as C:\\\\5025211148\\\\YOLOv9-Segmentation\\\\Dataset Train Val\\\\gt-MC\\slice_10_png.rf.8cfc23276c5e0a0a9c082a84937bbfa9_output.jpg\n",
      "Saved resized output image for slice_11_png.rf.2f4ba45901be13bdd4a6d27191f04632.jpg as C:\\\\5025211148\\\\YOLOv9-Segmentation\\\\Dataset Train Val\\\\gt-MC\\slice_11_png.rf.2f4ba45901be13bdd4a6d27191f04632_output.jpg\n",
      "Saved resized output image for slice_12_png.rf.e697ea8e2a874fe7e9b6625b141d770f.jpg as C:\\\\5025211148\\\\YOLOv9-Segmentation\\\\Dataset Train Val\\\\gt-MC\\slice_12_png.rf.e697ea8e2a874fe7e9b6625b141d770f_output.jpg\n",
      "Saved resized output image for slice_13_png.rf.3e77ef333ad7540a2e71c11b85729e94.jpg as C:\\\\5025211148\\\\YOLOv9-Segmentation\\\\Dataset Train Val\\\\gt-MC\\slice_13_png.rf.3e77ef333ad7540a2e71c11b85729e94_output.jpg\n",
      "Saved resized output image for slice_14_png.rf.d4246e1825c0cc584de095d27ae0ba29.jpg as C:\\\\5025211148\\\\YOLOv9-Segmentation\\\\Dataset Train Val\\\\gt-MC\\slice_14_png.rf.d4246e1825c0cc584de095d27ae0ba29_output.jpg\n",
      "Saved resized output image for slice_15_png.rf.08dca079baea99e2094955b7bca56721.jpg as C:\\\\5025211148\\\\YOLOv9-Segmentation\\\\Dataset Train Val\\\\gt-MC\\slice_15_png.rf.08dca079baea99e2094955b7bca56721_output.jpg\n",
      "Saved resized output image for slice_16_png.rf.5505cc7edadd735a4051c540ba652f82.jpg as C:\\\\5025211148\\\\YOLOv9-Segmentation\\\\Dataset Train Val\\\\gt-MC\\slice_16_png.rf.5505cc7edadd735a4051c540ba652f82_output.jpg\n",
      "Saved resized output image for slice_184_jpg.rf.fb7007d3aec48c5887b58c4b1f251982.jpg as C:\\\\5025211148\\\\YOLOv9-Segmentation\\\\Dataset Train Val\\\\gt-MC\\slice_184_jpg.rf.fb7007d3aec48c5887b58c4b1f251982_output.jpg\n",
      "Saved resized output image for slice_185_jpg.rf.c259553f5c57f7ea65f5ec81e559a32a.jpg as C:\\\\5025211148\\\\YOLOv9-Segmentation\\\\Dataset Train Val\\\\gt-MC\\slice_185_jpg.rf.c259553f5c57f7ea65f5ec81e559a32a_output.jpg\n",
      "Saved resized output image for slice_186_jpg.rf.7fea4a8ac7a43acb2f28d29a8c9e2b18.jpg as C:\\\\5025211148\\\\YOLOv9-Segmentation\\\\Dataset Train Val\\\\gt-MC\\slice_186_jpg.rf.7fea4a8ac7a43acb2f28d29a8c9e2b18_output.jpg\n",
      "Saved resized output image for slice_187_jpg.rf.9abf8d193ac601a0c952ef8160a9a2f3.jpg as C:\\\\5025211148\\\\YOLOv9-Segmentation\\\\Dataset Train Val\\\\gt-MC\\slice_187_jpg.rf.9abf8d193ac601a0c952ef8160a9a2f3_output.jpg\n",
      "Saved resized output image for slice_188_jpg.rf.5fbe759a3a7c1fde7f222c92ef628ffc.jpg as C:\\\\5025211148\\\\YOLOv9-Segmentation\\\\Dataset Train Val\\\\gt-MC\\slice_188_jpg.rf.5fbe759a3a7c1fde7f222c92ef628ffc_output.jpg\n",
      "Saved resized output image for slice_189_jpg.rf.c1670c9fd948cb7906245cbbfe3f3ed5.jpg as C:\\\\5025211148\\\\YOLOv9-Segmentation\\\\Dataset Train Val\\\\gt-MC\\slice_189_jpg.rf.c1670c9fd948cb7906245cbbfe3f3ed5_output.jpg\n",
      "Saved resized output image for slice_190_jpg.rf.ad95785b57764989b3cd348bf7ebf3df.jpg as C:\\\\5025211148\\\\YOLOv9-Segmentation\\\\Dataset Train Val\\\\gt-MC\\slice_190_jpg.rf.ad95785b57764989b3cd348bf7ebf3df_output.jpg\n",
      "Saved resized output image for slice_191_jpg.rf.0ee9ad54909660dc8183df6b1a9d936d.jpg as C:\\\\5025211148\\\\YOLOv9-Segmentation\\\\Dataset Train Val\\\\gt-MC\\slice_191_jpg.rf.0ee9ad54909660dc8183df6b1a9d936d_output.jpg\n",
      "Saved resized output image for slice_192_jpg.rf.5f98ffbe0c04578941047e31680f4ac8.jpg as C:\\\\5025211148\\\\YOLOv9-Segmentation\\\\Dataset Train Val\\\\gt-MC\\slice_192_jpg.rf.5f98ffbe0c04578941047e31680f4ac8_output.jpg\n",
      "Saved resized output image for slice_193_jpg.rf.997bde128c89a09bddde6eede7136af8.jpg as C:\\\\5025211148\\\\YOLOv9-Segmentation\\\\Dataset Train Val\\\\gt-MC\\slice_193_jpg.rf.997bde128c89a09bddde6eede7136af8_output.jpg\n",
      "Saved resized output image for slice_194_jpg.rf.510119948c76ce4b0ba77184428b99a1.jpg as C:\\\\5025211148\\\\YOLOv9-Segmentation\\\\Dataset Train Val\\\\gt-MC\\slice_194_jpg.rf.510119948c76ce4b0ba77184428b99a1_output.jpg\n",
      "Saved resized output image for slice_195_jpg.rf.4bdeee9e3f4907b631f508bcec563dc2.jpg as C:\\\\5025211148\\\\YOLOv9-Segmentation\\\\Dataset Train Val\\\\gt-MC\\slice_195_jpg.rf.4bdeee9e3f4907b631f508bcec563dc2_output.jpg\n",
      "Saved resized output image for slice_196_jpg.rf.dc89629b77d81e3226e63a87afeecfc7.jpg as C:\\\\5025211148\\\\YOLOv9-Segmentation\\\\Dataset Train Val\\\\gt-MC\\slice_196_jpg.rf.dc89629b77d81e3226e63a87afeecfc7_output.jpg\n",
      "Saved resized output image for slice_197_jpg.rf.9ce57987bde90784b202fe9e6d7c481e.jpg as C:\\\\5025211148\\\\YOLOv9-Segmentation\\\\Dataset Train Val\\\\gt-MC\\slice_197_jpg.rf.9ce57987bde90784b202fe9e6d7c481e_output.jpg\n",
      "Saved resized output image for slice_198_jpg.rf.6b58b1ba2b6b73b61ba979f22fb46caf.jpg as C:\\\\5025211148\\\\YOLOv9-Segmentation\\\\Dataset Train Val\\\\gt-MC\\slice_198_jpg.rf.6b58b1ba2b6b73b61ba979f22fb46caf_output.jpg\n",
      "Saved resized output image for slice_199_jpg.rf.26f48bd8f377db569234a70975b06f44.jpg as C:\\\\5025211148\\\\YOLOv9-Segmentation\\\\Dataset Train Val\\\\gt-MC\\slice_199_jpg.rf.26f48bd8f377db569234a70975b06f44_output.jpg\n",
      "Saved resized output image for slice_1_png.rf.813ec633aebc1e939b902b040068a91a.jpg as C:\\\\5025211148\\\\YOLOv9-Segmentation\\\\Dataset Train Val\\\\gt-MC\\slice_1_png.rf.813ec633aebc1e939b902b040068a91a_output.jpg\n",
      "Saved resized output image for slice_200_jpg.rf.7a651a02064be38cf08502236c43f762.jpg as C:\\\\5025211148\\\\YOLOv9-Segmentation\\\\Dataset Train Val\\\\gt-MC\\slice_200_jpg.rf.7a651a02064be38cf08502236c43f762_output.jpg\n",
      "Saved resized output image for slice_201_jpg.rf.405030fbbb0b7c68d0450b10c48f32b3.jpg as C:\\\\5025211148\\\\YOLOv9-Segmentation\\\\Dataset Train Val\\\\gt-MC\\slice_201_jpg.rf.405030fbbb0b7c68d0450b10c48f32b3_output.jpg\n",
      "Saved resized output image for slice_202_jpg.rf.f7e659f04a40049e6cba5239c0ca41fe.jpg as C:\\\\5025211148\\\\YOLOv9-Segmentation\\\\Dataset Train Val\\\\gt-MC\\slice_202_jpg.rf.f7e659f04a40049e6cba5239c0ca41fe_output.jpg\n",
      "Saved resized output image for slice_203_jpg.rf.e5030f4868e53e80acb8f21aef7489f9.jpg as C:\\\\5025211148\\\\YOLOv9-Segmentation\\\\Dataset Train Val\\\\gt-MC\\slice_203_jpg.rf.e5030f4868e53e80acb8f21aef7489f9_output.jpg\n",
      "Saved resized output image for slice_204_jpg.rf.379e8a1abf3842f461423e8e76141932.jpg as C:\\\\5025211148\\\\YOLOv9-Segmentation\\\\Dataset Train Val\\\\gt-MC\\slice_204_jpg.rf.379e8a1abf3842f461423e8e76141932_output.jpg\n",
      "Saved resized output image for slice_205_jpg.rf.91c7f454ebef22c3ff8ce5727bba228e.jpg as C:\\\\5025211148\\\\YOLOv9-Segmentation\\\\Dataset Train Val\\\\gt-MC\\slice_205_jpg.rf.91c7f454ebef22c3ff8ce5727bba228e_output.jpg\n",
      "Saved resized output image for slice_206_jpg.rf.5b4192b7ef82aad37ac4d99ed13e2ee2.jpg as C:\\\\5025211148\\\\YOLOv9-Segmentation\\\\Dataset Train Val\\\\gt-MC\\slice_206_jpg.rf.5b4192b7ef82aad37ac4d99ed13e2ee2_output.jpg\n",
      "Saved resized output image for slice_207_jpg.rf.6c10293c5a5cc5871fe43008a8840e3b.jpg as C:\\\\5025211148\\\\YOLOv9-Segmentation\\\\Dataset Train Val\\\\gt-MC\\slice_207_jpg.rf.6c10293c5a5cc5871fe43008a8840e3b_output.jpg\n",
      "Saved resized output image for slice_208_jpg.rf.474a2cc7da8963637f4a10d5518ef23b.jpg as C:\\\\5025211148\\\\YOLOv9-Segmentation\\\\Dataset Train Val\\\\gt-MC\\slice_208_jpg.rf.474a2cc7da8963637f4a10d5518ef23b_output.jpg\n",
      "Saved resized output image for slice_209_jpg.rf.8931044812d6e143d00fc94414dc965c.jpg as C:\\\\5025211148\\\\YOLOv9-Segmentation\\\\Dataset Train Val\\\\gt-MC\\slice_209_jpg.rf.8931044812d6e143d00fc94414dc965c_output.jpg\n",
      "Saved resized output image for slice_210_jpg.rf.2f1e8d2936842397afbbace9a9c9ace1.jpg as C:\\\\5025211148\\\\YOLOv9-Segmentation\\\\Dataset Train Val\\\\gt-MC\\slice_210_jpg.rf.2f1e8d2936842397afbbace9a9c9ace1_output.jpg\n",
      "Saved resized output image for slice_211_jpg.rf.ce50dbaa10adb29f88ba7ce96c4b28e3.jpg as C:\\\\5025211148\\\\YOLOv9-Segmentation\\\\Dataset Train Val\\\\gt-MC\\slice_211_jpg.rf.ce50dbaa10adb29f88ba7ce96c4b28e3_output.jpg\n",
      "Saved resized output image for slice_212_jpg.rf.fa999268d1357cfe3baf7f66d218858a.jpg as C:\\\\5025211148\\\\YOLOv9-Segmentation\\\\Dataset Train Val\\\\gt-MC\\slice_212_jpg.rf.fa999268d1357cfe3baf7f66d218858a_output.jpg\n",
      "Saved resized output image for slice_227_jpg.rf.47e302d51c39b996e9aa5c2457568e72.jpg as C:\\\\5025211148\\\\YOLOv9-Segmentation\\\\Dataset Train Val\\\\gt-MC\\slice_227_jpg.rf.47e302d51c39b996e9aa5c2457568e72_output.jpg\n",
      "Saved resized output image for slice_228_jpg.rf.d6fa4e941fd8ee957cb2fa40d1617dcd.jpg as C:\\\\5025211148\\\\YOLOv9-Segmentation\\\\Dataset Train Val\\\\gt-MC\\slice_228_jpg.rf.d6fa4e941fd8ee957cb2fa40d1617dcd_output.jpg\n",
      "Saved resized output image for slice_229_jpg.rf.c4406e3223457b9d82da77009e090083.jpg as C:\\\\5025211148\\\\YOLOv9-Segmentation\\\\Dataset Train Val\\\\gt-MC\\slice_229_jpg.rf.c4406e3223457b9d82da77009e090083_output.jpg\n",
      "Saved resized output image for slice_230_jpg.rf.c38851d2bc1de61efaff2c6a0c6a533b.jpg as C:\\\\5025211148\\\\YOLOv9-Segmentation\\\\Dataset Train Val\\\\gt-MC\\slice_230_jpg.rf.c38851d2bc1de61efaff2c6a0c6a533b_output.jpg\n",
      "Saved resized output image for slice_231_jpg.rf.5a943022fe92bf999159d5a80fdfaa3c.jpg as C:\\\\5025211148\\\\YOLOv9-Segmentation\\\\Dataset Train Val\\\\gt-MC\\slice_231_jpg.rf.5a943022fe92bf999159d5a80fdfaa3c_output.jpg\n",
      "Saved resized output image for slice_232_jpg.rf.36559349f65c59474e2c273ef3a1895f.jpg as C:\\\\5025211148\\\\YOLOv9-Segmentation\\\\Dataset Train Val\\\\gt-MC\\slice_232_jpg.rf.36559349f65c59474e2c273ef3a1895f_output.jpg\n",
      "Saved resized output image for slice_233_jpg.rf.21c7a2018478f98c4170d84b9d900a8b.jpg as C:\\\\5025211148\\\\YOLOv9-Segmentation\\\\Dataset Train Val\\\\gt-MC\\slice_233_jpg.rf.21c7a2018478f98c4170d84b9d900a8b_output.jpg\n",
      "Saved resized output image for slice_234_jpg.rf.8376c291224523f2379285e6739f8508.jpg as C:\\\\5025211148\\\\YOLOv9-Segmentation\\\\Dataset Train Val\\\\gt-MC\\slice_234_jpg.rf.8376c291224523f2379285e6739f8508_output.jpg\n",
      "Saved resized output image for slice_234_jpg.rf.8c97c306d89d4aea1956db536d9ae8da.jpg as C:\\\\5025211148\\\\YOLOv9-Segmentation\\\\Dataset Train Val\\\\gt-MC\\slice_234_jpg.rf.8c97c306d89d4aea1956db536d9ae8da_output.jpg\n",
      "Saved resized output image for slice_235_jpg.rf.7a0cd7f426f4c0b16065120adc6c63f0.jpg as C:\\\\5025211148\\\\YOLOv9-Segmentation\\\\Dataset Train Val\\\\gt-MC\\slice_235_jpg.rf.7a0cd7f426f4c0b16065120adc6c63f0_output.jpg\n",
      "Saved resized output image for slice_236_jpg.rf.baef61c5ff250c1d85dc3ee096660de8.jpg as C:\\\\5025211148\\\\YOLOv9-Segmentation\\\\Dataset Train Val\\\\gt-MC\\slice_236_jpg.rf.baef61c5ff250c1d85dc3ee096660de8_output.jpg\n",
      "Saved resized output image for slice_237_jpg.rf.b9610d515a5437097ad9d6ec26739bd9.jpg as C:\\\\5025211148\\\\YOLOv9-Segmentation\\\\Dataset Train Val\\\\gt-MC\\slice_237_jpg.rf.b9610d515a5437097ad9d6ec26739bd9_output.jpg\n",
      "Saved resized output image for slice_238_jpg.rf.6025395d22a4004b13a3f9b376079bb8.jpg as C:\\\\5025211148\\\\YOLOv9-Segmentation\\\\Dataset Train Val\\\\gt-MC\\slice_238_jpg.rf.6025395d22a4004b13a3f9b376079bb8_output.jpg\n",
      "Saved resized output image for slice_239_jpg.rf.b6d73c66406e62a091551a6d3ccce095.jpg as C:\\\\5025211148\\\\YOLOv9-Segmentation\\\\Dataset Train Val\\\\gt-MC\\slice_239_jpg.rf.b6d73c66406e62a091551a6d3ccce095_output.jpg\n",
      "Saved resized output image for slice_239_jpg.rf.bd8f5271a858f2a277c210f5e04a86df.jpg as C:\\\\5025211148\\\\YOLOv9-Segmentation\\\\Dataset Train Val\\\\gt-MC\\slice_239_jpg.rf.bd8f5271a858f2a277c210f5e04a86df_output.jpg\n",
      "Saved resized output image for slice_240_jpg.rf.0aa788cdb7219a189ea9e4b9a53b996a.jpg as C:\\\\5025211148\\\\YOLOv9-Segmentation\\\\Dataset Train Val\\\\gt-MC\\slice_240_jpg.rf.0aa788cdb7219a189ea9e4b9a53b996a_output.jpg\n",
      "Saved resized output image for slice_241_jpg.rf.5bb370de0c0c5a0a1298999b8269e4b4.jpg as C:\\\\5025211148\\\\YOLOv9-Segmentation\\\\Dataset Train Val\\\\gt-MC\\slice_241_jpg.rf.5bb370de0c0c5a0a1298999b8269e4b4_output.jpg\n",
      "Saved resized output image for slice_241_jpg.rf.8e99851409db29bcb7433e96215d032f.jpg as C:\\\\5025211148\\\\YOLOv9-Segmentation\\\\Dataset Train Val\\\\gt-MC\\slice_241_jpg.rf.8e99851409db29bcb7433e96215d032f_output.jpg\n",
      "Saved resized output image for slice_242_jpg.rf.04473fce5585378c912db056877ef4be.jpg as C:\\\\5025211148\\\\YOLOv9-Segmentation\\\\Dataset Train Val\\\\gt-MC\\slice_242_jpg.rf.04473fce5585378c912db056877ef4be_output.jpg\n",
      "Saved resized output image for slice_243_jpg.rf.4e282c9d623df41fb28d1181aff460f7.jpg as C:\\\\5025211148\\\\YOLOv9-Segmentation\\\\Dataset Train Val\\\\gt-MC\\slice_243_jpg.rf.4e282c9d623df41fb28d1181aff460f7_output.jpg\n",
      "Saved resized output image for slice_243_jpg.rf.ae3d135830b986a680d9ef8fbe5441f9.jpg as C:\\\\5025211148\\\\YOLOv9-Segmentation\\\\Dataset Train Val\\\\gt-MC\\slice_243_jpg.rf.ae3d135830b986a680d9ef8fbe5441f9_output.jpg\n",
      "Saved resized output image for slice_244_jpg.rf.4a9409f3b5a33b7c702d348109c89c68.jpg as C:\\\\5025211148\\\\YOLOv9-Segmentation\\\\Dataset Train Val\\\\gt-MC\\slice_244_jpg.rf.4a9409f3b5a33b7c702d348109c89c68_output.jpg\n",
      "Saved resized output image for slice_245_jpg.rf.69a1679f246e89e375a49ba7b2e03b67.jpg as C:\\\\5025211148\\\\YOLOv9-Segmentation\\\\Dataset Train Val\\\\gt-MC\\slice_245_jpg.rf.69a1679f246e89e375a49ba7b2e03b67_output.jpg\n",
      "Saved resized output image for slice_245_jpg.rf.7280f92363a1b9f4c1b74a7079335c62.jpg as C:\\\\5025211148\\\\YOLOv9-Segmentation\\\\Dataset Train Val\\\\gt-MC\\slice_245_jpg.rf.7280f92363a1b9f4c1b74a7079335c62_output.jpg\n",
      "Saved resized output image for slice_246_jpg.rf.1b3b7419434d4f2ffe8a69c66cc0eb7d.jpg as C:\\\\5025211148\\\\YOLOv9-Segmentation\\\\Dataset Train Val\\\\gt-MC\\slice_246_jpg.rf.1b3b7419434d4f2ffe8a69c66cc0eb7d_output.jpg\n",
      "Saved resized output image for slice_247_jpg.rf.0132c277c4d7f8c5c95ea3a595ba7315.jpg as C:\\\\5025211148\\\\YOLOv9-Segmentation\\\\Dataset Train Val\\\\gt-MC\\slice_247_jpg.rf.0132c277c4d7f8c5c95ea3a595ba7315_output.jpg\n",
      "Saved resized output image for slice_248_jpg.rf.fe48f8cb5097a5c105f48b585f33a07a.jpg as C:\\\\5025211148\\\\YOLOv9-Segmentation\\\\Dataset Train Val\\\\gt-MC\\slice_248_jpg.rf.fe48f8cb5097a5c105f48b585f33a07a_output.jpg\n",
      "Saved resized output image for slice_250_jpg.rf.84d15643db599a8826b8ca7b5320dfc5.jpg as C:\\\\5025211148\\\\YOLOv9-Segmentation\\\\Dataset Train Val\\\\gt-MC\\slice_250_jpg.rf.84d15643db599a8826b8ca7b5320dfc5_output.jpg\n",
      "Saved resized output image for slice_257_jpg.rf.1afa5d3faf30171b5a1ee38437f1cae5.jpg as C:\\\\5025211148\\\\YOLOv9-Segmentation\\\\Dataset Train Val\\\\gt-MC\\slice_257_jpg.rf.1afa5d3faf30171b5a1ee38437f1cae5_output.jpg\n",
      "Saved resized output image for slice_2_png.rf.773ebb3973e8d24b3610d7d5889312bf.jpg as C:\\\\5025211148\\\\YOLOv9-Segmentation\\\\Dataset Train Val\\\\gt-MC\\slice_2_png.rf.773ebb3973e8d24b3610d7d5889312bf_output.jpg\n",
      "Saved resized output image for slice_3_png.rf.2b7ac0dccdcc3241e2441dcdfe40b19a.jpg as C:\\\\5025211148\\\\YOLOv9-Segmentation\\\\Dataset Train Val\\\\gt-MC\\slice_3_png.rf.2b7ac0dccdcc3241e2441dcdfe40b19a_output.jpg\n",
      "Saved resized output image for slice_4_png.rf.ed9951865dd8c8e9c4bb357b12d90bf3.jpg as C:\\\\5025211148\\\\YOLOv9-Segmentation\\\\Dataset Train Val\\\\gt-MC\\slice_4_png.rf.ed9951865dd8c8e9c4bb357b12d90bf3_output.jpg\n",
      "Saved resized output image for slice_5_png.rf.fa534a063f0865aba05bfb1f39bf17f1.jpg as C:\\\\5025211148\\\\YOLOv9-Segmentation\\\\Dataset Train Val\\\\gt-MC\\slice_5_png.rf.fa534a063f0865aba05bfb1f39bf17f1_output.jpg\n",
      "Saved resized output image for slice_6_png.rf.69513226c67a48924c9727490a40871b.jpg as C:\\\\5025211148\\\\YOLOv9-Segmentation\\\\Dataset Train Val\\\\gt-MC\\slice_6_png.rf.69513226c67a48924c9727490a40871b_output.jpg\n",
      "Saved resized output image for slice_7_png.rf.911a9c8ba0e64b11ffd5e11ceb31250e.jpg as C:\\\\5025211148\\\\YOLOv9-Segmentation\\\\Dataset Train Val\\\\gt-MC\\slice_7_png.rf.911a9c8ba0e64b11ffd5e11ceb31250e_output.jpg\n",
      "Saved resized output image for slice_8_png.rf.08bf826fea5c4ff01a4a4d1f987b7af6.jpg as C:\\\\5025211148\\\\YOLOv9-Segmentation\\\\Dataset Train Val\\\\gt-MC\\slice_8_png.rf.08bf826fea5c4ff01a4a4d1f987b7af6_output.jpg\n",
      "Saved resized output image for slice_9_png.rf.7b263d87fcdea007b3b78938772a24a5.jpg as C:\\\\5025211148\\\\YOLOv9-Segmentation\\\\Dataset Train Val\\\\gt-MC\\slice_9_png.rf.7b263d87fcdea007b3b78938772a24a5_output.jpg\n"
     ]
    }
   ],
   "source": [
    "import os\n",
    "import cv2\n",
    "import numpy as np\n",
    "\n",
    "# Directory paths\n",
    "img_path = valid_path\n",
    "gt_path = ground_truth_path\n",
    "output_path = gt_MC_path\n",
    "\n",
    "# Ensure output directory exists\n",
    "if not os.path.exists(output_path):\n",
    "    os.makedirs(output_path)\n",
    "\n",
    "# Iterate over files in the image directory\n",
    "for img_file in os.listdir(img_path):\n",
    "    if img_file.endswith(\".jpg\") or img_file.endswith(\".png\"):  # adjust based on your image format\n",
    "        # Read the image\n",
    "        img = cv2.imread(os.path.join(img_path, img_file))\n",
    "\n",
    "        # Create a blank white image with the same dimensions as the original image\n",
    "        mask = np.ones_like(img) * 255\n",
    "\n",
    "        # Read the corresponding ground truth file\n",
    "        gt_file = os.path.splitext(img_file)[0] + \".txt\"  # assuming ground truth files have the same name as images\n",
    "        gt_file_path = os.path.join(gt_path, gt_file)\n",
    "\n",
    "        if os.path.exists(gt_file_path):\n",
    "            class_0_points = []\n",
    "            with open(gt_file_path, \"r\") as file:\n",
    "                lines = file.readlines()\n",
    "                for line in lines:\n",
    "                    data = line.split()\n",
    "                    class_label = int(data[0])\n",
    "                    if class_label == 1:\n",
    "                        points = [(float(data[i]), float(data[i+1])) for i in range(1, len(data), 2)]\n",
    "                        # Convert normalized coordinates to pixel coordinates\n",
    "                        img_height, img_width, _ = img.shape\n",
    "                        points = [(int(point[0] * img_width), int(point[1] * img_height)) for point in points]\n",
    "                        class_0_points.extend(points)\n",
    "\n",
    "            # Create a numpy array of points for drawing the polygon\n",
    "            polygon_points = np.array(class_0_points)\n",
    "\n",
    "            # Draw the filled polygon on the mask\n",
    "            if len(polygon_points) > 0:\n",
    "                cv2.fillPoly(mask, [polygon_points], color=(0, 0, 0))\n",
    "\n",
    "            # Resize the output image to 101x200\n",
    "            mask = 255 - mask\n",
    "            mask_resized = cv2.resize(mask, (101, 200))\n",
    "\n",
    "            # Save the output image as JPEG\n",
    "            output_file = os.path.splitext(img_file)[0] + \"_output.jpg\"\n",
    "            output_file_path = os.path.join(output_path, output_file)\n",
    "            cv2.imwrite(output_file_path, mask_resized)\n",
    "\n",
    "            print(f\"Saved resized output image for {img_file} as {output_file_path}\")\n",
    "        else:\n",
    "            print(f\"No ground truth file found for {img_file}\")\n",
    "\n",
    "# image_loader = ImageLoader(output_path)\n",
    "# gt_MC = image_loader.load_images()"
   ]
  },
  {
   "cell_type": "code",
   "execution_count": 25,
   "metadata": {},
   "outputs": [],
   "source": [
    "import os\n",
    "import cv2\n",
    "import numpy as np\n",
    "import re\n",
    "\n",
    "def read_images_as_binary_sorted(path, threshold=127):\n",
    "    image_list = []\n",
    "\n",
    "    # Get all files in the folder\n",
    "    files = os.listdir(path)\n",
    "\n",
    "    # Sort files based on filenames\n",
    "    sorted_files = sorted(files, key=sort_key)\n",
    "\n",
    "    # Iterate over sorted files\n",
    "    for file_name in sorted_files:\n",
    "        # Check if the file is an image (you can adjust the condition based on your image formats)\n",
    "        if file_name.endswith(\".jpg\") or file_name.endswith(\".png\"):\n",
    "            # Read the image in grayscale\n",
    "            image_path = os.path.join(path, file_name)\n",
    "            image = cv2.imread(image_path, cv2.IMREAD_GRAYSCALE)\n",
    "\n",
    "            if image is not None:\n",
    "                # Apply thresholding to convert grayscale to binary image\n",
    "                _, binary_image = cv2.threshold(image, threshold, 1, cv2.THRESH_BINARY)\n",
    "                image_list.append(binary_image)\n",
    "                # unique_values, counts = np.unique(binary_image, return_counts=True)\n",
    "                # for value, count in zip(unique_values, counts):\n",
    "                    # print(f\"{value}: {count}\")\n",
    "\n",
    "    # Convert the list of images to a numpy array\n",
    "    image_array = np.array(image_list)\n",
    "    return image_array\n",
    "\n",
    "def sort_key(file_name):\n",
    "    parts = re.split(r'(\\d+)', file_name)\n",
    "    parts[1::2] = map(int, parts[1::2])  # Convert numeric parts to integers\n",
    "    return parts\n",
    "\n",
    "# Example usage:\n",
    "# sorted_images = read_images_as_grayscale_sorted(\"/path/to/images\")\n"
   ]
  },
  {
   "cell_type": "code",
   "execution_count": 26,
   "metadata": {},
   "outputs": [
    {
     "name": "stdout",
     "output_type": "stream",
     "text": [
      "Shape of images array: (75, 200, 101)\n"
     ]
    }
   ],
   "source": [
    "# Example usage:\n",
    "path_to_images = gt_AB_path\n",
    "gt_AB = read_images_as_binary_sorted(path_to_images)\n",
    "print(\"Shape of images array:\", gt_AB.shape)"
   ]
  },
  {
   "cell_type": "code",
   "execution_count": 27,
   "metadata": {},
   "outputs": [
    {
     "name": "stdout",
     "output_type": "stream",
     "text": [
      "Shape of images array: (75, 200, 101)\n"
     ]
    }
   ],
   "source": [
    "\n",
    "# Example usage:\n",
    "path_to_images = gt_MC_path\n",
    "gt_MC = read_images_as_binary_sorted(path_to_images)\n",
    "print(\"Shape of images array:\", gt_MC.shape)"
   ]
  },
  {
   "cell_type": "code",
   "execution_count": 28,
   "metadata": {},
   "outputs": [
    {
     "name": "stdout",
     "output_type": "stream",
     "text": [
      "Shape of images array: (75, 200, 101)\n"
     ]
    }
   ],
   "source": [
    "\n",
    "# Example usage:\n",
    "path_to_images = segmented_AB_path\n",
    "segmented_AB = read_images_as_binary_sorted(path_to_images)\n",
    "print(\"Shape of images array:\", segmented_AB.shape)"
   ]
  },
  {
   "cell_type": "code",
   "execution_count": 29,
   "metadata": {},
   "outputs": [
    {
     "name": "stdout",
     "output_type": "stream",
     "text": [
      "Shape of images array: (75, 200, 101)\n"
     ]
    }
   ],
   "source": [
    "\n",
    "# Example usage:\n",
    "path_to_images = segmented_MC_path\n",
    "segmented_MC = read_images_as_binary_sorted(path_to_images)\n",
    "print(\"Shape of images array:\", segmented_MC.shape)"
   ]
  },
  {
   "cell_type": "code",
   "execution_count": 30,
   "metadata": {},
   "outputs": [],
   "source": [
    "import numpy as np\n",
    "from sklearn.metrics import confusion_matrix\n",
    "\n",
    "\n",
    "def calculate_iou(gt, pred):\n",
    "    unique_gt = np.unique(gt)\n",
    "    unique_pred = np.unique(pred)\n",
    "\n",
    "    # If both gt and pred contain only one unique value and they are equal,\n",
    "    # then IoU is 1\n",
    "    if len(unique_gt) == len(unique_pred) == 1 and unique_gt[0] == unique_pred[0]:\n",
    "        return 1.0\n",
    "\n",
    "    # print(gt.shape)\n",
    "    cm = confusion_matrix(gt.flatten(), pred.flatten())\n",
    "    # unique_values, counts = np.unique(gt, return_counts=True)\n",
    "    # for value, count in zip(unique_values, counts):\n",
    "    #    print(f\"{value}: {count}\")\n",
    "    # print(cm)\n",
    "    intersection = np.diag(cm) #TN dan TP\n",
    "    union = np.sum(cm, axis=0) + np.sum(cm, axis=1) - intersection\n",
    "    # print(np.sum(cm, axis=0))\n",
    "    # print(np.sum(cm, axis=1))\n",
    "    # print(intersection)\n",
    "    # iou = np.mean((intersection + 1e-10) / (union + 1e-10))\n",
    "    # only calculate the iou for AB or MC thats why we use index [1] in intersection\n",
    "    iou = (intersection[1] + 1e-10) / (union[1] + 1e-10)\n",
    "    return iou\n",
    "\n",
    "def calculate_dice_score(gt, pred):\n",
    "    unique_gt = np.unique(gt)\n",
    "    unique_pred = np.unique(pred)\n",
    "\n",
    "    # If both gt and pred contain only one unique value and they are equal,\n",
    "    # then IoU is 1\n",
    "    if len(unique_gt) == len(unique_pred) == 1 and unique_gt[0] == unique_pred[0]:\n",
    "        return 1.0\n",
    "    cm = confusion_matrix(gt.flatten(), pred.flatten())\n",
    "    intersection = np.diag(cm)\n",
    "    union_dice = np.sum(cm, axis=0) + np.sum(cm, axis=1)\n",
    "    # dice_score = np.mean(2 * (intersection + 1e-10) / (union_dice + 1e-10))\n",
    "    dice_score = 2 * (intersection[1] + 1e-10) / (union_dice[1] + 1e-10)\n",
    "    return dice_score\n",
    "\n",
    "def calculate_average_iou_and_dice(gt_images, pred_images):\n",
    "    num_images = gt_images.shape[0]\n",
    "    iou_scores = []\n",
    "    dice_scores = []\n",
    "\n",
    "    for i in range(num_images):\n",
    "        gt_image = gt_images[i]\n",
    "        pred_image = pred_images[i]\n",
    "        iou = calculate_iou(gt_image, pred_image)\n",
    "        dice = calculate_dice_score(gt_image, pred_image)\n",
    "        print(i,\"iou:\",iou)\n",
    "        print(i,\"dice:\",dice)\n",
    "        iou_scores.append(iou)\n",
    "        dice_scores.append(dice)\n",
    "\n",
    "    avg_iou = np.nanmean(iou_scores)  # Use np.nanmean to handle NaN values\n",
    "    avg_dice = np.nanmean(dice_scores)  # Use np.nanmean to handle NaN values\n",
    "    return avg_iou, avg_dice\n",
    "\n",
    "# Example usage:\n",
    "# gt_images and pred_images are numpy arrays containing grayscale images\n",
    "# Each array should have shape (num_images, height, width)\n"
   ]
  },
  {
   "cell_type": "code",
   "execution_count": 31,
   "metadata": {},
   "outputs": [
    {
     "name": "stdout",
     "output_type": "stream",
     "text": [
      "0 iou: 0.9450549450549465\n",
      "0 dice: 0.9717514124293923\n",
      "1 iou: 0.9259259259259279\n",
      "1 dice: 0.9615384615384758\n",
      "2 iou: 0.9423485653560058\n",
      "2 dice: 0.9703186978525651\n",
      "3 iou: 0.9424194400422625\n",
      "3 dice: 0.9703562686973216\n",
      "4 iou: 0.9453022768908677\n",
      "4 dice: 0.9718821471815018\n",
      "5 iou: 0.9530838165524524\n",
      "5 dice: 0.9759784075573688\n",
      "6 iou: 0.9554223149113672\n",
      "6 dice: 0.9772030395947343\n",
      "7 iou: 0.9473411154345021\n",
      "7 dice: 0.9729585719994809\n",
      "8 iou: 0.9436109674081753\n",
      "8 dice: 0.9709874900186456\n",
      "9 iou: 0.9309193631227547\n",
      "9 dice: 0.964223965952933\n",
      "10 iou: 0.934906639004151\n",
      "10 dice: 0.9663583969977353\n",
      "11 iou: 0.9294117647058842\n",
      "11 dice: 0.9634146341463552\n",
      "12 iou: 0.911862669741227\n",
      "12 dice: 0.9538997587778216\n",
      "13 iou: 0.9291257113295414\n",
      "13 dice: 0.9632609278627117\n",
      "14 iou: 0.9417670682730939\n",
      "14 dice: 0.9700103412616472\n",
      "15 iou: 0.9360159960010014\n",
      "15 dice: 0.966950684224129\n",
      "16 iou: 0.9380309845077477\n",
      "16 dice: 0.9680247550283785\n",
      "17 iou: 0.8717219589257544\n",
      "17 dice: 0.9314652261985326\n",
      "18 iou: 0.8871544715447192\n",
      "18 dice: 0.9402033430984157\n",
      "19 iou: 0.8893645044451798\n",
      "19 dice: 0.941443011502284\n",
      "20 iou: 0.9246164109406296\n",
      "20 dice: 0.9608318890814739\n",
      "21 iou: 0.9358041032428877\n",
      "21 dice: 0.9668376068376245\n",
      "22 iou: 0.9429607649192238\n",
      "22 dice: 0.9706431359239951\n",
      "23 iou: 0.9513888888888905\n",
      "23 dice: 0.9750889679715476\n",
      "24 iou: 0.9228264408987326\n",
      "24 dice: 0.959864521591889\n",
      "25 iou: 0.9537533512064359\n",
      "25 dice: 0.9763293310463298\n",
      "26 iou: 0.9274113357640064\n",
      "26 dice: 0.9623387790197943\n",
      "27 iou: 0.9388094446292006\n",
      "27 dice: 0.9684391080617673\n",
      "28 iou: 0.9466003316749603\n",
      "28 dice: 0.972567728744267\n",
      "29 iou: 0.9262295081967238\n",
      "29 dice: 0.9617021276595922\n",
      "30 iou: 0.9361493123772123\n",
      "30 dice: 0.9670218163369023\n",
      "31 iou: 0.9426499670402129\n",
      "31 dice: 0.9704784526637433\n",
      "32 iou: 0.9484670580561009\n",
      "32 dice: 0.9735520589220125\n",
      "33 iou: 0.9553600521342471\n",
      "33 dice: 0.9771704715880857\n",
      "34 iou: 0.9409665909828109\n",
      "34 dice: 0.9695855614973434\n",
      "35 iou: 0.9364255595199502\n",
      "35 dice: 0.9671691792294981\n",
      "36 iou: 0.9271544715447179\n",
      "36 dice: 0.9622004724941113\n",
      "37 iou: 0.9495825305073876\n",
      "37 dice: 0.9741393510130296\n",
      "38 iou: 0.9507087628865996\n",
      "38 dice: 0.9747316267547651\n",
      "39 iou: 0.9286861548345671\n",
      "39 dice: 0.9630246502331952\n",
      "40 iou: 0.933270082226441\n",
      "40 dice: 0.9654833960412406\n",
      "41 iou: 0.9538120847832979\n",
      "41 dice: 0.9763601036269596\n",
      "42 iou: 0.95630304935555\n",
      "42 dice: 0.9776635063474373\n",
      "43 iou: 0.9491684970191419\n",
      "43 dice: 0.9739214423696237\n",
      "44 iou: 0.9501246882793033\n",
      "44 dice: 0.974424552429684\n",
      "45 iou: 0.9621046038208593\n",
      "45 dice: 0.9806863527534081\n",
      "46 iou: 0.8961892247043409\n",
      "46 dice: 0.9452529452529697\n",
      "47 iou: 0.9024713150926786\n",
      "47 dice: 0.9487357921596161\n",
      "48 iou: 0.9019873532068698\n",
      "48 dice: 0.9484682973165769\n",
      "49 iou: 0.9115124153498911\n",
      "49 dice: 0.95370807746814\n",
      "50 iou: 0.907490974729246\n",
      "50 dice: 0.95150224745685\n",
      "51 iou: 0.8827463218903306\n",
      "51 dice: 0.9377219985792342\n",
      "52 iou: 0.9497180451127843\n",
      "52 dice: 0.9742106531694632\n",
      "53 iou: 0.024171888988405364\n",
      "53 dice: 0.047202797202882556\n",
      "54 iou: 0.2608791208791371\n",
      "54 dice: 0.413805124629625\n",
      "55 iou: 0.9384259259259288\n",
      "55 dice: 0.9682350131359215\n",
      "56 iou: 0.9207289293849694\n",
      "56 dice: 0.9587286527514478\n",
      "57 iou: 0.9295212765957478\n",
      "57 dice: 0.9634734665747998\n",
      "58 iou: 0.9280806229958806\n",
      "58 dice: 0.9626989783796873\n",
      "59 iou: 0.9381348107109908\n",
      "59 dice: 0.9680800381134119\n",
      "60 iou: 0.9696723531004612\n",
      "60 dice: 0.9846026945284715\n",
      "61 iou: 0.9397590361445811\n",
      "61 dice: 0.9689440993789066\n",
      "62 iou: 0.9163237311385498\n",
      "62 dice: 0.9563350035791229\n",
      "63 iou: 0.9580532401183125\n",
      "63 dice: 0.97857731392476\n",
      "64 iou: 0.9267382174521733\n",
      "64 dice: 0.9619762654395989\n",
      "65 iou: 0.9643527204502824\n",
      "65 dice: 0.9818529130850187\n",
      "66 iou: 0.9478383458646641\n",
      "66 dice: 0.9732207478890477\n",
      "67 iou: 0.9403819282720103\n",
      "67 dice: 0.9692750840134668\n",
      "68 iou: 0.9434050514499559\n",
      "68 dice: 0.9708784596871487\n",
      "69 iou: 0.949041239821383\n",
      "69 dice: 0.9738544474393669\n",
      "70 iou: 0.9245977011494287\n",
      "70 dice: 0.9608217869087683\n",
      "71 iou: 0.928135274776894\n",
      "71 dice: 0.9627283800243858\n",
      "72 iou: 0.9377652050919407\n",
      "72 dice: 0.9678832116788573\n",
      "73 iou: 0.9533607681755851\n",
      "73 dice: 0.976123595505642\n",
      "74 iou: 0.9387755102040846\n",
      "74 dice: 0.9684210526316042\n",
      "Average IOU: 0.9136317745824687\n",
      "Average DSC: 0.946557398267527\n",
      "\n"
     ]
    }
   ],
   "source": [
    "avg_iou, avg_dice = calculate_average_iou_and_dice(segmented_AB, gt_AB)\n",
    "print(\"Average IOU:\", avg_iou)\n",
    "print(\"Average DSC:\", avg_dice)\n",
    "print()\n",
    "# print(\"Average Dice Score:\", avg_dice)"
   ]
  },
  {
   "cell_type": "code",
   "execution_count": null,
   "metadata": {},
   "outputs": [
    {
     "name": "stdout",
     "output_type": "stream",
     "text": [
      "0 iou: 0.6412213740460755\n",
      "0 dice: 0.7813953488377762\n",
      "1 iou: 0.731250000000168\n",
      "1 dice: 0.8447653429607059\n",
      "2 iou: 0.7579617834396447\n",
      "2 dice: 0.8623188405801224\n",
      "3 iou: 0.7210884353743394\n",
      "3 dice: 0.8379446640320799\n",
      "4 iou: 0.718309859155128\n",
      "4 dice: 0.8360655737709689\n",
      "5 iou: 0.794701986755103\n",
      "5 dice: 0.8856088560889721\n",
      "6 iou: 0.7407407407409329\n",
      "6 dice: 0.851063829787723\n",
      "7 iou: 0.8195488721805869\n",
      "7 dice: 0.900826446281446\n",
      "8 iou: 0.8285714285715511\n",
      "8 dice: 0.9062500000004273\n",
      "9 iou: 0.7333333333335309\n",
      "9 dice: 0.8461538461543393\n",
      "10 iou: 0.7469879518073814\n",
      "10 dice: 0.8551724137934983\n",
      "11 iou: 0.6851851851853796\n",
      "11 dice: 0.813186813187248\n",
      "12 iou: 0.694805194805393\n",
      "12 dice: 0.8199233716479618\n",
      "13 iou: 0.686746987951996\n",
      "13 dice: 0.8142857142861378\n",
      "14 iou: 0.7820512820514218\n",
      "14 dice: 0.8776978417270225\n",
      "15 iou: 0.7393939393940974\n",
      "15 dice: 0.8501742160282753\n",
      "16 iou: 0.7195121951221223\n",
      "16 dice: 0.836879432624526\n",
      "17 iou: 4.2918454935603903e-13\n",
      "17 dice: 8.583690987120781e-13\n",
      "18 iou: 0.4794520547946988\n",
      "18 dice: 0.648148148148461\n",
      "19 iou: 0.3991596638657987\n",
      "19 dice: 0.5705705705709999\n",
      "20 iou: 0.5987654320990131\n",
      "20 dice: 0.749034749035232\n",
      "21 iou: 0.540540540540851\n",
      "21 dice: 0.7017543859654818\n",
      "22 iou: 0.5806451612906608\n",
      "22 dice: 0.734693877551666\n",
      "23 iou: 0.60000000000032\n",
      "23 dice: 0.7500000000006251\n",
      "24 iou: 0.5250000000003958\n",
      "24 dice: 0.6885245901646512\n",
      "25 iou: 0.5416666666671441\n",
      "25 dice: 0.7027027027035794\n",
      "26 iou: 0.5092592592597136\n",
      "26 dice: 0.6748466257676842\n",
      "27 iou: 0.45045045045094556\n",
      "27 dice: 0.6211180124232167\n",
      "28 iou: 0.4772727272733213\n",
      "28 dice: 0.6461538461548877\n",
      "29 iou: 0.4380952380957733\n",
      "29 dice: 0.609271523179729\n",
      "30 iou: 0.5054945054950489\n",
      "30 dice: 0.6715328467162982\n",
      "31 iou: 0.414414414414942\n",
      "31 dice: 0.5859872611473975\n",
      "32 iou: 0.5000000000005814\n",
      "32 dice: 0.6666666666677004\n",
      "33 iou: 0.4712643678166997\n",
      "33 dice: 0.6406250000010622\n",
      "34 iou: 0.4215686274515475\n",
      "34 dice: 0.5931034482768324\n",
      "35 iou: 0.4375000000005859\n",
      "35 dice: 0.6086956521749213\n",
      "36 iou: 0.5051546391757679\n",
      "36 dice: 0.671232876713239\n",
      "37 iou: 0.48863636363694474\n",
      "37 dice: 0.6564885496193463\n",
      "38 iou: 0.42000000000058\n",
      "38 dice: 0.5915492957756399\n",
      "39 iou: 0.3796296296302041\n",
      "39 dice: 0.5503355704707716\n",
      "40 iou: 0.30973451327494717\n",
      "40 dice: 0.4729729729740048\n",
      "41 iou: 0.4315789473690194\n",
      "41 dice: 0.6029411764716156\n",
      "42 iou: 0.5212765957451901\n",
      "42 dice: 0.6853146853156048\n",
      "43 iou: 0.4090909090914463\n",
      "43 dice: 0.5806451612912383\n",
      "44 iou: 0.5000000000005103\n",
      "44 dice: 0.6666666666675738\n",
      "45 iou: 0.5393258426971468\n",
      "45 dice: 0.7007299270082478\n",
      "46 iou: 0.5224719101126278\n",
      "46 dice: 0.6863468634691194\n",
      "47 iou: 0.4734042553194291\n",
      "47 dice: 0.6425992779788294\n",
      "48 iou: 0.5357142857145621\n",
      "48 dice: 0.697674418605156\n",
      "49 iou: 0.6528925619837579\n",
      "49 dice: 0.7900000000006051\n",
      "50 iou: 0.8153846153847575\n",
      "50 dice: 0.8983050847462296\n",
      "51 iou: 0.7747747747749777\n",
      "51 dice: 0.8730964467010797\n",
      "52 iou: 0.8048780487806464\n",
      "52 dice: 0.8918918918923912\n",
      "53 iou: 4.901960784311323e-13\n",
      "53 dice: 9.803921568622646e-13\n",
      "54 iou: 5.434782608692699e-13\n",
      "54 dice: 1.0869565217385398e-12\n",
      "55 iou: 0.5306122448984382\n",
      "55 dice: 0.6933333333342045\n",
      "56 iou: 0.5157894736847203\n",
      "56 dice: 0.680555555556472\n",
      "57 iou: 0.5632183908050997\n",
      "57 dice: 0.7205882352950584\n",
      "58 iou: 0.4711538461543547\n",
      "58 dice: 0.640522875817882\n",
      "59 iou: 0.43877551020465433\n",
      "59 dice: 0.6099290780151704\n",
      "60 iou: 0.8000000000002105\n",
      "60 dice: 0.8888888888895388\n",
      "61 iou: 1.999999999996e-12\n",
      "61 dice: 3.999999999992e-12\n",
      "62 iou: 0.4615384615389793\n",
      "62 dice: 0.6315789473693214\n",
      "63 iou: 0.7410714285716598\n",
      "63 dice: 0.8512820512826405\n",
      "64 iou: 0.5869565217395794\n",
      "64 dice: 0.7397260273981235\n",
      "65 iou: 0.7766990291264304\n",
      "65 dice: 0.8743169398913256\n",
      "66 iou: 0.5892857142864477\n",
      "66 dice: 0.7415730337092792\n",
      "67 iou: 3.703703703689987e-12\n",
      "67 dice: 7.407407407379974e-12\n",
      "68 iou: 3.0303030302938475e-12\n",
      "68 dice: 6.060606060587695e-12\n",
      "69 iou: 0.8571428571429932\n",
      "69 dice: 0.9230769230774755\n",
      "70 iou: 0.5492957746485221\n",
      "70 dice: 0.7090909090920826\n",
      "71 iou: 0.4356435643569944\n",
      "71 dice: 0.6068965517250988\n",
      "72 iou: 0.6493506493511048\n",
      "72 dice: 0.7874015748041044\n",
      "73 iou: 0.842519685039494\n",
      "73 dice: 0.9145299145303785\n",
      "74 iou: 0.6260162601629057\n",
      "74 dice: 0.7700000000006151\n",
      "Average IOU: 0.5460130261846426\n",
      "Average DSC: 0.6763363221859935\n"
     ]
    },
    {
     "ename": "",
     "evalue": "",
     "output_type": "error",
     "traceback": [
      "\u001b[1;31mThe Kernel crashed while executing code in the current cell or a previous cell. \n",
      "\u001b[1;31mPlease review the code in the cell(s) to identify a possible cause of the failure. \n",
      "\u001b[1;31mClick <a href='https://aka.ms/vscodeJupyterKernelCrash'>here</a> for more info. \n",
      "\u001b[1;31mView Jupyter <a href='command:jupyter.viewOutput'>log</a> for further details."
     ]
    }
   ],
   "source": [
    "avg_iou, avg_dice = calculate_average_iou_and_dice(segmented_MC, gt_MC)\n",
    "print(\"Average IOU:\", avg_iou)\n",
    "print(\"Average DSC:\", avg_dice)\n",
    "# print(\"Average Dice Score:\", avg_dice)"
   ]
  }
 ],
 "metadata": {
  "kernelspec": {
   "display_name": "base",
   "language": "python",
   "name": "python3"
  },
  "language_info": {
   "codemirror_mode": {
    "name": "ipython",
    "version": 3
   },
   "file_extension": ".py",
   "mimetype": "text/x-python",
   "name": "python",
   "nbconvert_exporter": "python",
   "pygments_lexer": "ipython3",
   "version": "3.12.4"
  }
 },
 "nbformat": 4,
 "nbformat_minor": 2
}
