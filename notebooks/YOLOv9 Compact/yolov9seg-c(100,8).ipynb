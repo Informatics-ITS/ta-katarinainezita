{
 "cells": [
  {
   "cell_type": "markdown",
   "metadata": {},
   "source": [
    "# Model C + Epochs 100 + Batch 8\n",
    "\n",
    " Train : 894 Images\n",
    "\n",
    " Valid : 75 Images"
   ]
  },
  {
   "cell_type": "code",
   "execution_count": 3,
   "metadata": {},
   "outputs": [
    {
     "name": "stdout",
     "output_type": "stream",
     "text": [
      "Thu Mar 20 19:06:51 2025       \n",
      "+-----------------------------------------------------------------------------------------+\n",
      "| NVIDIA-SMI 560.94                 Driver Version: 560.94         CUDA Version: 12.6     |\n",
      "|-----------------------------------------+------------------------+----------------------+\n",
      "| GPU  Name                  Driver-Model | Bus-Id          Disp.A | Volatile Uncorr. ECC |\n",
      "| Fan  Temp   Perf          Pwr:Usage/Cap |           Memory-Usage | GPU-Util  Compute M. |\n",
      "|                                         |                        |               MIG M. |\n",
      "|=========================================+========================+======================|\n",
      "|   0  NVIDIA GeForce RTX 4080 ...  WDDM  |   00000000:01:00.0  On |                  N/A |\n",
      "|  0%   36C    P8             10W /  320W |     801MiB /  16376MiB |      5%      Default |\n",
      "|                                         |                        |                  N/A |\n",
      "+-----------------------------------------+------------------------+----------------------+\n",
      "                                                                                         \n",
      "+-----------------------------------------------------------------------------------------+\n",
      "| Processes:                                                                              |\n",
      "|  GPU   GI   CI        PID   Type   Process name                              GPU Memory |\n",
      "|        ID   ID                                                               Usage      |\n",
      "|=========================================================================================|\n",
      "|    0   N/A  N/A      1652    C+G   ...on\\134.0.3124.72\\msedgewebview2.exe      N/A      |\n",
      "|    0   N/A  N/A      6540    C+G   ...crosoft\\Edge\\Application\\msedge.exe      N/A      |\n",
      "|    0   N/A  N/A      8180    C+G   ...on\\134.0.3124.72\\msedgewebview2.exe      N/A      |\n",
      "|    0   N/A  N/A      9080    C+G   ...155_x64__8wekyb3d8bbwe\\ms-teams.exe      N/A      |\n",
      "|    0   N/A  N/A      9612    C+G   ...nt.CBS_cw5n1h2txyewy\\SearchHost.exe      N/A      |\n",
      "|    0   N/A  N/A      9620    C+G   ...2txyewy\\StartMenuExperienceHost.exe      N/A      |\n",
      "|    0   N/A  N/A      9752    C+G   C:\\Windows\\System32\\ShellHost.exe           N/A      |\n",
      "|    0   N/A  N/A      9784    C+G   C:\\Windows\\explorer.exe                     N/A      |\n",
      "|    0   N/A  N/A     12900    C+G   ...5n1h2txyewy\\ShellExperienceHost.exe      N/A      |\n",
      "|    0   N/A  N/A     14692    C+G   ...cal\\Microsoft\\OneDrive\\OneDrive.exe      N/A      |\n",
      "|    0   N/A  N/A     15572    C+G   ...on\\134.0.3124.68\\msedgewebview2.exe      N/A      |\n",
      "|    0   N/A  N/A     16852    C+G   ...on\\134.0.3124.68\\msedgewebview2.exe      N/A      |\n",
      "|    0   N/A  N/A     16880    C+G   ...__8wekyb3d8bbwe\\Notepad\\Notepad.exe      N/A      |\n",
      "|    0   N/A  N/A     17932    C+G   ...Programs\\Microsoft VS Code\\Code.exe      N/A      |\n",
      "|    0   N/A  N/A     18856    C+G   ...crosoft\\Edge\\Application\\msedge.exe      N/A      |\n",
      "|    0   N/A  N/A     21232    C+G   ...CBS_cw5n1h2txyewy\\TextInputHost.exe      N/A      |\n",
      "+-----------------------------------------------------------------------------------------+\n"
     ]
    }
   ],
   "source": [
    "!nvidia-smi"
   ]
  },
  {
   "cell_type": "code",
   "execution_count": 4,
   "metadata": {},
   "outputs": [
    {
     "name": "stdout",
     "output_type": "stream",
     "text": [
      "number of GPU:  1\n",
      "GPU Name:  NVIDIA GeForce RTX 4080 SUPER\n"
     ]
    }
   ],
   "source": [
    "import torch\n",
    "\n",
    "print(\"number of GPU: \", torch.cuda.device_count())\n",
    "print(\"GPU Name: \", torch.cuda.get_device_name())"
   ]
  },
  {
   "cell_type": "code",
   "execution_count": 5,
   "metadata": {},
   "outputs": [
    {
     "name": "stdout",
     "output_type": "stream",
     "text": [
      "using device :  cuda\n"
     ]
    }
   ],
   "source": [
    "device = torch.device('cuda' if torch.cuda.is_available() else 'cpu')\n",
    "print('using device : ', device)"
   ]
  },
  {
   "cell_type": "code",
   "execution_count": 4,
   "metadata": {},
   "outputs": [],
   "source": [
    "torch.cuda.empty_cache()"
   ]
  },
  {
   "cell_type": "code",
   "execution_count": 6,
   "metadata": {},
   "outputs": [
    {
     "name": "stdout",
     "output_type": "stream",
     "text": [
      "c:\\5025211148\\YOLOv9-Segmentation\n"
     ]
    }
   ],
   "source": [
    "import os\n",
    "HOME = os.getcwd()\n",
    "print(HOME)"
   ]
  },
  {
   "cell_type": "code",
   "execution_count": 6,
   "metadata": {},
   "outputs": [
    {
     "name": "stdout",
     "output_type": "stream",
     "text": [
      "Requirement already satisfied: ultralytics in c:\\users\\admin\\anaconda3\\lib\\site-packages (8.2.98)\n",
      "Requirement already satisfied: numpy<2.0.0,>=1.23.0 in c:\\users\\admin\\anaconda3\\lib\\site-packages (from ultralytics) (1.26.4)\n",
      "Requirement already satisfied: matplotlib>=3.3.0 in c:\\users\\admin\\anaconda3\\lib\\site-packages (from ultralytics) (3.8.4)\n",
      "Requirement already satisfied: opencv-python>=4.6.0 in c:\\users\\admin\\anaconda3\\lib\\site-packages (from ultralytics) (4.10.0.84)\n",
      "Requirement already satisfied: pillow>=7.1.2 in c:\\users\\admin\\anaconda3\\lib\\site-packages (from ultralytics) (10.3.0)\n",
      "Requirement already satisfied: pyyaml>=5.3.1 in c:\\users\\admin\\anaconda3\\lib\\site-packages (from ultralytics) (6.0.1)\n",
      "Requirement already satisfied: requests>=2.23.0 in c:\\users\\admin\\anaconda3\\lib\\site-packages (from ultralytics) (2.32.2)\n",
      "Requirement already satisfied: scipy>=1.4.1 in c:\\users\\admin\\anaconda3\\lib\\site-packages (from ultralytics) (1.13.1)\n",
      "Requirement already satisfied: torch>=1.8.0 in c:\\users\\admin\\anaconda3\\lib\\site-packages (from ultralytics) (2.4.1)\n",
      "Requirement already satisfied: torchvision>=0.9.0 in c:\\users\\admin\\anaconda3\\lib\\site-packages (from ultralytics) (0.19.1)\n",
      "Requirement already satisfied: tqdm>=4.64.0 in c:\\users\\admin\\anaconda3\\lib\\site-packages (from ultralytics) (4.66.4)\n",
      "Requirement already satisfied: psutil in c:\\users\\admin\\appdata\\roaming\\python\\python312\\site-packages (from ultralytics) (6.0.0)\n",
      "Requirement already satisfied: py-cpuinfo in c:\\users\\admin\\anaconda3\\lib\\site-packages (from ultralytics) (9.0.0)\n",
      "Requirement already satisfied: pandas>=1.1.4 in c:\\users\\admin\\anaconda3\\lib\\site-packages (from ultralytics) (2.2.2)\n",
      "Requirement already satisfied: seaborn>=0.11.0 in c:\\users\\admin\\anaconda3\\lib\\site-packages (from ultralytics) (0.13.2)\n",
      "Requirement already satisfied: ultralytics-thop>=2.0.0 in c:\\users\\admin\\anaconda3\\lib\\site-packages (from ultralytics) (2.0.6)\n",
      "Requirement already satisfied: contourpy>=1.0.1 in c:\\users\\admin\\anaconda3\\lib\\site-packages (from matplotlib>=3.3.0->ultralytics) (1.2.0)\n",
      "Requirement already satisfied: cycler>=0.10 in c:\\users\\admin\\anaconda3\\lib\\site-packages (from matplotlib>=3.3.0->ultralytics) (0.11.0)\n",
      "Requirement already satisfied: fonttools>=4.22.0 in c:\\users\\admin\\anaconda3\\lib\\site-packages (from matplotlib>=3.3.0->ultralytics) (4.51.0)\n",
      "Requirement already satisfied: kiwisolver>=1.3.1 in c:\\users\\admin\\anaconda3\\lib\\site-packages (from matplotlib>=3.3.0->ultralytics) (1.4.4)\n",
      "Requirement already satisfied: packaging>=20.0 in c:\\users\\admin\\appdata\\roaming\\python\\python312\\site-packages (from matplotlib>=3.3.0->ultralytics) (24.1)\n",
      "Requirement already satisfied: pyparsing>=2.3.1 in c:\\users\\admin\\anaconda3\\lib\\site-packages (from matplotlib>=3.3.0->ultralytics) (3.0.9)\n",
      "Requirement already satisfied: python-dateutil>=2.7 in c:\\users\\admin\\appdata\\roaming\\python\\python312\\site-packages (from matplotlib>=3.3.0->ultralytics) (2.9.0.post0)\n",
      "Requirement already satisfied: pytz>=2020.1 in c:\\users\\admin\\anaconda3\\lib\\site-packages (from pandas>=1.1.4->ultralytics) (2024.1)\n",
      "Requirement already satisfied: tzdata>=2022.7 in c:\\users\\admin\\anaconda3\\lib\\site-packages (from pandas>=1.1.4->ultralytics) (2023.3)\n",
      "Requirement already satisfied: charset-normalizer<4,>=2 in c:\\users\\admin\\anaconda3\\lib\\site-packages (from requests>=2.23.0->ultralytics) (2.0.4)\n",
      "Requirement already satisfied: idna<4,>=2.5 in c:\\users\\admin\\appdata\\roaming\\python\\python312\\site-packages (from requests>=2.23.0->ultralytics) (3.7)\n",
      "Requirement already satisfied: urllib3<3,>=1.21.1 in c:\\users\\admin\\anaconda3\\lib\\site-packages (from requests>=2.23.0->ultralytics) (2.2.2)\n",
      "Requirement already satisfied: certifi>=2017.4.17 in c:\\users\\admin\\anaconda3\\lib\\site-packages (from requests>=2.23.0->ultralytics) (2024.8.30)\n",
      "Requirement already satisfied: filelock in c:\\users\\admin\\anaconda3\\lib\\site-packages (from torch>=1.8.0->ultralytics) (3.13.1)\n",
      "Requirement already satisfied: typing-extensions>=4.8.0 in c:\\users\\admin\\anaconda3\\lib\\site-packages (from torch>=1.8.0->ultralytics) (4.11.0)\n",
      "Requirement already satisfied: sympy in c:\\users\\admin\\anaconda3\\lib\\site-packages (from torch>=1.8.0->ultralytics) (1.12)\n",
      "Requirement already satisfied: networkx in c:\\users\\admin\\anaconda3\\lib\\site-packages (from torch>=1.8.0->ultralytics) (3.2.1)\n",
      "Requirement already satisfied: jinja2 in c:\\users\\admin\\anaconda3\\lib\\site-packages (from torch>=1.8.0->ultralytics) (3.1.4)\n",
      "Requirement already satisfied: fsspec in c:\\users\\admin\\anaconda3\\lib\\site-packages (from torch>=1.8.0->ultralytics) (2024.3.1)\n",
      "Requirement already satisfied: setuptools in c:\\users\\admin\\anaconda3\\lib\\site-packages (from torch>=1.8.0->ultralytics) (69.5.1)\n",
      "Requirement already satisfied: colorama in c:\\users\\admin\\appdata\\roaming\\python\\python312\\site-packages (from tqdm>=4.64.0->ultralytics) (0.4.6)\n",
      "Requirement already satisfied: six>=1.5 in c:\\users\\admin\\appdata\\roaming\\python\\python312\\site-packages (from python-dateutil>=2.7->matplotlib>=3.3.0->ultralytics) (1.16.0)\n",
      "Requirement already satisfied: MarkupSafe>=2.0 in c:\\users\\admin\\anaconda3\\lib\\site-packages (from jinja2->torch>=1.8.0->ultralytics) (2.1.3)\n",
      "Requirement already satisfied: mpmath>=0.19 in c:\\users\\admin\\anaconda3\\lib\\site-packages (from sympy->torch>=1.8.0->ultralytics) (1.3.0)\n",
      "Note: you may need to restart the kernel to use updated packages.\n"
     ]
    }
   ],
   "source": [
    "%pip install ultralytics"
   ]
  },
  {
   "cell_type": "code",
   "execution_count": 7,
   "metadata": {},
   "outputs": [
    {
     "name": "stdout",
     "output_type": "stream",
     "text": [
      "Ultralytics YOLOv8.2.98  Python-3.12.4 torch-2.4.1 CUDA:0 (NVIDIA GeForce RTX 4080 SUPER, 16376MiB)\n",
      "Setup complete  (32 CPUs, 63.8 GB RAM, 229.0/476.5 GB disk)\n"
     ]
    }
   ],
   "source": [
    "from IPython import display\n",
    "display.clear_output()\n",
    "\n",
    "import ultralytics\n",
    "ultralytics.checks()"
   ]
  },
  {
   "cell_type": "code",
   "execution_count": 8,
   "metadata": {},
   "outputs": [],
   "source": [
    "from ultralytics import YOLO\n",
    "from IPython.display import display, Image"
   ]
  },
  {
   "cell_type": "code",
   "execution_count": null,
   "metadata": {},
   "outputs": [],
   "source": [
    "%pip install --user roboflow\n",
    "\n",
    "from roboflow import Roboflow\n",
    "rf = Roboflow(api_key=\"R66BD6MEFMOCLYffXdn9\")\n",
    "project = rf.workspace(\"mcab\").project(\"merge-inez\")\n",
    "version = project.version(1)\n",
    "dataset = version.download(\"yolov9\")\n",
    "                "
   ]
  },
  {
   "cell_type": "code",
   "execution_count": 9,
   "metadata": {},
   "outputs": [
    {
     "name": "stdout",
     "output_type": "stream",
     "text": [
      "c:\\5025211148\\YOLOv9-Segmentation\n"
     ]
    }
   ],
   "source": [
    "%cd {HOME}\n"
   ]
  },
  {
   "cell_type": "code",
   "execution_count": 10,
   "metadata": {},
   "outputs": [],
   "source": [
    "model = YOLO(\"yolov9c-seg.pt\")"
   ]
  },
  {
   "cell_type": "code",
   "execution_count": 11,
   "metadata": {},
   "outputs": [
    {
     "name": "stdout",
     "output_type": "stream",
     "text": [
      "YOLOv9c-seg summary: 654 layers, 27,897,120 parameters, 0 gradients, 159.4 GFLOPs\n"
     ]
    },
    {
     "data": {
      "text/plain": [
       "(654, 27897120, 0, 159.41411839999998)"
      ]
     },
     "execution_count": 11,
     "metadata": {},
     "output_type": "execute_result"
    }
   ],
   "source": [
    "model.info()"
   ]
  },
  {
   "cell_type": "code",
   "execution_count": 12,
   "metadata": {},
   "outputs": [
    {
     "name": "stdout",
     "output_type": "stream",
     "text": [
      "New https://pypi.org/project/ultralytics/8.3.93 available  Update with 'pip install -U ultralytics'\n",
      "Ultralytics YOLOv8.2.98  Python-3.12.4 torch-2.4.1 CUDA:0 (NVIDIA GeForce RTX 4080 SUPER, 16376MiB)\n",
      "\u001b[34m\u001b[1mengine\\trainer: \u001b[0mtask=segment, mode=train, model=yolov9c-seg.pt, data=C:\\5025211148\\YOLOv9-Segmentation\\merge-inez-1\\data.yaml, epochs=100, time=None, patience=100, batch=8, imgsz=640, save=True, save_period=-1, cache=False, device=None, workers=8, project=None, name=train12, exist_ok=False, pretrained=True, optimizer=auto, verbose=True, seed=0, deterministic=True, single_cls=False, rect=False, cos_lr=False, close_mosaic=10, resume=False, amp=True, fraction=1.0, profile=False, freeze=None, multi_scale=False, overlap_mask=True, mask_ratio=4, dropout=0.0, val=True, split=val, save_json=False, save_hybrid=False, conf=None, iou=0.7, max_det=300, half=False, dnn=False, plots=True, source=None, vid_stride=1, stream_buffer=False, visualize=False, augment=False, agnostic_nms=False, classes=None, retina_masks=False, embed=None, show=False, save_frames=False, save_txt=False, save_conf=False, save_crop=False, show_labels=True, show_conf=True, show_boxes=True, line_width=None, format=torchscript, keras=False, optimize=False, int8=False, dynamic=False, simplify=False, opset=None, workspace=4, nms=False, lr0=0.01, lrf=0.01, momentum=0.937, weight_decay=0.0005, warmup_epochs=3.0, warmup_momentum=0.8, warmup_bias_lr=0.1, box=7.5, cls=0.5, dfl=1.5, pose=12.0, kobj=1.0, label_smoothing=0.0, nbs=64, hsv_h=0.015, hsv_s=0.7, hsv_v=0.4, degrees=0.0, translate=0.1, scale=0.5, shear=0.0, perspective=0.0, flipud=0.0, fliplr=0.5, bgr=0.0, mosaic=1.0, mixup=0.0, copy_paste=0.0, auto_augment=randaugment, erasing=0.4, crop_fraction=1.0, cfg=None, tracker=botsort.yaml, save_dir=runs\\segment\\train12\n",
      "Overriding model.yaml nc=80 with nc=2\n",
      "\n",
      "                   from  n    params  module                                       arguments                     \n",
      "  0                  -1  1      1856  ultralytics.nn.modules.conv.Conv             [3, 64, 3, 2]                 \n",
      "  1                  -1  1     73984  ultralytics.nn.modules.conv.Conv             [64, 128, 3, 2]               \n",
      "  2                  -1  1    212864  ultralytics.nn.modules.block.RepNCSPELAN4    [128, 256, 128, 64, 1]        \n",
      "  3                  -1  1    164352  ultralytics.nn.modules.block.ADown           [256, 256]                    \n",
      "  4                  -1  1    847616  ultralytics.nn.modules.block.RepNCSPELAN4    [256, 512, 256, 128, 1]       \n",
      "  5                  -1  1    656384  ultralytics.nn.modules.block.ADown           [512, 512]                    \n",
      "  6                  -1  1   2857472  ultralytics.nn.modules.block.RepNCSPELAN4    [512, 512, 512, 256, 1]       \n",
      "  7                  -1  1    656384  ultralytics.nn.modules.block.ADown           [512, 512]                    \n",
      "  8                  -1  1   2857472  ultralytics.nn.modules.block.RepNCSPELAN4    [512, 512, 512, 256, 1]       \n",
      "  9                  -1  1    656896  ultralytics.nn.modules.block.SPPELAN         [512, 512, 256]               \n",
      " 10                  -1  1         0  torch.nn.modules.upsampling.Upsample         [None, 2, 'nearest']          \n",
      " 11             [-1, 6]  1         0  ultralytics.nn.modules.conv.Concat           [1]                           \n",
      " 12                  -1  1   3119616  ultralytics.nn.modules.block.RepNCSPELAN4    [1024, 512, 512, 256, 1]      \n",
      " 13                  -1  1         0  torch.nn.modules.upsampling.Upsample         [None, 2, 'nearest']          \n",
      " 14             [-1, 4]  1         0  ultralytics.nn.modules.conv.Concat           [1]                           \n",
      " 15                  -1  1    912640  ultralytics.nn.modules.block.RepNCSPELAN4    [1024, 256, 256, 128, 1]      \n",
      " 16                  -1  1    164352  ultralytics.nn.modules.block.ADown           [256, 256]                    \n",
      " 17            [-1, 12]  1         0  ultralytics.nn.modules.conv.Concat           [1]                           \n",
      " 18                  -1  1   2988544  ultralytics.nn.modules.block.RepNCSPELAN4    [768, 512, 512, 256, 1]       \n",
      " 19                  -1  1    656384  ultralytics.nn.modules.block.ADown           [512, 512]                    \n",
      " 20             [-1, 9]  1         0  ultralytics.nn.modules.conv.Concat           [1]                           \n",
      " 21                  -1  1   3119616  ultralytics.nn.modules.block.RepNCSPELAN4    [1024, 512, 512, 256, 1]      \n",
      " 22        [15, 18, 21]  1   7890550  ultralytics.nn.modules.head.Segment          [2, 32, 256, [256, 512, 512]] \n",
      "YOLOv9c-seg summary: 654 layers, 27,836,982 parameters, 27,836,966 gradients, 159.1 GFLOPs\n",
      "\n",
      "Transferred 993/999 items from pretrained weights\n",
      "Freezing layer 'model.22.dfl.conv.weight'\n",
      "\u001b[34m\u001b[1mAMP: \u001b[0mrunning Automatic Mixed Precision (AMP) checks with YOLOv8n...\n",
      "\u001b[34m\u001b[1mAMP: \u001b[0mchecks passed \n"
     ]
    },
    {
     "name": "stderr",
     "output_type": "stream",
     "text": [
      "\u001b[34m\u001b[1mtrain: \u001b[0mScanning C:\\5025211148\\YOLOv9-Segmentation\\merge-inez-1\\train\\labels.cache... 894 images, 0 backgrounds, 0 corrupt: 100%|██████████| 894/894 [00:00<?, ?it/s]\n",
      "\u001b[34m\u001b[1mval: \u001b[0mScanning C:\\5025211148\\YOLOv9-Segmentation\\merge-inez-1\\valid\\labels.cache... 75 images, 0 backgrounds, 0 corrupt: 100%|██████████| 75/75 [00:00<?, ?it/s]"
     ]
    },
    {
     "name": "stdout",
     "output_type": "stream",
     "text": [
      "\u001b[34m\u001b[1mval: \u001b[0mWARNING  C:\\5025211148\\YOLOv9-Segmentation\\merge-inez-1\\valid\\images\\slice_234_jpg.rf.8c97c306d89d4aea1956db536d9ae8da.jpg: 1 duplicate labels removed\n"
     ]
    },
    {
     "name": "stderr",
     "output_type": "stream",
     "text": [
      "\n"
     ]
    },
    {
     "name": "stdout",
     "output_type": "stream",
     "text": [
      "Plotting labels to runs\\segment\\train12\\labels.jpg... \n",
      "\u001b[34m\u001b[1moptimizer:\u001b[0m 'optimizer=auto' found, ignoring 'lr0=0.01' and 'momentum=0.937' and determining best 'optimizer', 'lr0' and 'momentum' automatically... \n",
      "\u001b[34m\u001b[1moptimizer:\u001b[0m AdamW(lr=0.001667, momentum=0.9) with parameter groups 163 weight(decay=0.0), 174 weight(decay=0.0005), 173 bias(decay=0.0)\n",
      "Image sizes 640 train, 640 val\n",
      "Using 8 dataloader workers\n",
      "Logging results to \u001b[1mruns\\segment\\train12\u001b[0m\n",
      "Starting training for 100 epochs...\n",
      "\n",
      "      Epoch    GPU_mem   box_loss   seg_loss   cls_loss   dfl_loss  Instances       Size\n"
     ]
    },
    {
     "name": "stderr",
     "output_type": "stream",
     "text": [
      "      1/100      6.69G      1.197      2.148      1.527       1.36         17        640: 100%|██████████| 112/112 [00:19<00:00,  5.73it/s]\n",
      "                 Class     Images  Instances      Box(P          R      mAP50  mAP50-95)     Mask(P          R      mAP50  mAP50-95): 100%|██████████| 5/5 [00:00<00:00,  6.41it/s]"
     ]
    },
    {
     "name": "stdout",
     "output_type": "stream",
     "text": [
      "                   all         75        150    0.00117      0.273    0.00113   0.000488   0.000744      0.173   0.000709   0.000174\n"
     ]
    },
    {
     "name": "stderr",
     "output_type": "stream",
     "text": [
      "\n"
     ]
    },
    {
     "name": "stdout",
     "output_type": "stream",
     "text": [
      "\n",
      "      Epoch    GPU_mem   box_loss   seg_loss   cls_loss   dfl_loss  Instances       Size\n"
     ]
    },
    {
     "name": "stderr",
     "output_type": "stream",
     "text": [
      "      2/100      6.65G      1.244      1.898      1.028      1.346         23        640: 100%|██████████| 112/112 [00:17<00:00,  6.38it/s]\n",
      "                 Class     Images  Instances      Box(P          R      mAP50  mAP50-95)     Mask(P          R      mAP50  mAP50-95): 100%|██████████| 5/5 [00:00<00:00,  7.68it/s]"
     ]
    },
    {
     "name": "stdout",
     "output_type": "stream",
     "text": [
      "                   all         75        150    0.00292      0.133    0.00226   0.000463    0.00267     0.0933    0.00183   0.000281\n"
     ]
    },
    {
     "name": "stderr",
     "output_type": "stream",
     "text": [
      "\n"
     ]
    },
    {
     "name": "stdout",
     "output_type": "stream",
     "text": [
      "\n",
      "      Epoch    GPU_mem   box_loss   seg_loss   cls_loss   dfl_loss  Instances       Size\n"
     ]
    },
    {
     "name": "stderr",
     "output_type": "stream",
     "text": [
      "      3/100      6.62G      1.284      1.862     0.9868       1.38         19        640: 100%|██████████| 112/112 [00:17<00:00,  6.35it/s]\n",
      "                 Class     Images  Instances      Box(P          R      mAP50  mAP50-95)     Mask(P          R      mAP50  mAP50-95): 100%|██████████| 5/5 [00:00<00:00,  7.10it/s]"
     ]
    },
    {
     "name": "stdout",
     "output_type": "stream",
     "text": [
      "                   all         75        150      0.714      0.547      0.581      0.299      0.689      0.563      0.581      0.361\n"
     ]
    },
    {
     "name": "stderr",
     "output_type": "stream",
     "text": [
      "\n"
     ]
    },
    {
     "name": "stdout",
     "output_type": "stream",
     "text": [
      "\n",
      "      Epoch    GPU_mem   box_loss   seg_loss   cls_loss   dfl_loss  Instances       Size\n"
     ]
    },
    {
     "name": "stderr",
     "output_type": "stream",
     "text": [
      "      4/100      6.67G      1.203      1.808     0.8675      1.328         15        640: 100%|██████████| 112/112 [00:17<00:00,  6.47it/s]\n",
      "                 Class     Images  Instances      Box(P          R      mAP50  mAP50-95)     Mask(P          R      mAP50  mAP50-95): 100%|██████████| 5/5 [00:00<00:00,  7.63it/s]"
     ]
    },
    {
     "name": "stdout",
     "output_type": "stream",
     "text": [
      "                   all         75        150      0.555      0.713      0.696      0.408      0.528      0.693      0.656      0.383\n"
     ]
    },
    {
     "name": "stderr",
     "output_type": "stream",
     "text": [
      "\n"
     ]
    },
    {
     "name": "stdout",
     "output_type": "stream",
     "text": [
      "\n",
      "      Epoch    GPU_mem   box_loss   seg_loss   cls_loss   dfl_loss  Instances       Size\n"
     ]
    },
    {
     "name": "stderr",
     "output_type": "stream",
     "text": [
      "      5/100      6.62G      1.083       1.69     0.7447      1.248         14        640: 100%|██████████| 112/112 [00:17<00:00,  6.58it/s]\n",
      "                 Class     Images  Instances      Box(P          R      mAP50  mAP50-95)     Mask(P          R      mAP50  mAP50-95): 100%|██████████| 5/5 [00:00<00:00,  7.64it/s]"
     ]
    },
    {
     "name": "stdout",
     "output_type": "stream",
     "text": [
      "                   all         75        150       0.42      0.473      0.433      0.267      0.429       0.46      0.418       0.23\n"
     ]
    },
    {
     "name": "stderr",
     "output_type": "stream",
     "text": [
      "\n"
     ]
    },
    {
     "name": "stdout",
     "output_type": "stream",
     "text": [
      "\n",
      "      Epoch    GPU_mem   box_loss   seg_loss   cls_loss   dfl_loss  Instances       Size\n"
     ]
    },
    {
     "name": "stderr",
     "output_type": "stream",
     "text": [
      "      6/100      6.65G       1.05      1.683     0.7233      1.229         22        640: 100%|██████████| 112/112 [00:17<00:00,  6.52it/s]\n",
      "                 Class     Images  Instances      Box(P          R      mAP50  mAP50-95)     Mask(P          R      mAP50  mAP50-95): 100%|██████████| 5/5 [00:00<00:00,  7.55it/s]"
     ]
    },
    {
     "name": "stdout",
     "output_type": "stream",
     "text": [
      "                   all         75        150        0.7      0.693      0.673       0.47      0.701        0.7      0.655      0.456\n"
     ]
    },
    {
     "name": "stderr",
     "output_type": "stream",
     "text": [
      "\n"
     ]
    },
    {
     "name": "stdout",
     "output_type": "stream",
     "text": [
      "\n",
      "      Epoch    GPU_mem   box_loss   seg_loss   cls_loss   dfl_loss  Instances       Size\n"
     ]
    },
    {
     "name": "stderr",
     "output_type": "stream",
     "text": [
      "      7/100      6.62G      1.036      1.627     0.6713       1.22         17        640: 100%|██████████| 112/112 [00:17<00:00,  6.56it/s]\n",
      "                 Class     Images  Instances      Box(P          R      mAP50  mAP50-95)     Mask(P          R      mAP50  mAP50-95): 100%|██████████| 5/5 [00:00<00:00,  7.46it/s]"
     ]
    },
    {
     "name": "stdout",
     "output_type": "stream",
     "text": [
      "                   all         75        150      0.747       0.82      0.761      0.526      0.685       0.76      0.673      0.504\n"
     ]
    },
    {
     "name": "stderr",
     "output_type": "stream",
     "text": [
      "\n"
     ]
    },
    {
     "name": "stdout",
     "output_type": "stream",
     "text": [
      "\n",
      "      Epoch    GPU_mem   box_loss   seg_loss   cls_loss   dfl_loss  Instances       Size\n"
     ]
    },
    {
     "name": "stderr",
     "output_type": "stream",
     "text": [
      "      8/100      6.62G       1.02      1.565     0.6475      1.206         23        640: 100%|██████████| 112/112 [00:17<00:00,  6.45it/s]\n",
      "                 Class     Images  Instances      Box(P          R      mAP50  mAP50-95)     Mask(P          R      mAP50  mAP50-95): 100%|██████████| 5/5 [00:00<00:00,  7.28it/s]"
     ]
    },
    {
     "name": "stdout",
     "output_type": "stream",
     "text": [
      "                   all         75        150      0.897      0.873      0.911      0.568      0.905       0.88      0.922      0.577\n"
     ]
    },
    {
     "name": "stderr",
     "output_type": "stream",
     "text": [
      "\n"
     ]
    },
    {
     "name": "stdout",
     "output_type": "stream",
     "text": [
      "\n",
      "      Epoch    GPU_mem   box_loss   seg_loss   cls_loss   dfl_loss  Instances       Size\n"
     ]
    },
    {
     "name": "stderr",
     "output_type": "stream",
     "text": [
      "      9/100      6.63G     0.9887      1.551     0.6183       1.19         26        640: 100%|██████████| 112/112 [00:17<00:00,  6.36it/s]\n",
      "                 Class     Images  Instances      Box(P          R      mAP50  mAP50-95)     Mask(P          R      mAP50  mAP50-95): 100%|██████████| 5/5 [00:00<00:00,  7.40it/s]"
     ]
    },
    {
     "name": "stdout",
     "output_type": "stream",
     "text": [
      "                   all         75        150      0.753       0.74      0.714      0.509       0.79      0.773      0.747      0.525\n"
     ]
    },
    {
     "name": "stderr",
     "output_type": "stream",
     "text": [
      "\n"
     ]
    },
    {
     "name": "stdout",
     "output_type": "stream",
     "text": [
      "\n",
      "      Epoch    GPU_mem   box_loss   seg_loss   cls_loss   dfl_loss  Instances       Size\n"
     ]
    },
    {
     "name": "stderr",
     "output_type": "stream",
     "text": [
      "     10/100      6.65G     0.9941      1.577     0.6015      1.195         19        640: 100%|██████████| 112/112 [00:17<00:00,  6.33it/s]\n",
      "                 Class     Images  Instances      Box(P          R      mAP50  mAP50-95)     Mask(P          R      mAP50  mAP50-95): 100%|██████████| 5/5 [00:00<00:00,  7.51it/s]"
     ]
    },
    {
     "name": "stdout",
     "output_type": "stream",
     "text": [
      "                   all         75        150      0.658      0.684      0.663      0.473      0.741       0.74      0.752      0.444\n"
     ]
    },
    {
     "name": "stderr",
     "output_type": "stream",
     "text": [
      "\n"
     ]
    },
    {
     "name": "stdout",
     "output_type": "stream",
     "text": [
      "\n",
      "      Epoch    GPU_mem   box_loss   seg_loss   cls_loss   dfl_loss  Instances       Size\n"
     ]
    },
    {
     "name": "stderr",
     "output_type": "stream",
     "text": [
      "     11/100      6.61G     0.9695      1.518     0.6014      1.179         30        640: 100%|██████████| 112/112 [00:17<00:00,  6.52it/s]\n",
      "                 Class     Images  Instances      Box(P          R      mAP50  mAP50-95)     Mask(P          R      mAP50  mAP50-95): 100%|██████████| 5/5 [00:00<00:00,  7.44it/s]"
     ]
    },
    {
     "name": "stdout",
     "output_type": "stream",
     "text": [
      "                   all         75        150      0.715      0.773      0.678      0.475      0.698       0.76      0.659      0.487\n"
     ]
    },
    {
     "name": "stderr",
     "output_type": "stream",
     "text": [
      "\n"
     ]
    },
    {
     "name": "stdout",
     "output_type": "stream",
     "text": [
      "\n",
      "      Epoch    GPU_mem   box_loss   seg_loss   cls_loss   dfl_loss  Instances       Size\n"
     ]
    },
    {
     "name": "stderr",
     "output_type": "stream",
     "text": [
      "     12/100      6.64G     0.9629      1.511     0.5724      1.177         23        640: 100%|██████████| 112/112 [00:17<00:00,  6.40it/s]\n",
      "                 Class     Images  Instances      Box(P          R      mAP50  mAP50-95)     Mask(P          R      mAP50  mAP50-95): 100%|██████████| 5/5 [00:00<00:00,  7.20it/s]"
     ]
    },
    {
     "name": "stdout",
     "output_type": "stream",
     "text": [
      "                   all         75        150       0.75      0.693      0.666       0.53      0.794      0.714      0.706       0.52\n"
     ]
    },
    {
     "name": "stderr",
     "output_type": "stream",
     "text": [
      "\n"
     ]
    },
    {
     "name": "stdout",
     "output_type": "stream",
     "text": [
      "\n",
      "      Epoch    GPU_mem   box_loss   seg_loss   cls_loss   dfl_loss  Instances       Size\n"
     ]
    },
    {
     "name": "stderr",
     "output_type": "stream",
     "text": [
      "     13/100      6.64G     0.9201      1.449     0.5491      1.154         25        640: 100%|██████████| 112/112 [00:17<00:00,  6.34it/s]\n",
      "                 Class     Images  Instances      Box(P          R      mAP50  mAP50-95)     Mask(P          R      mAP50  mAP50-95): 100%|██████████| 5/5 [00:00<00:00,  7.44it/s]"
     ]
    },
    {
     "name": "stdout",
     "output_type": "stream",
     "text": [
      "                   all         75        150      0.751      0.793       0.72       0.53      0.767      0.807      0.743      0.524\n"
     ]
    },
    {
     "name": "stderr",
     "output_type": "stream",
     "text": [
      "\n"
     ]
    },
    {
     "name": "stdout",
     "output_type": "stream",
     "text": [
      "\n",
      "      Epoch    GPU_mem   box_loss   seg_loss   cls_loss   dfl_loss  Instances       Size\n"
     ]
    },
    {
     "name": "stderr",
     "output_type": "stream",
     "text": [
      "     14/100      6.63G     0.9325      1.482     0.5489      1.149         24        640: 100%|██████████| 112/112 [00:17<00:00,  6.53it/s]\n",
      "                 Class     Images  Instances      Box(P          R      mAP50  mAP50-95)     Mask(P          R      mAP50  mAP50-95): 100%|██████████| 5/5 [00:00<00:00,  7.28it/s]"
     ]
    },
    {
     "name": "stdout",
     "output_type": "stream",
     "text": [
      "                   all         75        150      0.874      0.713      0.772      0.552      0.895      0.735      0.808      0.544\n"
     ]
    },
    {
     "name": "stderr",
     "output_type": "stream",
     "text": [
      "\n"
     ]
    },
    {
     "name": "stdout",
     "output_type": "stream",
     "text": [
      "\n",
      "      Epoch    GPU_mem   box_loss   seg_loss   cls_loss   dfl_loss  Instances       Size\n"
     ]
    },
    {
     "name": "stderr",
     "output_type": "stream",
     "text": [
      "     15/100      6.62G     0.9164      1.439     0.5387       1.15         27        640: 100%|██████████| 112/112 [00:17<00:00,  6.48it/s]\n",
      "                 Class     Images  Instances      Box(P          R      mAP50  mAP50-95)     Mask(P          R      mAP50  mAP50-95): 100%|██████████| 5/5 [00:00<00:00,  7.44it/s]"
     ]
    },
    {
     "name": "stdout",
     "output_type": "stream",
     "text": [
      "                   all         75        150      0.766      0.773       0.69      0.523      0.766      0.751      0.683      0.505\n"
     ]
    },
    {
     "name": "stderr",
     "output_type": "stream",
     "text": [
      "\n"
     ]
    },
    {
     "name": "stdout",
     "output_type": "stream",
     "text": [
      "\n",
      "      Epoch    GPU_mem   box_loss   seg_loss   cls_loss   dfl_loss  Instances       Size\n"
     ]
    },
    {
     "name": "stderr",
     "output_type": "stream",
     "text": [
      "     16/100      6.62G     0.9156      1.477     0.5202      1.153         21        640: 100%|██████████| 112/112 [00:17<00:00,  6.43it/s]\n",
      "                 Class     Images  Instances      Box(P          R      mAP50  mAP50-95)     Mask(P          R      mAP50  mAP50-95): 100%|██████████| 5/5 [00:00<00:00,  7.63it/s]"
     ]
    },
    {
     "name": "stdout",
     "output_type": "stream",
     "text": [
      "                   all         75        150      0.776      0.747      0.683      0.518        0.8      0.767      0.723       0.51\n"
     ]
    },
    {
     "name": "stderr",
     "output_type": "stream",
     "text": [
      "\n"
     ]
    },
    {
     "name": "stdout",
     "output_type": "stream",
     "text": [
      "\n",
      "      Epoch    GPU_mem   box_loss   seg_loss   cls_loss   dfl_loss  Instances       Size\n"
     ]
    },
    {
     "name": "stderr",
     "output_type": "stream",
     "text": [
      "     17/100      6.61G     0.9242      1.446     0.5287      1.163         28        640: 100%|██████████| 112/112 [00:17<00:00,  6.42it/s]\n",
      "                 Class     Images  Instances      Box(P          R      mAP50  mAP50-95)     Mask(P          R      mAP50  mAP50-95): 100%|██████████| 5/5 [00:00<00:00,  7.13it/s]"
     ]
    },
    {
     "name": "stdout",
     "output_type": "stream",
     "text": [
      "                   all         75        150      0.648      0.567      0.585       0.47      0.664       0.56      0.568      0.453\n"
     ]
    },
    {
     "name": "stderr",
     "output_type": "stream",
     "text": [
      "\n"
     ]
    },
    {
     "name": "stdout",
     "output_type": "stream",
     "text": [
      "\n",
      "      Epoch    GPU_mem   box_loss   seg_loss   cls_loss   dfl_loss  Instances       Size\n"
     ]
    },
    {
     "name": "stderr",
     "output_type": "stream",
     "text": [
      "     18/100      6.62G     0.9207      1.459     0.5175      1.156         37        640: 100%|██████████| 112/112 [00:17<00:00,  6.47it/s]\n",
      "                 Class     Images  Instances      Box(P          R      mAP50  mAP50-95)     Mask(P          R      mAP50  mAP50-95): 100%|██████████| 5/5 [00:00<00:00,  7.68it/s]"
     ]
    },
    {
     "name": "stdout",
     "output_type": "stream",
     "text": [
      "                   all         75        150      0.831       0.78      0.764      0.542      0.864      0.812      0.822      0.546\n"
     ]
    },
    {
     "name": "stderr",
     "output_type": "stream",
     "text": [
      "\n"
     ]
    },
    {
     "name": "stdout",
     "output_type": "stream",
     "text": [
      "\n",
      "      Epoch    GPU_mem   box_loss   seg_loss   cls_loss   dfl_loss  Instances       Size\n"
     ]
    },
    {
     "name": "stderr",
     "output_type": "stream",
     "text": [
      "     19/100      6.66G     0.9223      1.429     0.5233      1.153         26        640: 100%|██████████| 112/112 [00:17<00:00,  6.52it/s]\n",
      "                 Class     Images  Instances      Box(P          R      mAP50  mAP50-95)     Mask(P          R      mAP50  mAP50-95): 100%|██████████| 5/5 [00:00<00:00,  7.45it/s]"
     ]
    },
    {
     "name": "stdout",
     "output_type": "stream",
     "text": [
      "                   all         75        150       0.83      0.793      0.765      0.546      0.811      0.787      0.743      0.527\n"
     ]
    },
    {
     "name": "stderr",
     "output_type": "stream",
     "text": [
      "\n"
     ]
    },
    {
     "name": "stdout",
     "output_type": "stream",
     "text": [
      "\n",
      "      Epoch    GPU_mem   box_loss   seg_loss   cls_loss   dfl_loss  Instances       Size\n"
     ]
    },
    {
     "name": "stderr",
     "output_type": "stream",
     "text": [
      "     20/100      6.61G     0.8986       1.42     0.4983      1.136         18        640: 100%|██████████| 112/112 [00:17<00:00,  6.52it/s]\n",
      "                 Class     Images  Instances      Box(P          R      mAP50  mAP50-95)     Mask(P          R      mAP50  mAP50-95): 100%|██████████| 5/5 [00:00<00:00,  7.73it/s]"
     ]
    },
    {
     "name": "stdout",
     "output_type": "stream",
     "text": [
      "                   all         75        150      0.696      0.693      0.612      0.531      0.689      0.687      0.609      0.489\n"
     ]
    },
    {
     "name": "stderr",
     "output_type": "stream",
     "text": [
      "\n"
     ]
    },
    {
     "name": "stdout",
     "output_type": "stream",
     "text": [
      "\n",
      "      Epoch    GPU_mem   box_loss   seg_loss   cls_loss   dfl_loss  Instances       Size\n"
     ]
    },
    {
     "name": "stderr",
     "output_type": "stream",
     "text": [
      "     21/100      6.64G     0.9063      1.425     0.4897      1.141         27        640: 100%|██████████| 112/112 [00:17<00:00,  6.47it/s]\n",
      "                 Class     Images  Instances      Box(P          R      mAP50  mAP50-95)     Mask(P          R      mAP50  mAP50-95): 100%|██████████| 5/5 [00:00<00:00,  7.62it/s]"
     ]
    },
    {
     "name": "stdout",
     "output_type": "stream",
     "text": [
      "                   all         75        150      0.719      0.681      0.664      0.543      0.722      0.685      0.655      0.514\n"
     ]
    },
    {
     "name": "stderr",
     "output_type": "stream",
     "text": [
      "\n"
     ]
    },
    {
     "name": "stdout",
     "output_type": "stream",
     "text": [
      "\n",
      "      Epoch    GPU_mem   box_loss   seg_loss   cls_loss   dfl_loss  Instances       Size\n"
     ]
    },
    {
     "name": "stderr",
     "output_type": "stream",
     "text": [
      "     22/100      6.64G     0.8798      1.396     0.4885      1.131         26        640: 100%|██████████| 112/112 [00:17<00:00,  6.38it/s]\n",
      "                 Class     Images  Instances      Box(P          R      mAP50  mAP50-95)     Mask(P          R      mAP50  mAP50-95): 100%|██████████| 5/5 [00:00<00:00,  7.39it/s]"
     ]
    },
    {
     "name": "stdout",
     "output_type": "stream",
     "text": [
      "                   all         75        150      0.842       0.84      0.789      0.569      0.867      0.853      0.812      0.559\n"
     ]
    },
    {
     "name": "stderr",
     "output_type": "stream",
     "text": [
      "\n"
     ]
    },
    {
     "name": "stdout",
     "output_type": "stream",
     "text": [
      "\n",
      "      Epoch    GPU_mem   box_loss   seg_loss   cls_loss   dfl_loss  Instances       Size\n"
     ]
    },
    {
     "name": "stderr",
     "output_type": "stream",
     "text": [
      "     23/100      6.63G     0.8632      1.366     0.4829      1.127         22        640: 100%|██████████| 112/112 [00:17<00:00,  6.45it/s]\n",
      "                 Class     Images  Instances      Box(P          R      mAP50  mAP50-95)     Mask(P          R      mAP50  mAP50-95): 100%|██████████| 5/5 [00:00<00:00,  7.27it/s]"
     ]
    },
    {
     "name": "stdout",
     "output_type": "stream",
     "text": [
      "                   all         75        150      0.725      0.753      0.649      0.523      0.731       0.76       0.67        0.5\n"
     ]
    },
    {
     "name": "stderr",
     "output_type": "stream",
     "text": [
      "\n"
     ]
    },
    {
     "name": "stdout",
     "output_type": "stream",
     "text": [
      "\n",
      "      Epoch    GPU_mem   box_loss   seg_loss   cls_loss   dfl_loss  Instances       Size\n"
     ]
    },
    {
     "name": "stderr",
     "output_type": "stream",
     "text": [
      "     24/100      6.61G     0.8762      1.392     0.4746      1.132         19        640: 100%|██████████| 112/112 [00:17<00:00,  6.53it/s]\n",
      "                 Class     Images  Instances      Box(P          R      mAP50  mAP50-95)     Mask(P          R      mAP50  mAP50-95): 100%|██████████| 5/5 [00:00<00:00,  7.72it/s]"
     ]
    },
    {
     "name": "stdout",
     "output_type": "stream",
     "text": [
      "                   all         75        150      0.696      0.733      0.635      0.547      0.714       0.76      0.654      0.518\n"
     ]
    },
    {
     "name": "stderr",
     "output_type": "stream",
     "text": [
      "\n"
     ]
    },
    {
     "name": "stdout",
     "output_type": "stream",
     "text": [
      "\n",
      "      Epoch    GPU_mem   box_loss   seg_loss   cls_loss   dfl_loss  Instances       Size\n"
     ]
    },
    {
     "name": "stderr",
     "output_type": "stream",
     "text": [
      "     25/100      6.64G     0.8892      1.428     0.4762      1.133         20        640: 100%|██████████| 112/112 [00:17<00:00,  6.54it/s]\n",
      "                 Class     Images  Instances      Box(P          R      mAP50  mAP50-95)     Mask(P          R      mAP50  mAP50-95): 100%|██████████| 5/5 [00:00<00:00,  7.54it/s]"
     ]
    },
    {
     "name": "stdout",
     "output_type": "stream",
     "text": [
      "                   all         75        150      0.835      0.713      0.744      0.493      0.845      0.719      0.762       0.48\n"
     ]
    },
    {
     "name": "stderr",
     "output_type": "stream",
     "text": [
      "\n"
     ]
    },
    {
     "name": "stdout",
     "output_type": "stream",
     "text": [
      "\n",
      "      Epoch    GPU_mem   box_loss   seg_loss   cls_loss   dfl_loss  Instances       Size\n"
     ]
    },
    {
     "name": "stderr",
     "output_type": "stream",
     "text": [
      "     26/100      6.66G     0.8669      1.395     0.4583      1.125         24        640: 100%|██████████| 112/112 [00:17<00:00,  6.52it/s]\n",
      "                 Class     Images  Instances      Box(P          R      mAP50  mAP50-95)     Mask(P          R      mAP50  mAP50-95): 100%|██████████| 5/5 [00:00<00:00,  7.65it/s]"
     ]
    },
    {
     "name": "stdout",
     "output_type": "stream",
     "text": [
      "                   all         75        150       0.83      0.705      0.746      0.552      0.862      0.724      0.768      0.538\n"
     ]
    },
    {
     "name": "stderr",
     "output_type": "stream",
     "text": [
      "\n"
     ]
    },
    {
     "name": "stdout",
     "output_type": "stream",
     "text": [
      "\n",
      "      Epoch    GPU_mem   box_loss   seg_loss   cls_loss   dfl_loss  Instances       Size\n"
     ]
    },
    {
     "name": "stderr",
     "output_type": "stream",
     "text": [
      "     27/100      6.61G     0.8857      1.382     0.4738      1.133         21        640: 100%|██████████| 112/112 [00:17<00:00,  6.51it/s]\n",
      "                 Class     Images  Instances      Box(P          R      mAP50  mAP50-95)     Mask(P          R      mAP50  mAP50-95): 100%|██████████| 5/5 [00:00<00:00,  7.65it/s]"
     ]
    },
    {
     "name": "stdout",
     "output_type": "stream",
     "text": [
      "                   all         75        150      0.793      0.798      0.721       0.56        0.8      0.804      0.749       0.54\n"
     ]
    },
    {
     "name": "stderr",
     "output_type": "stream",
     "text": [
      "\n"
     ]
    },
    {
     "name": "stdout",
     "output_type": "stream",
     "text": [
      "\n",
      "      Epoch    GPU_mem   box_loss   seg_loss   cls_loss   dfl_loss  Instances       Size\n"
     ]
    },
    {
     "name": "stderr",
     "output_type": "stream",
     "text": [
      "     28/100      6.61G     0.8654      1.335     0.4609      1.131         23        640: 100%|██████████| 112/112 [00:17<00:00,  6.38it/s]\n",
      "                 Class     Images  Instances      Box(P          R      mAP50  mAP50-95)     Mask(P          R      mAP50  mAP50-95): 100%|██████████| 5/5 [00:00<00:00,  6.53it/s]"
     ]
    },
    {
     "name": "stdout",
     "output_type": "stream",
     "text": [
      "                   all         75        150      0.779       0.72      0.715       0.45      0.807      0.733      0.742      0.407\n"
     ]
    },
    {
     "name": "stderr",
     "output_type": "stream",
     "text": [
      "\n"
     ]
    },
    {
     "name": "stdout",
     "output_type": "stream",
     "text": [
      "\n",
      "      Epoch    GPU_mem   box_loss   seg_loss   cls_loss   dfl_loss  Instances       Size\n"
     ]
    },
    {
     "name": "stderr",
     "output_type": "stream",
     "text": [
      "     29/100      6.64G     0.8513      1.363     0.4609      1.113         20        640: 100%|██████████| 112/112 [00:17<00:00,  6.37it/s]\n",
      "                 Class     Images  Instances      Box(P          R      mAP50  mAP50-95)     Mask(P          R      mAP50  mAP50-95): 100%|██████████| 5/5 [00:00<00:00,  7.54it/s]"
     ]
    },
    {
     "name": "stdout",
     "output_type": "stream",
     "text": [
      "                   all         75        150      0.783      0.813      0.737      0.547      0.802      0.807      0.754      0.542\n"
     ]
    },
    {
     "name": "stderr",
     "output_type": "stream",
     "text": [
      "\n"
     ]
    },
    {
     "name": "stdout",
     "output_type": "stream",
     "text": [
      "\n",
      "      Epoch    GPU_mem   box_loss   seg_loss   cls_loss   dfl_loss  Instances       Size\n"
     ]
    },
    {
     "name": "stderr",
     "output_type": "stream",
     "text": [
      "     30/100      6.62G     0.8518      1.371     0.4569      1.109         19        640: 100%|██████████| 112/112 [00:17<00:00,  6.57it/s]\n",
      "                 Class     Images  Instances      Box(P          R      mAP50  mAP50-95)     Mask(P          R      mAP50  mAP50-95): 100%|██████████| 5/5 [00:00<00:00,  7.62it/s]"
     ]
    },
    {
     "name": "stdout",
     "output_type": "stream",
     "text": [
      "                   all         75        150      0.686       0.68      0.624      0.518      0.736      0.713      0.684      0.504\n"
     ]
    },
    {
     "name": "stderr",
     "output_type": "stream",
     "text": [
      "\n"
     ]
    },
    {
     "name": "stdout",
     "output_type": "stream",
     "text": [
      "\n",
      "      Epoch    GPU_mem   box_loss   seg_loss   cls_loss   dfl_loss  Instances       Size\n"
     ]
    },
    {
     "name": "stderr",
     "output_type": "stream",
     "text": [
      "     31/100      6.65G      0.831      1.336     0.4465      1.107         29        640: 100%|██████████| 112/112 [00:17<00:00,  6.46it/s]\n",
      "                 Class     Images  Instances      Box(P          R      mAP50  mAP50-95)     Mask(P          R      mAP50  mAP50-95): 100%|██████████| 5/5 [00:00<00:00,  7.29it/s]"
     ]
    },
    {
     "name": "stdout",
     "output_type": "stream",
     "text": [
      "                   all         75        150      0.735      0.693       0.67      0.536      0.752      0.707      0.691      0.513\n"
     ]
    },
    {
     "name": "stderr",
     "output_type": "stream",
     "text": [
      "\n"
     ]
    },
    {
     "name": "stdout",
     "output_type": "stream",
     "text": [
      "\n",
      "      Epoch    GPU_mem   box_loss   seg_loss   cls_loss   dfl_loss  Instances       Size\n"
     ]
    },
    {
     "name": "stderr",
     "output_type": "stream",
     "text": [
      "     32/100      6.64G     0.8415      1.332     0.4459      1.103         14        640: 100%|██████████| 112/112 [00:17<00:00,  6.33it/s]\n",
      "                 Class     Images  Instances      Box(P          R      mAP50  mAP50-95)     Mask(P          R      mAP50  mAP50-95): 100%|██████████| 5/5 [00:00<00:00,  7.63it/s]"
     ]
    },
    {
     "name": "stdout",
     "output_type": "stream",
     "text": [
      "                   all         75        150      0.822      0.833      0.757      0.577      0.815      0.827      0.756      0.548\n"
     ]
    },
    {
     "name": "stderr",
     "output_type": "stream",
     "text": [
      "\n"
     ]
    },
    {
     "name": "stdout",
     "output_type": "stream",
     "text": [
      "\n",
      "      Epoch    GPU_mem   box_loss   seg_loss   cls_loss   dfl_loss  Instances       Size\n"
     ]
    },
    {
     "name": "stderr",
     "output_type": "stream",
     "text": [
      "     33/100      6.63G     0.8229      1.311     0.4362      1.097         28        640: 100%|██████████| 112/112 [00:17<00:00,  6.52it/s]\n",
      "                 Class     Images  Instances      Box(P          R      mAP50  mAP50-95)     Mask(P          R      mAP50  mAP50-95): 100%|██████████| 5/5 [00:00<00:00,  7.46it/s]"
     ]
    },
    {
     "name": "stdout",
     "output_type": "stream",
     "text": [
      "                   all         75        150      0.697      0.771      0.755      0.573      0.742      0.769      0.783       0.54\n"
     ]
    },
    {
     "name": "stderr",
     "output_type": "stream",
     "text": [
      "\n"
     ]
    },
    {
     "name": "stdout",
     "output_type": "stream",
     "text": [
      "\n",
      "      Epoch    GPU_mem   box_loss   seg_loss   cls_loss   dfl_loss  Instances       Size\n"
     ]
    },
    {
     "name": "stderr",
     "output_type": "stream",
     "text": [
      "     34/100      6.43G     0.8235      1.299      0.429      1.095         21        640: 100%|██████████| 112/112 [00:17<00:00,  6.46it/s]\n",
      "                 Class     Images  Instances      Box(P          R      mAP50  mAP50-95)     Mask(P          R      mAP50  mAP50-95): 100%|██████████| 5/5 [00:00<00:00,  7.64it/s]"
     ]
    },
    {
     "name": "stdout",
     "output_type": "stream",
     "text": [
      "                   all         75        150      0.821      0.807      0.767      0.579      0.814        0.8      0.758      0.561\n"
     ]
    },
    {
     "name": "stderr",
     "output_type": "stream",
     "text": [
      "\n"
     ]
    },
    {
     "name": "stdout",
     "output_type": "stream",
     "text": [
      "\n",
      "      Epoch    GPU_mem   box_loss   seg_loss   cls_loss   dfl_loss  Instances       Size\n"
     ]
    },
    {
     "name": "stderr",
     "output_type": "stream",
     "text": [
      "     35/100      6.61G     0.8517      1.296     0.4351      1.099         17        640: 100%|██████████| 112/112 [00:17<00:00,  6.35it/s]\n",
      "                 Class     Images  Instances      Box(P          R      mAP50  mAP50-95)     Mask(P          R      mAP50  mAP50-95): 100%|██████████| 5/5 [00:00<00:00,  7.62it/s]"
     ]
    },
    {
     "name": "stdout",
     "output_type": "stream",
     "text": [
      "                   all         75        150      0.817      0.792       0.78      0.554      0.867      0.834      0.863      0.552\n"
     ]
    },
    {
     "name": "stderr",
     "output_type": "stream",
     "text": [
      "\n"
     ]
    },
    {
     "name": "stdout",
     "output_type": "stream",
     "text": [
      "\n",
      "      Epoch    GPU_mem   box_loss   seg_loss   cls_loss   dfl_loss  Instances       Size\n"
     ]
    },
    {
     "name": "stderr",
     "output_type": "stream",
     "text": [
      "     36/100      6.63G     0.8328      1.318      0.443      1.104         22        640: 100%|██████████| 112/112 [00:17<00:00,  6.37it/s]\n",
      "                 Class     Images  Instances      Box(P          R      mAP50  mAP50-95)     Mask(P          R      mAP50  mAP50-95): 100%|██████████| 5/5 [00:00<00:00,  7.32it/s]"
     ]
    },
    {
     "name": "stdout",
     "output_type": "stream",
     "text": [
      "                   all         75        150      0.798      0.807      0.765      0.579      0.853       0.86       0.84      0.573\n"
     ]
    },
    {
     "name": "stderr",
     "output_type": "stream",
     "text": [
      "\n"
     ]
    },
    {
     "name": "stdout",
     "output_type": "stream",
     "text": [
      "\n",
      "      Epoch    GPU_mem   box_loss   seg_loss   cls_loss   dfl_loss  Instances       Size\n"
     ]
    },
    {
     "name": "stderr",
     "output_type": "stream",
     "text": [
      "     37/100      6.66G     0.8088      1.277     0.4188      1.097         25        640: 100%|██████████| 112/112 [00:17<00:00,  6.44it/s]\n",
      "                 Class     Images  Instances      Box(P          R      mAP50  mAP50-95)     Mask(P          R      mAP50  mAP50-95): 100%|██████████| 5/5 [00:00<00:00,  7.38it/s]"
     ]
    },
    {
     "name": "stdout",
     "output_type": "stream",
     "text": [
      "                   all         75        150      0.651      0.519      0.548       0.46      0.666      0.521      0.552      0.428\n"
     ]
    },
    {
     "name": "stderr",
     "output_type": "stream",
     "text": [
      "\n"
     ]
    },
    {
     "name": "stdout",
     "output_type": "stream",
     "text": [
      "\n",
      "      Epoch    GPU_mem   box_loss   seg_loss   cls_loss   dfl_loss  Instances       Size\n"
     ]
    },
    {
     "name": "stderr",
     "output_type": "stream",
     "text": [
      "     38/100      6.64G     0.8308      1.288     0.4286      1.104         15        640: 100%|██████████| 112/112 [00:17<00:00,  6.47it/s]\n",
      "                 Class     Images  Instances      Box(P          R      mAP50  mAP50-95)     Mask(P          R      mAP50  mAP50-95): 100%|██████████| 5/5 [00:00<00:00,  7.42it/s]"
     ]
    },
    {
     "name": "stdout",
     "output_type": "stream",
     "text": [
      "                   all         75        150      0.845      0.827      0.817      0.605      0.831      0.813      0.792      0.559\n"
     ]
    },
    {
     "name": "stderr",
     "output_type": "stream",
     "text": [
      "\n"
     ]
    },
    {
     "name": "stdout",
     "output_type": "stream",
     "text": [
      "\n",
      "      Epoch    GPU_mem   box_loss   seg_loss   cls_loss   dfl_loss  Instances       Size\n"
     ]
    },
    {
     "name": "stderr",
     "output_type": "stream",
     "text": [
      "     39/100       6.6G     0.8136      1.287     0.4183      1.084         22        640: 100%|██████████| 112/112 [00:17<00:00,  6.51it/s]\n",
      "                 Class     Images  Instances      Box(P          R      mAP50  mAP50-95)     Mask(P          R      mAP50  mAP50-95): 100%|██████████| 5/5 [00:00<00:00,  7.76it/s]"
     ]
    },
    {
     "name": "stdout",
     "output_type": "stream",
     "text": [
      "                   all         75        150        0.8      0.827        0.8      0.576      0.858      0.818      0.815      0.549\n"
     ]
    },
    {
     "name": "stderr",
     "output_type": "stream",
     "text": [
      "\n"
     ]
    },
    {
     "name": "stdout",
     "output_type": "stream",
     "text": [
      "\n",
      "      Epoch    GPU_mem   box_loss   seg_loss   cls_loss   dfl_loss  Instances       Size\n"
     ]
    },
    {
     "name": "stderr",
     "output_type": "stream",
     "text": [
      "     40/100      6.63G      0.809       1.28     0.4174      1.089         29        640: 100%|██████████| 112/112 [00:17<00:00,  6.49it/s]\n",
      "                 Class     Images  Instances      Box(P          R      mAP50  mAP50-95)     Mask(P          R      mAP50  mAP50-95): 100%|██████████| 5/5 [00:00<00:00,  7.65it/s]"
     ]
    },
    {
     "name": "stdout",
     "output_type": "stream",
     "text": [
      "                   all         75        150      0.754      0.725       0.71       0.54      0.793      0.757      0.763      0.519\n"
     ]
    },
    {
     "name": "stderr",
     "output_type": "stream",
     "text": [
      "\n"
     ]
    },
    {
     "name": "stdout",
     "output_type": "stream",
     "text": [
      "\n",
      "      Epoch    GPU_mem   box_loss   seg_loss   cls_loss   dfl_loss  Instances       Size\n"
     ]
    },
    {
     "name": "stderr",
     "output_type": "stream",
     "text": [
      "     41/100      6.63G     0.8155      1.302     0.4208      1.093         25        640: 100%|██████████| 112/112 [00:17<00:00,  6.39it/s]\n",
      "                 Class     Images  Instances      Box(P          R      mAP50  mAP50-95)     Mask(P          R      mAP50  mAP50-95): 100%|██████████| 5/5 [00:00<00:00,  7.12it/s]"
     ]
    },
    {
     "name": "stdout",
     "output_type": "stream",
     "text": [
      "                   all         75        150      0.808      0.803      0.778       0.58      0.822      0.817       0.77       0.55\n"
     ]
    },
    {
     "name": "stderr",
     "output_type": "stream",
     "text": [
      "\n"
     ]
    },
    {
     "name": "stdout",
     "output_type": "stream",
     "text": [
      "\n",
      "      Epoch    GPU_mem   box_loss   seg_loss   cls_loss   dfl_loss  Instances       Size\n"
     ]
    },
    {
     "name": "stderr",
     "output_type": "stream",
     "text": [
      "     42/100      6.64G     0.8074      1.283     0.4103      1.082         21        640: 100%|██████████| 112/112 [00:17<00:00,  6.43it/s]\n",
      "                 Class     Images  Instances      Box(P          R      mAP50  mAP50-95)     Mask(P          R      mAP50  mAP50-95): 100%|██████████| 5/5 [00:00<00:00,  7.53it/s]"
     ]
    },
    {
     "name": "stdout",
     "output_type": "stream",
     "text": [
      "                   all         75        150       0.78      0.785      0.731      0.579      0.769      0.773      0.724      0.551\n"
     ]
    },
    {
     "name": "stderr",
     "output_type": "stream",
     "text": [
      "\n"
     ]
    },
    {
     "name": "stdout",
     "output_type": "stream",
     "text": [
      "\n",
      "      Epoch    GPU_mem   box_loss   seg_loss   cls_loss   dfl_loss  Instances       Size\n"
     ]
    },
    {
     "name": "stderr",
     "output_type": "stream",
     "text": [
      "     43/100      6.61G     0.7872      1.244     0.3986      1.075         27        640: 100%|██████████| 112/112 [00:17<00:00,  6.52it/s]\n",
      "                 Class     Images  Instances      Box(P          R      mAP50  mAP50-95)     Mask(P          R      mAP50  mAP50-95): 100%|██████████| 5/5 [00:00<00:00,  7.44it/s]"
     ]
    },
    {
     "name": "stdout",
     "output_type": "stream",
     "text": [
      "                   all         75        150       0.86       0.84      0.812      0.571      0.867      0.847      0.832      0.552\n"
     ]
    },
    {
     "name": "stderr",
     "output_type": "stream",
     "text": [
      "\n"
     ]
    },
    {
     "name": "stdout",
     "output_type": "stream",
     "text": [
      "\n",
      "      Epoch    GPU_mem   box_loss   seg_loss   cls_loss   dfl_loss  Instances       Size\n"
     ]
    },
    {
     "name": "stderr",
     "output_type": "stream",
     "text": [
      "     44/100      6.62G     0.8009      1.276     0.4007      1.087         20        640: 100%|██████████| 112/112 [00:17<00:00,  6.54it/s]\n",
      "                 Class     Images  Instances      Box(P          R      mAP50  mAP50-95)     Mask(P          R      mAP50  mAP50-95): 100%|██████████| 5/5 [00:00<00:00,  7.60it/s]"
     ]
    },
    {
     "name": "stdout",
     "output_type": "stream",
     "text": [
      "                   all         75        150      0.798      0.787      0.731      0.548      0.826      0.813      0.753      0.533\n"
     ]
    },
    {
     "name": "stderr",
     "output_type": "stream",
     "text": [
      "\n"
     ]
    },
    {
     "name": "stdout",
     "output_type": "stream",
     "text": [
      "\n",
      "      Epoch    GPU_mem   box_loss   seg_loss   cls_loss   dfl_loss  Instances       Size\n"
     ]
    },
    {
     "name": "stderr",
     "output_type": "stream",
     "text": [
      "     45/100      6.61G     0.7729      1.236     0.3988      1.068         29        640: 100%|██████████| 112/112 [00:17<00:00,  6.53it/s]\n",
      "                 Class     Images  Instances      Box(P          R      mAP50  mAP50-95)     Mask(P          R      mAP50  mAP50-95): 100%|██████████| 5/5 [00:00<00:00,  7.62it/s]"
     ]
    },
    {
     "name": "stdout",
     "output_type": "stream",
     "text": [
      "                   all         75        150      0.853      0.853      0.824      0.587      0.846      0.847      0.799      0.557\n"
     ]
    },
    {
     "name": "stderr",
     "output_type": "stream",
     "text": [
      "\n"
     ]
    },
    {
     "name": "stdout",
     "output_type": "stream",
     "text": [
      "\n",
      "      Epoch    GPU_mem   box_loss   seg_loss   cls_loss   dfl_loss  Instances       Size\n"
     ]
    },
    {
     "name": "stderr",
     "output_type": "stream",
     "text": [
      "     46/100      6.64G     0.7725      1.221     0.3959      1.078         30        640: 100%|██████████| 112/112 [00:17<00:00,  6.49it/s]\n",
      "                 Class     Images  Instances      Box(P          R      mAP50  mAP50-95)     Mask(P          R      mAP50  mAP50-95): 100%|██████████| 5/5 [00:00<00:00,  7.65it/s]"
     ]
    },
    {
     "name": "stdout",
     "output_type": "stream",
     "text": [
      "                   all         75        150       0.87      0.867       0.84      0.576      0.897      0.887       0.86      0.558\n"
     ]
    },
    {
     "name": "stderr",
     "output_type": "stream",
     "text": [
      "\n"
     ]
    },
    {
     "name": "stdout",
     "output_type": "stream",
     "text": [
      "\n",
      "      Epoch    GPU_mem   box_loss   seg_loss   cls_loss   dfl_loss  Instances       Size\n"
     ]
    },
    {
     "name": "stderr",
     "output_type": "stream",
     "text": [
      "     47/100      6.62G     0.7937      1.242      0.411      1.081         25        640: 100%|██████████| 112/112 [00:17<00:00,  6.24it/s]\n",
      "                 Class     Images  Instances      Box(P          R      mAP50  mAP50-95)     Mask(P          R      mAP50  mAP50-95): 100%|██████████| 5/5 [00:00<00:00,  7.41it/s]"
     ]
    },
    {
     "name": "stdout",
     "output_type": "stream",
     "text": [
      "                   all         75        150      0.887      0.833       0.85      0.588      0.897      0.845      0.842      0.566\n"
     ]
    },
    {
     "name": "stderr",
     "output_type": "stream",
     "text": [
      "\n"
     ]
    },
    {
     "name": "stdout",
     "output_type": "stream",
     "text": [
      "\n",
      "      Epoch    GPU_mem   box_loss   seg_loss   cls_loss   dfl_loss  Instances       Size\n"
     ]
    },
    {
     "name": "stderr",
     "output_type": "stream",
     "text": [
      "     48/100      6.61G     0.7768      1.238      0.401      1.065         22        640: 100%|██████████| 112/112 [00:17<00:00,  6.37it/s]\n",
      "                 Class     Images  Instances      Box(P          R      mAP50  mAP50-95)     Mask(P          R      mAP50  mAP50-95): 100%|██████████| 5/5 [00:00<00:00,  7.43it/s]"
     ]
    },
    {
     "name": "stdout",
     "output_type": "stream",
     "text": [
      "                   all         75        150      0.761       0.76      0.705      0.568      0.778       0.78      0.718      0.537\n"
     ]
    },
    {
     "name": "stderr",
     "output_type": "stream",
     "text": [
      "\n"
     ]
    },
    {
     "name": "stdout",
     "output_type": "stream",
     "text": [
      "\n",
      "      Epoch    GPU_mem   box_loss   seg_loss   cls_loss   dfl_loss  Instances       Size\n"
     ]
    },
    {
     "name": "stderr",
     "output_type": "stream",
     "text": [
      "     49/100      6.62G     0.7798      1.233     0.3951      1.075         24        640: 100%|██████████| 112/112 [00:17<00:00,  6.49it/s]\n",
      "                 Class     Images  Instances      Box(P          R      mAP50  mAP50-95)     Mask(P          R      mAP50  mAP50-95): 100%|██████████| 5/5 [00:00<00:00,  7.49it/s]"
     ]
    },
    {
     "name": "stdout",
     "output_type": "stream",
     "text": [
      "                   all         75        150      0.764      0.767      0.744      0.572      0.799        0.8      0.781      0.547\n"
     ]
    },
    {
     "name": "stderr",
     "output_type": "stream",
     "text": [
      "\n"
     ]
    },
    {
     "name": "stdout",
     "output_type": "stream",
     "text": [
      "\n",
      "      Epoch    GPU_mem   box_loss   seg_loss   cls_loss   dfl_loss  Instances       Size\n"
     ]
    },
    {
     "name": "stderr",
     "output_type": "stream",
     "text": [
      "     50/100      6.66G     0.7717       1.23     0.3985      1.066         20        640: 100%|██████████| 112/112 [00:17<00:00,  6.37it/s]\n",
      "                 Class     Images  Instances      Box(P          R      mAP50  mAP50-95)     Mask(P          R      mAP50  mAP50-95): 100%|██████████| 5/5 [00:00<00:00,  7.44it/s]"
     ]
    },
    {
     "name": "stdout",
     "output_type": "stream",
     "text": [
      "                   all         75        150      0.789      0.787      0.727      0.575      0.817      0.813      0.778      0.558\n"
     ]
    },
    {
     "name": "stderr",
     "output_type": "stream",
     "text": [
      "\n"
     ]
    },
    {
     "name": "stdout",
     "output_type": "stream",
     "text": [
      "\n",
      "      Epoch    GPU_mem   box_loss   seg_loss   cls_loss   dfl_loss  Instances       Size\n"
     ]
    },
    {
     "name": "stderr",
     "output_type": "stream",
     "text": [
      "     51/100      6.62G      0.767      1.224     0.3883      1.066         13        640: 100%|██████████| 112/112 [00:17<00:00,  6.42it/s]\n",
      "                 Class     Images  Instances      Box(P          R      mAP50  mAP50-95)     Mask(P          R      mAP50  mAP50-95): 100%|██████████| 5/5 [00:00<00:00,  7.38it/s]"
     ]
    },
    {
     "name": "stdout",
     "output_type": "stream",
     "text": [
      "                   all         75        150      0.827      0.807      0.803      0.588      0.832      0.807      0.801      0.555\n"
     ]
    },
    {
     "name": "stderr",
     "output_type": "stream",
     "text": [
      "\n"
     ]
    },
    {
     "name": "stdout",
     "output_type": "stream",
     "text": [
      "\n",
      "      Epoch    GPU_mem   box_loss   seg_loss   cls_loss   dfl_loss  Instances       Size\n"
     ]
    },
    {
     "name": "stderr",
     "output_type": "stream",
     "text": [
      "     52/100      6.66G     0.7684      1.228      0.392      1.066         15        640: 100%|██████████| 112/112 [00:17<00:00,  6.55it/s]\n",
      "                 Class     Images  Instances      Box(P          R      mAP50  mAP50-95)     Mask(P          R      mAP50  mAP50-95): 100%|██████████| 5/5 [00:00<00:00,  7.44it/s]"
     ]
    },
    {
     "name": "stdout",
     "output_type": "stream",
     "text": [
      "                   all         75        150      0.869       0.86      0.843      0.596      0.877      0.867      0.866      0.587\n"
     ]
    },
    {
     "name": "stderr",
     "output_type": "stream",
     "text": [
      "\n"
     ]
    },
    {
     "name": "stdout",
     "output_type": "stream",
     "text": [
      "\n",
      "      Epoch    GPU_mem   box_loss   seg_loss   cls_loss   dfl_loss  Instances       Size\n"
     ]
    },
    {
     "name": "stderr",
     "output_type": "stream",
     "text": [
      "     53/100      6.63G     0.7643      1.204     0.3794       1.06         19        640: 100%|██████████| 112/112 [00:17<00:00,  6.43it/s]\n",
      "                 Class     Images  Instances      Box(P          R      mAP50  mAP50-95)     Mask(P          R      mAP50  mAP50-95): 100%|██████████| 5/5 [00:00<00:00,  7.32it/s]"
     ]
    },
    {
     "name": "stdout",
     "output_type": "stream",
     "text": [
      "                   all         75        150      0.844       0.78      0.795       0.58      0.871      0.813      0.828      0.552\n"
     ]
    },
    {
     "name": "stderr",
     "output_type": "stream",
     "text": [
      "\n"
     ]
    },
    {
     "name": "stdout",
     "output_type": "stream",
     "text": [
      "\n",
      "      Epoch    GPU_mem   box_loss   seg_loss   cls_loss   dfl_loss  Instances       Size\n"
     ]
    },
    {
     "name": "stderr",
     "output_type": "stream",
     "text": [
      "     54/100      6.63G     0.7333       1.19     0.3744      1.055         29        640: 100%|██████████| 112/112 [00:17<00:00,  6.41it/s]\n",
      "                 Class     Images  Instances      Box(P          R      mAP50  mAP50-95)     Mask(P          R      mAP50  mAP50-95): 100%|██████████| 5/5 [00:00<00:00,  7.60it/s]"
     ]
    },
    {
     "name": "stdout",
     "output_type": "stream",
     "text": [
      "                   all         75        150      0.805      0.819      0.785      0.572      0.833      0.846      0.814      0.551\n"
     ]
    },
    {
     "name": "stderr",
     "output_type": "stream",
     "text": [
      "\n"
     ]
    },
    {
     "name": "stdout",
     "output_type": "stream",
     "text": [
      "\n",
      "      Epoch    GPU_mem   box_loss   seg_loss   cls_loss   dfl_loss  Instances       Size\n"
     ]
    },
    {
     "name": "stderr",
     "output_type": "stream",
     "text": [
      "     55/100      6.64G     0.7628      1.205     0.3819      1.061         28        640: 100%|██████████| 112/112 [00:17<00:00,  6.36it/s]\n",
      "                 Class     Images  Instances      Box(P          R      mAP50  mAP50-95)     Mask(P          R      mAP50  mAP50-95): 100%|██████████| 5/5 [00:00<00:00,  7.45it/s]"
     ]
    },
    {
     "name": "stdout",
     "output_type": "stream",
     "text": [
      "                   all         75        150      0.709      0.747      0.669      0.567      0.774       0.82      0.761      0.554\n"
     ]
    },
    {
     "name": "stderr",
     "output_type": "stream",
     "text": [
      "\n"
     ]
    },
    {
     "name": "stdout",
     "output_type": "stream",
     "text": [
      "\n",
      "      Epoch    GPU_mem   box_loss   seg_loss   cls_loss   dfl_loss  Instances       Size\n"
     ]
    },
    {
     "name": "stderr",
     "output_type": "stream",
     "text": [
      "     56/100      6.65G     0.7747      1.211     0.3842       1.07         21        640: 100%|██████████| 112/112 [00:17<00:00,  6.45it/s]\n",
      "                 Class     Images  Instances      Box(P          R      mAP50  mAP50-95)     Mask(P          R      mAP50  mAP50-95): 100%|██████████| 5/5 [00:00<00:00,  7.55it/s]"
     ]
    },
    {
     "name": "stdout",
     "output_type": "stream",
     "text": [
      "                   all         75        150      0.871       0.86       0.86        0.6       0.88      0.873      0.869      0.575\n"
     ]
    },
    {
     "name": "stderr",
     "output_type": "stream",
     "text": [
      "\n"
     ]
    },
    {
     "name": "stdout",
     "output_type": "stream",
     "text": [
      "\n",
      "      Epoch    GPU_mem   box_loss   seg_loss   cls_loss   dfl_loss  Instances       Size\n"
     ]
    },
    {
     "name": "stderr",
     "output_type": "stream",
     "text": [
      "     57/100      6.62G      0.745      1.178     0.3736      1.053         29        640: 100%|██████████| 112/112 [00:17<00:00,  6.44it/s]\n",
      "                 Class     Images  Instances      Box(P          R      mAP50  mAP50-95)     Mask(P          R      mAP50  mAP50-95): 100%|██████████| 5/5 [00:00<00:00,  7.27it/s]"
     ]
    },
    {
     "name": "stdout",
     "output_type": "stream",
     "text": [
      "                   all         75        150      0.852      0.853      0.843      0.595      0.879       0.88      0.858       0.57\n"
     ]
    },
    {
     "name": "stderr",
     "output_type": "stream",
     "text": [
      "\n"
     ]
    },
    {
     "name": "stdout",
     "output_type": "stream",
     "text": [
      "\n",
      "      Epoch    GPU_mem   box_loss   seg_loss   cls_loss   dfl_loss  Instances       Size\n"
     ]
    },
    {
     "name": "stderr",
     "output_type": "stream",
     "text": [
      "     58/100      6.65G     0.7316      1.148     0.3678      1.049         33        640: 100%|██████████| 112/112 [00:17<00:00,  6.52it/s]\n",
      "                 Class     Images  Instances      Box(P          R      mAP50  mAP50-95)     Mask(P          R      mAP50  mAP50-95): 100%|██████████| 5/5 [00:00<00:00,  7.43it/s]"
     ]
    },
    {
     "name": "stdout",
     "output_type": "stream",
     "text": [
      "                   all         75        150      0.791      0.827      0.784        0.6      0.872      0.853      0.846      0.574\n"
     ]
    },
    {
     "name": "stderr",
     "output_type": "stream",
     "text": [
      "\n"
     ]
    },
    {
     "name": "stdout",
     "output_type": "stream",
     "text": [
      "\n",
      "      Epoch    GPU_mem   box_loss   seg_loss   cls_loss   dfl_loss  Instances       Size\n"
     ]
    },
    {
     "name": "stderr",
     "output_type": "stream",
     "text": [
      "     59/100      6.61G     0.7435      1.175     0.3704      1.056         17        640: 100%|██████████| 112/112 [00:17<00:00,  6.46it/s]\n",
      "                 Class     Images  Instances      Box(P          R      mAP50  mAP50-95)     Mask(P          R      mAP50  mAP50-95): 100%|██████████| 5/5 [00:00<00:00,  7.30it/s]"
     ]
    },
    {
     "name": "stdout",
     "output_type": "stream",
     "text": [
      "                   all         75        150      0.768       0.76       0.71      0.578      0.789       0.78      0.729      0.548\n"
     ]
    },
    {
     "name": "stderr",
     "output_type": "stream",
     "text": [
      "\n"
     ]
    },
    {
     "name": "stdout",
     "output_type": "stream",
     "text": [
      "\n",
      "      Epoch    GPU_mem   box_loss   seg_loss   cls_loss   dfl_loss  Instances       Size\n"
     ]
    },
    {
     "name": "stderr",
     "output_type": "stream",
     "text": [
      "     60/100      6.64G     0.7318      1.165      0.367      1.042         17        640: 100%|██████████| 112/112 [00:17<00:00,  6.45it/s]\n",
      "                 Class     Images  Instances      Box(P          R      mAP50  mAP50-95)     Mask(P          R      mAP50  mAP50-95): 100%|██████████| 5/5 [00:00<00:00,  7.30it/s]"
     ]
    },
    {
     "name": "stdout",
     "output_type": "stream",
     "text": [
      "                   all         75        150      0.864      0.859      0.841      0.603      0.877      0.867      0.849       0.58\n"
     ]
    },
    {
     "name": "stderr",
     "output_type": "stream",
     "text": [
      "\n"
     ]
    },
    {
     "name": "stdout",
     "output_type": "stream",
     "text": [
      "\n",
      "      Epoch    GPU_mem   box_loss   seg_loss   cls_loss   dfl_loss  Instances       Size\n"
     ]
    },
    {
     "name": "stderr",
     "output_type": "stream",
     "text": [
      "     61/100      6.61G     0.7275      1.142     0.3629      1.044         22        640: 100%|██████████| 112/112 [00:17<00:00,  6.47it/s]\n",
      "                 Class     Images  Instances      Box(P          R      mAP50  mAP50-95)     Mask(P          R      mAP50  mAP50-95): 100%|██████████| 5/5 [00:00<00:00,  7.52it/s]"
     ]
    },
    {
     "name": "stdout",
     "output_type": "stream",
     "text": [
      "                   all         75        150      0.816      0.837      0.802      0.583      0.863      0.847      0.808       0.57\n"
     ]
    },
    {
     "name": "stderr",
     "output_type": "stream",
     "text": [
      "\n"
     ]
    },
    {
     "name": "stdout",
     "output_type": "stream",
     "text": [
      "\n",
      "      Epoch    GPU_mem   box_loss   seg_loss   cls_loss   dfl_loss  Instances       Size\n"
     ]
    },
    {
     "name": "stderr",
     "output_type": "stream",
     "text": [
      "     62/100      6.69G     0.7348      1.164     0.3649      1.051         14        640: 100%|██████████| 112/112 [00:17<00:00,  6.45it/s]\n",
      "                 Class     Images  Instances      Box(P          R      mAP50  mAP50-95)     Mask(P          R      mAP50  mAP50-95): 100%|██████████| 5/5 [00:00<00:00,  7.47it/s]"
     ]
    },
    {
     "name": "stdout",
     "output_type": "stream",
     "text": [
      "                   all         75        150      0.844      0.828      0.808      0.594      0.872      0.853      0.844      0.577\n"
     ]
    },
    {
     "name": "stderr",
     "output_type": "stream",
     "text": [
      "\n"
     ]
    },
    {
     "name": "stdout",
     "output_type": "stream",
     "text": [
      "\n",
      "      Epoch    GPU_mem   box_loss   seg_loss   cls_loss   dfl_loss  Instances       Size\n"
     ]
    },
    {
     "name": "stderr",
     "output_type": "stream",
     "text": [
      "     63/100      6.63G     0.7195      1.139     0.3631      1.039         22        640: 100%|██████████| 112/112 [00:17<00:00,  6.55it/s]\n",
      "                 Class     Images  Instances      Box(P          R      mAP50  mAP50-95)     Mask(P          R      mAP50  mAP50-95): 100%|██████████| 5/5 [00:00<00:00,  7.22it/s]"
     ]
    },
    {
     "name": "stdout",
     "output_type": "stream",
     "text": [
      "                   all         75        150      0.836      0.826      0.814      0.587      0.857      0.846      0.849      0.587\n"
     ]
    },
    {
     "name": "stderr",
     "output_type": "stream",
     "text": [
      "\n"
     ]
    },
    {
     "name": "stdout",
     "output_type": "stream",
     "text": [
      "\n",
      "      Epoch    GPU_mem   box_loss   seg_loss   cls_loss   dfl_loss  Instances       Size\n"
     ]
    },
    {
     "name": "stderr",
     "output_type": "stream",
     "text": [
      "     64/100      6.64G     0.7216      1.137     0.3586      1.048         14        640: 100%|██████████| 112/112 [00:17<00:00,  6.49it/s]\n",
      "                 Class     Images  Instances      Box(P          R      mAP50  mAP50-95)     Mask(P          R      mAP50  mAP50-95): 100%|██████████| 5/5 [00:00<00:00,  7.60it/s]"
     ]
    },
    {
     "name": "stdout",
     "output_type": "stream",
     "text": [
      "                   all         75        150      0.844      0.813      0.821      0.627      0.888      0.853      0.867      0.602\n"
     ]
    },
    {
     "name": "stderr",
     "output_type": "stream",
     "text": [
      "\n"
     ]
    },
    {
     "name": "stdout",
     "output_type": "stream",
     "text": [
      "\n",
      "      Epoch    GPU_mem   box_loss   seg_loss   cls_loss   dfl_loss  Instances       Size\n"
     ]
    },
    {
     "name": "stderr",
     "output_type": "stream",
     "text": [
      "     65/100      6.63G     0.6991      1.103     0.3531      1.023         30        640: 100%|██████████| 112/112 [00:17<00:00,  6.47it/s]\n",
      "                 Class     Images  Instances      Box(P          R      mAP50  mAP50-95)     Mask(P          R      mAP50  mAP50-95): 100%|██████████| 5/5 [00:00<00:00,  6.83it/s]"
     ]
    },
    {
     "name": "stdout",
     "output_type": "stream",
     "text": [
      "                   all         75        150      0.787      0.793      0.736       0.57      0.834       0.84      0.788      0.556\n"
     ]
    },
    {
     "name": "stderr",
     "output_type": "stream",
     "text": [
      "\n"
     ]
    },
    {
     "name": "stdout",
     "output_type": "stream",
     "text": [
      "\n",
      "      Epoch    GPU_mem   box_loss   seg_loss   cls_loss   dfl_loss  Instances       Size\n"
     ]
    },
    {
     "name": "stderr",
     "output_type": "stream",
     "text": [
      "     66/100      6.61G     0.7299      1.148      0.356      1.038         24        640: 100%|██████████| 112/112 [00:17<00:00,  6.35it/s]\n",
      "                 Class     Images  Instances      Box(P          R      mAP50  mAP50-95)     Mask(P          R      mAP50  mAP50-95): 100%|██████████| 5/5 [00:00<00:00,  7.10it/s]"
     ]
    },
    {
     "name": "stdout",
     "output_type": "stream",
     "text": [
      "                   all         75        150       0.81      0.771      0.763      0.571      0.833      0.793      0.803       0.55\n"
     ]
    },
    {
     "name": "stderr",
     "output_type": "stream",
     "text": [
      "\n"
     ]
    },
    {
     "name": "stdout",
     "output_type": "stream",
     "text": [
      "\n",
      "      Epoch    GPU_mem   box_loss   seg_loss   cls_loss   dfl_loss  Instances       Size\n"
     ]
    },
    {
     "name": "stderr",
     "output_type": "stream",
     "text": [
      "     67/100      6.61G     0.7198      1.153     0.3554      1.042         24        640: 100%|██████████| 112/112 [00:17<00:00,  6.45it/s]\n",
      "                 Class     Images  Instances      Box(P          R      mAP50  mAP50-95)     Mask(P          R      mAP50  mAP50-95): 100%|██████████| 5/5 [00:00<00:00,  7.46it/s]"
     ]
    },
    {
     "name": "stdout",
     "output_type": "stream",
     "text": [
      "                   all         75        150       0.82        0.8      0.767       0.59      0.835      0.813      0.777      0.564\n"
     ]
    },
    {
     "name": "stderr",
     "output_type": "stream",
     "text": [
      "\n"
     ]
    },
    {
     "name": "stdout",
     "output_type": "stream",
     "text": [
      "\n",
      "      Epoch    GPU_mem   box_loss   seg_loss   cls_loss   dfl_loss  Instances       Size\n"
     ]
    },
    {
     "name": "stderr",
     "output_type": "stream",
     "text": [
      "     68/100      6.61G     0.7089      1.121      0.349      1.036         24        640: 100%|██████████| 112/112 [00:17<00:00,  6.52it/s]\n",
      "                 Class     Images  Instances      Box(P          R      mAP50  mAP50-95)     Mask(P          R      mAP50  mAP50-95): 100%|██████████| 5/5 [00:00<00:00,  7.50it/s]"
     ]
    },
    {
     "name": "stdout",
     "output_type": "stream",
     "text": [
      "                   all         75        150      0.848      0.833      0.829      0.606      0.876       0.86      0.848      0.588\n"
     ]
    },
    {
     "name": "stderr",
     "output_type": "stream",
     "text": [
      "\n"
     ]
    },
    {
     "name": "stdout",
     "output_type": "stream",
     "text": [
      "\n",
      "      Epoch    GPU_mem   box_loss   seg_loss   cls_loss   dfl_loss  Instances       Size\n"
     ]
    },
    {
     "name": "stderr",
     "output_type": "stream",
     "text": [
      "     69/100      6.64G     0.6954      1.132     0.3495      1.026         28        640: 100%|██████████| 112/112 [00:17<00:00,  6.34it/s]\n",
      "                 Class     Images  Instances      Box(P          R      mAP50  mAP50-95)     Mask(P          R      mAP50  mAP50-95): 100%|██████████| 5/5 [00:00<00:00,  7.10it/s]"
     ]
    },
    {
     "name": "stdout",
     "output_type": "stream",
     "text": [
      "                   all         75        150      0.878      0.866      0.864      0.613      0.859       0.84      0.844      0.591\n"
     ]
    },
    {
     "name": "stderr",
     "output_type": "stream",
     "text": [
      "\n"
     ]
    },
    {
     "name": "stdout",
     "output_type": "stream",
     "text": [
      "\n",
      "      Epoch    GPU_mem   box_loss   seg_loss   cls_loss   dfl_loss  Instances       Size\n"
     ]
    },
    {
     "name": "stderr",
     "output_type": "stream",
     "text": [
      "     70/100      6.61G      0.695       1.12     0.3414      1.022         25        640: 100%|██████████| 112/112 [00:17<00:00,  6.46it/s]\n",
      "                 Class     Images  Instances      Box(P          R      mAP50  mAP50-95)     Mask(P          R      mAP50  mAP50-95): 100%|██████████| 5/5 [00:00<00:00,  7.30it/s]"
     ]
    },
    {
     "name": "stdout",
     "output_type": "stream",
     "text": [
      "                   all         75        150       0.74      0.727      0.691      0.561      0.733       0.72      0.693      0.534\n"
     ]
    },
    {
     "name": "stderr",
     "output_type": "stream",
     "text": [
      "\n"
     ]
    },
    {
     "name": "stdout",
     "output_type": "stream",
     "text": [
      "\n",
      "      Epoch    GPU_mem   box_loss   seg_loss   cls_loss   dfl_loss  Instances       Size\n"
     ]
    },
    {
     "name": "stderr",
     "output_type": "stream",
     "text": [
      "     71/100      6.61G     0.6906      1.116     0.3444      1.023         16        640: 100%|██████████| 112/112 [00:17<00:00,  6.52it/s]\n",
      "                 Class     Images  Instances      Box(P          R      mAP50  mAP50-95)     Mask(P          R      mAP50  mAP50-95): 100%|██████████| 5/5 [00:00<00:00,  7.67it/s]"
     ]
    },
    {
     "name": "stdout",
     "output_type": "stream",
     "text": [
      "                   all         75        150      0.832        0.8      0.807      0.596      0.858       0.82      0.837      0.577\n"
     ]
    },
    {
     "name": "stderr",
     "output_type": "stream",
     "text": [
      "\n"
     ]
    },
    {
     "name": "stdout",
     "output_type": "stream",
     "text": [
      "\n",
      "      Epoch    GPU_mem   box_loss   seg_loss   cls_loss   dfl_loss  Instances       Size\n"
     ]
    },
    {
     "name": "stderr",
     "output_type": "stream",
     "text": [
      "     72/100      6.64G     0.6764      1.082     0.3407      1.019         26        640: 100%|██████████| 112/112 [00:17<00:00,  6.42it/s]\n",
      "                 Class     Images  Instances      Box(P          R      mAP50  mAP50-95)     Mask(P          R      mAP50  mAP50-95): 100%|██████████| 5/5 [00:00<00:00,  7.29it/s]"
     ]
    },
    {
     "name": "stdout",
     "output_type": "stream",
     "text": [
      "                   all         75        150      0.779      0.747      0.734      0.577      0.802      0.766      0.767      0.552\n"
     ]
    },
    {
     "name": "stderr",
     "output_type": "stream",
     "text": [
      "\n"
     ]
    },
    {
     "name": "stdout",
     "output_type": "stream",
     "text": [
      "\n",
      "      Epoch    GPU_mem   box_loss   seg_loss   cls_loss   dfl_loss  Instances       Size\n"
     ]
    },
    {
     "name": "stderr",
     "output_type": "stream",
     "text": [
      "     73/100      6.66G     0.6897      1.105      0.341      1.015         19        640: 100%|██████████| 112/112 [00:17<00:00,  6.44it/s]\n",
      "                 Class     Images  Instances      Box(P          R      mAP50  mAP50-95)     Mask(P          R      mAP50  mAP50-95): 100%|██████████| 5/5 [00:00<00:00,  7.13it/s]"
     ]
    },
    {
     "name": "stdout",
     "output_type": "stream",
     "text": [
      "                   all         75        150      0.789      0.788      0.745      0.581      0.801      0.793      0.762      0.562\n"
     ]
    },
    {
     "name": "stderr",
     "output_type": "stream",
     "text": [
      "\n"
     ]
    },
    {
     "name": "stdout",
     "output_type": "stream",
     "text": [
      "\n",
      "      Epoch    GPU_mem   box_loss   seg_loss   cls_loss   dfl_loss  Instances       Size\n"
     ]
    },
    {
     "name": "stderr",
     "output_type": "stream",
     "text": [
      "     74/100      6.64G     0.6827      1.096     0.3449      1.021         13        640: 100%|██████████| 112/112 [00:17<00:00,  6.42it/s]\n",
      "                 Class     Images  Instances      Box(P          R      mAP50  mAP50-95)     Mask(P          R      mAP50  mAP50-95): 100%|██████████| 5/5 [00:00<00:00,  7.44it/s]"
     ]
    },
    {
     "name": "stdout",
     "output_type": "stream",
     "text": [
      "                   all         75        150      0.803       0.78      0.761      0.573      0.817      0.793      0.772       0.54\n"
     ]
    },
    {
     "name": "stderr",
     "output_type": "stream",
     "text": [
      "\n"
     ]
    },
    {
     "name": "stdout",
     "output_type": "stream",
     "text": [
      "\n",
      "      Epoch    GPU_mem   box_loss   seg_loss   cls_loss   dfl_loss  Instances       Size\n"
     ]
    },
    {
     "name": "stderr",
     "output_type": "stream",
     "text": [
      "     75/100      6.61G     0.6834      1.091     0.3371      1.014         28        640: 100%|██████████| 112/112 [00:17<00:00,  6.49it/s]\n",
      "                 Class     Images  Instances      Box(P          R      mAP50  mAP50-95)     Mask(P          R      mAP50  mAP50-95): 100%|██████████| 5/5 [00:00<00:00,  6.60it/s]"
     ]
    },
    {
     "name": "stdout",
     "output_type": "stream",
     "text": [
      "                   all         75        150      0.792      0.775      0.761      0.584      0.821      0.801      0.798      0.554\n"
     ]
    },
    {
     "name": "stderr",
     "output_type": "stream",
     "text": [
      "\n"
     ]
    },
    {
     "name": "stdout",
     "output_type": "stream",
     "text": [
      "\n",
      "      Epoch    GPU_mem   box_loss   seg_loss   cls_loss   dfl_loss  Instances       Size\n"
     ]
    },
    {
     "name": "stderr",
     "output_type": "stream",
     "text": [
      "     76/100      6.63G     0.6721      1.079     0.3293      1.014         27        640: 100%|██████████| 112/112 [00:17<00:00,  6.44it/s]\n",
      "                 Class     Images  Instances      Box(P          R      mAP50  mAP50-95)     Mask(P          R      mAP50  mAP50-95): 100%|██████████| 5/5 [00:00<00:00,  7.46it/s]"
     ]
    },
    {
     "name": "stdout",
     "output_type": "stream",
     "text": [
      "                   all         75        150       0.78      0.727      0.736      0.571      0.798       0.74      0.745       0.54\n"
     ]
    },
    {
     "name": "stderr",
     "output_type": "stream",
     "text": [
      "\n"
     ]
    },
    {
     "name": "stdout",
     "output_type": "stream",
     "text": [
      "\n",
      "      Epoch    GPU_mem   box_loss   seg_loss   cls_loss   dfl_loss  Instances       Size\n"
     ]
    },
    {
     "name": "stderr",
     "output_type": "stream",
     "text": [
      "     77/100      6.64G     0.6629      1.065     0.3286      1.009         26        640: 100%|██████████| 112/112 [00:17<00:00,  6.55it/s]\n",
      "                 Class     Images  Instances      Box(P          R      mAP50  mAP50-95)     Mask(P          R      mAP50  mAP50-95): 100%|██████████| 5/5 [00:00<00:00,  7.68it/s]"
     ]
    },
    {
     "name": "stdout",
     "output_type": "stream",
     "text": [
      "                   all         75        150       0.79      0.761      0.751      0.557      0.838        0.8      0.792      0.542\n"
     ]
    },
    {
     "name": "stderr",
     "output_type": "stream",
     "text": [
      "\n"
     ]
    },
    {
     "name": "stdout",
     "output_type": "stream",
     "text": [
      "\n",
      "      Epoch    GPU_mem   box_loss   seg_loss   cls_loss   dfl_loss  Instances       Size\n"
     ]
    },
    {
     "name": "stderr",
     "output_type": "stream",
     "text": [
      "     78/100      6.62G     0.6577      1.035      0.326      1.008         33        640: 100%|██████████| 112/112 [00:17<00:00,  6.43it/s]\n",
      "                 Class     Images  Instances      Box(P          R      mAP50  mAP50-95)     Mask(P          R      mAP50  mAP50-95): 100%|██████████| 5/5 [00:00<00:00,  7.67it/s]"
     ]
    },
    {
     "name": "stdout",
     "output_type": "stream",
     "text": [
      "                   all         75        150        0.8        0.8       0.76      0.572      0.826       0.82      0.789      0.547\n"
     ]
    },
    {
     "name": "stderr",
     "output_type": "stream",
     "text": [
      "\n"
     ]
    },
    {
     "name": "stdout",
     "output_type": "stream",
     "text": [
      "\n",
      "      Epoch    GPU_mem   box_loss   seg_loss   cls_loss   dfl_loss  Instances       Size\n"
     ]
    },
    {
     "name": "stderr",
     "output_type": "stream",
     "text": [
      "     79/100      6.65G     0.6494      1.045     0.3224       1.01         19        640: 100%|██████████| 112/112 [00:17<00:00,  6.39it/s]\n",
      "                 Class     Images  Instances      Box(P          R      mAP50  mAP50-95)     Mask(P          R      mAP50  mAP50-95): 100%|██████████| 5/5 [00:00<00:00,  7.43it/s]"
     ]
    },
    {
     "name": "stdout",
     "output_type": "stream",
     "text": [
      "                   all         75        150      0.846      0.833      0.817      0.593      0.877      0.872       0.87      0.574\n"
     ]
    },
    {
     "name": "stderr",
     "output_type": "stream",
     "text": [
      "\n"
     ]
    },
    {
     "name": "stdout",
     "output_type": "stream",
     "text": [
      "\n",
      "      Epoch    GPU_mem   box_loss   seg_loss   cls_loss   dfl_loss  Instances       Size\n"
     ]
    },
    {
     "name": "stderr",
     "output_type": "stream",
     "text": [
      "     80/100      6.62G     0.6517      1.025     0.3239     0.9953         18        640: 100%|██████████| 112/112 [00:17<00:00,  6.53it/s]\n",
      "                 Class     Images  Instances      Box(P          R      mAP50  mAP50-95)     Mask(P          R      mAP50  mAP50-95): 100%|██████████| 5/5 [00:00<00:00,  7.55it/s]"
     ]
    },
    {
     "name": "stdout",
     "output_type": "stream",
     "text": [
      "                   all         75        150      0.877      0.893      0.864      0.599      0.923       0.92       0.92      0.587\n"
     ]
    },
    {
     "name": "stderr",
     "output_type": "stream",
     "text": [
      "\n"
     ]
    },
    {
     "name": "stdout",
     "output_type": "stream",
     "text": [
      "\n",
      "      Epoch    GPU_mem   box_loss   seg_loss   cls_loss   dfl_loss  Instances       Size\n"
     ]
    },
    {
     "name": "stderr",
     "output_type": "stream",
     "text": [
      "     81/100      6.67G     0.6526      1.034     0.3192       1.01         20        640: 100%|██████████| 112/112 [00:17<00:00,  6.46it/s]\n",
      "                 Class     Images  Instances      Box(P          R      mAP50  mAP50-95)     Mask(P          R      mAP50  mAP50-95): 100%|██████████| 5/5 [00:00<00:00,  7.44it/s]"
     ]
    },
    {
     "name": "stdout",
     "output_type": "stream",
     "text": [
      "                   all         75        150      0.838      0.819      0.799      0.585       0.86      0.838      0.824      0.574\n"
     ]
    },
    {
     "name": "stderr",
     "output_type": "stream",
     "text": [
      "\n"
     ]
    },
    {
     "name": "stdout",
     "output_type": "stream",
     "text": [
      "\n",
      "      Epoch    GPU_mem   box_loss   seg_loss   cls_loss   dfl_loss  Instances       Size\n"
     ]
    },
    {
     "name": "stderr",
     "output_type": "stream",
     "text": [
      "     82/100      6.67G     0.6498      1.034     0.3149     0.9972         14        640: 100%|██████████| 112/112 [00:17<00:00,  6.52it/s]\n",
      "                 Class     Images  Instances      Box(P          R      mAP50  mAP50-95)     Mask(P          R      mAP50  mAP50-95): 100%|██████████| 5/5 [00:00<00:00,  7.47it/s]"
     ]
    },
    {
     "name": "stdout",
     "output_type": "stream",
     "text": [
      "                   all         75        150      0.868      0.853      0.825      0.595      0.882      0.867      0.849      0.583\n"
     ]
    },
    {
     "name": "stderr",
     "output_type": "stream",
     "text": [
      "\n"
     ]
    },
    {
     "name": "stdout",
     "output_type": "stream",
     "text": [
      "\n",
      "      Epoch    GPU_mem   box_loss   seg_loss   cls_loss   dfl_loss  Instances       Size\n"
     ]
    },
    {
     "name": "stderr",
     "output_type": "stream",
     "text": [
      "     83/100      6.67G     0.6479       1.05     0.3159     0.9962         26        640: 100%|██████████| 112/112 [00:17<00:00,  6.53it/s]\n",
      "                 Class     Images  Instances      Box(P          R      mAP50  mAP50-95)     Mask(P          R      mAP50  mAP50-95): 100%|██████████| 5/5 [00:00<00:00,  7.47it/s]"
     ]
    },
    {
     "name": "stdout",
     "output_type": "stream",
     "text": [
      "                   all         75        150      0.849      0.839      0.835      0.607       0.87      0.859      0.858       0.59\n"
     ]
    },
    {
     "name": "stderr",
     "output_type": "stream",
     "text": [
      "\n"
     ]
    },
    {
     "name": "stdout",
     "output_type": "stream",
     "text": [
      "\n",
      "      Epoch    GPU_mem   box_loss   seg_loss   cls_loss   dfl_loss  Instances       Size\n"
     ]
    },
    {
     "name": "stderr",
     "output_type": "stream",
     "text": [
      "     84/100      6.61G     0.6457      1.042     0.3154      1.007         23        640: 100%|██████████| 112/112 [00:17<00:00,  6.46it/s]\n",
      "                 Class     Images  Instances      Box(P          R      mAP50  mAP50-95)     Mask(P          R      mAP50  mAP50-95): 100%|██████████| 5/5 [00:00<00:00,  6.81it/s]"
     ]
    },
    {
     "name": "stdout",
     "output_type": "stream",
     "text": [
      "                   all         75        150      0.839      0.826      0.797      0.592      0.874      0.859      0.851      0.582\n"
     ]
    },
    {
     "name": "stderr",
     "output_type": "stream",
     "text": [
      "\n"
     ]
    },
    {
     "name": "stdout",
     "output_type": "stream",
     "text": [
      "\n",
      "      Epoch    GPU_mem   box_loss   seg_loss   cls_loss   dfl_loss  Instances       Size\n"
     ]
    },
    {
     "name": "stderr",
     "output_type": "stream",
     "text": [
      "     85/100      6.67G     0.6394      1.027     0.3121          1         16        640: 100%|██████████| 112/112 [00:17<00:00,  6.31it/s]\n",
      "                 Class     Images  Instances      Box(P          R      mAP50  mAP50-95)     Mask(P          R      mAP50  mAP50-95): 100%|██████████| 5/5 [00:00<00:00,  7.46it/s]"
     ]
    },
    {
     "name": "stdout",
     "output_type": "stream",
     "text": [
      "                   all         75        150      0.837      0.832      0.792       0.59      0.844      0.839      0.808      0.577\n"
     ]
    },
    {
     "name": "stderr",
     "output_type": "stream",
     "text": [
      "\n"
     ]
    },
    {
     "name": "stdout",
     "output_type": "stream",
     "text": [
      "\n",
      "      Epoch    GPU_mem   box_loss   seg_loss   cls_loss   dfl_loss  Instances       Size\n"
     ]
    },
    {
     "name": "stderr",
     "output_type": "stream",
     "text": [
      "     86/100      6.64G     0.6272      1.025     0.3088     0.9959         15        640: 100%|██████████| 112/112 [00:17<00:00,  6.46it/s]\n",
      "                 Class     Images  Instances      Box(P          R      mAP50  mAP50-95)     Mask(P          R      mAP50  mAP50-95): 100%|██████████| 5/5 [00:00<00:00,  7.44it/s]"
     ]
    },
    {
     "name": "stdout",
     "output_type": "stream",
     "text": [
      "                   all         75        150      0.844      0.833      0.818      0.603      0.874       0.86      0.841       0.59\n"
     ]
    },
    {
     "name": "stderr",
     "output_type": "stream",
     "text": [
      "\n"
     ]
    },
    {
     "name": "stdout",
     "output_type": "stream",
     "text": [
      "\n",
      "      Epoch    GPU_mem   box_loss   seg_loss   cls_loss   dfl_loss  Instances       Size\n"
     ]
    },
    {
     "name": "stderr",
     "output_type": "stream",
     "text": [
      "     87/100      6.66G     0.6266      1.007     0.3136     0.9924         16        640: 100%|██████████| 112/112 [00:17<00:00,  6.51it/s]\n",
      "                 Class     Images  Instances      Box(P          R      mAP50  mAP50-95)     Mask(P          R      mAP50  mAP50-95): 100%|██████████| 5/5 [00:00<00:00,  7.32it/s]"
     ]
    },
    {
     "name": "stdout",
     "output_type": "stream",
     "text": [
      "                   all         75        150      0.804      0.784      0.781      0.588      0.848      0.824       0.84      0.569\n"
     ]
    },
    {
     "name": "stderr",
     "output_type": "stream",
     "text": [
      "\n"
     ]
    },
    {
     "name": "stdout",
     "output_type": "stream",
     "text": [
      "\n",
      "      Epoch    GPU_mem   box_loss   seg_loss   cls_loss   dfl_loss  Instances       Size\n"
     ]
    },
    {
     "name": "stderr",
     "output_type": "stream",
     "text": [
      "     88/100      6.63G     0.6074      1.006     0.3002     0.9879         27        640: 100%|██████████| 112/112 [00:17<00:00,  6.32it/s]\n",
      "                 Class     Images  Instances      Box(P          R      mAP50  mAP50-95)     Mask(P          R      mAP50  mAP50-95): 100%|██████████| 5/5 [00:00<00:00,  7.05it/s]"
     ]
    },
    {
     "name": "stdout",
     "output_type": "stream",
     "text": [
      "                   all         75        150       0.86      0.847      0.839      0.608      0.894      0.873      0.873      0.604\n"
     ]
    },
    {
     "name": "stderr",
     "output_type": "stream",
     "text": [
      "\n"
     ]
    },
    {
     "name": "stdout",
     "output_type": "stream",
     "text": [
      "\n",
      "      Epoch    GPU_mem   box_loss   seg_loss   cls_loss   dfl_loss  Instances       Size\n"
     ]
    },
    {
     "name": "stderr",
     "output_type": "stream",
     "text": [
      "     89/100      6.65G     0.6221      1.009     0.3082     0.9996         21        640: 100%|██████████| 112/112 [00:17<00:00,  6.46it/s]\n",
      "                 Class     Images  Instances      Box(P          R      mAP50  mAP50-95)     Mask(P          R      mAP50  mAP50-95): 100%|██████████| 5/5 [00:00<00:00,  7.63it/s]"
     ]
    },
    {
     "name": "stdout",
     "output_type": "stream",
     "text": [
      "                   all         75        150      0.868       0.84       0.85      0.612      0.904      0.873      0.881      0.604\n"
     ]
    },
    {
     "name": "stderr",
     "output_type": "stream",
     "text": [
      "\n"
     ]
    },
    {
     "name": "stdout",
     "output_type": "stream",
     "text": [
      "\n",
      "      Epoch    GPU_mem   box_loss   seg_loss   cls_loss   dfl_loss  Instances       Size\n"
     ]
    },
    {
     "name": "stderr",
     "output_type": "stream",
     "text": [
      "     90/100      6.62G     0.6123     0.9927     0.3033     0.9907         16        640: 100%|██████████| 112/112 [00:17<00:00,  6.55it/s]\n",
      "                 Class     Images  Instances      Box(P          R      mAP50  mAP50-95)     Mask(P          R      mAP50  mAP50-95): 100%|██████████| 5/5 [00:00<00:00,  7.67it/s]"
     ]
    },
    {
     "name": "stdout",
     "output_type": "stream",
     "text": [
      "                   all         75        150      0.843      0.838      0.817      0.605      0.863      0.858       0.84      0.587\n"
     ]
    },
    {
     "name": "stderr",
     "output_type": "stream",
     "text": [
      "\n"
     ]
    },
    {
     "name": "stdout",
     "output_type": "stream",
     "text": [
      "Closing dataloader mosaic\n",
      "\n",
      "      Epoch    GPU_mem   box_loss   seg_loss   cls_loss   dfl_loss  Instances       Size\n"
     ]
    },
    {
     "name": "stderr",
     "output_type": "stream",
     "text": [
      "     91/100      6.61G     0.6099       1.02     0.2821      1.011         12        640: 100%|██████████| 112/112 [00:17<00:00,  6.26it/s]\n",
      "                 Class     Images  Instances      Box(P          R      mAP50  mAP50-95)     Mask(P          R      mAP50  mAP50-95): 100%|██████████| 5/5 [00:00<00:00,  7.65it/s]"
     ]
    },
    {
     "name": "stdout",
     "output_type": "stream",
     "text": [
      "                   all         75        150      0.824      0.807      0.784      0.592      0.831      0.813      0.798      0.569\n"
     ]
    },
    {
     "name": "stderr",
     "output_type": "stream",
     "text": [
      "\n"
     ]
    },
    {
     "name": "stdout",
     "output_type": "stream",
     "text": [
      "\n",
      "      Epoch    GPU_mem   box_loss   seg_loss   cls_loss   dfl_loss  Instances       Size\n"
     ]
    },
    {
     "name": "stderr",
     "output_type": "stream",
     "text": [
      "     92/100      6.63G     0.5979     0.9875     0.2762     0.9897         12        640: 100%|██████████| 112/112 [00:17<00:00,  6.38it/s]\n",
      "                 Class     Images  Instances      Box(P          R      mAP50  mAP50-95)     Mask(P          R      mAP50  mAP50-95): 100%|██████████| 5/5 [00:00<00:00,  7.13it/s]"
     ]
    },
    {
     "name": "stdout",
     "output_type": "stream",
     "text": [
      "                   all         75        150       0.79      0.791      0.744      0.591      0.817      0.818      0.796      0.578\n"
     ]
    },
    {
     "name": "stderr",
     "output_type": "stream",
     "text": [
      "\n"
     ]
    },
    {
     "name": "stdout",
     "output_type": "stream",
     "text": [
      "\n",
      "      Epoch    GPU_mem   box_loss   seg_loss   cls_loss   dfl_loss  Instances       Size\n"
     ]
    },
    {
     "name": "stderr",
     "output_type": "stream",
     "text": [
      "     93/100       6.6G     0.5852     0.9764     0.2726     0.9941         12        640: 100%|██████████| 112/112 [00:17<00:00,  6.55it/s]\n",
      "                 Class     Images  Instances      Box(P          R      mAP50  mAP50-95)     Mask(P          R      mAP50  mAP50-95): 100%|██████████| 5/5 [00:00<00:00,  6.97it/s]"
     ]
    },
    {
     "name": "stdout",
     "output_type": "stream",
     "text": [
      "                   all         75        150      0.805        0.8      0.767      0.595      0.833      0.827      0.809      0.589\n"
     ]
    },
    {
     "name": "stderr",
     "output_type": "stream",
     "text": [
      "\n"
     ]
    },
    {
     "name": "stdout",
     "output_type": "stream",
     "text": [
      "\n",
      "      Epoch    GPU_mem   box_loss   seg_loss   cls_loss   dfl_loss  Instances       Size\n"
     ]
    },
    {
     "name": "stderr",
     "output_type": "stream",
     "text": [
      "     94/100      6.61G     0.5731     0.9746     0.2672     0.9871         12        640: 100%|██████████| 112/112 [00:17<00:00,  6.50it/s]\n",
      "                 Class     Images  Instances      Box(P          R      mAP50  mAP50-95)     Mask(P          R      mAP50  mAP50-95): 100%|██████████| 5/5 [00:00<00:00,  7.64it/s]"
     ]
    },
    {
     "name": "stdout",
     "output_type": "stream",
     "text": [
      "                   all         75        150      0.785      0.773      0.749      0.593      0.821      0.807      0.792      0.576\n"
     ]
    },
    {
     "name": "stderr",
     "output_type": "stream",
     "text": [
      "\n"
     ]
    },
    {
     "name": "stdout",
     "output_type": "stream",
     "text": [
      "\n",
      "      Epoch    GPU_mem   box_loss   seg_loss   cls_loss   dfl_loss  Instances       Size\n"
     ]
    },
    {
     "name": "stderr",
     "output_type": "stream",
     "text": [
      "     95/100      6.61G     0.5713     0.9608     0.2651     0.9843         12        640: 100%|██████████| 112/112 [00:17<00:00,  6.55it/s]\n",
      "                 Class     Images  Instances      Box(P          R      mAP50  mAP50-95)     Mask(P          R      mAP50  mAP50-95): 100%|██████████| 5/5 [00:00<00:00,  7.62it/s]"
     ]
    },
    {
     "name": "stdout",
     "output_type": "stream",
     "text": [
      "                   all         75        150      0.822        0.8      0.794      0.599      0.836      0.813      0.806      0.583\n"
     ]
    },
    {
     "name": "stderr",
     "output_type": "stream",
     "text": [
      "\n"
     ]
    },
    {
     "name": "stdout",
     "output_type": "stream",
     "text": [
      "\n",
      "      Epoch    GPU_mem   box_loss   seg_loss   cls_loss   dfl_loss  Instances       Size\n"
     ]
    },
    {
     "name": "stderr",
     "output_type": "stream",
     "text": [
      "     96/100      6.61G     0.5641     0.9543     0.2627     0.9798         12        640: 100%|██████████| 112/112 [00:17<00:00,  6.45it/s]\n",
      "                 Class     Images  Instances      Box(P          R      mAP50  mAP50-95)     Mask(P          R      mAP50  mAP50-95): 100%|██████████| 5/5 [00:00<00:00,  7.44it/s]"
     ]
    },
    {
     "name": "stdout",
     "output_type": "stream",
     "text": [
      "                   all         75        150       0.86      0.815      0.815      0.607      0.852      0.809      0.819      0.581\n"
     ]
    },
    {
     "name": "stderr",
     "output_type": "stream",
     "text": [
      "\n"
     ]
    },
    {
     "name": "stdout",
     "output_type": "stream",
     "text": [
      "\n",
      "      Epoch    GPU_mem   box_loss   seg_loss   cls_loss   dfl_loss  Instances       Size\n"
     ]
    },
    {
     "name": "stderr",
     "output_type": "stream",
     "text": [
      "     97/100      6.61G     0.5632     0.9422     0.2616     0.9821         12        640: 100%|██████████| 112/112 [00:17<00:00,  6.44it/s]\n",
      "                 Class     Images  Instances      Box(P          R      mAP50  mAP50-95)     Mask(P          R      mAP50  mAP50-95): 100%|██████████| 5/5 [00:00<00:00,  7.68it/s]"
     ]
    },
    {
     "name": "stdout",
     "output_type": "stream",
     "text": [
      "                   all         75        150       0.83      0.829      0.818      0.615      0.851      0.848      0.834      0.594\n"
     ]
    },
    {
     "name": "stderr",
     "output_type": "stream",
     "text": [
      "\n"
     ]
    },
    {
     "name": "stdout",
     "output_type": "stream",
     "text": [
      "\n",
      "      Epoch    GPU_mem   box_loss   seg_loss   cls_loss   dfl_loss  Instances       Size\n"
     ]
    },
    {
     "name": "stderr",
     "output_type": "stream",
     "text": [
      "     98/100       6.6G     0.5531     0.9403     0.2602     0.9763         12        640: 100%|██████████| 112/112 [00:17<00:00,  6.52it/s]\n",
      "                 Class     Images  Instances      Box(P          R      mAP50  mAP50-95)     Mask(P          R      mAP50  mAP50-95): 100%|██████████| 5/5 [00:00<00:00,  7.68it/s]"
     ]
    },
    {
     "name": "stdout",
     "output_type": "stream",
     "text": [
      "                   all         75        150      0.837      0.797      0.791      0.605      0.867      0.822      0.829       0.59\n"
     ]
    },
    {
     "name": "stderr",
     "output_type": "stream",
     "text": [
      "\n"
     ]
    },
    {
     "name": "stdout",
     "output_type": "stream",
     "text": [
      "\n",
      "      Epoch    GPU_mem   box_loss   seg_loss   cls_loss   dfl_loss  Instances       Size\n"
     ]
    },
    {
     "name": "stderr",
     "output_type": "stream",
     "text": [
      "     99/100      6.62G     0.5416     0.9274     0.2545     0.9703         12        640: 100%|██████████| 112/112 [00:17<00:00,  6.57it/s]\n",
      "                 Class     Images  Instances      Box(P          R      mAP50  mAP50-95)     Mask(P          R      mAP50  mAP50-95): 100%|██████████| 5/5 [00:00<00:00,  7.29it/s]"
     ]
    },
    {
     "name": "stdout",
     "output_type": "stream",
     "text": [
      "                   all         75        150      0.833      0.793      0.791      0.602      0.863       0.82      0.842      0.585\n"
     ]
    },
    {
     "name": "stderr",
     "output_type": "stream",
     "text": [
      "\n"
     ]
    },
    {
     "name": "stdout",
     "output_type": "stream",
     "text": [
      "\n",
      "      Epoch    GPU_mem   box_loss   seg_loss   cls_loss   dfl_loss  Instances       Size\n"
     ]
    },
    {
     "name": "stderr",
     "output_type": "stream",
     "text": [
      "    100/100      6.62G     0.5435     0.9223     0.2568     0.9623         12        640: 100%|██████████| 112/112 [00:17<00:00,  6.52it/s]\n",
      "                 Class     Images  Instances      Box(P          R      mAP50  mAP50-95)     Mask(P          R      mAP50  mAP50-95): 100%|██████████| 5/5 [00:00<00:00,  7.73it/s]"
     ]
    },
    {
     "name": "stdout",
     "output_type": "stream",
     "text": [
      "                   all         75        150       0.83      0.826      0.802      0.603      0.864      0.859       0.86      0.586\n"
     ]
    },
    {
     "name": "stderr",
     "output_type": "stream",
     "text": [
      "\n"
     ]
    },
    {
     "name": "stdout",
     "output_type": "stream",
     "text": [
      "\n",
      "100 epochs completed in 0.536 hours.\n",
      "Optimizer stripped from runs\\segment\\train12\\weights\\last.pt, 56.2MB\n",
      "Optimizer stripped from runs\\segment\\train12\\weights\\best.pt, 56.2MB\n",
      "\n",
      "Validating runs\\segment\\train12\\weights\\best.pt...\n",
      "Ultralytics YOLOv8.2.98  Python-3.12.4 torch-2.4.1 CUDA:0 (NVIDIA GeForce RTX 4080 SUPER, 16376MiB)\n",
      "YOLOv9c-seg summary (fused): 411 layers, 27,626,070 parameters, 0 gradients, 157.6 GFLOPs\n"
     ]
    },
    {
     "name": "stderr",
     "output_type": "stream",
     "text": [
      "                 Class     Images  Instances      Box(P          R      mAP50  mAP50-95)     Mask(P          R      mAP50  mAP50-95): 100%|██████████| 5/5 [00:01<00:00,  4.70it/s]\n"
     ]
    },
    {
     "name": "stdout",
     "output_type": "stream",
     "text": [
      "                   all         75        150      0.844      0.813      0.822      0.626      0.888      0.853      0.867      0.602\n",
      "                    ab         75         75       0.99          1      0.995      0.982       0.99          1      0.995      0.927\n",
      "                    mc         75         75      0.697      0.627      0.648       0.27      0.787      0.707      0.739      0.277\n",
      "Speed: 0.8ms preprocess, 5.4ms inference, 0.0ms loss, 1.4ms postprocess per image\n",
      "Results saved to \u001b[1mruns\\segment\\train12\u001b[0m\n"
     ]
    }
   ],
   "source": [
    "result = model.train(data=\"C:\\\\5025211148\\\\YOLOv9-Segmentation\\\\merge-inez-1\\\\data.yaml\", epochs=100, imgsz=640, batch=8)"
   ]
  },
  {
   "cell_type": "code",
   "execution_count": 13,
   "metadata": {},
   "outputs": [
    {
     "name": "stdout",
     "output_type": "stream",
     "text": [
      "\n",
      "image 1/1 C:\\5025211148\\YOLOv9-Segmentation\\merge-inez-1\\valid\\images\\slice_2_png.rf.773ebb3973e8d24b3610d7d5889312bf.jpg: 640x640 1 ab, 44.4ms\n",
      "Speed: 2.0ms preprocess, 44.4ms inference, 6.1ms postprocess per image at shape (1, 3, 640, 640)\n"
     ]
    },
    {
     "data": {
      "image/png": "[encoded data removed]",
      "text/plain": [
       "<Figure size 640x480 with 1 Axes>"
      ]
     },
     "metadata": {},
     "output_type": "display_data"
    }
   ],
   "source": [
    "import cv2\n",
    "import matplotlib.pyplot as plt\n",
    "%matplotlib inline\n",
    "from ultralytics import YOLO\n",
    "\n",
    "model = YOLO(\"C:\\\\5025211148\\\\YOLOv9-Segmentation\\\\runs\\\\segment\\\\train12\\\\weights\\\\best.pt\")  # load a custom model\n",
    "\n",
    "# Predict with the model\n",
    "results = model(\"C:\\\\5025211148\\\\YOLOv9-Segmentation\\\\merge-inez-1\\\\valid\\\\images\\\\slice_2_png.rf.773ebb3973e8d24b3610d7d5889312bf.jpg\")\n",
    "\n",
    "\n",
    "predicted_img = results[0].plot()\n",
    "output_dir = \"C:\\\\5025211148\\\\YOLOv9-Segmentation\\\\runs\\\\segment\\\\predict\"\n",
    "os.makedirs(output_dir, exist_ok=True)\n",
    "\n",
    "output_image_path = os.path.join(output_dir, \"predicted.jpg\")\n",
    "\n",
    "cv2.imwrite(output_image_path, predicted_img)\n",
    "\n",
    "predicted_img_rgb = cv2.cvtColor(predicted_img, cv2.COLOR_BGR2RGB)\n",
    "\n",
    "plt.imshow(predicted_img_rgb)\n",
    "plt.axis('off')  # Hilangkan sumbu\n",
    "plt.show()"
   ]
  },
  {
   "cell_type": "code",
   "execution_count": 12,
   "metadata": {},
   "outputs": [],
   "source": [
    "model_path = r'C:\\\\5025211148\\\\YOLOv9-Segmentation\\\\runs\\\\segment\\\\train12\\\\weights\\\\best.pt'\n",
    "valid_path = r'C:\\\\5025211148\\\\YOLOv9-Segmentation\\\\merge-inez-1\\\\valid\\\\images'\n",
    "ground_truth_path = r'C:\\\\5025211148\\\\YOLOv9-Segmentation\\\\merge-inez-1\\\\valid\\\\labels'\n",
    "gt_AB_path = r\"C:\\\\5025211148\\\\YOLOv9-Segmentation\\\\Dataset Train Val\\\\gt-AB\"\n",
    "gt_MC_path = r\"C:\\\\5025211148\\\\YOLOv9-Segmentation\\\\Dataset Train Val\\\\gt-MC\"\n",
    "\n",
    "segmented_AB_path = fr'C:\\\\5025211148\\\\YOLOv9-Segmentation\\\\segmented_AB'\n",
    "segmented_AB_path_2 = r'C:\\\\5025211148\\\\YOLOv9-Segmentation\\\\segmented_AB'\n",
    "segmented_AB_npy = r'C:\\\\5025211148\\\\YOLOv9-Segmentation\\\\yolov9c-segmented_AB.npy'\n",
    "\n",
    "segmented_MC_path = fr'C:\\\\5025211148\\\\YOLOv9-Segmentation\\\\segmented_MC'\n",
    "segmented_MC_path_2 = r'C:\\\\5025211148\\\\YOLOv9-Segmentation\\\\segmented_MC'\n",
    "segmented_MC_npy = r'C:\\\\5025211148\\\\YOLOv9-Segmentation\\\\yolov9c-segmented_MC.npy'\n",
    "\n",
    "for path in [gt_AB_path, gt_MC_path, segmented_AB_path, segmented_MC_path]:\n",
    "  os.makedirs(path, exist_ok=True)"
   ]
  },
  {
   "cell_type": "code",
   "execution_count": 13,
   "metadata": {},
   "outputs": [
    {
     "name": "stdout",
     "output_type": "stream",
     "text": [
      "C:\\\\5025211148\\\\YOLOv9-Segmentation\\\\merge-inez-1\\\\valid\\\\images\\slice_0_png.rf.b6a308ad17de783c210d9ceb410d76a1.jpg\n",
      "C:\\\\5025211148\\\\YOLOv9-Segmentation\\\\merge-inez-1\\\\valid\\\\images\\slice_1_png.rf.813ec633aebc1e939b902b040068a91a.jpg\n",
      "C:\\\\5025211148\\\\YOLOv9-Segmentation\\\\merge-inez-1\\\\valid\\\\images\\slice_2_png.rf.773ebb3973e8d24b3610d7d5889312bf.jpg\n",
      "C:\\\\5025211148\\\\YOLOv9-Segmentation\\\\merge-inez-1\\\\valid\\\\images\\slice_3_png.rf.2b7ac0dccdcc3241e2441dcdfe40b19a.jpg\n",
      "C:\\\\5025211148\\\\YOLOv9-Segmentation\\\\merge-inez-1\\\\valid\\\\images\\slice_4_png.rf.ed9951865dd8c8e9c4bb357b12d90bf3.jpg\n",
      "C:\\\\5025211148\\\\YOLOv9-Segmentation\\\\merge-inez-1\\\\valid\\\\images\\slice_5_png.rf.fa534a063f0865aba05bfb1f39bf17f1.jpg\n",
      "C:\\\\5025211148\\\\YOLOv9-Segmentation\\\\merge-inez-1\\\\valid\\\\images\\slice_6_png.rf.69513226c67a48924c9727490a40871b.jpg\n",
      "C:\\\\5025211148\\\\YOLOv9-Segmentation\\\\merge-inez-1\\\\valid\\\\images\\slice_7_png.rf.911a9c8ba0e64b11ffd5e11ceb31250e.jpg\n",
      "C:\\\\5025211148\\\\YOLOv9-Segmentation\\\\merge-inez-1\\\\valid\\\\images\\slice_8_png.rf.08bf826fea5c4ff01a4a4d1f987b7af6.jpg\n",
      "C:\\\\5025211148\\\\YOLOv9-Segmentation\\\\merge-inez-1\\\\valid\\\\images\\slice_9_png.rf.7b263d87fcdea007b3b78938772a24a5.jpg\n",
      "C:\\\\5025211148\\\\YOLOv9-Segmentation\\\\merge-inez-1\\\\valid\\\\images\\slice_10_png.rf.8cfc23276c5e0a0a9c082a84937bbfa9.jpg\n",
      "C:\\\\5025211148\\\\YOLOv9-Segmentation\\\\merge-inez-1\\\\valid\\\\images\\slice_11_png.rf.2f4ba45901be13bdd4a6d27191f04632.jpg\n",
      "C:\\\\5025211148\\\\YOLOv9-Segmentation\\\\merge-inez-1\\\\valid\\\\images\\slice_12_png.rf.e697ea8e2a874fe7e9b6625b141d770f.jpg\n",
      "C:\\\\5025211148\\\\YOLOv9-Segmentation\\\\merge-inez-1\\\\valid\\\\images\\slice_13_png.rf.3e77ef333ad7540a2e71c11b85729e94.jpg\n",
      "C:\\\\5025211148\\\\YOLOv9-Segmentation\\\\merge-inez-1\\\\valid\\\\images\\slice_14_png.rf.d4246e1825c0cc584de095d27ae0ba29.jpg\n",
      "C:\\\\5025211148\\\\YOLOv9-Segmentation\\\\merge-inez-1\\\\valid\\\\images\\slice_15_png.rf.08dca079baea99e2094955b7bca56721.jpg\n",
      "C:\\\\5025211148\\\\YOLOv9-Segmentation\\\\merge-inez-1\\\\valid\\\\images\\slice_16_png.rf.5505cc7edadd735a4051c540ba652f82.jpg\n",
      "C:\\\\5025211148\\\\YOLOv9-Segmentation\\\\merge-inez-1\\\\valid\\\\images\\slice_184_jpg.rf.fb7007d3aec48c5887b58c4b1f251982.jpg\n",
      "C:\\\\5025211148\\\\YOLOv9-Segmentation\\\\merge-inez-1\\\\valid\\\\images\\slice_185_jpg.rf.c259553f5c57f7ea65f5ec81e559a32a.jpg\n",
      "C:\\\\5025211148\\\\YOLOv9-Segmentation\\\\merge-inez-1\\\\valid\\\\images\\slice_186_jpg.rf.7fea4a8ac7a43acb2f28d29a8c9e2b18.jpg\n",
      "C:\\\\5025211148\\\\YOLOv9-Segmentation\\\\merge-inez-1\\\\valid\\\\images\\slice_187_jpg.rf.9abf8d193ac601a0c952ef8160a9a2f3.jpg\n",
      "C:\\\\5025211148\\\\YOLOv9-Segmentation\\\\merge-inez-1\\\\valid\\\\images\\slice_188_jpg.rf.5fbe759a3a7c1fde7f222c92ef628ffc.jpg\n",
      "C:\\\\5025211148\\\\YOLOv9-Segmentation\\\\merge-inez-1\\\\valid\\\\images\\slice_189_jpg.rf.c1670c9fd948cb7906245cbbfe3f3ed5.jpg\n",
      "C:\\\\5025211148\\\\YOLOv9-Segmentation\\\\merge-inez-1\\\\valid\\\\images\\slice_190_jpg.rf.ad95785b57764989b3cd348bf7ebf3df.jpg\n",
      "C:\\\\5025211148\\\\YOLOv9-Segmentation\\\\merge-inez-1\\\\valid\\\\images\\slice_191_jpg.rf.0ee9ad54909660dc8183df6b1a9d936d.jpg\n",
      "C:\\\\5025211148\\\\YOLOv9-Segmentation\\\\merge-inez-1\\\\valid\\\\images\\slice_192_jpg.rf.5f98ffbe0c04578941047e31680f4ac8.jpg\n",
      "C:\\\\5025211148\\\\YOLOv9-Segmentation\\\\merge-inez-1\\\\valid\\\\images\\slice_193_jpg.rf.997bde128c89a09bddde6eede7136af8.jpg\n",
      "C:\\\\5025211148\\\\YOLOv9-Segmentation\\\\merge-inez-1\\\\valid\\\\images\\slice_194_jpg.rf.510119948c76ce4b0ba77184428b99a1.jpg\n",
      "C:\\\\5025211148\\\\YOLOv9-Segmentation\\\\merge-inez-1\\\\valid\\\\images\\slice_195_jpg.rf.4bdeee9e3f4907b631f508bcec563dc2.jpg\n",
      "C:\\\\5025211148\\\\YOLOv9-Segmentation\\\\merge-inez-1\\\\valid\\\\images\\slice_196_jpg.rf.dc89629b77d81e3226e63a87afeecfc7.jpg\n",
      "C:\\\\5025211148\\\\YOLOv9-Segmentation\\\\merge-inez-1\\\\valid\\\\images\\slice_197_jpg.rf.9ce57987bde90784b202fe9e6d7c481e.jpg\n",
      "C:\\\\5025211148\\\\YOLOv9-Segmentation\\\\merge-inez-1\\\\valid\\\\images\\slice_198_jpg.rf.6b58b1ba2b6b73b61ba979f22fb46caf.jpg\n",
      "C:\\\\5025211148\\\\YOLOv9-Segmentation\\\\merge-inez-1\\\\valid\\\\images\\slice_199_jpg.rf.26f48bd8f377db569234a70975b06f44.jpg\n",
      "C:\\\\5025211148\\\\YOLOv9-Segmentation\\\\merge-inez-1\\\\valid\\\\images\\slice_200_jpg.rf.7a651a02064be38cf08502236c43f762.jpg\n",
      "C:\\\\5025211148\\\\YOLOv9-Segmentation\\\\merge-inez-1\\\\valid\\\\images\\slice_201_jpg.rf.405030fbbb0b7c68d0450b10c48f32b3.jpg\n",
      "C:\\\\5025211148\\\\YOLOv9-Segmentation\\\\merge-inez-1\\\\valid\\\\images\\slice_202_jpg.rf.f7e659f04a40049e6cba5239c0ca41fe.jpg\n",
      "C:\\\\5025211148\\\\YOLOv9-Segmentation\\\\merge-inez-1\\\\valid\\\\images\\slice_203_jpg.rf.e5030f4868e53e80acb8f21aef7489f9.jpg\n",
      "C:\\\\5025211148\\\\YOLOv9-Segmentation\\\\merge-inez-1\\\\valid\\\\images\\slice_204_jpg.rf.379e8a1abf3842f461423e8e76141932.jpg\n",
      "C:\\\\5025211148\\\\YOLOv9-Segmentation\\\\merge-inez-1\\\\valid\\\\images\\slice_205_jpg.rf.91c7f454ebef22c3ff8ce5727bba228e.jpg\n",
      "C:\\\\5025211148\\\\YOLOv9-Segmentation\\\\merge-inez-1\\\\valid\\\\images\\slice_206_jpg.rf.5b4192b7ef82aad37ac4d99ed13e2ee2.jpg\n",
      "C:\\\\5025211148\\\\YOLOv9-Segmentation\\\\merge-inez-1\\\\valid\\\\images\\slice_207_jpg.rf.6c10293c5a5cc5871fe43008a8840e3b.jpg\n",
      "C:\\\\5025211148\\\\YOLOv9-Segmentation\\\\merge-inez-1\\\\valid\\\\images\\slice_208_jpg.rf.474a2cc7da8963637f4a10d5518ef23b.jpg\n",
      "C:\\\\5025211148\\\\YOLOv9-Segmentation\\\\merge-inez-1\\\\valid\\\\images\\slice_209_jpg.rf.8931044812d6e143d00fc94414dc965c.jpg\n",
      "C:\\\\5025211148\\\\YOLOv9-Segmentation\\\\merge-inez-1\\\\valid\\\\images\\slice_210_jpg.rf.2f1e8d2936842397afbbace9a9c9ace1.jpg\n",
      "C:\\\\5025211148\\\\YOLOv9-Segmentation\\\\merge-inez-1\\\\valid\\\\images\\slice_211_jpg.rf.ce50dbaa10adb29f88ba7ce96c4b28e3.jpg\n",
      "C:\\\\5025211148\\\\YOLOv9-Segmentation\\\\merge-inez-1\\\\valid\\\\images\\slice_212_jpg.rf.fa999268d1357cfe3baf7f66d218858a.jpg\n",
      "C:\\\\5025211148\\\\YOLOv9-Segmentation\\\\merge-inez-1\\\\valid\\\\images\\slice_227_jpg.rf.47e302d51c39b996e9aa5c2457568e72.jpg\n",
      "C:\\\\5025211148\\\\YOLOv9-Segmentation\\\\merge-inez-1\\\\valid\\\\images\\slice_228_jpg.rf.d6fa4e941fd8ee957cb2fa40d1617dcd.jpg\n",
      "C:\\\\5025211148\\\\YOLOv9-Segmentation\\\\merge-inez-1\\\\valid\\\\images\\slice_229_jpg.rf.c4406e3223457b9d82da77009e090083.jpg\n",
      "C:\\\\5025211148\\\\YOLOv9-Segmentation\\\\merge-inez-1\\\\valid\\\\images\\slice_230_jpg.rf.c38851d2bc1de61efaff2c6a0c6a533b.jpg\n",
      "C:\\\\5025211148\\\\YOLOv9-Segmentation\\\\merge-inez-1\\\\valid\\\\images\\slice_231_jpg.rf.5a943022fe92bf999159d5a80fdfaa3c.jpg\n",
      "C:\\\\5025211148\\\\YOLOv9-Segmentation\\\\merge-inez-1\\\\valid\\\\images\\slice_232_jpg.rf.36559349f65c59474e2c273ef3a1895f.jpg\n",
      "C:\\\\5025211148\\\\YOLOv9-Segmentation\\\\merge-inez-1\\\\valid\\\\images\\slice_233_jpg.rf.21c7a2018478f98c4170d84b9d900a8b.jpg\n",
      "C:\\\\5025211148\\\\YOLOv9-Segmentation\\\\merge-inez-1\\\\valid\\\\images\\slice_234_jpg.rf.8376c291224523f2379285e6739f8508.jpg\n",
      "C:\\\\5025211148\\\\YOLOv9-Segmentation\\\\merge-inez-1\\\\valid\\\\images\\slice_234_jpg.rf.8c97c306d89d4aea1956db536d9ae8da.jpg\n",
      "C:\\\\5025211148\\\\YOLOv9-Segmentation\\\\merge-inez-1\\\\valid\\\\images\\slice_235_jpg.rf.7a0cd7f426f4c0b16065120adc6c63f0.jpg\n",
      "C:\\\\5025211148\\\\YOLOv9-Segmentation\\\\merge-inez-1\\\\valid\\\\images\\slice_236_jpg.rf.baef61c5ff250c1d85dc3ee096660de8.jpg\n",
      "C:\\\\5025211148\\\\YOLOv9-Segmentation\\\\merge-inez-1\\\\valid\\\\images\\slice_237_jpg.rf.b9610d515a5437097ad9d6ec26739bd9.jpg\n",
      "C:\\\\5025211148\\\\YOLOv9-Segmentation\\\\merge-inez-1\\\\valid\\\\images\\slice_238_jpg.rf.6025395d22a4004b13a3f9b376079bb8.jpg\n",
      "C:\\\\5025211148\\\\YOLOv9-Segmentation\\\\merge-inez-1\\\\valid\\\\images\\slice_239_jpg.rf.b6d73c66406e62a091551a6d3ccce095.jpg\n",
      "C:\\\\5025211148\\\\YOLOv9-Segmentation\\\\merge-inez-1\\\\valid\\\\images\\slice_239_jpg.rf.bd8f5271a858f2a277c210f5e04a86df.jpg\n",
      "C:\\\\5025211148\\\\YOLOv9-Segmentation\\\\merge-inez-1\\\\valid\\\\images\\slice_240_jpg.rf.0aa788cdb7219a189ea9e4b9a53b996a.jpg\n",
      "C:\\\\5025211148\\\\YOLOv9-Segmentation\\\\merge-inez-1\\\\valid\\\\images\\slice_241_jpg.rf.5bb370de0c0c5a0a1298999b8269e4b4.jpg\n",
      "C:\\\\5025211148\\\\YOLOv9-Segmentation\\\\merge-inez-1\\\\valid\\\\images\\slice_241_jpg.rf.8e99851409db29bcb7433e96215d032f.jpg\n",
      "C:\\\\5025211148\\\\YOLOv9-Segmentation\\\\merge-inez-1\\\\valid\\\\images\\slice_242_jpg.rf.04473fce5585378c912db056877ef4be.jpg\n",
      "C:\\\\5025211148\\\\YOLOv9-Segmentation\\\\merge-inez-1\\\\valid\\\\images\\slice_243_jpg.rf.4e282c9d623df41fb28d1181aff460f7.jpg\n",
      "C:\\\\5025211148\\\\YOLOv9-Segmentation\\\\merge-inez-1\\\\valid\\\\images\\slice_243_jpg.rf.ae3d135830b986a680d9ef8fbe5441f9.jpg\n",
      "C:\\\\5025211148\\\\YOLOv9-Segmentation\\\\merge-inez-1\\\\valid\\\\images\\slice_244_jpg.rf.4a9409f3b5a33b7c702d348109c89c68.jpg\n",
      "C:\\\\5025211148\\\\YOLOv9-Segmentation\\\\merge-inez-1\\\\valid\\\\images\\slice_245_jpg.rf.69a1679f246e89e375a49ba7b2e03b67.jpg\n",
      "C:\\\\5025211148\\\\YOLOv9-Segmentation\\\\merge-inez-1\\\\valid\\\\images\\slice_245_jpg.rf.7280f92363a1b9f4c1b74a7079335c62.jpg\n",
      "C:\\\\5025211148\\\\YOLOv9-Segmentation\\\\merge-inez-1\\\\valid\\\\images\\slice_246_jpg.rf.1b3b7419434d4f2ffe8a69c66cc0eb7d.jpg\n",
      "C:\\\\5025211148\\\\YOLOv9-Segmentation\\\\merge-inez-1\\\\valid\\\\images\\slice_247_jpg.rf.0132c277c4d7f8c5c95ea3a595ba7315.jpg\n",
      "C:\\\\5025211148\\\\YOLOv9-Segmentation\\\\merge-inez-1\\\\valid\\\\images\\slice_248_jpg.rf.fe48f8cb5097a5c105f48b585f33a07a.jpg\n",
      "C:\\\\5025211148\\\\YOLOv9-Segmentation\\\\merge-inez-1\\\\valid\\\\images\\slice_250_jpg.rf.84d15643db599a8826b8ca7b5320dfc5.jpg\n",
      "C:\\\\5025211148\\\\YOLOv9-Segmentation\\\\merge-inez-1\\\\valid\\\\images\\slice_257_jpg.rf.1afa5d3faf30171b5a1ee38437f1cae5.jpg\n"
     ]
    }
   ],
   "source": [
    "import os\n",
    "import re\n",
    "\n",
    "# specify the directory path\n",
    "directory_path = valid_path\n",
    "\n",
    "# create an empty list to store the filenames with directory path\n",
    "file_list = []\n",
    "\n",
    "# iterate over the files in the directory\n",
    "for filename in os.listdir(directory_path):\n",
    "    # check if the item is a file\n",
    "    if os.path.isfile(os.path.join(directory_path, filename)):\n",
    "        # append the filename with directory path to the list\n",
    "        file_list.append(os.path.join(directory_path, filename))\n",
    "\n",
    "def extract_number(s):\n",
    "    match = re.search(r'slice_(\\d+)', s)  # Match 'slice_' followed by one or more digits\n",
    "    return int(match.group(1)) if match else float('inf')\n",
    "\n",
    "file_list = sorted(file_list, key=extract_number)\n",
    "for filename in file_list:\n",
    "    print(filename)\n",
    "# print(file_list)  # Output: sorted file_list with filenames like 'slice_0', 'slice_1', 'slice_2', etc.\n"
   ]
  },
  {
   "cell_type": "code",
   "execution_count": 14,
   "metadata": {},
   "outputs": [],
   "source": [
    "from ultralytics import YOLO\n",
    "\n",
    "# Load a model\n",
    "model = YOLO(model_path, task='segment')  # load a pretrained model (recommended for training)"
   ]
  },
  {
   "cell_type": "code",
   "execution_count": 15,
   "metadata": {},
   "outputs": [
    {
     "name": "stdout",
     "output_type": "stream",
     "text": [
      "\n",
      "0: 640x640 1 ab, 1 mc, 9.1ms\n",
      "1: 640x640 1 ab, 1 mc, 9.1ms\n",
      "2: 640x640 1 ab, 9.1ms\n",
      "3: 640x640 1 ab, 9.1ms\n",
      "4: 640x640 1 ab, 9.1ms\n",
      "5: 640x640 1 ab, 1 mc, 9.1ms\n",
      "6: 640x640 1 ab, 1 mc, 9.1ms\n",
      "7: 640x640 1 ab, 1 mc, 9.1ms\n",
      "8: 640x640 1 ab, 1 mc, 9.1ms\n",
      "9: 640x640 1 ab, 1 mc, 9.1ms\n",
      "10: 640x640 1 ab, 1 mc, 9.1ms\n",
      "11: 640x640 1 ab, 1 mc, 9.1ms\n",
      "12: 640x640 1 ab, 1 mc, 9.1ms\n",
      "13: 640x640 1 ab, 1 mc, 9.1ms\n",
      "14: 640x640 1 ab, 1 mc, 9.1ms\n",
      "15: 640x640 1 ab, 1 mc, 9.1ms\n",
      "16: 640x640 1 ab, 1 mc, 9.1ms\n",
      "17: 640x640 1 ab, 9.1ms\n",
      "18: 640x640 1 ab, 1 mc, 9.1ms\n",
      "19: 640x640 1 ab, 1 mc, 9.1ms\n",
      "20: 640x640 1 ab, 1 mc, 9.1ms\n",
      "21: 640x640 1 ab, 1 mc, 9.1ms\n",
      "22: 640x640 1 ab, 1 mc, 9.1ms\n",
      "23: 640x640 1 ab, 1 mc, 9.1ms\n",
      "24: 640x640 1 ab, 9.1ms\n",
      "25: 640x640 1 ab, 9.1ms\n",
      "26: 640x640 1 ab, 1 mc, 9.1ms\n",
      "27: 640x640 1 ab, 1 mc, 9.1ms\n",
      "28: 640x640 1 ab, 1 mc, 9.1ms\n",
      "29: 640x640 1 ab, 1 mc, 9.1ms\n",
      "30: 640x640 1 ab, 1 mc, 9.1ms\n",
      "31: 640x640 1 ab, 1 mc, 9.1ms\n",
      "32: 640x640 1 ab, 1 mc, 9.1ms\n",
      "33: 640x640 1 ab, 1 mc, 9.1ms\n",
      "34: 640x640 1 ab, 1 mc, 9.1ms\n",
      "35: 640x640 1 ab, 1 mc, 9.1ms\n",
      "36: 640x640 1 ab, 1 mc, 9.1ms\n",
      "37: 640x640 1 ab, 9.1ms\n",
      "38: 640x640 1 ab, 9.1ms\n",
      "39: 640x640 1 ab, 1 mc, 9.1ms\n",
      "40: 640x640 1 ab, 1 mc, 9.1ms\n",
      "41: 640x640 1 ab, 1 mc, 9.1ms\n",
      "42: 640x640 1 ab, 1 mc, 9.1ms\n",
      "43: 640x640 1 ab, 1 mc, 9.1ms\n",
      "44: 640x640 1 ab, 1 mc, 9.1ms\n",
      "45: 640x640 1 ab, 1 mc, 9.1ms\n",
      "46: 640x640 1 ab, 1 mc, 9.1ms\n",
      "47: 640x640 1 ab, 1 mc, 9.1ms\n",
      "48: 640x640 1 ab, 1 mc, 9.1ms\n",
      "49: 640x640 1 ab, 1 mc, 9.1ms\n",
      "50: 640x640 1 ab, 1 mc, 9.1ms\n",
      "51: 640x640 1 ab, 1 mc, 9.1ms\n",
      "52: 640x640 1 ab, 1 mc, 9.1ms\n",
      "53: 640x640 1 ab, 1 mc, 9.1ms\n",
      "54: 640x640 1 ab, 1 mc, 9.1ms\n",
      "55: 640x640 1 ab, 1 mc, 9.1ms\n",
      "56: 640x640 1 ab, 1 mc, 9.1ms\n",
      "57: 640x640 1 ab, 1 mc, 9.1ms\n",
      "58: 640x640 1 ab, 1 mc, 9.1ms\n",
      "59: 640x640 1 ab, 1 mc, 9.1ms\n",
      "60: 640x640 1 ab, 1 mc, 9.1ms\n",
      "61: 640x640 1 ab, 1 mc, 9.1ms\n",
      "62: 640x640 1 ab, 1 mc, 9.1ms\n",
      "63: 640x640 1 ab, 1 mc, 9.1ms\n",
      "64: 640x640 1 ab, 1 mc, 9.1ms\n",
      "65: 640x640 1 ab, 1 mc, 9.1ms\n",
      "66: 640x640 1 ab, 1 mc, 9.1ms\n",
      "67: 640x640 1 ab, 9.1ms\n",
      "68: 640x640 1 ab, 1 mc, 9.1ms\n",
      "69: 640x640 1 ab, 1 mc, 9.1ms\n",
      "70: 640x640 1 ab, 1 mc, 9.1ms\n",
      "71: 640x640 1 ab, 9.1ms\n",
      "72: 640x640 1 ab, 1 mc, 9.1ms\n",
      "73: 640x640 1 ab, 1 mc, 9.1ms\n",
      "74: 640x640 1 ab, 1 mc, 9.1ms\n",
      "Speed: 1.3ms preprocess, 9.1ms inference, 1.5ms postprocess per image at shape (1, 3, 640, 640)\n",
      "Results saved to \u001b[1mruns\\segment\\predict3\u001b[0m\n"
     ]
    }
   ],
   "source": [
    "results = model(file_list, save=True)"
   ]
  },
  {
   "cell_type": "code",
   "execution_count": 16,
   "metadata": {},
   "outputs": [
    {
     "name": "stdout",
     "output_type": "stream",
     "text": [
      "75\n"
     ]
    }
   ],
   "source": [
    "print(len(results))"
   ]
  },
  {
   "cell_type": "code",
   "execution_count": 17,
   "metadata": {},
   "outputs": [
    {
     "name": "stdout",
     "output_type": "stream",
     "text": [
      "class tensor([0., 1.], device='cuda:0')\n",
      "indices (tensor([0], device='cuda:0'),)\n",
      "C:\\\\5025211148\\\\YOLOv9-Segmentation\\\\segmented_AB\\\\merged_segs_0.jpg\n",
      "\n",
      "\n",
      "class tensor([0., 1.], device='cuda:0')\n",
      "indices (tensor([0], device='cuda:0'),)\n",
      "C:\\\\5025211148\\\\YOLOv9-Segmentation\\\\segmented_AB\\\\merged_segs_1.jpg\n",
      "\n",
      "\n",
      "class tensor([0.], device='cuda:0')\n",
      "indices (tensor([0], device='cuda:0'),)\n",
      "C:\\\\5025211148\\\\YOLOv9-Segmentation\\\\segmented_AB\\\\merged_segs_2.jpg\n",
      "\n",
      "\n",
      "class tensor([0.], device='cuda:0')\n",
      "indices (tensor([0], device='cuda:0'),)\n",
      "C:\\\\5025211148\\\\YOLOv9-Segmentation\\\\segmented_AB\\\\merged_segs_3.jpg\n",
      "\n",
      "\n",
      "class tensor([0.], device='cuda:0')\n",
      "indices (tensor([0], device='cuda:0'),)\n",
      "C:\\\\5025211148\\\\YOLOv9-Segmentation\\\\segmented_AB\\\\merged_segs_4.jpg\n",
      "\n",
      "\n",
      "class tensor([0., 1.], device='cuda:0')\n",
      "indices (tensor([0], device='cuda:0'),)\n",
      "C:\\\\5025211148\\\\YOLOv9-Segmentation\\\\segmented_AB\\\\merged_segs_5.jpg\n",
      "\n",
      "\n",
      "class tensor([0., 1.], device='cuda:0')\n",
      "indices (tensor([0], device='cuda:0'),)\n",
      "C:\\\\5025211148\\\\YOLOv9-Segmentation\\\\segmented_AB\\\\merged_segs_6.jpg\n",
      "\n",
      "\n",
      "class tensor([0., 1.], device='cuda:0')\n",
      "indices (tensor([0], device='cuda:0'),)\n",
      "C:\\\\5025211148\\\\YOLOv9-Segmentation\\\\segmented_AB\\\\merged_segs_7.jpg\n",
      "\n",
      "\n",
      "class tensor([0., 1.], device='cuda:0')\n",
      "indices (tensor([0], device='cuda:0'),)\n",
      "C:\\\\5025211148\\\\YOLOv9-Segmentation\\\\segmented_AB\\\\merged_segs_8.jpg\n",
      "\n",
      "\n",
      "class tensor([0., 1.], device='cuda:0')\n",
      "indices (tensor([0], device='cuda:0'),)\n",
      "C:\\\\5025211148\\\\YOLOv9-Segmentation\\\\segmented_AB\\\\merged_segs_9.jpg\n",
      "\n",
      "\n",
      "class tensor([0., 1.], device='cuda:0')\n",
      "indices (tensor([0], device='cuda:0'),)\n",
      "C:\\\\5025211148\\\\YOLOv9-Segmentation\\\\segmented_AB\\\\merged_segs_10.jpg\n",
      "\n",
      "\n",
      "class tensor([0., 1.], device='cuda:0')\n",
      "indices (tensor([0], device='cuda:0'),)\n",
      "C:\\\\5025211148\\\\YOLOv9-Segmentation\\\\segmented_AB\\\\merged_segs_11.jpg\n",
      "\n",
      "\n",
      "class tensor([0., 1.], device='cuda:0')\n",
      "indices (tensor([0], device='cuda:0'),)\n",
      "C:\\\\5025211148\\\\YOLOv9-Segmentation\\\\segmented_AB\\\\merged_segs_12.jpg\n",
      "\n",
      "\n",
      "class tensor([0., 1.], device='cuda:0')\n",
      "indices (tensor([0], device='cuda:0'),)\n",
      "C:\\\\5025211148\\\\YOLOv9-Segmentation\\\\segmented_AB\\\\merged_segs_13.jpg\n",
      "\n",
      "\n",
      "class tensor([0., 1.], device='cuda:0')\n",
      "indices (tensor([0], device='cuda:0'),)\n",
      "C:\\\\5025211148\\\\YOLOv9-Segmentation\\\\segmented_AB\\\\merged_segs_14.jpg\n",
      "\n",
      "\n",
      "class tensor([0., 1.], device='cuda:0')\n",
      "indices (tensor([0], device='cuda:0'),)\n",
      "C:\\\\5025211148\\\\YOLOv9-Segmentation\\\\segmented_AB\\\\merged_segs_15.jpg\n",
      "\n",
      "\n",
      "class tensor([0., 1.], device='cuda:0')\n",
      "indices (tensor([0], device='cuda:0'),)\n",
      "C:\\\\5025211148\\\\YOLOv9-Segmentation\\\\segmented_AB\\\\merged_segs_16.jpg\n",
      "\n",
      "\n",
      "class tensor([0.], device='cuda:0')\n",
      "indices (tensor([0], device='cuda:0'),)\n",
      "C:\\\\5025211148\\\\YOLOv9-Segmentation\\\\segmented_AB\\\\merged_segs_17.jpg\n",
      "\n",
      "\n",
      "class tensor([0., 1.], device='cuda:0')\n",
      "indices (tensor([0], device='cuda:0'),)\n",
      "C:\\\\5025211148\\\\YOLOv9-Segmentation\\\\segmented_AB\\\\merged_segs_18.jpg\n",
      "\n",
      "\n",
      "class tensor([0., 1.], device='cuda:0')\n",
      "indices (tensor([0], device='cuda:0'),)\n",
      "C:\\\\5025211148\\\\YOLOv9-Segmentation\\\\segmented_AB\\\\merged_segs_19.jpg\n",
      "\n",
      "\n",
      "class tensor([0., 1.], device='cuda:0')\n",
      "indices (tensor([0], device='cuda:0'),)\n",
      "C:\\\\5025211148\\\\YOLOv9-Segmentation\\\\segmented_AB\\\\merged_segs_20.jpg\n",
      "\n",
      "\n",
      "class tensor([0., 1.], device='cuda:0')\n",
      "indices (tensor([0], device='cuda:0'),)\n",
      "C:\\\\5025211148\\\\YOLOv9-Segmentation\\\\segmented_AB\\\\merged_segs_21.jpg\n",
      "\n",
      "\n",
      "class tensor([0., 1.], device='cuda:0')\n",
      "indices (tensor([0], device='cuda:0'),)\n",
      "C:\\\\5025211148\\\\YOLOv9-Segmentation\\\\segmented_AB\\\\merged_segs_22.jpg\n",
      "\n",
      "\n",
      "class tensor([0., 1.], device='cuda:0')\n",
      "indices (tensor([0], device='cuda:0'),)\n",
      "C:\\\\5025211148\\\\YOLOv9-Segmentation\\\\segmented_AB\\\\merged_segs_23.jpg\n",
      "\n",
      "\n",
      "class tensor([0.], device='cuda:0')\n",
      "indices (tensor([0], device='cuda:0'),)\n",
      "C:\\\\5025211148\\\\YOLOv9-Segmentation\\\\segmented_AB\\\\merged_segs_24.jpg\n",
      "\n",
      "\n",
      "class tensor([0.], device='cuda:0')\n",
      "indices (tensor([0], device='cuda:0'),)\n",
      "C:\\\\5025211148\\\\YOLOv9-Segmentation\\\\segmented_AB\\\\merged_segs_25.jpg\n",
      "\n",
      "\n",
      "class tensor([0., 1.], device='cuda:0')\n",
      "indices (tensor([0], device='cuda:0'),)\n",
      "C:\\\\5025211148\\\\YOLOv9-Segmentation\\\\segmented_AB\\\\merged_segs_26.jpg\n",
      "\n",
      "\n",
      "class tensor([0., 1.], device='cuda:0')\n",
      "indices (tensor([0], device='cuda:0'),)\n",
      "C:\\\\5025211148\\\\YOLOv9-Segmentation\\\\segmented_AB\\\\merged_segs_27.jpg\n",
      "\n",
      "\n",
      "class tensor([0., 1.], device='cuda:0')\n",
      "indices (tensor([0], device='cuda:0'),)\n",
      "C:\\\\5025211148\\\\YOLOv9-Segmentation\\\\segmented_AB\\\\merged_segs_28.jpg\n",
      "\n",
      "\n",
      "class tensor([0., 1.], device='cuda:0')\n",
      "indices (tensor([0], device='cuda:0'),)\n",
      "C:\\\\5025211148\\\\YOLOv9-Segmentation\\\\segmented_AB\\\\merged_segs_29.jpg\n",
      "\n",
      "\n",
      "class tensor([0., 1.], device='cuda:0')\n",
      "indices (tensor([0], device='cuda:0'),)\n",
      "C:\\\\5025211148\\\\YOLOv9-Segmentation\\\\segmented_AB\\\\merged_segs_30.jpg\n",
      "\n",
      "\n",
      "class tensor([0., 1.], device='cuda:0')\n",
      "indices (tensor([0], device='cuda:0'),)\n",
      "C:\\\\5025211148\\\\YOLOv9-Segmentation\\\\segmented_AB\\\\merged_segs_31.jpg\n",
      "\n",
      "\n",
      "class tensor([0., 1.], device='cuda:0')\n",
      "indices (tensor([0], device='cuda:0'),)\n",
      "C:\\\\5025211148\\\\YOLOv9-Segmentation\\\\segmented_AB\\\\merged_segs_32.jpg\n",
      "\n",
      "\n",
      "class tensor([0., 1.], device='cuda:0')\n",
      "indices (tensor([0], device='cuda:0'),)\n",
      "C:\\\\5025211148\\\\YOLOv9-Segmentation\\\\segmented_AB\\\\merged_segs_33.jpg\n",
      "\n",
      "\n",
      "class tensor([0., 1.], device='cuda:0')\n",
      "indices (tensor([0], device='cuda:0'),)\n",
      "C:\\\\5025211148\\\\YOLOv9-Segmentation\\\\segmented_AB\\\\merged_segs_34.jpg\n",
      "\n",
      "\n",
      "class tensor([0., 1.], device='cuda:0')\n",
      "indices (tensor([0], device='cuda:0'),)\n",
      "C:\\\\5025211148\\\\YOLOv9-Segmentation\\\\segmented_AB\\\\merged_segs_35.jpg\n",
      "\n",
      "\n",
      "class tensor([0., 1.], device='cuda:0')\n",
      "indices (tensor([0], device='cuda:0'),)\n",
      "C:\\\\5025211148\\\\YOLOv9-Segmentation\\\\segmented_AB\\\\merged_segs_36.jpg\n",
      "\n",
      "\n",
      "class tensor([0.], device='cuda:0')\n",
      "indices (tensor([0], device='cuda:0'),)\n",
      "C:\\\\5025211148\\\\YOLOv9-Segmentation\\\\segmented_AB\\\\merged_segs_37.jpg\n",
      "\n",
      "\n",
      "class tensor([0.], device='cuda:0')\n",
      "indices (tensor([0], device='cuda:0'),)\n",
      "C:\\\\5025211148\\\\YOLOv9-Segmentation\\\\segmented_AB\\\\merged_segs_38.jpg\n",
      "\n",
      "\n",
      "class tensor([0., 1.], device='cuda:0')\n",
      "indices (tensor([0], device='cuda:0'),)\n",
      "C:\\\\5025211148\\\\YOLOv9-Segmentation\\\\segmented_AB\\\\merged_segs_39.jpg\n",
      "\n",
      "\n",
      "class tensor([0., 1.], device='cuda:0')\n",
      "indices (tensor([0], device='cuda:0'),)\n",
      "C:\\\\5025211148\\\\YOLOv9-Segmentation\\\\segmented_AB\\\\merged_segs_40.jpg\n",
      "\n",
      "\n",
      "class tensor([0., 1.], device='cuda:0')\n",
      "indices (tensor([0], device='cuda:0'),)\n",
      "C:\\\\5025211148\\\\YOLOv9-Segmentation\\\\segmented_AB\\\\merged_segs_41.jpg\n",
      "\n",
      "\n",
      "class tensor([0., 1.], device='cuda:0')\n",
      "indices (tensor([0], device='cuda:0'),)\n",
      "C:\\\\5025211148\\\\YOLOv9-Segmentation\\\\segmented_AB\\\\merged_segs_42.jpg\n",
      "\n",
      "\n",
      "class tensor([0., 1.], device='cuda:0')\n",
      "indices (tensor([0], device='cuda:0'),)\n",
      "C:\\\\5025211148\\\\YOLOv9-Segmentation\\\\segmented_AB\\\\merged_segs_43.jpg\n",
      "\n",
      "\n",
      "class tensor([0., 1.], device='cuda:0')\n",
      "indices (tensor([0], device='cuda:0'),)\n",
      "C:\\\\5025211148\\\\YOLOv9-Segmentation\\\\segmented_AB\\\\merged_segs_44.jpg\n",
      "\n",
      "\n",
      "class tensor([0., 1.], device='cuda:0')\n",
      "indices (tensor([0], device='cuda:0'),)\n",
      "C:\\\\5025211148\\\\YOLOv9-Segmentation\\\\segmented_AB\\\\merged_segs_45.jpg\n",
      "\n",
      "\n",
      "class tensor([0., 1.], device='cuda:0')\n",
      "indices (tensor([0], device='cuda:0'),)\n",
      "C:\\\\5025211148\\\\YOLOv9-Segmentation\\\\segmented_AB\\\\merged_segs_46.jpg\n",
      "\n",
      "\n",
      "class tensor([0., 1.], device='cuda:0')\n",
      "indices (tensor([0], device='cuda:0'),)\n",
      "C:\\\\5025211148\\\\YOLOv9-Segmentation\\\\segmented_AB\\\\merged_segs_47.jpg\n",
      "\n",
      "\n",
      "class tensor([0., 1.], device='cuda:0')\n",
      "indices (tensor([0], device='cuda:0'),)\n",
      "C:\\\\5025211148\\\\YOLOv9-Segmentation\\\\segmented_AB\\\\merged_segs_48.jpg\n",
      "\n",
      "\n",
      "class tensor([0., 1.], device='cuda:0')\n",
      "indices (tensor([0], device='cuda:0'),)\n",
      "C:\\\\5025211148\\\\YOLOv9-Segmentation\\\\segmented_AB\\\\merged_segs_49.jpg\n",
      "\n",
      "\n",
      "class tensor([0., 1.], device='cuda:0')\n",
      "indices (tensor([0], device='cuda:0'),)\n",
      "C:\\\\5025211148\\\\YOLOv9-Segmentation\\\\segmented_AB\\\\merged_segs_50.jpg\n",
      "\n",
      "\n",
      "class tensor([0., 1.], device='cuda:0')\n",
      "indices (tensor([0], device='cuda:0'),)\n",
      "C:\\\\5025211148\\\\YOLOv9-Segmentation\\\\segmented_AB\\\\merged_segs_51.jpg\n",
      "\n",
      "\n",
      "class tensor([0., 1.], device='cuda:0')\n",
      "indices (tensor([0], device='cuda:0'),)\n",
      "C:\\\\5025211148\\\\YOLOv9-Segmentation\\\\segmented_AB\\\\merged_segs_52.jpg\n",
      "\n",
      "\n",
      "class tensor([0., 1.], device='cuda:0')\n",
      "indices (tensor([0], device='cuda:0'),)\n",
      "C:\\\\5025211148\\\\YOLOv9-Segmentation\\\\segmented_AB\\\\merged_segs_53.jpg\n",
      "\n",
      "\n",
      "class tensor([0., 1.], device='cuda:0')\n",
      "indices (tensor([0], device='cuda:0'),)\n",
      "C:\\\\5025211148\\\\YOLOv9-Segmentation\\\\segmented_AB\\\\merged_segs_54.jpg\n",
      "\n",
      "\n",
      "class tensor([0., 1.], device='cuda:0')\n",
      "indices (tensor([0], device='cuda:0'),)\n",
      "C:\\\\5025211148\\\\YOLOv9-Segmentation\\\\segmented_AB\\\\merged_segs_55.jpg\n",
      "\n",
      "\n",
      "class tensor([0., 1.], device='cuda:0')\n",
      "indices (tensor([0], device='cuda:0'),)\n",
      "C:\\\\5025211148\\\\YOLOv9-Segmentation\\\\segmented_AB\\\\merged_segs_56.jpg\n",
      "\n",
      "\n",
      "class tensor([0., 1.], device='cuda:0')\n",
      "indices (tensor([0], device='cuda:0'),)\n",
      "C:\\\\5025211148\\\\YOLOv9-Segmentation\\\\segmented_AB\\\\merged_segs_57.jpg\n",
      "\n",
      "\n",
      "class tensor([0., 1.], device='cuda:0')\n",
      "indices (tensor([0], device='cuda:0'),)\n",
      "C:\\\\5025211148\\\\YOLOv9-Segmentation\\\\segmented_AB\\\\merged_segs_58.jpg\n",
      "\n",
      "\n",
      "class tensor([0., 1.], device='cuda:0')\n",
      "indices (tensor([0], device='cuda:0'),)\n",
      "C:\\\\5025211148\\\\YOLOv9-Segmentation\\\\segmented_AB\\\\merged_segs_59.jpg\n",
      "\n",
      "\n",
      "class tensor([0., 1.], device='cuda:0')\n",
      "indices (tensor([0], device='cuda:0'),)\n",
      "C:\\\\5025211148\\\\YOLOv9-Segmentation\\\\segmented_AB\\\\merged_segs_60.jpg\n",
      "\n",
      "\n",
      "class tensor([0., 1.], device='cuda:0')\n",
      "indices (tensor([0], device='cuda:0'),)\n",
      "C:\\\\5025211148\\\\YOLOv9-Segmentation\\\\segmented_AB\\\\merged_segs_61.jpg\n",
      "\n",
      "\n",
      "class tensor([0., 1.], device='cuda:0')\n",
      "indices (tensor([0], device='cuda:0'),)\n",
      "C:\\\\5025211148\\\\YOLOv9-Segmentation\\\\segmented_AB\\\\merged_segs_62.jpg\n",
      "\n",
      "\n",
      "class tensor([0., 1.], device='cuda:0')\n",
      "indices (tensor([0], device='cuda:0'),)\n",
      "C:\\\\5025211148\\\\YOLOv9-Segmentation\\\\segmented_AB\\\\merged_segs_63.jpg\n",
      "\n",
      "\n",
      "class tensor([0., 1.], device='cuda:0')\n",
      "indices (tensor([0], device='cuda:0'),)\n",
      "C:\\\\5025211148\\\\YOLOv9-Segmentation\\\\segmented_AB\\\\merged_segs_64.jpg\n",
      "\n",
      "\n",
      "class tensor([0., 1.], device='cuda:0')\n",
      "indices (tensor([0], device='cuda:0'),)\n",
      "C:\\\\5025211148\\\\YOLOv9-Segmentation\\\\segmented_AB\\\\merged_segs_65.jpg\n",
      "\n",
      "\n",
      "class tensor([0., 1.], device='cuda:0')\n",
      "indices (tensor([0], device='cuda:0'),)\n",
      "C:\\\\5025211148\\\\YOLOv9-Segmentation\\\\segmented_AB\\\\merged_segs_66.jpg\n",
      "\n",
      "\n",
      "class tensor([0.], device='cuda:0')\n",
      "indices (tensor([0], device='cuda:0'),)\n",
      "C:\\\\5025211148\\\\YOLOv9-Segmentation\\\\segmented_AB\\\\merged_segs_67.jpg\n",
      "\n",
      "\n",
      "class tensor([0., 1.], device='cuda:0')\n",
      "indices (tensor([0], device='cuda:0'),)\n",
      "C:\\\\5025211148\\\\YOLOv9-Segmentation\\\\segmented_AB\\\\merged_segs_68.jpg\n",
      "\n",
      "\n",
      "class tensor([0., 1.], device='cuda:0')\n",
      "indices (tensor([0], device='cuda:0'),)\n",
      "C:\\\\5025211148\\\\YOLOv9-Segmentation\\\\segmented_AB\\\\merged_segs_69.jpg\n",
      "\n",
      "\n",
      "class tensor([0., 1.], device='cuda:0')\n",
      "indices (tensor([0], device='cuda:0'),)\n",
      "C:\\\\5025211148\\\\YOLOv9-Segmentation\\\\segmented_AB\\\\merged_segs_70.jpg\n",
      "\n",
      "\n",
      "class tensor([0.], device='cuda:0')\n",
      "indices (tensor([0], device='cuda:0'),)\n",
      "C:\\\\5025211148\\\\YOLOv9-Segmentation\\\\segmented_AB\\\\merged_segs_71.jpg\n",
      "\n",
      "\n",
      "class tensor([0., 1.], device='cuda:0')\n",
      "indices (tensor([0], device='cuda:0'),)\n",
      "C:\\\\5025211148\\\\YOLOv9-Segmentation\\\\segmented_AB\\\\merged_segs_72.jpg\n",
      "\n",
      "\n",
      "class tensor([0., 1.], device='cuda:0')\n",
      "indices (tensor([0], device='cuda:0'),)\n",
      "C:\\\\5025211148\\\\YOLOv9-Segmentation\\\\segmented_AB\\\\merged_segs_73.jpg\n",
      "\n",
      "\n",
      "class tensor([0., 1.], device='cuda:0')\n",
      "indices (tensor([0], device='cuda:0'),)\n",
      "C:\\\\5025211148\\\\YOLOv9-Segmentation\\\\segmented_AB\\\\merged_segs_74.jpg\n",
      "\n",
      "\n"
     ]
    }
   ],
   "source": [
    "import torch\n",
    "import cv2\n",
    "import numpy as np\n",
    "i = 0\n",
    "x = 101\n",
    "y = 200\n",
    "\n",
    "for result in results:\n",
    "  if(result.masks is not None):\n",
    "    # get the AB masks\n",
    "    boxes = result.boxes.data\n",
    "    clss = boxes[:, 5]\n",
    "    AB_indices = torch.where(clss == 0)\n",
    "    AB_indices = (AB_indices[0][0].unsqueeze(0),)\n",
    "    # AB_indices = AB_indices[0][0]\n",
    "    print('class', clss)\n",
    "    print('indices', AB_indices)\n",
    "    # Convert mask to single channel image\n",
    "    try:\n",
    "      mask_raw = result.masks.cpu().data[[AB_indices]].numpy().transpose(1, 2, 0)\n",
    "      # Convert single channel grayscale to 3 channel image\n",
    "      mask_3channel = cv2.merge((mask_raw,mask_raw,mask_raw))\n",
    "\n",
    "      # Get the size of the original image (height, width, channels)\n",
    "      h2, w2, c2 = result.orig_img.shape\n",
    "\n",
    "      # Resize the mask to the same size as the image (can probably be removed if image is the same size as the model)\n",
    "      mask = cv2.resize(mask_3channel, (w2, h2))\n",
    "\n",
    "      # Convert BGR to HSV\n",
    "      hsv = cv2.cvtColor(mask, cv2.COLOR_BGR2HSV)\n",
    "\n",
    "      # Define range of brightness in HSV\n",
    "      lower_black = np.array([0,0,0])\n",
    "      upper_black = np.array([0,0,1])\n",
    "\n",
    "      # Create a mask. Threshold the HSV image to get everything black\n",
    "      mask = cv2.inRange(mask, lower_black, upper_black)\n",
    "\n",
    "      # Invert the mask to get everything but black\n",
    "      mask = cv2.bitwise_not(mask)\n",
    "\n",
    "      # Apply the mask to the original image\n",
    "      masked = cv2.bitwise_and(result.orig_img, result.orig_img, mask=mask)\n",
    "\n",
    "      # Show the masked part of the image\n",
    "      # cv2.imshow(\"mask\", masked)\n",
    "      resized_mask = cv2.resize(mask, (101, 200))\n",
    "      cv2.imwrite(fr'{segmented_AB_path}\\\\merged_segs_{i}.jpg', resized_mask)\n",
    "      print(fr'{segmented_AB_path}\\\\merged_segs_{i}.jpg')\n",
    "    except Exception as e:\n",
    "      print('error',e)\n",
    "      # print('\\n')\n",
    "      continue\n",
    "  else:\n",
    "    width = 101\n",
    "    height = 200\n",
    "    black_image = np.zeros((height, width), dtype=np.uint8)\n",
    "    print('ada yang kosong lo..')\n",
    "    # Save the black image to a file\n",
    "    cv2.imwrite(fr'{segmented_AB_path}\\\\merged_segs_{i}.jpg', black_image)\n",
    "    print(fr'{segmented_AB_path}\\\\merged_segs_{i}.jpg')\n",
    "  print('\\n')\n",
    "  i = i+1"
   ]
  },
  {
   "cell_type": "code",
   "execution_count": 18,
   "metadata": {},
   "outputs": [
    {
     "name": "stdout",
     "output_type": "stream",
     "text": [
      "C:\\\\5025211148\\\\YOLOv9-Segmentation\\\\segmented_AB\\merged_segs_0.jpg\n",
      "C:\\\\5025211148\\\\YOLOv9-Segmentation\\\\segmented_AB\\merged_segs_1.jpg\n",
      "C:\\\\5025211148\\\\YOLOv9-Segmentation\\\\segmented_AB\\merged_segs_2.jpg\n",
      "C:\\\\5025211148\\\\YOLOv9-Segmentation\\\\segmented_AB\\merged_segs_3.jpg\n",
      "C:\\\\5025211148\\\\YOLOv9-Segmentation\\\\segmented_AB\\merged_segs_4.jpg\n",
      "C:\\\\5025211148\\\\YOLOv9-Segmentation\\\\segmented_AB\\merged_segs_5.jpg\n",
      "C:\\\\5025211148\\\\YOLOv9-Segmentation\\\\segmented_AB\\merged_segs_6.jpg\n",
      "C:\\\\5025211148\\\\YOLOv9-Segmentation\\\\segmented_AB\\merged_segs_7.jpg\n",
      "C:\\\\5025211148\\\\YOLOv9-Segmentation\\\\segmented_AB\\merged_segs_8.jpg\n",
      "C:\\\\5025211148\\\\YOLOv9-Segmentation\\\\segmented_AB\\merged_segs_9.jpg\n",
      "C:\\\\5025211148\\\\YOLOv9-Segmentation\\\\segmented_AB\\merged_segs_10.jpg\n",
      "C:\\\\5025211148\\\\YOLOv9-Segmentation\\\\segmented_AB\\merged_segs_11.jpg\n",
      "C:\\\\5025211148\\\\YOLOv9-Segmentation\\\\segmented_AB\\merged_segs_12.jpg\n",
      "C:\\\\5025211148\\\\YOLOv9-Segmentation\\\\segmented_AB\\merged_segs_13.jpg\n",
      "C:\\\\5025211148\\\\YOLOv9-Segmentation\\\\segmented_AB\\merged_segs_14.jpg\n",
      "C:\\\\5025211148\\\\YOLOv9-Segmentation\\\\segmented_AB\\merged_segs_15.jpg\n",
      "C:\\\\5025211148\\\\YOLOv9-Segmentation\\\\segmented_AB\\merged_segs_16.jpg\n",
      "C:\\\\5025211148\\\\YOLOv9-Segmentation\\\\segmented_AB\\merged_segs_17.jpg\n",
      "C:\\\\5025211148\\\\YOLOv9-Segmentation\\\\segmented_AB\\merged_segs_18.jpg\n",
      "C:\\\\5025211148\\\\YOLOv9-Segmentation\\\\segmented_AB\\merged_segs_19.jpg\n",
      "C:\\\\5025211148\\\\YOLOv9-Segmentation\\\\segmented_AB\\merged_segs_20.jpg\n",
      "C:\\\\5025211148\\\\YOLOv9-Segmentation\\\\segmented_AB\\merged_segs_21.jpg\n",
      "C:\\\\5025211148\\\\YOLOv9-Segmentation\\\\segmented_AB\\merged_segs_22.jpg\n",
      "C:\\\\5025211148\\\\YOLOv9-Segmentation\\\\segmented_AB\\merged_segs_23.jpg\n",
      "C:\\\\5025211148\\\\YOLOv9-Segmentation\\\\segmented_AB\\merged_segs_24.jpg\n",
      "C:\\\\5025211148\\\\YOLOv9-Segmentation\\\\segmented_AB\\merged_segs_25.jpg\n",
      "C:\\\\5025211148\\\\YOLOv9-Segmentation\\\\segmented_AB\\merged_segs_26.jpg\n",
      "C:\\\\5025211148\\\\YOLOv9-Segmentation\\\\segmented_AB\\merged_segs_27.jpg\n",
      "C:\\\\5025211148\\\\YOLOv9-Segmentation\\\\segmented_AB\\merged_segs_28.jpg\n",
      "C:\\\\5025211148\\\\YOLOv9-Segmentation\\\\segmented_AB\\merged_segs_29.jpg\n",
      "C:\\\\5025211148\\\\YOLOv9-Segmentation\\\\segmented_AB\\merged_segs_30.jpg\n",
      "C:\\\\5025211148\\\\YOLOv9-Segmentation\\\\segmented_AB\\merged_segs_31.jpg\n",
      "C:\\\\5025211148\\\\YOLOv9-Segmentation\\\\segmented_AB\\merged_segs_32.jpg\n",
      "C:\\\\5025211148\\\\YOLOv9-Segmentation\\\\segmented_AB\\merged_segs_33.jpg\n",
      "C:\\\\5025211148\\\\YOLOv9-Segmentation\\\\segmented_AB\\merged_segs_34.jpg\n",
      "C:\\\\5025211148\\\\YOLOv9-Segmentation\\\\segmented_AB\\merged_segs_35.jpg\n",
      "C:\\\\5025211148\\\\YOLOv9-Segmentation\\\\segmented_AB\\merged_segs_36.jpg\n",
      "C:\\\\5025211148\\\\YOLOv9-Segmentation\\\\segmented_AB\\merged_segs_37.jpg\n",
      "C:\\\\5025211148\\\\YOLOv9-Segmentation\\\\segmented_AB\\merged_segs_38.jpg\n",
      "C:\\\\5025211148\\\\YOLOv9-Segmentation\\\\segmented_AB\\merged_segs_39.jpg\n",
      "C:\\\\5025211148\\\\YOLOv9-Segmentation\\\\segmented_AB\\merged_segs_40.jpg\n",
      "C:\\\\5025211148\\\\YOLOv9-Segmentation\\\\segmented_AB\\merged_segs_41.jpg\n",
      "C:\\\\5025211148\\\\YOLOv9-Segmentation\\\\segmented_AB\\merged_segs_42.jpg\n",
      "C:\\\\5025211148\\\\YOLOv9-Segmentation\\\\segmented_AB\\merged_segs_43.jpg\n",
      "C:\\\\5025211148\\\\YOLOv9-Segmentation\\\\segmented_AB\\merged_segs_44.jpg\n",
      "C:\\\\5025211148\\\\YOLOv9-Segmentation\\\\segmented_AB\\merged_segs_45.jpg\n",
      "C:\\\\5025211148\\\\YOLOv9-Segmentation\\\\segmented_AB\\merged_segs_46.jpg\n",
      "C:\\\\5025211148\\\\YOLOv9-Segmentation\\\\segmented_AB\\merged_segs_47.jpg\n",
      "C:\\\\5025211148\\\\YOLOv9-Segmentation\\\\segmented_AB\\merged_segs_48.jpg\n",
      "C:\\\\5025211148\\\\YOLOv9-Segmentation\\\\segmented_AB\\merged_segs_49.jpg\n",
      "C:\\\\5025211148\\\\YOLOv9-Segmentation\\\\segmented_AB\\merged_segs_50.jpg\n",
      "C:\\\\5025211148\\\\YOLOv9-Segmentation\\\\segmented_AB\\merged_segs_51.jpg\n",
      "C:\\\\5025211148\\\\YOLOv9-Segmentation\\\\segmented_AB\\merged_segs_52.jpg\n",
      "C:\\\\5025211148\\\\YOLOv9-Segmentation\\\\segmented_AB\\merged_segs_53.jpg\n",
      "C:\\\\5025211148\\\\YOLOv9-Segmentation\\\\segmented_AB\\merged_segs_54.jpg\n",
      "C:\\\\5025211148\\\\YOLOv9-Segmentation\\\\segmented_AB\\merged_segs_55.jpg\n",
      "C:\\\\5025211148\\\\YOLOv9-Segmentation\\\\segmented_AB\\merged_segs_56.jpg\n",
      "C:\\\\5025211148\\\\YOLOv9-Segmentation\\\\segmented_AB\\merged_segs_57.jpg\n",
      "C:\\\\5025211148\\\\YOLOv9-Segmentation\\\\segmented_AB\\merged_segs_58.jpg\n",
      "C:\\\\5025211148\\\\YOLOv9-Segmentation\\\\segmented_AB\\merged_segs_59.jpg\n",
      "C:\\\\5025211148\\\\YOLOv9-Segmentation\\\\segmented_AB\\merged_segs_60.jpg\n",
      "C:\\\\5025211148\\\\YOLOv9-Segmentation\\\\segmented_AB\\merged_segs_61.jpg\n",
      "C:\\\\5025211148\\\\YOLOv9-Segmentation\\\\segmented_AB\\merged_segs_62.jpg\n",
      "C:\\\\5025211148\\\\YOLOv9-Segmentation\\\\segmented_AB\\merged_segs_63.jpg\n",
      "C:\\\\5025211148\\\\YOLOv9-Segmentation\\\\segmented_AB\\merged_segs_64.jpg\n",
      "C:\\\\5025211148\\\\YOLOv9-Segmentation\\\\segmented_AB\\merged_segs_65.jpg\n",
      "C:\\\\5025211148\\\\YOLOv9-Segmentation\\\\segmented_AB\\merged_segs_66.jpg\n",
      "C:\\\\5025211148\\\\YOLOv9-Segmentation\\\\segmented_AB\\merged_segs_67.jpg\n",
      "C:\\\\5025211148\\\\YOLOv9-Segmentation\\\\segmented_AB\\merged_segs_68.jpg\n",
      "C:\\\\5025211148\\\\YOLOv9-Segmentation\\\\segmented_AB\\merged_segs_69.jpg\n",
      "C:\\\\5025211148\\\\YOLOv9-Segmentation\\\\segmented_AB\\merged_segs_70.jpg\n",
      "C:\\\\5025211148\\\\YOLOv9-Segmentation\\\\segmented_AB\\merged_segs_71.jpg\n",
      "C:\\\\5025211148\\\\YOLOv9-Segmentation\\\\segmented_AB\\merged_segs_72.jpg\n",
      "C:\\\\5025211148\\\\YOLOv9-Segmentation\\\\segmented_AB\\merged_segs_73.jpg\n",
      "C:\\\\5025211148\\\\YOLOv9-Segmentation\\\\segmented_AB\\merged_segs_74.jpg\n"
     ]
    }
   ],
   "source": [
    "import os\n",
    "import re\n",
    "\n",
    "# specify the directory path\n",
    "directory_path = segmented_AB_path_2\n",
    "\n",
    "# create an empty list to store the filenames with directory path\n",
    "file_list_AB = []\n",
    "\n",
    "# iterate over the files in the directory\n",
    "for filename in os.listdir(directory_path):\n",
    "    # check if the item is a file\n",
    "    if os.path.isfile(os.path.join(directory_path, filename)):\n",
    "        # append the filename with directory path to the list\n",
    "        file_list_AB.append(os.path.join(directory_path, filename))\n",
    "\n",
    "def extract_number(s):\n",
    "    match = re.search(r'merged_segs_(\\d+)', s)  # Match 'merged_segs_' followed by one or more digits\n",
    "    return int(match.group(1)) if match else float('inf')\n",
    "\n",
    "file_list_AB = sorted(file_list_AB, key=extract_number)\n",
    "for filename in file_list_AB:\n",
    "    print(filename)\n",
    "# print(file_list)  # Output: sorted file_list with filenames like 'merged_segs_0', 'merged_segs_1', 'merged_segs_2', etc.\n"
   ]
  },
  {
   "cell_type": "code",
   "execution_count": 19,
   "metadata": {},
   "outputs": [
    {
     "name": "stdout",
     "output_type": "stream",
     "text": [
      "(75, 200, 101)\n"
     ]
    }
   ],
   "source": [
    "import numpy as np\n",
    "from PIL import Image  # If your images are in image files\n",
    "\n",
    "# Assuming img_files is a list of file paths to the 2D images\n",
    "# img_files = ['image1.png', 'image2.png', 'image3.png']  # Replace with your actual file paths\n",
    "\n",
    "# Load the images and convert them to numpy arrays\n",
    "image_arrays = [np.array(Image.open(img_file)) for img_file in file_list_AB]\n",
    "\n",
    "# Stack the image arrays into a 3D numpy array\n",
    "stacked_images = np.stack(image_arrays, axis=0)\n",
    "\n",
    "# stacked_images is now a 3D numpy array where the first dimension represents the index of the image in the list\n",
    "\n",
    "# Example usage:\n",
    "print(stacked_images.shape)  # Output: (3, height, width, channels) assuming RGB images\n",
    "\n",
    "np.save(segmented_AB_npy, stacked_images)"
   ]
  },
  {
   "cell_type": "code",
   "execution_count": 20,
   "metadata": {},
   "outputs": [
    {
     "name": "stdout",
     "output_type": "stream",
     "text": [
      "class tensor([0., 1.], device='cuda:0')\n",
      "indices (tensor([1], device='cuda:0'),)\n",
      "C:\\\\5025211148\\\\YOLOv9-Segmentation\\\\segmented_MC\\\\merged_segs_0.jpg\n",
      "ketemu\n",
      "\n",
      "\n",
      "class tensor([0., 1.], device='cuda:0')\n",
      "indices (tensor([1], device='cuda:0'),)\n",
      "C:\\\\5025211148\\\\YOLOv9-Segmentation\\\\segmented_MC\\\\merged_segs_1.jpg\n",
      "ketemu\n",
      "\n",
      "\n",
      "error index 0 is out of bounds for dimension 0 with size 0\n",
      "tidak ada mc lo..\n",
      "C:\\\\5025211148\\\\YOLOv9-Segmentation\\\\segmented_MC\\\\merged_segs_2.jpg\n",
      "error index 0 is out of bounds for dimension 0 with size 0\n",
      "tidak ada mc lo..\n",
      "C:\\\\5025211148\\\\YOLOv9-Segmentation\\\\segmented_MC\\\\merged_segs_3.jpg\n",
      "error index 0 is out of bounds for dimension 0 with size 0\n",
      "tidak ada mc lo..\n",
      "C:\\\\5025211148\\\\YOLOv9-Segmentation\\\\segmented_MC\\\\merged_segs_4.jpg\n",
      "class tensor([0., 1.], device='cuda:0')\n",
      "indices (tensor([1], device='cuda:0'),)\n",
      "C:\\\\5025211148\\\\YOLOv9-Segmentation\\\\segmented_MC\\\\merged_segs_5.jpg\n",
      "ketemu\n",
      "\n",
      "\n",
      "class tensor([0., 1.], device='cuda:0')\n",
      "indices (tensor([1], device='cuda:0'),)\n",
      "C:\\\\5025211148\\\\YOLOv9-Segmentation\\\\segmented_MC\\\\merged_segs_6.jpg\n",
      "ketemu\n",
      "\n",
      "\n",
      "class tensor([0., 1.], device='cuda:0')\n",
      "indices (tensor([1], device='cuda:0'),)\n",
      "C:\\\\5025211148\\\\YOLOv9-Segmentation\\\\segmented_MC\\\\merged_segs_7.jpg\n",
      "ketemu\n",
      "\n",
      "\n",
      "class tensor([0., 1.], device='cuda:0')\n",
      "indices (tensor([1], device='cuda:0'),)\n",
      "C:\\\\5025211148\\\\YOLOv9-Segmentation\\\\segmented_MC\\\\merged_segs_8.jpg\n",
      "ketemu\n",
      "\n",
      "\n",
      "class tensor([0., 1.], device='cuda:0')\n",
      "indices (tensor([1], device='cuda:0'),)\n",
      "C:\\\\5025211148\\\\YOLOv9-Segmentation\\\\segmented_MC\\\\merged_segs_9.jpg\n",
      "ketemu\n",
      "\n",
      "\n",
      "class tensor([0., 1.], device='cuda:0')\n",
      "indices (tensor([1], device='cuda:0'),)\n",
      "C:\\\\5025211148\\\\YOLOv9-Segmentation\\\\segmented_MC\\\\merged_segs_10.jpg\n",
      "ketemu\n",
      "\n",
      "\n",
      "class tensor([0., 1.], device='cuda:0')\n",
      "indices (tensor([1], device='cuda:0'),)\n",
      "C:\\\\5025211148\\\\YOLOv9-Segmentation\\\\segmented_MC\\\\merged_segs_11.jpg\n",
      "ketemu\n",
      "\n",
      "\n",
      "class tensor([0., 1.], device='cuda:0')\n",
      "indices (tensor([1], device='cuda:0'),)\n",
      "C:\\\\5025211148\\\\YOLOv9-Segmentation\\\\segmented_MC\\\\merged_segs_12.jpg\n",
      "ketemu\n",
      "\n",
      "\n",
      "class tensor([0., 1.], device='cuda:0')\n",
      "indices (tensor([1], device='cuda:0'),)\n",
      "C:\\\\5025211148\\\\YOLOv9-Segmentation\\\\segmented_MC\\\\merged_segs_13.jpg\n",
      "ketemu\n",
      "\n",
      "\n",
      "class tensor([0., 1.], device='cuda:0')\n",
      "indices (tensor([1], device='cuda:0'),)\n",
      "C:\\\\5025211148\\\\YOLOv9-Segmentation\\\\segmented_MC\\\\merged_segs_14.jpg\n",
      "ketemu\n",
      "\n",
      "\n",
      "class tensor([0., 1.], device='cuda:0')\n",
      "indices (tensor([1], device='cuda:0'),)\n",
      "C:\\\\5025211148\\\\YOLOv9-Segmentation\\\\segmented_MC\\\\merged_segs_15.jpg\n",
      "ketemu\n",
      "\n",
      "\n",
      "class tensor([0., 1.], device='cuda:0')\n",
      "indices (tensor([1], device='cuda:0'),)\n",
      "C:\\\\5025211148\\\\YOLOv9-Segmentation\\\\segmented_MC\\\\merged_segs_16.jpg\n",
      "ketemu\n",
      "\n",
      "\n",
      "error index 0 is out of bounds for dimension 0 with size 0\n",
      "tidak ada mc lo..\n",
      "C:\\\\5025211148\\\\YOLOv9-Segmentation\\\\segmented_MC\\\\merged_segs_17.jpg\n",
      "class tensor([0., 1.], device='cuda:0')\n",
      "indices (tensor([1], device='cuda:0'),)\n",
      "C:\\\\5025211148\\\\YOLOv9-Segmentation\\\\segmented_MC\\\\merged_segs_18.jpg\n",
      "ketemu\n",
      "\n",
      "\n",
      "class tensor([0., 1.], device='cuda:0')\n",
      "indices (tensor([1], device='cuda:0'),)\n",
      "C:\\\\5025211148\\\\YOLOv9-Segmentation\\\\segmented_MC\\\\merged_segs_19.jpg\n",
      "ketemu\n",
      "\n",
      "\n",
      "class tensor([0., 1.], device='cuda:0')\n",
      "indices (tensor([1], device='cuda:0'),)\n",
      "C:\\\\5025211148\\\\YOLOv9-Segmentation\\\\segmented_MC\\\\merged_segs_20.jpg\n",
      "ketemu\n",
      "\n",
      "\n",
      "class tensor([0., 1.], device='cuda:0')\n",
      "indices (tensor([1], device='cuda:0'),)\n",
      "C:\\\\5025211148\\\\YOLOv9-Segmentation\\\\segmented_MC\\\\merged_segs_21.jpg\n",
      "ketemu\n",
      "\n",
      "\n",
      "class tensor([0., 1.], device='cuda:0')\n",
      "indices (tensor([1], device='cuda:0'),)\n",
      "C:\\\\5025211148\\\\YOLOv9-Segmentation\\\\segmented_MC\\\\merged_segs_22.jpg\n",
      "ketemu\n",
      "\n",
      "\n",
      "class tensor([0., 1.], device='cuda:0')\n",
      "indices (tensor([1], device='cuda:0'),)\n",
      "C:\\\\5025211148\\\\YOLOv9-Segmentation\\\\segmented_MC\\\\merged_segs_23.jpg\n",
      "ketemu\n",
      "\n",
      "\n",
      "error index 0 is out of bounds for dimension 0 with size 0\n",
      "tidak ada mc lo..\n",
      "C:\\\\5025211148\\\\YOLOv9-Segmentation\\\\segmented_MC\\\\merged_segs_24.jpg\n",
      "error index 0 is out of bounds for dimension 0 with size 0\n",
      "tidak ada mc lo..\n",
      "C:\\\\5025211148\\\\YOLOv9-Segmentation\\\\segmented_MC\\\\merged_segs_25.jpg\n",
      "class tensor([0., 1.], device='cuda:0')\n",
      "indices (tensor([1], device='cuda:0'),)\n",
      "C:\\\\5025211148\\\\YOLOv9-Segmentation\\\\segmented_MC\\\\merged_segs_26.jpg\n",
      "ketemu\n",
      "\n",
      "\n",
      "class tensor([0., 1.], device='cuda:0')\n",
      "indices (tensor([1], device='cuda:0'),)\n",
      "C:\\\\5025211148\\\\YOLOv9-Segmentation\\\\segmented_MC\\\\merged_segs_27.jpg\n",
      "ketemu\n",
      "\n",
      "\n",
      "class tensor([0., 1.], device='cuda:0')\n",
      "indices (tensor([1], device='cuda:0'),)\n",
      "C:\\\\5025211148\\\\YOLOv9-Segmentation\\\\segmented_MC\\\\merged_segs_28.jpg\n",
      "ketemu\n",
      "\n",
      "\n",
      "class tensor([0., 1.], device='cuda:0')\n",
      "indices (tensor([1], device='cuda:0'),)\n",
      "C:\\\\5025211148\\\\YOLOv9-Segmentation\\\\segmented_MC\\\\merged_segs_29.jpg\n",
      "ketemu\n",
      "\n",
      "\n",
      "class tensor([0., 1.], device='cuda:0')\n",
      "indices (tensor([1], device='cuda:0'),)\n",
      "C:\\\\5025211148\\\\YOLOv9-Segmentation\\\\segmented_MC\\\\merged_segs_30.jpg\n",
      "ketemu\n",
      "\n",
      "\n",
      "class tensor([0., 1.], device='cuda:0')\n",
      "indices (tensor([1], device='cuda:0'),)\n",
      "C:\\\\5025211148\\\\YOLOv9-Segmentation\\\\segmented_MC\\\\merged_segs_31.jpg\n",
      "ketemu\n",
      "\n",
      "\n",
      "class tensor([0., 1.], device='cuda:0')\n",
      "indices (tensor([1], device='cuda:0'),)\n",
      "C:\\\\5025211148\\\\YOLOv9-Segmentation\\\\segmented_MC\\\\merged_segs_32.jpg\n",
      "ketemu\n",
      "\n",
      "\n",
      "class tensor([0., 1.], device='cuda:0')\n",
      "indices (tensor([1], device='cuda:0'),)\n",
      "C:\\\\5025211148\\\\YOLOv9-Segmentation\\\\segmented_MC\\\\merged_segs_33.jpg\n",
      "ketemu\n",
      "\n",
      "\n",
      "class tensor([0., 1.], device='cuda:0')\n",
      "indices (tensor([1], device='cuda:0'),)\n",
      "C:\\\\5025211148\\\\YOLOv9-Segmentation\\\\segmented_MC\\\\merged_segs_34.jpg\n",
      "ketemu\n",
      "\n",
      "\n",
      "class tensor([0., 1.], device='cuda:0')\n",
      "indices (tensor([1], device='cuda:0'),)\n",
      "C:\\\\5025211148\\\\YOLOv9-Segmentation\\\\segmented_MC\\\\merged_segs_35.jpg\n",
      "ketemu\n",
      "\n",
      "\n",
      "class tensor([0., 1.], device='cuda:0')\n",
      "indices (tensor([1], device='cuda:0'),)\n",
      "C:\\\\5025211148\\\\YOLOv9-Segmentation\\\\segmented_MC\\\\merged_segs_36.jpg\n",
      "ketemu\n",
      "\n",
      "\n",
      "error index 0 is out of bounds for dimension 0 with size 0\n",
      "tidak ada mc lo..\n",
      "C:\\\\5025211148\\\\YOLOv9-Segmentation\\\\segmented_MC\\\\merged_segs_37.jpg\n",
      "error index 0 is out of bounds for dimension 0 with size 0\n",
      "tidak ada mc lo..\n",
      "C:\\\\5025211148\\\\YOLOv9-Segmentation\\\\segmented_MC\\\\merged_segs_38.jpg\n",
      "class tensor([0., 1.], device='cuda:0')\n",
      "indices (tensor([1], device='cuda:0'),)\n",
      "C:\\\\5025211148\\\\YOLOv9-Segmentation\\\\segmented_MC\\\\merged_segs_39.jpg\n",
      "ketemu\n",
      "\n",
      "\n",
      "class tensor([0., 1.], device='cuda:0')\n",
      "indices (tensor([1], device='cuda:0'),)\n",
      "C:\\\\5025211148\\\\YOLOv9-Segmentation\\\\segmented_MC\\\\merged_segs_40.jpg\n",
      "ketemu\n",
      "\n",
      "\n",
      "class tensor([0., 1.], device='cuda:0')\n",
      "indices (tensor([1], device='cuda:0'),)\n",
      "C:\\\\5025211148\\\\YOLOv9-Segmentation\\\\segmented_MC\\\\merged_segs_41.jpg\n",
      "ketemu\n",
      "\n",
      "\n",
      "class tensor([0., 1.], device='cuda:0')\n",
      "indices (tensor([1], device='cuda:0'),)\n",
      "C:\\\\5025211148\\\\YOLOv9-Segmentation\\\\segmented_MC\\\\merged_segs_42.jpg\n",
      "ketemu\n",
      "\n",
      "\n",
      "class tensor([0., 1.], device='cuda:0')\n",
      "indices (tensor([1], device='cuda:0'),)\n",
      "C:\\\\5025211148\\\\YOLOv9-Segmentation\\\\segmented_MC\\\\merged_segs_43.jpg\n",
      "ketemu\n",
      "\n",
      "\n",
      "class tensor([0., 1.], device='cuda:0')\n",
      "indices (tensor([1], device='cuda:0'),)\n",
      "C:\\\\5025211148\\\\YOLOv9-Segmentation\\\\segmented_MC\\\\merged_segs_44.jpg\n",
      "ketemu\n",
      "\n",
      "\n",
      "class tensor([0., 1.], device='cuda:0')\n",
      "indices (tensor([1], device='cuda:0'),)\n",
      "C:\\\\5025211148\\\\YOLOv9-Segmentation\\\\segmented_MC\\\\merged_segs_45.jpg\n",
      "ketemu\n",
      "\n",
      "\n",
      "class tensor([0., 1.], device='cuda:0')\n",
      "indices (tensor([1], device='cuda:0'),)\n",
      "C:\\\\5025211148\\\\YOLOv9-Segmentation\\\\segmented_MC\\\\merged_segs_46.jpg\n",
      "ketemu\n",
      "\n",
      "\n",
      "class tensor([0., 1.], device='cuda:0')\n",
      "indices (tensor([1], device='cuda:0'),)\n",
      "C:\\\\5025211148\\\\YOLOv9-Segmentation\\\\segmented_MC\\\\merged_segs_47.jpg\n",
      "ketemu\n",
      "\n",
      "\n",
      "class tensor([0., 1.], device='cuda:0')\n",
      "indices (tensor([1], device='cuda:0'),)\n",
      "C:\\\\5025211148\\\\YOLOv9-Segmentation\\\\segmented_MC\\\\merged_segs_48.jpg\n",
      "ketemu\n",
      "\n",
      "\n",
      "class tensor([0., 1.], device='cuda:0')\n",
      "indices (tensor([1], device='cuda:0'),)\n",
      "C:\\\\5025211148\\\\YOLOv9-Segmentation\\\\segmented_MC\\\\merged_segs_49.jpg\n",
      "ketemu\n",
      "\n",
      "\n",
      "class tensor([0., 1.], device='cuda:0')\n",
      "indices (tensor([1], device='cuda:0'),)\n",
      "C:\\\\5025211148\\\\YOLOv9-Segmentation\\\\segmented_MC\\\\merged_segs_50.jpg\n",
      "ketemu\n",
      "\n",
      "\n",
      "class tensor([0., 1.], device='cuda:0')\n",
      "indices (tensor([1], device='cuda:0'),)\n",
      "C:\\\\5025211148\\\\YOLOv9-Segmentation\\\\segmented_MC\\\\merged_segs_51.jpg\n",
      "ketemu\n",
      "\n",
      "\n",
      "class tensor([0., 1.], device='cuda:0')\n",
      "indices (tensor([1], device='cuda:0'),)\n",
      "C:\\\\5025211148\\\\YOLOv9-Segmentation\\\\segmented_MC\\\\merged_segs_52.jpg\n",
      "ketemu\n",
      "\n",
      "\n",
      "class tensor([0., 1.], device='cuda:0')\n",
      "indices (tensor([1], device='cuda:0'),)\n",
      "C:\\\\5025211148\\\\YOLOv9-Segmentation\\\\segmented_MC\\\\merged_segs_53.jpg\n",
      "ketemu\n",
      "\n",
      "\n",
      "class tensor([0., 1.], device='cuda:0')\n",
      "indices (tensor([1], device='cuda:0'),)\n",
      "C:\\\\5025211148\\\\YOLOv9-Segmentation\\\\segmented_MC\\\\merged_segs_54.jpg\n",
      "ketemu\n",
      "\n",
      "\n",
      "class tensor([0., 1.], device='cuda:0')\n",
      "indices (tensor([1], device='cuda:0'),)\n",
      "C:\\\\5025211148\\\\YOLOv9-Segmentation\\\\segmented_MC\\\\merged_segs_55.jpg\n",
      "ketemu\n",
      "\n",
      "\n",
      "class tensor([0., 1.], device='cuda:0')\n",
      "indices (tensor([1], device='cuda:0'),)\n",
      "C:\\\\5025211148\\\\YOLOv9-Segmentation\\\\segmented_MC\\\\merged_segs_56.jpg\n",
      "ketemu\n",
      "\n",
      "\n",
      "class tensor([0., 1.], device='cuda:0')\n",
      "indices (tensor([1], device='cuda:0'),)\n",
      "C:\\\\5025211148\\\\YOLOv9-Segmentation\\\\segmented_MC\\\\merged_segs_57.jpg\n",
      "ketemu\n",
      "\n",
      "\n",
      "class tensor([0., 1.], device='cuda:0')\n",
      "indices (tensor([1], device='cuda:0'),)\n",
      "C:\\\\5025211148\\\\YOLOv9-Segmentation\\\\segmented_MC\\\\merged_segs_58.jpg\n",
      "ketemu\n",
      "\n",
      "\n",
      "class tensor([0., 1.], device='cuda:0')\n",
      "indices (tensor([1], device='cuda:0'),)\n",
      "C:\\\\5025211148\\\\YOLOv9-Segmentation\\\\segmented_MC\\\\merged_segs_59.jpg\n",
      "ketemu\n",
      "\n",
      "\n",
      "class tensor([0., 1.], device='cuda:0')\n",
      "indices (tensor([1], device='cuda:0'),)\n",
      "C:\\\\5025211148\\\\YOLOv9-Segmentation\\\\segmented_MC\\\\merged_segs_60.jpg\n",
      "ketemu\n",
      "\n",
      "\n",
      "class tensor([0., 1.], device='cuda:0')\n",
      "indices (tensor([1], device='cuda:0'),)\n",
      "C:\\\\5025211148\\\\YOLOv9-Segmentation\\\\segmented_MC\\\\merged_segs_61.jpg\n",
      "ketemu\n",
      "\n",
      "\n",
      "class tensor([0., 1.], device='cuda:0')\n",
      "indices (tensor([1], device='cuda:0'),)\n",
      "C:\\\\5025211148\\\\YOLOv9-Segmentation\\\\segmented_MC\\\\merged_segs_62.jpg\n",
      "ketemu\n",
      "\n",
      "\n",
      "class tensor([0., 1.], device='cuda:0')\n",
      "indices (tensor([1], device='cuda:0'),)\n",
      "C:\\\\5025211148\\\\YOLOv9-Segmentation\\\\segmented_MC\\\\merged_segs_63.jpg\n",
      "ketemu\n",
      "\n",
      "\n",
      "class tensor([0., 1.], device='cuda:0')\n",
      "indices (tensor([1], device='cuda:0'),)\n",
      "C:\\\\5025211148\\\\YOLOv9-Segmentation\\\\segmented_MC\\\\merged_segs_64.jpg\n",
      "ketemu\n",
      "\n",
      "\n",
      "class tensor([0., 1.], device='cuda:0')\n",
      "indices (tensor([1], device='cuda:0'),)\n",
      "C:\\\\5025211148\\\\YOLOv9-Segmentation\\\\segmented_MC\\\\merged_segs_65.jpg\n",
      "ketemu\n",
      "\n",
      "\n",
      "class tensor([0., 1.], device='cuda:0')\n",
      "indices (tensor([1], device='cuda:0'),)\n",
      "C:\\\\5025211148\\\\YOLOv9-Segmentation\\\\segmented_MC\\\\merged_segs_66.jpg\n",
      "ketemu\n",
      "\n",
      "\n",
      "error index 0 is out of bounds for dimension 0 with size 0\n",
      "tidak ada mc lo..\n",
      "C:\\\\5025211148\\\\YOLOv9-Segmentation\\\\segmented_MC\\\\merged_segs_67.jpg\n",
      "class tensor([0., 1.], device='cuda:0')\n",
      "indices (tensor([1], device='cuda:0'),)\n",
      "C:\\\\5025211148\\\\YOLOv9-Segmentation\\\\segmented_MC\\\\merged_segs_68.jpg\n",
      "ketemu\n",
      "\n",
      "\n",
      "class tensor([0., 1.], device='cuda:0')\n",
      "indices (tensor([1], device='cuda:0'),)\n",
      "C:\\\\5025211148\\\\YOLOv9-Segmentation\\\\segmented_MC\\\\merged_segs_69.jpg\n",
      "ketemu\n",
      "\n",
      "\n",
      "class tensor([0., 1.], device='cuda:0')\n",
      "indices (tensor([1], device='cuda:0'),)\n",
      "C:\\\\5025211148\\\\YOLOv9-Segmentation\\\\segmented_MC\\\\merged_segs_70.jpg\n",
      "ketemu\n",
      "\n",
      "\n",
      "error index 0 is out of bounds for dimension 0 with size 0\n",
      "tidak ada mc lo..\n",
      "C:\\\\5025211148\\\\YOLOv9-Segmentation\\\\segmented_MC\\\\merged_segs_71.jpg\n",
      "class tensor([0., 1.], device='cuda:0')\n",
      "indices (tensor([1], device='cuda:0'),)\n",
      "C:\\\\5025211148\\\\YOLOv9-Segmentation\\\\segmented_MC\\\\merged_segs_72.jpg\n",
      "ketemu\n",
      "\n",
      "\n",
      "class tensor([0., 1.], device='cuda:0')\n",
      "indices (tensor([1], device='cuda:0'),)\n",
      "C:\\\\5025211148\\\\YOLOv9-Segmentation\\\\segmented_MC\\\\merged_segs_73.jpg\n",
      "ketemu\n",
      "\n",
      "\n",
      "class tensor([0., 1.], device='cuda:0')\n",
      "indices (tensor([1], device='cuda:0'),)\n",
      "C:\\\\5025211148\\\\YOLOv9-Segmentation\\\\segmented_MC\\\\merged_segs_74.jpg\n",
      "ketemu\n",
      "\n",
      "\n"
     ]
    }
   ],
   "source": [
    "import torch\n",
    "import cv2\n",
    "i = 0\n",
    "x = 101\n",
    "y = 200\n",
    "\n",
    "for result in results:\n",
    "  if(result.masks is not None):\n",
    "    # get the AB masks\n",
    "    try:\n",
    "      boxes = result.boxes.data\n",
    "      clss = boxes[:, 5]\n",
    "      AB_indices = torch.where(clss == 1)\n",
    "      AB_indices = (AB_indices[0][0].unsqueeze(0),)\n",
    "      # AB_indices = AB_indices[0][0]\n",
    "      print('class', clss)\n",
    "      print('indices', AB_indices)\n",
    "      # Convert mask to single channel image\n",
    "      mask_raw = result.masks.cpu().data[[AB_indices]].numpy().transpose(1, 2, 0)\n",
    "      # Convert single channel grayscale to 3 channel image\n",
    "      mask_3channel = cv2.merge((mask_raw,mask_raw,mask_raw))\n",
    "\n",
    "      # Get the size of the original image (height, width, channels)\n",
    "      h2, w2, c2 = result.orig_img.shape\n",
    "\n",
    "      # Resize the mask to the same size as the image (can probably be removed if image is the same size as the model)\n",
    "      mask = cv2.resize(mask_3channel, (w2, h2))\n",
    "\n",
    "      # Convert BGR to HSV\n",
    "      hsv = cv2.cvtColor(mask, cv2.COLOR_BGR2HSV)\n",
    "\n",
    "      # Define range of brightness in HSV\n",
    "      lower_black = np.array([0,0,0])\n",
    "      upper_black = np.array([0,0,1])\n",
    "\n",
    "      # Create a mask. Threshold the HSV image to get everything black\n",
    "      mask = cv2.inRange(mask, lower_black, upper_black)\n",
    "\n",
    "      # Invert the mask to get everything but black\n",
    "      mask = cv2.bitwise_not(mask)\n",
    "\n",
    "      # Apply the mask to the original image\n",
    "      masked = cv2.bitwise_and(result.orig_img, result.orig_img, mask=mask)\n",
    "\n",
    "      # Show the masked part of the image\n",
    "      # cv2.imshow(\"mask\", masked)\n",
    "      resized_mask = cv2.resize(mask, (101, 200))\n",
    "      cv2.imwrite(fr'{segmented_MC_path}\\\\merged_segs_{i}.jpg', resized_mask)\n",
    "      print(fr'{segmented_MC_path}\\\\merged_segs_{i}.jpg')\n",
    "      print('ketemu')\n",
    "    except Exception as e:\n",
    "      print('error',e)\n",
    "      width = 101\n",
    "      height = 200\n",
    "      black_image = np.zeros((height, width), dtype=np.uint8)\n",
    "      print('tidak ada mc lo..')\n",
    "      # Save the black image to a file\n",
    "      cv2.imwrite(fr'{segmented_MC_path}\\\\merged_segs_{i}.jpg', black_image)\n",
    "      print(fr'{segmented_MC_path}\\\\merged_segs_{i}.jpg')\n",
    "      i = i+1\n",
    "      continue\n",
    "  else:\n",
    "    width = 101\n",
    "    height = 200\n",
    "    black_image = np.zeros((height, width), dtype=np.uint8)\n",
    "    print('ada yang kosong lo..')\n",
    "    # Save the black image to a file\n",
    "    cv2.imwrite(fr'{segmented_MC_path}\\\\merged_segs_{i}.jpg', black_image)\n",
    "    print(fr'{segmented_MC_path}\\\\merged_segs_{i}.jpg')\n",
    "  print('\\n')\n",
    "  i = i+1"
   ]
  },
  {
   "cell_type": "code",
   "execution_count": 21,
   "metadata": {},
   "outputs": [
    {
     "name": "stdout",
     "output_type": "stream",
     "text": [
      "C:\\\\5025211148\\\\YOLOv9-Segmentation\\\\segmented_MC\\merged_segs_0.jpg\n",
      "C:\\\\5025211148\\\\YOLOv9-Segmentation\\\\segmented_MC\\merged_segs_1.jpg\n",
      "C:\\\\5025211148\\\\YOLOv9-Segmentation\\\\segmented_MC\\merged_segs_2.jpg\n",
      "C:\\\\5025211148\\\\YOLOv9-Segmentation\\\\segmented_MC\\merged_segs_3.jpg\n",
      "C:\\\\5025211148\\\\YOLOv9-Segmentation\\\\segmented_MC\\merged_segs_4.jpg\n",
      "C:\\\\5025211148\\\\YOLOv9-Segmentation\\\\segmented_MC\\merged_segs_5.jpg\n",
      "C:\\\\5025211148\\\\YOLOv9-Segmentation\\\\segmented_MC\\merged_segs_6.jpg\n",
      "C:\\\\5025211148\\\\YOLOv9-Segmentation\\\\segmented_MC\\merged_segs_7.jpg\n",
      "C:\\\\5025211148\\\\YOLOv9-Segmentation\\\\segmented_MC\\merged_segs_8.jpg\n",
      "C:\\\\5025211148\\\\YOLOv9-Segmentation\\\\segmented_MC\\merged_segs_9.jpg\n",
      "C:\\\\5025211148\\\\YOLOv9-Segmentation\\\\segmented_MC\\merged_segs_10.jpg\n",
      "C:\\\\5025211148\\\\YOLOv9-Segmentation\\\\segmented_MC\\merged_segs_11.jpg\n",
      "C:\\\\5025211148\\\\YOLOv9-Segmentation\\\\segmented_MC\\merged_segs_12.jpg\n",
      "C:\\\\5025211148\\\\YOLOv9-Segmentation\\\\segmented_MC\\merged_segs_13.jpg\n",
      "C:\\\\5025211148\\\\YOLOv9-Segmentation\\\\segmented_MC\\merged_segs_14.jpg\n",
      "C:\\\\5025211148\\\\YOLOv9-Segmentation\\\\segmented_MC\\merged_segs_15.jpg\n",
      "C:\\\\5025211148\\\\YOLOv9-Segmentation\\\\segmented_MC\\merged_segs_16.jpg\n",
      "C:\\\\5025211148\\\\YOLOv9-Segmentation\\\\segmented_MC\\merged_segs_17.jpg\n",
      "C:\\\\5025211148\\\\YOLOv9-Segmentation\\\\segmented_MC\\merged_segs_18.jpg\n",
      "C:\\\\5025211148\\\\YOLOv9-Segmentation\\\\segmented_MC\\merged_segs_19.jpg\n",
      "C:\\\\5025211148\\\\YOLOv9-Segmentation\\\\segmented_MC\\merged_segs_20.jpg\n",
      "C:\\\\5025211148\\\\YOLOv9-Segmentation\\\\segmented_MC\\merged_segs_21.jpg\n",
      "C:\\\\5025211148\\\\YOLOv9-Segmentation\\\\segmented_MC\\merged_segs_22.jpg\n",
      "C:\\\\5025211148\\\\YOLOv9-Segmentation\\\\segmented_MC\\merged_segs_23.jpg\n",
      "C:\\\\5025211148\\\\YOLOv9-Segmentation\\\\segmented_MC\\merged_segs_24.jpg\n",
      "C:\\\\5025211148\\\\YOLOv9-Segmentation\\\\segmented_MC\\merged_segs_25.jpg\n",
      "C:\\\\5025211148\\\\YOLOv9-Segmentation\\\\segmented_MC\\merged_segs_26.jpg\n",
      "C:\\\\5025211148\\\\YOLOv9-Segmentation\\\\segmented_MC\\merged_segs_27.jpg\n",
      "C:\\\\5025211148\\\\YOLOv9-Segmentation\\\\segmented_MC\\merged_segs_28.jpg\n",
      "C:\\\\5025211148\\\\YOLOv9-Segmentation\\\\segmented_MC\\merged_segs_29.jpg\n",
      "C:\\\\5025211148\\\\YOLOv9-Segmentation\\\\segmented_MC\\merged_segs_30.jpg\n",
      "C:\\\\5025211148\\\\YOLOv9-Segmentation\\\\segmented_MC\\merged_segs_31.jpg\n",
      "C:\\\\5025211148\\\\YOLOv9-Segmentation\\\\segmented_MC\\merged_segs_32.jpg\n",
      "C:\\\\5025211148\\\\YOLOv9-Segmentation\\\\segmented_MC\\merged_segs_33.jpg\n",
      "C:\\\\5025211148\\\\YOLOv9-Segmentation\\\\segmented_MC\\merged_segs_34.jpg\n",
      "C:\\\\5025211148\\\\YOLOv9-Segmentation\\\\segmented_MC\\merged_segs_35.jpg\n",
      "C:\\\\5025211148\\\\YOLOv9-Segmentation\\\\segmented_MC\\merged_segs_36.jpg\n",
      "C:\\\\5025211148\\\\YOLOv9-Segmentation\\\\segmented_MC\\merged_segs_37.jpg\n",
      "C:\\\\5025211148\\\\YOLOv9-Segmentation\\\\segmented_MC\\merged_segs_38.jpg\n",
      "C:\\\\5025211148\\\\YOLOv9-Segmentation\\\\segmented_MC\\merged_segs_39.jpg\n",
      "C:\\\\5025211148\\\\YOLOv9-Segmentation\\\\segmented_MC\\merged_segs_40.jpg\n",
      "C:\\\\5025211148\\\\YOLOv9-Segmentation\\\\segmented_MC\\merged_segs_41.jpg\n",
      "C:\\\\5025211148\\\\YOLOv9-Segmentation\\\\segmented_MC\\merged_segs_42.jpg\n",
      "C:\\\\5025211148\\\\YOLOv9-Segmentation\\\\segmented_MC\\merged_segs_43.jpg\n",
      "C:\\\\5025211148\\\\YOLOv9-Segmentation\\\\segmented_MC\\merged_segs_44.jpg\n",
      "C:\\\\5025211148\\\\YOLOv9-Segmentation\\\\segmented_MC\\merged_segs_45.jpg\n",
      "C:\\\\5025211148\\\\YOLOv9-Segmentation\\\\segmented_MC\\merged_segs_46.jpg\n",
      "C:\\\\5025211148\\\\YOLOv9-Segmentation\\\\segmented_MC\\merged_segs_47.jpg\n",
      "C:\\\\5025211148\\\\YOLOv9-Segmentation\\\\segmented_MC\\merged_segs_48.jpg\n",
      "C:\\\\5025211148\\\\YOLOv9-Segmentation\\\\segmented_MC\\merged_segs_49.jpg\n",
      "C:\\\\5025211148\\\\YOLOv9-Segmentation\\\\segmented_MC\\merged_segs_50.jpg\n",
      "C:\\\\5025211148\\\\YOLOv9-Segmentation\\\\segmented_MC\\merged_segs_51.jpg\n",
      "C:\\\\5025211148\\\\YOLOv9-Segmentation\\\\segmented_MC\\merged_segs_52.jpg\n",
      "C:\\\\5025211148\\\\YOLOv9-Segmentation\\\\segmented_MC\\merged_segs_53.jpg\n",
      "C:\\\\5025211148\\\\YOLOv9-Segmentation\\\\segmented_MC\\merged_segs_54.jpg\n",
      "C:\\\\5025211148\\\\YOLOv9-Segmentation\\\\segmented_MC\\merged_segs_55.jpg\n",
      "C:\\\\5025211148\\\\YOLOv9-Segmentation\\\\segmented_MC\\merged_segs_56.jpg\n",
      "C:\\\\5025211148\\\\YOLOv9-Segmentation\\\\segmented_MC\\merged_segs_57.jpg\n",
      "C:\\\\5025211148\\\\YOLOv9-Segmentation\\\\segmented_MC\\merged_segs_58.jpg\n",
      "C:\\\\5025211148\\\\YOLOv9-Segmentation\\\\segmented_MC\\merged_segs_59.jpg\n",
      "C:\\\\5025211148\\\\YOLOv9-Segmentation\\\\segmented_MC\\merged_segs_60.jpg\n",
      "C:\\\\5025211148\\\\YOLOv9-Segmentation\\\\segmented_MC\\merged_segs_61.jpg\n",
      "C:\\\\5025211148\\\\YOLOv9-Segmentation\\\\segmented_MC\\merged_segs_62.jpg\n",
      "C:\\\\5025211148\\\\YOLOv9-Segmentation\\\\segmented_MC\\merged_segs_63.jpg\n",
      "C:\\\\5025211148\\\\YOLOv9-Segmentation\\\\segmented_MC\\merged_segs_64.jpg\n",
      "C:\\\\5025211148\\\\YOLOv9-Segmentation\\\\segmented_MC\\merged_segs_65.jpg\n",
      "C:\\\\5025211148\\\\YOLOv9-Segmentation\\\\segmented_MC\\merged_segs_66.jpg\n",
      "C:\\\\5025211148\\\\YOLOv9-Segmentation\\\\segmented_MC\\merged_segs_67.jpg\n",
      "C:\\\\5025211148\\\\YOLOv9-Segmentation\\\\segmented_MC\\merged_segs_68.jpg\n",
      "C:\\\\5025211148\\\\YOLOv9-Segmentation\\\\segmented_MC\\merged_segs_69.jpg\n",
      "C:\\\\5025211148\\\\YOLOv9-Segmentation\\\\segmented_MC\\merged_segs_70.jpg\n",
      "C:\\\\5025211148\\\\YOLOv9-Segmentation\\\\segmented_MC\\merged_segs_71.jpg\n",
      "C:\\\\5025211148\\\\YOLOv9-Segmentation\\\\segmented_MC\\merged_segs_72.jpg\n",
      "C:\\\\5025211148\\\\YOLOv9-Segmentation\\\\segmented_MC\\merged_segs_73.jpg\n",
      "C:\\\\5025211148\\\\YOLOv9-Segmentation\\\\segmented_MC\\merged_segs_74.jpg\n"
     ]
    }
   ],
   "source": [
    "import os\n",
    "import re\n",
    "\n",
    "# specify the directory path\n",
    "directory_path = segmented_MC_path_2\n",
    "\n",
    "# create an empty list to store the filenames with directory path\n",
    "file_list_MC = []\n",
    "\n",
    "# iterate over the files in the directory\n",
    "for filename in os.listdir(directory_path):\n",
    "    # check if the item is a file\n",
    "    if os.path.isfile(os.path.join(directory_path, filename)):\n",
    "        # append the filename with directory path to the list\n",
    "        file_list_MC.append(os.path.join(directory_path, filename))\n",
    "\n",
    "def extract_number(s):\n",
    "    match = re.search(r'merged_segs_(\\d+)', s)  # Match 'merged_segs_' followed by one or more digits\n",
    "    return int(match.group(1)) if match else float('inf')\n",
    "\n",
    "file_list_MC = sorted(file_list_MC, key=extract_number)\n",
    "for filename in file_list_MC:\n",
    "    print(filename)\n",
    "# print(file_list)  # Output: sorted file_list with filenames like 'merged_segs_0', 'merged_segs_1', 'merged_segs_2', etc.\n"
   ]
  },
  {
   "cell_type": "code",
   "execution_count": 22,
   "metadata": {},
   "outputs": [
    {
     "name": "stdout",
     "output_type": "stream",
     "text": [
      "(75, 200, 101)\n"
     ]
    }
   ],
   "source": [
    "import numpy as np\n",
    "from PIL import Image  # If your images are in image files\n",
    "\n",
    "# Assuming img_files is a list of file paths to the 2D images\n",
    "# img_files = ['image1.png', 'image2.png', 'image3.png']  # Replace with your actual file paths\n",
    "\n",
    "# Load the images and convert them to numpy arrays\n",
    "image_arrays = [np.array(Image.open(img_file)) for img_file in file_list_MC]\n",
    "\n",
    "# Stack the image arrays into a 3D numpy array\n",
    "stacked_images = np.stack(image_arrays, axis=0)\n",
    "\n",
    "# stacked_images is now a 3D numpy array where the first dimension represents the index of the image in the list\n",
    "\n",
    "# Example usage:\n",
    "print(stacked_images.shape)  # Output: (3, height, width, channels) assuming RGB images\n",
    "\n",
    "np.save(segmented_MC_npy, stacked_images)"
   ]
  },
  {
   "cell_type": "code",
   "execution_count": 23,
   "metadata": {},
   "outputs": [
    {
     "name": "stdout",
     "output_type": "stream",
     "text": [
      "Saved resized output image for slice_0_png.rf.b6a308ad17de783c210d9ceb410d76a1.jpg as C:\\\\5025211148\\\\YOLOv9-Segmentation\\\\Dataset Train Val\\\\gt-AB\\slice_0_png.rf.b6a308ad17de783c210d9ceb410d76a1_output.jpg\n",
      "Saved resized output image for slice_10_png.rf.8cfc23276c5e0a0a9c082a84937bbfa9.jpg as C:\\\\5025211148\\\\YOLOv9-Segmentation\\\\Dataset Train Val\\\\gt-AB\\slice_10_png.rf.8cfc23276c5e0a0a9c082a84937bbfa9_output.jpg\n",
      "Saved resized output image for slice_11_png.rf.2f4ba45901be13bdd4a6d27191f04632.jpg as C:\\\\5025211148\\\\YOLOv9-Segmentation\\\\Dataset Train Val\\\\gt-AB\\slice_11_png.rf.2f4ba45901be13bdd4a6d27191f04632_output.jpg\n",
      "Saved resized output image for slice_12_png.rf.e697ea8e2a874fe7e9b6625b141d770f.jpg as C:\\\\5025211148\\\\YOLOv9-Segmentation\\\\Dataset Train Val\\\\gt-AB\\slice_12_png.rf.e697ea8e2a874fe7e9b6625b141d770f_output.jpg\n",
      "Saved resized output image for slice_13_png.rf.3e77ef333ad7540a2e71c11b85729e94.jpg as C:\\\\5025211148\\\\YOLOv9-Segmentation\\\\Dataset Train Val\\\\gt-AB\\slice_13_png.rf.3e77ef333ad7540a2e71c11b85729e94_output.jpg\n",
      "Saved resized output image for slice_14_png.rf.d4246e1825c0cc584de095d27ae0ba29.jpg as C:\\\\5025211148\\\\YOLOv9-Segmentation\\\\Dataset Train Val\\\\gt-AB\\slice_14_png.rf.d4246e1825c0cc584de095d27ae0ba29_output.jpg\n",
      "Saved resized output image for slice_15_png.rf.08dca079baea99e2094955b7bca56721.jpg as C:\\\\5025211148\\\\YOLOv9-Segmentation\\\\Dataset Train Val\\\\gt-AB\\slice_15_png.rf.08dca079baea99e2094955b7bca56721_output.jpg\n",
      "Saved resized output image for slice_16_png.rf.5505cc7edadd735a4051c540ba652f82.jpg as C:\\\\5025211148\\\\YOLOv9-Segmentation\\\\Dataset Train Val\\\\gt-AB\\slice_16_png.rf.5505cc7edadd735a4051c540ba652f82_output.jpg\n",
      "Saved resized output image for slice_184_jpg.rf.fb7007d3aec48c5887b58c4b1f251982.jpg as C:\\\\5025211148\\\\YOLOv9-Segmentation\\\\Dataset Train Val\\\\gt-AB\\slice_184_jpg.rf.fb7007d3aec48c5887b58c4b1f251982_output.jpg\n",
      "Saved resized output image for slice_185_jpg.rf.c259553f5c57f7ea65f5ec81e559a32a.jpg as C:\\\\5025211148\\\\YOLOv9-Segmentation\\\\Dataset Train Val\\\\gt-AB\\slice_185_jpg.rf.c259553f5c57f7ea65f5ec81e559a32a_output.jpg\n",
      "Saved resized output image for slice_186_jpg.rf.7fea4a8ac7a43acb2f28d29a8c9e2b18.jpg as C:\\\\5025211148\\\\YOLOv9-Segmentation\\\\Dataset Train Val\\\\gt-AB\\slice_186_jpg.rf.7fea4a8ac7a43acb2f28d29a8c9e2b18_output.jpg\n",
      "Saved resized output image for slice_187_jpg.rf.9abf8d193ac601a0c952ef8160a9a2f3.jpg as C:\\\\5025211148\\\\YOLOv9-Segmentation\\\\Dataset Train Val\\\\gt-AB\\slice_187_jpg.rf.9abf8d193ac601a0c952ef8160a9a2f3_output.jpg\n",
      "Saved resized output image for slice_188_jpg.rf.5fbe759a3a7c1fde7f222c92ef628ffc.jpg as C:\\\\5025211148\\\\YOLOv9-Segmentation\\\\Dataset Train Val\\\\gt-AB\\slice_188_jpg.rf.5fbe759a3a7c1fde7f222c92ef628ffc_output.jpg\n",
      "Saved resized output image for slice_189_jpg.rf.c1670c9fd948cb7906245cbbfe3f3ed5.jpg as C:\\\\5025211148\\\\YOLOv9-Segmentation\\\\Dataset Train Val\\\\gt-AB\\slice_189_jpg.rf.c1670c9fd948cb7906245cbbfe3f3ed5_output.jpg\n",
      "Saved resized output image for slice_190_jpg.rf.ad95785b57764989b3cd348bf7ebf3df.jpg as C:\\\\5025211148\\\\YOLOv9-Segmentation\\\\Dataset Train Val\\\\gt-AB\\slice_190_jpg.rf.ad95785b57764989b3cd348bf7ebf3df_output.jpg\n",
      "Saved resized output image for slice_191_jpg.rf.0ee9ad54909660dc8183df6b1a9d936d.jpg as C:\\\\5025211148\\\\YOLOv9-Segmentation\\\\Dataset Train Val\\\\gt-AB\\slice_191_jpg.rf.0ee9ad54909660dc8183df6b1a9d936d_output.jpg\n",
      "Saved resized output image for slice_192_jpg.rf.5f98ffbe0c04578941047e31680f4ac8.jpg as C:\\\\5025211148\\\\YOLOv9-Segmentation\\\\Dataset Train Val\\\\gt-AB\\slice_192_jpg.rf.5f98ffbe0c04578941047e31680f4ac8_output.jpg\n",
      "Saved resized output image for slice_193_jpg.rf.997bde128c89a09bddde6eede7136af8.jpg as C:\\\\5025211148\\\\YOLOv9-Segmentation\\\\Dataset Train Val\\\\gt-AB\\slice_193_jpg.rf.997bde128c89a09bddde6eede7136af8_output.jpg\n",
      "Saved resized output image for slice_194_jpg.rf.510119948c76ce4b0ba77184428b99a1.jpg as C:\\\\5025211148\\\\YOLOv9-Segmentation\\\\Dataset Train Val\\\\gt-AB\\slice_194_jpg.rf.510119948c76ce4b0ba77184428b99a1_output.jpg\n",
      "Saved resized output image for slice_195_jpg.rf.4bdeee9e3f4907b631f508bcec563dc2.jpg as C:\\\\5025211148\\\\YOLOv9-Segmentation\\\\Dataset Train Val\\\\gt-AB\\slice_195_jpg.rf.4bdeee9e3f4907b631f508bcec563dc2_output.jpg\n",
      "Saved resized output image for slice_196_jpg.rf.dc89629b77d81e3226e63a87afeecfc7.jpg as C:\\\\5025211148\\\\YOLOv9-Segmentation\\\\Dataset Train Val\\\\gt-AB\\slice_196_jpg.rf.dc89629b77d81e3226e63a87afeecfc7_output.jpg\n",
      "Saved resized output image for slice_197_jpg.rf.9ce57987bde90784b202fe9e6d7c481e.jpg as C:\\\\5025211148\\\\YOLOv9-Segmentation\\\\Dataset Train Val\\\\gt-AB\\slice_197_jpg.rf.9ce57987bde90784b202fe9e6d7c481e_output.jpg\n",
      "Saved resized output image for slice_198_jpg.rf.6b58b1ba2b6b73b61ba979f22fb46caf.jpg as C:\\\\5025211148\\\\YOLOv9-Segmentation\\\\Dataset Train Val\\\\gt-AB\\slice_198_jpg.rf.6b58b1ba2b6b73b61ba979f22fb46caf_output.jpg\n",
      "Saved resized output image for slice_199_jpg.rf.26f48bd8f377db569234a70975b06f44.jpg as C:\\\\5025211148\\\\YOLOv9-Segmentation\\\\Dataset Train Val\\\\gt-AB\\slice_199_jpg.rf.26f48bd8f377db569234a70975b06f44_output.jpg\n",
      "Saved resized output image for slice_1_png.rf.813ec633aebc1e939b902b040068a91a.jpg as C:\\\\5025211148\\\\YOLOv9-Segmentation\\\\Dataset Train Val\\\\gt-AB\\slice_1_png.rf.813ec633aebc1e939b902b040068a91a_output.jpg\n",
      "Saved resized output image for slice_200_jpg.rf.7a651a02064be38cf08502236c43f762.jpg as C:\\\\5025211148\\\\YOLOv9-Segmentation\\\\Dataset Train Val\\\\gt-AB\\slice_200_jpg.rf.7a651a02064be38cf08502236c43f762_output.jpg\n",
      "Saved resized output image for slice_201_jpg.rf.405030fbbb0b7c68d0450b10c48f32b3.jpg as C:\\\\5025211148\\\\YOLOv9-Segmentation\\\\Dataset Train Val\\\\gt-AB\\slice_201_jpg.rf.405030fbbb0b7c68d0450b10c48f32b3_output.jpg\n",
      "Saved resized output image for slice_202_jpg.rf.f7e659f04a40049e6cba5239c0ca41fe.jpg as C:\\\\5025211148\\\\YOLOv9-Segmentation\\\\Dataset Train Val\\\\gt-AB\\slice_202_jpg.rf.f7e659f04a40049e6cba5239c0ca41fe_output.jpg\n",
      "Saved resized output image for slice_203_jpg.rf.e5030f4868e53e80acb8f21aef7489f9.jpg as C:\\\\5025211148\\\\YOLOv9-Segmentation\\\\Dataset Train Val\\\\gt-AB\\slice_203_jpg.rf.e5030f4868e53e80acb8f21aef7489f9_output.jpg\n",
      "Saved resized output image for slice_204_jpg.rf.379e8a1abf3842f461423e8e76141932.jpg as C:\\\\5025211148\\\\YOLOv9-Segmentation\\\\Dataset Train Val\\\\gt-AB\\slice_204_jpg.rf.379e8a1abf3842f461423e8e76141932_output.jpg\n",
      "Saved resized output image for slice_205_jpg.rf.91c7f454ebef22c3ff8ce5727bba228e.jpg as C:\\\\5025211148\\\\YOLOv9-Segmentation\\\\Dataset Train Val\\\\gt-AB\\slice_205_jpg.rf.91c7f454ebef22c3ff8ce5727bba228e_output.jpg\n",
      "Saved resized output image for slice_206_jpg.rf.5b4192b7ef82aad37ac4d99ed13e2ee2.jpg as C:\\\\5025211148\\\\YOLOv9-Segmentation\\\\Dataset Train Val\\\\gt-AB\\slice_206_jpg.rf.5b4192b7ef82aad37ac4d99ed13e2ee2_output.jpg\n",
      "Saved resized output image for slice_207_jpg.rf.6c10293c5a5cc5871fe43008a8840e3b.jpg as C:\\\\5025211148\\\\YOLOv9-Segmentation\\\\Dataset Train Val\\\\gt-AB\\slice_207_jpg.rf.6c10293c5a5cc5871fe43008a8840e3b_output.jpg\n",
      "Saved resized output image for slice_208_jpg.rf.474a2cc7da8963637f4a10d5518ef23b.jpg as C:\\\\5025211148\\\\YOLOv9-Segmentation\\\\Dataset Train Val\\\\gt-AB\\slice_208_jpg.rf.474a2cc7da8963637f4a10d5518ef23b_output.jpg\n",
      "Saved resized output image for slice_209_jpg.rf.8931044812d6e143d00fc94414dc965c.jpg as C:\\\\5025211148\\\\YOLOv9-Segmentation\\\\Dataset Train Val\\\\gt-AB\\slice_209_jpg.rf.8931044812d6e143d00fc94414dc965c_output.jpg\n",
      "Saved resized output image for slice_210_jpg.rf.2f1e8d2936842397afbbace9a9c9ace1.jpg as C:\\\\5025211148\\\\YOLOv9-Segmentation\\\\Dataset Train Val\\\\gt-AB\\slice_210_jpg.rf.2f1e8d2936842397afbbace9a9c9ace1_output.jpg\n",
      "Saved resized output image for slice_211_jpg.rf.ce50dbaa10adb29f88ba7ce96c4b28e3.jpg as C:\\\\5025211148\\\\YOLOv9-Segmentation\\\\Dataset Train Val\\\\gt-AB\\slice_211_jpg.rf.ce50dbaa10adb29f88ba7ce96c4b28e3_output.jpg\n",
      "Saved resized output image for slice_212_jpg.rf.fa999268d1357cfe3baf7f66d218858a.jpg as C:\\\\5025211148\\\\YOLOv9-Segmentation\\\\Dataset Train Val\\\\gt-AB\\slice_212_jpg.rf.fa999268d1357cfe3baf7f66d218858a_output.jpg\n",
      "Saved resized output image for slice_227_jpg.rf.47e302d51c39b996e9aa5c2457568e72.jpg as C:\\\\5025211148\\\\YOLOv9-Segmentation\\\\Dataset Train Val\\\\gt-AB\\slice_227_jpg.rf.47e302d51c39b996e9aa5c2457568e72_output.jpg\n",
      "Saved resized output image for slice_228_jpg.rf.d6fa4e941fd8ee957cb2fa40d1617dcd.jpg as C:\\\\5025211148\\\\YOLOv9-Segmentation\\\\Dataset Train Val\\\\gt-AB\\slice_228_jpg.rf.d6fa4e941fd8ee957cb2fa40d1617dcd_output.jpg\n",
      "Saved resized output image for slice_229_jpg.rf.c4406e3223457b9d82da77009e090083.jpg as C:\\\\5025211148\\\\YOLOv9-Segmentation\\\\Dataset Train Val\\\\gt-AB\\slice_229_jpg.rf.c4406e3223457b9d82da77009e090083_output.jpg\n",
      "Saved resized output image for slice_230_jpg.rf.c38851d2bc1de61efaff2c6a0c6a533b.jpg as C:\\\\5025211148\\\\YOLOv9-Segmentation\\\\Dataset Train Val\\\\gt-AB\\slice_230_jpg.rf.c38851d2bc1de61efaff2c6a0c6a533b_output.jpg\n",
      "Saved resized output image for slice_231_jpg.rf.5a943022fe92bf999159d5a80fdfaa3c.jpg as C:\\\\5025211148\\\\YOLOv9-Segmentation\\\\Dataset Train Val\\\\gt-AB\\slice_231_jpg.rf.5a943022fe92bf999159d5a80fdfaa3c_output.jpg\n",
      "Saved resized output image for slice_232_jpg.rf.36559349f65c59474e2c273ef3a1895f.jpg as C:\\\\5025211148\\\\YOLOv9-Segmentation\\\\Dataset Train Val\\\\gt-AB\\slice_232_jpg.rf.36559349f65c59474e2c273ef3a1895f_output.jpg\n",
      "Saved resized output image for slice_233_jpg.rf.21c7a2018478f98c4170d84b9d900a8b.jpg as C:\\\\5025211148\\\\YOLOv9-Segmentation\\\\Dataset Train Val\\\\gt-AB\\slice_233_jpg.rf.21c7a2018478f98c4170d84b9d900a8b_output.jpg\n",
      "Saved resized output image for slice_234_jpg.rf.8376c291224523f2379285e6739f8508.jpg as C:\\\\5025211148\\\\YOLOv9-Segmentation\\\\Dataset Train Val\\\\gt-AB\\slice_234_jpg.rf.8376c291224523f2379285e6739f8508_output.jpg\n",
      "Saved resized output image for slice_234_jpg.rf.8c97c306d89d4aea1956db536d9ae8da.jpg as C:\\\\5025211148\\\\YOLOv9-Segmentation\\\\Dataset Train Val\\\\gt-AB\\slice_234_jpg.rf.8c97c306d89d4aea1956db536d9ae8da_output.jpg\n",
      "Saved resized output image for slice_235_jpg.rf.7a0cd7f426f4c0b16065120adc6c63f0.jpg as C:\\\\5025211148\\\\YOLOv9-Segmentation\\\\Dataset Train Val\\\\gt-AB\\slice_235_jpg.rf.7a0cd7f426f4c0b16065120adc6c63f0_output.jpg\n",
      "Saved resized output image for slice_236_jpg.rf.baef61c5ff250c1d85dc3ee096660de8.jpg as C:\\\\5025211148\\\\YOLOv9-Segmentation\\\\Dataset Train Val\\\\gt-AB\\slice_236_jpg.rf.baef61c5ff250c1d85dc3ee096660de8_output.jpg\n",
      "Saved resized output image for slice_237_jpg.rf.b9610d515a5437097ad9d6ec26739bd9.jpg as C:\\\\5025211148\\\\YOLOv9-Segmentation\\\\Dataset Train Val\\\\gt-AB\\slice_237_jpg.rf.b9610d515a5437097ad9d6ec26739bd9_output.jpg\n",
      "Saved resized output image for slice_238_jpg.rf.6025395d22a4004b13a3f9b376079bb8.jpg as C:\\\\5025211148\\\\YOLOv9-Segmentation\\\\Dataset Train Val\\\\gt-AB\\slice_238_jpg.rf.6025395d22a4004b13a3f9b376079bb8_output.jpg\n",
      "Saved resized output image for slice_239_jpg.rf.b6d73c66406e62a091551a6d3ccce095.jpg as C:\\\\5025211148\\\\YOLOv9-Segmentation\\\\Dataset Train Val\\\\gt-AB\\slice_239_jpg.rf.b6d73c66406e62a091551a6d3ccce095_output.jpg\n",
      "Saved resized output image for slice_239_jpg.rf.bd8f5271a858f2a277c210f5e04a86df.jpg as C:\\\\5025211148\\\\YOLOv9-Segmentation\\\\Dataset Train Val\\\\gt-AB\\slice_239_jpg.rf.bd8f5271a858f2a277c210f5e04a86df_output.jpg\n",
      "Saved resized output image for slice_240_jpg.rf.0aa788cdb7219a189ea9e4b9a53b996a.jpg as C:\\\\5025211148\\\\YOLOv9-Segmentation\\\\Dataset Train Val\\\\gt-AB\\slice_240_jpg.rf.0aa788cdb7219a189ea9e4b9a53b996a_output.jpg\n",
      "Saved resized output image for slice_241_jpg.rf.5bb370de0c0c5a0a1298999b8269e4b4.jpg as C:\\\\5025211148\\\\YOLOv9-Segmentation\\\\Dataset Train Val\\\\gt-AB\\slice_241_jpg.rf.5bb370de0c0c5a0a1298999b8269e4b4_output.jpg\n",
      "Saved resized output image for slice_241_jpg.rf.8e99851409db29bcb7433e96215d032f.jpg as C:\\\\5025211148\\\\YOLOv9-Segmentation\\\\Dataset Train Val\\\\gt-AB\\slice_241_jpg.rf.8e99851409db29bcb7433e96215d032f_output.jpg\n",
      "Saved resized output image for slice_242_jpg.rf.04473fce5585378c912db056877ef4be.jpg as C:\\\\5025211148\\\\YOLOv9-Segmentation\\\\Dataset Train Val\\\\gt-AB\\slice_242_jpg.rf.04473fce5585378c912db056877ef4be_output.jpg\n",
      "Saved resized output image for slice_243_jpg.rf.4e282c9d623df41fb28d1181aff460f7.jpg as C:\\\\5025211148\\\\YOLOv9-Segmentation\\\\Dataset Train Val\\\\gt-AB\\slice_243_jpg.rf.4e282c9d623df41fb28d1181aff460f7_output.jpg\n",
      "Saved resized output image for slice_243_jpg.rf.ae3d135830b986a680d9ef8fbe5441f9.jpg as C:\\\\5025211148\\\\YOLOv9-Segmentation\\\\Dataset Train Val\\\\gt-AB\\slice_243_jpg.rf.ae3d135830b986a680d9ef8fbe5441f9_output.jpg\n",
      "Saved resized output image for slice_244_jpg.rf.4a9409f3b5a33b7c702d348109c89c68.jpg as C:\\\\5025211148\\\\YOLOv9-Segmentation\\\\Dataset Train Val\\\\gt-AB\\slice_244_jpg.rf.4a9409f3b5a33b7c702d348109c89c68_output.jpg\n",
      "Saved resized output image for slice_245_jpg.rf.69a1679f246e89e375a49ba7b2e03b67.jpg as C:\\\\5025211148\\\\YOLOv9-Segmentation\\\\Dataset Train Val\\\\gt-AB\\slice_245_jpg.rf.69a1679f246e89e375a49ba7b2e03b67_output.jpg\n",
      "Saved resized output image for slice_245_jpg.rf.7280f92363a1b9f4c1b74a7079335c62.jpg as C:\\\\5025211148\\\\YOLOv9-Segmentation\\\\Dataset Train Val\\\\gt-AB\\slice_245_jpg.rf.7280f92363a1b9f4c1b74a7079335c62_output.jpg\n",
      "Saved resized output image for slice_246_jpg.rf.1b3b7419434d4f2ffe8a69c66cc0eb7d.jpg as C:\\\\5025211148\\\\YOLOv9-Segmentation\\\\Dataset Train Val\\\\gt-AB\\slice_246_jpg.rf.1b3b7419434d4f2ffe8a69c66cc0eb7d_output.jpg\n",
      "Saved resized output image for slice_247_jpg.rf.0132c277c4d7f8c5c95ea3a595ba7315.jpg as C:\\\\5025211148\\\\YOLOv9-Segmentation\\\\Dataset Train Val\\\\gt-AB\\slice_247_jpg.rf.0132c277c4d7f8c5c95ea3a595ba7315_output.jpg\n",
      "Saved resized output image for slice_248_jpg.rf.fe48f8cb5097a5c105f48b585f33a07a.jpg as C:\\\\5025211148\\\\YOLOv9-Segmentation\\\\Dataset Train Val\\\\gt-AB\\slice_248_jpg.rf.fe48f8cb5097a5c105f48b585f33a07a_output.jpg\n",
      "Saved resized output image for slice_250_jpg.rf.84d15643db599a8826b8ca7b5320dfc5.jpg as C:\\\\5025211148\\\\YOLOv9-Segmentation\\\\Dataset Train Val\\\\gt-AB\\slice_250_jpg.rf.84d15643db599a8826b8ca7b5320dfc5_output.jpg\n",
      "Saved resized output image for slice_257_jpg.rf.1afa5d3faf30171b5a1ee38437f1cae5.jpg as C:\\\\5025211148\\\\YOLOv9-Segmentation\\\\Dataset Train Val\\\\gt-AB\\slice_257_jpg.rf.1afa5d3faf30171b5a1ee38437f1cae5_output.jpg\n",
      "Saved resized output image for slice_2_png.rf.773ebb3973e8d24b3610d7d5889312bf.jpg as C:\\\\5025211148\\\\YOLOv9-Segmentation\\\\Dataset Train Val\\\\gt-AB\\slice_2_png.rf.773ebb3973e8d24b3610d7d5889312bf_output.jpg\n",
      "Saved resized output image for slice_3_png.rf.2b7ac0dccdcc3241e2441dcdfe40b19a.jpg as C:\\\\5025211148\\\\YOLOv9-Segmentation\\\\Dataset Train Val\\\\gt-AB\\slice_3_png.rf.2b7ac0dccdcc3241e2441dcdfe40b19a_output.jpg\n",
      "Saved resized output image for slice_4_png.rf.ed9951865dd8c8e9c4bb357b12d90bf3.jpg as C:\\\\5025211148\\\\YOLOv9-Segmentation\\\\Dataset Train Val\\\\gt-AB\\slice_4_png.rf.ed9951865dd8c8e9c4bb357b12d90bf3_output.jpg\n",
      "Saved resized output image for slice_5_png.rf.fa534a063f0865aba05bfb1f39bf17f1.jpg as C:\\\\5025211148\\\\YOLOv9-Segmentation\\\\Dataset Train Val\\\\gt-AB\\slice_5_png.rf.fa534a063f0865aba05bfb1f39bf17f1_output.jpg\n",
      "Saved resized output image for slice_6_png.rf.69513226c67a48924c9727490a40871b.jpg as C:\\\\5025211148\\\\YOLOv9-Segmentation\\\\Dataset Train Val\\\\gt-AB\\slice_6_png.rf.69513226c67a48924c9727490a40871b_output.jpg\n",
      "Saved resized output image for slice_7_png.rf.911a9c8ba0e64b11ffd5e11ceb31250e.jpg as C:\\\\5025211148\\\\YOLOv9-Segmentation\\\\Dataset Train Val\\\\gt-AB\\slice_7_png.rf.911a9c8ba0e64b11ffd5e11ceb31250e_output.jpg\n",
      "Saved resized output image for slice_8_png.rf.08bf826fea5c4ff01a4a4d1f987b7af6.jpg as C:\\\\5025211148\\\\YOLOv9-Segmentation\\\\Dataset Train Val\\\\gt-AB\\slice_8_png.rf.08bf826fea5c4ff01a4a4d1f987b7af6_output.jpg\n",
      "Saved resized output image for slice_9_png.rf.7b263d87fcdea007b3b78938772a24a5.jpg as C:\\\\5025211148\\\\YOLOv9-Segmentation\\\\Dataset Train Val\\\\gt-AB\\slice_9_png.rf.7b263d87fcdea007b3b78938772a24a5_output.jpg\n"
     ]
    }
   ],
   "source": [
    "import os\n",
    "import cv2\n",
    "import numpy as np\n",
    "\n",
    "# Directory paths\n",
    "img_path = valid_path\n",
    "gt_path = ground_truth_path\n",
    "output_path = gt_AB_path\n",
    "\n",
    "# Ensure output directory exists\n",
    "if not os.path.exists(output_path):\n",
    "    os.makedirs(output_path)\n",
    "\n",
    "# Iterate over files in the image directory\n",
    "for img_file in os.listdir(img_path):\n",
    "    if img_file.endswith(\".jpg\") or img_file.endswith(\".png\"):  # adjust based on your image format\n",
    "        # Read the image\n",
    "        img = cv2.imread(os.path.join(img_path, img_file))\n",
    "\n",
    "        # Create a blank white image with the same dimensions as the original image\n",
    "        mask = np.ones_like(img) * 255\n",
    "\n",
    "        # Read the corresponding ground truth file\n",
    "        gt_file = os.path.splitext(img_file)[0] + \".txt\"  # assuming ground truth files have the same name as images\n",
    "        gt_file_path = os.path.join(gt_path, gt_file)\n",
    "\n",
    "        if os.path.exists(gt_file_path):\n",
    "            class_0_points = []\n",
    "            class_1_points = []\n",
    "            with open(gt_file_path, \"r\") as file:\n",
    "                lines = file.readlines()\n",
    "                for line in lines:\n",
    "                    data = line.split()\n",
    "                    class_label = int(data[0])\n",
    "                    points = [(float(data[i]), float(data[i+1])) for i in range(1, len(data), 2)]\n",
    "                    # Convert normalized coordinates to pixel coordinates\n",
    "                    img_height, img_width, _ = img.shape\n",
    "                    points = [(int(point[0] * img_width), int(point[1] * img_height)) for point in points]\n",
    "                    if class_label == 0:\n",
    "                        class_0_points.extend(points)\n",
    "                    elif class_label == 1:\n",
    "                        class_1_points.extend(points)\n",
    "\n",
    "            # Create numpy arrays of points for drawing the polygons\n",
    "            polygon_points_0 = np.array(class_0_points)\n",
    "            polygon_points_1 = np.array(class_1_points)\n",
    "\n",
    "            # Draw the filled polygons on the mask\n",
    "            if len(polygon_points_0) > 0:\n",
    "                cv2.fillPoly(mask, [polygon_points_0], color=(0, 0, 0))\n",
    "            if len(polygon_points_1) > 0:\n",
    "                cv2.fillPoly(mask, [polygon_points_1], color=(255, 255, 255))\n",
    "\n",
    "            # Resize the output image to 101x200\n",
    "            mask = 255 - mask\n",
    "            mask_resized = cv2.resize(mask, (101, 200))\n",
    "\n",
    "            # Save the output image as JPEG\n",
    "            output_file = os.path.splitext(img_file)[0] + \"_output.jpg\"\n",
    "            output_file_path = os.path.join(output_path, output_file)\n",
    "            cv2.imwrite(output_file_path, mask_resized)\n",
    "\n",
    "            print(f\"Saved resized output image for {img_file} as {output_file_path}\")\n",
    "        else:\n",
    "            print(f\"No ground truth file found for {img_file}\")\n",
    "\n",
    "# image_loader = ImageLoader(output_path)\n",
    "# gt_AB = image_loader.load_images()\n"
   ]
  },
  {
   "cell_type": "code",
   "execution_count": 24,
   "metadata": {},
   "outputs": [
    {
     "name": "stdout",
     "output_type": "stream",
     "text": [
      "Saved resized output image for slice_0_png.rf.b6a308ad17de783c210d9ceb410d76a1.jpg as C:\\\\5025211148\\\\YOLOv9-Segmentation\\\\Dataset Train Val\\\\gt-MC\\slice_0_png.rf.b6a308ad17de783c210d9ceb410d76a1_output.jpg\n",
      "Saved resized output image for slice_10_png.rf.8cfc23276c5e0a0a9c082a84937bbfa9.jpg as C:\\\\5025211148\\\\YOLOv9-Segmentation\\\\Dataset Train Val\\\\gt-MC\\slice_10_png.rf.8cfc23276c5e0a0a9c082a84937bbfa9_output.jpg\n",
      "Saved resized output image for slice_11_png.rf.2f4ba45901be13bdd4a6d27191f04632.jpg as C:\\\\5025211148\\\\YOLOv9-Segmentation\\\\Dataset Train Val\\\\gt-MC\\slice_11_png.rf.2f4ba45901be13bdd4a6d27191f04632_output.jpg\n",
      "Saved resized output image for slice_12_png.rf.e697ea8e2a874fe7e9b6625b141d770f.jpg as C:\\\\5025211148\\\\YOLOv9-Segmentation\\\\Dataset Train Val\\\\gt-MC\\slice_12_png.rf.e697ea8e2a874fe7e9b6625b141d770f_output.jpg\n",
      "Saved resized output image for slice_13_png.rf.3e77ef333ad7540a2e71c11b85729e94.jpg as C:\\\\5025211148\\\\YOLOv9-Segmentation\\\\Dataset Train Val\\\\gt-MC\\slice_13_png.rf.3e77ef333ad7540a2e71c11b85729e94_output.jpg\n",
      "Saved resized output image for slice_14_png.rf.d4246e1825c0cc584de095d27ae0ba29.jpg as C:\\\\5025211148\\\\YOLOv9-Segmentation\\\\Dataset Train Val\\\\gt-MC\\slice_14_png.rf.d4246e1825c0cc584de095d27ae0ba29_output.jpg\n",
      "Saved resized output image for slice_15_png.rf.08dca079baea99e2094955b7bca56721.jpg as C:\\\\5025211148\\\\YOLOv9-Segmentation\\\\Dataset Train Val\\\\gt-MC\\slice_15_png.rf.08dca079baea99e2094955b7bca56721_output.jpg\n",
      "Saved resized output image for slice_16_png.rf.5505cc7edadd735a4051c540ba652f82.jpg as C:\\\\5025211148\\\\YOLOv9-Segmentation\\\\Dataset Train Val\\\\gt-MC\\slice_16_png.rf.5505cc7edadd735a4051c540ba652f82_output.jpg\n",
      "Saved resized output image for slice_184_jpg.rf.fb7007d3aec48c5887b58c4b1f251982.jpg as C:\\\\5025211148\\\\YOLOv9-Segmentation\\\\Dataset Train Val\\\\gt-MC\\slice_184_jpg.rf.fb7007d3aec48c5887b58c4b1f251982_output.jpg\n",
      "Saved resized output image for slice_185_jpg.rf.c259553f5c57f7ea65f5ec81e559a32a.jpg as C:\\\\5025211148\\\\YOLOv9-Segmentation\\\\Dataset Train Val\\\\gt-MC\\slice_185_jpg.rf.c259553f5c57f7ea65f5ec81e559a32a_output.jpg\n",
      "Saved resized output image for slice_186_jpg.rf.7fea4a8ac7a43acb2f28d29a8c9e2b18.jpg as C:\\\\5025211148\\\\YOLOv9-Segmentation\\\\Dataset Train Val\\\\gt-MC\\slice_186_jpg.rf.7fea4a8ac7a43acb2f28d29a8c9e2b18_output.jpg\n",
      "Saved resized output image for slice_187_jpg.rf.9abf8d193ac601a0c952ef8160a9a2f3.jpg as C:\\\\5025211148\\\\YOLOv9-Segmentation\\\\Dataset Train Val\\\\gt-MC\\slice_187_jpg.rf.9abf8d193ac601a0c952ef8160a9a2f3_output.jpg\n",
      "Saved resized output image for slice_188_jpg.rf.5fbe759a3a7c1fde7f222c92ef628ffc.jpg as C:\\\\5025211148\\\\YOLOv9-Segmentation\\\\Dataset Train Val\\\\gt-MC\\slice_188_jpg.rf.5fbe759a3a7c1fde7f222c92ef628ffc_output.jpg\n",
      "Saved resized output image for slice_189_jpg.rf.c1670c9fd948cb7906245cbbfe3f3ed5.jpg as C:\\\\5025211148\\\\YOLOv9-Segmentation\\\\Dataset Train Val\\\\gt-MC\\slice_189_jpg.rf.c1670c9fd948cb7906245cbbfe3f3ed5_output.jpg\n",
      "Saved resized output image for slice_190_jpg.rf.ad95785b57764989b3cd348bf7ebf3df.jpg as C:\\\\5025211148\\\\YOLOv9-Segmentation\\\\Dataset Train Val\\\\gt-MC\\slice_190_jpg.rf.ad95785b57764989b3cd348bf7ebf3df_output.jpg\n",
      "Saved resized output image for slice_191_jpg.rf.0ee9ad54909660dc8183df6b1a9d936d.jpg as C:\\\\5025211148\\\\YOLOv9-Segmentation\\\\Dataset Train Val\\\\gt-MC\\slice_191_jpg.rf.0ee9ad54909660dc8183df6b1a9d936d_output.jpg\n",
      "Saved resized output image for slice_192_jpg.rf.5f98ffbe0c04578941047e31680f4ac8.jpg as C:\\\\5025211148\\\\YOLOv9-Segmentation\\\\Dataset Train Val\\\\gt-MC\\slice_192_jpg.rf.5f98ffbe0c04578941047e31680f4ac8_output.jpg\n",
      "Saved resized output image for slice_193_jpg.rf.997bde128c89a09bddde6eede7136af8.jpg as C:\\\\5025211148\\\\YOLOv9-Segmentation\\\\Dataset Train Val\\\\gt-MC\\slice_193_jpg.rf.997bde128c89a09bddde6eede7136af8_output.jpg\n",
      "Saved resized output image for slice_194_jpg.rf.510119948c76ce4b0ba77184428b99a1.jpg as C:\\\\5025211148\\\\YOLOv9-Segmentation\\\\Dataset Train Val\\\\gt-MC\\slice_194_jpg.rf.510119948c76ce4b0ba77184428b99a1_output.jpg\n",
      "Saved resized output image for slice_195_jpg.rf.4bdeee9e3f4907b631f508bcec563dc2.jpg as C:\\\\5025211148\\\\YOLOv9-Segmentation\\\\Dataset Train Val\\\\gt-MC\\slice_195_jpg.rf.4bdeee9e3f4907b631f508bcec563dc2_output.jpg\n",
      "Saved resized output image for slice_196_jpg.rf.dc89629b77d81e3226e63a87afeecfc7.jpg as C:\\\\5025211148\\\\YOLOv9-Segmentation\\\\Dataset Train Val\\\\gt-MC\\slice_196_jpg.rf.dc89629b77d81e3226e63a87afeecfc7_output.jpg\n",
      "Saved resized output image for slice_197_jpg.rf.9ce57987bde90784b202fe9e6d7c481e.jpg as C:\\\\5025211148\\\\YOLOv9-Segmentation\\\\Dataset Train Val\\\\gt-MC\\slice_197_jpg.rf.9ce57987bde90784b202fe9e6d7c481e_output.jpg\n",
      "Saved resized output image for slice_198_jpg.rf.6b58b1ba2b6b73b61ba979f22fb46caf.jpg as C:\\\\5025211148\\\\YOLOv9-Segmentation\\\\Dataset Train Val\\\\gt-MC\\slice_198_jpg.rf.6b58b1ba2b6b73b61ba979f22fb46caf_output.jpg\n",
      "Saved resized output image for slice_199_jpg.rf.26f48bd8f377db569234a70975b06f44.jpg as C:\\\\5025211148\\\\YOLOv9-Segmentation\\\\Dataset Train Val\\\\gt-MC\\slice_199_jpg.rf.26f48bd8f377db569234a70975b06f44_output.jpg\n",
      "Saved resized output image for slice_1_png.rf.813ec633aebc1e939b902b040068a91a.jpg as C:\\\\5025211148\\\\YOLOv9-Segmentation\\\\Dataset Train Val\\\\gt-MC\\slice_1_png.rf.813ec633aebc1e939b902b040068a91a_output.jpg\n",
      "Saved resized output image for slice_200_jpg.rf.7a651a02064be38cf08502236c43f762.jpg as C:\\\\5025211148\\\\YOLOv9-Segmentation\\\\Dataset Train Val\\\\gt-MC\\slice_200_jpg.rf.7a651a02064be38cf08502236c43f762_output.jpg\n",
      "Saved resized output image for slice_201_jpg.rf.405030fbbb0b7c68d0450b10c48f32b3.jpg as C:\\\\5025211148\\\\YOLOv9-Segmentation\\\\Dataset Train Val\\\\gt-MC\\slice_201_jpg.rf.405030fbbb0b7c68d0450b10c48f32b3_output.jpg\n",
      "Saved resized output image for slice_202_jpg.rf.f7e659f04a40049e6cba5239c0ca41fe.jpg as C:\\\\5025211148\\\\YOLOv9-Segmentation\\\\Dataset Train Val\\\\gt-MC\\slice_202_jpg.rf.f7e659f04a40049e6cba5239c0ca41fe_output.jpg\n",
      "Saved resized output image for slice_203_jpg.rf.e5030f4868e53e80acb8f21aef7489f9.jpg as C:\\\\5025211148\\\\YOLOv9-Segmentation\\\\Dataset Train Val\\\\gt-MC\\slice_203_jpg.rf.e5030f4868e53e80acb8f21aef7489f9_output.jpg\n",
      "Saved resized output image for slice_204_jpg.rf.379e8a1abf3842f461423e8e76141932.jpg as C:\\\\5025211148\\\\YOLOv9-Segmentation\\\\Dataset Train Val\\\\gt-MC\\slice_204_jpg.rf.379e8a1abf3842f461423e8e76141932_output.jpg\n",
      "Saved resized output image for slice_205_jpg.rf.91c7f454ebef22c3ff8ce5727bba228e.jpg as C:\\\\5025211148\\\\YOLOv9-Segmentation\\\\Dataset Train Val\\\\gt-MC\\slice_205_jpg.rf.91c7f454ebef22c3ff8ce5727bba228e_output.jpg\n",
      "Saved resized output image for slice_206_jpg.rf.5b4192b7ef82aad37ac4d99ed13e2ee2.jpg as C:\\\\5025211148\\\\YOLOv9-Segmentation\\\\Dataset Train Val\\\\gt-MC\\slice_206_jpg.rf.5b4192b7ef82aad37ac4d99ed13e2ee2_output.jpg\n",
      "Saved resized output image for slice_207_jpg.rf.6c10293c5a5cc5871fe43008a8840e3b.jpg as C:\\\\5025211148\\\\YOLOv9-Segmentation\\\\Dataset Train Val\\\\gt-MC\\slice_207_jpg.rf.6c10293c5a5cc5871fe43008a8840e3b_output.jpg\n",
      "Saved resized output image for slice_208_jpg.rf.474a2cc7da8963637f4a10d5518ef23b.jpg as C:\\\\5025211148\\\\YOLOv9-Segmentation\\\\Dataset Train Val\\\\gt-MC\\slice_208_jpg.rf.474a2cc7da8963637f4a10d5518ef23b_output.jpg\n",
      "Saved resized output image for slice_209_jpg.rf.8931044812d6e143d00fc94414dc965c.jpg as C:\\\\5025211148\\\\YOLOv9-Segmentation\\\\Dataset Train Val\\\\gt-MC\\slice_209_jpg.rf.8931044812d6e143d00fc94414dc965c_output.jpg\n",
      "Saved resized output image for slice_210_jpg.rf.2f1e8d2936842397afbbace9a9c9ace1.jpg as C:\\\\5025211148\\\\YOLOv9-Segmentation\\\\Dataset Train Val\\\\gt-MC\\slice_210_jpg.rf.2f1e8d2936842397afbbace9a9c9ace1_output.jpg\n",
      "Saved resized output image for slice_211_jpg.rf.ce50dbaa10adb29f88ba7ce96c4b28e3.jpg as C:\\\\5025211148\\\\YOLOv9-Segmentation\\\\Dataset Train Val\\\\gt-MC\\slice_211_jpg.rf.ce50dbaa10adb29f88ba7ce96c4b28e3_output.jpg\n",
      "Saved resized output image for slice_212_jpg.rf.fa999268d1357cfe3baf7f66d218858a.jpg as C:\\\\5025211148\\\\YOLOv9-Segmentation\\\\Dataset Train Val\\\\gt-MC\\slice_212_jpg.rf.fa999268d1357cfe3baf7f66d218858a_output.jpg\n",
      "Saved resized output image for slice_227_jpg.rf.47e302d51c39b996e9aa5c2457568e72.jpg as C:\\\\5025211148\\\\YOLOv9-Segmentation\\\\Dataset Train Val\\\\gt-MC\\slice_227_jpg.rf.47e302d51c39b996e9aa5c2457568e72_output.jpg\n",
      "Saved resized output image for slice_228_jpg.rf.d6fa4e941fd8ee957cb2fa40d1617dcd.jpg as C:\\\\5025211148\\\\YOLOv9-Segmentation\\\\Dataset Train Val\\\\gt-MC\\slice_228_jpg.rf.d6fa4e941fd8ee957cb2fa40d1617dcd_output.jpg\n",
      "Saved resized output image for slice_229_jpg.rf.c4406e3223457b9d82da77009e090083.jpg as C:\\\\5025211148\\\\YOLOv9-Segmentation\\\\Dataset Train Val\\\\gt-MC\\slice_229_jpg.rf.c4406e3223457b9d82da77009e090083_output.jpg\n",
      "Saved resized output image for slice_230_jpg.rf.c38851d2bc1de61efaff2c6a0c6a533b.jpg as C:\\\\5025211148\\\\YOLOv9-Segmentation\\\\Dataset Train Val\\\\gt-MC\\slice_230_jpg.rf.c38851d2bc1de61efaff2c6a0c6a533b_output.jpg\n",
      "Saved resized output image for slice_231_jpg.rf.5a943022fe92bf999159d5a80fdfaa3c.jpg as C:\\\\5025211148\\\\YOLOv9-Segmentation\\\\Dataset Train Val\\\\gt-MC\\slice_231_jpg.rf.5a943022fe92bf999159d5a80fdfaa3c_output.jpg\n",
      "Saved resized output image for slice_232_jpg.rf.36559349f65c59474e2c273ef3a1895f.jpg as C:\\\\5025211148\\\\YOLOv9-Segmentation\\\\Dataset Train Val\\\\gt-MC\\slice_232_jpg.rf.36559349f65c59474e2c273ef3a1895f_output.jpg\n",
      "Saved resized output image for slice_233_jpg.rf.21c7a2018478f98c4170d84b9d900a8b.jpg as C:\\\\5025211148\\\\YOLOv9-Segmentation\\\\Dataset Train Val\\\\gt-MC\\slice_233_jpg.rf.21c7a2018478f98c4170d84b9d900a8b_output.jpg\n",
      "Saved resized output image for slice_234_jpg.rf.8376c291224523f2379285e6739f8508.jpg as C:\\\\5025211148\\\\YOLOv9-Segmentation\\\\Dataset Train Val\\\\gt-MC\\slice_234_jpg.rf.8376c291224523f2379285e6739f8508_output.jpg\n",
      "Saved resized output image for slice_234_jpg.rf.8c97c306d89d4aea1956db536d9ae8da.jpg as C:\\\\5025211148\\\\YOLOv9-Segmentation\\\\Dataset Train Val\\\\gt-MC\\slice_234_jpg.rf.8c97c306d89d4aea1956db536d9ae8da_output.jpg\n",
      "Saved resized output image for slice_235_jpg.rf.7a0cd7f426f4c0b16065120adc6c63f0.jpg as C:\\\\5025211148\\\\YOLOv9-Segmentation\\\\Dataset Train Val\\\\gt-MC\\slice_235_jpg.rf.7a0cd7f426f4c0b16065120adc6c63f0_output.jpg\n",
      "Saved resized output image for slice_236_jpg.rf.baef61c5ff250c1d85dc3ee096660de8.jpg as C:\\\\5025211148\\\\YOLOv9-Segmentation\\\\Dataset Train Val\\\\gt-MC\\slice_236_jpg.rf.baef61c5ff250c1d85dc3ee096660de8_output.jpg\n",
      "Saved resized output image for slice_237_jpg.rf.b9610d515a5437097ad9d6ec26739bd9.jpg as C:\\\\5025211148\\\\YOLOv9-Segmentation\\\\Dataset Train Val\\\\gt-MC\\slice_237_jpg.rf.b9610d515a5437097ad9d6ec26739bd9_output.jpg\n",
      "Saved resized output image for slice_238_jpg.rf.6025395d22a4004b13a3f9b376079bb8.jpg as C:\\\\5025211148\\\\YOLOv9-Segmentation\\\\Dataset Train Val\\\\gt-MC\\slice_238_jpg.rf.6025395d22a4004b13a3f9b376079bb8_output.jpg\n",
      "Saved resized output image for slice_239_jpg.rf.b6d73c66406e62a091551a6d3ccce095.jpg as C:\\\\5025211148\\\\YOLOv9-Segmentation\\\\Dataset Train Val\\\\gt-MC\\slice_239_jpg.rf.b6d73c66406e62a091551a6d3ccce095_output.jpg\n",
      "Saved resized output image for slice_239_jpg.rf.bd8f5271a858f2a277c210f5e04a86df.jpg as C:\\\\5025211148\\\\YOLOv9-Segmentation\\\\Dataset Train Val\\\\gt-MC\\slice_239_jpg.rf.bd8f5271a858f2a277c210f5e04a86df_output.jpg\n",
      "Saved resized output image for slice_240_jpg.rf.0aa788cdb7219a189ea9e4b9a53b996a.jpg as C:\\\\5025211148\\\\YOLOv9-Segmentation\\\\Dataset Train Val\\\\gt-MC\\slice_240_jpg.rf.0aa788cdb7219a189ea9e4b9a53b996a_output.jpg\n",
      "Saved resized output image for slice_241_jpg.rf.5bb370de0c0c5a0a1298999b8269e4b4.jpg as C:\\\\5025211148\\\\YOLOv9-Segmentation\\\\Dataset Train Val\\\\gt-MC\\slice_241_jpg.rf.5bb370de0c0c5a0a1298999b8269e4b4_output.jpg\n",
      "Saved resized output image for slice_241_jpg.rf.8e99851409db29bcb7433e96215d032f.jpg as C:\\\\5025211148\\\\YOLOv9-Segmentation\\\\Dataset Train Val\\\\gt-MC\\slice_241_jpg.rf.8e99851409db29bcb7433e96215d032f_output.jpg\n",
      "Saved resized output image for slice_242_jpg.rf.04473fce5585378c912db056877ef4be.jpg as C:\\\\5025211148\\\\YOLOv9-Segmentation\\\\Dataset Train Val\\\\gt-MC\\slice_242_jpg.rf.04473fce5585378c912db056877ef4be_output.jpg\n",
      "Saved resized output image for slice_243_jpg.rf.4e282c9d623df41fb28d1181aff460f7.jpg as C:\\\\5025211148\\\\YOLOv9-Segmentation\\\\Dataset Train Val\\\\gt-MC\\slice_243_jpg.rf.4e282c9d623df41fb28d1181aff460f7_output.jpg\n",
      "Saved resized output image for slice_243_jpg.rf.ae3d135830b986a680d9ef8fbe5441f9.jpg as C:\\\\5025211148\\\\YOLOv9-Segmentation\\\\Dataset Train Val\\\\gt-MC\\slice_243_jpg.rf.ae3d135830b986a680d9ef8fbe5441f9_output.jpg\n",
      "Saved resized output image for slice_244_jpg.rf.4a9409f3b5a33b7c702d348109c89c68.jpg as C:\\\\5025211148\\\\YOLOv9-Segmentation\\\\Dataset Train Val\\\\gt-MC\\slice_244_jpg.rf.4a9409f3b5a33b7c702d348109c89c68_output.jpg\n",
      "Saved resized output image for slice_245_jpg.rf.69a1679f246e89e375a49ba7b2e03b67.jpg as C:\\\\5025211148\\\\YOLOv9-Segmentation\\\\Dataset Train Val\\\\gt-MC\\slice_245_jpg.rf.69a1679f246e89e375a49ba7b2e03b67_output.jpg\n",
      "Saved resized output image for slice_245_jpg.rf.7280f92363a1b9f4c1b74a7079335c62.jpg as C:\\\\5025211148\\\\YOLOv9-Segmentation\\\\Dataset Train Val\\\\gt-MC\\slice_245_jpg.rf.7280f92363a1b9f4c1b74a7079335c62_output.jpg\n",
      "Saved resized output image for slice_246_jpg.rf.1b3b7419434d4f2ffe8a69c66cc0eb7d.jpg as C:\\\\5025211148\\\\YOLOv9-Segmentation\\\\Dataset Train Val\\\\gt-MC\\slice_246_jpg.rf.1b3b7419434d4f2ffe8a69c66cc0eb7d_output.jpg\n",
      "Saved resized output image for slice_247_jpg.rf.0132c277c4d7f8c5c95ea3a595ba7315.jpg as C:\\\\5025211148\\\\YOLOv9-Segmentation\\\\Dataset Train Val\\\\gt-MC\\slice_247_jpg.rf.0132c277c4d7f8c5c95ea3a595ba7315_output.jpg\n",
      "Saved resized output image for slice_248_jpg.rf.fe48f8cb5097a5c105f48b585f33a07a.jpg as C:\\\\5025211148\\\\YOLOv9-Segmentation\\\\Dataset Train Val\\\\gt-MC\\slice_248_jpg.rf.fe48f8cb5097a5c105f48b585f33a07a_output.jpg\n",
      "Saved resized output image for slice_250_jpg.rf.84d15643db599a8826b8ca7b5320dfc5.jpg as C:\\\\5025211148\\\\YOLOv9-Segmentation\\\\Dataset Train Val\\\\gt-MC\\slice_250_jpg.rf.84d15643db599a8826b8ca7b5320dfc5_output.jpg\n",
      "Saved resized output image for slice_257_jpg.rf.1afa5d3faf30171b5a1ee38437f1cae5.jpg as C:\\\\5025211148\\\\YOLOv9-Segmentation\\\\Dataset Train Val\\\\gt-MC\\slice_257_jpg.rf.1afa5d3faf30171b5a1ee38437f1cae5_output.jpg\n",
      "Saved resized output image for slice_2_png.rf.773ebb3973e8d24b3610d7d5889312bf.jpg as C:\\\\5025211148\\\\YOLOv9-Segmentation\\\\Dataset Train Val\\\\gt-MC\\slice_2_png.rf.773ebb3973e8d24b3610d7d5889312bf_output.jpg\n",
      "Saved resized output image for slice_3_png.rf.2b7ac0dccdcc3241e2441dcdfe40b19a.jpg as C:\\\\5025211148\\\\YOLOv9-Segmentation\\\\Dataset Train Val\\\\gt-MC\\slice_3_png.rf.2b7ac0dccdcc3241e2441dcdfe40b19a_output.jpg\n",
      "Saved resized output image for slice_4_png.rf.ed9951865dd8c8e9c4bb357b12d90bf3.jpg as C:\\\\5025211148\\\\YOLOv9-Segmentation\\\\Dataset Train Val\\\\gt-MC\\slice_4_png.rf.ed9951865dd8c8e9c4bb357b12d90bf3_output.jpg\n",
      "Saved resized output image for slice_5_png.rf.fa534a063f0865aba05bfb1f39bf17f1.jpg as C:\\\\5025211148\\\\YOLOv9-Segmentation\\\\Dataset Train Val\\\\gt-MC\\slice_5_png.rf.fa534a063f0865aba05bfb1f39bf17f1_output.jpg\n",
      "Saved resized output image for slice_6_png.rf.69513226c67a48924c9727490a40871b.jpg as C:\\\\5025211148\\\\YOLOv9-Segmentation\\\\Dataset Train Val\\\\gt-MC\\slice_6_png.rf.69513226c67a48924c9727490a40871b_output.jpg\n",
      "Saved resized output image for slice_7_png.rf.911a9c8ba0e64b11ffd5e11ceb31250e.jpg as C:\\\\5025211148\\\\YOLOv9-Segmentation\\\\Dataset Train Val\\\\gt-MC\\slice_7_png.rf.911a9c8ba0e64b11ffd5e11ceb31250e_output.jpg\n",
      "Saved resized output image for slice_8_png.rf.08bf826fea5c4ff01a4a4d1f987b7af6.jpg as C:\\\\5025211148\\\\YOLOv9-Segmentation\\\\Dataset Train Val\\\\gt-MC\\slice_8_png.rf.08bf826fea5c4ff01a4a4d1f987b7af6_output.jpg\n",
      "Saved resized output image for slice_9_png.rf.7b263d87fcdea007b3b78938772a24a5.jpg as C:\\\\5025211148\\\\YOLOv9-Segmentation\\\\Dataset Train Val\\\\gt-MC\\slice_9_png.rf.7b263d87fcdea007b3b78938772a24a5_output.jpg\n"
     ]
    }
   ],
   "source": [
    "import os\n",
    "import cv2\n",
    "import numpy as np\n",
    "\n",
    "# Directory paths\n",
    "img_path = valid_path\n",
    "gt_path = ground_truth_path\n",
    "output_path = gt_MC_path\n",
    "\n",
    "# Ensure output directory exists\n",
    "if not os.path.exists(output_path):\n",
    "    os.makedirs(output_path)\n",
    "\n",
    "# Iterate over files in the image directory\n",
    "for img_file in os.listdir(img_path):\n",
    "    if img_file.endswith(\".jpg\") or img_file.endswith(\".png\"):  # adjust based on your image format\n",
    "        # Read the image\n",
    "        img = cv2.imread(os.path.join(img_path, img_file))\n",
    "\n",
    "        # Create a blank white image with the same dimensions as the original image\n",
    "        mask = np.ones_like(img) * 255\n",
    "\n",
    "        # Read the corresponding ground truth file\n",
    "        gt_file = os.path.splitext(img_file)[0] + \".txt\"  # assuming ground truth files have the same name as images\n",
    "        gt_file_path = os.path.join(gt_path, gt_file)\n",
    "\n",
    "        if os.path.exists(gt_file_path):\n",
    "            class_0_points = []\n",
    "            with open(gt_file_path, \"r\") as file:\n",
    "                lines = file.readlines()\n",
    "                for line in lines:\n",
    "                    data = line.split()\n",
    "                    class_label = int(data[0])\n",
    "                    if class_label == 1:\n",
    "                        points = [(float(data[i]), float(data[i+1])) for i in range(1, len(data), 2)]\n",
    "                        # Convert normalized coordinates to pixel coordinates\n",
    "                        img_height, img_width, _ = img.shape\n",
    "                        points = [(int(point[0] * img_width), int(point[1] * img_height)) for point in points]\n",
    "                        class_0_points.extend(points)\n",
    "\n",
    "            # Create a numpy array of points for drawing the polygon\n",
    "            polygon_points = np.array(class_0_points)\n",
    "\n",
    "            # Draw the filled polygon on the mask\n",
    "            if len(polygon_points) > 0:\n",
    "                cv2.fillPoly(mask, [polygon_points], color=(0, 0, 0))\n",
    "\n",
    "            # Resize the output image to 101x200\n",
    "            mask = 255 - mask\n",
    "            mask_resized = cv2.resize(mask, (101, 200))\n",
    "\n",
    "            # Save the output image as JPEG\n",
    "            output_file = os.path.splitext(img_file)[0] + \"_output.jpg\"\n",
    "            output_file_path = os.path.join(output_path, output_file)\n",
    "            cv2.imwrite(output_file_path, mask_resized)\n",
    "\n",
    "            print(f\"Saved resized output image for {img_file} as {output_file_path}\")\n",
    "        else:\n",
    "            print(f\"No ground truth file found for {img_file}\")\n",
    "\n",
    "# image_loader = ImageLoader(output_path)\n",
    "# gt_MC = image_loader.load_images()"
   ]
  },
  {
   "cell_type": "code",
   "execution_count": 25,
   "metadata": {},
   "outputs": [],
   "source": [
    "import os\n",
    "import cv2\n",
    "import numpy as np\n",
    "import re\n",
    "\n",
    "def read_images_as_binary_sorted(path, threshold=127):\n",
    "    image_list = []\n",
    "\n",
    "    # Get all files in the folder\n",
    "    files = os.listdir(path)\n",
    "\n",
    "    # Sort files based on filenames\n",
    "    sorted_files = sorted(files, key=sort_key)\n",
    "\n",
    "    # Iterate over sorted files\n",
    "    for file_name in sorted_files:\n",
    "        # Check if the file is an image (you can adjust the condition based on your image formats)\n",
    "        if file_name.endswith(\".jpg\") or file_name.endswith(\".png\"):\n",
    "            # Read the image in grayscale\n",
    "            image_path = os.path.join(path, file_name)\n",
    "            image = cv2.imread(image_path, cv2.IMREAD_GRAYSCALE)\n",
    "\n",
    "            if image is not None:\n",
    "                # Apply thresholding to convert grayscale to binary image\n",
    "                _, binary_image = cv2.threshold(image, threshold, 1, cv2.THRESH_BINARY)\n",
    "                image_list.append(binary_image)\n",
    "                # unique_values, counts = np.unique(binary_image, return_counts=True)\n",
    "                # for value, count in zip(unique_values, counts):\n",
    "                    # print(f\"{value}: {count}\")\n",
    "\n",
    "    # Convert the list of images to a numpy array\n",
    "    image_array = np.array(image_list)\n",
    "    return image_array\n",
    "\n",
    "def sort_key(file_name):\n",
    "    parts = re.split(r'(\\d+)', file_name)\n",
    "    parts[1::2] = map(int, parts[1::2])  # Convert numeric parts to integers\n",
    "    return parts\n",
    "\n",
    "# Example usage:\n",
    "# sorted_images = read_images_as_grayscale_sorted(\"/path/to/images\")\n"
   ]
  },
  {
   "cell_type": "code",
   "execution_count": 26,
   "metadata": {},
   "outputs": [
    {
     "name": "stdout",
     "output_type": "stream",
     "text": [
      "Shape of images array: (75, 200, 101)\n"
     ]
    }
   ],
   "source": [
    "# Example usage:\n",
    "path_to_images = gt_AB_path\n",
    "gt_AB = read_images_as_binary_sorted(path_to_images)\n",
    "print(\"Shape of images array:\", gt_AB.shape)"
   ]
  },
  {
   "cell_type": "code",
   "execution_count": 27,
   "metadata": {},
   "outputs": [
    {
     "name": "stdout",
     "output_type": "stream",
     "text": [
      "Shape of images array: (75, 200, 101)\n"
     ]
    }
   ],
   "source": [
    "\n",
    "# Example usage:\n",
    "path_to_images = gt_MC_path\n",
    "gt_MC = read_images_as_binary_sorted(path_to_images)\n",
    "print(\"Shape of images array:\", gt_MC.shape)"
   ]
  },
  {
   "cell_type": "code",
   "execution_count": 28,
   "metadata": {},
   "outputs": [
    {
     "name": "stdout",
     "output_type": "stream",
     "text": [
      "Shape of images array: (75, 200, 101)\n"
     ]
    }
   ],
   "source": [
    "\n",
    "# Example usage:\n",
    "path_to_images = segmented_AB_path\n",
    "segmented_AB = read_images_as_binary_sorted(path_to_images)\n",
    "print(\"Shape of images array:\", segmented_AB.shape)"
   ]
  },
  {
   "cell_type": "code",
   "execution_count": 29,
   "metadata": {},
   "outputs": [
    {
     "name": "stdout",
     "output_type": "stream",
     "text": [
      "Shape of images array: (75, 200, 101)\n"
     ]
    }
   ],
   "source": [
    "\n",
    "# Example usage:\n",
    "path_to_images = segmented_MC_path\n",
    "segmented_MC = read_images_as_binary_sorted(path_to_images)\n",
    "print(\"Shape of images array:\", segmented_MC.shape)"
   ]
  },
  {
   "cell_type": "code",
   "execution_count": 30,
   "metadata": {},
   "outputs": [],
   "source": [
    "import numpy as np\n",
    "from sklearn.metrics import confusion_matrix\n",
    "\n",
    "\n",
    "def calculate_iou(gt, pred):\n",
    "    unique_gt = np.unique(gt)\n",
    "    unique_pred = np.unique(pred)\n",
    "\n",
    "    # If both gt and pred contain only one unique value and they are equal,\n",
    "    # then IoU is 1\n",
    "    if len(unique_gt) == len(unique_pred) == 1 and unique_gt[0] == unique_pred[0]:\n",
    "        return 1.0\n",
    "\n",
    "    # print(gt.shape)\n",
    "    cm = confusion_matrix(gt.flatten(), pred.flatten())\n",
    "    # unique_values, counts = np.unique(gt, return_counts=True)\n",
    "    # for value, count in zip(unique_values, counts):\n",
    "    #    print(f\"{value}: {count}\")\n",
    "    # print(cm)\n",
    "    intersection = np.diag(cm) #TN dan TP\n",
    "    union = np.sum(cm, axis=0) + np.sum(cm, axis=1) - intersection\n",
    "    # print(np.sum(cm, axis=0))\n",
    "    # print(np.sum(cm, axis=1))\n",
    "    # print(intersection)\n",
    "    # iou = np.mean((intersection + 1e-10) / (union + 1e-10))\n",
    "    # only calculate the iou for AB or MC thats why we use index [1] in intersection\n",
    "    iou = (intersection[1] + 1e-10) / (union[1] + 1e-10)\n",
    "    return iou\n",
    "\n",
    "def calculate_dice_score(gt, pred):\n",
    "    unique_gt = np.unique(gt)\n",
    "    unique_pred = np.unique(pred)\n",
    "\n",
    "    # If both gt and pred contain only one unique value and they are equal,\n",
    "    # then IoU is 1\n",
    "    if len(unique_gt) == len(unique_pred) == 1 and unique_gt[0] == unique_pred[0]:\n",
    "        return 1.0\n",
    "    cm = confusion_matrix(gt.flatten(), pred.flatten())\n",
    "    intersection = np.diag(cm)\n",
    "    union_dice = np.sum(cm, axis=0) + np.sum(cm, axis=1)\n",
    "    # dice_score = np.mean(2 * (intersection + 1e-10) / (union_dice + 1e-10))\n",
    "    dice_score = 2 * (intersection[1] + 1e-10) / (union_dice[1] + 1e-10)\n",
    "    return dice_score\n",
    "\n",
    "def calculate_average_iou_and_dice(gt_images, pred_images):\n",
    "    num_images = gt_images.shape[0]\n",
    "    iou_scores = []\n",
    "    dice_scores = []\n",
    "\n",
    "    for i in range(num_images):\n",
    "        gt_image = gt_images[i]\n",
    "        pred_image = pred_images[i]\n",
    "        iou = calculate_iou(gt_image, pred_image)\n",
    "        dice = calculate_dice_score(gt_image, pred_image)\n",
    "        print(i,\"iou:\",iou)\n",
    "        print(i,\"dice:\",dice)\n",
    "        iou_scores.append(iou)\n",
    "        dice_scores.append(dice)\n",
    "\n",
    "    avg_iou = np.nanmean(iou_scores)  # Use np.nanmean to handle NaN values\n",
    "    avg_dice = np.nanmean(dice_scores)  # Use np.nanmean to handle NaN values\n",
    "    return avg_iou, avg_dice\n",
    "\n",
    "# Example usage:\n",
    "# gt_images and pred_images are numpy arrays containing grayscale images\n",
    "# Each array should have shape (num_images, height, width)\n"
   ]
  },
  {
   "cell_type": "code",
   "execution_count": 31,
   "metadata": {},
   "outputs": [
    {
     "name": "stdout",
     "output_type": "stream",
     "text": [
      "0 iou: 0.9424686192468634\n",
      "0 dice: 0.9703823371028679\n",
      "1 iou: 0.9252311756935291\n",
      "1 dice: 0.9611637162069582\n",
      "2 iou: 0.9183884297520682\n",
      "2 dice: 0.9574582660204771\n",
      "3 iou: 0.9201442555383843\n",
      "3 dice: 0.9584115910920451\n",
      "4 iou: 0.9380508035251441\n",
      "4 dice: 0.9680353082787352\n",
      "5 iou: 0.9367252066115719\n",
      "5 dice: 0.9673289771969734\n",
      "6 iou: 0.9561152947286431\n",
      "6 dice: 0.9775653789990844\n",
      "7 iou: 0.9550209205020932\n",
      "7 dice: 0.9769930444087884\n",
      "8 iou: 0.9491964748574404\n",
      "8 dice: 0.9739361702127796\n",
      "9 iou: 0.9476698776360336\n",
      "9 dice: 0.9731319342334049\n",
      "10 iou: 0.9553736466860323\n",
      "10 dice: 0.977177582714396\n",
      "11 iou: 0.9479084451460156\n",
      "11 dice: 0.9732576985413429\n",
      "12 iou: 0.9310255747868785\n",
      "12 dice: 0.9642809364548633\n",
      "13 iou: 0.9308743874129499\n",
      "13 dice: 0.9641998397007886\n",
      "14 iou: 0.9511574662935652\n",
      "14 dice: 0.9749674054758934\n",
      "15 iou: 0.9355566700100317\n",
      "15 dice: 0.9667055318046514\n",
      "16 iou: 0.9416167664670674\n",
      "16 dice: 0.9699306090979315\n",
      "17 iou: 0.8776612646965403\n",
      "17 dice: 0.9348451514638867\n",
      "18 iou: 0.8979125896934149\n",
      "18 dice: 0.9462106891218603\n",
      "19 iou: 0.9054412740544159\n",
      "19 dice: 0.9503743687968144\n",
      "20 iou: 0.9332884097035062\n",
      "20 dice: 0.9654932032067103\n",
      "21 iou: 0.9422237151494813\n",
      "21 dice: 0.9702525077827919\n",
      "22 iou: 0.9454968428049204\n",
      "22 dice: 0.9719849675435775\n",
      "23 iou: 0.943820224719103\n",
      "23 dice: 0.9710982658959713\n",
      "24 iou: 0.9267734553775767\n",
      "24 dice: 0.9619952494061934\n",
      "25 iou: 0.9377049180327889\n",
      "25 dice: 0.9678510998308127\n",
      "26 iou: 0.9234592445328057\n",
      "26 dice: 0.9602067183462711\n",
      "27 iou: 0.947403462050601\n",
      "27 dice: 0.9729914529914706\n",
      "28 iou: 0.9481727574750848\n",
      "28 dice: 0.973396998635761\n",
      "29 iou: 0.9395255596391601\n",
      "29 dice: 0.9688199827734889\n",
      "30 iou: 0.9489291598023081\n",
      "30 dice: 0.9737954353339142\n",
      "31 iou: 0.9490339773484361\n",
      "31 dice: 0.9738506238250048\n",
      "32 iou: 0.9492468893254764\n",
      "32 dice: 0.9739627078783979\n",
      "33 iou: 0.9516181758744704\n",
      "33 dice: 0.9752093802345231\n",
      "34 iou: 0.9387886597938164\n",
      "34 dice: 0.9684280491857932\n",
      "35 iou: 0.9424134584276952\n",
      "35 dice: 0.9703530979347273\n",
      "36 iou: 0.9285021028793294\n",
      "36 dice: 0.96292568361015\n",
      "37 iou: 0.9491579281855752\n",
      "37 dice: 0.9739158787088528\n",
      "38 iou: 0.9459031951913969\n",
      "38 dice: 0.9721996423345964\n",
      "39 iou: 0.9267828843106204\n",
      "39 dice: 0.9620003290014976\n",
      "40 iou: 0.9401408450704245\n",
      "40 dice: 0.9691470054446631\n",
      "41 iou: 0.9496357301235366\n",
      "41 dice: 0.9741673436230873\n",
      "42 iou: 0.9566582914572878\n",
      "42 dice: 0.9778491171749762\n",
      "43 iou: 0.9346951408232765\n",
      "43 dice: 0.9662454007358988\n",
      "44 iou: 0.9396014943960168\n",
      "44 dice: 0.9688603531300326\n",
      "45 iou: 0.9455782312925187\n",
      "45 dice: 0.9720279720279884\n",
      "46 iou: 0.9086839749328599\n",
      "46 dice: 0.9521575984990865\n",
      "47 iou: 0.9176097781801758\n",
      "47 dice: 0.9570349386213656\n",
      "48 iou: 0.9223255813953525\n",
      "48 dice: 0.9595935156061225\n",
      "49 iou: 0.92279579716766\n",
      "49 dice: 0.9598479448800438\n",
      "50 iou: 0.9240740740740776\n",
      "50 dice: 0.960538979788283\n",
      "51 iou: 0.9067641681901323\n",
      "51 dice: 0.9511025886865064\n",
      "52 iou: 0.9572039942938679\n",
      "52 dice: 0.9781341107871968\n",
      "53 iou: 0.0246238030096204\n",
      "53 dice: 0.048064085447349886\n",
      "54 iou: 0.2625686059275683\n",
      "54 dice: 0.4159276647539834\n",
      "55 iou: 0.945454545454548\n",
      "55 dice: 0.9719626168224546\n",
      "56 iou: 0.9208600182982652\n",
      "56 dice: 0.9587997142176957\n",
      "57 iou: 0.9300857013982892\n",
      "57 dice: 0.9637765833138826\n",
      "58 iou: 0.9341121495327134\n",
      "58 dice: 0.9659338004349126\n",
      "59 iou: 0.9397759103641484\n",
      "59 dice: 0.9689530685920826\n",
      "60 iou: 0.9717927854624363\n",
      "60 dice: 0.985694635488322\n",
      "61 iou: 0.9598086124401933\n",
      "61 dice: 0.979492187500025\n",
      "62 iou: 0.9379146919431309\n",
      "62 dice: 0.967962827097115\n",
      "63 iou: 0.9661664392905875\n",
      "63 dice: 0.9827921176797255\n",
      "64 iou: 0.9385206532180626\n",
      "64 dice: 0.9682854311199462\n",
      "65 iou: 0.9632904608788863\n",
      "65 dice: 0.9813020335744645\n",
      "66 iou: 0.9599420849420869\n",
      "66 dice: 0.9795616843142335\n",
      "67 iou: 0.9434762129062674\n",
      "67 dice: 0.9709161415414694\n",
      "68 iou: 0.9542168674698818\n",
      "68 dice: 0.9765721331689525\n",
      "69 iou: 0.9628937533368936\n",
      "69 dice: 0.9810961512308041\n",
      "70 iou: 0.9504613890238004\n",
      "70 dice: 0.9746015936255236\n",
      "71 iou: 0.923768939393943\n",
      "71 dice: 0.9603741078021423\n",
      "72 iou: 0.9509379509379533\n",
      "72 dice: 0.9748520710059424\n",
      "73 iou: 0.9605934167825703\n",
      "73 dice: 0.9799006857413342\n",
      "74 iou: 0.9487427466150895\n",
      "74 dice: 0.9736972704714895\n",
      "Average IOU: 0.9181007867198262\n",
      "Average DSC: 0.9489908438044553\n",
      "\n"
     ]
    }
   ],
   "source": [
    "avg_iou, avg_dice = calculate_average_iou_and_dice(segmented_AB, gt_AB)\n",
    "print(\"Average IOU:\", avg_iou)\n",
    "print(\"Average DSC:\", avg_dice)\n",
    "print()\n",
    "# print(\"Average Dice Score:\", avg_dice)"
   ]
  },
  {
   "cell_type": "code",
   "execution_count": null,
   "metadata": {},
   "outputs": [
    {
     "name": "stdout",
     "output_type": "stream",
     "text": [
      "0 iou: 0.5859375000003235\n",
      "0 dice: 0.7389162561582567\n",
      "1 iou: 0.6792452830190697\n",
      "1 dice: 0.80898876404539\n",
      "2 iou: 6.993006993002104e-13\n",
      "2 dice: 1.3986013986004208e-12\n",
      "3 iou: 7.352941176465183e-13\n",
      "3 dice: 1.4705882352930366e-12\n",
      "4 iou: 7.751937984490115e-13\n",
      "4 dice: 1.550387596898023e-12\n",
      "5 iou: 0.7798742138366165\n",
      "5 dice: 0.8763250883396198\n",
      "6 iou: 0.7285714285716225\n",
      "6 dice: 0.8429752066120484\n",
      "7 iou: 0.8080000000001536\n",
      "7 dice: 0.8938053097350028\n",
      "8 iou: 0.8134328358210349\n",
      "8 dice: 0.8971193415642399\n",
      "9 iou: 0.7777777777779424\n",
      "9 dice: 0.8750000000004688\n",
      "10 iou: 0.7621951219513646\n",
      "10 dice: 0.8650519031145796\n",
      "11 iou: 0.7256097560977284\n",
      "11 dice: 0.8409893992936958\n",
      "12 iou: 0.8353658536586369\n",
      "12 dice: 0.9102990033226211\n",
      "13 iou: 0.6646706586828356\n",
      "13 dice: 0.7985611510795689\n",
      "14 iou: 0.7419354838711343\n",
      "14 dice: 0.8518518518522772\n",
      "15 iou: 0.700598802395389\n",
      "15 dice: 0.8239436619722451\n",
      "16 iou: 0.7076023391814577\n",
      "16 dice: 0.8287671232880723\n",
      "17 iou: 4.2918454935603903e-13\n",
      "17 dice: 8.583690987120781e-13\n",
      "18 iou: 0.40501792114716667\n",
      "18 dice: 0.5765306122452611\n",
      "19 iou: 0.401826484018538\n",
      "19 dice: 0.5732899022805951\n",
      "20 iou: 0.6397515527952549\n",
      "20 dice: 0.7803030303034924\n",
      "21 iou: 0.5126582278484098\n",
      "21 dice: 0.67782426778298\n",
      "22 iou: 0.5581395348840635\n",
      "22 dice: 0.7164179104483999\n",
      "23 iou: 0.5859375000003235\n",
      "23 dice: 0.7389162561582567\n",
      "24 iou: 1.063829787232911e-12\n",
      "24 dice: 2.127659574465822e-12\n",
      "25 iou: 1.5624999999975587e-12\n",
      "25 dice: 3.1249999999951174e-12\n",
      "26 iou: 0.5514018691592978\n",
      "26 dice: 0.7108433734947526\n",
      "27 iou: 0.3937007874020522\n",
      "27 dice: 0.5649717514132402\n",
      "28 iou: 0.44210526315848203\n",
      "28 dice: 0.6131386861323993\n",
      "29 iou: 0.5287356321844497\n",
      "29 dice: 0.6917293233092544\n",
      "30 iou: 0.46464646464700543\n",
      "30 dice: 0.6344827586216315\n",
      "31 iou: 0.4742268041242534\n",
      "31 dice: 0.6433566433575921\n",
      "32 iou: 0.44329896907273886\n",
      "32 dice: 0.6142857142867042\n",
      "33 iou: 0.45054945055005435\n",
      "33 dice: 0.6212121212131658\n",
      "34 iou: 0.42574257425799433\n",
      "34 dice: 0.5972222222231964\n",
      "35 iou: 0.40000000000057145\n",
      "35 dice: 0.5714285714295433\n",
      "36 iou: 0.4949494949500051\n",
      "36 dice: 0.6621621621630662\n",
      "37 iou: 2.325581395343429e-12\n",
      "37 dice: 4.651162790686858e-12\n",
      "38 iou: 2.380952380946712e-12\n",
      "38 dice: 4.761904761893424e-12\n",
      "39 iou: 0.45054945055005435\n",
      "39 dice: 0.6212121212131658\n",
      "40 iou: 0.33333333333396825\n",
      "40 dice: 0.5000000000010715\n",
      "41 iou: 0.4555555555561605\n",
      "41 dice: 0.6259541984743314\n",
      "42 iou: 0.45370370370420954\n",
      "42 dice: 0.6242038216569273\n",
      "43 iou: 0.37815126050472425\n",
      "43 dice: 0.548780487805763\n",
      "44 iou: 0.3550724637685833\n",
      "44 dice: 0.524064171123784\n",
      "45 iou: 0.4752475247529948\n",
      "45 dice: 0.6442953020143327\n",
      "46 iou: 0.4719101123598473\n",
      "46 dice: 0.6412213740463202\n",
      "47 iou: 0.44502617801076183\n",
      "47 dice: 0.6159420289860088\n",
      "48 iou: 0.5581395348839778\n",
      "48 dice: 0.7164179104482402\n",
      "49 iou: 0.5939849624063204\n",
      "49 dice: 0.7452830188685164\n",
      "50 iou: 0.7412587412589223\n",
      "50 dice: 0.8514056224904212\n",
      "51 iou: 0.7456140350879424\n",
      "51 dice: 0.8542713567844954\n",
      "52 iou: 0.7698412698414525\n",
      "52 dice: 0.8699551569511794\n",
      "53 iou: 4.807692307689997e-13\n",
      "53 dice: 9.615384615379993e-13\n",
      "54 iou: 5.714285714282449e-13\n",
      "54 dice: 1.1428571428564898e-12\n",
      "55 iou: 0.52000000000048\n",
      "55 dice: 0.6842105263166552\n",
      "56 iou: 0.5632183908050997\n",
      "56 dice: 0.7205882352950584\n",
      "57 iou: 0.6282051282056049\n",
      "57 dice: 0.7716535433080538\n",
      "58 iou: 0.5212765957451901\n",
      "58 dice: 0.6853146853156048\n",
      "59 iou: 0.43434343434400574\n",
      "59 dice: 0.6056338028178835\n",
      "60 iou: 0.79000000000021\n",
      "60 dice: 0.8826815642464343\n",
      "61 iou: 0.5376344086026477\n",
      "61 dice: 0.699300699301609\n",
      "62 iou: 0.5052631578952577\n",
      "62 dice: 0.6713286713296005\n",
      "63 iou: 0.7876106194692145\n",
      "63 dice: 0.8811881188124351\n",
      "64 iou: 0.56000000000044\n",
      "64 dice: 0.7179487179495398\n",
      "65 iou: 0.8602150537635912\n",
      "65 dice: 0.9248554913301014\n",
      "66 iou: 0.41975308642046943\n",
      "66 dice: 0.5913043478273119\n",
      "67 iou: 3.703703703689987e-12\n",
      "67 dice: 7.407407407379974e-12\n",
      "68 iou: 0.38823529411836677\n",
      "68 dice: 0.5593220338995261\n",
      "69 iou: 0.8785046728973098\n",
      "69 dice: 0.9353233830851069\n",
      "70 iou: 0.42574257425799433\n",
      "70 dice: 0.5972222222231964\n",
      "71 iou: 1.7543859649092028e-12\n",
      "71 dice: 3.5087719298184055e-12\n",
      "72 iou: 0.6794871794875904\n",
      "72 dice: 0.8091603053444206\n",
      "73 iou: 0.8632478632479801\n",
      "73 dice: 0.9266055045876485\n",
      "74 iou: 0.687500000000279\n",
      "74 dice: 0.8148148148154419\n",
      "Average IOU: 0.4901484156048546\n",
      "Average DSC: 0.609362301412597\n"
     ]
    },
    {
     "ename": "",
     "evalue": "",
     "output_type": "error",
     "traceback": [
      "\u001b[1;31mThe Kernel crashed while executing code in the current cell or a previous cell. \n",
      "\u001b[1;31mPlease review the code in the cell(s) to identify a possible cause of the failure. \n",
      "\u001b[1;31mClick <a href='https://aka.ms/vscodeJupyterKernelCrash'>here</a> for more info. \n",
      "\u001b[1;31mView Jupyter <a href='command:jupyter.viewOutput'>log</a> for further details."
     ]
    }
   ],
   "source": [
    "avg_iou, avg_dice = calculate_average_iou_and_dice(segmented_MC, gt_MC)\n",
    "print(\"Average IOU:\", avg_iou)\n",
    "print(\"Average DSC:\", avg_dice)\n",
    "# print(\"Average Dice Score:\", avg_dice)"
   ]
  }
 ],
 "metadata": {
  "kernelspec": {
   "display_name": "base",
   "language": "python",
   "name": "python3"
  },
  "language_info": {
   "codemirror_mode": {
    "name": "ipython",
    "version": 3
   },
   "file_extension": ".py",
   "mimetype": "text/x-python",
   "name": "python",
   "nbconvert_exporter": "python",
   "pygments_lexer": "ipython3",
   "version": "3.12.4"
  }
 },
 "nbformat": 4,
 "nbformat_minor": 2
}
