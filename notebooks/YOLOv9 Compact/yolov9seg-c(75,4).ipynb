{
 "cells": [
  {
   "cell_type": "markdown",
   "metadata": {
    "id": "wUwZ1zkTjaux"
   },
   "source": [
    "# Model C + Epochs 75 + Batch Size 4\n",
    "\n",
    "\n",
    " Train : 894 Images\n",
    "\n",
    " Valid : 75 Images"
   ]
  },
  {
   "cell_type": "code",
   "execution_count": 2,
   "metadata": {
    "colab": {
     "base_uri": "https://localhost:8080/",
     "height": 304
    },
    "executionInfo": {
     "elapsed": 96,
     "status": "error",
     "timestamp": 1742741544505,
     "user": {
      "displayName": "Katarina Inezita",
      "userId": "04980882031321864073"
     },
     "user_tz": -420
    },
    "id": "emNwZQCBjau0",
    "outputId": "5ec9308a-e03c-48a2-edff-ecd2b882bd51"
   },
   "outputs": [
    {
     "name": "stdout",
     "output_type": "stream",
     "text": [
      "Mon Mar 24 22:31:39 2025       \n",
      "+-----------------------------------------------------------------------------------------+\n",
      "| NVIDIA-SMI 560.94                 Driver Version: 560.94         CUDA Version: 12.6     |\n",
      "|-----------------------------------------+------------------------+----------------------+\n",
      "| GPU  Name                  Driver-Model | Bus-Id          Disp.A | Volatile Uncorr. ECC |\n",
      "| Fan  Temp   Perf          Pwr:Usage/Cap |           Memory-Usage | GPU-Util  Compute M. |\n",
      "|                                         |                        |               MIG M. |\n",
      "|=========================================+========================+======================|\n",
      "|   0  NVIDIA GeForce RTX 4080 ...  WDDM  |   00000000:01:00.0  On |                  N/A |\n",
      "|  0%   38C    P8              8W /  320W |     636MiB /  16376MiB |      1%      Default |\n",
      "|                                         |                        |                  N/A |\n",
      "+-----------------------------------------+------------------------+----------------------+\n",
      "                                                                                         \n",
      "+-----------------------------------------------------------------------------------------+\n",
      "| Processes:                                                                              |\n",
      "|  GPU   GI   CI        PID   Type   Process name                              GPU Memory |\n",
      "|        ID   ID                                                               Usage      |\n",
      "|=========================================================================================|\n",
      "|    0   N/A  N/A      1920    C+G   ...ekyb3d8bbwe\\PhoneExperienceHost.exe      N/A      |\n",
      "|    0   N/A  N/A      7024    C+G   ...crosoft\\Edge\\Application\\msedge.exe      N/A      |\n",
      "|    0   N/A  N/A      8672    C+G   C:\\Windows\\explorer.exe                     N/A      |\n",
      "|    0   N/A  N/A      8848    C+G   C:\\Windows\\System32\\ShellHost.exe           N/A      |\n",
      "|    0   N/A  N/A     10884    C+G   ...nt.CBS_cw5n1h2txyewy\\SearchHost.exe      N/A      |\n",
      "|    0   N/A  N/A     10908    C+G   ...2txyewy\\StartMenuExperienceHost.exe      N/A      |\n",
      "|    0   N/A  N/A     12244    C+G   ...Programs\\Microsoft VS Code\\Code.exe      N/A      |\n",
      "|    0   N/A  N/A     12452    C+G   ...on\\134.0.3124.83\\msedgewebview2.exe      N/A      |\n",
      "|    0   N/A  N/A     13856    C+G   ...cal\\Microsoft\\OneDrive\\OneDrive.exe      N/A      |\n",
      "|    0   N/A  N/A     15756    C+G   ...155_x64__8wekyb3d8bbwe\\ms-teams.exe      N/A      |\n",
      "|    0   N/A  N/A     16652    C+G   ...on\\134.0.3124.83\\msedgewebview2.exe      N/A      |\n",
      "|    0   N/A  N/A     17992    C+G   ..._x64__8wekyb3d8bbwe\\WebViewHost.exe      N/A      |\n",
      "|    0   N/A  N/A     18044    C+G   ...crosoft\\Edge\\Application\\msedge.exe      N/A      |\n",
      "|    0   N/A  N/A     18316    C+G   ...on\\134.0.3124.83\\msedgewebview2.exe      N/A      |\n",
      "|    0   N/A  N/A     19436    C+G   ...5n1h2txyewy\\ShellExperienceHost.exe      N/A      |\n",
      "|    0   N/A  N/A     21340    C+G   ...CBS_cw5n1h2txyewy\\TextInputHost.exe      N/A      |\n",
      "+-----------------------------------------------------------------------------------------+\n"
     ]
    }
   ],
   "source": [
    "!nvidia-smi"
   ]
  },
  {
   "cell_type": "code",
   "execution_count": 3,
   "metadata": {
    "colab": {
     "base_uri": "https://localhost:8080/"
    },
    "executionInfo": {
     "elapsed": 5151,
     "status": "ok",
     "timestamp": 1742737409989,
     "user": {
      "displayName": "Katarina Inezita",
      "userId": "04980882031321864073"
     },
     "user_tz": -420
    },
    "id": "2OeN5mncjau2",
    "outputId": "75a2293e-876b-4324-ca34-b132d87ea247"
   },
   "outputs": [
    {
     "name": "stdout",
     "output_type": "stream",
     "text": [
      "number of GPU:  1\n",
      "GPU Name:  NVIDIA GeForce RTX 4080 SUPER\n"
     ]
    }
   ],
   "source": [
    "import torch\n",
    "\n",
    "print(\"number of GPU: \", torch.cuda.device_count())\n",
    "print(\"GPU Name: \", torch.cuda.get_device_name())"
   ]
  },
  {
   "cell_type": "code",
   "execution_count": 4,
   "metadata": {
    "colab": {
     "base_uri": "https://localhost:8080/"
    },
    "executionInfo": {
     "elapsed": 21,
     "status": "ok",
     "timestamp": 1742737410030,
     "user": {
      "displayName": "Katarina Inezita",
      "userId": "04980882031321864073"
     },
     "user_tz": -420
    },
    "id": "yI7iKPV2jau4",
    "outputId": "1930c28f-9d27-4d42-dec1-da3a31c76014"
   },
   "outputs": [
    {
     "name": "stdout",
     "output_type": "stream",
     "text": [
      "using device :  cuda\n"
     ]
    }
   ],
   "source": [
    "device = torch.device('cuda' if torch.cuda.is_available() else 'cpu')\n",
    "print('using device : ', device)"
   ]
  },
  {
   "cell_type": "code",
   "execution_count": 5,
   "metadata": {
    "colab": {
     "base_uri": "https://localhost:8080/"
    },
    "executionInfo": {
     "elapsed": 30,
     "status": "ok",
     "timestamp": 1742737410063,
     "user": {
      "displayName": "Katarina Inezita",
      "userId": "04980882031321864073"
     },
     "user_tz": -420
    },
    "id": "S9RQYY3ojau8",
    "outputId": "81f0b735-df24-4537-990a-d6380b21b8a0"
   },
   "outputs": [
    {
     "name": "stdout",
     "output_type": "stream",
     "text": [
      "c:\\5025211148\\YOLOv9-Segmentation\n"
     ]
    }
   ],
   "source": [
    "import os\n",
    "HOME = os.getcwd()\n",
    "print(HOME)"
   ]
  },
  {
   "cell_type": "code",
   "execution_count": 5,
   "metadata": {
    "colab": {
     "base_uri": "https://localhost:8080/"
    },
    "executionInfo": {
     "elapsed": 97724,
     "status": "ok",
     "timestamp": 1742737375704,
     "user": {
      "displayName": "Katarina Inezita",
      "userId": "04980882031321864073"
     },
     "user_tz": -420
    },
    "id": "NJ4PePd9jau9",
    "outputId": "d8014433-f3a6-44dd-8747-09c1e701d9c4"
   },
   "outputs": [
    {
     "name": "stdout",
     "output_type": "stream",
     "text": [
      "Requirement already satisfied: ultralytics in c:\\users\\admin\\anaconda3\\lib\\site-packages (8.2.98)\n",
      "Requirement already satisfied: numpy<2.0.0,>=1.23.0 in c:\\users\\admin\\anaconda3\\lib\\site-packages (from ultralytics) (1.26.4)\n",
      "Requirement already satisfied: matplotlib>=3.3.0 in c:\\users\\admin\\anaconda3\\lib\\site-packages (from ultralytics) (3.8.4)\n",
      "Requirement already satisfied: opencv-python>=4.6.0 in c:\\users\\admin\\anaconda3\\lib\\site-packages (from ultralytics) (4.10.0.84)\n",
      "Requirement already satisfied: pillow>=7.1.2 in c:\\users\\admin\\anaconda3\\lib\\site-packages (from ultralytics) (10.3.0)\n",
      "Requirement already satisfied: pyyaml>=5.3.1 in c:\\users\\admin\\anaconda3\\lib\\site-packages (from ultralytics) (6.0.1)\n",
      "Requirement already satisfied: requests>=2.23.0 in c:\\users\\admin\\anaconda3\\lib\\site-packages (from ultralytics) (2.32.2)\n",
      "Requirement already satisfied: scipy>=1.4.1 in c:\\users\\admin\\anaconda3\\lib\\site-packages (from ultralytics) (1.13.1)\n",
      "Requirement already satisfied: torch>=1.8.0 in c:\\users\\admin\\anaconda3\\lib\\site-packages (from ultralytics) (2.4.1)\n",
      "Requirement already satisfied: torchvision>=0.9.0 in c:\\users\\admin\\anaconda3\\lib\\site-packages (from ultralytics) (0.19.1)\n",
      "Requirement already satisfied: tqdm>=4.64.0 in c:\\users\\admin\\anaconda3\\lib\\site-packages (from ultralytics) (4.66.4)\n",
      "Requirement already satisfied: psutil in c:\\users\\admin\\appdata\\roaming\\python\\python312\\site-packages (from ultralytics) (6.0.0)\n",
      "Requirement already satisfied: py-cpuinfo in c:\\users\\admin\\anaconda3\\lib\\site-packages (from ultralytics) (9.0.0)\n",
      "Requirement already satisfied: pandas>=1.1.4 in c:\\users\\admin\\anaconda3\\lib\\site-packages (from ultralytics) (2.2.2)\n",
      "Requirement already satisfied: seaborn>=0.11.0 in c:\\users\\admin\\anaconda3\\lib\\site-packages (from ultralytics) (0.13.2)\n",
      "Requirement already satisfied: ultralytics-thop>=2.0.0 in c:\\users\\admin\\anaconda3\\lib\\site-packages (from ultralytics) (2.0.6)\n",
      "Requirement already satisfied: contourpy>=1.0.1 in c:\\users\\admin\\anaconda3\\lib\\site-packages (from matplotlib>=3.3.0->ultralytics) (1.2.0)\n",
      "Requirement already satisfied: cycler>=0.10 in c:\\users\\admin\\anaconda3\\lib\\site-packages (from matplotlib>=3.3.0->ultralytics) (0.11.0)\n",
      "Requirement already satisfied: fonttools>=4.22.0 in c:\\users\\admin\\anaconda3\\lib\\site-packages (from matplotlib>=3.3.0->ultralytics) (4.51.0)\n",
      "Requirement already satisfied: kiwisolver>=1.3.1 in c:\\users\\admin\\anaconda3\\lib\\site-packages (from matplotlib>=3.3.0->ultralytics) (1.4.4)\n",
      "Requirement already satisfied: packaging>=20.0 in c:\\users\\admin\\appdata\\roaming\\python\\python312\\site-packages (from matplotlib>=3.3.0->ultralytics) (24.1)\n",
      "Requirement already satisfied: pyparsing>=2.3.1 in c:\\users\\admin\\anaconda3\\lib\\site-packages (from matplotlib>=3.3.0->ultralytics) (3.0.9)\n",
      "Requirement already satisfied: python-dateutil>=2.7 in c:\\users\\admin\\appdata\\roaming\\python\\python312\\site-packages (from matplotlib>=3.3.0->ultralytics) (2.9.0.post0)\n",
      "Requirement already satisfied: pytz>=2020.1 in c:\\users\\admin\\anaconda3\\lib\\site-packages (from pandas>=1.1.4->ultralytics) (2024.1)\n",
      "Requirement already satisfied: tzdata>=2022.7 in c:\\users\\admin\\anaconda3\\lib\\site-packages (from pandas>=1.1.4->ultralytics) (2023.3)\n",
      "Requirement already satisfied: charset-normalizer<4,>=2 in c:\\users\\admin\\anaconda3\\lib\\site-packages (from requests>=2.23.0->ultralytics) (2.0.4)\n",
      "Requirement already satisfied: idna<4,>=2.5 in c:\\users\\admin\\appdata\\roaming\\python\\python312\\site-packages (from requests>=2.23.0->ultralytics) (3.7)\n",
      "Requirement already satisfied: urllib3<3,>=1.21.1 in c:\\users\\admin\\anaconda3\\lib\\site-packages (from requests>=2.23.0->ultralytics) (2.2.2)\n",
      "Requirement already satisfied: certifi>=2017.4.17 in c:\\users\\admin\\anaconda3\\lib\\site-packages (from requests>=2.23.0->ultralytics) (2024.8.30)\n",
      "Requirement already satisfied: filelock in c:\\users\\admin\\anaconda3\\lib\\site-packages (from torch>=1.8.0->ultralytics) (3.13.1)\n",
      "Requirement already satisfied: typing-extensions>=4.8.0 in c:\\users\\admin\\anaconda3\\lib\\site-packages (from torch>=1.8.0->ultralytics) (4.11.0)\n",
      "Requirement already satisfied: sympy in c:\\users\\admin\\anaconda3\\lib\\site-packages (from torch>=1.8.0->ultralytics) (1.12)\n",
      "Requirement already satisfied: networkx in c:\\users\\admin\\anaconda3\\lib\\site-packages (from torch>=1.8.0->ultralytics) (3.2.1)\n",
      "Requirement already satisfied: jinja2 in c:\\users\\admin\\anaconda3\\lib\\site-packages (from torch>=1.8.0->ultralytics) (3.1.4)\n",
      "Requirement already satisfied: fsspec in c:\\users\\admin\\anaconda3\\lib\\site-packages (from torch>=1.8.0->ultralytics) (2024.3.1)\n",
      "Requirement already satisfied: setuptools in c:\\users\\admin\\anaconda3\\lib\\site-packages (from torch>=1.8.0->ultralytics) (69.5.1)\n",
      "Requirement already satisfied: colorama in c:\\users\\admin\\appdata\\roaming\\python\\python312\\site-packages (from tqdm>=4.64.0->ultralytics) (0.4.6)\n",
      "Requirement already satisfied: six>=1.5 in c:\\users\\admin\\appdata\\roaming\\python\\python312\\site-packages (from python-dateutil>=2.7->matplotlib>=3.3.0->ultralytics) (1.16.0)\n",
      "Requirement already satisfied: MarkupSafe>=2.0 in c:\\users\\admin\\anaconda3\\lib\\site-packages (from jinja2->torch>=1.8.0->ultralytics) (2.1.3)\n",
      "Requirement already satisfied: mpmath>=0.19 in c:\\users\\admin\\anaconda3\\lib\\site-packages (from sympy->torch>=1.8.0->ultralytics) (1.3.0)\n",
      "Note: you may need to restart the kernel to use updated packages.\n"
     ]
    }
   ],
   "source": [
    "%pip install ultralytics"
   ]
  },
  {
   "cell_type": "code",
   "execution_count": 6,
   "metadata": {
    "colab": {
     "base_uri": "https://localhost:8080/"
    },
    "executionInfo": {
     "elapsed": 2079,
     "status": "ok",
     "timestamp": 1742737412145,
     "user": {
      "displayName": "Katarina Inezita",
      "userId": "04980882031321864073"
     },
     "user_tz": -420
    },
    "id": "ZduyQaYQjavA",
    "outputId": "e2099523-cd8d-440d-fe1b-a43b05695cd3"
   },
   "outputs": [
    {
     "name": "stdout",
     "output_type": "stream",
     "text": [
      "Ultralytics YOLOv8.2.98  Python-3.12.4 torch-2.4.1 CUDA:0 (NVIDIA GeForce RTX 4080 SUPER, 16376MiB)\n",
      "Setup complete  (32 CPUs, 63.8 GB RAM, 244.3/476.5 GB disk)\n"
     ]
    }
   ],
   "source": [
    "from IPython import display\n",
    "display.clear_output()\n",
    "\n",
    "import ultralytics\n",
    "ultralytics.checks()"
   ]
  },
  {
   "cell_type": "code",
   "execution_count": 7,
   "metadata": {
    "executionInfo": {
     "elapsed": 10,
     "status": "ok",
     "timestamp": 1742737412163,
     "user": {
      "displayName": "Katarina Inezita",
      "userId": "04980882031321864073"
     },
     "user_tz": -420
    },
    "id": "kBMP0EVSjavC"
   },
   "outputs": [],
   "source": [
    "from ultralytics import YOLO\n",
    "from IPython.display import display, Image"
   ]
  },
  {
   "cell_type": "code",
   "execution_count": 8,
   "metadata": {
    "colab": {
     "base_uri": "https://localhost:8080/",
     "height": 967
    },
    "executionInfo": {
     "elapsed": 14137,
     "status": "ok",
     "timestamp": 1742737394799,
     "user": {
      "displayName": "Katarina Inezita",
      "userId": "04980882031321864073"
     },
     "user_tz": -420
    },
    "id": "QE8WAOaQ-HQ4",
    "outputId": "9bd50afa-afff-478d-bf20-a862ba2f5ac9"
   },
   "outputs": [
    {
     "name": "stdout",
     "output_type": "stream",
     "text": [
      "Collecting roboflow\n",
      "  Downloading roboflow-1.1.58-py3-none-any.whl.metadata (9.7 kB)\n",
      "Requirement already satisfied: certifi in /usr/local/lib/python3.11/dist-packages (from roboflow) (2025.1.31)\n",
      "Collecting idna==3.7 (from roboflow)\n",
      "  Downloading idna-3.7-py3-none-any.whl.metadata (9.9 kB)\n",
      "Requirement already satisfied: cycler in /usr/local/lib/python3.11/dist-packages (from roboflow) (0.12.1)\n",
      "Requirement already satisfied: kiwisolver>=1.3.1 in /usr/local/lib/python3.11/dist-packages (from roboflow) (1.4.8)\n",
      "Requirement already satisfied: matplotlib in /usr/local/lib/python3.11/dist-packages (from roboflow) (3.10.0)\n",
      "Requirement already satisfied: numpy>=1.18.5 in /usr/local/lib/python3.11/dist-packages (from roboflow) (2.0.2)\n",
      "Collecting opencv-python-headless==4.10.0.84 (from roboflow)\n",
      "  Downloading opencv_python_headless-4.10.0.84-cp37-abi3-manylinux_2_17_x86_64.manylinux2014_x86_64.whl.metadata (20 kB)\n",
      "Requirement already satisfied: Pillow>=7.1.2 in /usr/local/lib/python3.11/dist-packages (from roboflow) (11.1.0)\n",
      "Collecting pillow-heif>=0.18.0 (from roboflow)\n",
      "  Downloading pillow_heif-0.22.0-cp311-cp311-manylinux_2_17_x86_64.manylinux2014_x86_64.whl.metadata (9.6 kB)\n",
      "Requirement already satisfied: python-dateutil in /usr/local/lib/python3.11/dist-packages (from roboflow) (2.8.2)\n",
      "Collecting python-dotenv (from roboflow)\n",
      "  Downloading python_dotenv-1.0.1-py3-none-any.whl.metadata (23 kB)\n",
      "Requirement already satisfied: requests in /usr/local/lib/python3.11/dist-packages (from roboflow) (2.32.3)\n",
      "Requirement already satisfied: six in /usr/local/lib/python3.11/dist-packages (from roboflow) (1.17.0)\n",
      "Requirement already satisfied: urllib3>=1.26.6 in /usr/local/lib/python3.11/dist-packages (from roboflow) (2.3.0)\n",
      "Requirement already satisfied: tqdm>=4.41.0 in /usr/local/lib/python3.11/dist-packages (from roboflow) (4.67.1)\n",
      "Requirement already satisfied: PyYAML>=5.3.1 in /usr/local/lib/python3.11/dist-packages (from roboflow) (6.0.2)\n",
      "Requirement already satisfied: requests-toolbelt in /usr/local/lib/python3.11/dist-packages (from roboflow) (1.0.0)\n",
      "Collecting filetype (from roboflow)\n",
      "  Downloading filetype-1.2.0-py2.py3-none-any.whl.metadata (6.5 kB)\n",
      "Requirement already satisfied: contourpy>=1.0.1 in /usr/local/lib/python3.11/dist-packages (from matplotlib->roboflow) (1.3.1)\n",
      "Requirement already satisfied: fonttools>=4.22.0 in /usr/local/lib/python3.11/dist-packages (from matplotlib->roboflow) (4.56.0)\n",
      "Requirement already satisfied: packaging>=20.0 in /usr/local/lib/python3.11/dist-packages (from matplotlib->roboflow) (24.2)\n",
      "Requirement already satisfied: pyparsing>=2.3.1 in /usr/local/lib/python3.11/dist-packages (from matplotlib->roboflow) (3.2.1)\n",
      "Requirement already satisfied: charset-normalizer<4,>=2 in /usr/local/lib/python3.11/dist-packages (from requests->roboflow) (3.4.1)\n",
      "Downloading roboflow-1.1.58-py3-none-any.whl (84 kB)\n",
      "\u001b[2K   \u001b[90m━━━━━━━━━━━━━━━━━━━━━━━━━━━━━━━━━━━━━━━━\u001b[0m \u001b[32m84.5/84.5 kB\u001b[0m \u001b[31m5.6 MB/s\u001b[0m eta \u001b[36m0:00:00\u001b[0m\n",
      "\u001b[?25hDownloading idna-3.7-py3-none-any.whl (66 kB)\n",
      "\u001b[2K   \u001b[90m━━━━━━━━━━━━━━━━━━━━━━━━━━━━━━━━━━━━━━━━\u001b[0m \u001b[32m66.8/66.8 kB\u001b[0m \u001b[31m5.5 MB/s\u001b[0m eta \u001b[36m0:00:00\u001b[0m\n",
      "\u001b[?25hDownloading opencv_python_headless-4.10.0.84-cp37-abi3-manylinux_2_17_x86_64.manylinux2014_x86_64.whl (49.9 MB)\n",
      "\u001b[2K   \u001b[90m━━━━━━━━━━━━━━━━━━━━━━━━━━━━━━━━━━━━━━━━\u001b[0m \u001b[32m49.9/49.9 MB\u001b[0m \u001b[31m12.6 MB/s\u001b[0m eta \u001b[36m0:00:00\u001b[0m\n",
      "\u001b[?25hDownloading pillow_heif-0.22.0-cp311-cp311-manylinux_2_17_x86_64.manylinux2014_x86_64.whl (7.8 MB)\n",
      "\u001b[2K   \u001b[90m━━━━━━━━━━━━━━━━━━━━━━━━━━━━━━━━━━━━━━━━\u001b[0m \u001b[32m7.8/7.8 MB\u001b[0m \u001b[31m22.7 MB/s\u001b[0m eta \u001b[36m0:00:00\u001b[0m\n",
      "\u001b[?25hDownloading filetype-1.2.0-py2.py3-none-any.whl (19 kB)\n",
      "Downloading python_dotenv-1.0.1-py3-none-any.whl (19 kB)\n",
      "Installing collected packages: filetype, python-dotenv, pillow-heif, opencv-python-headless, idna, roboflow\n",
      "\u001b[33m  WARNING: The script filetype is installed in '/root/.local/bin' which is not on PATH.\n",
      "  Consider adding this directory to PATH or, if you prefer to suppress this warning, use --no-warn-script-location.\u001b[0m\u001b[33m\n",
      "\u001b[0m\u001b[33m  WARNING: The script dotenv is installed in '/root/.local/bin' which is not on PATH.\n",
      "  Consider adding this directory to PATH or, if you prefer to suppress this warning, use --no-warn-script-location.\u001b[0m\u001b[33m\n",
      "\u001b[0m\u001b[33m  WARNING: The script roboflow is installed in '/root/.local/bin' which is not on PATH.\n",
      "  Consider adding this directory to PATH or, if you prefer to suppress this warning, use --no-warn-script-location.\u001b[0m\u001b[33m\n",
      "\u001b[0mSuccessfully installed filetype-1.2.0 idna-3.7 opencv-python-headless-4.10.0.84 pillow-heif-0.22.0 python-dotenv-1.0.1 roboflow-1.1.58\n"
     ]
    },
    {
     "data": {
      "application/vnd.colab-display-data+json": {
       "id": "0f6c504ad6404233be6382e8ee837d07",
       "pip_warning": {
        "packages": [
         "cv2"
        ]
       }
      }
     },
     "metadata": {},
     "output_type": "display_data"
    }
   ],
   "source": [
    "%pip install --user roboflow"
   ]
  },
  {
   "cell_type": "code",
   "execution_count": 7,
   "metadata": {
    "colab": {
     "base_uri": "https://localhost:8080/"
    },
    "executionInfo": {
     "elapsed": 5044,
     "status": "ok",
     "timestamp": 1742737417212,
     "user": {
      "displayName": "Katarina Inezita",
      "userId": "04980882031321864073"
     },
     "user_tz": -420
    },
    "id": "kcy8VsLBjavE",
    "outputId": "d4907a73-6c8d-4617-aa8e-a9696b253eb6"
   },
   "outputs": [
    {
     "name": "stdout",
     "output_type": "stream",
     "text": [
      "loading Roboflow workspace...\n",
      "loading Roboflow project...\n"
     ]
    },
    {
     "name": "stderr",
     "output_type": "stream",
     "text": [
      "Downloading Dataset Version Zip in merge-inez-1 to yolov9:: 100%|██████████| 36707/36707 [00:01<00:00, 20568.68it/s]"
     ]
    },
    {
     "name": "stdout",
     "output_type": "stream",
     "text": [
      "\n"
     ]
    },
    {
     "name": "stderr",
     "output_type": "stream",
     "text": [
      "\n",
      "Extracting Dataset Version Zip to merge-inez-1 in yolov9:: 100%|██████████| 1947/1947 [00:00<00:00, 2826.96it/s]\n"
     ]
    }
   ],
   "source": [
    "from roboflow import Roboflow\n",
    "rf = Roboflow(api_key=\"R66BD6MEFMOCLYffXdn9\")\n",
    "project = rf.workspace(\"mcab\").project(\"merge-inez\")\n",
    "version = project.version(1)\n",
    "dataset = version.download(\"yolov9\")"
   ]
  },
  {
   "cell_type": "code",
   "execution_count": 8,
   "metadata": {
    "colab": {
     "base_uri": "https://localhost:8080/"
    },
    "executionInfo": {
     "elapsed": 160,
     "status": "ok",
     "timestamp": 1742737417379,
     "user": {
      "displayName": "Katarina Inezita",
      "userId": "04980882031321864073"
     },
     "user_tz": -420
    },
    "id": "cWkaOY2ojavF",
    "outputId": "6fe3f564-3b79-4330-a0d8-0f0d79b94a44"
   },
   "outputs": [
    {
     "name": "stdout",
     "output_type": "stream",
     "text": [
      "c:\\5025211148\\YOLOv9-Segmentation\n"
     ]
    }
   ],
   "source": [
    "%cd {HOME}\n"
   ]
  },
  {
   "cell_type": "code",
   "execution_count": 9,
   "metadata": {
    "colab": {
     "base_uri": "https://localhost:8080/"
    },
    "executionInfo": {
     "elapsed": 2732,
     "status": "ok",
     "timestamp": 1742737420112,
     "user": {
      "displayName": "Katarina Inezita",
      "userId": "04980882031321864073"
     },
     "user_tz": -420
    },
    "id": "-XzhTc-rjavG",
    "outputId": "520fa7bd-89ac-4dbd-bc87-970485815ef4"
   },
   "outputs": [],
   "source": [
    "model = YOLO(\"yolov9c-seg.pt\")"
   ]
  },
  {
   "cell_type": "code",
   "execution_count": 10,
   "metadata": {
    "colab": {
     "base_uri": "https://localhost:8080/"
    },
    "executionInfo": {
     "elapsed": 1116,
     "status": "ok",
     "timestamp": 1742737421232,
     "user": {
      "displayName": "Katarina Inezita",
      "userId": "04980882031321864073"
     },
     "user_tz": -420
    },
    "id": "XgJ-anyBjavH",
    "outputId": "20bcbdcb-48c0-4df9-8685-8c6a4d40f88e"
   },
   "outputs": [
    {
     "name": "stdout",
     "output_type": "stream",
     "text": [
      "YOLOv9c-seg summary: 654 layers, 27,897,120 parameters, 0 gradients, 159.4 GFLOPs\n"
     ]
    },
    {
     "data": {
      "text/plain": [
       "(654, 27897120, 0, 159.41411839999998)"
      ]
     },
     "execution_count": 10,
     "metadata": {},
     "output_type": "execute_result"
    }
   ],
   "source": [
    "model.info()"
   ]
  },
  {
   "cell_type": "code",
   "execution_count": 11,
   "metadata": {
    "colab": {
     "base_uri": "https://localhost:8080/"
    },
    "executionInfo": {
     "elapsed": 3910428,
     "status": "ok",
     "timestamp": 1742741331666,
     "user": {
      "displayName": "Katarina Inezita",
      "userId": "04980882031321864073"
     },
     "user_tz": -420
    },
    "id": "vixa5BgHjavI",
    "outputId": "d06dc18a-bb76-47c1-de26-ffa65c63b4cd"
   },
   "outputs": [
    {
     "name": "stdout",
     "output_type": "stream",
     "text": [
      "New https://pypi.org/project/ultralytics/8.3.95 available  Update with 'pip install -U ultralytics'\n",
      "Ultralytics YOLOv8.2.98  Python-3.12.4 torch-2.4.1 CUDA:0 (NVIDIA GeForce RTX 4080 SUPER, 16376MiB)\n",
      "\u001b[34m\u001b[1mengine\\trainer: \u001b[0mtask=segment, mode=train, model=yolov9c-seg.pt, data=C:\\5025211148\\YOLOv9-Segmentation\\merge-inez-1\\data.yaml, epochs=75, time=None, patience=100, batch=4, imgsz=640, save=True, save_period=-1, cache=False, device=None, workers=8, project=None, name=train21, exist_ok=False, pretrained=True, optimizer=auto, verbose=True, seed=0, deterministic=True, single_cls=False, rect=False, cos_lr=False, close_mosaic=10, resume=False, amp=True, fraction=1.0, profile=False, freeze=None, multi_scale=False, overlap_mask=True, mask_ratio=4, dropout=0.0, val=True, split=val, save_json=False, save_hybrid=False, conf=None, iou=0.7, max_det=300, half=False, dnn=False, plots=True, source=None, vid_stride=1, stream_buffer=False, visualize=False, augment=False, agnostic_nms=False, classes=None, retina_masks=False, embed=None, show=False, save_frames=False, save_txt=False, save_conf=False, save_crop=False, show_labels=True, show_conf=True, show_boxes=True, line_width=None, format=torchscript, keras=False, optimize=False, int8=False, dynamic=False, simplify=False, opset=None, workspace=4, nms=False, lr0=0.01, lrf=0.01, momentum=0.937, weight_decay=0.0005, warmup_epochs=3.0, warmup_momentum=0.8, warmup_bias_lr=0.1, box=7.5, cls=0.5, dfl=1.5, pose=12.0, kobj=1.0, label_smoothing=0.0, nbs=64, hsv_h=0.015, hsv_s=0.7, hsv_v=0.4, degrees=0.0, translate=0.1, scale=0.5, shear=0.0, perspective=0.0, flipud=0.0, fliplr=0.5, bgr=0.0, mosaic=1.0, mixup=0.0, copy_paste=0.0, auto_augment=randaugment, erasing=0.4, crop_fraction=1.0, cfg=None, tracker=botsort.yaml, save_dir=runs\\segment\\train21\n",
      "Overriding model.yaml nc=80 with nc=2\n",
      "\n",
      "                   from  n    params  module                                       arguments                     \n",
      "  0                  -1  1      1856  ultralytics.nn.modules.conv.Conv             [3, 64, 3, 2]                 \n",
      "  1                  -1  1     73984  ultralytics.nn.modules.conv.Conv             [64, 128, 3, 2]               \n",
      "  2                  -1  1    212864  ultralytics.nn.modules.block.RepNCSPELAN4    [128, 256, 128, 64, 1]        \n",
      "  3                  -1  1    164352  ultralytics.nn.modules.block.ADown           [256, 256]                    \n",
      "  4                  -1  1    847616  ultralytics.nn.modules.block.RepNCSPELAN4    [256, 512, 256, 128, 1]       \n",
      "  5                  -1  1    656384  ultralytics.nn.modules.block.ADown           [512, 512]                    \n",
      "  6                  -1  1   2857472  ultralytics.nn.modules.block.RepNCSPELAN4    [512, 512, 512, 256, 1]       \n",
      "  7                  -1  1    656384  ultralytics.nn.modules.block.ADown           [512, 512]                    \n",
      "  8                  -1  1   2857472  ultralytics.nn.modules.block.RepNCSPELAN4    [512, 512, 512, 256, 1]       \n",
      "  9                  -1  1    656896  ultralytics.nn.modules.block.SPPELAN         [512, 512, 256]               \n",
      " 10                  -1  1         0  torch.nn.modules.upsampling.Upsample         [None, 2, 'nearest']          \n",
      " 11             [-1, 6]  1         0  ultralytics.nn.modules.conv.Concat           [1]                           \n",
      " 12                  -1  1   3119616  ultralytics.nn.modules.block.RepNCSPELAN4    [1024, 512, 512, 256, 1]      \n",
      " 13                  -1  1         0  torch.nn.modules.upsampling.Upsample         [None, 2, 'nearest']          \n",
      " 14             [-1, 4]  1         0  ultralytics.nn.modules.conv.Concat           [1]                           \n",
      " 15                  -1  1    912640  ultralytics.nn.modules.block.RepNCSPELAN4    [1024, 256, 256, 128, 1]      \n",
      " 16                  -1  1    164352  ultralytics.nn.modules.block.ADown           [256, 256]                    \n",
      " 17            [-1, 12]  1         0  ultralytics.nn.modules.conv.Concat           [1]                           \n",
      " 18                  -1  1   2988544  ultralytics.nn.modules.block.RepNCSPELAN4    [768, 512, 512, 256, 1]       \n",
      " 19                  -1  1    656384  ultralytics.nn.modules.block.ADown           [512, 512]                    \n",
      " 20             [-1, 9]  1         0  ultralytics.nn.modules.conv.Concat           [1]                           \n",
      " 21                  -1  1   3119616  ultralytics.nn.modules.block.RepNCSPELAN4    [1024, 512, 512, 256, 1]      \n",
      " 22        [15, 18, 21]  1   7890550  ultralytics.nn.modules.head.Segment          [2, 32, 256, [256, 512, 512]] \n",
      "YOLOv9c-seg summary: 654 layers, 27,836,982 parameters, 27,836,966 gradients, 159.1 GFLOPs\n",
      "\n",
      "Transferred 993/999 items from pretrained weights\n",
      "Freezing layer 'model.22.dfl.conv.weight'\n",
      "\u001b[34m\u001b[1mAMP: \u001b[0mrunning Automatic Mixed Precision (AMP) checks with YOLOv8n...\n",
      "\u001b[34m\u001b[1mAMP: \u001b[0mchecks passed \n"
     ]
    },
    {
     "name": "stderr",
     "output_type": "stream",
     "text": [
      "\u001b[34m\u001b[1mtrain: \u001b[0mScanning C:\\5025211148\\YOLOv9-Segmentation\\merge-inez-1\\train\\labels.cache... 894 images, 0 backgrounds, 0 corrupt: 100%|██████████| 894/894 [00:00<?, ?it/s]\n",
      "\u001b[34m\u001b[1mval: \u001b[0mScanning C:\\5025211148\\YOLOv9-Segmentation\\merge-inez-1\\valid\\labels.cache... 75 images, 0 backgrounds, 0 corrupt: 100%|██████████| 75/75 [00:00<?, ?it/s]"
     ]
    },
    {
     "name": "stdout",
     "output_type": "stream",
     "text": [
      "\u001b[34m\u001b[1mval: \u001b[0mWARNING  C:\\5025211148\\YOLOv9-Segmentation\\merge-inez-1\\valid\\images\\slice_234_jpg.rf.8c97c306d89d4aea1956db536d9ae8da.jpg: 1 duplicate labels removed\n"
     ]
    },
    {
     "name": "stderr",
     "output_type": "stream",
     "text": [
      "\n"
     ]
    },
    {
     "name": "stdout",
     "output_type": "stream",
     "text": [
      "Plotting labels to runs\\segment\\train21\\labels.jpg... \n",
      "\u001b[34m\u001b[1moptimizer:\u001b[0m 'optimizer=auto' found, ignoring 'lr0=0.01' and 'momentum=0.937' and determining best 'optimizer', 'lr0' and 'momentum' automatically... \n",
      "\u001b[34m\u001b[1moptimizer:\u001b[0m AdamW(lr=0.001667, momentum=0.9) with parameter groups 163 weight(decay=0.0), 174 weight(decay=0.0005), 173 bias(decay=0.0)\n",
      "Image sizes 640 train, 640 val\n",
      "Using 8 dataloader workers\n",
      "Logging results to \u001b[1mruns\\segment\\train21\u001b[0m\n",
      "Starting training for 75 epochs...\n",
      "\n",
      "      Epoch    GPU_mem   box_loss   seg_loss   cls_loss   dfl_loss  Instances       Size\n"
     ]
    },
    {
     "name": "stderr",
     "output_type": "stream",
     "text": [
      "       1/75      3.73G      1.237      2.083      1.403       1.43          4        640: 100%|██████████| 224/224 [00:24<00:00,  9.04it/s]\n",
      "                 Class     Images  Instances      Box(P          R      mAP50  mAP50-95)     Mask(P          R      mAP50  mAP50-95): 100%|██████████| 10/10 [00:00<00:00, 12.31it/s]"
     ]
    },
    {
     "name": "stdout",
     "output_type": "stream",
     "text": [
      "                   all         75        150        0.9      0.425      0.486       0.35        0.9      0.425      0.478      0.387\n"
     ]
    },
    {
     "name": "stderr",
     "output_type": "stream",
     "text": [
      "\n"
     ]
    },
    {
     "name": "stdout",
     "output_type": "stream",
     "text": [
      "\n",
      "      Epoch    GPU_mem   box_loss   seg_loss   cls_loss   dfl_loss  Instances       Size\n"
     ]
    },
    {
     "name": "stderr",
     "output_type": "stream",
     "text": [
      "       2/75      3.74G      1.262      1.948      1.075      1.422          4        640: 100%|██████████| 224/224 [00:21<00:00, 10.20it/s]\n",
      "                 Class     Images  Instances      Box(P          R      mAP50  mAP50-95)     Mask(P          R      mAP50  mAP50-95): 100%|██████████| 10/10 [00:00<00:00, 13.56it/s]"
     ]
    },
    {
     "name": "stdout",
     "output_type": "stream",
     "text": [
      "                   all         75        150      0.939      0.453      0.608      0.387      0.939      0.453      0.586      0.412\n"
     ]
    },
    {
     "name": "stderr",
     "output_type": "stream",
     "text": [
      "\n"
     ]
    },
    {
     "name": "stdout",
     "output_type": "stream",
     "text": [
      "\n",
      "      Epoch    GPU_mem   box_loss   seg_loss   cls_loss   dfl_loss  Instances       Size\n"
     ]
    },
    {
     "name": "stderr",
     "output_type": "stream",
     "text": [
      "       3/75       3.7G        1.2      1.807      0.929      1.377          9        640: 100%|██████████| 224/224 [00:21<00:00, 10.32it/s]\n",
      "                 Class     Images  Instances      Box(P          R      mAP50  mAP50-95)     Mask(P          R      mAP50  mAP50-95): 100%|██████████| 10/10 [00:00<00:00, 14.35it/s]"
     ]
    },
    {
     "name": "stdout",
     "output_type": "stream",
     "text": [
      "                   all         75        150      0.987      0.493      0.519      0.414      0.599      0.527      0.542      0.422\n"
     ]
    },
    {
     "name": "stderr",
     "output_type": "stream",
     "text": [
      "\n"
     ]
    },
    {
     "name": "stdout",
     "output_type": "stream",
     "text": [
      "\n",
      "      Epoch    GPU_mem   box_loss   seg_loss   cls_loss   dfl_loss  Instances       Size\n"
     ]
    },
    {
     "name": "stderr",
     "output_type": "stream",
     "text": [
      "       4/75      3.76G      1.143      1.821     0.8821      1.344          7        640: 100%|██████████| 224/224 [00:21<00:00, 10.55it/s]\n",
      "                 Class     Images  Instances      Box(P          R      mAP50  mAP50-95)     Mask(P          R      mAP50  mAP50-95): 100%|██████████| 10/10 [00:00<00:00, 13.18it/s]"
     ]
    },
    {
     "name": "stdout",
     "output_type": "stream",
     "text": [
      "                   all         75        150      0.538      0.667       0.68       0.38      0.489       0.64       0.63      0.453\n"
     ]
    },
    {
     "name": "stderr",
     "output_type": "stream",
     "text": [
      "\n"
     ]
    },
    {
     "name": "stdout",
     "output_type": "stream",
     "text": [
      "\n",
      "      Epoch    GPU_mem   box_loss   seg_loss   cls_loss   dfl_loss  Instances       Size\n"
     ]
    },
    {
     "name": "stderr",
     "output_type": "stream",
     "text": [
      "       5/75      3.65G      1.082      1.687      0.754      1.305          5        640: 100%|██████████| 224/224 [00:21<00:00, 10.43it/s]\n",
      "                 Class     Images  Instances      Box(P          R      mAP50  mAP50-95)     Mask(P          R      mAP50  mAP50-95): 100%|██████████| 10/10 [00:00<00:00, 13.62it/s]"
     ]
    },
    {
     "name": "stdout",
     "output_type": "stream",
     "text": [
      "                   all         75        150      0.604      0.773       0.68       0.52      0.577      0.747      0.655      0.501\n"
     ]
    },
    {
     "name": "stderr",
     "output_type": "stream",
     "text": [
      "\n"
     ]
    },
    {
     "name": "stdout",
     "output_type": "stream",
     "text": [
      "\n",
      "      Epoch    GPU_mem   box_loss   seg_loss   cls_loss   dfl_loss  Instances       Size\n"
     ]
    },
    {
     "name": "stderr",
     "output_type": "stream",
     "text": [
      "       6/75      3.72G      1.072      1.641     0.7386      1.279          8        640: 100%|██████████| 224/224 [00:21<00:00, 10.65it/s]\n",
      "                 Class     Images  Instances      Box(P          R      mAP50  mAP50-95)     Mask(P          R      mAP50  mAP50-95): 100%|██████████| 10/10 [00:00<00:00, 13.75it/s]"
     ]
    },
    {
     "name": "stdout",
     "output_type": "stream",
     "text": [
      "                   all         75        150      0.696      0.653      0.652      0.474      0.706      0.659       0.64      0.472\n"
     ]
    },
    {
     "name": "stderr",
     "output_type": "stream",
     "text": [
      "\n"
     ]
    },
    {
     "name": "stdout",
     "output_type": "stream",
     "text": [
      "\n",
      "      Epoch    GPU_mem   box_loss   seg_loss   cls_loss   dfl_loss  Instances       Size\n"
     ]
    },
    {
     "name": "stderr",
     "output_type": "stream",
     "text": [
      "       7/75      3.71G      1.028      1.643       0.71       1.27          5        640: 100%|██████████| 224/224 [00:21<00:00, 10.58it/s]\n",
      "                 Class     Images  Instances      Box(P          R      mAP50  mAP50-95)     Mask(P          R      mAP50  mAP50-95): 100%|██████████| 10/10 [00:00<00:00, 13.22it/s]"
     ]
    },
    {
     "name": "stdout",
     "output_type": "stream",
     "text": [
      "                   all         75        150      0.868       0.84      0.883      0.549      0.846       0.84      0.839      0.531\n"
     ]
    },
    {
     "name": "stderr",
     "output_type": "stream",
     "text": [
      "\n"
     ]
    },
    {
     "name": "stdout",
     "output_type": "stream",
     "text": [
      "\n",
      "      Epoch    GPU_mem   box_loss   seg_loss   cls_loss   dfl_loss  Instances       Size\n"
     ]
    },
    {
     "name": "stderr",
     "output_type": "stream",
     "text": [
      "       8/75       3.7G      1.007      1.589     0.6601       1.25          7        640: 100%|██████████| 224/224 [00:21<00:00, 10.42it/s]\n",
      "                 Class     Images  Instances      Box(P          R      mAP50  mAP50-95)     Mask(P          R      mAP50  mAP50-95): 100%|██████████| 10/10 [00:00<00:00, 13.44it/s]"
     ]
    },
    {
     "name": "stdout",
     "output_type": "stream",
     "text": [
      "                   all         75        150      0.809      0.753      0.772      0.525       0.83      0.767      0.797       0.54\n"
     ]
    },
    {
     "name": "stderr",
     "output_type": "stream",
     "text": [
      "\n"
     ]
    },
    {
     "name": "stdout",
     "output_type": "stream",
     "text": [
      "\n",
      "      Epoch    GPU_mem   box_loss   seg_loss   cls_loss   dfl_loss  Instances       Size\n"
     ]
    },
    {
     "name": "stderr",
     "output_type": "stream",
     "text": [
      "       9/75      3.72G     0.9763      1.572     0.6346      1.233          8        640: 100%|██████████| 224/224 [00:21<00:00, 10.46it/s]\n",
      "                 Class     Images  Instances      Box(P          R      mAP50  mAP50-95)     Mask(P          R      mAP50  mAP50-95): 100%|██████████| 10/10 [00:00<00:00, 14.17it/s]"
     ]
    },
    {
     "name": "stdout",
     "output_type": "stream",
     "text": [
      "                   all         75        150      0.751       0.72       0.71      0.529      0.736      0.687      0.689      0.513\n"
     ]
    },
    {
     "name": "stderr",
     "output_type": "stream",
     "text": [
      "\n"
     ]
    },
    {
     "name": "stdout",
     "output_type": "stream",
     "text": [
      "\n",
      "      Epoch    GPU_mem   box_loss   seg_loss   cls_loss   dfl_loss  Instances       Size\n"
     ]
    },
    {
     "name": "stderr",
     "output_type": "stream",
     "text": [
      "      10/75      3.64G      0.978      1.556     0.6293      1.239         11        640: 100%|██████████| 224/224 [00:21<00:00, 10.29it/s]\n",
      "                 Class     Images  Instances      Box(P          R      mAP50  mAP50-95)     Mask(P          R      mAP50  mAP50-95): 100%|██████████| 10/10 [00:00<00:00, 13.30it/s]"
     ]
    },
    {
     "name": "stdout",
     "output_type": "stream",
     "text": [
      "                   all         75        150      0.698      0.627      0.609      0.484      0.675      0.667      0.624      0.478\n"
     ]
    },
    {
     "name": "stderr",
     "output_type": "stream",
     "text": [
      "\n"
     ]
    },
    {
     "name": "stdout",
     "output_type": "stream",
     "text": [
      "\n",
      "      Epoch    GPU_mem   box_loss   seg_loss   cls_loss   dfl_loss  Instances       Size\n"
     ]
    },
    {
     "name": "stderr",
     "output_type": "stream",
     "text": [
      "      11/75      3.72G     0.9663      1.535     0.6266      1.226         11        640: 100%|██████████| 224/224 [00:21<00:00, 10.34it/s]\n",
      "                 Class     Images  Instances      Box(P          R      mAP50  mAP50-95)     Mask(P          R      mAP50  mAP50-95): 100%|██████████| 10/10 [00:00<00:00, 14.15it/s]"
     ]
    },
    {
     "name": "stdout",
     "output_type": "stream",
     "text": [
      "                   all         75        150      0.803      0.733      0.738      0.531      0.764      0.762      0.731      0.531\n"
     ]
    },
    {
     "name": "stderr",
     "output_type": "stream",
     "text": [
      "\n"
     ]
    },
    {
     "name": "stdout",
     "output_type": "stream",
     "text": [
      "\n",
      "      Epoch    GPU_mem   box_loss   seg_loss   cls_loss   dfl_loss  Instances       Size\n"
     ]
    },
    {
     "name": "stderr",
     "output_type": "stream",
     "text": [
      "      12/75      3.72G     0.9569      1.526     0.6028      1.223         13        640: 100%|██████████| 224/224 [00:21<00:00, 10.32it/s]\n",
      "                 Class     Images  Instances      Box(P          R      mAP50  mAP50-95)     Mask(P          R      mAP50  mAP50-95): 100%|██████████| 10/10 [00:00<00:00, 13.75it/s]"
     ]
    },
    {
     "name": "stdout",
     "output_type": "stream",
     "text": [
      "                   all         75        150      0.733      0.726      0.687       0.52      0.748      0.754      0.701      0.522\n"
     ]
    },
    {
     "name": "stderr",
     "output_type": "stream",
     "text": [
      "\n"
     ]
    },
    {
     "name": "stdout",
     "output_type": "stream",
     "text": [
      "\n",
      "      Epoch    GPU_mem   box_loss   seg_loss   cls_loss   dfl_loss  Instances       Size\n"
     ]
    },
    {
     "name": "stderr",
     "output_type": "stream",
     "text": [
      "      13/75      3.75G     0.9365      1.477     0.5761      1.215         14        640: 100%|██████████| 224/224 [00:21<00:00, 10.24it/s]\n",
      "                 Class     Images  Instances      Box(P          R      mAP50  mAP50-95)     Mask(P          R      mAP50  mAP50-95): 100%|██████████| 10/10 [00:00<00:00, 13.63it/s]"
     ]
    },
    {
     "name": "stdout",
     "output_type": "stream",
     "text": [
      "                   all         75        150       0.74      0.713      0.692      0.554      0.778      0.781      0.747      0.542\n"
     ]
    },
    {
     "name": "stderr",
     "output_type": "stream",
     "text": [
      "\n"
     ]
    },
    {
     "name": "stdout",
     "output_type": "stream",
     "text": [
      "\n",
      "      Epoch    GPU_mem   box_loss   seg_loss   cls_loss   dfl_loss  Instances       Size\n"
     ]
    },
    {
     "name": "stderr",
     "output_type": "stream",
     "text": [
      "      14/75      3.73G     0.9522       1.53      0.563      1.213          6        640: 100%|██████████| 224/224 [00:21<00:00, 10.18it/s]\n",
      "                 Class     Images  Instances      Box(P          R      mAP50  mAP50-95)     Mask(P          R      mAP50  mAP50-95): 100%|██████████| 10/10 [00:00<00:00, 13.50it/s]"
     ]
    },
    {
     "name": "stdout",
     "output_type": "stream",
     "text": [
      "                   all         75        150       0.68        0.7      0.661      0.496      0.742      0.753      0.742      0.506\n"
     ]
    },
    {
     "name": "stderr",
     "output_type": "stream",
     "text": [
      "\n"
     ]
    },
    {
     "name": "stdout",
     "output_type": "stream",
     "text": [
      "\n",
      "      Epoch    GPU_mem   box_loss   seg_loss   cls_loss   dfl_loss  Instances       Size\n"
     ]
    },
    {
     "name": "stderr",
     "output_type": "stream",
     "text": [
      "      15/75      3.63G     0.9251      1.471     0.5455      1.201         10        640: 100%|██████████| 224/224 [00:21<00:00, 10.25it/s]\n",
      "                 Class     Images  Instances      Box(P          R      mAP50  mAP50-95)     Mask(P          R      mAP50  mAP50-95): 100%|██████████| 10/10 [00:00<00:00, 13.12it/s]"
     ]
    },
    {
     "name": "stdout",
     "output_type": "stream",
     "text": [
      "                   all         75        150      0.808      0.672      0.699      0.545      0.837       0.68      0.717      0.529\n"
     ]
    },
    {
     "name": "stderr",
     "output_type": "stream",
     "text": [
      "\n"
     ]
    },
    {
     "name": "stdout",
     "output_type": "stream",
     "text": [
      "\n",
      "      Epoch    GPU_mem   box_loss   seg_loss   cls_loss   dfl_loss  Instances       Size\n"
     ]
    },
    {
     "name": "stderr",
     "output_type": "stream",
     "text": [
      "      16/75      3.73G     0.9349      1.482     0.5489      1.201          7        640: 100%|██████████| 224/224 [00:21<00:00, 10.22it/s]\n",
      "                 Class     Images  Instances      Box(P          R      mAP50  mAP50-95)     Mask(P          R      mAP50  mAP50-95): 100%|██████████| 10/10 [00:00<00:00, 14.12it/s]"
     ]
    },
    {
     "name": "stdout",
     "output_type": "stream",
     "text": [
      "                   all         75        150      0.722      0.707      0.661      0.477      0.797      0.767      0.753      0.461\n"
     ]
    },
    {
     "name": "stderr",
     "output_type": "stream",
     "text": [
      "\n"
     ]
    },
    {
     "name": "stdout",
     "output_type": "stream",
     "text": [
      "\n",
      "      Epoch    GPU_mem   box_loss   seg_loss   cls_loss   dfl_loss  Instances       Size\n"
     ]
    },
    {
     "name": "stderr",
     "output_type": "stream",
     "text": [
      "      17/75       3.7G     0.9198      1.449     0.5318      1.199         11        640: 100%|██████████| 224/224 [00:21<00:00, 10.28it/s]\n",
      "                 Class     Images  Instances      Box(P          R      mAP50  mAP50-95)     Mask(P          R      mAP50  mAP50-95): 100%|██████████| 10/10 [00:00<00:00, 13.91it/s]"
     ]
    },
    {
     "name": "stdout",
     "output_type": "stream",
     "text": [
      "                   all         75        150      0.849      0.787      0.767      0.568      0.873      0.807      0.811      0.559\n"
     ]
    },
    {
     "name": "stderr",
     "output_type": "stream",
     "text": [
      "\n"
     ]
    },
    {
     "name": "stdout",
     "output_type": "stream",
     "text": [
      "\n",
      "      Epoch    GPU_mem   box_loss   seg_loss   cls_loss   dfl_loss  Instances       Size\n"
     ]
    },
    {
     "name": "stderr",
     "output_type": "stream",
     "text": [
      "      18/75      3.72G      0.903      1.413     0.5221      1.184         12        640: 100%|██████████| 224/224 [00:21<00:00, 10.23it/s]\n",
      "                 Class     Images  Instances      Box(P          R      mAP50  mAP50-95)     Mask(P          R      mAP50  mAP50-95): 100%|██████████| 10/10 [00:00<00:00, 13.18it/s]"
     ]
    },
    {
     "name": "stdout",
     "output_type": "stream",
     "text": [
      "                   all         75        150      0.873      0.833      0.803      0.567      0.933      0.887      0.894      0.572\n"
     ]
    },
    {
     "name": "stderr",
     "output_type": "stream",
     "text": [
      "\n"
     ]
    },
    {
     "name": "stdout",
     "output_type": "stream",
     "text": [
      "\n",
      "      Epoch    GPU_mem   box_loss   seg_loss   cls_loss   dfl_loss  Instances       Size\n"
     ]
    },
    {
     "name": "stderr",
     "output_type": "stream",
     "text": [
      "      19/75       3.7G     0.8901      1.435     0.5062      1.172         10        640: 100%|██████████| 224/224 [00:21<00:00, 10.29it/s]\n",
      "                 Class     Images  Instances      Box(P          R      mAP50  mAP50-95)     Mask(P          R      mAP50  mAP50-95): 100%|██████████| 10/10 [00:00<00:00, 14.08it/s]"
     ]
    },
    {
     "name": "stdout",
     "output_type": "stream",
     "text": [
      "                   all         75        150      0.736      0.727       0.67      0.539      0.729      0.734      0.683       0.52\n"
     ]
    },
    {
     "name": "stderr",
     "output_type": "stream",
     "text": [
      "\n"
     ]
    },
    {
     "name": "stdout",
     "output_type": "stream",
     "text": [
      "\n",
      "      Epoch    GPU_mem   box_loss   seg_loss   cls_loss   dfl_loss  Instances       Size\n"
     ]
    },
    {
     "name": "stderr",
     "output_type": "stream",
     "text": [
      "      20/75      3.67G     0.9069      1.439     0.5131      1.178          3        640: 100%|██████████| 224/224 [00:21<00:00, 10.33it/s]\n",
      "                 Class     Images  Instances      Box(P          R      mAP50  mAP50-95)     Mask(P          R      mAP50  mAP50-95): 100%|██████████| 10/10 [00:00<00:00, 13.87it/s]"
     ]
    },
    {
     "name": "stdout",
     "output_type": "stream",
     "text": [
      "                   all         75        150      0.732       0.72      0.651       0.51      0.739       0.74      0.683      0.485\n"
     ]
    },
    {
     "name": "stderr",
     "output_type": "stream",
     "text": [
      "\n"
     ]
    },
    {
     "name": "stdout",
     "output_type": "stream",
     "text": [
      "\n",
      "      Epoch    GPU_mem   box_loss   seg_loss   cls_loss   dfl_loss  Instances       Size\n"
     ]
    },
    {
     "name": "stderr",
     "output_type": "stream",
     "text": [
      "      21/75      3.65G     0.9161      1.449     0.5249      1.185          4        640: 100%|██████████| 224/224 [00:21<00:00, 10.38it/s]\n",
      "                 Class     Images  Instances      Box(P          R      mAP50  mAP50-95)     Mask(P          R      mAP50  mAP50-95): 100%|██████████| 10/10 [00:00<00:00, 13.61it/s]"
     ]
    },
    {
     "name": "stdout",
     "output_type": "stream",
     "text": [
      "                   all         75        150       0.71      0.767      0.662      0.507       0.72      0.733      0.646      0.496\n"
     ]
    },
    {
     "name": "stderr",
     "output_type": "stream",
     "text": [
      "\n"
     ]
    },
    {
     "name": "stdout",
     "output_type": "stream",
     "text": [
      "\n",
      "      Epoch    GPU_mem   box_loss   seg_loss   cls_loss   dfl_loss  Instances       Size\n"
     ]
    },
    {
     "name": "stderr",
     "output_type": "stream",
     "text": [
      "      22/75       3.7G     0.8882      1.424     0.4942      1.179          9        640: 100%|██████████| 224/224 [00:21<00:00, 10.34it/s]\n",
      "                 Class     Images  Instances      Box(P          R      mAP50  mAP50-95)     Mask(P          R      mAP50  mAP50-95): 100%|██████████| 10/10 [00:00<00:00, 13.33it/s]"
     ]
    },
    {
     "name": "stdout",
     "output_type": "stream",
     "text": [
      "                   all         75        150      0.704      0.671      0.627      0.507      0.712      0.678      0.639      0.505\n"
     ]
    },
    {
     "name": "stderr",
     "output_type": "stream",
     "text": [
      "\n"
     ]
    },
    {
     "name": "stdout",
     "output_type": "stream",
     "text": [
      "\n",
      "      Epoch    GPU_mem   box_loss   seg_loss   cls_loss   dfl_loss  Instances       Size\n"
     ]
    },
    {
     "name": "stderr",
     "output_type": "stream",
     "text": [
      "      23/75      3.74G     0.8977      1.406     0.5138      1.189         10        640: 100%|██████████| 224/224 [00:21<00:00, 10.19it/s]\n",
      "                 Class     Images  Instances      Box(P          R      mAP50  mAP50-95)     Mask(P          R      mAP50  mAP50-95): 100%|██████████| 10/10 [00:00<00:00, 14.23it/s]"
     ]
    },
    {
     "name": "stdout",
     "output_type": "stream",
     "text": [
      "                   all         75        150      0.876        0.8      0.816      0.579      0.905       0.82      0.847      0.582\n"
     ]
    },
    {
     "name": "stderr",
     "output_type": "stream",
     "text": [
      "\n"
     ]
    },
    {
     "name": "stdout",
     "output_type": "stream",
     "text": [
      "\n",
      "      Epoch    GPU_mem   box_loss   seg_loss   cls_loss   dfl_loss  Instances       Size\n"
     ]
    },
    {
     "name": "stderr",
     "output_type": "stream",
     "text": [
      "      24/75       3.7G     0.8874      1.405     0.5011      1.186          4        640: 100%|██████████| 224/224 [00:21<00:00, 10.23it/s]\n",
      "                 Class     Images  Instances      Box(P          R      mAP50  mAP50-95)     Mask(P          R      mAP50  mAP50-95): 100%|██████████| 10/10 [00:00<00:00, 13.69it/s]"
     ]
    },
    {
     "name": "stdout",
     "output_type": "stream",
     "text": [
      "                   all         75        150      0.806      0.798      0.721      0.555      0.813        0.8      0.741      0.538\n"
     ]
    },
    {
     "name": "stderr",
     "output_type": "stream",
     "text": [
      "\n"
     ]
    },
    {
     "name": "stdout",
     "output_type": "stream",
     "text": [
      "\n",
      "      Epoch    GPU_mem   box_loss   seg_loss   cls_loss   dfl_loss  Instances       Size\n"
     ]
    },
    {
     "name": "stderr",
     "output_type": "stream",
     "text": [
      "      25/75      3.64G     0.8943      1.413     0.5005      1.171          8        640: 100%|██████████| 224/224 [00:21<00:00, 10.29it/s]\n",
      "                 Class     Images  Instances      Box(P          R      mAP50  mAP50-95)     Mask(P          R      mAP50  mAP50-95): 100%|██████████| 10/10 [00:00<00:00, 13.25it/s]"
     ]
    },
    {
     "name": "stdout",
     "output_type": "stream",
     "text": [
      "                   all         75        150      0.771       0.72      0.705      0.521      0.837      0.774      0.775      0.519\n"
     ]
    },
    {
     "name": "stderr",
     "output_type": "stream",
     "text": [
      "\n"
     ]
    },
    {
     "name": "stdout",
     "output_type": "stream",
     "text": [
      "\n",
      "      Epoch    GPU_mem   box_loss   seg_loss   cls_loss   dfl_loss  Instances       Size\n"
     ]
    },
    {
     "name": "stderr",
     "output_type": "stream",
     "text": [
      "      26/75       3.7G     0.8663      1.362     0.4786      1.162          5        640: 100%|██████████| 224/224 [00:21<00:00, 10.20it/s]\n",
      "                 Class     Images  Instances      Box(P          R      mAP50  mAP50-95)     Mask(P          R      mAP50  mAP50-95): 100%|██████████| 10/10 [00:00<00:00, 13.87it/s]"
     ]
    },
    {
     "name": "stdout",
     "output_type": "stream",
     "text": [
      "                   all         75        150      0.856      0.813      0.819      0.572      0.906      0.873      0.885      0.578\n"
     ]
    },
    {
     "name": "stderr",
     "output_type": "stream",
     "text": [
      "\n"
     ]
    },
    {
     "name": "stdout",
     "output_type": "stream",
     "text": [
      "\n",
      "      Epoch    GPU_mem   box_loss   seg_loss   cls_loss   dfl_loss  Instances       Size\n"
     ]
    },
    {
     "name": "stderr",
     "output_type": "stream",
     "text": [
      "      27/75      3.71G     0.8898      1.407     0.4866       1.18          6        640: 100%|██████████| 224/224 [00:21<00:00, 10.23it/s]\n",
      "                 Class     Images  Instances      Box(P          R      mAP50  mAP50-95)     Mask(P          R      mAP50  mAP50-95): 100%|██████████| 10/10 [00:00<00:00, 13.76it/s]"
     ]
    },
    {
     "name": "stdout",
     "output_type": "stream",
     "text": [
      "                   all         75        150      0.869      0.831      0.821      0.573      0.921      0.876      0.877      0.578\n"
     ]
    },
    {
     "name": "stderr",
     "output_type": "stream",
     "text": [
      "\n"
     ]
    },
    {
     "name": "stdout",
     "output_type": "stream",
     "text": [
      "\n",
      "      Epoch    GPU_mem   box_loss   seg_loss   cls_loss   dfl_loss  Instances       Size\n"
     ]
    },
    {
     "name": "stderr",
     "output_type": "stream",
     "text": [
      "      28/75       3.7G     0.8575      1.373     0.4709      1.162          9        640: 100%|██████████| 224/224 [00:21<00:00, 10.25it/s]\n",
      "                 Class     Images  Instances      Box(P          R      mAP50  mAP50-95)     Mask(P          R      mAP50  mAP50-95): 100%|██████████| 10/10 [00:00<00:00, 13.63it/s]"
     ]
    },
    {
     "name": "stdout",
     "output_type": "stream",
     "text": [
      "                   all         75        150      0.811      0.793      0.768      0.571      0.861       0.84      0.846      0.577\n"
     ]
    },
    {
     "name": "stderr",
     "output_type": "stream",
     "text": [
      "\n"
     ]
    },
    {
     "name": "stdout",
     "output_type": "stream",
     "text": [
      "\n",
      "      Epoch    GPU_mem   box_loss   seg_loss   cls_loss   dfl_loss  Instances       Size\n"
     ]
    },
    {
     "name": "stderr",
     "output_type": "stream",
     "text": [
      "      29/75      3.66G     0.8678      1.358     0.4674      1.151         10        640: 100%|██████████| 224/224 [00:22<00:00, 10.08it/s]\n",
      "                 Class     Images  Instances      Box(P          R      mAP50  mAP50-95)     Mask(P          R      mAP50  mAP50-95): 100%|██████████| 10/10 [00:00<00:00, 13.10it/s]"
     ]
    },
    {
     "name": "stdout",
     "output_type": "stream",
     "text": [
      "                   all         75        150      0.829      0.825      0.804      0.594      0.843       0.84      0.818       0.57\n"
     ]
    },
    {
     "name": "stderr",
     "output_type": "stream",
     "text": [
      "\n"
     ]
    },
    {
     "name": "stdout",
     "output_type": "stream",
     "text": [
      "\n",
      "      Epoch    GPU_mem   box_loss   seg_loss   cls_loss   dfl_loss  Instances       Size\n"
     ]
    },
    {
     "name": "stderr",
     "output_type": "stream",
     "text": [
      "      30/75      3.72G     0.8613      1.368     0.4685      1.157          8        640: 100%|██████████| 224/224 [00:22<00:00, 10.17it/s]\n",
      "                 Class     Images  Instances      Box(P          R      mAP50  mAP50-95)     Mask(P          R      mAP50  mAP50-95): 100%|██████████| 10/10 [00:00<00:00, 13.98it/s]"
     ]
    },
    {
     "name": "stdout",
     "output_type": "stream",
     "text": [
      "                   all         75        150      0.868      0.853      0.823      0.572      0.882      0.866      0.853      0.584\n"
     ]
    },
    {
     "name": "stderr",
     "output_type": "stream",
     "text": [
      "\n"
     ]
    },
    {
     "name": "stdout",
     "output_type": "stream",
     "text": [
      "\n",
      "      Epoch    GPU_mem   box_loss   seg_loss   cls_loss   dfl_loss  Instances       Size\n"
     ]
    },
    {
     "name": "stderr",
     "output_type": "stream",
     "text": [
      "      31/75      3.64G     0.8474      1.344     0.4542      1.155          8        640: 100%|██████████| 224/224 [00:21<00:00, 10.28it/s]\n",
      "                 Class     Images  Instances      Box(P          R      mAP50  mAP50-95)     Mask(P          R      mAP50  mAP50-95): 100%|██████████| 10/10 [00:00<00:00, 13.38it/s]"
     ]
    },
    {
     "name": "stdout",
     "output_type": "stream",
     "text": [
      "                   all         75        150      0.735      0.733      0.673      0.545      0.759       0.76      0.693      0.542\n"
     ]
    },
    {
     "name": "stderr",
     "output_type": "stream",
     "text": [
      "\n"
     ]
    },
    {
     "name": "stdout",
     "output_type": "stream",
     "text": [
      "\n",
      "      Epoch    GPU_mem   box_loss   seg_loss   cls_loss   dfl_loss  Instances       Size\n"
     ]
    },
    {
     "name": "stderr",
     "output_type": "stream",
     "text": [
      "      32/75      3.72G     0.8458      1.342     0.4502      1.151          4        640: 100%|██████████| 224/224 [00:21<00:00, 10.29it/s]\n",
      "                 Class     Images  Instances      Box(P          R      mAP50  mAP50-95)     Mask(P          R      mAP50  mAP50-95): 100%|██████████| 10/10 [00:00<00:00, 14.02it/s]"
     ]
    },
    {
     "name": "stdout",
     "output_type": "stream",
     "text": [
      "                   all         75        150      0.842      0.778       0.81      0.593      0.913      0.814      0.884       0.59\n"
     ]
    },
    {
     "name": "stderr",
     "output_type": "stream",
     "text": [
      "\n"
     ]
    },
    {
     "name": "stdout",
     "output_type": "stream",
     "text": [
      "\n",
      "      Epoch    GPU_mem   box_loss   seg_loss   cls_loss   dfl_loss  Instances       Size\n"
     ]
    },
    {
     "name": "stderr",
     "output_type": "stream",
     "text": [
      "      33/75      3.73G     0.8452      1.344     0.4484      1.145          7        640: 100%|██████████| 224/224 [00:21<00:00, 10.32it/s]\n",
      "                 Class     Images  Instances      Box(P          R      mAP50  mAP50-95)     Mask(P          R      mAP50  mAP50-95): 100%|██████████| 10/10 [00:00<00:00, 14.15it/s]"
     ]
    },
    {
     "name": "stdout",
     "output_type": "stream",
     "text": [
      "                   all         75        150      0.845      0.807      0.792      0.574      0.828       0.76      0.757      0.549\n"
     ]
    },
    {
     "name": "stderr",
     "output_type": "stream",
     "text": [
      "\n"
     ]
    },
    {
     "name": "stdout",
     "output_type": "stream",
     "text": [
      "\n",
      "      Epoch    GPU_mem   box_loss   seg_loss   cls_loss   dfl_loss  Instances       Size\n"
     ]
    },
    {
     "name": "stderr",
     "output_type": "stream",
     "text": [
      "      34/75      3.75G     0.8579      1.335     0.4569      1.154          7        640: 100%|██████████| 224/224 [00:21<00:00, 10.28it/s]\n",
      "                 Class     Images  Instances      Box(P          R      mAP50  mAP50-95)     Mask(P          R      mAP50  mAP50-95): 100%|██████████| 10/10 [00:00<00:00, 13.65it/s]"
     ]
    },
    {
     "name": "stdout",
     "output_type": "stream",
     "text": [
      "                   all         75        150      0.804      0.767      0.769      0.578      0.874      0.767      0.822       0.57\n"
     ]
    },
    {
     "name": "stderr",
     "output_type": "stream",
     "text": [
      "\n"
     ]
    },
    {
     "name": "stdout",
     "output_type": "stream",
     "text": [
      "\n",
      "      Epoch    GPU_mem   box_loss   seg_loss   cls_loss   dfl_loss  Instances       Size\n"
     ]
    },
    {
     "name": "stderr",
     "output_type": "stream",
     "text": [
      "      35/75      3.78G     0.8339      1.318     0.4484      1.132          7        640: 100%|██████████| 224/224 [00:21<00:00, 10.35it/s]\n",
      "                 Class     Images  Instances      Box(P          R      mAP50  mAP50-95)     Mask(P          R      mAP50  mAP50-95): 100%|██████████| 10/10 [00:00<00:00, 13.06it/s]"
     ]
    },
    {
     "name": "stdout",
     "output_type": "stream",
     "text": [
      "                   all         75        150       0.85      0.767      0.778      0.596      0.881      0.797      0.816      0.587\n"
     ]
    },
    {
     "name": "stderr",
     "output_type": "stream",
     "text": [
      "\n"
     ]
    },
    {
     "name": "stdout",
     "output_type": "stream",
     "text": [
      "\n",
      "      Epoch    GPU_mem   box_loss   seg_loss   cls_loss   dfl_loss  Instances       Size\n"
     ]
    },
    {
     "name": "stderr",
     "output_type": "stream",
     "text": [
      "      36/75      3.64G      0.812      1.289     0.4392      1.126          4        640: 100%|██████████| 224/224 [00:21<00:00, 10.34it/s]\n",
      "                 Class     Images  Instances      Box(P          R      mAP50  mAP50-95)     Mask(P          R      mAP50  mAP50-95): 100%|██████████| 10/10 [00:00<00:00, 14.19it/s]"
     ]
    },
    {
     "name": "stdout",
     "output_type": "stream",
     "text": [
      "                   all         75        150      0.849      0.842      0.818      0.608      0.849      0.842      0.822      0.592\n"
     ]
    },
    {
     "name": "stderr",
     "output_type": "stream",
     "text": [
      "\n"
     ]
    },
    {
     "name": "stdout",
     "output_type": "stream",
     "text": [
      "\n",
      "      Epoch    GPU_mem   box_loss   seg_loss   cls_loss   dfl_loss  Instances       Size\n"
     ]
    },
    {
     "name": "stderr",
     "output_type": "stream",
     "text": [
      "      37/75      3.75G     0.8143       1.29     0.4322      1.129         12        640: 100%|██████████| 224/224 [00:21<00:00, 10.38it/s]\n",
      "                 Class     Images  Instances      Box(P          R      mAP50  mAP50-95)     Mask(P          R      mAP50  mAP50-95): 100%|██████████| 10/10 [00:00<00:00, 13.84it/s]"
     ]
    },
    {
     "name": "stdout",
     "output_type": "stream",
     "text": [
      "                   all         75        150      0.828      0.805      0.771      0.587      0.857      0.831      0.793      0.561\n"
     ]
    },
    {
     "name": "stderr",
     "output_type": "stream",
     "text": [
      "\n"
     ]
    },
    {
     "name": "stdout",
     "output_type": "stream",
     "text": [
      "\n",
      "      Epoch    GPU_mem   box_loss   seg_loss   cls_loss   dfl_loss  Instances       Size\n"
     ]
    },
    {
     "name": "stderr",
     "output_type": "stream",
     "text": [
      "      38/75      3.72G     0.8178      1.292     0.4353       1.13          4        640: 100%|██████████| 224/224 [00:21<00:00, 10.26it/s]\n",
      "                 Class     Images  Instances      Box(P          R      mAP50  mAP50-95)     Mask(P          R      mAP50  mAP50-95): 100%|██████████| 10/10 [00:00<00:00, 13.79it/s]"
     ]
    },
    {
     "name": "stdout",
     "output_type": "stream",
     "text": [
      "                   all         75        150      0.855      0.845      0.814      0.583      0.864      0.873      0.843       0.58\n"
     ]
    },
    {
     "name": "stderr",
     "output_type": "stream",
     "text": [
      "\n"
     ]
    },
    {
     "name": "stdout",
     "output_type": "stream",
     "text": [
      "\n",
      "      Epoch    GPU_mem   box_loss   seg_loss   cls_loss   dfl_loss  Instances       Size\n"
     ]
    },
    {
     "name": "stderr",
     "output_type": "stream",
     "text": [
      "      39/75      3.72G     0.8279       1.33     0.4359       1.13          9        640: 100%|██████████| 224/224 [00:22<00:00, 10.09it/s]\n",
      "                 Class     Images  Instances      Box(P          R      mAP50  mAP50-95)     Mask(P          R      mAP50  mAP50-95): 100%|██████████| 10/10 [00:00<00:00, 14.15it/s]"
     ]
    },
    {
     "name": "stdout",
     "output_type": "stream",
     "text": [
      "                   all         75        150      0.892      0.839      0.856      0.598      0.933      0.891      0.914      0.587\n"
     ]
    },
    {
     "name": "stderr",
     "output_type": "stream",
     "text": [
      "\n"
     ]
    },
    {
     "name": "stdout",
     "output_type": "stream",
     "text": [
      "\n",
      "      Epoch    GPU_mem   box_loss   seg_loss   cls_loss   dfl_loss  Instances       Size\n"
     ]
    },
    {
     "name": "stderr",
     "output_type": "stream",
     "text": [
      "      40/75       3.7G     0.7895      1.273     0.4138      1.124          8        640: 100%|██████████| 224/224 [00:22<00:00, 10.18it/s]\n",
      "                 Class     Images  Instances      Box(P          R      mAP50  mAP50-95)     Mask(P          R      mAP50  mAP50-95): 100%|██████████| 10/10 [00:00<00:00, 13.90it/s]"
     ]
    },
    {
     "name": "stdout",
     "output_type": "stream",
     "text": [
      "                   all         75        150      0.856      0.832      0.827      0.606      0.877       0.84      0.852      0.583\n"
     ]
    },
    {
     "name": "stderr",
     "output_type": "stream",
     "text": [
      "\n"
     ]
    },
    {
     "name": "stdout",
     "output_type": "stream",
     "text": [
      "\n",
      "      Epoch    GPU_mem   box_loss   seg_loss   cls_loss   dfl_loss  Instances       Size\n"
     ]
    },
    {
     "name": "stderr",
     "output_type": "stream",
     "text": [
      "      41/75      3.71G     0.7964      1.275     0.4133      1.118          5        640: 100%|██████████| 224/224 [00:21<00:00, 10.31it/s]\n",
      "                 Class     Images  Instances      Box(P          R      mAP50  mAP50-95)     Mask(P          R      mAP50  mAP50-95): 100%|██████████| 10/10 [00:00<00:00, 13.81it/s]"
     ]
    },
    {
     "name": "stdout",
     "output_type": "stream",
     "text": [
      "                   all         75        150      0.821      0.807      0.779      0.584      0.814      0.816       0.78      0.565\n"
     ]
    },
    {
     "name": "stderr",
     "output_type": "stream",
     "text": [
      "\n"
     ]
    },
    {
     "name": "stdout",
     "output_type": "stream",
     "text": [
      "\n",
      "      Epoch    GPU_mem   box_loss   seg_loss   cls_loss   dfl_loss  Instances       Size\n"
     ]
    },
    {
     "name": "stderr",
     "output_type": "stream",
     "text": [
      "      42/75      3.64G     0.7972       1.27     0.4147      1.109          9        640: 100%|██████████| 224/224 [00:21<00:00, 10.25it/s]\n",
      "                 Class     Images  Instances      Box(P          R      mAP50  mAP50-95)     Mask(P          R      mAP50  mAP50-95): 100%|██████████| 10/10 [00:00<00:00, 13.81it/s]"
     ]
    },
    {
     "name": "stdout",
     "output_type": "stream",
     "text": [
      "                   all         75        150      0.758       0.74      0.712      0.542      0.771      0.748      0.722      0.523\n"
     ]
    },
    {
     "name": "stderr",
     "output_type": "stream",
     "text": [
      "\n"
     ]
    },
    {
     "name": "stdout",
     "output_type": "stream",
     "text": [
      "\n",
      "      Epoch    GPU_mem   box_loss   seg_loss   cls_loss   dfl_loss  Instances       Size\n"
     ]
    },
    {
     "name": "stderr",
     "output_type": "stream",
     "text": [
      "      43/75       3.7G     0.7903      1.268     0.4118      1.111         12        640: 100%|██████████| 224/224 [00:21<00:00, 10.26it/s]\n",
      "                 Class     Images  Instances      Box(P          R      mAP50  mAP50-95)     Mask(P          R      mAP50  mAP50-95): 100%|██████████| 10/10 [00:00<00:00, 13.47it/s]"
     ]
    },
    {
     "name": "stdout",
     "output_type": "stream",
     "text": [
      "                   all         75        150      0.844      0.841      0.836      0.613      0.887      0.893      0.895      0.605\n"
     ]
    },
    {
     "name": "stderr",
     "output_type": "stream",
     "text": [
      "\n"
     ]
    },
    {
     "name": "stdout",
     "output_type": "stream",
     "text": [
      "\n",
      "      Epoch    GPU_mem   box_loss   seg_loss   cls_loss   dfl_loss  Instances       Size\n"
     ]
    },
    {
     "name": "stderr",
     "output_type": "stream",
     "text": [
      "      44/75      3.72G     0.7972      1.274     0.4092      1.117          4        640: 100%|██████████| 224/224 [00:22<00:00, 10.09it/s]\n",
      "                 Class     Images  Instances      Box(P          R      mAP50  mAP50-95)     Mask(P          R      mAP50  mAP50-95): 100%|██████████| 10/10 [00:00<00:00, 13.69it/s]"
     ]
    },
    {
     "name": "stdout",
     "output_type": "stream",
     "text": [
      "                   all         75        150      0.804      0.773      0.779      0.589      0.808       0.78      0.803       0.56\n"
     ]
    },
    {
     "name": "stderr",
     "output_type": "stream",
     "text": [
      "\n"
     ]
    },
    {
     "name": "stdout",
     "output_type": "stream",
     "text": [
      "\n",
      "      Epoch    GPU_mem   box_loss   seg_loss   cls_loss   dfl_loss  Instances       Size\n"
     ]
    },
    {
     "name": "stderr",
     "output_type": "stream",
     "text": [
      "      45/75       3.7G     0.7959       1.27     0.4084      1.117         11        640: 100%|██████████| 224/224 [00:21<00:00, 10.18it/s]\n",
      "                 Class     Images  Instances      Box(P          R      mAP50  mAP50-95)     Mask(P          R      mAP50  mAP50-95): 100%|██████████| 10/10 [00:00<00:00, 14.13it/s]"
     ]
    },
    {
     "name": "stdout",
     "output_type": "stream",
     "text": [
      "                   all         75        150      0.842      0.827      0.844      0.614      0.849      0.833      0.839      0.586\n"
     ]
    },
    {
     "name": "stderr",
     "output_type": "stream",
     "text": [
      "\n"
     ]
    },
    {
     "name": "stdout",
     "output_type": "stream",
     "text": [
      "\n",
      "      Epoch    GPU_mem   box_loss   seg_loss   cls_loss   dfl_loss  Instances       Size\n"
     ]
    },
    {
     "name": "stderr",
     "output_type": "stream",
     "text": [
      "      46/75      3.71G     0.7932      1.248     0.4009      1.115         10        640: 100%|██████████| 224/224 [00:21<00:00, 10.27it/s]\n",
      "                 Class     Images  Instances      Box(P          R      mAP50  mAP50-95)     Mask(P          R      mAP50  mAP50-95): 100%|██████████| 10/10 [00:00<00:00, 13.88it/s]"
     ]
    },
    {
     "name": "stdout",
     "output_type": "stream",
     "text": [
      "                   all         75        150      0.884      0.847      0.881       0.62      0.907      0.867      0.897      0.597\n"
     ]
    },
    {
     "name": "stderr",
     "output_type": "stream",
     "text": [
      "\n"
     ]
    },
    {
     "name": "stdout",
     "output_type": "stream",
     "text": [
      "\n",
      "      Epoch    GPU_mem   box_loss   seg_loss   cls_loss   dfl_loss  Instances       Size\n"
     ]
    },
    {
     "name": "stderr",
     "output_type": "stream",
     "text": [
      "      47/75      3.73G      0.771       1.22     0.4025      1.099          5        640: 100%|██████████| 224/224 [00:21<00:00, 10.24it/s]\n",
      "                 Class     Images  Instances      Box(P          R      mAP50  mAP50-95)     Mask(P          R      mAP50  mAP50-95): 100%|██████████| 10/10 [00:00<00:00, 13.86it/s]"
     ]
    },
    {
     "name": "stdout",
     "output_type": "stream",
     "text": [
      "                   all         75        150      0.859      0.867      0.848      0.618      0.897       0.86       0.85      0.584\n"
     ]
    },
    {
     "name": "stderr",
     "output_type": "stream",
     "text": [
      "\n"
     ]
    },
    {
     "name": "stdout",
     "output_type": "stream",
     "text": [
      "\n",
      "      Epoch    GPU_mem   box_loss   seg_loss   cls_loss   dfl_loss  Instances       Size\n"
     ]
    },
    {
     "name": "stderr",
     "output_type": "stream",
     "text": [
      "      48/75       3.7G     0.7658      1.223     0.3969      1.092          7        640: 100%|██████████| 224/224 [00:21<00:00, 10.39it/s]\n",
      "                 Class     Images  Instances      Box(P          R      mAP50  mAP50-95)     Mask(P          R      mAP50  mAP50-95): 100%|██████████| 10/10 [00:00<00:00, 13.94it/s]"
     ]
    },
    {
     "name": "stdout",
     "output_type": "stream",
     "text": [
      "                   all         75        150       0.84      0.833      0.817      0.585      0.853      0.834      0.821      0.572\n"
     ]
    },
    {
     "name": "stderr",
     "output_type": "stream",
     "text": [
      "\n"
     ]
    },
    {
     "name": "stdout",
     "output_type": "stream",
     "text": [
      "\n",
      "      Epoch    GPU_mem   box_loss   seg_loss   cls_loss   dfl_loss  Instances       Size\n"
     ]
    },
    {
     "name": "stderr",
     "output_type": "stream",
     "text": [
      "      49/75       3.7G     0.7565      1.223     0.3908      1.096          7        640: 100%|██████████| 224/224 [00:21<00:00, 10.30it/s]\n",
      "                 Class     Images  Instances      Box(P          R      mAP50  mAP50-95)     Mask(P          R      mAP50  mAP50-95): 100%|██████████| 10/10 [00:00<00:00, 13.13it/s]"
     ]
    },
    {
     "name": "stdout",
     "output_type": "stream",
     "text": [
      "                   all         75        150       0.87      0.826      0.855      0.617      0.909      0.841      0.886      0.597\n"
     ]
    },
    {
     "name": "stderr",
     "output_type": "stream",
     "text": [
      "\n"
     ]
    },
    {
     "name": "stdout",
     "output_type": "stream",
     "text": [
      "\n",
      "      Epoch    GPU_mem   box_loss   seg_loss   cls_loss   dfl_loss  Instances       Size\n"
     ]
    },
    {
     "name": "stderr",
     "output_type": "stream",
     "text": [
      "      50/75      3.73G     0.7506        1.2     0.3878      1.088          4        640: 100%|██████████| 224/224 [00:21<00:00, 10.28it/s]\n",
      "                 Class     Images  Instances      Box(P          R      mAP50  mAP50-95)     Mask(P          R      mAP50  mAP50-95): 100%|██████████| 10/10 [00:00<00:00, 13.69it/s]"
     ]
    },
    {
     "name": "stdout",
     "output_type": "stream",
     "text": [
      "                   all         75        150      0.855       0.88      0.849      0.603      0.917        0.9      0.918      0.604\n"
     ]
    },
    {
     "name": "stderr",
     "output_type": "stream",
     "text": [
      "\n"
     ]
    },
    {
     "name": "stdout",
     "output_type": "stream",
     "text": [
      "\n",
      "      Epoch    GPU_mem   box_loss   seg_loss   cls_loss   dfl_loss  Instances       Size\n"
     ]
    },
    {
     "name": "stderr",
     "output_type": "stream",
     "text": [
      "      51/75      3.76G     0.7692      1.222     0.3878      1.099          5        640: 100%|██████████| 224/224 [00:21<00:00, 10.41it/s]\n",
      "                 Class     Images  Instances      Box(P          R      mAP50  mAP50-95)     Mask(P          R      mAP50  mAP50-95): 100%|██████████| 10/10 [00:00<00:00, 13.96it/s]"
     ]
    },
    {
     "name": "stdout",
     "output_type": "stream",
     "text": [
      "                   all         75        150      0.884      0.887      0.891      0.616      0.899        0.9      0.917      0.596\n"
     ]
    },
    {
     "name": "stderr",
     "output_type": "stream",
     "text": [
      "\n"
     ]
    },
    {
     "name": "stdout",
     "output_type": "stream",
     "text": [
      "\n",
      "      Epoch    GPU_mem   box_loss   seg_loss   cls_loss   dfl_loss  Instances       Size\n"
     ]
    },
    {
     "name": "stderr",
     "output_type": "stream",
     "text": [
      "      52/75      3.71G     0.7741      1.232      0.386      1.103          7        640: 100%|██████████| 224/224 [00:21<00:00, 10.31it/s]\n",
      "                 Class     Images  Instances      Box(P          R      mAP50  mAP50-95)     Mask(P          R      mAP50  mAP50-95): 100%|██████████| 10/10 [00:00<00:00, 13.43it/s]"
     ]
    },
    {
     "name": "stdout",
     "output_type": "stream",
     "text": [
      "                   all         75        150       0.83        0.8       0.78      0.602      0.883      0.847      0.847      0.582\n"
     ]
    },
    {
     "name": "stderr",
     "output_type": "stream",
     "text": [
      "\n"
     ]
    },
    {
     "name": "stdout",
     "output_type": "stream",
     "text": [
      "\n",
      "      Epoch    GPU_mem   box_loss   seg_loss   cls_loss   dfl_loss  Instances       Size\n"
     ]
    },
    {
     "name": "stderr",
     "output_type": "stream",
     "text": [
      "      53/75      3.74G     0.7616      1.199     0.3767      1.088          5        640: 100%|██████████| 224/224 [00:21<00:00, 10.30it/s]\n",
      "                 Class     Images  Instances      Box(P          R      mAP50  mAP50-95)     Mask(P          R      mAP50  mAP50-95): 100%|██████████| 10/10 [00:00<00:00, 13.95it/s]"
     ]
    },
    {
     "name": "stdout",
     "output_type": "stream",
     "text": [
      "                   all         75        150      0.827       0.82       0.81      0.607      0.883      0.873      0.874      0.597\n"
     ]
    },
    {
     "name": "stderr",
     "output_type": "stream",
     "text": [
      "\n"
     ]
    },
    {
     "name": "stdout",
     "output_type": "stream",
     "text": [
      "\n",
      "      Epoch    GPU_mem   box_loss   seg_loss   cls_loss   dfl_loss  Instances       Size\n"
     ]
    },
    {
     "name": "stderr",
     "output_type": "stream",
     "text": [
      "      54/75      3.65G     0.7446      1.194     0.3784      1.082         10        640: 100%|██████████| 224/224 [00:22<00:00, 10.11it/s]\n",
      "                 Class     Images  Instances      Box(P          R      mAP50  mAP50-95)     Mask(P          R      mAP50  mAP50-95): 100%|██████████| 10/10 [00:00<00:00, 13.27it/s]"
     ]
    },
    {
     "name": "stdout",
     "output_type": "stream",
     "text": [
      "                   all         75        150      0.858       0.82      0.849      0.622      0.903       0.86      0.886      0.609\n"
     ]
    },
    {
     "name": "stderr",
     "output_type": "stream",
     "text": [
      "\n"
     ]
    },
    {
     "name": "stdout",
     "output_type": "stream",
     "text": [
      "\n",
      "      Epoch    GPU_mem   box_loss   seg_loss   cls_loss   dfl_loss  Instances       Size\n"
     ]
    },
    {
     "name": "stderr",
     "output_type": "stream",
     "text": [
      "      55/75      3.75G     0.7395      1.177     0.3714      1.081         10        640: 100%|██████████| 224/224 [00:21<00:00, 10.37it/s]\n",
      "                 Class     Images  Instances      Box(P          R      mAP50  mAP50-95)     Mask(P          R      mAP50  mAP50-95): 100%|██████████| 10/10 [00:00<00:00, 13.63it/s]"
     ]
    },
    {
     "name": "stdout",
     "output_type": "stream",
     "text": [
      "                   all         75        150      0.878      0.875      0.861      0.621      0.878      0.875      0.866      0.598\n"
     ]
    },
    {
     "name": "stderr",
     "output_type": "stream",
     "text": [
      "\n"
     ]
    },
    {
     "name": "stdout",
     "output_type": "stream",
     "text": [
      "\n",
      "      Epoch    GPU_mem   box_loss   seg_loss   cls_loss   dfl_loss  Instances       Size\n"
     ]
    },
    {
     "name": "stderr",
     "output_type": "stream",
     "text": [
      "      56/75      3.71G     0.7415      1.177     0.3719      1.088         11        640: 100%|██████████| 224/224 [00:21<00:00, 10.19it/s]\n",
      "                 Class     Images  Instances      Box(P          R      mAP50  mAP50-95)     Mask(P          R      mAP50  mAP50-95): 100%|██████████| 10/10 [00:00<00:00, 13.04it/s]"
     ]
    },
    {
     "name": "stdout",
     "output_type": "stream",
     "text": [
      "                   all         75        150      0.867       0.79      0.802      0.587      0.864        0.8      0.817      0.564\n"
     ]
    },
    {
     "name": "stderr",
     "output_type": "stream",
     "text": [
      "\n"
     ]
    },
    {
     "name": "stdout",
     "output_type": "stream",
     "text": [
      "\n",
      "      Epoch    GPU_mem   box_loss   seg_loss   cls_loss   dfl_loss  Instances       Size\n"
     ]
    },
    {
     "name": "stderr",
     "output_type": "stream",
     "text": [
      "      57/75       3.7G     0.7318      1.168      0.364      1.079         12        640: 100%|██████████| 224/224 [00:21<00:00, 10.26it/s]\n",
      "                 Class     Images  Instances      Box(P          R      mAP50  mAP50-95)     Mask(P          R      mAP50  mAP50-95): 100%|██████████| 10/10 [00:00<00:00, 13.91it/s]"
     ]
    },
    {
     "name": "stdout",
     "output_type": "stream",
     "text": [
      "                   all         75        150      0.806       0.84      0.796      0.595      0.857      0.867      0.833      0.573\n"
     ]
    },
    {
     "name": "stderr",
     "output_type": "stream",
     "text": [
      "\n"
     ]
    },
    {
     "name": "stdout",
     "output_type": "stream",
     "text": [
      "\n",
      "      Epoch    GPU_mem   box_loss   seg_loss   cls_loss   dfl_loss  Instances       Size\n"
     ]
    },
    {
     "name": "stderr",
     "output_type": "stream",
     "text": [
      "      58/75      3.73G     0.7388       1.19     0.3648      1.086         11        640: 100%|██████████| 224/224 [00:21<00:00, 10.24it/s]\n",
      "                 Class     Images  Instances      Box(P          R      mAP50  mAP50-95)     Mask(P          R      mAP50  mAP50-95): 100%|██████████| 10/10 [00:00<00:00, 12.48it/s]"
     ]
    },
    {
     "name": "stdout",
     "output_type": "stream",
     "text": [
      "                   all         75        150      0.874      0.831      0.818      0.611      0.896      0.851      0.854      0.596\n"
     ]
    },
    {
     "name": "stderr",
     "output_type": "stream",
     "text": [
      "\n"
     ]
    },
    {
     "name": "stdout",
     "output_type": "stream",
     "text": [
      "\n",
      "      Epoch    GPU_mem   box_loss   seg_loss   cls_loss   dfl_loss  Instances       Size\n"
     ]
    },
    {
     "name": "stderr",
     "output_type": "stream",
     "text": [
      "      59/75      3.71G      0.714      1.141     0.3587      1.071          5        640: 100%|██████████| 224/224 [00:22<00:00, 10.06it/s]\n",
      "                 Class     Images  Instances      Box(P          R      mAP50  mAP50-95)     Mask(P          R      mAP50  mAP50-95): 100%|██████████| 10/10 [00:00<00:00, 13.88it/s]"
     ]
    },
    {
     "name": "stdout",
     "output_type": "stream",
     "text": [
      "                   all         75        150      0.821      0.829      0.825      0.604      0.892      0.827      0.866      0.594\n"
     ]
    },
    {
     "name": "stderr",
     "output_type": "stream",
     "text": [
      "\n"
     ]
    },
    {
     "name": "stdout",
     "output_type": "stream",
     "text": [
      "\n",
      "      Epoch    GPU_mem   box_loss   seg_loss   cls_loss   dfl_loss  Instances       Size\n"
     ]
    },
    {
     "name": "stderr",
     "output_type": "stream",
     "text": [
      "      60/75      3.75G     0.7156      1.162     0.3571      1.061          4        640: 100%|██████████| 224/224 [00:22<00:00, 10.15it/s]\n",
      "                 Class     Images  Instances      Box(P          R      mAP50  mAP50-95)     Mask(P          R      mAP50  mAP50-95): 100%|██████████| 10/10 [00:00<00:00, 13.06it/s]"
     ]
    },
    {
     "name": "stdout",
     "output_type": "stream",
     "text": [
      "                   all         75        150      0.841      0.848       0.83      0.612      0.845      0.843      0.839      0.582\n"
     ]
    },
    {
     "name": "stderr",
     "output_type": "stream",
     "text": [
      "\n"
     ]
    },
    {
     "name": "stdout",
     "output_type": "stream",
     "text": [
      "\n",
      "      Epoch    GPU_mem   box_loss   seg_loss   cls_loss   dfl_loss  Instances       Size\n"
     ]
    },
    {
     "name": "stderr",
     "output_type": "stream",
     "text": [
      "      61/75      3.73G     0.7212      1.137     0.3542       1.07          4        640: 100%|██████████| 224/224 [00:22<00:00, 10.00it/s]\n",
      "                 Class     Images  Instances      Box(P          R      mAP50  mAP50-95)     Mask(P          R      mAP50  mAP50-95): 100%|██████████| 10/10 [00:00<00:00, 13.45it/s]"
     ]
    },
    {
     "name": "stdout",
     "output_type": "stream",
     "text": [
      "                   all         75        150      0.853       0.87      0.836      0.613      0.853       0.87      0.838      0.587\n"
     ]
    },
    {
     "name": "stderr",
     "output_type": "stream",
     "text": [
      "\n"
     ]
    },
    {
     "name": "stdout",
     "output_type": "stream",
     "text": [
      "\n",
      "      Epoch    GPU_mem   box_loss   seg_loss   cls_loss   dfl_loss  Instances       Size\n"
     ]
    },
    {
     "name": "stderr",
     "output_type": "stream",
     "text": [
      "      62/75      3.76G     0.7258      1.148     0.3586      1.073          4        640: 100%|██████████| 224/224 [00:22<00:00, 10.18it/s]\n",
      "                 Class     Images  Instances      Box(P          R      mAP50  mAP50-95)     Mask(P          R      mAP50  mAP50-95): 100%|██████████| 10/10 [00:00<00:00, 14.10it/s]"
     ]
    },
    {
     "name": "stdout",
     "output_type": "stream",
     "text": [
      "                   all         75        150      0.876       0.88      0.868       0.61      0.919      0.913      0.906      0.595\n"
     ]
    },
    {
     "name": "stderr",
     "output_type": "stream",
     "text": [
      "\n"
     ]
    },
    {
     "name": "stdout",
     "output_type": "stream",
     "text": [
      "\n",
      "      Epoch    GPU_mem   box_loss   seg_loss   cls_loss   dfl_loss  Instances       Size\n"
     ]
    },
    {
     "name": "stderr",
     "output_type": "stream",
     "text": [
      "      63/75      3.73G     0.6995      1.113     0.3451      1.052          6        640: 100%|██████████| 224/224 [00:21<00:00, 10.32it/s]\n",
      "                 Class     Images  Instances      Box(P          R      mAP50  mAP50-95)     Mask(P          R      mAP50  mAP50-95): 100%|██████████| 10/10 [00:00<00:00, 13.44it/s]"
     ]
    },
    {
     "name": "stdout",
     "output_type": "stream",
     "text": [
      "                   all         75        150      0.871      0.866       0.83      0.599      0.878      0.873       0.84      0.572\n"
     ]
    },
    {
     "name": "stderr",
     "output_type": "stream",
     "text": [
      "\n"
     ]
    },
    {
     "name": "stdout",
     "output_type": "stream",
     "text": [
      "\n",
      "      Epoch    GPU_mem   box_loss   seg_loss   cls_loss   dfl_loss  Instances       Size\n"
     ]
    },
    {
     "name": "stderr",
     "output_type": "stream",
     "text": [
      "      64/75      3.71G     0.6907      1.132     0.3429      1.058          6        640: 100%|██████████| 224/224 [00:21<00:00, 10.23it/s]\n",
      "                 Class     Images  Instances      Box(P          R      mAP50  mAP50-95)     Mask(P          R      mAP50  mAP50-95): 100%|██████████| 10/10 [00:00<00:00, 13.14it/s]"
     ]
    },
    {
     "name": "stdout",
     "output_type": "stream",
     "text": [
      "                   all         75        150      0.847      0.847      0.815      0.606      0.868      0.867      0.853      0.589\n"
     ]
    },
    {
     "name": "stderr",
     "output_type": "stream",
     "text": [
      "\n"
     ]
    },
    {
     "name": "stdout",
     "output_type": "stream",
     "text": [
      "\n",
      "      Epoch    GPU_mem   box_loss   seg_loss   cls_loss   dfl_loss  Instances       Size\n"
     ]
    },
    {
     "name": "stderr",
     "output_type": "stream",
     "text": [
      "      65/75      3.72G      0.696      1.133     0.3409      1.054          3        640: 100%|██████████| 224/224 [00:21<00:00, 10.34it/s]\n",
      "                 Class     Images  Instances      Box(P          R      mAP50  mAP50-95)     Mask(P          R      mAP50  mAP50-95): 100%|██████████| 10/10 [00:00<00:00, 13.65it/s]"
     ]
    },
    {
     "name": "stdout",
     "output_type": "stream",
     "text": [
      "                   all         75        150      0.852      0.837      0.825      0.619      0.884      0.833      0.844      0.591\n"
     ]
    },
    {
     "name": "stderr",
     "output_type": "stream",
     "text": [
      "\n"
     ]
    },
    {
     "name": "stdout",
     "output_type": "stream",
     "text": [
      "Closing dataloader mosaic\n",
      "\n",
      "      Epoch    GPU_mem   box_loss   seg_loss   cls_loss   dfl_loss  Instances       Size\n"
     ]
    },
    {
     "name": "stderr",
     "output_type": "stream",
     "text": [
      "      66/75       3.7G     0.6881      1.155     0.3138      1.062          4        640: 100%|██████████| 224/224 [00:22<00:00, 10.14it/s]\n",
      "                 Class     Images  Instances      Box(P          R      mAP50  mAP50-95)     Mask(P          R      mAP50  mAP50-95): 100%|██████████| 10/10 [00:00<00:00, 13.62it/s]"
     ]
    },
    {
     "name": "stdout",
     "output_type": "stream",
     "text": [
      "                   all         75        150      0.871      0.845      0.837      0.605      0.878      0.852      0.839      0.581\n"
     ]
    },
    {
     "name": "stderr",
     "output_type": "stream",
     "text": [
      "\n"
     ]
    },
    {
     "name": "stdout",
     "output_type": "stream",
     "text": [
      "\n",
      "      Epoch    GPU_mem   box_loss   seg_loss   cls_loss   dfl_loss  Instances       Size\n"
     ]
    },
    {
     "name": "stderr",
     "output_type": "stream",
     "text": [
      "      67/75       3.7G     0.6897      1.148      0.322      1.073          4        640: 100%|██████████| 224/224 [00:21<00:00, 10.31it/s]\n",
      "                 Class     Images  Instances      Box(P          R      mAP50  mAP50-95)     Mask(P          R      mAP50  mAP50-95): 100%|██████████| 10/10 [00:00<00:00, 14.00it/s]"
     ]
    },
    {
     "name": "stdout",
     "output_type": "stream",
     "text": [
      "                   all         75        150      0.886      0.866      0.869      0.617      0.894      0.873      0.877      0.593\n"
     ]
    },
    {
     "name": "stderr",
     "output_type": "stream",
     "text": [
      "\n"
     ]
    },
    {
     "name": "stdout",
     "output_type": "stream",
     "text": [
      "\n",
      "      Epoch    GPU_mem   box_loss   seg_loss   cls_loss   dfl_loss  Instances       Size\n"
     ]
    },
    {
     "name": "stderr",
     "output_type": "stream",
     "text": [
      "      68/75       3.7G     0.6657      1.104     0.3085      1.053          4        640: 100%|██████████| 224/224 [00:21<00:00, 10.18it/s]\n",
      "                 Class     Images  Instances      Box(P          R      mAP50  mAP50-95)     Mask(P          R      mAP50  mAP50-95): 100%|██████████| 10/10 [00:00<00:00, 13.59it/s]"
     ]
    },
    {
     "name": "stdout",
     "output_type": "stream",
     "text": [
      "                   all         75        150      0.868      0.837      0.823      0.614      0.882      0.848      0.842      0.593\n"
     ]
    },
    {
     "name": "stderr",
     "output_type": "stream",
     "text": [
      "\n"
     ]
    },
    {
     "name": "stdout",
     "output_type": "stream",
     "text": [
      "\n",
      "      Epoch    GPU_mem   box_loss   seg_loss   cls_loss   dfl_loss  Instances       Size\n"
     ]
    },
    {
     "name": "stderr",
     "output_type": "stream",
     "text": [
      "      69/75       3.7G     0.6551      1.089     0.3063      1.039          4        640: 100%|██████████| 224/224 [00:21<00:00, 10.26it/s]\n",
      "                 Class     Images  Instances      Box(P          R      mAP50  mAP50-95)     Mask(P          R      mAP50  mAP50-95): 100%|██████████| 10/10 [00:00<00:00, 13.94it/s]"
     ]
    },
    {
     "name": "stdout",
     "output_type": "stream",
     "text": [
      "                   all         75        150      0.884      0.853      0.871       0.63      0.892       0.86      0.881      0.607\n"
     ]
    },
    {
     "name": "stderr",
     "output_type": "stream",
     "text": [
      "\n"
     ]
    },
    {
     "name": "stdout",
     "output_type": "stream",
     "text": [
      "\n",
      "      Epoch    GPU_mem   box_loss   seg_loss   cls_loss   dfl_loss  Instances       Size\n"
     ]
    },
    {
     "name": "stderr",
     "output_type": "stream",
     "text": [
      "      70/75       3.7G      0.649      1.082     0.3005       1.04          4        640: 100%|██████████| 224/224 [00:21<00:00, 10.25it/s]\n",
      "                 Class     Images  Instances      Box(P          R      mAP50  mAP50-95)     Mask(P          R      mAP50  mAP50-95): 100%|██████████| 10/10 [00:00<00:00, 14.15it/s]"
     ]
    },
    {
     "name": "stdout",
     "output_type": "stream",
     "text": [
      "                   all         75        150      0.872      0.847      0.837      0.621       0.88      0.853      0.852        0.6\n"
     ]
    },
    {
     "name": "stderr",
     "output_type": "stream",
     "text": [
      "\n"
     ]
    },
    {
     "name": "stdout",
     "output_type": "stream",
     "text": [
      "\n",
      "      Epoch    GPU_mem   box_loss   seg_loss   cls_loss   dfl_loss  Instances       Size\n"
     ]
    },
    {
     "name": "stderr",
     "output_type": "stream",
     "text": [
      "      71/75       3.7G     0.6461      1.068     0.2973      1.036          4        640: 100%|██████████| 224/224 [00:21<00:00, 10.36it/s]\n",
      "                 Class     Images  Instances      Box(P          R      mAP50  mAP50-95)     Mask(P          R      mAP50  mAP50-95): 100%|██████████| 10/10 [00:00<00:00, 13.71it/s]"
     ]
    },
    {
     "name": "stdout",
     "output_type": "stream",
     "text": [
      "                   all         75        150      0.857      0.853       0.81      0.621       0.87      0.863      0.838      0.593\n"
     ]
    },
    {
     "name": "stderr",
     "output_type": "stream",
     "text": [
      "\n"
     ]
    },
    {
     "name": "stdout",
     "output_type": "stream",
     "text": [
      "\n",
      "      Epoch    GPU_mem   box_loss   seg_loss   cls_loss   dfl_loss  Instances       Size\n"
     ]
    },
    {
     "name": "stderr",
     "output_type": "stream",
     "text": [
      "      72/75      3.59G     0.6451      1.056     0.2946      1.028          4        640: 100%|██████████| 224/224 [00:21<00:00, 10.34it/s]\n",
      "                 Class     Images  Instances      Box(P          R      mAP50  mAP50-95)     Mask(P          R      mAP50  mAP50-95): 100%|██████████| 10/10 [00:00<00:00, 13.55it/s]"
     ]
    },
    {
     "name": "stdout",
     "output_type": "stream",
     "text": [
      "                   all         75        150      0.879      0.859      0.829      0.624      0.883       0.86      0.846      0.595\n"
     ]
    },
    {
     "name": "stderr",
     "output_type": "stream",
     "text": [
      "\n"
     ]
    },
    {
     "name": "stdout",
     "output_type": "stream",
     "text": [
      "\n",
      "      Epoch    GPU_mem   box_loss   seg_loss   cls_loss   dfl_loss  Instances       Size\n"
     ]
    },
    {
     "name": "stderr",
     "output_type": "stream",
     "text": [
      "      73/75       3.7G     0.6422      1.072     0.2929      1.047          4        640: 100%|██████████| 224/224 [00:22<00:00, 10.12it/s]\n",
      "                 Class     Images  Instances      Box(P          R      mAP50  mAP50-95)     Mask(P          R      mAP50  mAP50-95): 100%|██████████| 10/10 [00:00<00:00, 13.44it/s]"
     ]
    },
    {
     "name": "stdout",
     "output_type": "stream",
     "text": [
      "                   all         75        150      0.889      0.854      0.879      0.626      0.888      0.849      0.877      0.609\n"
     ]
    },
    {
     "name": "stderr",
     "output_type": "stream",
     "text": [
      "\n"
     ]
    },
    {
     "name": "stdout",
     "output_type": "stream",
     "text": [
      "\n",
      "      Epoch    GPU_mem   box_loss   seg_loss   cls_loss   dfl_loss  Instances       Size\n"
     ]
    },
    {
     "name": "stderr",
     "output_type": "stream",
     "text": [
      "      74/75       3.7G     0.6309       1.06     0.2899      1.031          4        640: 100%|██████████| 224/224 [00:22<00:00, 10.11it/s]\n",
      "                 Class     Images  Instances      Box(P          R      mAP50  mAP50-95)     Mask(P          R      mAP50  mAP50-95): 100%|██████████| 10/10 [00:00<00:00, 13.95it/s]"
     ]
    },
    {
     "name": "stdout",
     "output_type": "stream",
     "text": [
      "                   all         75        150      0.878      0.855      0.851      0.621      0.878      0.855       0.85      0.595\n"
     ]
    },
    {
     "name": "stderr",
     "output_type": "stream",
     "text": [
      "\n"
     ]
    },
    {
     "name": "stdout",
     "output_type": "stream",
     "text": [
      "\n",
      "      Epoch    GPU_mem   box_loss   seg_loss   cls_loss   dfl_loss  Instances       Size\n"
     ]
    },
    {
     "name": "stderr",
     "output_type": "stream",
     "text": [
      "      75/75       3.7G     0.6204      1.043     0.2887      1.029          4        640: 100%|██████████| 224/224 [00:22<00:00, 10.12it/s]\n",
      "                 Class     Images  Instances      Box(P          R      mAP50  mAP50-95)     Mask(P          R      mAP50  mAP50-95): 100%|██████████| 10/10 [00:00<00:00, 13.91it/s]"
     ]
    },
    {
     "name": "stdout",
     "output_type": "stream",
     "text": [
      "                   all         75        150      0.862      0.847      0.843      0.629      0.884      0.855       0.87      0.609\n"
     ]
    },
    {
     "name": "stderr",
     "output_type": "stream",
     "text": [
      "\n"
     ]
    },
    {
     "name": "stdout",
     "output_type": "stream",
     "text": [
      "\n",
      "75 epochs completed in 0.497 hours.\n",
      "Optimizer stripped from runs\\segment\\train21\\weights\\last.pt, 56.2MB\n",
      "Optimizer stripped from runs\\segment\\train21\\weights\\best.pt, 56.2MB\n",
      "\n",
      "Validating runs\\segment\\train21\\weights\\best.pt...\n",
      "Ultralytics YOLOv8.2.98  Python-3.12.4 torch-2.4.1 CUDA:0 (NVIDIA GeForce RTX 4080 SUPER, 16376MiB)\n",
      "YOLOv9c-seg summary (fused): 411 layers, 27,626,070 parameters, 0 gradients, 157.6 GFLOPs\n"
     ]
    },
    {
     "name": "stderr",
     "output_type": "stream",
     "text": [
      "                 Class     Images  Instances      Box(P          R      mAP50  mAP50-95)     Mask(P          R      mAP50  mAP50-95): 100%|██████████| 10/10 [00:00<00:00, 11.47it/s]\n"
     ]
    },
    {
     "name": "stdout",
     "output_type": "stream",
     "text": [
      "                   all         75        150      0.885      0.853       0.87       0.63      0.892       0.86       0.88      0.607\n",
      "                    ab         75         75      0.988          1      0.995      0.981      0.988          1      0.995      0.925\n",
      "                    mc         75         75      0.782      0.707      0.745       0.28      0.796       0.72      0.765      0.289\n",
      "Speed: 0.3ms preprocess, 5.6ms inference, 0.0ms loss, 1.0ms postprocess per image\n",
      "Results saved to \u001b[1mruns\\segment\\train21\u001b[0m\n"
     ]
    }
   ],
   "source": [
    "result = model.train(data=\"C:\\\\5025211148\\\\YOLOv9-Segmentation\\\\merge-inez-1\\\\data.yaml\", epochs=75, imgsz=640, batch=4)"
   ]
  },
  {
   "cell_type": "code",
   "execution_count": 14,
   "metadata": {
    "colab": {
     "base_uri": "https://localhost:8080/",
     "height": 478
    },
    "executionInfo": {
     "elapsed": 1206,
     "status": "ok",
     "timestamp": 1742741340731,
     "user": {
      "displayName": "Katarina Inezita",
      "userId": "04980882031321864073"
     },
     "user_tz": -420
    },
    "id": "k935cF9CjavI",
    "outputId": "b6c3359e-2fae-4ad6-e1f6-98b4d5221ee0"
   },
   "outputs": [
    {
     "name": "stdout",
     "output_type": "stream",
     "text": [
      "\n",
      "image 1/1 C:\\5025211148\\YOLOv9-Segmentation\\merge-inez-1\\valid\\images\\slice_2_png.rf.773ebb3973e8d24b3610d7d5889312bf.jpg: 640x640 1 ab, 42.1ms\n",
      "Speed: 2.0ms preprocess, 42.1ms inference, 2.0ms postprocess per image at shape (1, 3, 640, 640)\n"
     ]
    },
    {
     "data": {
      "image/png": "[encoded data removed]",
      "text/plain": [
       "<Figure size 640x480 with 1 Axes>"
      ]
     },
     "metadata": {},
     "output_type": "display_data"
    }
   ],
   "source": [
    "import cv2\n",
    "import matplotlib.pyplot as plt\n",
    "%matplotlib inline\n",
    "from ultralytics import YOLO\n",
    "\n",
    "model = YOLO(\"C:\\\\5025211148\\\\YOLOv9-Segmentation\\\\runs\\\\segment\\\\train21\\\\weights\\\\best.pt\")  # load a custom model\n",
    "\n",
    "# Predict with the model\n",
    "results = model(\"C:\\\\5025211148\\\\YOLOv9-Segmentation\\\\merge-inez-1\\\\valid\\\\images\\\\slice_2_png.rf.773ebb3973e8d24b3610d7d5889312bf.jpg\")\n",
    "\n",
    "\n",
    "predicted_img = results[0].plot()\n",
    "output_dir = \"C:\\\\5025211148\\\\YOLOv9-Segmentation\\\\runs\\\\segment\\\\predict\"\n",
    "os.makedirs(output_dir, exist_ok=True)\n",
    "\n",
    "output_image_path = os.path.join(output_dir, \"predicted.jpg\")\n",
    "\n",
    "cv2.imwrite(output_image_path, predicted_img)\n",
    "\n",
    "predicted_img_rgb = cv2.cvtColor(predicted_img, cv2.COLOR_BGR2RGB)\n",
    "\n",
    "plt.imshow(predicted_img_rgb)\n",
    "plt.axis('off')  # Hilangkan sumbu\n",
    "plt.show()"
   ]
  },
  {
   "cell_type": "code",
   "execution_count": 15,
   "metadata": {
    "executionInfo": {
     "elapsed": 3,
     "status": "ok",
     "timestamp": 1742741396187,
     "user": {
      "displayName": "Katarina Inezita",
      "userId": "04980882031321864073"
     },
     "user_tz": -420
    },
    "id": "vRdd3GyLjavJ"
   },
   "outputs": [],
   "source": [
    "model_path = r'C:\\\\5025211148\\\\YOLOv9-Segmentation\\\\runs\\\\segment\\\\train21\\\\weights\\\\best.pt'\n",
    "valid_path = r'C:\\\\5025211148\\\\YOLOv9-Segmentation\\\\merge-inez-1\\\\valid\\\\images'\n",
    "ground_truth_path = r'C:\\\\5025211148\\\\YOLOv9-Segmentation\\\\merge-inez-1\\\\valid\\\\labels'\n",
    "gt_AB_path = r\"C:\\\\5025211148\\\\YOLOv9-Segmentation\\\\\\\\Dataset Train Val\\\\gt-AB\"\n",
    "gt_MC_path = r\"C:\\\\5025211148\\\\YOLOv9-Segmentation\\\\Dataset Train Val\\\\gt-MC\"\n",
    "\n",
    "segmented_AB_path = fr'C:\\\\5025211148\\\\YOLOv9-Segmentation\\\\segmented_AB'\n",
    "segmented_AB_path_2 = r'C:\\\\5025211148\\\\YOLOv9-Segmentation\\\\segmented_AB'\n",
    "segmented_AB_npy = r'C:\\\\5025211148\\\\YOLOv9-Segmentation\\\\yolov9c-segmented_AB.npy'\n",
    "\n",
    "segmented_MC_path = fr'C:\\\\5025211148\\\\YOLOv9-Segmentation\\\\segmented_MC'\n",
    "segmented_MC_path_2 = r'C:\\\\5025211148\\\\YOLOv9-Segmentation\\\\segmented_MC'\n",
    "segmented_MC_npy = r'C:\\\\5025211148\\\\YOLOv9-Segmentation\\\\yolov9c-segmented_MC.npy'\n",
    "\n",
    "for path in [gt_AB_path, gt_MC_path, segmented_AB_path, segmented_MC_path]:\n",
    "  os.makedirs(path, exist_ok=True)"
   ]
  },
  {
   "cell_type": "code",
   "execution_count": 16,
   "metadata": {
    "colab": {
     "base_uri": "https://localhost:8080/"
    },
    "executionInfo": {
     "elapsed": 25,
     "status": "ok",
     "timestamp": 1742741407519,
     "user": {
      "displayName": "Katarina Inezita",
      "userId": "04980882031321864073"
     },
     "user_tz": -420
    },
    "id": "feOqwx3FjavK",
    "outputId": "9f67e053-4bb5-4165-f0a5-4413196ac1e2"
   },
   "outputs": [
    {
     "name": "stdout",
     "output_type": "stream",
     "text": [
      "C:\\\\5025211148\\\\YOLOv9-Segmentation\\\\merge-inez-1\\\\valid\\\\images\\slice_0_png.rf.b6a308ad17de783c210d9ceb410d76a1.jpg\n",
      "C:\\\\5025211148\\\\YOLOv9-Segmentation\\\\merge-inez-1\\\\valid\\\\images\\slice_1_png.rf.813ec633aebc1e939b902b040068a91a.jpg\n",
      "C:\\\\5025211148\\\\YOLOv9-Segmentation\\\\merge-inez-1\\\\valid\\\\images\\slice_2_png.rf.773ebb3973e8d24b3610d7d5889312bf.jpg\n",
      "C:\\\\5025211148\\\\YOLOv9-Segmentation\\\\merge-inez-1\\\\valid\\\\images\\slice_3_png.rf.2b7ac0dccdcc3241e2441dcdfe40b19a.jpg\n",
      "C:\\\\5025211148\\\\YOLOv9-Segmentation\\\\merge-inez-1\\\\valid\\\\images\\slice_4_png.rf.ed9951865dd8c8e9c4bb357b12d90bf3.jpg\n",
      "C:\\\\5025211148\\\\YOLOv9-Segmentation\\\\merge-inez-1\\\\valid\\\\images\\slice_5_png.rf.fa534a063f0865aba05bfb1f39bf17f1.jpg\n",
      "C:\\\\5025211148\\\\YOLOv9-Segmentation\\\\merge-inez-1\\\\valid\\\\images\\slice_6_png.rf.69513226c67a48924c9727490a40871b.jpg\n",
      "C:\\\\5025211148\\\\YOLOv9-Segmentation\\\\merge-inez-1\\\\valid\\\\images\\slice_7_png.rf.911a9c8ba0e64b11ffd5e11ceb31250e.jpg\n",
      "C:\\\\5025211148\\\\YOLOv9-Segmentation\\\\merge-inez-1\\\\valid\\\\images\\slice_8_png.rf.08bf826fea5c4ff01a4a4d1f987b7af6.jpg\n",
      "C:\\\\5025211148\\\\YOLOv9-Segmentation\\\\merge-inez-1\\\\valid\\\\images\\slice_9_png.rf.7b263d87fcdea007b3b78938772a24a5.jpg\n",
      "C:\\\\5025211148\\\\YOLOv9-Segmentation\\\\merge-inez-1\\\\valid\\\\images\\slice_10_png.rf.8cfc23276c5e0a0a9c082a84937bbfa9.jpg\n",
      "C:\\\\5025211148\\\\YOLOv9-Segmentation\\\\merge-inez-1\\\\valid\\\\images\\slice_11_png.rf.2f4ba45901be13bdd4a6d27191f04632.jpg\n",
      "C:\\\\5025211148\\\\YOLOv9-Segmentation\\\\merge-inez-1\\\\valid\\\\images\\slice_12_png.rf.e697ea8e2a874fe7e9b6625b141d770f.jpg\n",
      "C:\\\\5025211148\\\\YOLOv9-Segmentation\\\\merge-inez-1\\\\valid\\\\images\\slice_13_png.rf.3e77ef333ad7540a2e71c11b85729e94.jpg\n",
      "C:\\\\5025211148\\\\YOLOv9-Segmentation\\\\merge-inez-1\\\\valid\\\\images\\slice_14_png.rf.d4246e1825c0cc584de095d27ae0ba29.jpg\n",
      "C:\\\\5025211148\\\\YOLOv9-Segmentation\\\\merge-inez-1\\\\valid\\\\images\\slice_15_png.rf.08dca079baea99e2094955b7bca56721.jpg\n",
      "C:\\\\5025211148\\\\YOLOv9-Segmentation\\\\merge-inez-1\\\\valid\\\\images\\slice_16_png.rf.5505cc7edadd735a4051c540ba652f82.jpg\n",
      "C:\\\\5025211148\\\\YOLOv9-Segmentation\\\\merge-inez-1\\\\valid\\\\images\\slice_184_jpg.rf.fb7007d3aec48c5887b58c4b1f251982.jpg\n",
      "C:\\\\5025211148\\\\YOLOv9-Segmentation\\\\merge-inez-1\\\\valid\\\\images\\slice_185_jpg.rf.c259553f5c57f7ea65f5ec81e559a32a.jpg\n",
      "C:\\\\5025211148\\\\YOLOv9-Segmentation\\\\merge-inez-1\\\\valid\\\\images\\slice_186_jpg.rf.7fea4a8ac7a43acb2f28d29a8c9e2b18.jpg\n",
      "C:\\\\5025211148\\\\YOLOv9-Segmentation\\\\merge-inez-1\\\\valid\\\\images\\slice_187_jpg.rf.9abf8d193ac601a0c952ef8160a9a2f3.jpg\n",
      "C:\\\\5025211148\\\\YOLOv9-Segmentation\\\\merge-inez-1\\\\valid\\\\images\\slice_188_jpg.rf.5fbe759a3a7c1fde7f222c92ef628ffc.jpg\n",
      "C:\\\\5025211148\\\\YOLOv9-Segmentation\\\\merge-inez-1\\\\valid\\\\images\\slice_189_jpg.rf.c1670c9fd948cb7906245cbbfe3f3ed5.jpg\n",
      "C:\\\\5025211148\\\\YOLOv9-Segmentation\\\\merge-inez-1\\\\valid\\\\images\\slice_190_jpg.rf.ad95785b57764989b3cd348bf7ebf3df.jpg\n",
      "C:\\\\5025211148\\\\YOLOv9-Segmentation\\\\merge-inez-1\\\\valid\\\\images\\slice_191_jpg.rf.0ee9ad54909660dc8183df6b1a9d936d.jpg\n",
      "C:\\\\5025211148\\\\YOLOv9-Segmentation\\\\merge-inez-1\\\\valid\\\\images\\slice_192_jpg.rf.5f98ffbe0c04578941047e31680f4ac8.jpg\n",
      "C:\\\\5025211148\\\\YOLOv9-Segmentation\\\\merge-inez-1\\\\valid\\\\images\\slice_193_jpg.rf.997bde128c89a09bddde6eede7136af8.jpg\n",
      "C:\\\\5025211148\\\\YOLOv9-Segmentation\\\\merge-inez-1\\\\valid\\\\images\\slice_194_jpg.rf.510119948c76ce4b0ba77184428b99a1.jpg\n",
      "C:\\\\5025211148\\\\YOLOv9-Segmentation\\\\merge-inez-1\\\\valid\\\\images\\slice_195_jpg.rf.4bdeee9e3f4907b631f508bcec563dc2.jpg\n",
      "C:\\\\5025211148\\\\YOLOv9-Segmentation\\\\merge-inez-1\\\\valid\\\\images\\slice_196_jpg.rf.dc89629b77d81e3226e63a87afeecfc7.jpg\n",
      "C:\\\\5025211148\\\\YOLOv9-Segmentation\\\\merge-inez-1\\\\valid\\\\images\\slice_197_jpg.rf.9ce57987bde90784b202fe9e6d7c481e.jpg\n",
      "C:\\\\5025211148\\\\YOLOv9-Segmentation\\\\merge-inez-1\\\\valid\\\\images\\slice_198_jpg.rf.6b58b1ba2b6b73b61ba979f22fb46caf.jpg\n",
      "C:\\\\5025211148\\\\YOLOv9-Segmentation\\\\merge-inez-1\\\\valid\\\\images\\slice_199_jpg.rf.26f48bd8f377db569234a70975b06f44.jpg\n",
      "C:\\\\5025211148\\\\YOLOv9-Segmentation\\\\merge-inez-1\\\\valid\\\\images\\slice_200_jpg.rf.7a651a02064be38cf08502236c43f762.jpg\n",
      "C:\\\\5025211148\\\\YOLOv9-Segmentation\\\\merge-inez-1\\\\valid\\\\images\\slice_201_jpg.rf.405030fbbb0b7c68d0450b10c48f32b3.jpg\n",
      "C:\\\\5025211148\\\\YOLOv9-Segmentation\\\\merge-inez-1\\\\valid\\\\images\\slice_202_jpg.rf.f7e659f04a40049e6cba5239c0ca41fe.jpg\n",
      "C:\\\\5025211148\\\\YOLOv9-Segmentation\\\\merge-inez-1\\\\valid\\\\images\\slice_203_jpg.rf.e5030f4868e53e80acb8f21aef7489f9.jpg\n",
      "C:\\\\5025211148\\\\YOLOv9-Segmentation\\\\merge-inez-1\\\\valid\\\\images\\slice_204_jpg.rf.379e8a1abf3842f461423e8e76141932.jpg\n",
      "C:\\\\5025211148\\\\YOLOv9-Segmentation\\\\merge-inez-1\\\\valid\\\\images\\slice_205_jpg.rf.91c7f454ebef22c3ff8ce5727bba228e.jpg\n",
      "C:\\\\5025211148\\\\YOLOv9-Segmentation\\\\merge-inez-1\\\\valid\\\\images\\slice_206_jpg.rf.5b4192b7ef82aad37ac4d99ed13e2ee2.jpg\n",
      "C:\\\\5025211148\\\\YOLOv9-Segmentation\\\\merge-inez-1\\\\valid\\\\images\\slice_207_jpg.rf.6c10293c5a5cc5871fe43008a8840e3b.jpg\n",
      "C:\\\\5025211148\\\\YOLOv9-Segmentation\\\\merge-inez-1\\\\valid\\\\images\\slice_208_jpg.rf.474a2cc7da8963637f4a10d5518ef23b.jpg\n",
      "C:\\\\5025211148\\\\YOLOv9-Segmentation\\\\merge-inez-1\\\\valid\\\\images\\slice_209_jpg.rf.8931044812d6e143d00fc94414dc965c.jpg\n",
      "C:\\\\5025211148\\\\YOLOv9-Segmentation\\\\merge-inez-1\\\\valid\\\\images\\slice_210_jpg.rf.2f1e8d2936842397afbbace9a9c9ace1.jpg\n",
      "C:\\\\5025211148\\\\YOLOv9-Segmentation\\\\merge-inez-1\\\\valid\\\\images\\slice_211_jpg.rf.ce50dbaa10adb29f88ba7ce96c4b28e3.jpg\n",
      "C:\\\\5025211148\\\\YOLOv9-Segmentation\\\\merge-inez-1\\\\valid\\\\images\\slice_212_jpg.rf.fa999268d1357cfe3baf7f66d218858a.jpg\n",
      "C:\\\\5025211148\\\\YOLOv9-Segmentation\\\\merge-inez-1\\\\valid\\\\images\\slice_227_jpg.rf.47e302d51c39b996e9aa5c2457568e72.jpg\n",
      "C:\\\\5025211148\\\\YOLOv9-Segmentation\\\\merge-inez-1\\\\valid\\\\images\\slice_228_jpg.rf.d6fa4e941fd8ee957cb2fa40d1617dcd.jpg\n",
      "C:\\\\5025211148\\\\YOLOv9-Segmentation\\\\merge-inez-1\\\\valid\\\\images\\slice_229_jpg.rf.c4406e3223457b9d82da77009e090083.jpg\n",
      "C:\\\\5025211148\\\\YOLOv9-Segmentation\\\\merge-inez-1\\\\valid\\\\images\\slice_230_jpg.rf.c38851d2bc1de61efaff2c6a0c6a533b.jpg\n",
      "C:\\\\5025211148\\\\YOLOv9-Segmentation\\\\merge-inez-1\\\\valid\\\\images\\slice_231_jpg.rf.5a943022fe92bf999159d5a80fdfaa3c.jpg\n",
      "C:\\\\5025211148\\\\YOLOv9-Segmentation\\\\merge-inez-1\\\\valid\\\\images\\slice_232_jpg.rf.36559349f65c59474e2c273ef3a1895f.jpg\n",
      "C:\\\\5025211148\\\\YOLOv9-Segmentation\\\\merge-inez-1\\\\valid\\\\images\\slice_233_jpg.rf.21c7a2018478f98c4170d84b9d900a8b.jpg\n",
      "C:\\\\5025211148\\\\YOLOv9-Segmentation\\\\merge-inez-1\\\\valid\\\\images\\slice_234_jpg.rf.8376c291224523f2379285e6739f8508.jpg\n",
      "C:\\\\5025211148\\\\YOLOv9-Segmentation\\\\merge-inez-1\\\\valid\\\\images\\slice_234_jpg.rf.8c97c306d89d4aea1956db536d9ae8da.jpg\n",
      "C:\\\\5025211148\\\\YOLOv9-Segmentation\\\\merge-inez-1\\\\valid\\\\images\\slice_235_jpg.rf.7a0cd7f426f4c0b16065120adc6c63f0.jpg\n",
      "C:\\\\5025211148\\\\YOLOv9-Segmentation\\\\merge-inez-1\\\\valid\\\\images\\slice_236_jpg.rf.baef61c5ff250c1d85dc3ee096660de8.jpg\n",
      "C:\\\\5025211148\\\\YOLOv9-Segmentation\\\\merge-inez-1\\\\valid\\\\images\\slice_237_jpg.rf.b9610d515a5437097ad9d6ec26739bd9.jpg\n",
      "C:\\\\5025211148\\\\YOLOv9-Segmentation\\\\merge-inez-1\\\\valid\\\\images\\slice_238_jpg.rf.6025395d22a4004b13a3f9b376079bb8.jpg\n",
      "C:\\\\5025211148\\\\YOLOv9-Segmentation\\\\merge-inez-1\\\\valid\\\\images\\slice_239_jpg.rf.b6d73c66406e62a091551a6d3ccce095.jpg\n",
      "C:\\\\5025211148\\\\YOLOv9-Segmentation\\\\merge-inez-1\\\\valid\\\\images\\slice_239_jpg.rf.bd8f5271a858f2a277c210f5e04a86df.jpg\n",
      "C:\\\\5025211148\\\\YOLOv9-Segmentation\\\\merge-inez-1\\\\valid\\\\images\\slice_240_jpg.rf.0aa788cdb7219a189ea9e4b9a53b996a.jpg\n",
      "C:\\\\5025211148\\\\YOLOv9-Segmentation\\\\merge-inez-1\\\\valid\\\\images\\slice_241_jpg.rf.5bb370de0c0c5a0a1298999b8269e4b4.jpg\n",
      "C:\\\\5025211148\\\\YOLOv9-Segmentation\\\\merge-inez-1\\\\valid\\\\images\\slice_241_jpg.rf.8e99851409db29bcb7433e96215d032f.jpg\n",
      "C:\\\\5025211148\\\\YOLOv9-Segmentation\\\\merge-inez-1\\\\valid\\\\images\\slice_242_jpg.rf.04473fce5585378c912db056877ef4be.jpg\n",
      "C:\\\\5025211148\\\\YOLOv9-Segmentation\\\\merge-inez-1\\\\valid\\\\images\\slice_243_jpg.rf.4e282c9d623df41fb28d1181aff460f7.jpg\n",
      "C:\\\\5025211148\\\\YOLOv9-Segmentation\\\\merge-inez-1\\\\valid\\\\images\\slice_243_jpg.rf.ae3d135830b986a680d9ef8fbe5441f9.jpg\n",
      "C:\\\\5025211148\\\\YOLOv9-Segmentation\\\\merge-inez-1\\\\valid\\\\images\\slice_244_jpg.rf.4a9409f3b5a33b7c702d348109c89c68.jpg\n",
      "C:\\\\5025211148\\\\YOLOv9-Segmentation\\\\merge-inez-1\\\\valid\\\\images\\slice_245_jpg.rf.69a1679f246e89e375a49ba7b2e03b67.jpg\n",
      "C:\\\\5025211148\\\\YOLOv9-Segmentation\\\\merge-inez-1\\\\valid\\\\images\\slice_245_jpg.rf.7280f92363a1b9f4c1b74a7079335c62.jpg\n",
      "C:\\\\5025211148\\\\YOLOv9-Segmentation\\\\merge-inez-1\\\\valid\\\\images\\slice_246_jpg.rf.1b3b7419434d4f2ffe8a69c66cc0eb7d.jpg\n",
      "C:\\\\5025211148\\\\YOLOv9-Segmentation\\\\merge-inez-1\\\\valid\\\\images\\slice_247_jpg.rf.0132c277c4d7f8c5c95ea3a595ba7315.jpg\n",
      "C:\\\\5025211148\\\\YOLOv9-Segmentation\\\\merge-inez-1\\\\valid\\\\images\\slice_248_jpg.rf.fe48f8cb5097a5c105f48b585f33a07a.jpg\n",
      "C:\\\\5025211148\\\\YOLOv9-Segmentation\\\\merge-inez-1\\\\valid\\\\images\\slice_250_jpg.rf.84d15643db599a8826b8ca7b5320dfc5.jpg\n",
      "C:\\\\5025211148\\\\YOLOv9-Segmentation\\\\merge-inez-1\\\\valid\\\\images\\slice_257_jpg.rf.1afa5d3faf30171b5a1ee38437f1cae5.jpg\n"
     ]
    }
   ],
   "source": [
    "import os\n",
    "import re\n",
    "\n",
    "# specify the directory path\n",
    "directory_path = valid_path\n",
    "\n",
    "# create an empty list to store the filenames with directory path\n",
    "file_list = []\n",
    "\n",
    "# iterate over the files in the directory\n",
    "for filename in os.listdir(directory_path):\n",
    "    # check if the item is a file\n",
    "    if os.path.isfile(os.path.join(directory_path, filename)):\n",
    "        # append the filename with directory path to the list\n",
    "        file_list.append(os.path.join(directory_path, filename))\n",
    "\n",
    "def extract_number(s):\n",
    "    match = re.search(r'slice_(\\d+)', s)  # Match 'slice_' followed by one or more digits\n",
    "    return int(match.group(1)) if match else float('inf')\n",
    "\n",
    "file_list = sorted(file_list, key=extract_number)\n",
    "for filename in file_list:\n",
    "    print(filename)\n",
    "# print(file_list)  # Output: sorted file_list with filenames like 'slice_0', 'slice_1', 'slice_2', etc.\n"
   ]
  },
  {
   "cell_type": "code",
   "execution_count": 18,
   "metadata": {
    "executionInfo": {
     "elapsed": 119,
     "status": "ok",
     "timestamp": 1742741455130,
     "user": {
      "displayName": "Katarina Inezita",
      "userId": "04980882031321864073"
     },
     "user_tz": -420
    },
    "id": "uh0V6OETjavL"
   },
   "outputs": [],
   "source": [
    "from ultralytics import YOLO\n",
    "\n",
    "# Load a model\n",
    "model = YOLO(model_path, task='segment')  # load a pretrained model (recommended for training)"
   ]
  },
  {
   "cell_type": "code",
   "execution_count": 19,
   "metadata": {
    "colab": {
     "base_uri": "https://localhost:8080/"
    },
    "executionInfo": {
     "elapsed": 6094,
     "status": "ok",
     "timestamp": 1742741566617,
     "user": {
      "displayName": "Katarina Inezita",
      "userId": "04980882031321864073"
     },
     "user_tz": -420
    },
    "id": "jjcIg0kNjavM",
    "outputId": "bfaebba2-eea4-4f1c-95b1-7407b1114087"
   },
   "outputs": [
    {
     "name": "stdout",
     "output_type": "stream",
     "text": [
      "\n",
      "0: 640x640 1 ab, 10.6ms\n",
      "1: 640x640 1 ab, 10.6ms\n",
      "2: 640x640 1 ab, 10.6ms\n",
      "3: 640x640 1 ab, 10.6ms\n",
      "4: 640x640 1 ab, 10.6ms\n",
      "5: 640x640 1 ab, 10.6ms\n",
      "6: 640x640 1 ab, 10.6ms\n",
      "7: 640x640 1 ab, 1 mc, 10.6ms\n",
      "8: 640x640 1 ab, 1 mc, 10.6ms\n",
      "9: 640x640 1 ab, 1 mc, 10.6ms\n",
      "10: 640x640 1 ab, 1 mc, 10.6ms\n",
      "11: 640x640 1 ab, 1 mc, 10.6ms\n",
      "12: 640x640 1 ab, 1 mc, 10.6ms\n",
      "13: 640x640 1 ab, 1 mc, 10.6ms\n",
      "14: 640x640 1 ab, 1 mc, 10.6ms\n",
      "15: 640x640 1 ab, 1 mc, 10.6ms\n",
      "16: 640x640 1 ab, 1 mc, 10.6ms\n",
      "17: 640x640 1 ab, 10.6ms\n",
      "18: 640x640 1 ab, 10.6ms\n",
      "19: 640x640 1 ab, 1 mc, 10.6ms\n",
      "20: 640x640 1 ab, 1 mc, 10.6ms\n",
      "21: 640x640 1 ab, 1 mc, 10.6ms\n",
      "22: 640x640 1 ab, 1 mc, 10.6ms\n",
      "23: 640x640 1 ab, 1 mc, 10.6ms\n",
      "24: 640x640 1 ab, 1 mc, 10.6ms\n",
      "25: 640x640 1 ab, 10.6ms\n",
      "26: 640x640 1 ab, 10.6ms\n",
      "27: 640x640 1 ab, 1 mc, 10.6ms\n",
      "28: 640x640 1 ab, 1 mc, 10.6ms\n",
      "29: 640x640 1 ab, 1 mc, 10.6ms\n",
      "30: 640x640 1 ab, 1 mc, 10.6ms\n",
      "31: 640x640 1 ab, 1 mc, 10.6ms\n",
      "32: 640x640 1 ab, 1 mc, 10.6ms\n",
      "33: 640x640 1 ab, 1 mc, 10.6ms\n",
      "34: 640x640 1 ab, 1 mc, 10.6ms\n",
      "35: 640x640 1 ab, 1 mc, 10.6ms\n",
      "36: 640x640 1 ab, 1 mc, 10.6ms\n",
      "37: 640x640 1 ab, 1 mc, 10.6ms\n",
      "38: 640x640 1 ab, 10.6ms\n",
      "39: 640x640 1 ab, 10.6ms\n",
      "40: 640x640 1 ab, 1 mc, 10.6ms\n",
      "41: 640x640 1 ab, 1 mc, 10.6ms\n",
      "42: 640x640 1 ab, 10.6ms\n",
      "43: 640x640 1 ab, 1 mc, 10.6ms\n",
      "44: 640x640 1 ab, 1 mc, 10.6ms\n",
      "45: 640x640 1 ab, 1 mc, 10.6ms\n",
      "46: 640x640 1 ab, 2 mcs, 10.6ms\n",
      "47: 640x640 1 ab, 1 mc, 10.6ms\n",
      "48: 640x640 1 ab, 2 mcs, 10.6ms\n",
      "49: 640x640 1 ab, 1 mc, 10.6ms\n",
      "50: 640x640 1 ab, 1 mc, 10.6ms\n",
      "51: 640x640 1 ab, 1 mc, 10.6ms\n",
      "52: 640x640 1 ab, 1 mc, 10.6ms\n",
      "53: 640x640 1 ab, 1 mc, 10.6ms\n",
      "54: 640x640 1 ab, 1 mc, 10.6ms\n",
      "55: 640x640 1 ab, 1 mc, 10.6ms\n",
      "56: 640x640 1 ab, 1 mc, 10.6ms\n",
      "57: 640x640 1 ab, 1 mc, 10.6ms\n",
      "58: 640x640 1 ab, 1 mc, 10.6ms\n",
      "59: 640x640 1 ab, 1 mc, 10.6ms\n",
      "60: 640x640 1 ab, 1 mc, 10.6ms\n",
      "61: 640x640 1 ab, 1 mc, 10.6ms\n",
      "62: 640x640 1 ab, 1 mc, 10.6ms\n",
      "63: 640x640 1 ab, 1 mc, 10.6ms\n",
      "64: 640x640 1 ab, 1 mc, 10.6ms\n",
      "65: 640x640 1 ab, 1 mc, 10.6ms\n",
      "66: 640x640 1 ab, 1 mc, 10.6ms\n",
      "67: 640x640 1 ab, 10.6ms\n",
      "68: 640x640 1 ab, 1 mc, 10.6ms\n",
      "69: 640x640 1 ab, 1 mc, 10.6ms\n",
      "70: 640x640 1 ab, 1 mc, 10.6ms\n",
      "71: 640x640 1 ab, 1 mc, 10.6ms\n",
      "72: 640x640 1 ab, 1 mc, 10.6ms\n",
      "73: 640x640 1 ab, 1 mc, 10.6ms\n",
      "74: 640x640 1 ab, 1 mc, 10.6ms\n",
      "Speed: 3.5ms preprocess, 10.6ms inference, 1.5ms postprocess per image at shape (1, 3, 640, 640)\n",
      "Results saved to \u001b[1mruns\\segment\\predict11\u001b[0m\n"
     ]
    }
   ],
   "source": [
    "results = model(file_list, save=True)"
   ]
  },
  {
   "cell_type": "code",
   "execution_count": 20,
   "metadata": {
    "colab": {
     "base_uri": "https://localhost:8080/"
    },
    "executionInfo": {
     "elapsed": 281,
     "status": "ok",
     "timestamp": 1742741594528,
     "user": {
      "displayName": "Katarina Inezita",
      "userId": "04980882031321864073"
     },
     "user_tz": -420
    },
    "id": "PO6GIWJajavM",
    "outputId": "99fae6a0-8170-4df4-845c-373ac6021e92"
   },
   "outputs": [
    {
     "name": "stdout",
     "output_type": "stream",
     "text": [
      "75\n"
     ]
    }
   ],
   "source": [
    "print(len(results))"
   ]
  },
  {
   "cell_type": "code",
   "execution_count": 21,
   "metadata": {
    "colab": {
     "base_uri": "https://localhost:8080/"
    },
    "executionInfo": {
     "elapsed": 578,
     "status": "ok",
     "timestamp": 1742741607183,
     "user": {
      "displayName": "Katarina Inezita",
      "userId": "04980882031321864073"
     },
     "user_tz": -420
    },
    "id": "WAbk0G-OjavM",
    "outputId": "21969a93-a823-47e5-996c-1265d47b0d2b"
   },
   "outputs": [
    {
     "name": "stdout",
     "output_type": "stream",
     "text": [
      "class tensor([0.], device='cuda:0')\n",
      "indices (tensor([0], device='cuda:0'),)\n",
      "C:\\\\5025211148\\\\YOLOv9-Segmentation\\\\segmented_AB\\\\merged_segs_0.jpg\n",
      "\n",
      "\n",
      "class tensor([0.], device='cuda:0')\n",
      "indices (tensor([0], device='cuda:0'),)\n",
      "C:\\\\5025211148\\\\YOLOv9-Segmentation\\\\segmented_AB\\\\merged_segs_1.jpg\n",
      "\n",
      "\n",
      "class tensor([0.], device='cuda:0')\n",
      "indices (tensor([0], device='cuda:0'),)\n",
      "C:\\\\5025211148\\\\YOLOv9-Segmentation\\\\segmented_AB\\\\merged_segs_2.jpg\n",
      "\n",
      "\n",
      "class tensor([0.], device='cuda:0')\n",
      "indices (tensor([0], device='cuda:0'),)\n",
      "C:\\\\5025211148\\\\YOLOv9-Segmentation\\\\segmented_AB\\\\merged_segs_3.jpg\n",
      "\n",
      "\n",
      "class tensor([0.], device='cuda:0')\n",
      "indices (tensor([0], device='cuda:0'),)\n",
      "C:\\\\5025211148\\\\YOLOv9-Segmentation\\\\segmented_AB\\\\merged_segs_4.jpg\n",
      "\n",
      "\n",
      "class tensor([0.], device='cuda:0')\n",
      "indices (tensor([0], device='cuda:0'),)\n",
      "C:\\\\5025211148\\\\YOLOv9-Segmentation\\\\segmented_AB\\\\merged_segs_5.jpg\n",
      "\n",
      "\n",
      "class tensor([0.], device='cuda:0')\n",
      "indices (tensor([0], device='cuda:0'),)\n",
      "C:\\\\5025211148\\\\YOLOv9-Segmentation\\\\segmented_AB\\\\merged_segs_6.jpg\n",
      "\n",
      "\n",
      "class tensor([0., 1.], device='cuda:0')\n",
      "indices (tensor([0], device='cuda:0'),)\n",
      "C:\\\\5025211148\\\\YOLOv9-Segmentation\\\\segmented_AB\\\\merged_segs_7.jpg\n",
      "\n",
      "\n",
      "class tensor([0., 1.], device='cuda:0')\n",
      "indices (tensor([0], device='cuda:0'),)\n",
      "C:\\\\5025211148\\\\YOLOv9-Segmentation\\\\segmented_AB\\\\merged_segs_8.jpg\n",
      "\n",
      "\n",
      "class tensor([0., 1.], device='cuda:0')\n",
      "indices (tensor([0], device='cuda:0'),)\n",
      "C:\\\\5025211148\\\\YOLOv9-Segmentation\\\\segmented_AB\\\\merged_segs_9.jpg\n",
      "\n",
      "\n",
      "class tensor([0., 1.], device='cuda:0')\n",
      "indices (tensor([0], device='cuda:0'),)\n",
      "C:\\\\5025211148\\\\YOLOv9-Segmentation\\\\segmented_AB\\\\merged_segs_10.jpg\n",
      "\n",
      "\n",
      "class tensor([0., 1.], device='cuda:0')\n",
      "indices (tensor([0], device='cuda:0'),)\n",
      "C:\\\\5025211148\\\\YOLOv9-Segmentation\\\\segmented_AB\\\\merged_segs_11.jpg\n",
      "\n",
      "\n",
      "class tensor([0., 1.], device='cuda:0')\n",
      "indices (tensor([0], device='cuda:0'),)\n",
      "C:\\\\5025211148\\\\YOLOv9-Segmentation\\\\segmented_AB\\\\merged_segs_12.jpg\n",
      "\n",
      "\n",
      "class tensor([0., 1.], device='cuda:0')\n",
      "indices (tensor([0], device='cuda:0'),)\n",
      "C:\\\\5025211148\\\\YOLOv9-Segmentation\\\\segmented_AB\\\\merged_segs_13.jpg\n",
      "\n",
      "\n",
      "class tensor([0., 1.], device='cuda:0')\n",
      "indices (tensor([0], device='cuda:0'),)\n",
      "C:\\\\5025211148\\\\YOLOv9-Segmentation\\\\segmented_AB\\\\merged_segs_14.jpg\n",
      "\n",
      "\n",
      "class tensor([0., 1.], device='cuda:0')\n",
      "indices (tensor([0], device='cuda:0'),)\n",
      "C:\\\\5025211148\\\\YOLOv9-Segmentation\\\\segmented_AB\\\\merged_segs_15.jpg\n",
      "\n",
      "\n",
      "class tensor([0., 1.], device='cuda:0')\n",
      "indices (tensor([0], device='cuda:0'),)\n",
      "C:\\\\5025211148\\\\YOLOv9-Segmentation\\\\segmented_AB\\\\merged_segs_16.jpg\n",
      "\n",
      "\n",
      "class tensor([0.], device='cuda:0')\n",
      "indices (tensor([0], device='cuda:0'),)\n",
      "C:\\\\5025211148\\\\YOLOv9-Segmentation\\\\segmented_AB\\\\merged_segs_17.jpg\n",
      "\n",
      "\n",
      "class tensor([0.], device='cuda:0')\n",
      "indices (tensor([0], device='cuda:0'),)\n",
      "C:\\\\5025211148\\\\YOLOv9-Segmentation\\\\segmented_AB\\\\merged_segs_18.jpg\n",
      "\n",
      "\n",
      "class tensor([0., 1.], device='cuda:0')\n",
      "indices (tensor([0], device='cuda:0'),)\n",
      "C:\\\\5025211148\\\\YOLOv9-Segmentation\\\\segmented_AB\\\\merged_segs_19.jpg\n",
      "\n",
      "\n",
      "class tensor([0., 1.], device='cuda:0')\n",
      "indices (tensor([0], device='cuda:0'),)\n",
      "C:\\\\5025211148\\\\YOLOv9-Segmentation\\\\segmented_AB\\\\merged_segs_20.jpg\n",
      "\n",
      "\n",
      "class tensor([0., 1.], device='cuda:0')\n",
      "indices (tensor([0], device='cuda:0'),)\n",
      "C:\\\\5025211148\\\\YOLOv9-Segmentation\\\\segmented_AB\\\\merged_segs_21.jpg\n",
      "\n",
      "\n",
      "class tensor([0., 1.], device='cuda:0')\n",
      "indices (tensor([0], device='cuda:0'),)\n",
      "C:\\\\5025211148\\\\YOLOv9-Segmentation\\\\segmented_AB\\\\merged_segs_22.jpg\n",
      "\n",
      "\n",
      "class tensor([0., 1.], device='cuda:0')\n",
      "indices (tensor([0], device='cuda:0'),)\n",
      "C:\\\\5025211148\\\\YOLOv9-Segmentation\\\\segmented_AB\\\\merged_segs_23.jpg\n",
      "\n",
      "\n",
      "class tensor([0., 1.], device='cuda:0')\n",
      "indices (tensor([0], device='cuda:0'),)\n",
      "C:\\\\5025211148\\\\YOLOv9-Segmentation\\\\segmented_AB\\\\merged_segs_24.jpg\n",
      "\n",
      "\n",
      "class tensor([0.], device='cuda:0')\n",
      "indices (tensor([0], device='cuda:0'),)\n",
      "C:\\\\5025211148\\\\YOLOv9-Segmentation\\\\segmented_AB\\\\merged_segs_25.jpg\n",
      "\n",
      "\n",
      "class tensor([0.], device='cuda:0')\n",
      "indices (tensor([0], device='cuda:0'),)\n",
      "C:\\\\5025211148\\\\YOLOv9-Segmentation\\\\segmented_AB\\\\merged_segs_26.jpg\n",
      "\n",
      "\n",
      "class tensor([0., 1.], device='cuda:0')\n",
      "indices (tensor([0], device='cuda:0'),)\n",
      "C:\\\\5025211148\\\\YOLOv9-Segmentation\\\\segmented_AB\\\\merged_segs_27.jpg\n",
      "\n",
      "\n",
      "class tensor([0., 1.], device='cuda:0')\n",
      "indices (tensor([0], device='cuda:0'),)\n",
      "C:\\\\5025211148\\\\YOLOv9-Segmentation\\\\segmented_AB\\\\merged_segs_28.jpg\n",
      "\n",
      "\n",
      "class tensor([0., 1.], device='cuda:0')\n",
      "indices (tensor([0], device='cuda:0'),)\n",
      "C:\\\\5025211148\\\\YOLOv9-Segmentation\\\\segmented_AB\\\\merged_segs_29.jpg\n",
      "\n",
      "\n",
      "class tensor([0., 1.], device='cuda:0')\n",
      "indices (tensor([0], device='cuda:0'),)\n",
      "C:\\\\5025211148\\\\YOLOv9-Segmentation\\\\segmented_AB\\\\merged_segs_30.jpg\n",
      "\n",
      "\n",
      "class tensor([0., 1.], device='cuda:0')\n",
      "indices (tensor([0], device='cuda:0'),)\n",
      "C:\\\\5025211148\\\\YOLOv9-Segmentation\\\\segmented_AB\\\\merged_segs_31.jpg\n",
      "\n",
      "\n",
      "class tensor([0., 1.], device='cuda:0')\n",
      "indices (tensor([0], device='cuda:0'),)\n",
      "C:\\\\5025211148\\\\YOLOv9-Segmentation\\\\segmented_AB\\\\merged_segs_32.jpg\n",
      "\n",
      "\n",
      "class tensor([0., 1.], device='cuda:0')\n",
      "indices (tensor([0], device='cuda:0'),)\n",
      "C:\\\\5025211148\\\\YOLOv9-Segmentation\\\\segmented_AB\\\\merged_segs_33.jpg\n",
      "\n",
      "\n",
      "class tensor([0., 1.], device='cuda:0')\n",
      "indices (tensor([0], device='cuda:0'),)\n",
      "C:\\\\5025211148\\\\YOLOv9-Segmentation\\\\segmented_AB\\\\merged_segs_34.jpg\n",
      "\n",
      "\n",
      "class tensor([0., 1.], device='cuda:0')\n",
      "indices (tensor([0], device='cuda:0'),)\n",
      "C:\\\\5025211148\\\\YOLOv9-Segmentation\\\\segmented_AB\\\\merged_segs_35.jpg\n",
      "\n",
      "\n",
      "class tensor([0., 1.], device='cuda:0')\n",
      "indices (tensor([0], device='cuda:0'),)\n",
      "C:\\\\5025211148\\\\YOLOv9-Segmentation\\\\segmented_AB\\\\merged_segs_36.jpg\n",
      "\n",
      "\n",
      "class tensor([0., 1.], device='cuda:0')\n",
      "indices (tensor([0], device='cuda:0'),)\n",
      "C:\\\\5025211148\\\\YOLOv9-Segmentation\\\\segmented_AB\\\\merged_segs_37.jpg\n",
      "\n",
      "\n",
      "class tensor([0.], device='cuda:0')\n",
      "indices (tensor([0], device='cuda:0'),)\n",
      "C:\\\\5025211148\\\\YOLOv9-Segmentation\\\\segmented_AB\\\\merged_segs_38.jpg\n",
      "\n",
      "\n",
      "class tensor([0.], device='cuda:0')\n",
      "indices (tensor([0], device='cuda:0'),)\n",
      "C:\\\\5025211148\\\\YOLOv9-Segmentation\\\\segmented_AB\\\\merged_segs_39.jpg\n",
      "\n",
      "\n",
      "class tensor([0., 1.], device='cuda:0')\n",
      "indices (tensor([0], device='cuda:0'),)\n",
      "C:\\\\5025211148\\\\YOLOv9-Segmentation\\\\segmented_AB\\\\merged_segs_40.jpg\n",
      "\n",
      "\n",
      "class tensor([0., 1.], device='cuda:0')\n",
      "indices (tensor([0], device='cuda:0'),)\n",
      "C:\\\\5025211148\\\\YOLOv9-Segmentation\\\\segmented_AB\\\\merged_segs_41.jpg\n",
      "\n",
      "\n",
      "class tensor([0.], device='cuda:0')\n",
      "indices (tensor([0], device='cuda:0'),)\n",
      "C:\\\\5025211148\\\\YOLOv9-Segmentation\\\\segmented_AB\\\\merged_segs_42.jpg\n",
      "\n",
      "\n",
      "class tensor([0., 1.], device='cuda:0')\n",
      "indices (tensor([0], device='cuda:0'),)\n",
      "C:\\\\5025211148\\\\YOLOv9-Segmentation\\\\segmented_AB\\\\merged_segs_43.jpg\n",
      "\n",
      "\n",
      "class tensor([0., 1.], device='cuda:0')\n",
      "indices (tensor([0], device='cuda:0'),)\n",
      "C:\\\\5025211148\\\\YOLOv9-Segmentation\\\\segmented_AB\\\\merged_segs_44.jpg\n",
      "\n",
      "\n",
      "class tensor([0., 1.], device='cuda:0')\n",
      "indices (tensor([0], device='cuda:0'),)\n",
      "C:\\\\5025211148\\\\YOLOv9-Segmentation\\\\segmented_AB\\\\merged_segs_45.jpg\n",
      "\n",
      "\n",
      "class tensor([0., 1., 1.], device='cuda:0')\n",
      "indices (tensor([0], device='cuda:0'),)\n",
      "C:\\\\5025211148\\\\YOLOv9-Segmentation\\\\segmented_AB\\\\merged_segs_46.jpg\n",
      "\n",
      "\n",
      "class tensor([0., 1.], device='cuda:0')\n",
      "indices (tensor([0], device='cuda:0'),)\n",
      "C:\\\\5025211148\\\\YOLOv9-Segmentation\\\\segmented_AB\\\\merged_segs_47.jpg\n",
      "\n",
      "\n",
      "class tensor([0., 1., 1.], device='cuda:0')\n",
      "indices (tensor([0], device='cuda:0'),)\n",
      "C:\\\\5025211148\\\\YOLOv9-Segmentation\\\\segmented_AB\\\\merged_segs_48.jpg\n",
      "\n",
      "\n",
      "class tensor([0., 1.], device='cuda:0')\n",
      "indices (tensor([0], device='cuda:0'),)\n",
      "C:\\\\5025211148\\\\YOLOv9-Segmentation\\\\segmented_AB\\\\merged_segs_49.jpg\n",
      "\n",
      "\n",
      "class tensor([0., 1.], device='cuda:0')\n",
      "indices (tensor([0], device='cuda:0'),)\n",
      "C:\\\\5025211148\\\\YOLOv9-Segmentation\\\\segmented_AB\\\\merged_segs_50.jpg\n",
      "\n",
      "\n",
      "class tensor([0., 1.], device='cuda:0')\n",
      "indices (tensor([0], device='cuda:0'),)\n",
      "C:\\\\5025211148\\\\YOLOv9-Segmentation\\\\segmented_AB\\\\merged_segs_51.jpg\n",
      "\n",
      "\n",
      "class tensor([0., 1.], device='cuda:0')\n",
      "indices (tensor([0], device='cuda:0'),)\n",
      "C:\\\\5025211148\\\\YOLOv9-Segmentation\\\\segmented_AB\\\\merged_segs_52.jpg\n",
      "\n",
      "\n",
      "class tensor([0., 1.], device='cuda:0')\n",
      "indices (tensor([0], device='cuda:0'),)\n",
      "C:\\\\5025211148\\\\YOLOv9-Segmentation\\\\segmented_AB\\\\merged_segs_53.jpg\n",
      "\n",
      "\n",
      "class tensor([0., 1.], device='cuda:0')\n",
      "indices (tensor([0], device='cuda:0'),)\n",
      "C:\\\\5025211148\\\\YOLOv9-Segmentation\\\\segmented_AB\\\\merged_segs_54.jpg\n",
      "\n",
      "\n",
      "class tensor([0., 1.], device='cuda:0')\n",
      "indices (tensor([0], device='cuda:0'),)\n",
      "C:\\\\5025211148\\\\YOLOv9-Segmentation\\\\segmented_AB\\\\merged_segs_55.jpg\n",
      "\n",
      "\n",
      "class tensor([0., 1.], device='cuda:0')\n",
      "indices (tensor([0], device='cuda:0'),)\n",
      "C:\\\\5025211148\\\\YOLOv9-Segmentation\\\\segmented_AB\\\\merged_segs_56.jpg\n",
      "\n",
      "\n",
      "class tensor([0., 1.], device='cuda:0')\n",
      "indices (tensor([0], device='cuda:0'),)\n",
      "C:\\\\5025211148\\\\YOLOv9-Segmentation\\\\segmented_AB\\\\merged_segs_57.jpg\n",
      "\n",
      "\n",
      "class tensor([0., 1.], device='cuda:0')\n",
      "indices (tensor([0], device='cuda:0'),)\n",
      "C:\\\\5025211148\\\\YOLOv9-Segmentation\\\\segmented_AB\\\\merged_segs_58.jpg\n",
      "\n",
      "\n",
      "class tensor([0., 1.], device='cuda:0')\n",
      "indices (tensor([0], device='cuda:0'),)\n",
      "C:\\\\5025211148\\\\YOLOv9-Segmentation\\\\segmented_AB\\\\merged_segs_59.jpg\n",
      "\n",
      "\n",
      "class tensor([0., 1.], device='cuda:0')\n",
      "indices (tensor([0], device='cuda:0'),)\n",
      "C:\\\\5025211148\\\\YOLOv9-Segmentation\\\\segmented_AB\\\\merged_segs_60.jpg\n",
      "\n",
      "\n",
      "class tensor([0., 1.], device='cuda:0')\n",
      "indices (tensor([0], device='cuda:0'),)\n",
      "C:\\\\5025211148\\\\YOLOv9-Segmentation\\\\segmented_AB\\\\merged_segs_61.jpg\n",
      "\n",
      "\n",
      "class tensor([0., 1.], device='cuda:0')\n",
      "indices (tensor([0], device='cuda:0'),)\n",
      "C:\\\\5025211148\\\\YOLOv9-Segmentation\\\\segmented_AB\\\\merged_segs_62.jpg\n",
      "\n",
      "\n",
      "class tensor([0., 1.], device='cuda:0')\n",
      "indices (tensor([0], device='cuda:0'),)\n",
      "C:\\\\5025211148\\\\YOLOv9-Segmentation\\\\segmented_AB\\\\merged_segs_63.jpg\n",
      "\n",
      "\n",
      "class tensor([0., 1.], device='cuda:0')\n",
      "indices (tensor([0], device='cuda:0'),)\n",
      "C:\\\\5025211148\\\\YOLOv9-Segmentation\\\\segmented_AB\\\\merged_segs_64.jpg\n",
      "\n",
      "\n",
      "class tensor([0., 1.], device='cuda:0')\n",
      "indices (tensor([0], device='cuda:0'),)\n",
      "C:\\\\5025211148\\\\YOLOv9-Segmentation\\\\segmented_AB\\\\merged_segs_65.jpg\n",
      "\n",
      "\n",
      "class tensor([0., 1.], device='cuda:0')\n",
      "indices (tensor([0], device='cuda:0'),)\n",
      "C:\\\\5025211148\\\\YOLOv9-Segmentation\\\\segmented_AB\\\\merged_segs_66.jpg\n",
      "\n",
      "\n",
      "class tensor([0.], device='cuda:0')\n",
      "indices (tensor([0], device='cuda:0'),)\n",
      "C:\\\\5025211148\\\\YOLOv9-Segmentation\\\\segmented_AB\\\\merged_segs_67.jpg\n",
      "\n",
      "\n",
      "class tensor([0., 1.], device='cuda:0')\n",
      "indices (tensor([0], device='cuda:0'),)\n",
      "C:\\\\5025211148\\\\YOLOv9-Segmentation\\\\segmented_AB\\\\merged_segs_68.jpg\n",
      "\n",
      "\n",
      "class tensor([0., 1.], device='cuda:0')\n",
      "indices (tensor([0], device='cuda:0'),)\n",
      "C:\\\\5025211148\\\\YOLOv9-Segmentation\\\\segmented_AB\\\\merged_segs_69.jpg\n",
      "\n",
      "\n",
      "class tensor([0., 1.], device='cuda:0')\n",
      "indices (tensor([0], device='cuda:0'),)\n",
      "C:\\\\5025211148\\\\YOLOv9-Segmentation\\\\segmented_AB\\\\merged_segs_70.jpg\n",
      "\n",
      "\n",
      "class tensor([0., 1.], device='cuda:0')\n",
      "indices (tensor([0], device='cuda:0'),)\n",
      "C:\\\\5025211148\\\\YOLOv9-Segmentation\\\\segmented_AB\\\\merged_segs_71.jpg\n",
      "\n",
      "\n",
      "class tensor([0., 1.], device='cuda:0')\n",
      "indices (tensor([0], device='cuda:0'),)\n",
      "C:\\\\5025211148\\\\YOLOv9-Segmentation\\\\segmented_AB\\\\merged_segs_72.jpg\n",
      "\n",
      "\n",
      "class tensor([0., 1.], device='cuda:0')\n",
      "indices (tensor([0], device='cuda:0'),)\n",
      "C:\\\\5025211148\\\\YOLOv9-Segmentation\\\\segmented_AB\\\\merged_segs_73.jpg\n",
      "\n",
      "\n",
      "class tensor([0., 1.], device='cuda:0')\n",
      "indices (tensor([0], device='cuda:0'),)\n",
      "C:\\\\5025211148\\\\YOLOv9-Segmentation\\\\segmented_AB\\\\merged_segs_74.jpg\n",
      "\n",
      "\n"
     ]
    }
   ],
   "source": [
    "import torch\n",
    "import cv2\n",
    "import numpy as np\n",
    "i = 0\n",
    "x = 101\n",
    "y = 200\n",
    "\n",
    "for result in results:\n",
    "  if(result.masks is not None):\n",
    "    # get the AB masks\n",
    "    boxes = result.boxes.data\n",
    "    clss = boxes[:, 5]\n",
    "    AB_indices = torch.where(clss == 0)\n",
    "    AB_indices = (AB_indices[0][0].unsqueeze(0),)\n",
    "    # AB_indices = AB_indices[0][0]\n",
    "    print('class', clss)\n",
    "    print('indices', AB_indices)\n",
    "    # Convert mask to single channel image\n",
    "    try:\n",
    "      mask_raw = result.masks.cpu().data[[AB_indices]].numpy().transpose(1, 2, 0)\n",
    "      # Convert single channel grayscale to 3 channel image\n",
    "      mask_3channel = cv2.merge((mask_raw,mask_raw,mask_raw))\n",
    "\n",
    "      # Get the size of the original image (height, width, channels)\n",
    "      h2, w2, c2 = result.orig_img.shape\n",
    "\n",
    "      # Resize the mask to the same size as the image (can probably be removed if image is the same size as the model)\n",
    "      mask = cv2.resize(mask_3channel, (w2, h2))\n",
    "\n",
    "      # Convert BGR to HSV\n",
    "      hsv = cv2.cvtColor(mask, cv2.COLOR_BGR2HSV)\n",
    "\n",
    "      # Define range of brightness in HSV\n",
    "      lower_black = np.array([0,0,0])\n",
    "      upper_black = np.array([0,0,1])\n",
    "\n",
    "      # Create a mask. Threshold the HSV image to get everything black\n",
    "      mask = cv2.inRange(mask, lower_black, upper_black)\n",
    "\n",
    "      # Invert the mask to get everything but black\n",
    "      mask = cv2.bitwise_not(mask)\n",
    "\n",
    "      # Apply the mask to the original image\n",
    "      masked = cv2.bitwise_and(result.orig_img, result.orig_img, mask=mask)\n",
    "\n",
    "      # Show the masked part of the image\n",
    "      # cv2.imshow(\"mask\", masked)\n",
    "      resized_mask = cv2.resize(mask, (101, 200))\n",
    "      cv2.imwrite(fr'{segmented_AB_path}\\\\merged_segs_{i}.jpg', resized_mask)\n",
    "      print(fr'{segmented_AB_path}\\\\merged_segs_{i}.jpg')\n",
    "    except Exception as e:\n",
    "      print('error',e)\n",
    "      # print('\\n')\n",
    "      continue\n",
    "  else:\n",
    "    width = 101\n",
    "    height = 200\n",
    "    black_image = np.zeros((height, width), dtype=np.uint8)\n",
    "    print('ada yang kosong lo..')\n",
    "    # Save the black image to a file\n",
    "    cv2.imwrite(fr'{segmented_AB_path}\\\\merged_segs_{i}.jpg', black_image)\n",
    "    print(fr'{segmented_AB_path}\\\\merged_segs_{i}.jpg')\n",
    "  print('\\n')\n",
    "  i = i+1"
   ]
  },
  {
   "cell_type": "code",
   "execution_count": 22,
   "metadata": {
    "colab": {
     "base_uri": "https://localhost:8080/"
    },
    "executionInfo": {
     "elapsed": 7,
     "status": "ok",
     "timestamp": 1742741621129,
     "user": {
      "displayName": "Katarina Inezita",
      "userId": "04980882031321864073"
     },
     "user_tz": -420
    },
    "id": "TgyYiws-javN",
    "outputId": "41e22685-b5d6-46c4-deee-691f5f06a87d"
   },
   "outputs": [
    {
     "name": "stdout",
     "output_type": "stream",
     "text": [
      "C:\\\\5025211148\\\\YOLOv9-Segmentation\\\\segmented_AB\\merged_segs_0.jpg\n",
      "C:\\\\5025211148\\\\YOLOv9-Segmentation\\\\segmented_AB\\merged_segs_1.jpg\n",
      "C:\\\\5025211148\\\\YOLOv9-Segmentation\\\\segmented_AB\\merged_segs_2.jpg\n",
      "C:\\\\5025211148\\\\YOLOv9-Segmentation\\\\segmented_AB\\merged_segs_3.jpg\n",
      "C:\\\\5025211148\\\\YOLOv9-Segmentation\\\\segmented_AB\\merged_segs_4.jpg\n",
      "C:\\\\5025211148\\\\YOLOv9-Segmentation\\\\segmented_AB\\merged_segs_5.jpg\n",
      "C:\\\\5025211148\\\\YOLOv9-Segmentation\\\\segmented_AB\\merged_segs_6.jpg\n",
      "C:\\\\5025211148\\\\YOLOv9-Segmentation\\\\segmented_AB\\merged_segs_7.jpg\n",
      "C:\\\\5025211148\\\\YOLOv9-Segmentation\\\\segmented_AB\\merged_segs_8.jpg\n",
      "C:\\\\5025211148\\\\YOLOv9-Segmentation\\\\segmented_AB\\merged_segs_9.jpg\n",
      "C:\\\\5025211148\\\\YOLOv9-Segmentation\\\\segmented_AB\\merged_segs_10.jpg\n",
      "C:\\\\5025211148\\\\YOLOv9-Segmentation\\\\segmented_AB\\merged_segs_11.jpg\n",
      "C:\\\\5025211148\\\\YOLOv9-Segmentation\\\\segmented_AB\\merged_segs_12.jpg\n",
      "C:\\\\5025211148\\\\YOLOv9-Segmentation\\\\segmented_AB\\merged_segs_13.jpg\n",
      "C:\\\\5025211148\\\\YOLOv9-Segmentation\\\\segmented_AB\\merged_segs_14.jpg\n",
      "C:\\\\5025211148\\\\YOLOv9-Segmentation\\\\segmented_AB\\merged_segs_15.jpg\n",
      "C:\\\\5025211148\\\\YOLOv9-Segmentation\\\\segmented_AB\\merged_segs_16.jpg\n",
      "C:\\\\5025211148\\\\YOLOv9-Segmentation\\\\segmented_AB\\merged_segs_17.jpg\n",
      "C:\\\\5025211148\\\\YOLOv9-Segmentation\\\\segmented_AB\\merged_segs_18.jpg\n",
      "C:\\\\5025211148\\\\YOLOv9-Segmentation\\\\segmented_AB\\merged_segs_19.jpg\n",
      "C:\\\\5025211148\\\\YOLOv9-Segmentation\\\\segmented_AB\\merged_segs_20.jpg\n",
      "C:\\\\5025211148\\\\YOLOv9-Segmentation\\\\segmented_AB\\merged_segs_21.jpg\n",
      "C:\\\\5025211148\\\\YOLOv9-Segmentation\\\\segmented_AB\\merged_segs_22.jpg\n",
      "C:\\\\5025211148\\\\YOLOv9-Segmentation\\\\segmented_AB\\merged_segs_23.jpg\n",
      "C:\\\\5025211148\\\\YOLOv9-Segmentation\\\\segmented_AB\\merged_segs_24.jpg\n",
      "C:\\\\5025211148\\\\YOLOv9-Segmentation\\\\segmented_AB\\merged_segs_25.jpg\n",
      "C:\\\\5025211148\\\\YOLOv9-Segmentation\\\\segmented_AB\\merged_segs_26.jpg\n",
      "C:\\\\5025211148\\\\YOLOv9-Segmentation\\\\segmented_AB\\merged_segs_27.jpg\n",
      "C:\\\\5025211148\\\\YOLOv9-Segmentation\\\\segmented_AB\\merged_segs_28.jpg\n",
      "C:\\\\5025211148\\\\YOLOv9-Segmentation\\\\segmented_AB\\merged_segs_29.jpg\n",
      "C:\\\\5025211148\\\\YOLOv9-Segmentation\\\\segmented_AB\\merged_segs_30.jpg\n",
      "C:\\\\5025211148\\\\YOLOv9-Segmentation\\\\segmented_AB\\merged_segs_31.jpg\n",
      "C:\\\\5025211148\\\\YOLOv9-Segmentation\\\\segmented_AB\\merged_segs_32.jpg\n",
      "C:\\\\5025211148\\\\YOLOv9-Segmentation\\\\segmented_AB\\merged_segs_33.jpg\n",
      "C:\\\\5025211148\\\\YOLOv9-Segmentation\\\\segmented_AB\\merged_segs_34.jpg\n",
      "C:\\\\5025211148\\\\YOLOv9-Segmentation\\\\segmented_AB\\merged_segs_35.jpg\n",
      "C:\\\\5025211148\\\\YOLOv9-Segmentation\\\\segmented_AB\\merged_segs_36.jpg\n",
      "C:\\\\5025211148\\\\YOLOv9-Segmentation\\\\segmented_AB\\merged_segs_37.jpg\n",
      "C:\\\\5025211148\\\\YOLOv9-Segmentation\\\\segmented_AB\\merged_segs_38.jpg\n",
      "C:\\\\5025211148\\\\YOLOv9-Segmentation\\\\segmented_AB\\merged_segs_39.jpg\n",
      "C:\\\\5025211148\\\\YOLOv9-Segmentation\\\\segmented_AB\\merged_segs_40.jpg\n",
      "C:\\\\5025211148\\\\YOLOv9-Segmentation\\\\segmented_AB\\merged_segs_41.jpg\n",
      "C:\\\\5025211148\\\\YOLOv9-Segmentation\\\\segmented_AB\\merged_segs_42.jpg\n",
      "C:\\\\5025211148\\\\YOLOv9-Segmentation\\\\segmented_AB\\merged_segs_43.jpg\n",
      "C:\\\\5025211148\\\\YOLOv9-Segmentation\\\\segmented_AB\\merged_segs_44.jpg\n",
      "C:\\\\5025211148\\\\YOLOv9-Segmentation\\\\segmented_AB\\merged_segs_45.jpg\n",
      "C:\\\\5025211148\\\\YOLOv9-Segmentation\\\\segmented_AB\\merged_segs_46.jpg\n",
      "C:\\\\5025211148\\\\YOLOv9-Segmentation\\\\segmented_AB\\merged_segs_47.jpg\n",
      "C:\\\\5025211148\\\\YOLOv9-Segmentation\\\\segmented_AB\\merged_segs_48.jpg\n",
      "C:\\\\5025211148\\\\YOLOv9-Segmentation\\\\segmented_AB\\merged_segs_49.jpg\n",
      "C:\\\\5025211148\\\\YOLOv9-Segmentation\\\\segmented_AB\\merged_segs_50.jpg\n",
      "C:\\\\5025211148\\\\YOLOv9-Segmentation\\\\segmented_AB\\merged_segs_51.jpg\n",
      "C:\\\\5025211148\\\\YOLOv9-Segmentation\\\\segmented_AB\\merged_segs_52.jpg\n",
      "C:\\\\5025211148\\\\YOLOv9-Segmentation\\\\segmented_AB\\merged_segs_53.jpg\n",
      "C:\\\\5025211148\\\\YOLOv9-Segmentation\\\\segmented_AB\\merged_segs_54.jpg\n",
      "C:\\\\5025211148\\\\YOLOv9-Segmentation\\\\segmented_AB\\merged_segs_55.jpg\n",
      "C:\\\\5025211148\\\\YOLOv9-Segmentation\\\\segmented_AB\\merged_segs_56.jpg\n",
      "C:\\\\5025211148\\\\YOLOv9-Segmentation\\\\segmented_AB\\merged_segs_57.jpg\n",
      "C:\\\\5025211148\\\\YOLOv9-Segmentation\\\\segmented_AB\\merged_segs_58.jpg\n",
      "C:\\\\5025211148\\\\YOLOv9-Segmentation\\\\segmented_AB\\merged_segs_59.jpg\n",
      "C:\\\\5025211148\\\\YOLOv9-Segmentation\\\\segmented_AB\\merged_segs_60.jpg\n",
      "C:\\\\5025211148\\\\YOLOv9-Segmentation\\\\segmented_AB\\merged_segs_61.jpg\n",
      "C:\\\\5025211148\\\\YOLOv9-Segmentation\\\\segmented_AB\\merged_segs_62.jpg\n",
      "C:\\\\5025211148\\\\YOLOv9-Segmentation\\\\segmented_AB\\merged_segs_63.jpg\n",
      "C:\\\\5025211148\\\\YOLOv9-Segmentation\\\\segmented_AB\\merged_segs_64.jpg\n",
      "C:\\\\5025211148\\\\YOLOv9-Segmentation\\\\segmented_AB\\merged_segs_65.jpg\n",
      "C:\\\\5025211148\\\\YOLOv9-Segmentation\\\\segmented_AB\\merged_segs_66.jpg\n",
      "C:\\\\5025211148\\\\YOLOv9-Segmentation\\\\segmented_AB\\merged_segs_67.jpg\n",
      "C:\\\\5025211148\\\\YOLOv9-Segmentation\\\\segmented_AB\\merged_segs_68.jpg\n",
      "C:\\\\5025211148\\\\YOLOv9-Segmentation\\\\segmented_AB\\merged_segs_69.jpg\n",
      "C:\\\\5025211148\\\\YOLOv9-Segmentation\\\\segmented_AB\\merged_segs_70.jpg\n",
      "C:\\\\5025211148\\\\YOLOv9-Segmentation\\\\segmented_AB\\merged_segs_71.jpg\n",
      "C:\\\\5025211148\\\\YOLOv9-Segmentation\\\\segmented_AB\\merged_segs_72.jpg\n",
      "C:\\\\5025211148\\\\YOLOv9-Segmentation\\\\segmented_AB\\merged_segs_73.jpg\n",
      "C:\\\\5025211148\\\\YOLOv9-Segmentation\\\\segmented_AB\\merged_segs_74.jpg\n"
     ]
    }
   ],
   "source": [
    "import os\n",
    "import re\n",
    "\n",
    "# specify the directory path\n",
    "directory_path = segmented_AB_path_2\n",
    "\n",
    "# create an empty list to store the filenames with directory path\n",
    "file_list_AB = []\n",
    "\n",
    "# iterate over the files in the directory\n",
    "for filename in os.listdir(directory_path):\n",
    "    # check if the item is a file\n",
    "    if os.path.isfile(os.path.join(directory_path, filename)):\n",
    "        # append the filename with directory path to the list\n",
    "        file_list_AB.append(os.path.join(directory_path, filename))\n",
    "\n",
    "def extract_number(s):\n",
    "    match = re.search(r'merged_segs_(\\d+)', s)  # Match 'merged_segs_' followed by one or more digits\n",
    "    return int(match.group(1)) if match else float('inf')\n",
    "\n",
    "file_list_AB = sorted(file_list_AB, key=extract_number)\n",
    "for filename in file_list_AB:\n",
    "    print(filename)\n",
    "# print(file_list)  # Output: sorted file_list with filenames like 'merged_segs_0', 'merged_segs_1', 'merged_segs_2', etc.\n"
   ]
  },
  {
   "cell_type": "code",
   "execution_count": 23,
   "metadata": {
    "colab": {
     "base_uri": "https://localhost:8080/"
    },
    "executionInfo": {
     "elapsed": 7,
     "status": "ok",
     "timestamp": 1742741624965,
     "user": {
      "displayName": "Katarina Inezita",
      "userId": "04980882031321864073"
     },
     "user_tz": -420
    },
    "id": "QzynhpadjavO",
    "outputId": "259cc979-f930-4037-83b7-3d867854a30f"
   },
   "outputs": [
    {
     "name": "stdout",
     "output_type": "stream",
     "text": [
      "(75, 200, 101)\n"
     ]
    }
   ],
   "source": [
    "import numpy as np\n",
    "from PIL import Image  # If your images are in image files\n",
    "\n",
    "# Assuming img_files is a list of file paths to the 2D images\n",
    "# img_files = ['image1.png', 'image2.png', 'image3.png']  # Replace with your actual file paths\n",
    "\n",
    "# Load the images and convert them to numpy arrays\n",
    "image_arrays = [np.array(Image.open(img_file)) for img_file in file_list_AB]\n",
    "\n",
    "# Stack the image arrays into a 3D numpy array\n",
    "stacked_images = np.stack(image_arrays, axis=0)\n",
    "\n",
    "# stacked_images is now a 3D numpy array where the first dimension represents the index of the image in the list\n",
    "\n",
    "# Example usage:\n",
    "print(stacked_images.shape)  # Output: (3, height, width, channels) assuming RGB images\n",
    "\n",
    "np.save(segmented_AB_npy, stacked_images)"
   ]
  },
  {
   "cell_type": "code",
   "execution_count": 24,
   "metadata": {
    "colab": {
     "base_uri": "https://localhost:8080/"
    },
    "executionInfo": {
     "elapsed": 702,
     "status": "ok",
     "timestamp": 1742741627209,
     "user": {
      "displayName": "Katarina Inezita",
      "userId": "04980882031321864073"
     },
     "user_tz": -420
    },
    "id": "JJuap5T0javP",
    "outputId": "8388a37e-9068-4a22-9d7e-55fc26b7efa3"
   },
   "outputs": [
    {
     "name": "stdout",
     "output_type": "stream",
     "text": [
      "error index 0 is out of bounds for dimension 0 with size 0\n",
      "tidak ada mc lo..\n",
      "C:\\\\5025211148\\\\YOLOv9-Segmentation\\\\segmented_MC\\\\merged_segs_0.jpg\n",
      "error index 0 is out of bounds for dimension 0 with size 0\n",
      "tidak ada mc lo..\n",
      "C:\\\\5025211148\\\\YOLOv9-Segmentation\\\\segmented_MC\\\\merged_segs_1.jpg\n",
      "error index 0 is out of bounds for dimension 0 with size 0\n",
      "tidak ada mc lo..\n",
      "C:\\\\5025211148\\\\YOLOv9-Segmentation\\\\segmented_MC\\\\merged_segs_2.jpg\n",
      "error index 0 is out of bounds for dimension 0 with size 0\n",
      "tidak ada mc lo..\n",
      "C:\\\\5025211148\\\\YOLOv9-Segmentation\\\\segmented_MC\\\\merged_segs_3.jpg\n",
      "error index 0 is out of bounds for dimension 0 with size 0\n",
      "tidak ada mc lo..\n",
      "C:\\\\5025211148\\\\YOLOv9-Segmentation\\\\segmented_MC\\\\merged_segs_4.jpg\n",
      "error index 0 is out of bounds for dimension 0 with size 0\n",
      "tidak ada mc lo..\n",
      "C:\\\\5025211148\\\\YOLOv9-Segmentation\\\\segmented_MC\\\\merged_segs_5.jpg\n",
      "error index 0 is out of bounds for dimension 0 with size 0\n",
      "tidak ada mc lo..\n",
      "C:\\\\5025211148\\\\YOLOv9-Segmentation\\\\segmented_MC\\\\merged_segs_6.jpg\n",
      "class tensor([0., 1.], device='cuda:0')\n",
      "indices (tensor([1], device='cuda:0'),)\n",
      "C:\\\\5025211148\\\\YOLOv9-Segmentation\\\\segmented_MC\\\\merged_segs_7.jpg\n",
      "ketemu\n",
      "\n",
      "\n",
      "class tensor([0., 1.], device='cuda:0')\n",
      "indices (tensor([1], device='cuda:0'),)\n",
      "C:\\\\5025211148\\\\YOLOv9-Segmentation\\\\segmented_MC\\\\merged_segs_8.jpg\n",
      "ketemu\n",
      "\n",
      "\n",
      "class tensor([0., 1.], device='cuda:0')\n",
      "indices (tensor([1], device='cuda:0'),)\n",
      "C:\\\\5025211148\\\\YOLOv9-Segmentation\\\\segmented_MC\\\\merged_segs_9.jpg\n",
      "ketemu\n",
      "\n",
      "\n",
      "class tensor([0., 1.], device='cuda:0')\n",
      "indices (tensor([1], device='cuda:0'),)\n",
      "C:\\\\5025211148\\\\YOLOv9-Segmentation\\\\segmented_MC\\\\merged_segs_10.jpg\n",
      "ketemu\n",
      "\n",
      "\n",
      "class tensor([0., 1.], device='cuda:0')\n",
      "indices (tensor([1], device='cuda:0'),)\n",
      "C:\\\\5025211148\\\\YOLOv9-Segmentation\\\\segmented_MC\\\\merged_segs_11.jpg\n",
      "ketemu\n",
      "\n",
      "\n",
      "class tensor([0., 1.], device='cuda:0')\n",
      "indices (tensor([1], device='cuda:0'),)\n",
      "C:\\\\5025211148\\\\YOLOv9-Segmentation\\\\segmented_MC\\\\merged_segs_12.jpg\n",
      "ketemu\n",
      "\n",
      "\n",
      "class tensor([0., 1.], device='cuda:0')\n",
      "indices (tensor([1], device='cuda:0'),)\n",
      "C:\\\\5025211148\\\\YOLOv9-Segmentation\\\\segmented_MC\\\\merged_segs_13.jpg\n",
      "ketemu\n",
      "\n",
      "\n",
      "class tensor([0., 1.], device='cuda:0')\n",
      "indices (tensor([1], device='cuda:0'),)\n",
      "C:\\\\5025211148\\\\YOLOv9-Segmentation\\\\segmented_MC\\\\merged_segs_14.jpg\n",
      "ketemu\n",
      "\n",
      "\n",
      "class tensor([0., 1.], device='cuda:0')\n",
      "indices (tensor([1], device='cuda:0'),)\n",
      "C:\\\\5025211148\\\\YOLOv9-Segmentation\\\\segmented_MC\\\\merged_segs_15.jpg\n",
      "ketemu\n",
      "\n",
      "\n",
      "class tensor([0., 1.], device='cuda:0')\n",
      "indices (tensor([1], device='cuda:0'),)\n",
      "C:\\\\5025211148\\\\YOLOv9-Segmentation\\\\segmented_MC\\\\merged_segs_16.jpg\n",
      "ketemu\n",
      "\n",
      "\n",
      "error index 0 is out of bounds for dimension 0 with size 0\n",
      "tidak ada mc lo..\n",
      "C:\\\\5025211148\\\\YOLOv9-Segmentation\\\\segmented_MC\\\\merged_segs_17.jpg\n",
      "error index 0 is out of bounds for dimension 0 with size 0\n",
      "tidak ada mc lo..\n",
      "C:\\\\5025211148\\\\YOLOv9-Segmentation\\\\segmented_MC\\\\merged_segs_18.jpg\n",
      "class tensor([0., 1.], device='cuda:0')\n",
      "indices (tensor([1], device='cuda:0'),)\n",
      "C:\\\\5025211148\\\\YOLOv9-Segmentation\\\\segmented_MC\\\\merged_segs_19.jpg\n",
      "ketemu\n",
      "\n",
      "\n",
      "class tensor([0., 1.], device='cuda:0')\n",
      "indices (tensor([1], device='cuda:0'),)\n",
      "C:\\\\5025211148\\\\YOLOv9-Segmentation\\\\segmented_MC\\\\merged_segs_20.jpg\n",
      "ketemu\n",
      "\n",
      "\n",
      "class tensor([0., 1.], device='cuda:0')\n",
      "indices (tensor([1], device='cuda:0'),)\n",
      "C:\\\\5025211148\\\\YOLOv9-Segmentation\\\\segmented_MC\\\\merged_segs_21.jpg\n",
      "ketemu\n",
      "\n",
      "\n",
      "class tensor([0., 1.], device='cuda:0')\n",
      "indices (tensor([1], device='cuda:0'),)\n",
      "C:\\\\5025211148\\\\YOLOv9-Segmentation\\\\segmented_MC\\\\merged_segs_22.jpg\n",
      "ketemu\n",
      "\n",
      "\n",
      "class tensor([0., 1.], device='cuda:0')\n",
      "indices (tensor([1], device='cuda:0'),)\n",
      "C:\\\\5025211148\\\\YOLOv9-Segmentation\\\\segmented_MC\\\\merged_segs_23.jpg\n",
      "ketemu\n",
      "\n",
      "\n",
      "class tensor([0., 1.], device='cuda:0')\n",
      "indices (tensor([1], device='cuda:0'),)\n",
      "C:\\\\5025211148\\\\YOLOv9-Segmentation\\\\segmented_MC\\\\merged_segs_24.jpg\n",
      "ketemu\n",
      "\n",
      "\n",
      "error index 0 is out of bounds for dimension 0 with size 0\n",
      "tidak ada mc lo..\n",
      "C:\\\\5025211148\\\\YOLOv9-Segmentation\\\\segmented_MC\\\\merged_segs_25.jpg\n",
      "error index 0 is out of bounds for dimension 0 with size 0\n",
      "tidak ada mc lo..\n",
      "C:\\\\5025211148\\\\YOLOv9-Segmentation\\\\segmented_MC\\\\merged_segs_26.jpg\n",
      "class tensor([0., 1.], device='cuda:0')\n",
      "indices (tensor([1], device='cuda:0'),)\n",
      "C:\\\\5025211148\\\\YOLOv9-Segmentation\\\\segmented_MC\\\\merged_segs_27.jpg\n",
      "ketemu\n",
      "\n",
      "\n",
      "class tensor([0., 1.], device='cuda:0')\n",
      "indices (tensor([1], device='cuda:0'),)\n",
      "C:\\\\5025211148\\\\YOLOv9-Segmentation\\\\segmented_MC\\\\merged_segs_28.jpg\n",
      "ketemu\n",
      "\n",
      "\n",
      "class tensor([0., 1.], device='cuda:0')\n",
      "indices (tensor([1], device='cuda:0'),)\n",
      "C:\\\\5025211148\\\\YOLOv9-Segmentation\\\\segmented_MC\\\\merged_segs_29.jpg\n",
      "ketemu\n",
      "\n",
      "\n",
      "class tensor([0., 1.], device='cuda:0')\n",
      "indices (tensor([1], device='cuda:0'),)\n",
      "C:\\\\5025211148\\\\YOLOv9-Segmentation\\\\segmented_MC\\\\merged_segs_30.jpg\n",
      "ketemu\n",
      "\n",
      "\n",
      "class tensor([0., 1.], device='cuda:0')\n",
      "indices (tensor([1], device='cuda:0'),)\n",
      "C:\\\\5025211148\\\\YOLOv9-Segmentation\\\\segmented_MC\\\\merged_segs_31.jpg\n",
      "ketemu\n",
      "\n",
      "\n",
      "class tensor([0., 1.], device='cuda:0')\n",
      "indices (tensor([1], device='cuda:0'),)\n",
      "C:\\\\5025211148\\\\YOLOv9-Segmentation\\\\segmented_MC\\\\merged_segs_32.jpg\n",
      "ketemu\n",
      "\n",
      "\n",
      "class tensor([0., 1.], device='cuda:0')\n",
      "indices (tensor([1], device='cuda:0'),)\n",
      "C:\\\\5025211148\\\\YOLOv9-Segmentation\\\\segmented_MC\\\\merged_segs_33.jpg\n",
      "ketemu\n",
      "\n",
      "\n",
      "class tensor([0., 1.], device='cuda:0')\n",
      "indices (tensor([1], device='cuda:0'),)\n",
      "C:\\\\5025211148\\\\YOLOv9-Segmentation\\\\segmented_MC\\\\merged_segs_34.jpg\n",
      "ketemu\n",
      "\n",
      "\n",
      "class tensor([0., 1.], device='cuda:0')\n",
      "indices (tensor([1], device='cuda:0'),)\n",
      "C:\\\\5025211148\\\\YOLOv9-Segmentation\\\\segmented_MC\\\\merged_segs_35.jpg\n",
      "ketemu\n",
      "\n",
      "\n",
      "class tensor([0., 1.], device='cuda:0')\n",
      "indices (tensor([1], device='cuda:0'),)\n",
      "C:\\\\5025211148\\\\YOLOv9-Segmentation\\\\segmented_MC\\\\merged_segs_36.jpg\n",
      "ketemu\n",
      "\n",
      "\n",
      "class tensor([0., 1.], device='cuda:0')\n",
      "indices (tensor([1], device='cuda:0'),)\n",
      "C:\\\\5025211148\\\\YOLOv9-Segmentation\\\\segmented_MC\\\\merged_segs_37.jpg\n",
      "ketemu\n",
      "\n",
      "\n",
      "error index 0 is out of bounds for dimension 0 with size 0\n",
      "tidak ada mc lo..\n",
      "C:\\\\5025211148\\\\YOLOv9-Segmentation\\\\segmented_MC\\\\merged_segs_38.jpg\n",
      "error index 0 is out of bounds for dimension 0 with size 0\n",
      "tidak ada mc lo..\n",
      "C:\\\\5025211148\\\\YOLOv9-Segmentation\\\\segmented_MC\\\\merged_segs_39.jpg\n",
      "class tensor([0., 1.], device='cuda:0')\n",
      "indices (tensor([1], device='cuda:0'),)\n",
      "C:\\\\5025211148\\\\YOLOv9-Segmentation\\\\segmented_MC\\\\merged_segs_40.jpg\n",
      "ketemu\n",
      "\n",
      "\n",
      "class tensor([0., 1.], device='cuda:0')\n",
      "indices (tensor([1], device='cuda:0'),)\n",
      "C:\\\\5025211148\\\\YOLOv9-Segmentation\\\\segmented_MC\\\\merged_segs_41.jpg\n",
      "ketemu\n",
      "\n",
      "\n",
      "error index 0 is out of bounds for dimension 0 with size 0\n",
      "tidak ada mc lo..\n",
      "C:\\\\5025211148\\\\YOLOv9-Segmentation\\\\segmented_MC\\\\merged_segs_42.jpg\n",
      "class tensor([0., 1.], device='cuda:0')\n",
      "indices (tensor([1], device='cuda:0'),)\n",
      "C:\\\\5025211148\\\\YOLOv9-Segmentation\\\\segmented_MC\\\\merged_segs_43.jpg\n",
      "ketemu\n",
      "\n",
      "\n",
      "class tensor([0., 1.], device='cuda:0')\n",
      "indices (tensor([1], device='cuda:0'),)\n",
      "C:\\\\5025211148\\\\YOLOv9-Segmentation\\\\segmented_MC\\\\merged_segs_44.jpg\n",
      "ketemu\n",
      "\n",
      "\n",
      "class tensor([0., 1.], device='cuda:0')\n",
      "indices (tensor([1], device='cuda:0'),)\n",
      "C:\\\\5025211148\\\\YOLOv9-Segmentation\\\\segmented_MC\\\\merged_segs_45.jpg\n",
      "ketemu\n",
      "\n",
      "\n",
      "class tensor([0., 1., 1.], device='cuda:0')\n",
      "indices (tensor([1], device='cuda:0'),)\n",
      "C:\\\\5025211148\\\\YOLOv9-Segmentation\\\\segmented_MC\\\\merged_segs_46.jpg\n",
      "ketemu\n",
      "\n",
      "\n",
      "class tensor([0., 1.], device='cuda:0')\n",
      "indices (tensor([1], device='cuda:0'),)\n",
      "C:\\\\5025211148\\\\YOLOv9-Segmentation\\\\segmented_MC\\\\merged_segs_47.jpg\n",
      "ketemu\n",
      "\n",
      "\n",
      "class tensor([0., 1., 1.], device='cuda:0')\n",
      "indices (tensor([1], device='cuda:0'),)\n",
      "C:\\\\5025211148\\\\YOLOv9-Segmentation\\\\segmented_MC\\\\merged_segs_48.jpg\n",
      "ketemu\n",
      "\n",
      "\n",
      "class tensor([0., 1.], device='cuda:0')\n",
      "indices (tensor([1], device='cuda:0'),)\n",
      "C:\\\\5025211148\\\\YOLOv9-Segmentation\\\\segmented_MC\\\\merged_segs_49.jpg\n",
      "ketemu\n",
      "\n",
      "\n",
      "class tensor([0., 1.], device='cuda:0')\n",
      "indices (tensor([1], device='cuda:0'),)\n",
      "C:\\\\5025211148\\\\YOLOv9-Segmentation\\\\segmented_MC\\\\merged_segs_50.jpg\n",
      "ketemu\n",
      "\n",
      "\n",
      "class tensor([0., 1.], device='cuda:0')\n",
      "indices (tensor([1], device='cuda:0'),)\n",
      "C:\\\\5025211148\\\\YOLOv9-Segmentation\\\\segmented_MC\\\\merged_segs_51.jpg\n",
      "ketemu\n",
      "\n",
      "\n",
      "class tensor([0., 1.], device='cuda:0')\n",
      "indices (tensor([1], device='cuda:0'),)\n",
      "C:\\\\5025211148\\\\YOLOv9-Segmentation\\\\segmented_MC\\\\merged_segs_52.jpg\n",
      "ketemu\n",
      "\n",
      "\n",
      "class tensor([0., 1.], device='cuda:0')\n",
      "indices (tensor([1], device='cuda:0'),)\n",
      "C:\\\\5025211148\\\\YOLOv9-Segmentation\\\\segmented_MC\\\\merged_segs_53.jpg\n",
      "ketemu\n",
      "\n",
      "\n",
      "class tensor([0., 1.], device='cuda:0')\n",
      "indices (tensor([1], device='cuda:0'),)\n",
      "C:\\\\5025211148\\\\YOLOv9-Segmentation\\\\segmented_MC\\\\merged_segs_54.jpg\n",
      "ketemu\n",
      "\n",
      "\n",
      "class tensor([0., 1.], device='cuda:0')\n",
      "indices (tensor([1], device='cuda:0'),)\n",
      "C:\\\\5025211148\\\\YOLOv9-Segmentation\\\\segmented_MC\\\\merged_segs_55.jpg\n",
      "ketemu\n",
      "\n",
      "\n",
      "class tensor([0., 1.], device='cuda:0')\n",
      "indices (tensor([1], device='cuda:0'),)\n",
      "C:\\\\5025211148\\\\YOLOv9-Segmentation\\\\segmented_MC\\\\merged_segs_56.jpg\n",
      "ketemu\n",
      "\n",
      "\n",
      "class tensor([0., 1.], device='cuda:0')\n",
      "indices (tensor([1], device='cuda:0'),)\n",
      "C:\\\\5025211148\\\\YOLOv9-Segmentation\\\\segmented_MC\\\\merged_segs_57.jpg\n",
      "ketemu\n",
      "\n",
      "\n",
      "class tensor([0., 1.], device='cuda:0')\n",
      "indices (tensor([1], device='cuda:0'),)\n",
      "C:\\\\5025211148\\\\YOLOv9-Segmentation\\\\segmented_MC\\\\merged_segs_58.jpg\n",
      "ketemu\n",
      "\n",
      "\n",
      "class tensor([0., 1.], device='cuda:0')\n",
      "indices (tensor([1], device='cuda:0'),)\n",
      "C:\\\\5025211148\\\\YOLOv9-Segmentation\\\\segmented_MC\\\\merged_segs_59.jpg\n",
      "ketemu\n",
      "\n",
      "\n",
      "class tensor([0., 1.], device='cuda:0')\n",
      "indices (tensor([1], device='cuda:0'),)\n",
      "C:\\\\5025211148\\\\YOLOv9-Segmentation\\\\segmented_MC\\\\merged_segs_60.jpg\n",
      "ketemu\n",
      "\n",
      "\n",
      "class tensor([0., 1.], device='cuda:0')\n",
      "indices (tensor([1], device='cuda:0'),)\n",
      "C:\\\\5025211148\\\\YOLOv9-Segmentation\\\\segmented_MC\\\\merged_segs_61.jpg\n",
      "ketemu\n",
      "\n",
      "\n",
      "class tensor([0., 1.], device='cuda:0')\n",
      "indices (tensor([1], device='cuda:0'),)\n",
      "C:\\\\5025211148\\\\YOLOv9-Segmentation\\\\segmented_MC\\\\merged_segs_62.jpg\n",
      "ketemu\n",
      "\n",
      "\n",
      "class tensor([0., 1.], device='cuda:0')\n",
      "indices (tensor([1], device='cuda:0'),)\n",
      "C:\\\\5025211148\\\\YOLOv9-Segmentation\\\\segmented_MC\\\\merged_segs_63.jpg\n",
      "ketemu\n",
      "\n",
      "\n",
      "class tensor([0., 1.], device='cuda:0')\n",
      "indices (tensor([1], device='cuda:0'),)\n",
      "C:\\\\5025211148\\\\YOLOv9-Segmentation\\\\segmented_MC\\\\merged_segs_64.jpg\n",
      "ketemu\n",
      "\n",
      "\n",
      "class tensor([0., 1.], device='cuda:0')\n",
      "indices (tensor([1], device='cuda:0'),)\n",
      "C:\\\\5025211148\\\\YOLOv9-Segmentation\\\\segmented_MC\\\\merged_segs_65.jpg\n",
      "ketemu\n",
      "\n",
      "\n",
      "class tensor([0., 1.], device='cuda:0')\n",
      "indices (tensor([1], device='cuda:0'),)\n",
      "C:\\\\5025211148\\\\YOLOv9-Segmentation\\\\segmented_MC\\\\merged_segs_66.jpg\n",
      "ketemu\n",
      "\n",
      "\n",
      "error index 0 is out of bounds for dimension 0 with size 0\n",
      "tidak ada mc lo..\n",
      "C:\\\\5025211148\\\\YOLOv9-Segmentation\\\\segmented_MC\\\\merged_segs_67.jpg\n",
      "class tensor([0., 1.], device='cuda:0')\n",
      "indices (tensor([1], device='cuda:0'),)\n",
      "C:\\\\5025211148\\\\YOLOv9-Segmentation\\\\segmented_MC\\\\merged_segs_68.jpg\n",
      "ketemu\n",
      "\n",
      "\n",
      "class tensor([0., 1.], device='cuda:0')\n",
      "indices (tensor([1], device='cuda:0'),)\n",
      "C:\\\\5025211148\\\\YOLOv9-Segmentation\\\\segmented_MC\\\\merged_segs_69.jpg\n",
      "ketemu\n",
      "\n",
      "\n",
      "class tensor([0., 1.], device='cuda:0')\n",
      "indices (tensor([1], device='cuda:0'),)\n",
      "C:\\\\5025211148\\\\YOLOv9-Segmentation\\\\segmented_MC\\\\merged_segs_70.jpg\n",
      "ketemu\n",
      "\n",
      "\n",
      "class tensor([0., 1.], device='cuda:0')\n",
      "indices (tensor([1], device='cuda:0'),)\n",
      "C:\\\\5025211148\\\\YOLOv9-Segmentation\\\\segmented_MC\\\\merged_segs_71.jpg\n",
      "ketemu\n",
      "\n",
      "\n",
      "class tensor([0., 1.], device='cuda:0')\n",
      "indices (tensor([1], device='cuda:0'),)\n",
      "C:\\\\5025211148\\\\YOLOv9-Segmentation\\\\segmented_MC\\\\merged_segs_72.jpg\n",
      "ketemu\n",
      "\n",
      "\n",
      "class tensor([0., 1.], device='cuda:0')\n",
      "indices (tensor([1], device='cuda:0'),)\n",
      "C:\\\\5025211148\\\\YOLOv9-Segmentation\\\\segmented_MC\\\\merged_segs_73.jpg\n",
      "ketemu\n",
      "\n",
      "\n",
      "class tensor([0., 1.], device='cuda:0')\n",
      "indices (tensor([1], device='cuda:0'),)\n",
      "C:\\\\5025211148\\\\YOLOv9-Segmentation\\\\segmented_MC\\\\merged_segs_74.jpg\n",
      "ketemu\n",
      "\n",
      "\n"
     ]
    }
   ],
   "source": [
    "import torch\n",
    "import cv2\n",
    "i = 0\n",
    "x = 101\n",
    "y = 200\n",
    "\n",
    "for result in results:\n",
    "  if(result.masks is not None):\n",
    "    # get the AB masks\n",
    "    try:\n",
    "      boxes = result.boxes.data\n",
    "      clss = boxes[:, 5]\n",
    "      AB_indices = torch.where(clss == 1)\n",
    "      AB_indices = (AB_indices[0][0].unsqueeze(0),)\n",
    "      # AB_indices = AB_indices[0][0]\n",
    "      print('class', clss)\n",
    "      print('indices', AB_indices)\n",
    "      # Convert mask to single channel image\n",
    "      mask_raw = result.masks.cpu().data[[AB_indices]].numpy().transpose(1, 2, 0)\n",
    "      # Convert single channel grayscale to 3 channel image\n",
    "      mask_3channel = cv2.merge((mask_raw,mask_raw,mask_raw))\n",
    "\n",
    "      # Get the size of the original image (height, width, channels)\n",
    "      h2, w2, c2 = result.orig_img.shape\n",
    "\n",
    "      # Resize the mask to the same size as the image (can probably be removed if image is the same size as the model)\n",
    "      mask = cv2.resize(mask_3channel, (w2, h2))\n",
    "\n",
    "      # Convert BGR to HSV\n",
    "      hsv = cv2.cvtColor(mask, cv2.COLOR_BGR2HSV)\n",
    "\n",
    "      # Define range of brightness in HSV\n",
    "      lower_black = np.array([0,0,0])\n",
    "      upper_black = np.array([0,0,1])\n",
    "\n",
    "      # Create a mask. Threshold the HSV image to get everything black\n",
    "      mask = cv2.inRange(mask, lower_black, upper_black)\n",
    "\n",
    "      # Invert the mask to get everything but black\n",
    "      mask = cv2.bitwise_not(mask)\n",
    "\n",
    "      # Apply the mask to the original image\n",
    "      masked = cv2.bitwise_and(result.orig_img, result.orig_img, mask=mask)\n",
    "\n",
    "      # Show the masked part of the image\n",
    "      # cv2.imshow(\"mask\", masked)\n",
    "      resized_mask = cv2.resize(mask, (101, 200))\n",
    "      cv2.imwrite(fr'{segmented_MC_path}\\\\merged_segs_{i}.jpg', resized_mask)\n",
    "      print(fr'{segmented_MC_path}\\\\merged_segs_{i}.jpg')\n",
    "      print('ketemu')\n",
    "    except Exception as e:\n",
    "      print('error',e)\n",
    "      width = 101\n",
    "      height = 200\n",
    "      black_image = np.zeros((height, width), dtype=np.uint8)\n",
    "      print('tidak ada mc lo..')\n",
    "      # Save the black image to a file\n",
    "      cv2.imwrite(fr'{segmented_MC_path}\\\\merged_segs_{i}.jpg', black_image)\n",
    "      print(fr'{segmented_MC_path}\\\\merged_segs_{i}.jpg')\n",
    "      i = i+1\n",
    "      continue\n",
    "  else:\n",
    "    width = 101\n",
    "    height = 200\n",
    "    black_image = np.zeros((height, width), dtype=np.uint8)\n",
    "    print('ada yang kosong lo..')\n",
    "    # Save the black image to a file\n",
    "    cv2.imwrite(fr'{segmented_MC_path}\\\\merged_segs_{i}.jpg', black_image)\n",
    "    print(fr'{segmented_MC_path}\\\\merged_segs_{i}.jpg')\n",
    "  print('\\n')\n",
    "  i = i+1"
   ]
  },
  {
   "cell_type": "code",
   "execution_count": 25,
   "metadata": {
    "colab": {
     "base_uri": "https://localhost:8080/"
    },
    "executionInfo": {
     "elapsed": 19,
     "status": "ok",
     "timestamp": 1742741629758,
     "user": {
      "displayName": "Katarina Inezita",
      "userId": "04980882031321864073"
     },
     "user_tz": -420
    },
    "id": "8T4-nVMAjavR",
    "outputId": "a9d20c9f-efeb-4311-9f31-b1e993f4051b"
   },
   "outputs": [
    {
     "name": "stdout",
     "output_type": "stream",
     "text": [
      "C:\\\\5025211148\\\\YOLOv9-Segmentation\\\\segmented_MC\\merged_segs_0.jpg\n",
      "C:\\\\5025211148\\\\YOLOv9-Segmentation\\\\segmented_MC\\merged_segs_1.jpg\n",
      "C:\\\\5025211148\\\\YOLOv9-Segmentation\\\\segmented_MC\\merged_segs_2.jpg\n",
      "C:\\\\5025211148\\\\YOLOv9-Segmentation\\\\segmented_MC\\merged_segs_3.jpg\n",
      "C:\\\\5025211148\\\\YOLOv9-Segmentation\\\\segmented_MC\\merged_segs_4.jpg\n",
      "C:\\\\5025211148\\\\YOLOv9-Segmentation\\\\segmented_MC\\merged_segs_5.jpg\n",
      "C:\\\\5025211148\\\\YOLOv9-Segmentation\\\\segmented_MC\\merged_segs_6.jpg\n",
      "C:\\\\5025211148\\\\YOLOv9-Segmentation\\\\segmented_MC\\merged_segs_7.jpg\n",
      "C:\\\\5025211148\\\\YOLOv9-Segmentation\\\\segmented_MC\\merged_segs_8.jpg\n",
      "C:\\\\5025211148\\\\YOLOv9-Segmentation\\\\segmented_MC\\merged_segs_9.jpg\n",
      "C:\\\\5025211148\\\\YOLOv9-Segmentation\\\\segmented_MC\\merged_segs_10.jpg\n",
      "C:\\\\5025211148\\\\YOLOv9-Segmentation\\\\segmented_MC\\merged_segs_11.jpg\n",
      "C:\\\\5025211148\\\\YOLOv9-Segmentation\\\\segmented_MC\\merged_segs_12.jpg\n",
      "C:\\\\5025211148\\\\YOLOv9-Segmentation\\\\segmented_MC\\merged_segs_13.jpg\n",
      "C:\\\\5025211148\\\\YOLOv9-Segmentation\\\\segmented_MC\\merged_segs_14.jpg\n",
      "C:\\\\5025211148\\\\YOLOv9-Segmentation\\\\segmented_MC\\merged_segs_15.jpg\n",
      "C:\\\\5025211148\\\\YOLOv9-Segmentation\\\\segmented_MC\\merged_segs_16.jpg\n",
      "C:\\\\5025211148\\\\YOLOv9-Segmentation\\\\segmented_MC\\merged_segs_17.jpg\n",
      "C:\\\\5025211148\\\\YOLOv9-Segmentation\\\\segmented_MC\\merged_segs_18.jpg\n",
      "C:\\\\5025211148\\\\YOLOv9-Segmentation\\\\segmented_MC\\merged_segs_19.jpg\n",
      "C:\\\\5025211148\\\\YOLOv9-Segmentation\\\\segmented_MC\\merged_segs_20.jpg\n",
      "C:\\\\5025211148\\\\YOLOv9-Segmentation\\\\segmented_MC\\merged_segs_21.jpg\n",
      "C:\\\\5025211148\\\\YOLOv9-Segmentation\\\\segmented_MC\\merged_segs_22.jpg\n",
      "C:\\\\5025211148\\\\YOLOv9-Segmentation\\\\segmented_MC\\merged_segs_23.jpg\n",
      "C:\\\\5025211148\\\\YOLOv9-Segmentation\\\\segmented_MC\\merged_segs_24.jpg\n",
      "C:\\\\5025211148\\\\YOLOv9-Segmentation\\\\segmented_MC\\merged_segs_25.jpg\n",
      "C:\\\\5025211148\\\\YOLOv9-Segmentation\\\\segmented_MC\\merged_segs_26.jpg\n",
      "C:\\\\5025211148\\\\YOLOv9-Segmentation\\\\segmented_MC\\merged_segs_27.jpg\n",
      "C:\\\\5025211148\\\\YOLOv9-Segmentation\\\\segmented_MC\\merged_segs_28.jpg\n",
      "C:\\\\5025211148\\\\YOLOv9-Segmentation\\\\segmented_MC\\merged_segs_29.jpg\n",
      "C:\\\\5025211148\\\\YOLOv9-Segmentation\\\\segmented_MC\\merged_segs_30.jpg\n",
      "C:\\\\5025211148\\\\YOLOv9-Segmentation\\\\segmented_MC\\merged_segs_31.jpg\n",
      "C:\\\\5025211148\\\\YOLOv9-Segmentation\\\\segmented_MC\\merged_segs_32.jpg\n",
      "C:\\\\5025211148\\\\YOLOv9-Segmentation\\\\segmented_MC\\merged_segs_33.jpg\n",
      "C:\\\\5025211148\\\\YOLOv9-Segmentation\\\\segmented_MC\\merged_segs_34.jpg\n",
      "C:\\\\5025211148\\\\YOLOv9-Segmentation\\\\segmented_MC\\merged_segs_35.jpg\n",
      "C:\\\\5025211148\\\\YOLOv9-Segmentation\\\\segmented_MC\\merged_segs_36.jpg\n",
      "C:\\\\5025211148\\\\YOLOv9-Segmentation\\\\segmented_MC\\merged_segs_37.jpg\n",
      "C:\\\\5025211148\\\\YOLOv9-Segmentation\\\\segmented_MC\\merged_segs_38.jpg\n",
      "C:\\\\5025211148\\\\YOLOv9-Segmentation\\\\segmented_MC\\merged_segs_39.jpg\n",
      "C:\\\\5025211148\\\\YOLOv9-Segmentation\\\\segmented_MC\\merged_segs_40.jpg\n",
      "C:\\\\5025211148\\\\YOLOv9-Segmentation\\\\segmented_MC\\merged_segs_41.jpg\n",
      "C:\\\\5025211148\\\\YOLOv9-Segmentation\\\\segmented_MC\\merged_segs_42.jpg\n",
      "C:\\\\5025211148\\\\YOLOv9-Segmentation\\\\segmented_MC\\merged_segs_43.jpg\n",
      "C:\\\\5025211148\\\\YOLOv9-Segmentation\\\\segmented_MC\\merged_segs_44.jpg\n",
      "C:\\\\5025211148\\\\YOLOv9-Segmentation\\\\segmented_MC\\merged_segs_45.jpg\n",
      "C:\\\\5025211148\\\\YOLOv9-Segmentation\\\\segmented_MC\\merged_segs_46.jpg\n",
      "C:\\\\5025211148\\\\YOLOv9-Segmentation\\\\segmented_MC\\merged_segs_47.jpg\n",
      "C:\\\\5025211148\\\\YOLOv9-Segmentation\\\\segmented_MC\\merged_segs_48.jpg\n",
      "C:\\\\5025211148\\\\YOLOv9-Segmentation\\\\segmented_MC\\merged_segs_49.jpg\n",
      "C:\\\\5025211148\\\\YOLOv9-Segmentation\\\\segmented_MC\\merged_segs_50.jpg\n",
      "C:\\\\5025211148\\\\YOLOv9-Segmentation\\\\segmented_MC\\merged_segs_51.jpg\n",
      "C:\\\\5025211148\\\\YOLOv9-Segmentation\\\\segmented_MC\\merged_segs_52.jpg\n",
      "C:\\\\5025211148\\\\YOLOv9-Segmentation\\\\segmented_MC\\merged_segs_53.jpg\n",
      "C:\\\\5025211148\\\\YOLOv9-Segmentation\\\\segmented_MC\\merged_segs_54.jpg\n",
      "C:\\\\5025211148\\\\YOLOv9-Segmentation\\\\segmented_MC\\merged_segs_55.jpg\n",
      "C:\\\\5025211148\\\\YOLOv9-Segmentation\\\\segmented_MC\\merged_segs_56.jpg\n",
      "C:\\\\5025211148\\\\YOLOv9-Segmentation\\\\segmented_MC\\merged_segs_57.jpg\n",
      "C:\\\\5025211148\\\\YOLOv9-Segmentation\\\\segmented_MC\\merged_segs_58.jpg\n",
      "C:\\\\5025211148\\\\YOLOv9-Segmentation\\\\segmented_MC\\merged_segs_59.jpg\n",
      "C:\\\\5025211148\\\\YOLOv9-Segmentation\\\\segmented_MC\\merged_segs_60.jpg\n",
      "C:\\\\5025211148\\\\YOLOv9-Segmentation\\\\segmented_MC\\merged_segs_61.jpg\n",
      "C:\\\\5025211148\\\\YOLOv9-Segmentation\\\\segmented_MC\\merged_segs_62.jpg\n",
      "C:\\\\5025211148\\\\YOLOv9-Segmentation\\\\segmented_MC\\merged_segs_63.jpg\n",
      "C:\\\\5025211148\\\\YOLOv9-Segmentation\\\\segmented_MC\\merged_segs_64.jpg\n",
      "C:\\\\5025211148\\\\YOLOv9-Segmentation\\\\segmented_MC\\merged_segs_65.jpg\n",
      "C:\\\\5025211148\\\\YOLOv9-Segmentation\\\\segmented_MC\\merged_segs_66.jpg\n",
      "C:\\\\5025211148\\\\YOLOv9-Segmentation\\\\segmented_MC\\merged_segs_67.jpg\n",
      "C:\\\\5025211148\\\\YOLOv9-Segmentation\\\\segmented_MC\\merged_segs_68.jpg\n",
      "C:\\\\5025211148\\\\YOLOv9-Segmentation\\\\segmented_MC\\merged_segs_69.jpg\n",
      "C:\\\\5025211148\\\\YOLOv9-Segmentation\\\\segmented_MC\\merged_segs_70.jpg\n",
      "C:\\\\5025211148\\\\YOLOv9-Segmentation\\\\segmented_MC\\merged_segs_71.jpg\n",
      "C:\\\\5025211148\\\\YOLOv9-Segmentation\\\\segmented_MC\\merged_segs_72.jpg\n",
      "C:\\\\5025211148\\\\YOLOv9-Segmentation\\\\segmented_MC\\merged_segs_73.jpg\n",
      "C:\\\\5025211148\\\\YOLOv9-Segmentation\\\\segmented_MC\\merged_segs_74.jpg\n"
     ]
    }
   ],
   "source": [
    "import os\n",
    "import re\n",
    "\n",
    "# specify the directory path\n",
    "directory_path = segmented_MC_path_2\n",
    "\n",
    "# create an empty list to store the filenames with directory path\n",
    "file_list_MC = []\n",
    "\n",
    "# iterate over the files in the directory\n",
    "for filename in os.listdir(directory_path):\n",
    "    # check if the item is a file\n",
    "    if os.path.isfile(os.path.join(directory_path, filename)):\n",
    "        # append the filename with directory path to the list\n",
    "        file_list_MC.append(os.path.join(directory_path, filename))\n",
    "\n",
    "def extract_number(s):\n",
    "    match = re.search(r'merged_segs_(\\d+)', s)  # Match 'merged_segs_' followed by one or more digits\n",
    "    return int(match.group(1)) if match else float('inf')\n",
    "\n",
    "file_list_MC = sorted(file_list_MC, key=extract_number)\n",
    "for filename in file_list_MC:\n",
    "    print(filename)\n",
    "# print(file_list)  # Output: sorted file_list with filenames like 'merged_segs_0', 'merged_segs_1', 'merged_segs_2', etc.\n"
   ]
  },
  {
   "cell_type": "code",
   "execution_count": 26,
   "metadata": {
    "colab": {
     "base_uri": "https://localhost:8080/"
    },
    "executionInfo": {
     "elapsed": 20,
     "status": "ok",
     "timestamp": 1742741632937,
     "user": {
      "displayName": "Katarina Inezita",
      "userId": "04980882031321864073"
     },
     "user_tz": -420
    },
    "id": "R8hcziaTjavR",
    "outputId": "b20c9d1d-3fc1-40ce-eea6-9cfb9dcaed94"
   },
   "outputs": [
    {
     "name": "stdout",
     "output_type": "stream",
     "text": [
      "(75, 200, 101)\n"
     ]
    }
   ],
   "source": [
    "import numpy as np\n",
    "from PIL import Image  # If your images are in image files\n",
    "\n",
    "# Assuming img_files is a list of file paths to the 2D images\n",
    "# img_files = ['image1.png', 'image2.png', 'image3.png']  # Replace with your actual file paths\n",
    "\n",
    "# Load the images and convert them to numpy arrays\n",
    "image_arrays = [np.array(Image.open(img_file)) for img_file in file_list_MC]\n",
    "\n",
    "# Stack the image arrays into a 3D numpy array\n",
    "stacked_images = np.stack(image_arrays, axis=0)\n",
    "\n",
    "# stacked_images is now a 3D numpy array where the first dimension represents the index of the image in the list\n",
    "\n",
    "# Example usage:\n",
    "print(stacked_images.shape)  # Output: (3, height, width, channels) assuming RGB images\n",
    "\n",
    "np.save(segmented_MC_npy, stacked_images)"
   ]
  },
  {
   "cell_type": "code",
   "execution_count": 27,
   "metadata": {
    "colab": {
     "base_uri": "https://localhost:8080/"
    },
    "executionInfo": {
     "elapsed": 342,
     "status": "ok",
     "timestamp": 1742741634988,
     "user": {
      "displayName": "Katarina Inezita",
      "userId": "04980882031321864073"
     },
     "user_tz": -420
    },
    "id": "AFGRussJjavS",
    "outputId": "09aa609b-7a77-4197-9af5-2d6cddd43d5f"
   },
   "outputs": [
    {
     "name": "stdout",
     "output_type": "stream",
     "text": [
      "Saved resized output image for slice_0_png.rf.b6a308ad17de783c210d9ceb410d76a1.jpg as C:\\\\5025211148\\\\YOLOv9-Segmentation\\\\\\\\Dataset Train Val\\\\gt-AB\\slice_0_png.rf.b6a308ad17de783c210d9ceb410d76a1_output.jpg\n",
      "Saved resized output image for slice_10_png.rf.8cfc23276c5e0a0a9c082a84937bbfa9.jpg as C:\\\\5025211148\\\\YOLOv9-Segmentation\\\\\\\\Dataset Train Val\\\\gt-AB\\slice_10_png.rf.8cfc23276c5e0a0a9c082a84937bbfa9_output.jpg\n",
      "Saved resized output image for slice_11_png.rf.2f4ba45901be13bdd4a6d27191f04632.jpg as C:\\\\5025211148\\\\YOLOv9-Segmentation\\\\\\\\Dataset Train Val\\\\gt-AB\\slice_11_png.rf.2f4ba45901be13bdd4a6d27191f04632_output.jpg\n",
      "Saved resized output image for slice_12_png.rf.e697ea8e2a874fe7e9b6625b141d770f.jpg as C:\\\\5025211148\\\\YOLOv9-Segmentation\\\\\\\\Dataset Train Val\\\\gt-AB\\slice_12_png.rf.e697ea8e2a874fe7e9b6625b141d770f_output.jpg\n",
      "Saved resized output image for slice_13_png.rf.3e77ef333ad7540a2e71c11b85729e94.jpg as C:\\\\5025211148\\\\YOLOv9-Segmentation\\\\\\\\Dataset Train Val\\\\gt-AB\\slice_13_png.rf.3e77ef333ad7540a2e71c11b85729e94_output.jpg\n",
      "Saved resized output image for slice_14_png.rf.d4246e1825c0cc584de095d27ae0ba29.jpg as C:\\\\5025211148\\\\YOLOv9-Segmentation\\\\\\\\Dataset Train Val\\\\gt-AB\\slice_14_png.rf.d4246e1825c0cc584de095d27ae0ba29_output.jpg\n",
      "Saved resized output image for slice_15_png.rf.08dca079baea99e2094955b7bca56721.jpg as C:\\\\5025211148\\\\YOLOv9-Segmentation\\\\\\\\Dataset Train Val\\\\gt-AB\\slice_15_png.rf.08dca079baea99e2094955b7bca56721_output.jpg\n",
      "Saved resized output image for slice_16_png.rf.5505cc7edadd735a4051c540ba652f82.jpg as C:\\\\5025211148\\\\YOLOv9-Segmentation\\\\\\\\Dataset Train Val\\\\gt-AB\\slice_16_png.rf.5505cc7edadd735a4051c540ba652f82_output.jpg\n",
      "Saved resized output image for slice_184_jpg.rf.fb7007d3aec48c5887b58c4b1f251982.jpg as C:\\\\5025211148\\\\YOLOv9-Segmentation\\\\\\\\Dataset Train Val\\\\gt-AB\\slice_184_jpg.rf.fb7007d3aec48c5887b58c4b1f251982_output.jpg\n",
      "Saved resized output image for slice_185_jpg.rf.c259553f5c57f7ea65f5ec81e559a32a.jpg as C:\\\\5025211148\\\\YOLOv9-Segmentation\\\\\\\\Dataset Train Val\\\\gt-AB\\slice_185_jpg.rf.c259553f5c57f7ea65f5ec81e559a32a_output.jpg\n",
      "Saved resized output image for slice_186_jpg.rf.7fea4a8ac7a43acb2f28d29a8c9e2b18.jpg as C:\\\\5025211148\\\\YOLOv9-Segmentation\\\\\\\\Dataset Train Val\\\\gt-AB\\slice_186_jpg.rf.7fea4a8ac7a43acb2f28d29a8c9e2b18_output.jpg\n",
      "Saved resized output image for slice_187_jpg.rf.9abf8d193ac601a0c952ef8160a9a2f3.jpg as C:\\\\5025211148\\\\YOLOv9-Segmentation\\\\\\\\Dataset Train Val\\\\gt-AB\\slice_187_jpg.rf.9abf8d193ac601a0c952ef8160a9a2f3_output.jpg\n",
      "Saved resized output image for slice_188_jpg.rf.5fbe759a3a7c1fde7f222c92ef628ffc.jpg as C:\\\\5025211148\\\\YOLOv9-Segmentation\\\\\\\\Dataset Train Val\\\\gt-AB\\slice_188_jpg.rf.5fbe759a3a7c1fde7f222c92ef628ffc_output.jpg\n",
      "Saved resized output image for slice_189_jpg.rf.c1670c9fd948cb7906245cbbfe3f3ed5.jpg as C:\\\\5025211148\\\\YOLOv9-Segmentation\\\\\\\\Dataset Train Val\\\\gt-AB\\slice_189_jpg.rf.c1670c9fd948cb7906245cbbfe3f3ed5_output.jpg\n",
      "Saved resized output image for slice_190_jpg.rf.ad95785b57764989b3cd348bf7ebf3df.jpg as C:\\\\5025211148\\\\YOLOv9-Segmentation\\\\\\\\Dataset Train Val\\\\gt-AB\\slice_190_jpg.rf.ad95785b57764989b3cd348bf7ebf3df_output.jpg\n",
      "Saved resized output image for slice_191_jpg.rf.0ee9ad54909660dc8183df6b1a9d936d.jpg as C:\\\\5025211148\\\\YOLOv9-Segmentation\\\\\\\\Dataset Train Val\\\\gt-AB\\slice_191_jpg.rf.0ee9ad54909660dc8183df6b1a9d936d_output.jpg\n",
      "Saved resized output image for slice_192_jpg.rf.5f98ffbe0c04578941047e31680f4ac8.jpg as C:\\\\5025211148\\\\YOLOv9-Segmentation\\\\\\\\Dataset Train Val\\\\gt-AB\\slice_192_jpg.rf.5f98ffbe0c04578941047e31680f4ac8_output.jpg\n",
      "Saved resized output image for slice_193_jpg.rf.997bde128c89a09bddde6eede7136af8.jpg as C:\\\\5025211148\\\\YOLOv9-Segmentation\\\\\\\\Dataset Train Val\\\\gt-AB\\slice_193_jpg.rf.997bde128c89a09bddde6eede7136af8_output.jpg\n",
      "Saved resized output image for slice_194_jpg.rf.510119948c76ce4b0ba77184428b99a1.jpg as C:\\\\5025211148\\\\YOLOv9-Segmentation\\\\\\\\Dataset Train Val\\\\gt-AB\\slice_194_jpg.rf.510119948c76ce4b0ba77184428b99a1_output.jpg\n",
      "Saved resized output image for slice_195_jpg.rf.4bdeee9e3f4907b631f508bcec563dc2.jpg as C:\\\\5025211148\\\\YOLOv9-Segmentation\\\\\\\\Dataset Train Val\\\\gt-AB\\slice_195_jpg.rf.4bdeee9e3f4907b631f508bcec563dc2_output.jpg\n",
      "Saved resized output image for slice_196_jpg.rf.dc89629b77d81e3226e63a87afeecfc7.jpg as C:\\\\5025211148\\\\YOLOv9-Segmentation\\\\\\\\Dataset Train Val\\\\gt-AB\\slice_196_jpg.rf.dc89629b77d81e3226e63a87afeecfc7_output.jpg\n",
      "Saved resized output image for slice_197_jpg.rf.9ce57987bde90784b202fe9e6d7c481e.jpg as C:\\\\5025211148\\\\YOLOv9-Segmentation\\\\\\\\Dataset Train Val\\\\gt-AB\\slice_197_jpg.rf.9ce57987bde90784b202fe9e6d7c481e_output.jpg\n",
      "Saved resized output image for slice_198_jpg.rf.6b58b1ba2b6b73b61ba979f22fb46caf.jpg as C:\\\\5025211148\\\\YOLOv9-Segmentation\\\\\\\\Dataset Train Val\\\\gt-AB\\slice_198_jpg.rf.6b58b1ba2b6b73b61ba979f22fb46caf_output.jpg\n",
      "Saved resized output image for slice_199_jpg.rf.26f48bd8f377db569234a70975b06f44.jpg as C:\\\\5025211148\\\\YOLOv9-Segmentation\\\\\\\\Dataset Train Val\\\\gt-AB\\slice_199_jpg.rf.26f48bd8f377db569234a70975b06f44_output.jpg\n",
      "Saved resized output image for slice_1_png.rf.813ec633aebc1e939b902b040068a91a.jpg as C:\\\\5025211148\\\\YOLOv9-Segmentation\\\\\\\\Dataset Train Val\\\\gt-AB\\slice_1_png.rf.813ec633aebc1e939b902b040068a91a_output.jpg\n",
      "Saved resized output image for slice_200_jpg.rf.7a651a02064be38cf08502236c43f762.jpg as C:\\\\5025211148\\\\YOLOv9-Segmentation\\\\\\\\Dataset Train Val\\\\gt-AB\\slice_200_jpg.rf.7a651a02064be38cf08502236c43f762_output.jpg\n",
      "Saved resized output image for slice_201_jpg.rf.405030fbbb0b7c68d0450b10c48f32b3.jpg as C:\\\\5025211148\\\\YOLOv9-Segmentation\\\\\\\\Dataset Train Val\\\\gt-AB\\slice_201_jpg.rf.405030fbbb0b7c68d0450b10c48f32b3_output.jpg\n",
      "Saved resized output image for slice_202_jpg.rf.f7e659f04a40049e6cba5239c0ca41fe.jpg as C:\\\\5025211148\\\\YOLOv9-Segmentation\\\\\\\\Dataset Train Val\\\\gt-AB\\slice_202_jpg.rf.f7e659f04a40049e6cba5239c0ca41fe_output.jpg\n",
      "Saved resized output image for slice_203_jpg.rf.e5030f4868e53e80acb8f21aef7489f9.jpg as C:\\\\5025211148\\\\YOLOv9-Segmentation\\\\\\\\Dataset Train Val\\\\gt-AB\\slice_203_jpg.rf.e5030f4868e53e80acb8f21aef7489f9_output.jpg\n",
      "Saved resized output image for slice_204_jpg.rf.379e8a1abf3842f461423e8e76141932.jpg as C:\\\\5025211148\\\\YOLOv9-Segmentation\\\\\\\\Dataset Train Val\\\\gt-AB\\slice_204_jpg.rf.379e8a1abf3842f461423e8e76141932_output.jpg\n",
      "Saved resized output image for slice_205_jpg.rf.91c7f454ebef22c3ff8ce5727bba228e.jpg as C:\\\\5025211148\\\\YOLOv9-Segmentation\\\\\\\\Dataset Train Val\\\\gt-AB\\slice_205_jpg.rf.91c7f454ebef22c3ff8ce5727bba228e_output.jpg\n",
      "Saved resized output image for slice_206_jpg.rf.5b4192b7ef82aad37ac4d99ed13e2ee2.jpg as C:\\\\5025211148\\\\YOLOv9-Segmentation\\\\\\\\Dataset Train Val\\\\gt-AB\\slice_206_jpg.rf.5b4192b7ef82aad37ac4d99ed13e2ee2_output.jpg\n",
      "Saved resized output image for slice_207_jpg.rf.6c10293c5a5cc5871fe43008a8840e3b.jpg as C:\\\\5025211148\\\\YOLOv9-Segmentation\\\\\\\\Dataset Train Val\\\\gt-AB\\slice_207_jpg.rf.6c10293c5a5cc5871fe43008a8840e3b_output.jpg\n",
      "Saved resized output image for slice_208_jpg.rf.474a2cc7da8963637f4a10d5518ef23b.jpg as C:\\\\5025211148\\\\YOLOv9-Segmentation\\\\\\\\Dataset Train Val\\\\gt-AB\\slice_208_jpg.rf.474a2cc7da8963637f4a10d5518ef23b_output.jpg\n",
      "Saved resized output image for slice_209_jpg.rf.8931044812d6e143d00fc94414dc965c.jpg as C:\\\\5025211148\\\\YOLOv9-Segmentation\\\\\\\\Dataset Train Val\\\\gt-AB\\slice_209_jpg.rf.8931044812d6e143d00fc94414dc965c_output.jpg\n",
      "Saved resized output image for slice_210_jpg.rf.2f1e8d2936842397afbbace9a9c9ace1.jpg as C:\\\\5025211148\\\\YOLOv9-Segmentation\\\\\\\\Dataset Train Val\\\\gt-AB\\slice_210_jpg.rf.2f1e8d2936842397afbbace9a9c9ace1_output.jpg\n",
      "Saved resized output image for slice_211_jpg.rf.ce50dbaa10adb29f88ba7ce96c4b28e3.jpg as C:\\\\5025211148\\\\YOLOv9-Segmentation\\\\\\\\Dataset Train Val\\\\gt-AB\\slice_211_jpg.rf.ce50dbaa10adb29f88ba7ce96c4b28e3_output.jpg\n",
      "Saved resized output image for slice_212_jpg.rf.fa999268d1357cfe3baf7f66d218858a.jpg as C:\\\\5025211148\\\\YOLOv9-Segmentation\\\\\\\\Dataset Train Val\\\\gt-AB\\slice_212_jpg.rf.fa999268d1357cfe3baf7f66d218858a_output.jpg\n",
      "Saved resized output image for slice_227_jpg.rf.47e302d51c39b996e9aa5c2457568e72.jpg as C:\\\\5025211148\\\\YOLOv9-Segmentation\\\\\\\\Dataset Train Val\\\\gt-AB\\slice_227_jpg.rf.47e302d51c39b996e9aa5c2457568e72_output.jpg\n",
      "Saved resized output image for slice_228_jpg.rf.d6fa4e941fd8ee957cb2fa40d1617dcd.jpg as C:\\\\5025211148\\\\YOLOv9-Segmentation\\\\\\\\Dataset Train Val\\\\gt-AB\\slice_228_jpg.rf.d6fa4e941fd8ee957cb2fa40d1617dcd_output.jpg\n",
      "Saved resized output image for slice_229_jpg.rf.c4406e3223457b9d82da77009e090083.jpg as C:\\\\5025211148\\\\YOLOv9-Segmentation\\\\\\\\Dataset Train Val\\\\gt-AB\\slice_229_jpg.rf.c4406e3223457b9d82da77009e090083_output.jpg\n",
      "Saved resized output image for slice_230_jpg.rf.c38851d2bc1de61efaff2c6a0c6a533b.jpg as C:\\\\5025211148\\\\YOLOv9-Segmentation\\\\\\\\Dataset Train Val\\\\gt-AB\\slice_230_jpg.rf.c38851d2bc1de61efaff2c6a0c6a533b_output.jpg\n",
      "Saved resized output image for slice_231_jpg.rf.5a943022fe92bf999159d5a80fdfaa3c.jpg as C:\\\\5025211148\\\\YOLOv9-Segmentation\\\\\\\\Dataset Train Val\\\\gt-AB\\slice_231_jpg.rf.5a943022fe92bf999159d5a80fdfaa3c_output.jpg\n",
      "Saved resized output image for slice_232_jpg.rf.36559349f65c59474e2c273ef3a1895f.jpg as C:\\\\5025211148\\\\YOLOv9-Segmentation\\\\\\\\Dataset Train Val\\\\gt-AB\\slice_232_jpg.rf.36559349f65c59474e2c273ef3a1895f_output.jpg\n",
      "Saved resized output image for slice_233_jpg.rf.21c7a2018478f98c4170d84b9d900a8b.jpg as C:\\\\5025211148\\\\YOLOv9-Segmentation\\\\\\\\Dataset Train Val\\\\gt-AB\\slice_233_jpg.rf.21c7a2018478f98c4170d84b9d900a8b_output.jpg\n",
      "Saved resized output image for slice_234_jpg.rf.8376c291224523f2379285e6739f8508.jpg as C:\\\\5025211148\\\\YOLOv9-Segmentation\\\\\\\\Dataset Train Val\\\\gt-AB\\slice_234_jpg.rf.8376c291224523f2379285e6739f8508_output.jpg\n",
      "Saved resized output image for slice_234_jpg.rf.8c97c306d89d4aea1956db536d9ae8da.jpg as C:\\\\5025211148\\\\YOLOv9-Segmentation\\\\\\\\Dataset Train Val\\\\gt-AB\\slice_234_jpg.rf.8c97c306d89d4aea1956db536d9ae8da_output.jpg\n",
      "Saved resized output image for slice_235_jpg.rf.7a0cd7f426f4c0b16065120adc6c63f0.jpg as C:\\\\5025211148\\\\YOLOv9-Segmentation\\\\\\\\Dataset Train Val\\\\gt-AB\\slice_235_jpg.rf.7a0cd7f426f4c0b16065120adc6c63f0_output.jpg\n",
      "Saved resized output image for slice_236_jpg.rf.baef61c5ff250c1d85dc3ee096660de8.jpg as C:\\\\5025211148\\\\YOLOv9-Segmentation\\\\\\\\Dataset Train Val\\\\gt-AB\\slice_236_jpg.rf.baef61c5ff250c1d85dc3ee096660de8_output.jpg\n",
      "Saved resized output image for slice_237_jpg.rf.b9610d515a5437097ad9d6ec26739bd9.jpg as C:\\\\5025211148\\\\YOLOv9-Segmentation\\\\\\\\Dataset Train Val\\\\gt-AB\\slice_237_jpg.rf.b9610d515a5437097ad9d6ec26739bd9_output.jpg\n",
      "Saved resized output image for slice_238_jpg.rf.6025395d22a4004b13a3f9b376079bb8.jpg as C:\\\\5025211148\\\\YOLOv9-Segmentation\\\\\\\\Dataset Train Val\\\\gt-AB\\slice_238_jpg.rf.6025395d22a4004b13a3f9b376079bb8_output.jpg\n",
      "Saved resized output image for slice_239_jpg.rf.b6d73c66406e62a091551a6d3ccce095.jpg as C:\\\\5025211148\\\\YOLOv9-Segmentation\\\\\\\\Dataset Train Val\\\\gt-AB\\slice_239_jpg.rf.b6d73c66406e62a091551a6d3ccce095_output.jpg\n",
      "Saved resized output image for slice_239_jpg.rf.bd8f5271a858f2a277c210f5e04a86df.jpg as C:\\\\5025211148\\\\YOLOv9-Segmentation\\\\\\\\Dataset Train Val\\\\gt-AB\\slice_239_jpg.rf.bd8f5271a858f2a277c210f5e04a86df_output.jpg\n",
      "Saved resized output image for slice_240_jpg.rf.0aa788cdb7219a189ea9e4b9a53b996a.jpg as C:\\\\5025211148\\\\YOLOv9-Segmentation\\\\\\\\Dataset Train Val\\\\gt-AB\\slice_240_jpg.rf.0aa788cdb7219a189ea9e4b9a53b996a_output.jpg\n",
      "Saved resized output image for slice_241_jpg.rf.5bb370de0c0c5a0a1298999b8269e4b4.jpg as C:\\\\5025211148\\\\YOLOv9-Segmentation\\\\\\\\Dataset Train Val\\\\gt-AB\\slice_241_jpg.rf.5bb370de0c0c5a0a1298999b8269e4b4_output.jpg\n",
      "Saved resized output image for slice_241_jpg.rf.8e99851409db29bcb7433e96215d032f.jpg as C:\\\\5025211148\\\\YOLOv9-Segmentation\\\\\\\\Dataset Train Val\\\\gt-AB\\slice_241_jpg.rf.8e99851409db29bcb7433e96215d032f_output.jpg\n",
      "Saved resized output image for slice_242_jpg.rf.04473fce5585378c912db056877ef4be.jpg as C:\\\\5025211148\\\\YOLOv9-Segmentation\\\\\\\\Dataset Train Val\\\\gt-AB\\slice_242_jpg.rf.04473fce5585378c912db056877ef4be_output.jpg\n",
      "Saved resized output image for slice_243_jpg.rf.4e282c9d623df41fb28d1181aff460f7.jpg as C:\\\\5025211148\\\\YOLOv9-Segmentation\\\\\\\\Dataset Train Val\\\\gt-AB\\slice_243_jpg.rf.4e282c9d623df41fb28d1181aff460f7_output.jpg\n",
      "Saved resized output image for slice_243_jpg.rf.ae3d135830b986a680d9ef8fbe5441f9.jpg as C:\\\\5025211148\\\\YOLOv9-Segmentation\\\\\\\\Dataset Train Val\\\\gt-AB\\slice_243_jpg.rf.ae3d135830b986a680d9ef8fbe5441f9_output.jpg\n",
      "Saved resized output image for slice_244_jpg.rf.4a9409f3b5a33b7c702d348109c89c68.jpg as C:\\\\5025211148\\\\YOLOv9-Segmentation\\\\\\\\Dataset Train Val\\\\gt-AB\\slice_244_jpg.rf.4a9409f3b5a33b7c702d348109c89c68_output.jpg\n",
      "Saved resized output image for slice_245_jpg.rf.69a1679f246e89e375a49ba7b2e03b67.jpg as C:\\\\5025211148\\\\YOLOv9-Segmentation\\\\\\\\Dataset Train Val\\\\gt-AB\\slice_245_jpg.rf.69a1679f246e89e375a49ba7b2e03b67_output.jpg\n",
      "Saved resized output image for slice_245_jpg.rf.7280f92363a1b9f4c1b74a7079335c62.jpg as C:\\\\5025211148\\\\YOLOv9-Segmentation\\\\\\\\Dataset Train Val\\\\gt-AB\\slice_245_jpg.rf.7280f92363a1b9f4c1b74a7079335c62_output.jpg\n",
      "Saved resized output image for slice_246_jpg.rf.1b3b7419434d4f2ffe8a69c66cc0eb7d.jpg as C:\\\\5025211148\\\\YOLOv9-Segmentation\\\\\\\\Dataset Train Val\\\\gt-AB\\slice_246_jpg.rf.1b3b7419434d4f2ffe8a69c66cc0eb7d_output.jpg\n",
      "Saved resized output image for slice_247_jpg.rf.0132c277c4d7f8c5c95ea3a595ba7315.jpg as C:\\\\5025211148\\\\YOLOv9-Segmentation\\\\\\\\Dataset Train Val\\\\gt-AB\\slice_247_jpg.rf.0132c277c4d7f8c5c95ea3a595ba7315_output.jpg\n",
      "Saved resized output image for slice_248_jpg.rf.fe48f8cb5097a5c105f48b585f33a07a.jpg as C:\\\\5025211148\\\\YOLOv9-Segmentation\\\\\\\\Dataset Train Val\\\\gt-AB\\slice_248_jpg.rf.fe48f8cb5097a5c105f48b585f33a07a_output.jpg\n",
      "Saved resized output image for slice_250_jpg.rf.84d15643db599a8826b8ca7b5320dfc5.jpg as C:\\\\5025211148\\\\YOLOv9-Segmentation\\\\\\\\Dataset Train Val\\\\gt-AB\\slice_250_jpg.rf.84d15643db599a8826b8ca7b5320dfc5_output.jpg\n",
      "Saved resized output image for slice_257_jpg.rf.1afa5d3faf30171b5a1ee38437f1cae5.jpg as C:\\\\5025211148\\\\YOLOv9-Segmentation\\\\\\\\Dataset Train Val\\\\gt-AB\\slice_257_jpg.rf.1afa5d3faf30171b5a1ee38437f1cae5_output.jpg\n",
      "Saved resized output image for slice_2_png.rf.773ebb3973e8d24b3610d7d5889312bf.jpg as C:\\\\5025211148\\\\YOLOv9-Segmentation\\\\\\\\Dataset Train Val\\\\gt-AB\\slice_2_png.rf.773ebb3973e8d24b3610d7d5889312bf_output.jpg\n",
      "Saved resized output image for slice_3_png.rf.2b7ac0dccdcc3241e2441dcdfe40b19a.jpg as C:\\\\5025211148\\\\YOLOv9-Segmentation\\\\\\\\Dataset Train Val\\\\gt-AB\\slice_3_png.rf.2b7ac0dccdcc3241e2441dcdfe40b19a_output.jpg\n",
      "Saved resized output image for slice_4_png.rf.ed9951865dd8c8e9c4bb357b12d90bf3.jpg as C:\\\\5025211148\\\\YOLOv9-Segmentation\\\\\\\\Dataset Train Val\\\\gt-AB\\slice_4_png.rf.ed9951865dd8c8e9c4bb357b12d90bf3_output.jpg\n",
      "Saved resized output image for slice_5_png.rf.fa534a063f0865aba05bfb1f39bf17f1.jpg as C:\\\\5025211148\\\\YOLOv9-Segmentation\\\\\\\\Dataset Train Val\\\\gt-AB\\slice_5_png.rf.fa534a063f0865aba05bfb1f39bf17f1_output.jpg\n",
      "Saved resized output image for slice_6_png.rf.69513226c67a48924c9727490a40871b.jpg as C:\\\\5025211148\\\\YOLOv9-Segmentation\\\\\\\\Dataset Train Val\\\\gt-AB\\slice_6_png.rf.69513226c67a48924c9727490a40871b_output.jpg\n",
      "Saved resized output image for slice_7_png.rf.911a9c8ba0e64b11ffd5e11ceb31250e.jpg as C:\\\\5025211148\\\\YOLOv9-Segmentation\\\\\\\\Dataset Train Val\\\\gt-AB\\slice_7_png.rf.911a9c8ba0e64b11ffd5e11ceb31250e_output.jpg\n",
      "Saved resized output image for slice_8_png.rf.08bf826fea5c4ff01a4a4d1f987b7af6.jpg as C:\\\\5025211148\\\\YOLOv9-Segmentation\\\\\\\\Dataset Train Val\\\\gt-AB\\slice_8_png.rf.08bf826fea5c4ff01a4a4d1f987b7af6_output.jpg\n",
      "Saved resized output image for slice_9_png.rf.7b263d87fcdea007b3b78938772a24a5.jpg as C:\\\\5025211148\\\\YOLOv9-Segmentation\\\\\\\\Dataset Train Val\\\\gt-AB\\slice_9_png.rf.7b263d87fcdea007b3b78938772a24a5_output.jpg\n"
     ]
    }
   ],
   "source": [
    "import os\n",
    "import cv2\n",
    "import numpy as np\n",
    "\n",
    "# Directory paths\n",
    "img_path = valid_path\n",
    "gt_path = ground_truth_path\n",
    "output_path = gt_AB_path\n",
    "\n",
    "# Ensure output directory exists\n",
    "if not os.path.exists(output_path):\n",
    "    os.makedirs(output_path)\n",
    "\n",
    "# Iterate over files in the image directory\n",
    "for img_file in os.listdir(img_path):\n",
    "    if img_file.endswith(\".jpg\") or img_file.endswith(\".png\"):  # adjust based on your image format\n",
    "        # Read the image\n",
    "        img = cv2.imread(os.path.join(img_path, img_file))\n",
    "\n",
    "        # Create a blank white image with the same dimensions as the original image\n",
    "        mask = np.ones_like(img) * 255\n",
    "\n",
    "        # Read the corresponding ground truth file\n",
    "        gt_file = os.path.splitext(img_file)[0] + \".txt\"  # assuming ground truth files have the same name as images\n",
    "        gt_file_path = os.path.join(gt_path, gt_file)\n",
    "\n",
    "        if os.path.exists(gt_file_path):\n",
    "            class_0_points = []\n",
    "            class_1_points = []\n",
    "            with open(gt_file_path, \"r\") as file:\n",
    "                lines = file.readlines()\n",
    "                for line in lines:\n",
    "                    data = line.split()\n",
    "                    class_label = int(data[0])\n",
    "                    points = [(float(data[i]), float(data[i+1])) for i in range(1, len(data), 2)]\n",
    "                    # Convert normalized coordinates to pixel coordinates\n",
    "                    img_height, img_width, _ = img.shape\n",
    "                    points = [(int(point[0] * img_width), int(point[1] * img_height)) for point in points]\n",
    "                    if class_label == 0:\n",
    "                        class_0_points.extend(points)\n",
    "                    elif class_label == 1:\n",
    "                        class_1_points.extend(points)\n",
    "\n",
    "            # Create numpy arrays of points for drawing the polygons\n",
    "            polygon_points_0 = np.array(class_0_points)\n",
    "            polygon_points_1 = np.array(class_1_points)\n",
    "\n",
    "            # Draw the filled polygons on the mask\n",
    "            if len(polygon_points_0) > 0:\n",
    "                cv2.fillPoly(mask, [polygon_points_0], color=(0, 0, 0))\n",
    "            if len(polygon_points_1) > 0:\n",
    "                cv2.fillPoly(mask, [polygon_points_1], color=(255, 255, 255))\n",
    "\n",
    "            # Resize the output image to 101x200\n",
    "            mask = 255 - mask\n",
    "            mask_resized = cv2.resize(mask, (101, 200))\n",
    "\n",
    "            # Save the output image as JPEG\n",
    "            output_file = os.path.splitext(img_file)[0] + \"_output.jpg\"\n",
    "            output_file_path = os.path.join(output_path, output_file)\n",
    "            cv2.imwrite(output_file_path, mask_resized)\n",
    "\n",
    "            print(f\"Saved resized output image for {img_file} as {output_file_path}\")\n",
    "        else:\n",
    "            print(f\"No ground truth file found for {img_file}\")\n",
    "\n",
    "# image_loader = ImageLoader(output_path)\n",
    "# gt_AB = image_loader.load_images()\n"
   ]
  },
  {
   "cell_type": "code",
   "execution_count": 28,
   "metadata": {
    "colab": {
     "base_uri": "https://localhost:8080/"
    },
    "executionInfo": {
     "elapsed": 143,
     "status": "ok",
     "timestamp": 1742741638075,
     "user": {
      "displayName": "Katarina Inezita",
      "userId": "04980882031321864073"
     },
     "user_tz": -420
    },
    "id": "hcZsoJH7javS",
    "outputId": "266b5996-e1f5-42e1-f85a-9b2cbc673898"
   },
   "outputs": [
    {
     "name": "stdout",
     "output_type": "stream",
     "text": [
      "Saved resized output image for slice_0_png.rf.b6a308ad17de783c210d9ceb410d76a1.jpg as C:\\\\5025211148\\\\YOLOv9-Segmentation\\\\Dataset Train Val\\\\gt-MC\\slice_0_png.rf.b6a308ad17de783c210d9ceb410d76a1_output.jpg\n",
      "Saved resized output image for slice_10_png.rf.8cfc23276c5e0a0a9c082a84937bbfa9.jpg as C:\\\\5025211148\\\\YOLOv9-Segmentation\\\\Dataset Train Val\\\\gt-MC\\slice_10_png.rf.8cfc23276c5e0a0a9c082a84937bbfa9_output.jpg\n",
      "Saved resized output image for slice_11_png.rf.2f4ba45901be13bdd4a6d27191f04632.jpg as C:\\\\5025211148\\\\YOLOv9-Segmentation\\\\Dataset Train Val\\\\gt-MC\\slice_11_png.rf.2f4ba45901be13bdd4a6d27191f04632_output.jpg\n",
      "Saved resized output image for slice_12_png.rf.e697ea8e2a874fe7e9b6625b141d770f.jpg as C:\\\\5025211148\\\\YOLOv9-Segmentation\\\\Dataset Train Val\\\\gt-MC\\slice_12_png.rf.e697ea8e2a874fe7e9b6625b141d770f_output.jpg\n",
      "Saved resized output image for slice_13_png.rf.3e77ef333ad7540a2e71c11b85729e94.jpg as C:\\\\5025211148\\\\YOLOv9-Segmentation\\\\Dataset Train Val\\\\gt-MC\\slice_13_png.rf.3e77ef333ad7540a2e71c11b85729e94_output.jpg\n",
      "Saved resized output image for slice_14_png.rf.d4246e1825c0cc584de095d27ae0ba29.jpg as C:\\\\5025211148\\\\YOLOv9-Segmentation\\\\Dataset Train Val\\\\gt-MC\\slice_14_png.rf.d4246e1825c0cc584de095d27ae0ba29_output.jpg\n",
      "Saved resized output image for slice_15_png.rf.08dca079baea99e2094955b7bca56721.jpg as C:\\\\5025211148\\\\YOLOv9-Segmentation\\\\Dataset Train Val\\\\gt-MC\\slice_15_png.rf.08dca079baea99e2094955b7bca56721_output.jpg\n",
      "Saved resized output image for slice_16_png.rf.5505cc7edadd735a4051c540ba652f82.jpg as C:\\\\5025211148\\\\YOLOv9-Segmentation\\\\Dataset Train Val\\\\gt-MC\\slice_16_png.rf.5505cc7edadd735a4051c540ba652f82_output.jpg\n",
      "Saved resized output image for slice_184_jpg.rf.fb7007d3aec48c5887b58c4b1f251982.jpg as C:\\\\5025211148\\\\YOLOv9-Segmentation\\\\Dataset Train Val\\\\gt-MC\\slice_184_jpg.rf.fb7007d3aec48c5887b58c4b1f251982_output.jpg\n",
      "Saved resized output image for slice_185_jpg.rf.c259553f5c57f7ea65f5ec81e559a32a.jpg as C:\\\\5025211148\\\\YOLOv9-Segmentation\\\\Dataset Train Val\\\\gt-MC\\slice_185_jpg.rf.c259553f5c57f7ea65f5ec81e559a32a_output.jpg\n",
      "Saved resized output image for slice_186_jpg.rf.7fea4a8ac7a43acb2f28d29a8c9e2b18.jpg as C:\\\\5025211148\\\\YOLOv9-Segmentation\\\\Dataset Train Val\\\\gt-MC\\slice_186_jpg.rf.7fea4a8ac7a43acb2f28d29a8c9e2b18_output.jpg\n",
      "Saved resized output image for slice_187_jpg.rf.9abf8d193ac601a0c952ef8160a9a2f3.jpg as C:\\\\5025211148\\\\YOLOv9-Segmentation\\\\Dataset Train Val\\\\gt-MC\\slice_187_jpg.rf.9abf8d193ac601a0c952ef8160a9a2f3_output.jpg\n",
      "Saved resized output image for slice_188_jpg.rf.5fbe759a3a7c1fde7f222c92ef628ffc.jpg as C:\\\\5025211148\\\\YOLOv9-Segmentation\\\\Dataset Train Val\\\\gt-MC\\slice_188_jpg.rf.5fbe759a3a7c1fde7f222c92ef628ffc_output.jpg\n",
      "Saved resized output image for slice_189_jpg.rf.c1670c9fd948cb7906245cbbfe3f3ed5.jpg as C:\\\\5025211148\\\\YOLOv9-Segmentation\\\\Dataset Train Val\\\\gt-MC\\slice_189_jpg.rf.c1670c9fd948cb7906245cbbfe3f3ed5_output.jpg\n",
      "Saved resized output image for slice_190_jpg.rf.ad95785b57764989b3cd348bf7ebf3df.jpg as C:\\\\5025211148\\\\YOLOv9-Segmentation\\\\Dataset Train Val\\\\gt-MC\\slice_190_jpg.rf.ad95785b57764989b3cd348bf7ebf3df_output.jpg\n",
      "Saved resized output image for slice_191_jpg.rf.0ee9ad54909660dc8183df6b1a9d936d.jpg as C:\\\\5025211148\\\\YOLOv9-Segmentation\\\\Dataset Train Val\\\\gt-MC\\slice_191_jpg.rf.0ee9ad54909660dc8183df6b1a9d936d_output.jpg\n",
      "Saved resized output image for slice_192_jpg.rf.5f98ffbe0c04578941047e31680f4ac8.jpg as C:\\\\5025211148\\\\YOLOv9-Segmentation\\\\Dataset Train Val\\\\gt-MC\\slice_192_jpg.rf.5f98ffbe0c04578941047e31680f4ac8_output.jpg\n",
      "Saved resized output image for slice_193_jpg.rf.997bde128c89a09bddde6eede7136af8.jpg as C:\\\\5025211148\\\\YOLOv9-Segmentation\\\\Dataset Train Val\\\\gt-MC\\slice_193_jpg.rf.997bde128c89a09bddde6eede7136af8_output.jpg\n",
      "Saved resized output image for slice_194_jpg.rf.510119948c76ce4b0ba77184428b99a1.jpg as C:\\\\5025211148\\\\YOLOv9-Segmentation\\\\Dataset Train Val\\\\gt-MC\\slice_194_jpg.rf.510119948c76ce4b0ba77184428b99a1_output.jpg\n",
      "Saved resized output image for slice_195_jpg.rf.4bdeee9e3f4907b631f508bcec563dc2.jpg as C:\\\\5025211148\\\\YOLOv9-Segmentation\\\\Dataset Train Val\\\\gt-MC\\slice_195_jpg.rf.4bdeee9e3f4907b631f508bcec563dc2_output.jpg\n",
      "Saved resized output image for slice_196_jpg.rf.dc89629b77d81e3226e63a87afeecfc7.jpg as C:\\\\5025211148\\\\YOLOv9-Segmentation\\\\Dataset Train Val\\\\gt-MC\\slice_196_jpg.rf.dc89629b77d81e3226e63a87afeecfc7_output.jpg\n",
      "Saved resized output image for slice_197_jpg.rf.9ce57987bde90784b202fe9e6d7c481e.jpg as C:\\\\5025211148\\\\YOLOv9-Segmentation\\\\Dataset Train Val\\\\gt-MC\\slice_197_jpg.rf.9ce57987bde90784b202fe9e6d7c481e_output.jpg\n",
      "Saved resized output image for slice_198_jpg.rf.6b58b1ba2b6b73b61ba979f22fb46caf.jpg as C:\\\\5025211148\\\\YOLOv9-Segmentation\\\\Dataset Train Val\\\\gt-MC\\slice_198_jpg.rf.6b58b1ba2b6b73b61ba979f22fb46caf_output.jpg\n",
      "Saved resized output image for slice_199_jpg.rf.26f48bd8f377db569234a70975b06f44.jpg as C:\\\\5025211148\\\\YOLOv9-Segmentation\\\\Dataset Train Val\\\\gt-MC\\slice_199_jpg.rf.26f48bd8f377db569234a70975b06f44_output.jpg\n",
      "Saved resized output image for slice_1_png.rf.813ec633aebc1e939b902b040068a91a.jpg as C:\\\\5025211148\\\\YOLOv9-Segmentation\\\\Dataset Train Val\\\\gt-MC\\slice_1_png.rf.813ec633aebc1e939b902b040068a91a_output.jpg\n",
      "Saved resized output image for slice_200_jpg.rf.7a651a02064be38cf08502236c43f762.jpg as C:\\\\5025211148\\\\YOLOv9-Segmentation\\\\Dataset Train Val\\\\gt-MC\\slice_200_jpg.rf.7a651a02064be38cf08502236c43f762_output.jpg\n",
      "Saved resized output image for slice_201_jpg.rf.405030fbbb0b7c68d0450b10c48f32b3.jpg as C:\\\\5025211148\\\\YOLOv9-Segmentation\\\\Dataset Train Val\\\\gt-MC\\slice_201_jpg.rf.405030fbbb0b7c68d0450b10c48f32b3_output.jpg\n",
      "Saved resized output image for slice_202_jpg.rf.f7e659f04a40049e6cba5239c0ca41fe.jpg as C:\\\\5025211148\\\\YOLOv9-Segmentation\\\\Dataset Train Val\\\\gt-MC\\slice_202_jpg.rf.f7e659f04a40049e6cba5239c0ca41fe_output.jpg\n",
      "Saved resized output image for slice_203_jpg.rf.e5030f4868e53e80acb8f21aef7489f9.jpg as C:\\\\5025211148\\\\YOLOv9-Segmentation\\\\Dataset Train Val\\\\gt-MC\\slice_203_jpg.rf.e5030f4868e53e80acb8f21aef7489f9_output.jpg\n",
      "Saved resized output image for slice_204_jpg.rf.379e8a1abf3842f461423e8e76141932.jpg as C:\\\\5025211148\\\\YOLOv9-Segmentation\\\\Dataset Train Val\\\\gt-MC\\slice_204_jpg.rf.379e8a1abf3842f461423e8e76141932_output.jpg\n",
      "Saved resized output image for slice_205_jpg.rf.91c7f454ebef22c3ff8ce5727bba228e.jpg as C:\\\\5025211148\\\\YOLOv9-Segmentation\\\\Dataset Train Val\\\\gt-MC\\slice_205_jpg.rf.91c7f454ebef22c3ff8ce5727bba228e_output.jpg\n",
      "Saved resized output image for slice_206_jpg.rf.5b4192b7ef82aad37ac4d99ed13e2ee2.jpg as C:\\\\5025211148\\\\YOLOv9-Segmentation\\\\Dataset Train Val\\\\gt-MC\\slice_206_jpg.rf.5b4192b7ef82aad37ac4d99ed13e2ee2_output.jpg\n",
      "Saved resized output image for slice_207_jpg.rf.6c10293c5a5cc5871fe43008a8840e3b.jpg as C:\\\\5025211148\\\\YOLOv9-Segmentation\\\\Dataset Train Val\\\\gt-MC\\slice_207_jpg.rf.6c10293c5a5cc5871fe43008a8840e3b_output.jpg\n",
      "Saved resized output image for slice_208_jpg.rf.474a2cc7da8963637f4a10d5518ef23b.jpg as C:\\\\5025211148\\\\YOLOv9-Segmentation\\\\Dataset Train Val\\\\gt-MC\\slice_208_jpg.rf.474a2cc7da8963637f4a10d5518ef23b_output.jpg\n",
      "Saved resized output image for slice_209_jpg.rf.8931044812d6e143d00fc94414dc965c.jpg as C:\\\\5025211148\\\\YOLOv9-Segmentation\\\\Dataset Train Val\\\\gt-MC\\slice_209_jpg.rf.8931044812d6e143d00fc94414dc965c_output.jpg\n",
      "Saved resized output image for slice_210_jpg.rf.2f1e8d2936842397afbbace9a9c9ace1.jpg as C:\\\\5025211148\\\\YOLOv9-Segmentation\\\\Dataset Train Val\\\\gt-MC\\slice_210_jpg.rf.2f1e8d2936842397afbbace9a9c9ace1_output.jpg\n",
      "Saved resized output image for slice_211_jpg.rf.ce50dbaa10adb29f88ba7ce96c4b28e3.jpg as C:\\\\5025211148\\\\YOLOv9-Segmentation\\\\Dataset Train Val\\\\gt-MC\\slice_211_jpg.rf.ce50dbaa10adb29f88ba7ce96c4b28e3_output.jpg\n",
      "Saved resized output image for slice_212_jpg.rf.fa999268d1357cfe3baf7f66d218858a.jpg as C:\\\\5025211148\\\\YOLOv9-Segmentation\\\\Dataset Train Val\\\\gt-MC\\slice_212_jpg.rf.fa999268d1357cfe3baf7f66d218858a_output.jpg\n",
      "Saved resized output image for slice_227_jpg.rf.47e302d51c39b996e9aa5c2457568e72.jpg as C:\\\\5025211148\\\\YOLOv9-Segmentation\\\\Dataset Train Val\\\\gt-MC\\slice_227_jpg.rf.47e302d51c39b996e9aa5c2457568e72_output.jpg\n",
      "Saved resized output image for slice_228_jpg.rf.d6fa4e941fd8ee957cb2fa40d1617dcd.jpg as C:\\\\5025211148\\\\YOLOv9-Segmentation\\\\Dataset Train Val\\\\gt-MC\\slice_228_jpg.rf.d6fa4e941fd8ee957cb2fa40d1617dcd_output.jpg\n",
      "Saved resized output image for slice_229_jpg.rf.c4406e3223457b9d82da77009e090083.jpg as C:\\\\5025211148\\\\YOLOv9-Segmentation\\\\Dataset Train Val\\\\gt-MC\\slice_229_jpg.rf.c4406e3223457b9d82da77009e090083_output.jpg\n",
      "Saved resized output image for slice_230_jpg.rf.c38851d2bc1de61efaff2c6a0c6a533b.jpg as C:\\\\5025211148\\\\YOLOv9-Segmentation\\\\Dataset Train Val\\\\gt-MC\\slice_230_jpg.rf.c38851d2bc1de61efaff2c6a0c6a533b_output.jpg\n",
      "Saved resized output image for slice_231_jpg.rf.5a943022fe92bf999159d5a80fdfaa3c.jpg as C:\\\\5025211148\\\\YOLOv9-Segmentation\\\\Dataset Train Val\\\\gt-MC\\slice_231_jpg.rf.5a943022fe92bf999159d5a80fdfaa3c_output.jpg\n",
      "Saved resized output image for slice_232_jpg.rf.36559349f65c59474e2c273ef3a1895f.jpg as C:\\\\5025211148\\\\YOLOv9-Segmentation\\\\Dataset Train Val\\\\gt-MC\\slice_232_jpg.rf.36559349f65c59474e2c273ef3a1895f_output.jpg\n",
      "Saved resized output image for slice_233_jpg.rf.21c7a2018478f98c4170d84b9d900a8b.jpg as C:\\\\5025211148\\\\YOLOv9-Segmentation\\\\Dataset Train Val\\\\gt-MC\\slice_233_jpg.rf.21c7a2018478f98c4170d84b9d900a8b_output.jpg\n",
      "Saved resized output image for slice_234_jpg.rf.8376c291224523f2379285e6739f8508.jpg as C:\\\\5025211148\\\\YOLOv9-Segmentation\\\\Dataset Train Val\\\\gt-MC\\slice_234_jpg.rf.8376c291224523f2379285e6739f8508_output.jpg\n",
      "Saved resized output image for slice_234_jpg.rf.8c97c306d89d4aea1956db536d9ae8da.jpg as C:\\\\5025211148\\\\YOLOv9-Segmentation\\\\Dataset Train Val\\\\gt-MC\\slice_234_jpg.rf.8c97c306d89d4aea1956db536d9ae8da_output.jpg\n",
      "Saved resized output image for slice_235_jpg.rf.7a0cd7f426f4c0b16065120adc6c63f0.jpg as C:\\\\5025211148\\\\YOLOv9-Segmentation\\\\Dataset Train Val\\\\gt-MC\\slice_235_jpg.rf.7a0cd7f426f4c0b16065120adc6c63f0_output.jpg\n",
      "Saved resized output image for slice_236_jpg.rf.baef61c5ff250c1d85dc3ee096660de8.jpg as C:\\\\5025211148\\\\YOLOv9-Segmentation\\\\Dataset Train Val\\\\gt-MC\\slice_236_jpg.rf.baef61c5ff250c1d85dc3ee096660de8_output.jpg\n",
      "Saved resized output image for slice_237_jpg.rf.b9610d515a5437097ad9d6ec26739bd9.jpg as C:\\\\5025211148\\\\YOLOv9-Segmentation\\\\Dataset Train Val\\\\gt-MC\\slice_237_jpg.rf.b9610d515a5437097ad9d6ec26739bd9_output.jpg\n",
      "Saved resized output image for slice_238_jpg.rf.6025395d22a4004b13a3f9b376079bb8.jpg as C:\\\\5025211148\\\\YOLOv9-Segmentation\\\\Dataset Train Val\\\\gt-MC\\slice_238_jpg.rf.6025395d22a4004b13a3f9b376079bb8_output.jpg\n",
      "Saved resized output image for slice_239_jpg.rf.b6d73c66406e62a091551a6d3ccce095.jpg as C:\\\\5025211148\\\\YOLOv9-Segmentation\\\\Dataset Train Val\\\\gt-MC\\slice_239_jpg.rf.b6d73c66406e62a091551a6d3ccce095_output.jpg\n",
      "Saved resized output image for slice_239_jpg.rf.bd8f5271a858f2a277c210f5e04a86df.jpg as C:\\\\5025211148\\\\YOLOv9-Segmentation\\\\Dataset Train Val\\\\gt-MC\\slice_239_jpg.rf.bd8f5271a858f2a277c210f5e04a86df_output.jpg\n",
      "Saved resized output image for slice_240_jpg.rf.0aa788cdb7219a189ea9e4b9a53b996a.jpg as C:\\\\5025211148\\\\YOLOv9-Segmentation\\\\Dataset Train Val\\\\gt-MC\\slice_240_jpg.rf.0aa788cdb7219a189ea9e4b9a53b996a_output.jpg\n",
      "Saved resized output image for slice_241_jpg.rf.5bb370de0c0c5a0a1298999b8269e4b4.jpg as C:\\\\5025211148\\\\YOLOv9-Segmentation\\\\Dataset Train Val\\\\gt-MC\\slice_241_jpg.rf.5bb370de0c0c5a0a1298999b8269e4b4_output.jpg\n",
      "Saved resized output image for slice_241_jpg.rf.8e99851409db29bcb7433e96215d032f.jpg as C:\\\\5025211148\\\\YOLOv9-Segmentation\\\\Dataset Train Val\\\\gt-MC\\slice_241_jpg.rf.8e99851409db29bcb7433e96215d032f_output.jpg\n",
      "Saved resized output image for slice_242_jpg.rf.04473fce5585378c912db056877ef4be.jpg as C:\\\\5025211148\\\\YOLOv9-Segmentation\\\\Dataset Train Val\\\\gt-MC\\slice_242_jpg.rf.04473fce5585378c912db056877ef4be_output.jpg\n",
      "Saved resized output image for slice_243_jpg.rf.4e282c9d623df41fb28d1181aff460f7.jpg as C:\\\\5025211148\\\\YOLOv9-Segmentation\\\\Dataset Train Val\\\\gt-MC\\slice_243_jpg.rf.4e282c9d623df41fb28d1181aff460f7_output.jpg\n",
      "Saved resized output image for slice_243_jpg.rf.ae3d135830b986a680d9ef8fbe5441f9.jpg as C:\\\\5025211148\\\\YOLOv9-Segmentation\\\\Dataset Train Val\\\\gt-MC\\slice_243_jpg.rf.ae3d135830b986a680d9ef8fbe5441f9_output.jpg\n",
      "Saved resized output image for slice_244_jpg.rf.4a9409f3b5a33b7c702d348109c89c68.jpg as C:\\\\5025211148\\\\YOLOv9-Segmentation\\\\Dataset Train Val\\\\gt-MC\\slice_244_jpg.rf.4a9409f3b5a33b7c702d348109c89c68_output.jpg\n",
      "Saved resized output image for slice_245_jpg.rf.69a1679f246e89e375a49ba7b2e03b67.jpg as C:\\\\5025211148\\\\YOLOv9-Segmentation\\\\Dataset Train Val\\\\gt-MC\\slice_245_jpg.rf.69a1679f246e89e375a49ba7b2e03b67_output.jpg\n",
      "Saved resized output image for slice_245_jpg.rf.7280f92363a1b9f4c1b74a7079335c62.jpg as C:\\\\5025211148\\\\YOLOv9-Segmentation\\\\Dataset Train Val\\\\gt-MC\\slice_245_jpg.rf.7280f92363a1b9f4c1b74a7079335c62_output.jpg\n",
      "Saved resized output image for slice_246_jpg.rf.1b3b7419434d4f2ffe8a69c66cc0eb7d.jpg as C:\\\\5025211148\\\\YOLOv9-Segmentation\\\\Dataset Train Val\\\\gt-MC\\slice_246_jpg.rf.1b3b7419434d4f2ffe8a69c66cc0eb7d_output.jpg\n",
      "Saved resized output image for slice_247_jpg.rf.0132c277c4d7f8c5c95ea3a595ba7315.jpg as C:\\\\5025211148\\\\YOLOv9-Segmentation\\\\Dataset Train Val\\\\gt-MC\\slice_247_jpg.rf.0132c277c4d7f8c5c95ea3a595ba7315_output.jpg\n",
      "Saved resized output image for slice_248_jpg.rf.fe48f8cb5097a5c105f48b585f33a07a.jpg as C:\\\\5025211148\\\\YOLOv9-Segmentation\\\\Dataset Train Val\\\\gt-MC\\slice_248_jpg.rf.fe48f8cb5097a5c105f48b585f33a07a_output.jpg\n",
      "Saved resized output image for slice_250_jpg.rf.84d15643db599a8826b8ca7b5320dfc5.jpg as C:\\\\5025211148\\\\YOLOv9-Segmentation\\\\Dataset Train Val\\\\gt-MC\\slice_250_jpg.rf.84d15643db599a8826b8ca7b5320dfc5_output.jpg\n",
      "Saved resized output image for slice_257_jpg.rf.1afa5d3faf30171b5a1ee38437f1cae5.jpg as C:\\\\5025211148\\\\YOLOv9-Segmentation\\\\Dataset Train Val\\\\gt-MC\\slice_257_jpg.rf.1afa5d3faf30171b5a1ee38437f1cae5_output.jpg\n",
      "Saved resized output image for slice_2_png.rf.773ebb3973e8d24b3610d7d5889312bf.jpg as C:\\\\5025211148\\\\YOLOv9-Segmentation\\\\Dataset Train Val\\\\gt-MC\\slice_2_png.rf.773ebb3973e8d24b3610d7d5889312bf_output.jpg\n",
      "Saved resized output image for slice_3_png.rf.2b7ac0dccdcc3241e2441dcdfe40b19a.jpg as C:\\\\5025211148\\\\YOLOv9-Segmentation\\\\Dataset Train Val\\\\gt-MC\\slice_3_png.rf.2b7ac0dccdcc3241e2441dcdfe40b19a_output.jpg\n",
      "Saved resized output image for slice_4_png.rf.ed9951865dd8c8e9c4bb357b12d90bf3.jpg as C:\\\\5025211148\\\\YOLOv9-Segmentation\\\\Dataset Train Val\\\\gt-MC\\slice_4_png.rf.ed9951865dd8c8e9c4bb357b12d90bf3_output.jpg\n",
      "Saved resized output image for slice_5_png.rf.fa534a063f0865aba05bfb1f39bf17f1.jpg as C:\\\\5025211148\\\\YOLOv9-Segmentation\\\\Dataset Train Val\\\\gt-MC\\slice_5_png.rf.fa534a063f0865aba05bfb1f39bf17f1_output.jpg\n",
      "Saved resized output image for slice_6_png.rf.69513226c67a48924c9727490a40871b.jpg as C:\\\\5025211148\\\\YOLOv9-Segmentation\\\\Dataset Train Val\\\\gt-MC\\slice_6_png.rf.69513226c67a48924c9727490a40871b_output.jpg\n",
      "Saved resized output image for slice_7_png.rf.911a9c8ba0e64b11ffd5e11ceb31250e.jpg as C:\\\\5025211148\\\\YOLOv9-Segmentation\\\\Dataset Train Val\\\\gt-MC\\slice_7_png.rf.911a9c8ba0e64b11ffd5e11ceb31250e_output.jpg\n",
      "Saved resized output image for slice_8_png.rf.08bf826fea5c4ff01a4a4d1f987b7af6.jpg as C:\\\\5025211148\\\\YOLOv9-Segmentation\\\\Dataset Train Val\\\\gt-MC\\slice_8_png.rf.08bf826fea5c4ff01a4a4d1f987b7af6_output.jpg\n",
      "Saved resized output image for slice_9_png.rf.7b263d87fcdea007b3b78938772a24a5.jpg as C:\\\\5025211148\\\\YOLOv9-Segmentation\\\\Dataset Train Val\\\\gt-MC\\slice_9_png.rf.7b263d87fcdea007b3b78938772a24a5_output.jpg\n"
     ]
    }
   ],
   "source": [
    "import os\n",
    "import cv2\n",
    "import numpy as np\n",
    "\n",
    "# Directory paths\n",
    "img_path = valid_path\n",
    "gt_path = ground_truth_path\n",
    "output_path = gt_MC_path\n",
    "\n",
    "# Ensure output directory exists\n",
    "if not os.path.exists(output_path):\n",
    "    os.makedirs(output_path)\n",
    "\n",
    "# Iterate over files in the image directory\n",
    "for img_file in os.listdir(img_path):\n",
    "    if img_file.endswith(\".jpg\") or img_file.endswith(\".png\"):  # adjust based on your image format\n",
    "        # Read the image\n",
    "        img = cv2.imread(os.path.join(img_path, img_file))\n",
    "\n",
    "        # Create a blank white image with the same dimensions as the original image\n",
    "        mask = np.ones_like(img) * 255\n",
    "\n",
    "        # Read the corresponding ground truth file\n",
    "        gt_file = os.path.splitext(img_file)[0] + \".txt\"  # assuming ground truth files have the same name as images\n",
    "        gt_file_path = os.path.join(gt_path, gt_file)\n",
    "\n",
    "        if os.path.exists(gt_file_path):\n",
    "            class_0_points = []\n",
    "            with open(gt_file_path, \"r\") as file:\n",
    "                lines = file.readlines()\n",
    "                for line in lines:\n",
    "                    data = line.split()\n",
    "                    class_label = int(data[0])\n",
    "                    if class_label == 1:\n",
    "                        points = [(float(data[i]), float(data[i+1])) for i in range(1, len(data), 2)]\n",
    "                        # Convert normalized coordinates to pixel coordinates\n",
    "                        img_height, img_width, _ = img.shape\n",
    "                        points = [(int(point[0] * img_width), int(point[1] * img_height)) for point in points]\n",
    "                        class_0_points.extend(points)\n",
    "\n",
    "            # Create a numpy array of points for drawing the polygon\n",
    "            polygon_points = np.array(class_0_points)\n",
    "\n",
    "            # Draw the filled polygon on the mask\n",
    "            if len(polygon_points) > 0:\n",
    "                cv2.fillPoly(mask, [polygon_points], color=(0, 0, 0))\n",
    "\n",
    "            # Resize the output image to 101x200\n",
    "            mask = 255 - mask\n",
    "            mask_resized = cv2.resize(mask, (101, 200))\n",
    "\n",
    "            # Save the output image as JPEG\n",
    "            output_file = os.path.splitext(img_file)[0] + \"_output.jpg\"\n",
    "            output_file_path = os.path.join(output_path, output_file)\n",
    "            cv2.imwrite(output_file_path, mask_resized)\n",
    "\n",
    "            print(f\"Saved resized output image for {img_file} as {output_file_path}\")\n",
    "        else:\n",
    "            print(f\"No ground truth file found for {img_file}\")\n",
    "\n",
    "# image_loader = ImageLoader(output_path)\n",
    "# gt_MC = image_loader.load_images()"
   ]
  },
  {
   "cell_type": "code",
   "execution_count": 29,
   "metadata": {
    "executionInfo": {
     "elapsed": 2,
     "status": "ok",
     "timestamp": 1742741641629,
     "user": {
      "displayName": "Katarina Inezita",
      "userId": "04980882031321864073"
     },
     "user_tz": -420
    },
    "id": "BLNENJWSjavT"
   },
   "outputs": [],
   "source": [
    "import os\n",
    "import cv2\n",
    "import numpy as np\n",
    "import re\n",
    "\n",
    "def read_images_as_binary_sorted(path, threshold=127):\n",
    "    image_list = []\n",
    "\n",
    "    # Get all files in the folder\n",
    "    files = os.listdir(path)\n",
    "\n",
    "    # Sort files based on filenames\n",
    "    sorted_files = sorted(files, key=sort_key)\n",
    "\n",
    "    # Iterate over sorted files\n",
    "    for file_name in sorted_files:\n",
    "        # Check if the file is an image (you can adjust the condition based on your image formats)\n",
    "        if file_name.endswith(\".jpg\") or file_name.endswith(\".png\"):\n",
    "            # Read the image in grayscale\n",
    "            image_path = os.path.join(path, file_name)\n",
    "            image = cv2.imread(image_path, cv2.IMREAD_GRAYSCALE)\n",
    "\n",
    "            if image is not None:\n",
    "                # Apply thresholding to convert grayscale to binary image\n",
    "                _, binary_image = cv2.threshold(image, threshold, 1, cv2.THRESH_BINARY)\n",
    "                image_list.append(binary_image)\n",
    "                # unique_values, counts = np.unique(binary_image, return_counts=True)\n",
    "                # for value, count in zip(unique_values, counts):\n",
    "                    # print(f\"{value}: {count}\")\n",
    "\n",
    "    # Convert the list of images to a numpy array\n",
    "    image_array = np.array(image_list)\n",
    "    return image_array\n",
    "\n",
    "def sort_key(file_name):\n",
    "    parts = re.split(r'(\\d+)', file_name)\n",
    "    parts[1::2] = map(int, parts[1::2])  # Convert numeric parts to integers\n",
    "    return parts\n",
    "\n",
    "# Example usage:\n",
    "# sorted_images = read_images_as_grayscale_sorted(\"/path/to/images\")\n"
   ]
  },
  {
   "cell_type": "code",
   "execution_count": 30,
   "metadata": {
    "colab": {
     "base_uri": "https://localhost:8080/"
    },
    "executionInfo": {
     "elapsed": 7,
     "status": "ok",
     "timestamp": 1742741650129,
     "user": {
      "displayName": "Katarina Inezita",
      "userId": "04980882031321864073"
     },
     "user_tz": -420
    },
    "id": "8IrUrp_CjavU",
    "outputId": "fe5ba981-3a9c-491f-d655-a446b08dfae4"
   },
   "outputs": [
    {
     "name": "stdout",
     "output_type": "stream",
     "text": [
      "Shape of images array: (75, 200, 101)\n"
     ]
    }
   ],
   "source": [
    "# Example usage:\n",
    "path_to_images = gt_AB_path\n",
    "gt_AB = read_images_as_binary_sorted(path_to_images)\n",
    "print(\"Shape of images array:\", gt_AB.shape)"
   ]
  },
  {
   "cell_type": "code",
   "execution_count": 31,
   "metadata": {
    "colab": {
     "base_uri": "https://localhost:8080/"
    },
    "executionInfo": {
     "elapsed": 53,
     "status": "ok",
     "timestamp": 1742741651100,
     "user": {
      "displayName": "Katarina Inezita",
      "userId": "04980882031321864073"
     },
     "user_tz": -420
    },
    "id": "BEZBVEC2javV",
    "outputId": "983c1188-bc81-4294-e412-93ef832dcfc5"
   },
   "outputs": [
    {
     "name": "stdout",
     "output_type": "stream",
     "text": [
      "Shape of images array: (75, 200, 101)\n"
     ]
    }
   ],
   "source": [
    "\n",
    "# Example usage:\n",
    "path_to_images = gt_MC_path\n",
    "gt_MC = read_images_as_binary_sorted(path_to_images)\n",
    "print(\"Shape of images array:\", gt_MC.shape)"
   ]
  },
  {
   "cell_type": "code",
   "execution_count": 32,
   "metadata": {
    "colab": {
     "base_uri": "https://localhost:8080/"
    },
    "executionInfo": {
     "elapsed": 17,
     "status": "ok",
     "timestamp": 1742741652664,
     "user": {
      "displayName": "Katarina Inezita",
      "userId": "04980882031321864073"
     },
     "user_tz": -420
    },
    "id": "0PHaLa92javX",
    "outputId": "288660a9-a656-4d1c-f296-c0f872a64591"
   },
   "outputs": [
    {
     "name": "stdout",
     "output_type": "stream",
     "text": [
      "Shape of images array: (75, 200, 101)\n"
     ]
    }
   ],
   "source": [
    "\n",
    "# Example usage:\n",
    "path_to_images = segmented_AB_path\n",
    "segmented_AB = read_images_as_binary_sorted(path_to_images)\n",
    "print(\"Shape of images array:\", segmented_AB.shape)"
   ]
  },
  {
   "cell_type": "code",
   "execution_count": 33,
   "metadata": {
    "colab": {
     "base_uri": "https://localhost:8080/"
    },
    "executionInfo": {
     "elapsed": 12,
     "status": "ok",
     "timestamp": 1742741653435,
     "user": {
      "displayName": "Katarina Inezita",
      "userId": "04980882031321864073"
     },
     "user_tz": -420
    },
    "id": "k-uKv2AejavY",
    "outputId": "2c1a3b07-0ef2-4c03-9c5f-d35beef0480f"
   },
   "outputs": [
    {
     "name": "stdout",
     "output_type": "stream",
     "text": [
      "Shape of images array: (75, 200, 101)\n"
     ]
    }
   ],
   "source": [
    "\n",
    "# Example usage:\n",
    "path_to_images = segmented_MC_path\n",
    "segmented_MC = read_images_as_binary_sorted(path_to_images)\n",
    "print(\"Shape of images array:\", segmented_MC.shape)"
   ]
  },
  {
   "cell_type": "code",
   "execution_count": 34,
   "metadata": {
    "executionInfo": {
     "elapsed": 102,
     "status": "ok",
     "timestamp": 1742741655048,
     "user": {
      "displayName": "Katarina Inezita",
      "userId": "04980882031321864073"
     },
     "user_tz": -420
    },
    "id": "H6BJYaGAjavZ"
   },
   "outputs": [],
   "source": [
    "import numpy as np\n",
    "from sklearn.metrics import confusion_matrix\n",
    "\n",
    "\n",
    "def calculate_iou(gt, pred):\n",
    "    unique_gt = np.unique(gt)\n",
    "    unique_pred = np.unique(pred)\n",
    "\n",
    "    # If both gt and pred contain only one unique value and they are equal,\n",
    "    # then IoU is 1\n",
    "    if len(unique_gt) == len(unique_pred) == 1 and unique_gt[0] == unique_pred[0]:\n",
    "        return 1.0\n",
    "\n",
    "    # print(gt.shape)\n",
    "    cm = confusion_matrix(gt.flatten(), pred.flatten())\n",
    "    # unique_values, counts = np.unique(gt, return_counts=True)\n",
    "    # for value, count in zip(unique_values, counts):\n",
    "    #    print(f\"{value}: {count}\")\n",
    "    # print(cm)\n",
    "    intersection = np.diag(cm) #TN dan TP\n",
    "    union = np.sum(cm, axis=0) + np.sum(cm, axis=1) - intersection\n",
    "    # print(np.sum(cm, axis=0))\n",
    "    # print(np.sum(cm, axis=1))\n",
    "    # print(intersection)\n",
    "    # iou = np.mean((intersection + 1e-10) / (union + 1e-10))\n",
    "    # only calculate the iou for AB or MC thats why we use index [1] in intersection\n",
    "    iou = (intersection[1] + 1e-10) / (union[1] + 1e-10)\n",
    "    return iou\n",
    "\n",
    "def calculate_dice_score(gt, pred):\n",
    "    unique_gt = np.unique(gt)\n",
    "    unique_pred = np.unique(pred)\n",
    "\n",
    "    # If both gt and pred contain only one unique value and they are equal,\n",
    "    # then IoU is 1\n",
    "    if len(unique_gt) == len(unique_pred) == 1 and unique_gt[0] == unique_pred[0]:\n",
    "        return 1.0\n",
    "    cm = confusion_matrix(gt.flatten(), pred.flatten())\n",
    "    intersection = np.diag(cm)\n",
    "    union_dice = np.sum(cm, axis=0) + np.sum(cm, axis=1)\n",
    "    # dice_score = np.mean(2 * (intersection + 1e-10) / (union_dice + 1e-10))\n",
    "    dice_score = 2 * (intersection[1] + 1e-10) / (union_dice[1] + 1e-10)\n",
    "    return dice_score\n",
    "\n",
    "def calculate_average_iou_and_dice(gt_images, pred_images):\n",
    "    num_images = gt_images.shape[0]\n",
    "    iou_scores = []\n",
    "    dice_scores = []\n",
    "\n",
    "    for i in range(num_images):\n",
    "        gt_image = gt_images[i]\n",
    "        pred_image = pred_images[i]\n",
    "        iou = calculate_iou(gt_image, pred_image)\n",
    "        dice = calculate_dice_score(gt_image, pred_image)\n",
    "        print(i,\"iou:\",iou)\n",
    "        print(i,\"dice:\",dice)\n",
    "        iou_scores.append(iou)\n",
    "        dice_scores.append(dice)\n",
    "\n",
    "    avg_iou = np.nanmean(iou_scores)  # Use np.nanmean to handle NaN values\n",
    "    avg_dice = np.nanmean(dice_scores)  # Use np.nanmean to handle NaN values\n",
    "    return avg_iou, avg_dice\n",
    "\n",
    "# Example usage:\n",
    "# gt_images and pred_images are numpy arrays containing grayscale images\n",
    "# Each array should have shape (num_images, height, width)\n"
   ]
  },
  {
   "cell_type": "code",
   "execution_count": 35,
   "metadata": {
    "colab": {
     "base_uri": "https://localhost:8080/"
    },
    "executionInfo": {
     "elapsed": 385,
     "status": "ok",
     "timestamp": 1742741657790,
     "user": {
      "displayName": "Katarina Inezita",
      "userId": "04980882031321864073"
     },
     "user_tz": -420
    },
    "id": "AVyhaXWhjavZ",
    "outputId": "58d1e1a1-4895-4e94-eec7-72a2b92a5c27"
   },
   "outputs": [
    {
     "name": "stdout",
     "output_type": "stream",
     "text": [
      "0 iou: 0.928682977615827\n",
      "0 dice: 0.9630229419703243\n",
      "1 iou: 0.911803192881447\n",
      "1 dice: 0.9538672142368384\n",
      "2 iou: 0.9329992086520724\n",
      "2 dice: 0.9653384279476124\n",
      "3 iou: 0.9400739176346373\n",
      "3 dice: 0.9691114437338554\n",
      "4 iou: 0.9440083725798026\n",
      "4 dice: 0.9711978465679816\n",
      "5 iou: 0.9349909349909367\n",
      "5 dice: 0.9664034265828007\n",
      "6 iou: 0.945520268525692\n",
      "6 dice: 0.9719973457199871\n",
      "7 iou: 0.9631788079470208\n",
      "7 dice: 0.9812440966131564\n",
      "8 iou: 0.9605678233438496\n",
      "8 dice: 0.979887369267914\n",
      "9 iou: 0.9269348268839123\n",
      "9 dice: 0.9620821773021673\n",
      "10 iou: 0.9520800421274368\n",
      "10 dice: 0.9754518478554225\n",
      "11 iou: 0.9393071112268836\n",
      "11 dice: 0.9687038280725457\n",
      "12 iou: 0.9437761506276166\n",
      "12 dice: 0.9710749360958029\n",
      "13 iou: 0.9319480519480537\n",
      "13 dice: 0.9647754772788523\n",
      "14 iou: 0.9447556008146654\n",
      "14 dice: 0.9715931404634249\n",
      "15 iou: 0.9397099974561196\n",
      "15 dice: 0.9689180327868988\n",
      "16 iou: 0.9452610238215928\n",
      "16 dice: 0.9718603439291431\n",
      "17 iou: 0.8754764930114398\n",
      "17 dice: 0.9336043360433786\n",
      "18 iou: 0.8817480719794383\n",
      "18 dice: 0.9371584699453733\n",
      "19 iou: 0.8982432880344747\n",
      "19 dice: 0.9463942727431649\n",
      "20 iou: 0.9359972908906219\n",
      "20 dice: 0.9669407031660142\n",
      "21 iou: 0.939342595730263\n",
      "21 dice: 0.9687226978857423\n",
      "22 iou: 0.9448739495798338\n",
      "22 dice: 0.9716557207051681\n",
      "23 iou: 0.9467475564543327\n",
      "23 dice: 0.9726454293628987\n",
      "24 iou: 0.9356783919598012\n",
      "24 dice: 0.9667705088266015\n",
      "25 iou: 0.9533087000335925\n",
      "25 dice: 0.9760963026655378\n",
      "26 iou: 0.9157303370786545\n",
      "26 dice: 0.9560117302052966\n",
      "27 iou: 0.9604863221884512\n",
      "27 dice: 0.9798449612403276\n",
      "28 iou: 0.9508032128514072\n",
      "28 dice: 0.9747812660833938\n",
      "29 iou: 0.9447997307303957\n",
      "29 dice: 0.9716164762893913\n",
      "30 iou: 0.949006622516558\n",
      "30 dice: 0.973836221542661\n",
      "31 iou: 0.9476317545030037\n",
      "31 dice: 0.9731118342182057\n",
      "32 iou: 0.9454126931930305\n",
      "32 dice: 0.9719405003380837\n",
      "33 iou: 0.943482522051619\n",
      "33 dice: 0.9709194822659444\n",
      "34 iou: 0.9458661417322852\n",
      "34 dice: 0.9721800708143825\n",
      "35 iou: 0.9592105263157908\n",
      "35 dice: 0.979180658159856\n",
      "36 iou: 0.9255181347150283\n",
      "36 dice: 0.9613185334678951\n",
      "37 iou: 0.9519324455992221\n",
      "37 dice: 0.9753743760399505\n",
      "38 iou: 0.955863402061857\n",
      "38 dice: 0.9774337012024547\n",
      "39 iou: 0.9366355741395967\n",
      "39 dice: 0.9672811825278365\n",
      "40 iou: 0.9469648562300337\n",
      "40 dice: 0.9727600918936827\n",
      "41 iou: 0.9489281210592702\n",
      "41 dice: 0.9737948883856523\n",
      "42 iou: 0.9500000000000015\n",
      "42 dice: 0.9743589743589907\n",
      "43 iou: 0.9512812401138896\n",
      "43 dice: 0.9750324254215471\n",
      "44 iou: 0.9427672955974861\n",
      "44 dice: 0.9705406280349794\n",
      "45 iou: 0.9587791063562001\n",
      "45 dice: 0.9789558232931891\n",
      "46 iou: 0.9080357142857184\n",
      "46 dice: 0.9518015910154668\n",
      "47 iou: 0.928343222272938\n",
      "47 dice: 0.962840236686415\n",
      "48 iou: 0.9262371615312827\n",
      "48 dice: 0.9617062530295938\n",
      "49 iou: 0.92107664233577\n",
      "49 dice: 0.9589171218238196\n",
      "50 iou: 0.9166284928996832\n",
      "50 dice: 0.9565009560229695\n",
      "51 iou: 0.9028859367842463\n",
      "51 dice: 0.9489648531536122\n",
      "52 iou: 0.9528301886792475\n",
      "52 dice: 0.9758454106280441\n",
      "53 iou: 0.024101864483900677\n",
      "53 dice: 0.04706927175852366\n",
      "54 iou: 0.2584145261293344\n",
      "54 dice: 0.4106985746964911\n",
      "55 iou: 0.9508738781294308\n",
      "55 dice: 0.9748184019370708\n",
      "56 iou: 0.9337406015037625\n",
      "56 dice: 0.9657351154313739\n",
      "57 iou: 0.937556973564269\n",
      "57 dice: 0.9677722888732306\n",
      "58 iou: 0.9391923990498842\n",
      "58 dice: 0.9686428221460321\n",
      "59 iou: 0.9453422053231965\n",
      "59 dice: 0.9719032494503062\n",
      "60 iou: 0.9764060356652956\n",
      "60 dice: 0.9880621876735287\n",
      "61 iou: 0.9633204633204651\n",
      "61 dice: 0.9813176007866524\n",
      "62 iou: 0.9488283118125324\n",
      "62 dice: 0.9737423312883687\n",
      "63 iou: 0.9676357652221622\n",
      "63 dice: 0.9835517145246866\n",
      "64 iou: 0.9419107057129169\n",
      "64 dice: 0.9700865265760452\n",
      "65 iou: 0.9733767997826684\n",
      "65 dice: 0.9865088105727012\n",
      "66 iou: 0.9603864734299536\n",
      "66 dice: 0.9797930014785861\n",
      "67 iou: 0.9588713534194185\n",
      "67 dice: 0.979003906250025\n",
      "68 iou: 0.9452857840742577\n",
      "68 dice: 0.9718734304369921\n",
      "69 iou: 0.9621882542236535\n",
      "69 dice: 0.9807298072980869\n",
      "70 iou: 0.9441997063142465\n",
      "70 dice: 0.9712990936556151\n",
      "71 iou: 0.9354375896700174\n",
      "71 dice: 0.9666419570052146\n",
      "72 iou: 0.9518013631937706\n",
      "72 dice: 0.9753055624844357\n",
      "73 iou: 0.9597942964001889\n",
      "73 dice: 0.9794847328244518\n",
      "74 iou: 0.9492263056092868\n",
      "74 dice: 0.9739518729843966\n",
      "Average IOU: 0.920160582674782\n",
      "Average DSC: 0.9500181446139341\n",
      "\n"
     ]
    }
   ],
   "source": [
    "avg_iou, avg_dice = calculate_average_iou_and_dice(segmented_AB, gt_AB)\n",
    "print(\"Average IOU:\", avg_iou)\n",
    "print(\"Average DSC:\", avg_dice)\n",
    "print()\n",
    "# print(\"Average Dice Score:\", avg_dice)"
   ]
  },
  {
   "cell_type": "code",
   "execution_count": 36,
   "metadata": {
    "colab": {
     "base_uri": "https://localhost:8080/"
    },
    "executionInfo": {
     "elapsed": 253,
     "status": "ok",
     "timestamp": 1742741664790,
     "user": {
      "displayName": "Katarina Inezita",
      "userId": "04980882031321864073"
     },
     "user_tz": -420
    },
    "id": "y9OtJJ7Pjava",
    "outputId": "2cf03676-0904-487b-f28a-7fbc27b196cb"
   },
   "outputs": [
    {
     "name": "stdout",
     "output_type": "stream",
     "text": [
      "0 iou: 8.695652173905482e-13\n",
      "0 dice: 1.7391304347810964e-12\n",
      "1 iou: 6.410256410252302e-13\n",
      "1 dice: 1.2820512820504603e-12\n",
      "2 iou: 6.993006993002104e-13\n",
      "2 dice: 1.3986013986004208e-12\n",
      "3 iou: 7.352941176465183e-13\n",
      "3 dice: 1.4705882352930366e-12\n",
      "4 iou: 7.751937984490115e-13\n",
      "4 dice: 1.550387596898023e-12\n",
      "5 iou: 7.633587786253716e-13\n",
      "5 dice: 1.5267175572507431e-12\n",
      "6 iou: 9.61538461537537e-13\n",
      "6 dice: 1.923076923075074e-12\n",
      "7 iou: 0.8160000000001472\n",
      "7 dice: 0.8986784140974016\n",
      "8 iou: 0.8308823529413009\n",
      "8 dice: 0.9076305220887921\n",
      "9 iou: 0.8174603174604623\n",
      "9 dice: 0.8995633187777732\n",
      "10 iou: 0.7948717948719264\n",
      "10 dice: 0.8857142857146837\n",
      "11 iou: 0.658536585366062\n",
      "11 dice: 0.7941176470592669\n",
      "12 iou: 0.7337662337664067\n",
      "12 dice: 0.8464419475659751\n",
      "13 iou: 0.6526946107786511\n",
      "13 dice: 0.7898550724642066\n",
      "14 iou: 0.7039473684212475\n",
      "14 dice: 0.8262548262552795\n",
      "15 iou: 0.7142857142858918\n",
      "15 dice: 0.8333333333337561\n",
      "16 iou: 0.790123456790253\n",
      "16 dice: 0.8827586206900404\n",
      "17 iou: 4.2918454935603903e-13\n",
      "17 dice: 8.583690987120781e-13\n",
      "18 iou: 3.7453183520585226e-13\n",
      "18 dice: 7.490636704117045e-13\n",
      "19 iou: 0.4025423728816091\n",
      "19 dice: 0.5740181268886484\n",
      "20 iou: 0.658536585366062\n",
      "20 dice: 0.7941176470592669\n",
      "21 iou: 0.5472972972976032\n",
      "21 dice: 0.7074235807865907\n",
      "22 iou: 0.5294117647062284\n",
      "22 dice: 0.692307692308321\n",
      "23 iou: 0.4966887417221877\n",
      "23 dice: 0.6637168141598834\n",
      "24 iou: 0.5193798449616129\n",
      "24 dice: 0.6836734693884268\n",
      "25 iou: 1.5624999999975587e-12\n",
      "25 dice: 3.1249999999951174e-12\n",
      "26 iou: 1.61290322580385e-12\n",
      "26 dice: 3.2258064516077e-12\n",
      "27 iou: 0.49019607843187235\n",
      "27 dice: 0.6578947368429883\n",
      "28 iou: 0.5060240963861373\n",
      "28 dice: 0.6720000000010624\n",
      "29 iou: 0.4893617021282028\n",
      "29 dice: 0.6571428571438164\n",
      "30 iou: 0.5000000000005435\n",
      "30 dice: 0.666666666667633\n",
      "31 iou: 0.46464646464700543\n",
      "31 dice: 0.6344827586216315\n",
      "32 iou: 0.47252747252805216\n",
      "32 dice: 0.6417910447771331\n",
      "33 iou: 0.4315789473690194\n",
      "33 dice: 0.6029411764716156\n",
      "34 iou: 0.3944954128445922\n",
      "34 dice: 0.5657894736851542\n",
      "35 iou: 0.4468085106388864\n",
      "35 dice: 0.617647058824546\n",
      "36 iou: 0.5384615384620457\n",
      "36 dice: 0.7000000000009287\n",
      "37 iou: 0.4574468085112155\n",
      "37 dice: 0.627737226278374\n",
      "38 iou: 2.380952380946712e-12\n",
      "38 dice: 4.761904761893424e-12\n",
      "39 iou: 2.4390243902379536e-12\n",
      "39 dice: 4.878048780475907e-12\n",
      "40 iou: 0.318181818182438\n",
      "40 dice: 0.48275862069070163\n",
      "41 iou: 0.4712643678166997\n",
      "41 dice: 0.6406250000010622\n",
      "42 iou: 2.040816326526447e-12\n",
      "42 dice: 4.081632653052894e-12\n",
      "43 iou: 0.29411764705928495\n",
      "43 dice: 0.45454545454623513\n",
      "44 iou: 0.31612903225850575\n",
      "44 dice: 0.48039215686349007\n",
      "45 iou: 0.5161290322585849\n",
      "45 dice: 0.6808510638307229\n",
      "46 iou: 0.5089820359284378\n",
      "46 dice: 0.6746031746037006\n",
      "47 iou: 0.4240837696338094\n",
      "47 dice: 0.595588235294634\n",
      "48 iou: 0.5389221556888989\n",
      "48 dice: 0.7003891050588715\n",
      "49 iou: 0.633333333333639\n",
      "49 dice: 0.7755102040822575\n",
      "50 iou: 0.6935483870970214\n",
      "50 dice: 0.8190476190481815\n",
      "51 iou: 0.7699115044249824\n",
      "51 dice: 0.8700000000005651\n",
      "52 iou: 0.8064516129033819\n",
      "52 dice: 0.8928571428576372\n",
      "53 iou: 0.009174311927060013\n",
      "53 dice: 0.01818181818271901\n",
      "54 iou: 5.494505494502476e-13\n",
      "54 dice: 1.0989010989004951e-12\n",
      "55 iou: 0.48598130841169535\n",
      "55 dice: 0.6540880503153119\n",
      "56 iou: 0.5051546391757679\n",
      "56 dice: 0.671232876713239\n",
      "57 iou: 0.643835616438844\n",
      "57 dice: 0.7833333333343473\n",
      "58 iou: 0.4949494949500051\n",
      "58 dice: 0.6621621621630662\n",
      "59 iou: 0.4215686274515475\n",
      "59 dice: 0.5931034482768324\n",
      "60 iou: 0.7766990291264304\n",
      "60 dice: 0.8743169398913256\n",
      "61 iou: 0.5681818181823088\n",
      "61 dice: 0.7246376811603445\n",
      "62 iou: 0.5952380952385771\n",
      "62 dice: 0.7462686567173537\n",
      "63 iou: 0.7767857142859136\n",
      "63 dice: 0.8743718592970481\n",
      "64 iou: 0.5957446808514939\n",
      "64 dice: 0.7466666666675023\n",
      "65 iou: 0.8631578947369861\n",
      "65 dice: 0.9265536723169907\n",
      "66 iou: 0.45454545454616296\n",
      "66 dice: 0.6250000000012277\n",
      "67 iou: 3.703703703689987e-12\n",
      "67 dice: 7.407407407379974e-12\n",
      "68 iou: 0.36263736263806307\n",
      "68 dice: 0.5322580645173127\n",
      "69 iou: 0.8653846153847449\n",
      "69 dice: 0.9278350515469445\n",
      "70 iou: 0.38053097345187564\n",
      "70 dice: 0.55128205128298\n",
      "71 iou: 0.42056074766409296\n",
      "71 dice: 0.5921052631588211\n",
      "72 iou: 0.6235294117651488\n",
      "72 dice: 0.7681159420298783\n",
      "73 iou: 0.831932773109385\n",
      "73 dice: 0.9082568807344458\n",
      "74 iou: 0.7064220183488932\n",
      "74 dice: 0.827956989247942\n",
      "Average IOU: 0.44708055143808595\n",
      "Average DSC: 0.5573145800323729\n"
     ]
    }
   ],
   "source": [
    "avg_iou, avg_dice = calculate_average_iou_and_dice(segmented_MC, gt_MC)\n",
    "print(\"Average IOU:\", avg_iou)\n",
    "print(\"Average DSC:\", avg_dice)\n",
    "# print(\"Average Dice Score:\", avg_dice)"
   ]
  }
 ],
 "metadata": {
  "accelerator": "GPU",
  "colab": {
   "gpuType": "T4",
   "provenance": []
  },
  "kernelspec": {
   "display_name": "base",
   "language": "python",
   "name": "python3"
  },
  "language_info": {
   "codemirror_mode": {
    "name": "ipython",
    "version": 3
   },
   "file_extension": ".py",
   "mimetype": "text/x-python",
   "name": "python",
   "nbconvert_exporter": "python",
   "pygments_lexer": "ipython3",
   "version": "3.12.4"
  }
 },
 "nbformat": 4,
 "nbformat_minor": 0
}
