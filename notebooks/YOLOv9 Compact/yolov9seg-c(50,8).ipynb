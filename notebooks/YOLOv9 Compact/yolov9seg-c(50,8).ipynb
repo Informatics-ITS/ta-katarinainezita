{
 "cells": [
  {
   "cell_type": "markdown",
   "metadata": {
    "id": "wUwZ1zkTjaux"
   },
   "source": [
    "# Epochs 50 + Batch Size 8\n",
    "\n",
    "\n",
    " Train : 894 Images\n",
    "\n",
    " Valid : 75 Images"
   ]
  },
  {
   "cell_type": "code",
   "execution_count": 3,
   "metadata": {
    "colab": {
     "base_uri": "https://localhost:8080/",
     "height": 304
    },
    "executionInfo": {
     "elapsed": 96,
     "status": "error",
     "timestamp": 1742741544505,
     "user": {
      "displayName": "Katarina Inezita",
      "userId": "04980882031321864073"
     },
     "user_tz": -420
    },
    "id": "emNwZQCBjau0",
    "outputId": "5ec9308a-e03c-48a2-edff-ecd2b882bd51"
   },
   "outputs": [
    {
     "name": "stdout",
     "output_type": "stream",
     "text": [
      "Mon Mar 24 21:00:41 2025       \n",
      "+-----------------------------------------------------------------------------------------+\n",
      "| NVIDIA-SMI 560.94                 Driver Version: 560.94         CUDA Version: 12.6     |\n",
      "|-----------------------------------------+------------------------+----------------------+\n",
      "| GPU  Name                  Driver-Model | Bus-Id          Disp.A | Volatile Uncorr. ECC |\n",
      "| Fan  Temp   Perf          Pwr:Usage/Cap |           Memory-Usage | GPU-Util  Compute M. |\n",
      "|                                         |                        |               MIG M. |\n",
      "|=========================================+========================+======================|\n",
      "|   0  NVIDIA GeForce RTX 4080 ...  WDDM  |   00000000:01:00.0  On |                  N/A |\n",
      "|  0%   37C    P8              7W /  320W |     776MiB /  16376MiB |      0%      Default |\n",
      "|                                         |                        |                  N/A |\n",
      "+-----------------------------------------+------------------------+----------------------+\n",
      "                                                                                         \n",
      "+-----------------------------------------------------------------------------------------+\n",
      "| Processes:                                                                              |\n",
      "|  GPU   GI   CI        PID   Type   Process name                              GPU Memory |\n",
      "|        ID   ID                                                               Usage      |\n",
      "|=========================================================================================|\n",
      "|    0   N/A  N/A      1920    C+G   ...ekyb3d8bbwe\\PhoneExperienceHost.exe      N/A      |\n",
      "|    0   N/A  N/A      7024    C+G   ...crosoft\\Edge\\Application\\msedge.exe      N/A      |\n",
      "|    0   N/A  N/A      8672    C+G   C:\\Windows\\explorer.exe                     N/A      |\n",
      "|    0   N/A  N/A      8848    C+G   C:\\Windows\\System32\\ShellHost.exe           N/A      |\n",
      "|    0   N/A  N/A     10884    C+G   ...nt.CBS_cw5n1h2txyewy\\SearchHost.exe      N/A      |\n",
      "|    0   N/A  N/A     10908    C+G   ...2txyewy\\StartMenuExperienceHost.exe      N/A      |\n",
      "|    0   N/A  N/A     12244    C+G   ...Programs\\Microsoft VS Code\\Code.exe      N/A      |\n",
      "|    0   N/A  N/A     12452    C+G   ...on\\134.0.3124.83\\msedgewebview2.exe      N/A      |\n",
      "|    0   N/A  N/A     13856    C+G   ...cal\\Microsoft\\OneDrive\\OneDrive.exe      N/A      |\n",
      "|    0   N/A  N/A     15756    C+G   ...155_x64__8wekyb3d8bbwe\\ms-teams.exe      N/A      |\n",
      "|    0   N/A  N/A     16652    C+G   ...on\\134.0.3124.83\\msedgewebview2.exe      N/A      |\n",
      "|    0   N/A  N/A     17992    C+G   ..._x64__8wekyb3d8bbwe\\WebViewHost.exe      N/A      |\n",
      "|    0   N/A  N/A     18044    C+G   ...crosoft\\Edge\\Application\\msedge.exe      N/A      |\n",
      "|    0   N/A  N/A     18316    C+G   ...on\\134.0.3124.83\\msedgewebview2.exe      N/A      |\n",
      "|    0   N/A  N/A     19436    C+G   ...5n1h2txyewy\\ShellExperienceHost.exe      N/A      |\n",
      "|    0   N/A  N/A     21340    C+G   ...CBS_cw5n1h2txyewy\\TextInputHost.exe      N/A      |\n",
      "+-----------------------------------------------------------------------------------------+\n"
     ]
    }
   ],
   "source": [
    "!nvidia-smi"
   ]
  },
  {
   "cell_type": "code",
   "execution_count": 4,
   "metadata": {
    "colab": {
     "base_uri": "https://localhost:8080/"
    },
    "executionInfo": {
     "elapsed": 5151,
     "status": "ok",
     "timestamp": 1742737409989,
     "user": {
      "displayName": "Katarina Inezita",
      "userId": "04980882031321864073"
     },
     "user_tz": -420
    },
    "id": "2OeN5mncjau2",
    "outputId": "75a2293e-876b-4324-ca34-b132d87ea247"
   },
   "outputs": [
    {
     "name": "stdout",
     "output_type": "stream",
     "text": [
      "number of GPU:  1\n",
      "GPU Name:  NVIDIA GeForce RTX 4080 SUPER\n"
     ]
    }
   ],
   "source": [
    "import torch\n",
    "\n",
    "print(\"number of GPU: \", torch.cuda.device_count())\n",
    "print(\"GPU Name: \", torch.cuda.get_device_name())"
   ]
  },
  {
   "cell_type": "code",
   "execution_count": 5,
   "metadata": {
    "colab": {
     "base_uri": "https://localhost:8080/"
    },
    "executionInfo": {
     "elapsed": 21,
     "status": "ok",
     "timestamp": 1742737410030,
     "user": {
      "displayName": "Katarina Inezita",
      "userId": "04980882031321864073"
     },
     "user_tz": -420
    },
    "id": "yI7iKPV2jau4",
    "outputId": "1930c28f-9d27-4d42-dec1-da3a31c76014"
   },
   "outputs": [
    {
     "name": "stdout",
     "output_type": "stream",
     "text": [
      "using device :  cuda\n"
     ]
    }
   ],
   "source": [
    "device = torch.device('cuda' if torch.cuda.is_available() else 'cpu')\n",
    "print('using device : ', device)"
   ]
  },
  {
   "cell_type": "code",
   "execution_count": 6,
   "metadata": {
    "colab": {
     "base_uri": "https://localhost:8080/"
    },
    "executionInfo": {
     "elapsed": 30,
     "status": "ok",
     "timestamp": 1742737410063,
     "user": {
      "displayName": "Katarina Inezita",
      "userId": "04980882031321864073"
     },
     "user_tz": -420
    },
    "id": "S9RQYY3ojau8",
    "outputId": "81f0b735-df24-4537-990a-d6380b21b8a0"
   },
   "outputs": [
    {
     "name": "stdout",
     "output_type": "stream",
     "text": [
      "c:\\5025211148\\YOLOv9-Segmentation\n"
     ]
    }
   ],
   "source": [
    "import os\n",
    "HOME = os.getcwd()\n",
    "print(HOME)"
   ]
  },
  {
   "cell_type": "code",
   "execution_count": null,
   "metadata": {
    "colab": {
     "base_uri": "https://localhost:8080/"
    },
    "executionInfo": {
     "elapsed": 97724,
     "status": "ok",
     "timestamp": 1742737375704,
     "user": {
      "displayName": "Katarina Inezita",
      "userId": "04980882031321864073"
     },
     "user_tz": -420
    },
    "id": "NJ4PePd9jau9",
    "outputId": "d8014433-f3a6-44dd-8747-09c1e701d9c4"
   },
   "outputs": [
    {
     "name": "stdout",
     "output_type": "stream",
     "text": [
      "Collecting ultralytics\n",
      "  Downloading ultralytics-8.3.94-py3-none-any.whl.metadata (35 kB)\n",
      "Requirement already satisfied: numpy<=2.1.1,>=1.23.0 in /usr/local/lib/python3.11/dist-packages (from ultralytics) (2.0.2)\n",
      "Requirement already satisfied: matplotlib>=3.3.0 in /usr/local/lib/python3.11/dist-packages (from ultralytics) (3.10.0)\n",
      "Requirement already satisfied: opencv-python>=4.6.0 in /usr/local/lib/python3.11/dist-packages (from ultralytics) (4.11.0.86)\n",
      "Requirement already satisfied: pillow>=7.1.2 in /usr/local/lib/python3.11/dist-packages (from ultralytics) (11.1.0)\n",
      "Requirement already satisfied: pyyaml>=5.3.1 in /usr/local/lib/python3.11/dist-packages (from ultralytics) (6.0.2)\n",
      "Requirement already satisfied: requests>=2.23.0 in /usr/local/lib/python3.11/dist-packages (from ultralytics) (2.32.3)\n",
      "Requirement already satisfied: scipy>=1.4.1 in /usr/local/lib/python3.11/dist-packages (from ultralytics) (1.14.1)\n",
      "Requirement already satisfied: torch>=1.8.0 in /usr/local/lib/python3.11/dist-packages (from ultralytics) (2.6.0+cu124)\n",
      "Requirement already satisfied: torchvision>=0.9.0 in /usr/local/lib/python3.11/dist-packages (from ultralytics) (0.21.0+cu124)\n",
      "Requirement already satisfied: tqdm>=4.64.0 in /usr/local/lib/python3.11/dist-packages (from ultralytics) (4.67.1)\n",
      "Requirement already satisfied: psutil in /usr/local/lib/python3.11/dist-packages (from ultralytics) (5.9.5)\n",
      "Requirement already satisfied: py-cpuinfo in /usr/local/lib/python3.11/dist-packages (from ultralytics) (9.0.0)\n",
      "Requirement already satisfied: pandas>=1.1.4 in /usr/local/lib/python3.11/dist-packages (from ultralytics) (2.2.2)\n",
      "Requirement already satisfied: seaborn>=0.11.0 in /usr/local/lib/python3.11/dist-packages (from ultralytics) (0.13.2)\n",
      "Collecting ultralytics-thop>=2.0.0 (from ultralytics)\n",
      "  Downloading ultralytics_thop-2.0.14-py3-none-any.whl.metadata (9.4 kB)\n",
      "Requirement already satisfied: contourpy>=1.0.1 in /usr/local/lib/python3.11/dist-packages (from matplotlib>=3.3.0->ultralytics) (1.3.1)\n",
      "Requirement already satisfied: cycler>=0.10 in /usr/local/lib/python3.11/dist-packages (from matplotlib>=3.3.0->ultralytics) (0.12.1)\n",
      "Requirement already satisfied: fonttools>=4.22.0 in /usr/local/lib/python3.11/dist-packages (from matplotlib>=3.3.0->ultralytics) (4.56.0)\n",
      "Requirement already satisfied: kiwisolver>=1.3.1 in /usr/local/lib/python3.11/dist-packages (from matplotlib>=3.3.0->ultralytics) (1.4.8)\n",
      "Requirement already satisfied: packaging>=20.0 in /usr/local/lib/python3.11/dist-packages (from matplotlib>=3.3.0->ultralytics) (24.2)\n",
      "Requirement already satisfied: pyparsing>=2.3.1 in /usr/local/lib/python3.11/dist-packages (from matplotlib>=3.3.0->ultralytics) (3.2.1)\n",
      "Requirement already satisfied: python-dateutil>=2.7 in /usr/local/lib/python3.11/dist-packages (from matplotlib>=3.3.0->ultralytics) (2.8.2)\n",
      "Requirement already satisfied: pytz>=2020.1 in /usr/local/lib/python3.11/dist-packages (from pandas>=1.1.4->ultralytics) (2025.1)\n",
      "Requirement already satisfied: tzdata>=2022.7 in /usr/local/lib/python3.11/dist-packages (from pandas>=1.1.4->ultralytics) (2025.1)\n",
      "Requirement already satisfied: charset-normalizer<4,>=2 in /usr/local/lib/python3.11/dist-packages (from requests>=2.23.0->ultralytics) (3.4.1)\n",
      "Requirement already satisfied: idna<4,>=2.5 in /usr/local/lib/python3.11/dist-packages (from requests>=2.23.0->ultralytics) (3.10)\n",
      "Requirement already satisfied: urllib3<3,>=1.21.1 in /usr/local/lib/python3.11/dist-packages (from requests>=2.23.0->ultralytics) (2.3.0)\n",
      "Requirement already satisfied: certifi>=2017.4.17 in /usr/local/lib/python3.11/dist-packages (from requests>=2.23.0->ultralytics) (2025.1.31)\n",
      "Requirement already satisfied: filelock in /usr/local/lib/python3.11/dist-packages (from torch>=1.8.0->ultralytics) (3.18.0)\n",
      "Requirement already satisfied: typing-extensions>=4.10.0 in /usr/local/lib/python3.11/dist-packages (from torch>=1.8.0->ultralytics) (4.12.2)\n",
      "Requirement already satisfied: networkx in /usr/local/lib/python3.11/dist-packages (from torch>=1.8.0->ultralytics) (3.4.2)\n",
      "Requirement already satisfied: jinja2 in /usr/local/lib/python3.11/dist-packages (from torch>=1.8.0->ultralytics) (3.1.6)\n",
      "Requirement already satisfied: fsspec in /usr/local/lib/python3.11/dist-packages (from torch>=1.8.0->ultralytics) (2025.3.0)\n",
      "Collecting nvidia-cuda-nvrtc-cu12==12.4.127 (from torch>=1.8.0->ultralytics)\n",
      "  Downloading nvidia_cuda_nvrtc_cu12-12.4.127-py3-none-manylinux2014_x86_64.whl.metadata (1.5 kB)\n",
      "Collecting nvidia-cuda-runtime-cu12==12.4.127 (from torch>=1.8.0->ultralytics)\n",
      "  Downloading nvidia_cuda_runtime_cu12-12.4.127-py3-none-manylinux2014_x86_64.whl.metadata (1.5 kB)\n",
      "Collecting nvidia-cuda-cupti-cu12==12.4.127 (from torch>=1.8.0->ultralytics)\n",
      "  Downloading nvidia_cuda_cupti_cu12-12.4.127-py3-none-manylinux2014_x86_64.whl.metadata (1.6 kB)\n",
      "Collecting nvidia-cudnn-cu12==9.1.0.70 (from torch>=1.8.0->ultralytics)\n",
      "  Downloading nvidia_cudnn_cu12-9.1.0.70-py3-none-manylinux2014_x86_64.whl.metadata (1.6 kB)\n",
      "Collecting nvidia-cublas-cu12==12.4.5.8 (from torch>=1.8.0->ultralytics)\n",
      "  Downloading nvidia_cublas_cu12-12.4.5.8-py3-none-manylinux2014_x86_64.whl.metadata (1.5 kB)\n",
      "Collecting nvidia-cufft-cu12==11.2.1.3 (from torch>=1.8.0->ultralytics)\n",
      "  Downloading nvidia_cufft_cu12-11.2.1.3-py3-none-manylinux2014_x86_64.whl.metadata (1.5 kB)\n",
      "Collecting nvidia-curand-cu12==10.3.5.147 (from torch>=1.8.0->ultralytics)\n",
      "  Downloading nvidia_curand_cu12-10.3.5.147-py3-none-manylinux2014_x86_64.whl.metadata (1.5 kB)\n",
      "Collecting nvidia-cusolver-cu12==11.6.1.9 (from torch>=1.8.0->ultralytics)\n",
      "  Downloading nvidia_cusolver_cu12-11.6.1.9-py3-none-manylinux2014_x86_64.whl.metadata (1.6 kB)\n",
      "Collecting nvidia-cusparse-cu12==12.3.1.170 (from torch>=1.8.0->ultralytics)\n",
      "  Downloading nvidia_cusparse_cu12-12.3.1.170-py3-none-manylinux2014_x86_64.whl.metadata (1.6 kB)\n",
      "Requirement already satisfied: nvidia-cusparselt-cu12==0.6.2 in /usr/local/lib/python3.11/dist-packages (from torch>=1.8.0->ultralytics) (0.6.2)\n",
      "Requirement already satisfied: nvidia-nccl-cu12==2.21.5 in /usr/local/lib/python3.11/dist-packages (from torch>=1.8.0->ultralytics) (2.21.5)\n",
      "Requirement already satisfied: nvidia-nvtx-cu12==12.4.127 in /usr/local/lib/python3.11/dist-packages (from torch>=1.8.0->ultralytics) (12.4.127)\n",
      "Collecting nvidia-nvjitlink-cu12==12.4.127 (from torch>=1.8.0->ultralytics)\n",
      "  Downloading nvidia_nvjitlink_cu12-12.4.127-py3-none-manylinux2014_x86_64.whl.metadata (1.5 kB)\n",
      "Requirement already satisfied: triton==3.2.0 in /usr/local/lib/python3.11/dist-packages (from torch>=1.8.0->ultralytics) (3.2.0)\n",
      "Requirement already satisfied: sympy==1.13.1 in /usr/local/lib/python3.11/dist-packages (from torch>=1.8.0->ultralytics) (1.13.1)\n",
      "Requirement already satisfied: mpmath<1.4,>=1.1.0 in /usr/local/lib/python3.11/dist-packages (from sympy==1.13.1->torch>=1.8.0->ultralytics) (1.3.0)\n",
      "Requirement already satisfied: six>=1.5 in /usr/local/lib/python3.11/dist-packages (from python-dateutil>=2.7->matplotlib>=3.3.0->ultralytics) (1.17.0)\n",
      "Requirement already satisfied: MarkupSafe>=2.0 in /usr/local/lib/python3.11/dist-packages (from jinja2->torch>=1.8.0->ultralytics) (3.0.2)\n",
      "Downloading ultralytics-8.3.94-py3-none-any.whl (949 kB)\n",
      "\u001b[2K   \u001b[90m━━━━━━━━━━━━━━━━━━━━━━━━━━━━━━━━━━━━━━━━\u001b[0m \u001b[32m949.8/949.8 kB\u001b[0m \u001b[31m26.4 MB/s\u001b[0m eta \u001b[36m0:00:00\u001b[0m\n",
      "\u001b[?25hDownloading nvidia_cublas_cu12-12.4.5.8-py3-none-manylinux2014_x86_64.whl (363.4 MB)\n",
      "\u001b[2K   \u001b[90m━━━━━━━━━━━━━━━━━━━━━━━━━━━━━━━━━━━━━━━━\u001b[0m \u001b[32m363.4/363.4 MB\u001b[0m \u001b[31m4.5 MB/s\u001b[0m eta \u001b[36m0:00:00\u001b[0m\n",
      "\u001b[?25hDownloading nvidia_cuda_cupti_cu12-12.4.127-py3-none-manylinux2014_x86_64.whl (13.8 MB)\n",
      "\u001b[2K   \u001b[90m━━━━━━━━━━━━━━━━━━━━━━━━━━━━━━━━━━━━━━━━\u001b[0m \u001b[32m13.8/13.8 MB\u001b[0m \u001b[31m100.2 MB/s\u001b[0m eta \u001b[36m0:00:00\u001b[0m\n",
      "\u001b[?25hDownloading nvidia_cuda_nvrtc_cu12-12.4.127-py3-none-manylinux2014_x86_64.whl (24.6 MB)\n",
      "\u001b[2K   \u001b[90m━━━━━━━━━━━━━━━━━━━━━━━━━━━━━━━━━━━━━━━━\u001b[0m \u001b[32m24.6/24.6 MB\u001b[0m \u001b[31m78.7 MB/s\u001b[0m eta \u001b[36m0:00:00\u001b[0m\n",
      "\u001b[?25hDownloading nvidia_cuda_runtime_cu12-12.4.127-py3-none-manylinux2014_x86_64.whl (883 kB)\n",
      "\u001b[2K   \u001b[90m━━━━━━━━━━━━━━━━━━━━━━━━━━━━━━━━━━━━━━━━\u001b[0m \u001b[32m883.7/883.7 kB\u001b[0m \u001b[31m50.9 MB/s\u001b[0m eta \u001b[36m0:00:00\u001b[0m\n",
      "\u001b[?25hDownloading nvidia_cudnn_cu12-9.1.0.70-py3-none-manylinux2014_x86_64.whl (664.8 MB)\n",
      "\u001b[2K   \u001b[90m━━━━━━━━━━━━━━━━━━━━━━━━━━━━━━━━━━━━━━━━\u001b[0m \u001b[32m664.8/664.8 MB\u001b[0m \u001b[31m2.8 MB/s\u001b[0m eta \u001b[36m0:00:00\u001b[0m\n",
      "\u001b[?25hDownloading nvidia_cufft_cu12-11.2.1.3-py3-none-manylinux2014_x86_64.whl (211.5 MB)\n",
      "\u001b[2K   \u001b[90m━━━━━━━━━━━━━━━━━━━━━━━━━━━━━━━━━━━━━━━━\u001b[0m \u001b[32m211.5/211.5 MB\u001b[0m \u001b[31m5.2 MB/s\u001b[0m eta \u001b[36m0:00:00\u001b[0m\n",
      "\u001b[?25hDownloading nvidia_curand_cu12-10.3.5.147-py3-none-manylinux2014_x86_64.whl (56.3 MB)\n",
      "\u001b[2K   \u001b[90m━━━━━━━━━━━━━━━━━━━━━━━━━━━━━━━━━━━━━━━━\u001b[0m \u001b[32m56.3/56.3 MB\u001b[0m \u001b[31m12.6 MB/s\u001b[0m eta \u001b[36m0:00:00\u001b[0m\n",
      "\u001b[?25hDownloading nvidia_cusolver_cu12-11.6.1.9-py3-none-manylinux2014_x86_64.whl (127.9 MB)\n",
      "\u001b[2K   \u001b[90m━━━━━━━━━━━━━━━━━━━━━━━━━━━━━━━━━━━━━━━━\u001b[0m \u001b[32m127.9/127.9 MB\u001b[0m \u001b[31m7.5 MB/s\u001b[0m eta \u001b[36m0:00:00\u001b[0m\n",
      "\u001b[?25hDownloading nvidia_cusparse_cu12-12.3.1.170-py3-none-manylinux2014_x86_64.whl (207.5 MB)\n",
      "\u001b[2K   \u001b[90m━━━━━━━━━━━━━━━━━━━━━━━━━━━━━━━━━━━━━━━━\u001b[0m \u001b[32m207.5/207.5 MB\u001b[0m \u001b[31m6.1 MB/s\u001b[0m eta \u001b[36m0:00:00\u001b[0m\n",
      "\u001b[?25hDownloading nvidia_nvjitlink_cu12-12.4.127-py3-none-manylinux2014_x86_64.whl (21.1 MB)\n",
      "\u001b[2K   \u001b[90m━━━━━━━━━━━━━━━━━━━━━━━━━━━━━━━━━━━━━━━━\u001b[0m \u001b[32m21.1/21.1 MB\u001b[0m \u001b[31m83.9 MB/s\u001b[0m eta \u001b[36m0:00:00\u001b[0m\n",
      "\u001b[?25hDownloading ultralytics_thop-2.0.14-py3-none-any.whl (26 kB)\n",
      "Installing collected packages: nvidia-nvjitlink-cu12, nvidia-curand-cu12, nvidia-cufft-cu12, nvidia-cuda-runtime-cu12, nvidia-cuda-nvrtc-cu12, nvidia-cuda-cupti-cu12, nvidia-cublas-cu12, nvidia-cusparse-cu12, nvidia-cudnn-cu12, nvidia-cusolver-cu12, ultralytics-thop, ultralytics\n",
      "  Attempting uninstall: nvidia-nvjitlink-cu12\n",
      "    Found existing installation: nvidia-nvjitlink-cu12 12.5.82\n",
      "    Uninstalling nvidia-nvjitlink-cu12-12.5.82:\n",
      "      Successfully uninstalled nvidia-nvjitlink-cu12-12.5.82\n",
      "  Attempting uninstall: nvidia-curand-cu12\n",
      "    Found existing installation: nvidia-curand-cu12 10.3.6.82\n",
      "    Uninstalling nvidia-curand-cu12-10.3.6.82:\n",
      "      Successfully uninstalled nvidia-curand-cu12-10.3.6.82\n",
      "  Attempting uninstall: nvidia-cufft-cu12\n",
      "    Found existing installation: nvidia-cufft-cu12 11.2.3.61\n",
      "    Uninstalling nvidia-cufft-cu12-11.2.3.61:\n",
      "      Successfully uninstalled nvidia-cufft-cu12-11.2.3.61\n",
      "  Attempting uninstall: nvidia-cuda-runtime-cu12\n",
      "    Found existing installation: nvidia-cuda-runtime-cu12 12.5.82\n",
      "    Uninstalling nvidia-cuda-runtime-cu12-12.5.82:\n",
      "      Successfully uninstalled nvidia-cuda-runtime-cu12-12.5.82\n",
      "  Attempting uninstall: nvidia-cuda-nvrtc-cu12\n",
      "    Found existing installation: nvidia-cuda-nvrtc-cu12 12.5.82\n",
      "    Uninstalling nvidia-cuda-nvrtc-cu12-12.5.82:\n",
      "      Successfully uninstalled nvidia-cuda-nvrtc-cu12-12.5.82\n",
      "  Attempting uninstall: nvidia-cuda-cupti-cu12\n",
      "    Found existing installation: nvidia-cuda-cupti-cu12 12.5.82\n",
      "    Uninstalling nvidia-cuda-cupti-cu12-12.5.82:\n",
      "      Successfully uninstalled nvidia-cuda-cupti-cu12-12.5.82\n",
      "  Attempting uninstall: nvidia-cublas-cu12\n",
      "    Found existing installation: nvidia-cublas-cu12 12.5.3.2\n",
      "    Uninstalling nvidia-cublas-cu12-12.5.3.2:\n",
      "      Successfully uninstalled nvidia-cublas-cu12-12.5.3.2\n",
      "  Attempting uninstall: nvidia-cusparse-cu12\n",
      "    Found existing installation: nvidia-cusparse-cu12 12.5.1.3\n",
      "    Uninstalling nvidia-cusparse-cu12-12.5.1.3:\n",
      "      Successfully uninstalled nvidia-cusparse-cu12-12.5.1.3\n",
      "  Attempting uninstall: nvidia-cudnn-cu12\n",
      "    Found existing installation: nvidia-cudnn-cu12 9.3.0.75\n",
      "    Uninstalling nvidia-cudnn-cu12-9.3.0.75:\n",
      "      Successfully uninstalled nvidia-cudnn-cu12-9.3.0.75\n",
      "  Attempting uninstall: nvidia-cusolver-cu12\n",
      "    Found existing installation: nvidia-cusolver-cu12 11.6.3.83\n",
      "    Uninstalling nvidia-cusolver-cu12-11.6.3.83:\n",
      "      Successfully uninstalled nvidia-cusolver-cu12-11.6.3.83\n",
      "Successfully installed nvidia-cublas-cu12-12.4.5.8 nvidia-cuda-cupti-cu12-12.4.127 nvidia-cuda-nvrtc-cu12-12.4.127 nvidia-cuda-runtime-cu12-12.4.127 nvidia-cudnn-cu12-9.1.0.70 nvidia-cufft-cu12-11.2.1.3 nvidia-curand-cu12-10.3.5.147 nvidia-cusolver-cu12-11.6.1.9 nvidia-cusparse-cu12-12.3.1.170 nvidia-nvjitlink-cu12-12.4.127 ultralytics-8.3.94 ultralytics-thop-2.0.14\n"
     ]
    }
   ],
   "source": [
    "%pip install ultralytics"
   ]
  },
  {
   "cell_type": "code",
   "execution_count": 7,
   "metadata": {
    "colab": {
     "base_uri": "https://localhost:8080/"
    },
    "executionInfo": {
     "elapsed": 2079,
     "status": "ok",
     "timestamp": 1742737412145,
     "user": {
      "displayName": "Katarina Inezita",
      "userId": "04980882031321864073"
     },
     "user_tz": -420
    },
    "id": "ZduyQaYQjavA",
    "outputId": "e2099523-cd8d-440d-fe1b-a43b05695cd3"
   },
   "outputs": [
    {
     "name": "stdout",
     "output_type": "stream",
     "text": [
      "Ultralytics YOLOv8.2.98  Python-3.12.4 torch-2.4.1 CUDA:0 (NVIDIA GeForce RTX 4080 SUPER, 16376MiB)\n",
      "Setup complete  (32 CPUs, 63.8 GB RAM, 243.8/476.5 GB disk)\n"
     ]
    }
   ],
   "source": [
    "from IPython import display\n",
    "display.clear_output()\n",
    "\n",
    "import ultralytics\n",
    "ultralytics.checks()"
   ]
  },
  {
   "cell_type": "code",
   "execution_count": 8,
   "metadata": {
    "id": "kBMP0EVSjavC"
   },
   "outputs": [],
   "source": [
    "from ultralytics import YOLO\n",
    "from IPython.display import display, Image"
   ]
  },
  {
   "cell_type": "code",
   "execution_count": null,
   "metadata": {
    "colab": {
     "base_uri": "https://localhost:8080/",
     "height": 967
    },
    "executionInfo": {
     "elapsed": 14137,
     "status": "ok",
     "timestamp": 1742737394799,
     "user": {
      "displayName": "Katarina Inezita",
      "userId": "04980882031321864073"
     },
     "user_tz": -420
    },
    "id": "QE8WAOaQ-HQ4",
    "outputId": "9bd50afa-afff-478d-bf20-a862ba2f5ac9"
   },
   "outputs": [
    {
     "name": "stdout",
     "output_type": "stream",
     "text": [
      "Collecting roboflow\n",
      "  Downloading roboflow-1.1.58-py3-none-any.whl.metadata (9.7 kB)\n",
      "Requirement already satisfied: certifi in /usr/local/lib/python3.11/dist-packages (from roboflow) (2025.1.31)\n",
      "Collecting idna==3.7 (from roboflow)\n",
      "  Downloading idna-3.7-py3-none-any.whl.metadata (9.9 kB)\n",
      "Requirement already satisfied: cycler in /usr/local/lib/python3.11/dist-packages (from roboflow) (0.12.1)\n",
      "Requirement already satisfied: kiwisolver>=1.3.1 in /usr/local/lib/python3.11/dist-packages (from roboflow) (1.4.8)\n",
      "Requirement already satisfied: matplotlib in /usr/local/lib/python3.11/dist-packages (from roboflow) (3.10.0)\n",
      "Requirement already satisfied: numpy>=1.18.5 in /usr/local/lib/python3.11/dist-packages (from roboflow) (2.0.2)\n",
      "Collecting opencv-python-headless==4.10.0.84 (from roboflow)\n",
      "  Downloading opencv_python_headless-4.10.0.84-cp37-abi3-manylinux_2_17_x86_64.manylinux2014_x86_64.whl.metadata (20 kB)\n",
      "Requirement already satisfied: Pillow>=7.1.2 in /usr/local/lib/python3.11/dist-packages (from roboflow) (11.1.0)\n",
      "Collecting pillow-heif>=0.18.0 (from roboflow)\n",
      "  Downloading pillow_heif-0.22.0-cp311-cp311-manylinux_2_17_x86_64.manylinux2014_x86_64.whl.metadata (9.6 kB)\n",
      "Requirement already satisfied: python-dateutil in /usr/local/lib/python3.11/dist-packages (from roboflow) (2.8.2)\n",
      "Collecting python-dotenv (from roboflow)\n",
      "  Downloading python_dotenv-1.0.1-py3-none-any.whl.metadata (23 kB)\n",
      "Requirement already satisfied: requests in /usr/local/lib/python3.11/dist-packages (from roboflow) (2.32.3)\n",
      "Requirement already satisfied: six in /usr/local/lib/python3.11/dist-packages (from roboflow) (1.17.0)\n",
      "Requirement already satisfied: urllib3>=1.26.6 in /usr/local/lib/python3.11/dist-packages (from roboflow) (2.3.0)\n",
      "Requirement already satisfied: tqdm>=4.41.0 in /usr/local/lib/python3.11/dist-packages (from roboflow) (4.67.1)\n",
      "Requirement already satisfied: PyYAML>=5.3.1 in /usr/local/lib/python3.11/dist-packages (from roboflow) (6.0.2)\n",
      "Requirement already satisfied: requests-toolbelt in /usr/local/lib/python3.11/dist-packages (from roboflow) (1.0.0)\n",
      "Collecting filetype (from roboflow)\n",
      "  Downloading filetype-1.2.0-py2.py3-none-any.whl.metadata (6.5 kB)\n",
      "Requirement already satisfied: contourpy>=1.0.1 in /usr/local/lib/python3.11/dist-packages (from matplotlib->roboflow) (1.3.1)\n",
      "Requirement already satisfied: fonttools>=4.22.0 in /usr/local/lib/python3.11/dist-packages (from matplotlib->roboflow) (4.56.0)\n",
      "Requirement already satisfied: packaging>=20.0 in /usr/local/lib/python3.11/dist-packages (from matplotlib->roboflow) (24.2)\n",
      "Requirement already satisfied: pyparsing>=2.3.1 in /usr/local/lib/python3.11/dist-packages (from matplotlib->roboflow) (3.2.1)\n",
      "Requirement already satisfied: charset-normalizer<4,>=2 in /usr/local/lib/python3.11/dist-packages (from requests->roboflow) (3.4.1)\n",
      "Downloading roboflow-1.1.58-py3-none-any.whl (84 kB)\n",
      "\u001b[2K   \u001b[90m━━━━━━━━━━━━━━━━━━━━━━━━━━━━━━━━━━━━━━━━\u001b[0m \u001b[32m84.5/84.5 kB\u001b[0m \u001b[31m5.6 MB/s\u001b[0m eta \u001b[36m0:00:00\u001b[0m\n",
      "\u001b[?25hDownloading idna-3.7-py3-none-any.whl (66 kB)\n",
      "\u001b[2K   \u001b[90m━━━━━━━━━━━━━━━━━━━━━━━━━━━━━━━━━━━━━━━━\u001b[0m \u001b[32m66.8/66.8 kB\u001b[0m \u001b[31m5.5 MB/s\u001b[0m eta \u001b[36m0:00:00\u001b[0m\n",
      "\u001b[?25hDownloading opencv_python_headless-4.10.0.84-cp37-abi3-manylinux_2_17_x86_64.manylinux2014_x86_64.whl (49.9 MB)\n",
      "\u001b[2K   \u001b[90m━━━━━━━━━━━━━━━━━━━━━━━━━━━━━━━━━━━━━━━━\u001b[0m \u001b[32m49.9/49.9 MB\u001b[0m \u001b[31m12.6 MB/s\u001b[0m eta \u001b[36m0:00:00\u001b[0m\n",
      "\u001b[?25hDownloading pillow_heif-0.22.0-cp311-cp311-manylinux_2_17_x86_64.manylinux2014_x86_64.whl (7.8 MB)\n",
      "\u001b[2K   \u001b[90m━━━━━━━━━━━━━━━━━━━━━━━━━━━━━━━━━━━━━━━━\u001b[0m \u001b[32m7.8/7.8 MB\u001b[0m \u001b[31m22.7 MB/s\u001b[0m eta \u001b[36m0:00:00\u001b[0m\n",
      "\u001b[?25hDownloading filetype-1.2.0-py2.py3-none-any.whl (19 kB)\n",
      "Downloading python_dotenv-1.0.1-py3-none-any.whl (19 kB)\n",
      "Installing collected packages: filetype, python-dotenv, pillow-heif, opencv-python-headless, idna, roboflow\n",
      "\u001b[33m  WARNING: The script filetype is installed in '/root/.local/bin' which is not on PATH.\n",
      "  Consider adding this directory to PATH or, if you prefer to suppress this warning, use --no-warn-script-location.\u001b[0m\u001b[33m\n",
      "\u001b[0m\u001b[33m  WARNING: The script dotenv is installed in '/root/.local/bin' which is not on PATH.\n",
      "  Consider adding this directory to PATH or, if you prefer to suppress this warning, use --no-warn-script-location.\u001b[0m\u001b[33m\n",
      "\u001b[0m\u001b[33m  WARNING: The script roboflow is installed in '/root/.local/bin' which is not on PATH.\n",
      "  Consider adding this directory to PATH or, if you prefer to suppress this warning, use --no-warn-script-location.\u001b[0m\u001b[33m\n",
      "\u001b[0mSuccessfully installed filetype-1.2.0 idna-3.7 opencv-python-headless-4.10.0.84 pillow-heif-0.22.0 python-dotenv-1.0.1 roboflow-1.1.58\n"
     ]
    },
    {
     "data": {
      "application/vnd.colab-display-data+json": {
       "id": "0f6c504ad6404233be6382e8ee837d07",
       "pip_warning": {
        "packages": [
         "cv2"
        ]
       }
      }
     },
     "metadata": {},
     "output_type": "display_data"
    }
   ],
   "source": [
    "%pip install --user roboflow"
   ]
  },
  {
   "cell_type": "code",
   "execution_count": null,
   "metadata": {
    "colab": {
     "base_uri": "https://localhost:8080/"
    },
    "executionInfo": {
     "elapsed": 5044,
     "status": "ok",
     "timestamp": 1742737417212,
     "user": {
      "displayName": "Katarina Inezita",
      "userId": "04980882031321864073"
     },
     "user_tz": -420
    },
    "id": "kcy8VsLBjavE",
    "outputId": "d4907a73-6c8d-4617-aa8e-a9696b253eb6"
   },
   "outputs": [
    {
     "name": "stdout",
     "output_type": "stream",
     "text": [
      "loading Roboflow workspace...\n",
      "loading Roboflow project...\n"
     ]
    },
    {
     "name": "stderr",
     "output_type": "stream",
     "text": [
      "Downloading Dataset Version Zip in merge-inez-1 to yolov9:: 100%|██████████| 36707/36707 [00:01<00:00, 20568.68it/s]"
     ]
    },
    {
     "name": "stdout",
     "output_type": "stream",
     "text": [
      "\n"
     ]
    },
    {
     "name": "stderr",
     "output_type": "stream",
     "text": [
      "\n",
      "Extracting Dataset Version Zip to merge-inez-1 in yolov9:: 100%|██████████| 1947/1947 [00:00<00:00, 2826.96it/s]\n"
     ]
    }
   ],
   "source": [
    "from roboflow import Roboflow\n",
    "rf = Roboflow(api_key=\"R66BD6MEFMOCLYffXdn9\")\n",
    "project = rf.workspace(\"mcab\").project(\"merge-inez\")\n",
    "version = project.version(1)\n",
    "dataset = version.download(\"yolov9\")"
   ]
  },
  {
   "cell_type": "code",
   "execution_count": 9,
   "metadata": {
    "colab": {
     "base_uri": "https://localhost:8080/"
    },
    "executionInfo": {
     "elapsed": 160,
     "status": "ok",
     "timestamp": 1742737417379,
     "user": {
      "displayName": "Katarina Inezita",
      "userId": "04980882031321864073"
     },
     "user_tz": -420
    },
    "id": "cWkaOY2ojavF",
    "outputId": "6fe3f564-3b79-4330-a0d8-0f0d79b94a44"
   },
   "outputs": [
    {
     "name": "stdout",
     "output_type": "stream",
     "text": [
      "c:\\5025211148\\YOLOv9-Segmentation\n"
     ]
    }
   ],
   "source": [
    "%cd {HOME}\n"
   ]
  },
  {
   "cell_type": "code",
   "execution_count": 10,
   "metadata": {
    "colab": {
     "base_uri": "https://localhost:8080/"
    },
    "executionInfo": {
     "elapsed": 2732,
     "status": "ok",
     "timestamp": 1742737420112,
     "user": {
      "displayName": "Katarina Inezita",
      "userId": "04980882031321864073"
     },
     "user_tz": -420
    },
    "id": "-XzhTc-rjavG",
    "outputId": "520fa7bd-89ac-4dbd-bc87-970485815ef4"
   },
   "outputs": [],
   "source": [
    "model = YOLO(\"yolov9c-seg.pt\")"
   ]
  },
  {
   "cell_type": "code",
   "execution_count": 11,
   "metadata": {
    "colab": {
     "base_uri": "https://localhost:8080/"
    },
    "executionInfo": {
     "elapsed": 1116,
     "status": "ok",
     "timestamp": 1742737421232,
     "user": {
      "displayName": "Katarina Inezita",
      "userId": "04980882031321864073"
     },
     "user_tz": -420
    },
    "id": "XgJ-anyBjavH",
    "outputId": "20bcbdcb-48c0-4df9-8685-8c6a4d40f88e"
   },
   "outputs": [
    {
     "name": "stdout",
     "output_type": "stream",
     "text": [
      "YOLOv9c-seg summary: 654 layers, 27,897,120 parameters, 0 gradients, 159.4 GFLOPs\n"
     ]
    },
    {
     "data": {
      "text/plain": [
       "(654, 27897120, 0, 159.41411839999998)"
      ]
     },
     "execution_count": 11,
     "metadata": {},
     "output_type": "execute_result"
    }
   ],
   "source": [
    "model.info()"
   ]
  },
  {
   "cell_type": "code",
   "execution_count": 11,
   "metadata": {
    "colab": {
     "base_uri": "https://localhost:8080/"
    },
    "executionInfo": {
     "elapsed": 3910428,
     "status": "ok",
     "timestamp": 1742741331666,
     "user": {
      "displayName": "Katarina Inezita",
      "userId": "04980882031321864073"
     },
     "user_tz": -420
    },
    "id": "vixa5BgHjavI",
    "outputId": "d06dc18a-bb76-47c1-de26-ffa65c63b4cd"
   },
   "outputs": [
    {
     "name": "stdout",
     "output_type": "stream",
     "text": [
      "New https://pypi.org/project/ultralytics/8.3.95 available  Update with 'pip install -U ultralytics'\n",
      "Ultralytics YOLOv8.2.98  Python-3.12.4 torch-2.4.1 CUDA:0 (NVIDIA GeForce RTX 4080 SUPER, 16376MiB)\n",
      "\u001b[34m\u001b[1mengine\\trainer: \u001b[0mtask=segment, mode=train, model=yolov9c-seg.pt, data=C:\\5025211148\\YOLOv9-Segmentation\\merge-inez-1\\data.yaml, epochs=50, time=None, patience=100, batch=8, imgsz=640, save=True, save_period=-1, cache=False, device=None, workers=8, project=None, name=train17, exist_ok=False, pretrained=True, optimizer=auto, verbose=True, seed=0, deterministic=True, single_cls=False, rect=False, cos_lr=False, close_mosaic=10, resume=False, amp=True, fraction=1.0, profile=False, freeze=None, multi_scale=False, overlap_mask=True, mask_ratio=4, dropout=0.0, val=True, split=val, save_json=False, save_hybrid=False, conf=None, iou=0.7, max_det=300, half=False, dnn=False, plots=True, source=None, vid_stride=1, stream_buffer=False, visualize=False, augment=False, agnostic_nms=False, classes=None, retina_masks=False, embed=None, show=False, save_frames=False, save_txt=False, save_conf=False, save_crop=False, show_labels=True, show_conf=True, show_boxes=True, line_width=None, format=torchscript, keras=False, optimize=False, int8=False, dynamic=False, simplify=False, opset=None, workspace=4, nms=False, lr0=0.01, lrf=0.01, momentum=0.937, weight_decay=0.0005, warmup_epochs=3.0, warmup_momentum=0.8, warmup_bias_lr=0.1, box=7.5, cls=0.5, dfl=1.5, pose=12.0, kobj=1.0, label_smoothing=0.0, nbs=64, hsv_h=0.015, hsv_s=0.7, hsv_v=0.4, degrees=0.0, translate=0.1, scale=0.5, shear=0.0, perspective=0.0, flipud=0.0, fliplr=0.5, bgr=0.0, mosaic=1.0, mixup=0.0, copy_paste=0.0, auto_augment=randaugment, erasing=0.4, crop_fraction=1.0, cfg=None, tracker=botsort.yaml, save_dir=runs\\segment\\train17\n",
      "Overriding model.yaml nc=80 with nc=2\n",
      "\n",
      "                   from  n    params  module                                       arguments                     \n",
      "  0                  -1  1      1856  ultralytics.nn.modules.conv.Conv             [3, 64, 3, 2]                 \n",
      "  1                  -1  1     73984  ultralytics.nn.modules.conv.Conv             [64, 128, 3, 2]               \n",
      "  2                  -1  1    212864  ultralytics.nn.modules.block.RepNCSPELAN4    [128, 256, 128, 64, 1]        \n",
      "  3                  -1  1    164352  ultralytics.nn.modules.block.ADown           [256, 256]                    \n",
      "  4                  -1  1    847616  ultralytics.nn.modules.block.RepNCSPELAN4    [256, 512, 256, 128, 1]       \n",
      "  5                  -1  1    656384  ultralytics.nn.modules.block.ADown           [512, 512]                    \n",
      "  6                  -1  1   2857472  ultralytics.nn.modules.block.RepNCSPELAN4    [512, 512, 512, 256, 1]       \n",
      "  7                  -1  1    656384  ultralytics.nn.modules.block.ADown           [512, 512]                    \n",
      "  8                  -1  1   2857472  ultralytics.nn.modules.block.RepNCSPELAN4    [512, 512, 512, 256, 1]       \n",
      "  9                  -1  1    656896  ultralytics.nn.modules.block.SPPELAN         [512, 512, 256]               \n",
      " 10                  -1  1         0  torch.nn.modules.upsampling.Upsample         [None, 2, 'nearest']          \n",
      " 11             [-1, 6]  1         0  ultralytics.nn.modules.conv.Concat           [1]                           \n",
      " 12                  -1  1   3119616  ultralytics.nn.modules.block.RepNCSPELAN4    [1024, 512, 512, 256, 1]      \n",
      " 13                  -1  1         0  torch.nn.modules.upsampling.Upsample         [None, 2, 'nearest']          \n",
      " 14             [-1, 4]  1         0  ultralytics.nn.modules.conv.Concat           [1]                           \n",
      " 15                  -1  1    912640  ultralytics.nn.modules.block.RepNCSPELAN4    [1024, 256, 256, 128, 1]      \n",
      " 16                  -1  1    164352  ultralytics.nn.modules.block.ADown           [256, 256]                    \n",
      " 17            [-1, 12]  1         0  ultralytics.nn.modules.conv.Concat           [1]                           \n",
      " 18                  -1  1   2988544  ultralytics.nn.modules.block.RepNCSPELAN4    [768, 512, 512, 256, 1]       \n",
      " 19                  -1  1    656384  ultralytics.nn.modules.block.ADown           [512, 512]                    \n",
      " 20             [-1, 9]  1         0  ultralytics.nn.modules.conv.Concat           [1]                           \n",
      " 21                  -1  1   3119616  ultralytics.nn.modules.block.RepNCSPELAN4    [1024, 512, 512, 256, 1]      \n",
      " 22        [15, 18, 21]  1   7890550  ultralytics.nn.modules.head.Segment          [2, 32, 256, [256, 512, 512]] \n",
      "YOLOv9c-seg summary: 654 layers, 27,836,982 parameters, 27,836,966 gradients, 159.1 GFLOPs\n",
      "\n",
      "Transferred 993/999 items from pretrained weights\n",
      "Freezing layer 'model.22.dfl.conv.weight'\n",
      "\u001b[34m\u001b[1mAMP: \u001b[0mrunning Automatic Mixed Precision (AMP) checks with YOLOv8n...\n",
      "\u001b[34m\u001b[1mAMP: \u001b[0mchecks passed \n"
     ]
    },
    {
     "name": "stderr",
     "output_type": "stream",
     "text": [
      "\u001b[34m\u001b[1mtrain: \u001b[0mScanning C:\\5025211148\\YOLOv9-Segmentation\\merge-inez-1\\train\\labels.cache... 894 images, 0 backgrounds, 0 corrupt: 100%|██████████| 894/894 [00:00<?, ?it/s]\n",
      "\u001b[34m\u001b[1mval: \u001b[0mScanning C:\\5025211148\\YOLOv9-Segmentation\\merge-inez-1\\valid\\labels.cache... 75 images, 0 backgrounds, 0 corrupt: 100%|██████████| 75/75 [00:00<?, ?it/s]"
     ]
    },
    {
     "name": "stdout",
     "output_type": "stream",
     "text": [
      "\u001b[34m\u001b[1mval: \u001b[0mWARNING  C:\\5025211148\\YOLOv9-Segmentation\\merge-inez-1\\valid\\images\\slice_234_jpg.rf.8c97c306d89d4aea1956db536d9ae8da.jpg: 1 duplicate labels removed\n"
     ]
    },
    {
     "name": "stderr",
     "output_type": "stream",
     "text": [
      "\n"
     ]
    },
    {
     "name": "stdout",
     "output_type": "stream",
     "text": [
      "Plotting labels to runs\\segment\\train17\\labels.jpg... \n",
      "\u001b[34m\u001b[1moptimizer:\u001b[0m 'optimizer=auto' found, ignoring 'lr0=0.01' and 'momentum=0.937' and determining best 'optimizer', 'lr0' and 'momentum' automatically... \n",
      "\u001b[34m\u001b[1moptimizer:\u001b[0m AdamW(lr=0.001667, momentum=0.9) with parameter groups 163 weight(decay=0.0), 174 weight(decay=0.0005), 173 bias(decay=0.0)\n",
      "Image sizes 640 train, 640 val\n",
      "Using 8 dataloader workers\n",
      "Logging results to \u001b[1mruns\\segment\\train17\u001b[0m\n",
      "Starting training for 50 epochs...\n",
      "\n",
      "      Epoch    GPU_mem   box_loss   seg_loss   cls_loss   dfl_loss  Instances       Size\n"
     ]
    },
    {
     "name": "stderr",
     "output_type": "stream",
     "text": [
      "       1/50      6.69G      1.197      2.148      1.527       1.36         17        640: 100%|██████████| 112/112 [00:19<00:00,  5.72it/s]\n",
      "                 Class     Images  Instances      Box(P          R      mAP50  mAP50-95)     Mask(P          R      mAP50  mAP50-95): 100%|██████████| 5/5 [00:00<00:00,  6.28it/s]"
     ]
    },
    {
     "name": "stdout",
     "output_type": "stream",
     "text": [
      "                   all         75        150    0.00117      0.273    0.00113   0.000488   0.000744      0.173   0.000709   0.000174\n"
     ]
    },
    {
     "name": "stderr",
     "output_type": "stream",
     "text": [
      "\n"
     ]
    },
    {
     "name": "stdout",
     "output_type": "stream",
     "text": [
      "\n",
      "      Epoch    GPU_mem   box_loss   seg_loss   cls_loss   dfl_loss  Instances       Size\n"
     ]
    },
    {
     "name": "stderr",
     "output_type": "stream",
     "text": [
      "       2/50      6.65G      1.252      1.887      1.044      1.356         23        640: 100%|██████████| 112/112 [00:17<00:00,  6.41it/s]\n",
      "                 Class     Images  Instances      Box(P          R      mAP50  mAP50-95)     Mask(P          R      mAP50  mAP50-95): 100%|██████████| 5/5 [00:00<00:00,  7.37it/s]"
     ]
    },
    {
     "name": "stdout",
     "output_type": "stream",
     "text": [
      "                   all         75        150      0.104      0.492     0.0726     0.0188      0.101      0.419      0.059     0.0139\n"
     ]
    },
    {
     "name": "stderr",
     "output_type": "stream",
     "text": [
      "\n"
     ]
    },
    {
     "name": "stdout",
     "output_type": "stream",
     "text": [
      "\n",
      "      Epoch    GPU_mem   box_loss   seg_loss   cls_loss   dfl_loss  Instances       Size\n"
     ]
    },
    {
     "name": "stderr",
     "output_type": "stream",
     "text": [
      "       3/50      6.62G      1.211      1.896     0.9546      1.339         19        640: 100%|██████████| 112/112 [00:17<00:00,  6.45it/s]\n",
      "                 Class     Images  Instances      Box(P          R      mAP50  mAP50-95)     Mask(P          R      mAP50  mAP50-95): 100%|██████████| 5/5 [00:00<00:00,  7.21it/s]"
     ]
    },
    {
     "name": "stdout",
     "output_type": "stream",
     "text": [
      "                   all         75        150      0.341      0.565      0.487      0.366      0.374      0.584      0.483      0.355\n"
     ]
    },
    {
     "name": "stderr",
     "output_type": "stream",
     "text": [
      "\n"
     ]
    },
    {
     "name": "stdout",
     "output_type": "stream",
     "text": [
      "\n",
      "      Epoch    GPU_mem   box_loss   seg_loss   cls_loss   dfl_loss  Instances       Size\n"
     ]
    },
    {
     "name": "stderr",
     "output_type": "stream",
     "text": [
      "       4/50      6.69G      1.191      1.866     0.8495       1.32         15        640: 100%|██████████| 112/112 [00:17<00:00,  6.50it/s]\n",
      "                 Class     Images  Instances      Box(P          R      mAP50  mAP50-95)     Mask(P          R      mAP50  mAP50-95): 100%|██████████| 5/5 [00:00<00:00,  6.56it/s]"
     ]
    },
    {
     "name": "stdout",
     "output_type": "stream",
     "text": [
      "                   all         75        150      0.587      0.573       0.61      0.378      0.548      0.553      0.582       0.38\n"
     ]
    },
    {
     "name": "stderr",
     "output_type": "stream",
     "text": [
      "\n"
     ]
    },
    {
     "name": "stdout",
     "output_type": "stream",
     "text": [
      "\n",
      "      Epoch    GPU_mem   box_loss   seg_loss   cls_loss   dfl_loss  Instances       Size\n"
     ]
    },
    {
     "name": "stderr",
     "output_type": "stream",
     "text": [
      "       5/50      6.62G      1.087      1.683     0.7613      1.246         14        640: 100%|██████████| 112/112 [00:17<00:00,  6.46it/s]\n",
      "                 Class     Images  Instances      Box(P          R      mAP50  mAP50-95)     Mask(P          R      mAP50  mAP50-95): 100%|██████████| 5/5 [00:00<00:00,  7.44it/s]"
     ]
    },
    {
     "name": "stdout",
     "output_type": "stream",
     "text": [
      "                   all         75        150      0.176       0.18      0.121     0.0545      0.188        0.2      0.114     0.0428\n"
     ]
    },
    {
     "name": "stderr",
     "output_type": "stream",
     "text": [
      "\n"
     ]
    },
    {
     "name": "stdout",
     "output_type": "stream",
     "text": [
      "\n",
      "      Epoch    GPU_mem   box_loss   seg_loss   cls_loss   dfl_loss  Instances       Size\n"
     ]
    },
    {
     "name": "stderr",
     "output_type": "stream",
     "text": [
      "       6/50      6.64G      1.033       1.67     0.7094      1.215         22        640: 100%|██████████| 112/112 [00:17<00:00,  6.45it/s]\n",
      "                 Class     Images  Instances      Box(P          R      mAP50  mAP50-95)     Mask(P          R      mAP50  mAP50-95): 100%|██████████| 5/5 [00:00<00:00,  7.07it/s]"
     ]
    },
    {
     "name": "stdout",
     "output_type": "stream",
     "text": [
      "                   all         75        150      0.682      0.613      0.583      0.466      0.656       0.63      0.598      0.471\n"
     ]
    },
    {
     "name": "stderr",
     "output_type": "stream",
     "text": [
      "\n"
     ]
    },
    {
     "name": "stdout",
     "output_type": "stream",
     "text": [
      "\n",
      "      Epoch    GPU_mem   box_loss   seg_loss   cls_loss   dfl_loss  Instances       Size\n"
     ]
    },
    {
     "name": "stderr",
     "output_type": "stream",
     "text": [
      "       7/50      6.62G      1.019      1.604     0.6603      1.215         17        640: 100%|██████████| 112/112 [00:17<00:00,  6.42it/s]\n",
      "                 Class     Images  Instances      Box(P          R      mAP50  mAP50-95)     Mask(P          R      mAP50  mAP50-95): 100%|██████████| 5/5 [00:00<00:00,  7.33it/s]"
     ]
    },
    {
     "name": "stdout",
     "output_type": "stream",
     "text": [
      "                   all         75        150      0.789      0.667      0.715      0.509      0.819      0.684      0.748      0.486\n"
     ]
    },
    {
     "name": "stderr",
     "output_type": "stream",
     "text": [
      "\n"
     ]
    },
    {
     "name": "stdout",
     "output_type": "stream",
     "text": [
      "\n",
      "      Epoch    GPU_mem   box_loss   seg_loss   cls_loss   dfl_loss  Instances       Size\n"
     ]
    },
    {
     "name": "stderr",
     "output_type": "stream",
     "text": [
      "       8/50      6.61G     0.9916      1.555      0.628      1.191         23        640: 100%|██████████| 112/112 [00:17<00:00,  6.43it/s]\n",
      "                 Class     Images  Instances      Box(P          R      mAP50  mAP50-95)     Mask(P          R      mAP50  mAP50-95): 100%|██████████| 5/5 [00:00<00:00,  7.43it/s]"
     ]
    },
    {
     "name": "stdout",
     "output_type": "stream",
     "text": [
      "                   all         75        150      0.843      0.851      0.856      0.548      0.807      0.838      0.839      0.561\n"
     ]
    },
    {
     "name": "stderr",
     "output_type": "stream",
     "text": [
      "\n"
     ]
    },
    {
     "name": "stdout",
     "output_type": "stream",
     "text": [
      "\n",
      "      Epoch    GPU_mem   box_loss   seg_loss   cls_loss   dfl_loss  Instances       Size\n"
     ]
    },
    {
     "name": "stderr",
     "output_type": "stream",
     "text": [
      "       9/50      6.62G      0.977      1.551     0.6082       1.18         26        640: 100%|██████████| 112/112 [00:17<00:00,  6.46it/s]\n",
      "                 Class     Images  Instances      Box(P          R      mAP50  mAP50-95)     Mask(P          R      mAP50  mAP50-95): 100%|██████████| 5/5 [00:00<00:00,  7.25it/s]"
     ]
    },
    {
     "name": "stdout",
     "output_type": "stream",
     "text": [
      "                   all         75        150      0.727      0.733      0.707      0.532      0.759       0.76      0.725       0.53\n"
     ]
    },
    {
     "name": "stderr",
     "output_type": "stream",
     "text": [
      "\n"
     ]
    },
    {
     "name": "stdout",
     "output_type": "stream",
     "text": [
      "\n",
      "      Epoch    GPU_mem   box_loss   seg_loss   cls_loss   dfl_loss  Instances       Size\n"
     ]
    },
    {
     "name": "stderr",
     "output_type": "stream",
     "text": [
      "      10/50      6.63G     0.9815      1.542     0.5775      1.181         19        640: 100%|██████████| 112/112 [00:17<00:00,  6.49it/s]\n",
      "                 Class     Images  Instances      Box(P          R      mAP50  mAP50-95)     Mask(P          R      mAP50  mAP50-95): 100%|██████████| 5/5 [00:00<00:00,  7.01it/s]"
     ]
    },
    {
     "name": "stdout",
     "output_type": "stream",
     "text": [
      "                   all         75        150      0.833      0.847      0.824      0.567      0.833      0.847      0.814      0.533\n"
     ]
    },
    {
     "name": "stderr",
     "output_type": "stream",
     "text": [
      "\n"
     ]
    },
    {
     "name": "stdout",
     "output_type": "stream",
     "text": [
      "\n",
      "      Epoch    GPU_mem   box_loss   seg_loss   cls_loss   dfl_loss  Instances       Size\n"
     ]
    },
    {
     "name": "stderr",
     "output_type": "stream",
     "text": [
      "      11/50      6.61G     0.9398       1.48     0.5622      1.162         30        640: 100%|██████████| 112/112 [00:17<00:00,  6.55it/s]\n",
      "                 Class     Images  Instances      Box(P          R      mAP50  mAP50-95)     Mask(P          R      mAP50  mAP50-95): 100%|██████████| 5/5 [00:00<00:00,  7.44it/s]"
     ]
    },
    {
     "name": "stdout",
     "output_type": "stream",
     "text": [
      "                   all         75        150      0.895      0.907      0.891      0.517        0.9      0.913      0.883      0.554\n"
     ]
    },
    {
     "name": "stderr",
     "output_type": "stream",
     "text": [
      "\n"
     ]
    },
    {
     "name": "stdout",
     "output_type": "stream",
     "text": [
      "\n",
      "      Epoch    GPU_mem   box_loss   seg_loss   cls_loss   dfl_loss  Instances       Size\n"
     ]
    },
    {
     "name": "stderr",
     "output_type": "stream",
     "text": [
      "      12/50      6.64G     0.9375      1.493     0.5561      1.159         23        640: 100%|██████████| 112/112 [00:17<00:00,  6.55it/s]\n",
      "                 Class     Images  Instances      Box(P          R      mAP50  mAP50-95)     Mask(P          R      mAP50  mAP50-95): 100%|██████████| 5/5 [00:00<00:00,  7.59it/s]"
     ]
    },
    {
     "name": "stdout",
     "output_type": "stream",
     "text": [
      "                   all         75        150      0.729       0.68      0.702      0.333        0.7       0.62      0.658      0.306\n"
     ]
    },
    {
     "name": "stderr",
     "output_type": "stream",
     "text": [
      "\n"
     ]
    },
    {
     "name": "stdout",
     "output_type": "stream",
     "text": [
      "\n",
      "      Epoch    GPU_mem   box_loss   seg_loss   cls_loss   dfl_loss  Instances       Size\n"
     ]
    },
    {
     "name": "stderr",
     "output_type": "stream",
     "text": [
      "      13/50      6.63G     0.9231      1.452     0.5418      1.154         25        640: 100%|██████████| 112/112 [00:17<00:00,  6.54it/s]\n",
      "                 Class     Images  Instances      Box(P          R      mAP50  mAP50-95)     Mask(P          R      mAP50  mAP50-95): 100%|██████████| 5/5 [00:00<00:00,  7.28it/s]"
     ]
    },
    {
     "name": "stdout",
     "output_type": "stream",
     "text": [
      "                   all         75        150      0.748      0.668      0.675      0.513      0.714      0.673        0.7       0.45\n"
     ]
    },
    {
     "name": "stderr",
     "output_type": "stream",
     "text": [
      "\n"
     ]
    },
    {
     "name": "stdout",
     "output_type": "stream",
     "text": [
      "\n",
      "      Epoch    GPU_mem   box_loss   seg_loss   cls_loss   dfl_loss  Instances       Size\n"
     ]
    },
    {
     "name": "stderr",
     "output_type": "stream",
     "text": [
      "      14/50      6.63G     0.9352      1.489     0.5391      1.152         24        640: 100%|██████████| 112/112 [00:17<00:00,  6.51it/s]\n",
      "                 Class     Images  Instances      Box(P          R      mAP50  mAP50-95)     Mask(P          R      mAP50  mAP50-95): 100%|██████████| 5/5 [00:00<00:00,  7.44it/s]"
     ]
    },
    {
     "name": "stdout",
     "output_type": "stream",
     "text": [
      "                   all         75        150      0.718       0.68      0.638      0.502      0.759      0.717      0.678      0.494\n"
     ]
    },
    {
     "name": "stderr",
     "output_type": "stream",
     "text": [
      "\n"
     ]
    },
    {
     "name": "stdout",
     "output_type": "stream",
     "text": [
      "\n",
      "      Epoch    GPU_mem   box_loss   seg_loss   cls_loss   dfl_loss  Instances       Size\n"
     ]
    },
    {
     "name": "stderr",
     "output_type": "stream",
     "text": [
      "      15/50      6.61G      0.907      1.445     0.5339      1.149         27        640: 100%|██████████| 112/112 [00:17<00:00,  6.55it/s]\n",
      "                 Class     Images  Instances      Box(P          R      mAP50  mAP50-95)     Mask(P          R      mAP50  mAP50-95): 100%|██████████| 5/5 [00:00<00:00,  7.45it/s]"
     ]
    },
    {
     "name": "stdout",
     "output_type": "stream",
     "text": [
      "                   all         75        150      0.777      0.787      0.691      0.531      0.785      0.788      0.696      0.512\n"
     ]
    },
    {
     "name": "stderr",
     "output_type": "stream",
     "text": [
      "\n"
     ]
    },
    {
     "name": "stdout",
     "output_type": "stream",
     "text": [
      "\n",
      "      Epoch    GPU_mem   box_loss   seg_loss   cls_loss   dfl_loss  Instances       Size\n"
     ]
    },
    {
     "name": "stderr",
     "output_type": "stream",
     "text": [
      "      16/50      6.61G     0.9142      1.458      0.521      1.152         21        640: 100%|██████████| 112/112 [00:17<00:00,  6.47it/s]\n",
      "                 Class     Images  Instances      Box(P          R      mAP50  mAP50-95)     Mask(P          R      mAP50  mAP50-95): 100%|██████████| 5/5 [00:00<00:00,  7.12it/s]"
     ]
    },
    {
     "name": "stdout",
     "output_type": "stream",
     "text": [
      "                   all         75        150      0.706      0.733      0.669      0.519      0.761       0.76      0.716      0.504\n"
     ]
    },
    {
     "name": "stderr",
     "output_type": "stream",
     "text": [
      "\n"
     ]
    },
    {
     "name": "stdout",
     "output_type": "stream",
     "text": [
      "\n",
      "      Epoch    GPU_mem   box_loss   seg_loss   cls_loss   dfl_loss  Instances       Size\n"
     ]
    },
    {
     "name": "stderr",
     "output_type": "stream",
     "text": [
      "      17/50      6.61G     0.8872      1.424     0.4967      1.147         28        640: 100%|██████████| 112/112 [00:17<00:00,  6.49it/s]\n",
      "                 Class     Images  Instances      Box(P          R      mAP50  mAP50-95)     Mask(P          R      mAP50  mAP50-95): 100%|██████████| 5/5 [00:00<00:00,  7.47it/s]"
     ]
    },
    {
     "name": "stdout",
     "output_type": "stream",
     "text": [
      "                   all         75        150      0.781       0.72      0.723      0.564      0.757      0.765      0.727      0.538\n"
     ]
    },
    {
     "name": "stderr",
     "output_type": "stream",
     "text": [
      "\n"
     ]
    },
    {
     "name": "stdout",
     "output_type": "stream",
     "text": [
      "\n",
      "      Epoch    GPU_mem   box_loss   seg_loss   cls_loss   dfl_loss  Instances       Size\n"
     ]
    },
    {
     "name": "stderr",
     "output_type": "stream",
     "text": [
      "      18/50      6.61G     0.8934      1.421     0.5016      1.145         37        640: 100%|██████████| 112/112 [00:17<00:00,  6.54it/s]\n",
      "                 Class     Images  Instances      Box(P          R      mAP50  mAP50-95)     Mask(P          R      mAP50  mAP50-95): 100%|██████████| 5/5 [00:00<00:00,  7.59it/s]"
     ]
    },
    {
     "name": "stdout",
     "output_type": "stream",
     "text": [
      "                   all         75        150      0.791       0.82      0.771      0.535      0.795      0.814      0.754      0.524\n"
     ]
    },
    {
     "name": "stderr",
     "output_type": "stream",
     "text": [
      "\n"
     ]
    },
    {
     "name": "stdout",
     "output_type": "stream",
     "text": [
      "\n",
      "      Epoch    GPU_mem   box_loss   seg_loss   cls_loss   dfl_loss  Instances       Size\n"
     ]
    },
    {
     "name": "stderr",
     "output_type": "stream",
     "text": [
      "      19/50      6.66G     0.8939      1.401     0.4968       1.14         26        640: 100%|██████████| 112/112 [00:17<00:00,  6.58it/s]\n",
      "                 Class     Images  Instances      Box(P          R      mAP50  mAP50-95)     Mask(P          R      mAP50  mAP50-95): 100%|██████████| 5/5 [00:00<00:00,  7.21it/s]"
     ]
    },
    {
     "name": "stdout",
     "output_type": "stream",
     "text": [
      "                   all         75        150      0.797      0.767      0.737      0.552      0.827        0.8      0.762      0.545\n"
     ]
    },
    {
     "name": "stderr",
     "output_type": "stream",
     "text": [
      "\n"
     ]
    },
    {
     "name": "stdout",
     "output_type": "stream",
     "text": [
      "\n",
      "      Epoch    GPU_mem   box_loss   seg_loss   cls_loss   dfl_loss  Instances       Size\n"
     ]
    },
    {
     "name": "stderr",
     "output_type": "stream",
     "text": [
      "      20/50      6.61G     0.8719      1.389     0.4812       1.12         18        640: 100%|██████████| 112/112 [00:17<00:00,  6.55it/s]\n",
      "                 Class     Images  Instances      Box(P          R      mAP50  mAP50-95)     Mask(P          R      mAP50  mAP50-95): 100%|██████████| 5/5 [00:00<00:00,  7.81it/s]"
     ]
    },
    {
     "name": "stdout",
     "output_type": "stream",
     "text": [
      "                   all         75        150      0.707      0.753      0.651      0.529      0.714       0.76       0.65      0.509\n"
     ]
    },
    {
     "name": "stderr",
     "output_type": "stream",
     "text": [
      "\n"
     ]
    },
    {
     "name": "stdout",
     "output_type": "stream",
     "text": [
      "\n",
      "      Epoch    GPU_mem   box_loss   seg_loss   cls_loss   dfl_loss  Instances       Size\n"
     ]
    },
    {
     "name": "stderr",
     "output_type": "stream",
     "text": [
      "      21/50      6.63G     0.8833      1.402     0.4714      1.135         27        640: 100%|██████████| 112/112 [00:17<00:00,  6.54it/s]\n",
      "                 Class     Images  Instances      Box(P          R      mAP50  mAP50-95)     Mask(P          R      mAP50  mAP50-95): 100%|██████████| 5/5 [00:00<00:00,  7.41it/s]"
     ]
    },
    {
     "name": "stdout",
     "output_type": "stream",
     "text": [
      "                   all         75        150      0.652      0.753      0.669      0.547      0.696       0.72      0.658       0.52\n"
     ]
    },
    {
     "name": "stderr",
     "output_type": "stream",
     "text": [
      "\n"
     ]
    },
    {
     "name": "stdout",
     "output_type": "stream",
     "text": [
      "\n",
      "      Epoch    GPU_mem   box_loss   seg_loss   cls_loss   dfl_loss  Instances       Size\n"
     ]
    },
    {
     "name": "stderr",
     "output_type": "stream",
     "text": [
      "      22/50      6.64G     0.8602      1.393     0.4605      1.118         26        640: 100%|██████████| 112/112 [00:17<00:00,  6.42it/s]\n",
      "                 Class     Images  Instances      Box(P          R      mAP50  mAP50-95)     Mask(P          R      mAP50  mAP50-95): 100%|██████████| 5/5 [00:00<00:00,  6.99it/s]"
     ]
    },
    {
     "name": "stdout",
     "output_type": "stream",
     "text": [
      "                   all         75        150      0.799      0.747      0.726      0.545      0.807      0.753      0.761      0.534\n"
     ]
    },
    {
     "name": "stderr",
     "output_type": "stream",
     "text": [
      "\n"
     ]
    },
    {
     "name": "stdout",
     "output_type": "stream",
     "text": [
      "\n",
      "      Epoch    GPU_mem   box_loss   seg_loss   cls_loss   dfl_loss  Instances       Size\n"
     ]
    },
    {
     "name": "stderr",
     "output_type": "stream",
     "text": [
      "      23/50      6.65G     0.8367      1.351     0.4506      1.115         22        640: 100%|██████████| 112/112 [00:17<00:00,  6.42it/s]\n",
      "                 Class     Images  Instances      Box(P          R      mAP50  mAP50-95)     Mask(P          R      mAP50  mAP50-95): 100%|██████████| 5/5 [00:00<00:00,  7.13it/s]"
     ]
    },
    {
     "name": "stdout",
     "output_type": "stream",
     "text": [
      "                   all         75        150      0.791      0.767      0.711      0.533      0.821      0.793      0.765       0.52\n"
     ]
    },
    {
     "name": "stderr",
     "output_type": "stream",
     "text": [
      "\n"
     ]
    },
    {
     "name": "stdout",
     "output_type": "stream",
     "text": [
      "\n",
      "      Epoch    GPU_mem   box_loss   seg_loss   cls_loss   dfl_loss  Instances       Size\n"
     ]
    },
    {
     "name": "stderr",
     "output_type": "stream",
     "text": [
      "      24/50      6.61G     0.8352      1.347     0.4419      1.112         19        640: 100%|██████████| 112/112 [00:17<00:00,  6.38it/s]\n",
      "                 Class     Images  Instances      Box(P          R      mAP50  mAP50-95)     Mask(P          R      mAP50  mAP50-95): 100%|██████████| 5/5 [00:00<00:00,  7.12it/s]"
     ]
    },
    {
     "name": "stdout",
     "output_type": "stream",
     "text": [
      "                   all         75        150      0.893      0.807      0.843      0.567      0.905      0.871      0.892      0.573\n"
     ]
    },
    {
     "name": "stderr",
     "output_type": "stream",
     "text": [
      "\n"
     ]
    },
    {
     "name": "stdout",
     "output_type": "stream",
     "text": [
      "\n",
      "      Epoch    GPU_mem   box_loss   seg_loss   cls_loss   dfl_loss  Instances       Size\n"
     ]
    },
    {
     "name": "stderr",
     "output_type": "stream",
     "text": [
      "      25/50      6.64G      0.858      1.382     0.4486      1.115         20        640: 100%|██████████| 112/112 [00:17<00:00,  6.36it/s]\n",
      "                 Class     Images  Instances      Box(P          R      mAP50  mAP50-95)     Mask(P          R      mAP50  mAP50-95): 100%|██████████| 5/5 [00:00<00:00,  7.46it/s]"
     ]
    },
    {
     "name": "stdout",
     "output_type": "stream",
     "text": [
      "                   all         75        150      0.846      0.753      0.769      0.556      0.884       0.78      0.815      0.564\n"
     ]
    },
    {
     "name": "stderr",
     "output_type": "stream",
     "text": [
      "\n"
     ]
    },
    {
     "name": "stdout",
     "output_type": "stream",
     "text": [
      "\n",
      "      Epoch    GPU_mem   box_loss   seg_loss   cls_loss   dfl_loss  Instances       Size\n"
     ]
    },
    {
     "name": "stderr",
     "output_type": "stream",
     "text": [
      "      26/50      6.66G     0.8379      1.357     0.4368       1.11         24        640: 100%|██████████| 112/112 [00:17<00:00,  6.42it/s]\n",
      "                 Class     Images  Instances      Box(P          R      mAP50  mAP50-95)     Mask(P          R      mAP50  mAP50-95): 100%|██████████| 5/5 [00:00<00:00,  7.30it/s]"
     ]
    },
    {
     "name": "stdout",
     "output_type": "stream",
     "text": [
      "                   all         75        150      0.827       0.84      0.777      0.576      0.833      0.847      0.787      0.541\n"
     ]
    },
    {
     "name": "stderr",
     "output_type": "stream",
     "text": [
      "\n"
     ]
    },
    {
     "name": "stdout",
     "output_type": "stream",
     "text": [
      "\n",
      "      Epoch    GPU_mem   box_loss   seg_loss   cls_loss   dfl_loss  Instances       Size\n"
     ]
    },
    {
     "name": "stderr",
     "output_type": "stream",
     "text": [
      "      27/50      6.41G     0.8447      1.347      0.437      1.113         21        640: 100%|██████████| 112/112 [00:17<00:00,  6.55it/s]\n",
      "                 Class     Images  Instances      Box(P          R      mAP50  mAP50-95)     Mask(P          R      mAP50  mAP50-95): 100%|██████████| 5/5 [00:00<00:00,  7.31it/s]"
     ]
    },
    {
     "name": "stdout",
     "output_type": "stream",
     "text": [
      "                   all         75        150      0.839      0.813      0.831       0.59      0.854      0.826      0.873      0.568\n"
     ]
    },
    {
     "name": "stderr",
     "output_type": "stream",
     "text": [
      "\n"
     ]
    },
    {
     "name": "stdout",
     "output_type": "stream",
     "text": [
      "\n",
      "      Epoch    GPU_mem   box_loss   seg_loss   cls_loss   dfl_loss  Instances       Size\n"
     ]
    },
    {
     "name": "stderr",
     "output_type": "stream",
     "text": [
      "      28/50      6.64G     0.8323      1.315     0.4308      1.113         23        640: 100%|██████████| 112/112 [00:17<00:00,  6.45it/s]\n",
      "                 Class     Images  Instances      Box(P          R      mAP50  mAP50-95)     Mask(P          R      mAP50  mAP50-95): 100%|██████████| 5/5 [00:00<00:00,  7.28it/s]"
     ]
    },
    {
     "name": "stdout",
     "output_type": "stream",
     "text": [
      "                   all         75        150      0.738      0.747      0.676       0.54      0.782      0.753      0.712      0.522\n"
     ]
    },
    {
     "name": "stderr",
     "output_type": "stream",
     "text": [
      "\n"
     ]
    },
    {
     "name": "stdout",
     "output_type": "stream",
     "text": [
      "\n",
      "      Epoch    GPU_mem   box_loss   seg_loss   cls_loss   dfl_loss  Instances       Size\n"
     ]
    },
    {
     "name": "stderr",
     "output_type": "stream",
     "text": [
      "      29/50      6.64G     0.8283      1.319      0.428      1.097         20        640: 100%|██████████| 112/112 [00:17<00:00,  6.48it/s]\n",
      "                 Class     Images  Instances      Box(P          R      mAP50  mAP50-95)     Mask(P          R      mAP50  mAP50-95): 100%|██████████| 5/5 [00:00<00:00,  7.11it/s]"
     ]
    },
    {
     "name": "stdout",
     "output_type": "stream",
     "text": [
      "                   all         75        150      0.861      0.833      0.812       0.57      0.889      0.867      0.872       0.57\n"
     ]
    },
    {
     "name": "stderr",
     "output_type": "stream",
     "text": [
      "\n"
     ]
    },
    {
     "name": "stdout",
     "output_type": "stream",
     "text": [
      "\n",
      "      Epoch    GPU_mem   box_loss   seg_loss   cls_loss   dfl_loss  Instances       Size\n"
     ]
    },
    {
     "name": "stderr",
     "output_type": "stream",
     "text": [
      "      30/50      6.63G     0.8283      1.325     0.4281      1.096         19        640: 100%|██████████| 112/112 [00:17<00:00,  6.53it/s]\n",
      "                 Class     Images  Instances      Box(P          R      mAP50  mAP50-95)     Mask(P          R      mAP50  mAP50-95): 100%|██████████| 5/5 [00:00<00:00,  7.66it/s]"
     ]
    },
    {
     "name": "stdout",
     "output_type": "stream",
     "text": [
      "                   all         75        150      0.917      0.885      0.901      0.574      0.923      0.933      0.927       0.58\n"
     ]
    },
    {
     "name": "stderr",
     "output_type": "stream",
     "text": [
      "\n"
     ]
    },
    {
     "name": "stdout",
     "output_type": "stream",
     "text": [
      "\n",
      "      Epoch    GPU_mem   box_loss   seg_loss   cls_loss   dfl_loss  Instances       Size\n"
     ]
    },
    {
     "name": "stderr",
     "output_type": "stream",
     "text": [
      "      31/50      6.64G     0.7904      1.286     0.4055      1.085         29        640: 100%|██████████| 112/112 [00:17<00:00,  6.55it/s]\n",
      "                 Class     Images  Instances      Box(P          R      mAP50  mAP50-95)     Mask(P          R      mAP50  mAP50-95): 100%|██████████| 5/5 [00:00<00:00,  7.48it/s]"
     ]
    },
    {
     "name": "stdout",
     "output_type": "stream",
     "text": [
      "                   all         75        150      0.796      0.731      0.729      0.542       0.76      0.751      0.734      0.521\n"
     ]
    },
    {
     "name": "stderr",
     "output_type": "stream",
     "text": [
      "\n"
     ]
    },
    {
     "name": "stdout",
     "output_type": "stream",
     "text": [
      "\n",
      "      Epoch    GPU_mem   box_loss   seg_loss   cls_loss   dfl_loss  Instances       Size\n"
     ]
    },
    {
     "name": "stderr",
     "output_type": "stream",
     "text": [
      "      32/50      6.62G      0.806      1.283     0.4061      1.083         14        640: 100%|██████████| 112/112 [00:17<00:00,  6.58it/s]\n",
      "                 Class     Images  Instances      Box(P          R      mAP50  mAP50-95)     Mask(P          R      mAP50  mAP50-95): 100%|██████████| 5/5 [00:00<00:00,  7.46it/s]"
     ]
    },
    {
     "name": "stdout",
     "output_type": "stream",
     "text": [
      "                   all         75        150      0.808      0.827      0.785      0.586      0.814      0.833       0.79      0.558\n"
     ]
    },
    {
     "name": "stderr",
     "output_type": "stream",
     "text": [
      "\n"
     ]
    },
    {
     "name": "stdout",
     "output_type": "stream",
     "text": [
      "\n",
      "      Epoch    GPU_mem   box_loss   seg_loss   cls_loss   dfl_loss  Instances       Size\n"
     ]
    },
    {
     "name": "stderr",
     "output_type": "stream",
     "text": [
      "      33/50      6.62G      0.784      1.272     0.4054      1.076         28        640: 100%|██████████| 112/112 [00:17<00:00,  6.53it/s]\n",
      "                 Class     Images  Instances      Box(P          R      mAP50  mAP50-95)     Mask(P          R      mAP50  mAP50-95): 100%|██████████| 5/5 [00:00<00:00,  7.26it/s]"
     ]
    },
    {
     "name": "stdout",
     "output_type": "stream",
     "text": [
      "                   all         75        150      0.868      0.812        0.8      0.572      0.902      0.815      0.839      0.565\n"
     ]
    },
    {
     "name": "stderr",
     "output_type": "stream",
     "text": [
      "\n"
     ]
    },
    {
     "name": "stdout",
     "output_type": "stream",
     "text": [
      "\n",
      "      Epoch    GPU_mem   box_loss   seg_loss   cls_loss   dfl_loss  Instances       Size\n"
     ]
    },
    {
     "name": "stderr",
     "output_type": "stream",
     "text": [
      "      34/50      6.64G     0.7757      1.254     0.3947      1.079         21        640: 100%|██████████| 112/112 [00:17<00:00,  6.52it/s]\n",
      "                 Class     Images  Instances      Box(P          R      mAP50  mAP50-95)     Mask(P          R      mAP50  mAP50-95): 100%|██████████| 5/5 [00:00<00:00,  7.31it/s]"
     ]
    },
    {
     "name": "stdout",
     "output_type": "stream",
     "text": [
      "                   all         75        150      0.807        0.8       0.74       0.56      0.838      0.807      0.766      0.542\n"
     ]
    },
    {
     "name": "stderr",
     "output_type": "stream",
     "text": [
      "\n"
     ]
    },
    {
     "name": "stdout",
     "output_type": "stream",
     "text": [
      "\n",
      "      Epoch    GPU_mem   box_loss   seg_loss   cls_loss   dfl_loss  Instances       Size\n"
     ]
    },
    {
     "name": "stderr",
     "output_type": "stream",
     "text": [
      "      35/50      6.61G     0.7879      1.235     0.3922      1.067         17        640: 100%|██████████| 112/112 [00:17<00:00,  6.42it/s]\n",
      "                 Class     Images  Instances      Box(P          R      mAP50  mAP50-95)     Mask(P          R      mAP50  mAP50-95): 100%|██████████| 5/5 [00:00<00:00,  7.28it/s]"
     ]
    },
    {
     "name": "stdout",
     "output_type": "stream",
     "text": [
      "                   all         75        150      0.882      0.908      0.878      0.597      0.921      0.887      0.891       0.58\n"
     ]
    },
    {
     "name": "stderr",
     "output_type": "stream",
     "text": [
      "\n"
     ]
    },
    {
     "name": "stdout",
     "output_type": "stream",
     "text": [
      "\n",
      "      Epoch    GPU_mem   box_loss   seg_loss   cls_loss   dfl_loss  Instances       Size\n"
     ]
    },
    {
     "name": "stderr",
     "output_type": "stream",
     "text": [
      "      36/50      6.64G     0.7892      1.262     0.3966      1.085         22        640: 100%|██████████| 112/112 [00:17<00:00,  6.48it/s]\n",
      "                 Class     Images  Instances      Box(P          R      mAP50  mAP50-95)     Mask(P          R      mAP50  mAP50-95): 100%|██████████| 5/5 [00:00<00:00,  7.61it/s]"
     ]
    },
    {
     "name": "stdout",
     "output_type": "stream",
     "text": [
      "                   all         75        150      0.872      0.893       0.85      0.595      0.898       0.92      0.896      0.596\n"
     ]
    },
    {
     "name": "stderr",
     "output_type": "stream",
     "text": [
      "\n"
     ]
    },
    {
     "name": "stdout",
     "output_type": "stream",
     "text": [
      "\n",
      "      Epoch    GPU_mem   box_loss   seg_loss   cls_loss   dfl_loss  Instances       Size\n"
     ]
    },
    {
     "name": "stderr",
     "output_type": "stream",
     "text": [
      "      37/50      6.66G     0.7606      1.218     0.3805      1.071         25        640: 100%|██████████| 112/112 [00:17<00:00,  6.55it/s]\n",
      "                 Class     Images  Instances      Box(P          R      mAP50  mAP50-95)     Mask(P          R      mAP50  mAP50-95): 100%|██████████| 5/5 [00:00<00:00,  7.63it/s]"
     ]
    },
    {
     "name": "stdout",
     "output_type": "stream",
     "text": [
      "                   all         75        150      0.819      0.814      0.785      0.585      0.824       0.82      0.773       0.56\n"
     ]
    },
    {
     "name": "stderr",
     "output_type": "stream",
     "text": [
      "\n"
     ]
    },
    {
     "name": "stdout",
     "output_type": "stream",
     "text": [
      "\n",
      "      Epoch    GPU_mem   box_loss   seg_loss   cls_loss   dfl_loss  Instances       Size\n"
     ]
    },
    {
     "name": "stderr",
     "output_type": "stream",
     "text": [
      "      38/50      6.64G     0.7649      1.218     0.3823      1.071         15        640: 100%|██████████| 112/112 [00:17<00:00,  6.57it/s]\n",
      "                 Class     Images  Instances      Box(P          R      mAP50  mAP50-95)     Mask(P          R      mAP50  mAP50-95): 100%|██████████| 5/5 [00:00<00:00,  7.45it/s]"
     ]
    },
    {
     "name": "stdout",
     "output_type": "stream",
     "text": [
      "                   all         75        150      0.872      0.893       0.86        0.6      0.889      0.894      0.882      0.573\n"
     ]
    },
    {
     "name": "stderr",
     "output_type": "stream",
     "text": [
      "\n"
     ]
    },
    {
     "name": "stdout",
     "output_type": "stream",
     "text": [
      "\n",
      "      Epoch    GPU_mem   box_loss   seg_loss   cls_loss   dfl_loss  Instances       Size\n"
     ]
    },
    {
     "name": "stderr",
     "output_type": "stream",
     "text": [
      "      39/50      6.62G     0.7599      1.219     0.3781      1.056         22        640: 100%|██████████| 112/112 [00:17<00:00,  6.55it/s]\n",
      "                 Class     Images  Instances      Box(P          R      mAP50  mAP50-95)     Mask(P          R      mAP50  mAP50-95): 100%|██████████| 5/5 [00:00<00:00,  7.42it/s]"
     ]
    },
    {
     "name": "stdout",
     "output_type": "stream",
     "text": [
      "                   all         75        150      0.866      0.887       0.87      0.592      0.896       0.92      0.924      0.592\n"
     ]
    },
    {
     "name": "stderr",
     "output_type": "stream",
     "text": [
      "\n"
     ]
    },
    {
     "name": "stdout",
     "output_type": "stream",
     "text": [
      "\n",
      "      Epoch    GPU_mem   box_loss   seg_loss   cls_loss   dfl_loss  Instances       Size\n"
     ]
    },
    {
     "name": "stderr",
     "output_type": "stream",
     "text": [
      "      40/50      6.42G     0.7425      1.211     0.3657      1.058         29        640: 100%|██████████| 112/112 [00:17<00:00,  6.55it/s]\n",
      "                 Class     Images  Instances      Box(P          R      mAP50  mAP50-95)     Mask(P          R      mAP50  mAP50-95): 100%|██████████| 5/5 [00:00<00:00,  7.61it/s]"
     ]
    },
    {
     "name": "stdout",
     "output_type": "stream",
     "text": [
      "                   all         75        150       0.88      0.853      0.838      0.603      0.887      0.859      0.853       0.58\n"
     ]
    },
    {
     "name": "stderr",
     "output_type": "stream",
     "text": [
      "\n"
     ]
    },
    {
     "name": "stdout",
     "output_type": "stream",
     "text": [
      "Closing dataloader mosaic\n",
      "\n",
      "      Epoch    GPU_mem   box_loss   seg_loss   cls_loss   dfl_loss  Instances       Size\n"
     ]
    },
    {
     "name": "stderr",
     "output_type": "stream",
     "text": [
      "      41/50      6.61G     0.7623      1.266     0.3515      1.097         12        640: 100%|██████████| 112/112 [00:17<00:00,  6.31it/s]\n",
      "                 Class     Images  Instances      Box(P          R      mAP50  mAP50-95)     Mask(P          R      mAP50  mAP50-95): 100%|██████████| 5/5 [00:00<00:00,  7.44it/s]"
     ]
    },
    {
     "name": "stdout",
     "output_type": "stream",
     "text": [
      "                   all         75        150      0.735      0.767      0.682      0.557      0.734      0.767      0.677      0.518\n"
     ]
    },
    {
     "name": "stderr",
     "output_type": "stream",
     "text": [
      "\n"
     ]
    },
    {
     "name": "stdout",
     "output_type": "stream",
     "text": [
      "\n",
      "      Epoch    GPU_mem   box_loss   seg_loss   cls_loss   dfl_loss  Instances       Size\n"
     ]
    },
    {
     "name": "stderr",
     "output_type": "stream",
     "text": [
      "      42/50      6.61G     0.7593      1.252     0.3423      1.103         12        640: 100%|██████████| 112/112 [00:17<00:00,  6.45it/s]\n",
      "                 Class     Images  Instances      Box(P          R      mAP50  mAP50-95)     Mask(P          R      mAP50  mAP50-95): 100%|██████████| 5/5 [00:00<00:00,  7.45it/s]"
     ]
    },
    {
     "name": "stdout",
     "output_type": "stream",
     "text": [
      "                   all         75        150      0.888       0.86       0.87      0.603      0.895      0.867      0.872      0.582\n"
     ]
    },
    {
     "name": "stderr",
     "output_type": "stream",
     "text": [
      "\n"
     ]
    },
    {
     "name": "stdout",
     "output_type": "stream",
     "text": [
      "\n",
      "      Epoch    GPU_mem   box_loss   seg_loss   cls_loss   dfl_loss  Instances       Size\n"
     ]
    },
    {
     "name": "stderr",
     "output_type": "stream",
     "text": [
      "      43/50      6.62G     0.7483      1.231     0.3331      1.096         12        640: 100%|██████████| 112/112 [00:17<00:00,  6.47it/s]\n",
      "                 Class     Images  Instances      Box(P          R      mAP50  mAP50-95)     Mask(P          R      mAP50  mAP50-95): 100%|██████████| 5/5 [00:00<00:00,  6.91it/s]"
     ]
    },
    {
     "name": "stdout",
     "output_type": "stream",
     "text": [
      "                   all         75        150      0.854       0.84      0.829      0.597      0.875      0.857      0.861      0.582\n"
     ]
    },
    {
     "name": "stderr",
     "output_type": "stream",
     "text": [
      "\n"
     ]
    },
    {
     "name": "stdout",
     "output_type": "stream",
     "text": [
      "\n",
      "      Epoch    GPU_mem   box_loss   seg_loss   cls_loss   dfl_loss  Instances       Size\n"
     ]
    },
    {
     "name": "stderr",
     "output_type": "stream",
     "text": [
      "      44/50      6.62G     0.7278      1.192     0.3287      1.077         12        640: 100%|██████████| 112/112 [00:17<00:00,  6.44it/s]\n",
      "                 Class     Images  Instances      Box(P          R      mAP50  mAP50-95)     Mask(P          R      mAP50  mAP50-95): 100%|██████████| 5/5 [00:00<00:00,  7.65it/s]"
     ]
    },
    {
     "name": "stdout",
     "output_type": "stream",
     "text": [
      "                   all         75        150      0.854      0.817      0.803      0.595      0.834       0.85      0.811      0.578\n"
     ]
    },
    {
     "name": "stderr",
     "output_type": "stream",
     "text": [
      "\n"
     ]
    },
    {
     "name": "stdout",
     "output_type": "stream",
     "text": [
      "\n",
      "      Epoch    GPU_mem   box_loss   seg_loss   cls_loss   dfl_loss  Instances       Size\n"
     ]
    },
    {
     "name": "stderr",
     "output_type": "stream",
     "text": [
      "      45/50      6.62G     0.7219      1.183     0.3221      1.065         12        640: 100%|██████████| 112/112 [00:17<00:00,  6.48it/s]\n",
      "                 Class     Images  Instances      Box(P          R      mAP50  mAP50-95)     Mask(P          R      mAP50  mAP50-95): 100%|██████████| 5/5 [00:00<00:00,  7.23it/s]"
     ]
    },
    {
     "name": "stdout",
     "output_type": "stream",
     "text": [
      "                   all         75        150      0.861      0.877      0.871       0.61      0.896       0.86      0.881      0.593\n"
     ]
    },
    {
     "name": "stderr",
     "output_type": "stream",
     "text": [
      "\n"
     ]
    },
    {
     "name": "stdout",
     "output_type": "stream",
     "text": [
      "\n",
      "      Epoch    GPU_mem   box_loss   seg_loss   cls_loss   dfl_loss  Instances       Size\n"
     ]
    },
    {
     "name": "stderr",
     "output_type": "stream",
     "text": [
      "      46/50      6.62G     0.7084      1.172     0.3156      1.071         12        640: 100%|██████████| 112/112 [00:17<00:00,  6.49it/s]\n",
      "                 Class     Images  Instances      Box(P          R      mAP50  mAP50-95)     Mask(P          R      mAP50  mAP50-95): 100%|██████████| 5/5 [00:00<00:00,  7.61it/s]"
     ]
    },
    {
     "name": "stdout",
     "output_type": "stream",
     "text": [
      "                   all         75        150      0.878      0.853      0.874      0.606      0.885       0.86      0.881      0.599\n"
     ]
    },
    {
     "name": "stderr",
     "output_type": "stream",
     "text": [
      "\n"
     ]
    },
    {
     "name": "stdout",
     "output_type": "stream",
     "text": [
      "\n",
      "      Epoch    GPU_mem   box_loss   seg_loss   cls_loss   dfl_loss  Instances       Size\n"
     ]
    },
    {
     "name": "stderr",
     "output_type": "stream",
     "text": [
      "      47/50      6.62G     0.6862      1.161     0.3022      1.053         12        640: 100%|██████████| 112/112 [00:17<00:00,  6.44it/s]\n",
      "                 Class     Images  Instances      Box(P          R      mAP50  mAP50-95)     Mask(P          R      mAP50  mAP50-95): 100%|██████████| 5/5 [00:00<00:00,  7.23it/s]"
     ]
    },
    {
     "name": "stdout",
     "output_type": "stream",
     "text": [
      "                   all         75        150      0.841      0.824      0.799      0.598      0.868      0.847      0.837      0.577\n"
     ]
    },
    {
     "name": "stderr",
     "output_type": "stream",
     "text": [
      "\n"
     ]
    },
    {
     "name": "stdout",
     "output_type": "stream",
     "text": [
      "\n",
      "      Epoch    GPU_mem   box_loss   seg_loss   cls_loss   dfl_loss  Instances       Size\n"
     ]
    },
    {
     "name": "stderr",
     "output_type": "stream",
     "text": [
      "      48/50      6.62G     0.6847      1.157     0.3022      1.056         12        640: 100%|██████████| 112/112 [00:17<00:00,  6.52it/s]\n",
      "                 Class     Images  Instances      Box(P          R      mAP50  mAP50-95)     Mask(P          R      mAP50  mAP50-95): 100%|██████████| 5/5 [00:00<00:00,  7.08it/s]"
     ]
    },
    {
     "name": "stdout",
     "output_type": "stream",
     "text": [
      "                   all         75        150      0.888      0.859      0.887       0.61      0.895      0.866      0.892      0.596\n"
     ]
    },
    {
     "name": "stderr",
     "output_type": "stream",
     "text": [
      "\n"
     ]
    },
    {
     "name": "stdout",
     "output_type": "stream",
     "text": [
      "\n",
      "      Epoch    GPU_mem   box_loss   seg_loss   cls_loss   dfl_loss  Instances       Size\n"
     ]
    },
    {
     "name": "stderr",
     "output_type": "stream",
     "text": [
      "      49/50      6.61G     0.6733      1.125     0.2991      1.042         12        640: 100%|██████████| 112/112 [00:17<00:00,  6.53it/s]\n",
      "                 Class     Images  Instances      Box(P          R      mAP50  mAP50-95)     Mask(P          R      mAP50  mAP50-95): 100%|██████████| 5/5 [00:00<00:00,  7.44it/s]"
     ]
    },
    {
     "name": "stdout",
     "output_type": "stream",
     "text": [
      "                   all         75        150      0.847      0.827      0.819      0.599      0.875      0.858      0.862       0.58\n"
     ]
    },
    {
     "name": "stderr",
     "output_type": "stream",
     "text": [
      "\n"
     ]
    },
    {
     "name": "stdout",
     "output_type": "stream",
     "text": [
      "\n",
      "      Epoch    GPU_mem   box_loss   seg_loss   cls_loss   dfl_loss  Instances       Size\n"
     ]
    },
    {
     "name": "stderr",
     "output_type": "stream",
     "text": [
      "      50/50      6.61G      0.656      1.124     0.2905      1.036         12        640: 100%|██████████| 112/112 [00:17<00:00,  6.53it/s]\n",
      "                 Class     Images  Instances      Box(P          R      mAP50  mAP50-95)     Mask(P          R      mAP50  mAP50-95): 100%|██████████| 5/5 [00:00<00:00,  7.38it/s]"
     ]
    },
    {
     "name": "stdout",
     "output_type": "stream",
     "text": [
      "                   all         75        150      0.833      0.845      0.822        0.6      0.865      0.873      0.872      0.586\n"
     ]
    },
    {
     "name": "stderr",
     "output_type": "stream",
     "text": [
      "\n"
     ]
    },
    {
     "name": "stdout",
     "output_type": "stream",
     "text": [
      "\n",
      "50 epochs completed in 0.270 hours.\n",
      "Optimizer stripped from runs\\segment\\train17\\weights\\last.pt, 56.2MB\n",
      "Optimizer stripped from runs\\segment\\train17\\weights\\best.pt, 56.2MB\n",
      "\n",
      "Validating runs\\segment\\train17\\weights\\best.pt...\n",
      "Ultralytics YOLOv8.2.98  Python-3.12.4 torch-2.4.1 CUDA:0 (NVIDIA GeForce RTX 4080 SUPER, 16376MiB)\n",
      "YOLOv9c-seg summary (fused): 411 layers, 27,626,070 parameters, 0 gradients, 157.6 GFLOPs\n"
     ]
    },
    {
     "name": "stderr",
     "output_type": "stream",
     "text": [
      "                 Class     Images  Instances      Box(P          R      mAP50  mAP50-95)     Mask(P          R      mAP50  mAP50-95): 100%|██████████| 5/5 [00:01<00:00,  4.72it/s]\n"
     ]
    },
    {
     "name": "stdout",
     "output_type": "stream",
     "text": [
      "                   all         75        150      0.888      0.859      0.887      0.609      0.895      0.866      0.892      0.596\n",
      "                    ab         75         75      0.993          1      0.995      0.977      0.993          1      0.995       0.93\n",
      "                    mc         75         75      0.782      0.718      0.779      0.242      0.797      0.732      0.789      0.262\n",
      "Speed: 0.5ms preprocess, 5.9ms inference, 0.0ms loss, 1.2ms postprocess per image\n",
      "Results saved to \u001b[1mruns\\segment\\train17\u001b[0m\n"
     ]
    }
   ],
   "source": [
    "result = model.train(data=\"C:\\\\5025211148\\\\YOLOv9-Segmentation\\\\merge-inez-1\\\\data.yaml\", epochs=50, imgsz=640, batch=8)"
   ]
  },
  {
   "cell_type": "code",
   "execution_count": 12,
   "metadata": {
    "colab": {
     "base_uri": "https://localhost:8080/",
     "height": 478
    },
    "executionInfo": {
     "elapsed": 1206,
     "status": "ok",
     "timestamp": 1742741340731,
     "user": {
      "displayName": "Katarina Inezita",
      "userId": "04980882031321864073"
     },
     "user_tz": -420
    },
    "id": "k935cF9CjavI",
    "outputId": "b6c3359e-2fae-4ad6-e1f6-98b4d5221ee0"
   },
   "outputs": [
    {
     "name": "stdout",
     "output_type": "stream",
     "text": [
      "\n",
      "image 1/1 C:\\5025211148\\YOLOv9-Segmentation\\merge-inez-1\\valid\\images\\slice_2_png.rf.773ebb3973e8d24b3610d7d5889312bf.jpg: 640x640 1 ab, 8.8ms\n",
      "Speed: 0.0ms preprocess, 8.8ms inference, 45.8ms postprocess per image at shape (1, 3, 640, 640)\n"
     ]
    },
    {
     "data": {
      "image/png": "[encoded data removed]",
      "text/plain": [
       "<Figure size 640x480 with 1 Axes>"
      ]
     },
     "metadata": {},
     "output_type": "display_data"
    }
   ],
   "source": [
    "import cv2\n",
    "import matplotlib.pyplot as plt\n",
    "%matplotlib inline\n",
    "from ultralytics import YOLO\n",
    "\n",
    "model = YOLO(\"C:\\\\5025211148\\\\YOLOv9-Segmentation\\\\runs\\\\segment\\\\train17\\\\weights\\\\best.pt\")  # load a custom model\n",
    "\n",
    "# Predict with the model\n",
    "results = model(\"C:\\\\5025211148\\\\YOLOv9-Segmentation\\\\merge-inez-1\\\\valid\\\\images\\\\slice_2_png.rf.773ebb3973e8d24b3610d7d5889312bf.jpg\")\n",
    "\n",
    "\n",
    "predicted_img = results[0].plot()\n",
    "output_dir = \"C:\\\\5025211148\\\\YOLOv9-Segmentation\\\\runs\\\\segment\\\\predict\"\n",
    "os.makedirs(output_dir, exist_ok=True)\n",
    "\n",
    "output_image_path = os.path.join(output_dir, \"predicted.jpg\")\n",
    "\n",
    "cv2.imwrite(output_image_path, predicted_img)\n",
    "\n",
    "predicted_img_rgb = cv2.cvtColor(predicted_img, cv2.COLOR_BGR2RGB)\n",
    "\n",
    "plt.imshow(predicted_img_rgb)\n",
    "plt.axis('off')  # Hilangkan sumbu\n",
    "plt.show()"
   ]
  },
  {
   "cell_type": "code",
   "execution_count": 13,
   "metadata": {
    "id": "vRdd3GyLjavJ"
   },
   "outputs": [],
   "source": [
    "model_path = r'C:\\\\5025211148\\\\YOLOv9-Segmentation\\\\runs\\\\segment\\\\train17\\\\weights\\\\best.pt'\n",
    "valid_path = r'C:\\\\5025211148\\\\YOLOv9-Segmentation\\\\merge-inez-1\\\\valid\\\\images'\n",
    "ground_truth_path = r'C:\\\\5025211148\\\\YOLOv9-Segmentation\\\\merge-inez-1\\\\valid\\\\labels'\n",
    "gt_AB_path = r\"C:\\\\5025211148\\\\YOLOv9-Segmentation\\\\\\\\Dataset Train Val\\\\gt-AB\"\n",
    "gt_MC_path = r\"C:\\\\5025211148\\\\YOLOv9-Segmentation\\\\Dataset Train Val\\\\gt-MC\"\n",
    "\n",
    "segmented_AB_path = fr'C:\\\\5025211148\\\\YOLOv9-Segmentation\\\\segmented_AB'\n",
    "segmented_AB_path_2 = r'C:\\\\5025211148\\\\YOLOv9-Segmentation\\\\segmented_AB'\n",
    "segmented_AB_npy = r'C:\\\\5025211148\\\\YOLOv9-Segmentation\\\\yolov9c-segmented_AB.npy'\n",
    "\n",
    "segmented_MC_path = fr'C:\\\\5025211148\\\\YOLOv9-Segmentation\\\\segmented_MC'\n",
    "segmented_MC_path_2 = r'C:\\\\5025211148\\\\YOLOv9-Segmentation\\\\segmented_MC'\n",
    "segmented_MC_npy = r'C:\\\\5025211148\\\\YOLOv9-Segmentation\\\\yolov9c-segmented_MC.npy'\n",
    "\n",
    "for path in [gt_AB_path, gt_MC_path, segmented_AB_path, segmented_MC_path]:\n",
    "  os.makedirs(path, exist_ok=True)"
   ]
  },
  {
   "cell_type": "code",
   "execution_count": 14,
   "metadata": {
    "colab": {
     "base_uri": "https://localhost:8080/"
    },
    "executionInfo": {
     "elapsed": 25,
     "status": "ok",
     "timestamp": 1742741407519,
     "user": {
      "displayName": "Katarina Inezita",
      "userId": "04980882031321864073"
     },
     "user_tz": -420
    },
    "id": "feOqwx3FjavK",
    "outputId": "9f67e053-4bb5-4165-f0a5-4413196ac1e2"
   },
   "outputs": [
    {
     "name": "stdout",
     "output_type": "stream",
     "text": [
      "C:\\\\5025211148\\\\YOLOv9-Segmentation\\\\merge-inez-1\\\\valid\\\\images\\slice_0_png.rf.b6a308ad17de783c210d9ceb410d76a1.jpg\n",
      "C:\\\\5025211148\\\\YOLOv9-Segmentation\\\\merge-inez-1\\\\valid\\\\images\\slice_1_png.rf.813ec633aebc1e939b902b040068a91a.jpg\n",
      "C:\\\\5025211148\\\\YOLOv9-Segmentation\\\\merge-inez-1\\\\valid\\\\images\\slice_2_png.rf.773ebb3973e8d24b3610d7d5889312bf.jpg\n",
      "C:\\\\5025211148\\\\YOLOv9-Segmentation\\\\merge-inez-1\\\\valid\\\\images\\slice_3_png.rf.2b7ac0dccdcc3241e2441dcdfe40b19a.jpg\n",
      "C:\\\\5025211148\\\\YOLOv9-Segmentation\\\\merge-inez-1\\\\valid\\\\images\\slice_4_png.rf.ed9951865dd8c8e9c4bb357b12d90bf3.jpg\n",
      "C:\\\\5025211148\\\\YOLOv9-Segmentation\\\\merge-inez-1\\\\valid\\\\images\\slice_5_png.rf.fa534a063f0865aba05bfb1f39bf17f1.jpg\n",
      "C:\\\\5025211148\\\\YOLOv9-Segmentation\\\\merge-inez-1\\\\valid\\\\images\\slice_6_png.rf.69513226c67a48924c9727490a40871b.jpg\n",
      "C:\\\\5025211148\\\\YOLOv9-Segmentation\\\\merge-inez-1\\\\valid\\\\images\\slice_7_png.rf.911a9c8ba0e64b11ffd5e11ceb31250e.jpg\n",
      "C:\\\\5025211148\\\\YOLOv9-Segmentation\\\\merge-inez-1\\\\valid\\\\images\\slice_8_png.rf.08bf826fea5c4ff01a4a4d1f987b7af6.jpg\n",
      "C:\\\\5025211148\\\\YOLOv9-Segmentation\\\\merge-inez-1\\\\valid\\\\images\\slice_9_png.rf.7b263d87fcdea007b3b78938772a24a5.jpg\n",
      "C:\\\\5025211148\\\\YOLOv9-Segmentation\\\\merge-inez-1\\\\valid\\\\images\\slice_10_png.rf.8cfc23276c5e0a0a9c082a84937bbfa9.jpg\n",
      "C:\\\\5025211148\\\\YOLOv9-Segmentation\\\\merge-inez-1\\\\valid\\\\images\\slice_11_png.rf.2f4ba45901be13bdd4a6d27191f04632.jpg\n",
      "C:\\\\5025211148\\\\YOLOv9-Segmentation\\\\merge-inez-1\\\\valid\\\\images\\slice_12_png.rf.e697ea8e2a874fe7e9b6625b141d770f.jpg\n",
      "C:\\\\5025211148\\\\YOLOv9-Segmentation\\\\merge-inez-1\\\\valid\\\\images\\slice_13_png.rf.3e77ef333ad7540a2e71c11b85729e94.jpg\n",
      "C:\\\\5025211148\\\\YOLOv9-Segmentation\\\\merge-inez-1\\\\valid\\\\images\\slice_14_png.rf.d4246e1825c0cc584de095d27ae0ba29.jpg\n",
      "C:\\\\5025211148\\\\YOLOv9-Segmentation\\\\merge-inez-1\\\\valid\\\\images\\slice_15_png.rf.08dca079baea99e2094955b7bca56721.jpg\n",
      "C:\\\\5025211148\\\\YOLOv9-Segmentation\\\\merge-inez-1\\\\valid\\\\images\\slice_16_png.rf.5505cc7edadd735a4051c540ba652f82.jpg\n",
      "C:\\\\5025211148\\\\YOLOv9-Segmentation\\\\merge-inez-1\\\\valid\\\\images\\slice_184_jpg.rf.fb7007d3aec48c5887b58c4b1f251982.jpg\n",
      "C:\\\\5025211148\\\\YOLOv9-Segmentation\\\\merge-inez-1\\\\valid\\\\images\\slice_185_jpg.rf.c259553f5c57f7ea65f5ec81e559a32a.jpg\n",
      "C:\\\\5025211148\\\\YOLOv9-Segmentation\\\\merge-inez-1\\\\valid\\\\images\\slice_186_jpg.rf.7fea4a8ac7a43acb2f28d29a8c9e2b18.jpg\n",
      "C:\\\\5025211148\\\\YOLOv9-Segmentation\\\\merge-inez-1\\\\valid\\\\images\\slice_187_jpg.rf.9abf8d193ac601a0c952ef8160a9a2f3.jpg\n",
      "C:\\\\5025211148\\\\YOLOv9-Segmentation\\\\merge-inez-1\\\\valid\\\\images\\slice_188_jpg.rf.5fbe759a3a7c1fde7f222c92ef628ffc.jpg\n",
      "C:\\\\5025211148\\\\YOLOv9-Segmentation\\\\merge-inez-1\\\\valid\\\\images\\slice_189_jpg.rf.c1670c9fd948cb7906245cbbfe3f3ed5.jpg\n",
      "C:\\\\5025211148\\\\YOLOv9-Segmentation\\\\merge-inez-1\\\\valid\\\\images\\slice_190_jpg.rf.ad95785b57764989b3cd348bf7ebf3df.jpg\n",
      "C:\\\\5025211148\\\\YOLOv9-Segmentation\\\\merge-inez-1\\\\valid\\\\images\\slice_191_jpg.rf.0ee9ad54909660dc8183df6b1a9d936d.jpg\n",
      "C:\\\\5025211148\\\\YOLOv9-Segmentation\\\\merge-inez-1\\\\valid\\\\images\\slice_192_jpg.rf.5f98ffbe0c04578941047e31680f4ac8.jpg\n",
      "C:\\\\5025211148\\\\YOLOv9-Segmentation\\\\merge-inez-1\\\\valid\\\\images\\slice_193_jpg.rf.997bde128c89a09bddde6eede7136af8.jpg\n",
      "C:\\\\5025211148\\\\YOLOv9-Segmentation\\\\merge-inez-1\\\\valid\\\\images\\slice_194_jpg.rf.510119948c76ce4b0ba77184428b99a1.jpg\n",
      "C:\\\\5025211148\\\\YOLOv9-Segmentation\\\\merge-inez-1\\\\valid\\\\images\\slice_195_jpg.rf.4bdeee9e3f4907b631f508bcec563dc2.jpg\n",
      "C:\\\\5025211148\\\\YOLOv9-Segmentation\\\\merge-inez-1\\\\valid\\\\images\\slice_196_jpg.rf.dc89629b77d81e3226e63a87afeecfc7.jpg\n",
      "C:\\\\5025211148\\\\YOLOv9-Segmentation\\\\merge-inez-1\\\\valid\\\\images\\slice_197_jpg.rf.9ce57987bde90784b202fe9e6d7c481e.jpg\n",
      "C:\\\\5025211148\\\\YOLOv9-Segmentation\\\\merge-inez-1\\\\valid\\\\images\\slice_198_jpg.rf.6b58b1ba2b6b73b61ba979f22fb46caf.jpg\n",
      "C:\\\\5025211148\\\\YOLOv9-Segmentation\\\\merge-inez-1\\\\valid\\\\images\\slice_199_jpg.rf.26f48bd8f377db569234a70975b06f44.jpg\n",
      "C:\\\\5025211148\\\\YOLOv9-Segmentation\\\\merge-inez-1\\\\valid\\\\images\\slice_200_jpg.rf.7a651a02064be38cf08502236c43f762.jpg\n",
      "C:\\\\5025211148\\\\YOLOv9-Segmentation\\\\merge-inez-1\\\\valid\\\\images\\slice_201_jpg.rf.405030fbbb0b7c68d0450b10c48f32b3.jpg\n",
      "C:\\\\5025211148\\\\YOLOv9-Segmentation\\\\merge-inez-1\\\\valid\\\\images\\slice_202_jpg.rf.f7e659f04a40049e6cba5239c0ca41fe.jpg\n",
      "C:\\\\5025211148\\\\YOLOv9-Segmentation\\\\merge-inez-1\\\\valid\\\\images\\slice_203_jpg.rf.e5030f4868e53e80acb8f21aef7489f9.jpg\n",
      "C:\\\\5025211148\\\\YOLOv9-Segmentation\\\\merge-inez-1\\\\valid\\\\images\\slice_204_jpg.rf.379e8a1abf3842f461423e8e76141932.jpg\n",
      "C:\\\\5025211148\\\\YOLOv9-Segmentation\\\\merge-inez-1\\\\valid\\\\images\\slice_205_jpg.rf.91c7f454ebef22c3ff8ce5727bba228e.jpg\n",
      "C:\\\\5025211148\\\\YOLOv9-Segmentation\\\\merge-inez-1\\\\valid\\\\images\\slice_206_jpg.rf.5b4192b7ef82aad37ac4d99ed13e2ee2.jpg\n",
      "C:\\\\5025211148\\\\YOLOv9-Segmentation\\\\merge-inez-1\\\\valid\\\\images\\slice_207_jpg.rf.6c10293c5a5cc5871fe43008a8840e3b.jpg\n",
      "C:\\\\5025211148\\\\YOLOv9-Segmentation\\\\merge-inez-1\\\\valid\\\\images\\slice_208_jpg.rf.474a2cc7da8963637f4a10d5518ef23b.jpg\n",
      "C:\\\\5025211148\\\\YOLOv9-Segmentation\\\\merge-inez-1\\\\valid\\\\images\\slice_209_jpg.rf.8931044812d6e143d00fc94414dc965c.jpg\n",
      "C:\\\\5025211148\\\\YOLOv9-Segmentation\\\\merge-inez-1\\\\valid\\\\images\\slice_210_jpg.rf.2f1e8d2936842397afbbace9a9c9ace1.jpg\n",
      "C:\\\\5025211148\\\\YOLOv9-Segmentation\\\\merge-inez-1\\\\valid\\\\images\\slice_211_jpg.rf.ce50dbaa10adb29f88ba7ce96c4b28e3.jpg\n",
      "C:\\\\5025211148\\\\YOLOv9-Segmentation\\\\merge-inez-1\\\\valid\\\\images\\slice_212_jpg.rf.fa999268d1357cfe3baf7f66d218858a.jpg\n",
      "C:\\\\5025211148\\\\YOLOv9-Segmentation\\\\merge-inez-1\\\\valid\\\\images\\slice_227_jpg.rf.47e302d51c39b996e9aa5c2457568e72.jpg\n",
      "C:\\\\5025211148\\\\YOLOv9-Segmentation\\\\merge-inez-1\\\\valid\\\\images\\slice_228_jpg.rf.d6fa4e941fd8ee957cb2fa40d1617dcd.jpg\n",
      "C:\\\\5025211148\\\\YOLOv9-Segmentation\\\\merge-inez-1\\\\valid\\\\images\\slice_229_jpg.rf.c4406e3223457b9d82da77009e090083.jpg\n",
      "C:\\\\5025211148\\\\YOLOv9-Segmentation\\\\merge-inez-1\\\\valid\\\\images\\slice_230_jpg.rf.c38851d2bc1de61efaff2c6a0c6a533b.jpg\n",
      "C:\\\\5025211148\\\\YOLOv9-Segmentation\\\\merge-inez-1\\\\valid\\\\images\\slice_231_jpg.rf.5a943022fe92bf999159d5a80fdfaa3c.jpg\n",
      "C:\\\\5025211148\\\\YOLOv9-Segmentation\\\\merge-inez-1\\\\valid\\\\images\\slice_232_jpg.rf.36559349f65c59474e2c273ef3a1895f.jpg\n",
      "C:\\\\5025211148\\\\YOLOv9-Segmentation\\\\merge-inez-1\\\\valid\\\\images\\slice_233_jpg.rf.21c7a2018478f98c4170d84b9d900a8b.jpg\n",
      "C:\\\\5025211148\\\\YOLOv9-Segmentation\\\\merge-inez-1\\\\valid\\\\images\\slice_234_jpg.rf.8376c291224523f2379285e6739f8508.jpg\n",
      "C:\\\\5025211148\\\\YOLOv9-Segmentation\\\\merge-inez-1\\\\valid\\\\images\\slice_234_jpg.rf.8c97c306d89d4aea1956db536d9ae8da.jpg\n",
      "C:\\\\5025211148\\\\YOLOv9-Segmentation\\\\merge-inez-1\\\\valid\\\\images\\slice_235_jpg.rf.7a0cd7f426f4c0b16065120adc6c63f0.jpg\n",
      "C:\\\\5025211148\\\\YOLOv9-Segmentation\\\\merge-inez-1\\\\valid\\\\images\\slice_236_jpg.rf.baef61c5ff250c1d85dc3ee096660de8.jpg\n",
      "C:\\\\5025211148\\\\YOLOv9-Segmentation\\\\merge-inez-1\\\\valid\\\\images\\slice_237_jpg.rf.b9610d515a5437097ad9d6ec26739bd9.jpg\n",
      "C:\\\\5025211148\\\\YOLOv9-Segmentation\\\\merge-inez-1\\\\valid\\\\images\\slice_238_jpg.rf.6025395d22a4004b13a3f9b376079bb8.jpg\n",
      "C:\\\\5025211148\\\\YOLOv9-Segmentation\\\\merge-inez-1\\\\valid\\\\images\\slice_239_jpg.rf.b6d73c66406e62a091551a6d3ccce095.jpg\n",
      "C:\\\\5025211148\\\\YOLOv9-Segmentation\\\\merge-inez-1\\\\valid\\\\images\\slice_239_jpg.rf.bd8f5271a858f2a277c210f5e04a86df.jpg\n",
      "C:\\\\5025211148\\\\YOLOv9-Segmentation\\\\merge-inez-1\\\\valid\\\\images\\slice_240_jpg.rf.0aa788cdb7219a189ea9e4b9a53b996a.jpg\n",
      "C:\\\\5025211148\\\\YOLOv9-Segmentation\\\\merge-inez-1\\\\valid\\\\images\\slice_241_jpg.rf.5bb370de0c0c5a0a1298999b8269e4b4.jpg\n",
      "C:\\\\5025211148\\\\YOLOv9-Segmentation\\\\merge-inez-1\\\\valid\\\\images\\slice_241_jpg.rf.8e99851409db29bcb7433e96215d032f.jpg\n",
      "C:\\\\5025211148\\\\YOLOv9-Segmentation\\\\merge-inez-1\\\\valid\\\\images\\slice_242_jpg.rf.04473fce5585378c912db056877ef4be.jpg\n",
      "C:\\\\5025211148\\\\YOLOv9-Segmentation\\\\merge-inez-1\\\\valid\\\\images\\slice_243_jpg.rf.4e282c9d623df41fb28d1181aff460f7.jpg\n",
      "C:\\\\5025211148\\\\YOLOv9-Segmentation\\\\merge-inez-1\\\\valid\\\\images\\slice_243_jpg.rf.ae3d135830b986a680d9ef8fbe5441f9.jpg\n",
      "C:\\\\5025211148\\\\YOLOv9-Segmentation\\\\merge-inez-1\\\\valid\\\\images\\slice_244_jpg.rf.4a9409f3b5a33b7c702d348109c89c68.jpg\n",
      "C:\\\\5025211148\\\\YOLOv9-Segmentation\\\\merge-inez-1\\\\valid\\\\images\\slice_245_jpg.rf.69a1679f246e89e375a49ba7b2e03b67.jpg\n",
      "C:\\\\5025211148\\\\YOLOv9-Segmentation\\\\merge-inez-1\\\\valid\\\\images\\slice_245_jpg.rf.7280f92363a1b9f4c1b74a7079335c62.jpg\n",
      "C:\\\\5025211148\\\\YOLOv9-Segmentation\\\\merge-inez-1\\\\valid\\\\images\\slice_246_jpg.rf.1b3b7419434d4f2ffe8a69c66cc0eb7d.jpg\n",
      "C:\\\\5025211148\\\\YOLOv9-Segmentation\\\\merge-inez-1\\\\valid\\\\images\\slice_247_jpg.rf.0132c277c4d7f8c5c95ea3a595ba7315.jpg\n",
      "C:\\\\5025211148\\\\YOLOv9-Segmentation\\\\merge-inez-1\\\\valid\\\\images\\slice_248_jpg.rf.fe48f8cb5097a5c105f48b585f33a07a.jpg\n",
      "C:\\\\5025211148\\\\YOLOv9-Segmentation\\\\merge-inez-1\\\\valid\\\\images\\slice_250_jpg.rf.84d15643db599a8826b8ca7b5320dfc5.jpg\n",
      "C:\\\\5025211148\\\\YOLOv9-Segmentation\\\\merge-inez-1\\\\valid\\\\images\\slice_257_jpg.rf.1afa5d3faf30171b5a1ee38437f1cae5.jpg\n"
     ]
    }
   ],
   "source": [
    "import os\n",
    "import re\n",
    "\n",
    "# specify the directory path\n",
    "directory_path = valid_path\n",
    "\n",
    "# create an empty list to store the filenames with directory path\n",
    "file_list = []\n",
    "\n",
    "# iterate over the files in the directory\n",
    "for filename in os.listdir(directory_path):\n",
    "    # check if the item is a file\n",
    "    if os.path.isfile(os.path.join(directory_path, filename)):\n",
    "        # append the filename with directory path to the list\n",
    "        file_list.append(os.path.join(directory_path, filename))\n",
    "\n",
    "def extract_number(s):\n",
    "    match = re.search(r'slice_(\\d+)', s)  # Match 'slice_' followed by one or more digits\n",
    "    return int(match.group(1)) if match else float('inf')\n",
    "\n",
    "file_list = sorted(file_list, key=extract_number)\n",
    "for filename in file_list:\n",
    "    print(filename)\n",
    "# print(file_list)  # Output: sorted file_list with filenames like 'slice_0', 'slice_1', 'slice_2', etc.\n"
   ]
  },
  {
   "cell_type": "code",
   "execution_count": 15,
   "metadata": {
    "id": "uh0V6OETjavL"
   },
   "outputs": [],
   "source": [
    "from ultralytics import YOLO\n",
    "\n",
    "# Load a model\n",
    "model = YOLO(model_path, task='segment')  # load a pretrained model (recommended for training)"
   ]
  },
  {
   "cell_type": "code",
   "execution_count": 16,
   "metadata": {
    "colab": {
     "base_uri": "https://localhost:8080/"
    },
    "executionInfo": {
     "elapsed": 6094,
     "status": "ok",
     "timestamp": 1742741566617,
     "user": {
      "displayName": "Katarina Inezita",
      "userId": "04980882031321864073"
     },
     "user_tz": -420
    },
    "id": "jjcIg0kNjavM",
    "outputId": "bfaebba2-eea4-4f1c-95b1-7407b1114087"
   },
   "outputs": [
    {
     "name": "stdout",
     "output_type": "stream",
     "text": [
      "\n",
      "0: 640x640 1 ab, 2 mcs, 11.1ms\n",
      "1: 640x640 1 ab, 2 mcs, 11.1ms\n",
      "2: 640x640 1 ab, 11.1ms\n",
      "3: 640x640 1 ab, 1 mc, 11.1ms\n",
      "4: 640x640 1 ab, 1 mc, 11.1ms\n",
      "5: 640x640 1 ab, 1 mc, 11.1ms\n",
      "6: 640x640 1 ab, 1 mc, 11.1ms\n",
      "7: 640x640 1 ab, 1 mc, 11.1ms\n",
      "8: 640x640 1 ab, 1 mc, 11.1ms\n",
      "9: 640x640 1 ab, 1 mc, 11.1ms\n",
      "10: 640x640 1 ab, 1 mc, 11.1ms\n",
      "11: 640x640 1 ab, 1 mc, 11.1ms\n",
      "12: 640x640 1 ab, 1 mc, 11.1ms\n",
      "13: 640x640 1 ab, 1 mc, 11.1ms\n",
      "14: 640x640 1 ab, 1 mc, 11.1ms\n",
      "15: 640x640 1 ab, 1 mc, 11.1ms\n",
      "16: 640x640 1 ab, 11.1ms\n",
      "17: 640x640 1 ab, 11.1ms\n",
      "18: 640x640 1 ab, 2 mcs, 11.1ms\n",
      "19: 640x640 1 ab, 1 mc, 11.1ms\n",
      "20: 640x640 1 ab, 1 mc, 11.1ms\n",
      "21: 640x640 1 ab, 1 mc, 11.1ms\n",
      "22: 640x640 1 ab, 1 mc, 11.1ms\n",
      "23: 640x640 1 ab, 1 mc, 11.1ms\n",
      "24: 640x640 1 ab, 1 mc, 11.1ms\n",
      "25: 640x640 1 ab, 1 mc, 11.1ms\n",
      "26: 640x640 1 ab, 1 mc, 11.1ms\n",
      "27: 640x640 1 ab, 1 mc, 11.1ms\n",
      "28: 640x640 1 ab, 1 mc, 11.1ms\n",
      "29: 640x640 1 ab, 1 mc, 11.1ms\n",
      "30: 640x640 1 ab, 1 mc, 11.1ms\n",
      "31: 640x640 1 ab, 1 mc, 11.1ms\n",
      "32: 640x640 1 ab, 1 mc, 11.1ms\n",
      "33: 640x640 1 ab, 1 mc, 11.1ms\n",
      "34: 640x640 1 ab, 1 mc, 11.1ms\n",
      "35: 640x640 1 ab, 1 mc, 11.1ms\n",
      "36: 640x640 1 ab, 1 mc, 11.1ms\n",
      "37: 640x640 1 ab, 1 mc, 11.1ms\n",
      "38: 640x640 1 ab, 1 mc, 11.1ms\n",
      "39: 640x640 1 ab, 1 mc, 11.1ms\n",
      "40: 640x640 1 ab, 1 mc, 11.1ms\n",
      "41: 640x640 1 ab, 1 mc, 11.1ms\n",
      "42: 640x640 1 ab, 1 mc, 11.1ms\n",
      "43: 640x640 1 ab, 1 mc, 11.1ms\n",
      "44: 640x640 1 ab, 1 mc, 11.1ms\n",
      "45: 640x640 1 ab, 1 mc, 11.1ms\n",
      "46: 640x640 1 ab, 11.1ms\n",
      "47: 640x640 1 ab, 1 mc, 11.1ms\n",
      "48: 640x640 1 ab, 1 mc, 11.1ms\n",
      "49: 640x640 1 ab, 1 mc, 11.1ms\n",
      "50: 640x640 1 ab, 1 mc, 11.1ms\n",
      "51: 640x640 1 ab, 1 mc, 11.1ms\n",
      "52: 640x640 1 ab, 1 mc, 11.1ms\n",
      "53: 640x640 1 ab, 1 mc, 11.1ms\n",
      "54: 640x640 1 ab, 2 mcs, 11.1ms\n",
      "55: 640x640 1 ab, 1 mc, 11.1ms\n",
      "56: 640x640 1 ab, 1 mc, 11.1ms\n",
      "57: 640x640 1 ab, 1 mc, 11.1ms\n",
      "58: 640x640 1 ab, 1 mc, 11.1ms\n",
      "59: 640x640 1 ab, 1 mc, 11.1ms\n",
      "60: 640x640 1 ab, 1 mc, 11.1ms\n",
      "61: 640x640 1 ab, 1 mc, 11.1ms\n",
      "62: 640x640 1 ab, 1 mc, 11.1ms\n",
      "63: 640x640 1 ab, 1 mc, 11.1ms\n",
      "64: 640x640 1 ab, 1 mc, 11.1ms\n",
      "65: 640x640 1 ab, 1 mc, 11.1ms\n",
      "66: 640x640 1 ab, 1 mc, 11.1ms\n",
      "67: 640x640 1 ab, 11.1ms\n",
      "68: 640x640 1 ab, 1 mc, 11.1ms\n",
      "69: 640x640 1 ab, 1 mc, 11.1ms\n",
      "70: 640x640 1 ab, 1 mc, 11.1ms\n",
      "71: 640x640 1 ab, 1 mc, 11.1ms\n",
      "72: 640x640 1 ab, 1 mc, 11.1ms\n",
      "73: 640x640 1 ab, 1 mc, 11.1ms\n",
      "74: 640x640 1 ab, 1 mc, 11.1ms\n",
      "Speed: 3.4ms preprocess, 11.1ms inference, 0.8ms postprocess per image at shape (1, 3, 640, 640)\n",
      "Results saved to \u001b[1mruns\\segment\\predict8\u001b[0m\n"
     ]
    }
   ],
   "source": [
    "results = model(file_list, save=True)"
   ]
  },
  {
   "cell_type": "code",
   "execution_count": 17,
   "metadata": {
    "colab": {
     "base_uri": "https://localhost:8080/"
    },
    "executionInfo": {
     "elapsed": 281,
     "status": "ok",
     "timestamp": 1742741594528,
     "user": {
      "displayName": "Katarina Inezita",
      "userId": "04980882031321864073"
     },
     "user_tz": -420
    },
    "id": "PO6GIWJajavM",
    "outputId": "99fae6a0-8170-4df4-845c-373ac6021e92"
   },
   "outputs": [
    {
     "name": "stdout",
     "output_type": "stream",
     "text": [
      "75\n"
     ]
    }
   ],
   "source": [
    "print(len(results))"
   ]
  },
  {
   "cell_type": "code",
   "execution_count": 18,
   "metadata": {
    "colab": {
     "base_uri": "https://localhost:8080/"
    },
    "executionInfo": {
     "elapsed": 578,
     "status": "ok",
     "timestamp": 1742741607183,
     "user": {
      "displayName": "Katarina Inezita",
      "userId": "04980882031321864073"
     },
     "user_tz": -420
    },
    "id": "WAbk0G-OjavM",
    "outputId": "21969a93-a823-47e5-996c-1265d47b0d2b"
   },
   "outputs": [
    {
     "name": "stdout",
     "output_type": "stream",
     "text": [
      "class tensor([0., 1., 1.], device='cuda:0')\n",
      "indices (tensor([0], device='cuda:0'),)\n",
      "C:\\\\5025211148\\\\YOLOv9-Segmentation\\\\segmented_AB\\\\merged_segs_0.jpg\n",
      "\n",
      "\n",
      "class tensor([0., 1., 1.], device='cuda:0')\n",
      "indices (tensor([0], device='cuda:0'),)\n",
      "C:\\\\5025211148\\\\YOLOv9-Segmentation\\\\segmented_AB\\\\merged_segs_1.jpg\n",
      "\n",
      "\n",
      "class tensor([0.], device='cuda:0')\n",
      "indices (tensor([0], device='cuda:0'),)\n",
      "C:\\\\5025211148\\\\YOLOv9-Segmentation\\\\segmented_AB\\\\merged_segs_2.jpg\n",
      "\n",
      "\n",
      "class tensor([0., 1.], device='cuda:0')\n",
      "indices (tensor([0], device='cuda:0'),)\n",
      "C:\\\\5025211148\\\\YOLOv9-Segmentation\\\\segmented_AB\\\\merged_segs_3.jpg\n",
      "\n",
      "\n",
      "class tensor([0., 1.], device='cuda:0')\n",
      "indices (tensor([0], device='cuda:0'),)\n",
      "C:\\\\5025211148\\\\YOLOv9-Segmentation\\\\segmented_AB\\\\merged_segs_4.jpg\n",
      "\n",
      "\n",
      "class tensor([0., 1.], device='cuda:0')\n",
      "indices (tensor([0], device='cuda:0'),)\n",
      "C:\\\\5025211148\\\\YOLOv9-Segmentation\\\\segmented_AB\\\\merged_segs_5.jpg\n",
      "\n",
      "\n",
      "class tensor([0., 1.], device='cuda:0')\n",
      "indices (tensor([0], device='cuda:0'),)\n",
      "C:\\\\5025211148\\\\YOLOv9-Segmentation\\\\segmented_AB\\\\merged_segs_6.jpg\n",
      "\n",
      "\n",
      "class tensor([0., 1.], device='cuda:0')\n",
      "indices (tensor([0], device='cuda:0'),)\n",
      "C:\\\\5025211148\\\\YOLOv9-Segmentation\\\\segmented_AB\\\\merged_segs_7.jpg\n",
      "\n",
      "\n",
      "class tensor([0., 1.], device='cuda:0')\n",
      "indices (tensor([0], device='cuda:0'),)\n",
      "C:\\\\5025211148\\\\YOLOv9-Segmentation\\\\segmented_AB\\\\merged_segs_8.jpg\n",
      "\n",
      "\n",
      "class tensor([0., 1.], device='cuda:0')\n",
      "indices (tensor([0], device='cuda:0'),)\n",
      "C:\\\\5025211148\\\\YOLOv9-Segmentation\\\\segmented_AB\\\\merged_segs_9.jpg\n",
      "\n",
      "\n",
      "class tensor([0., 1.], device='cuda:0')\n",
      "indices (tensor([0], device='cuda:0'),)\n",
      "C:\\\\5025211148\\\\YOLOv9-Segmentation\\\\segmented_AB\\\\merged_segs_10.jpg\n",
      "\n",
      "\n",
      "class tensor([0., 1.], device='cuda:0')\n",
      "indices (tensor([0], device='cuda:0'),)\n",
      "C:\\\\5025211148\\\\YOLOv9-Segmentation\\\\segmented_AB\\\\merged_segs_11.jpg\n",
      "\n",
      "\n",
      "class tensor([0., 1.], device='cuda:0')\n",
      "indices (tensor([0], device='cuda:0'),)\n",
      "C:\\\\5025211148\\\\YOLOv9-Segmentation\\\\segmented_AB\\\\merged_segs_12.jpg\n",
      "\n",
      "\n",
      "class tensor([0., 1.], device='cuda:0')\n",
      "indices (tensor([0], device='cuda:0'),)\n",
      "C:\\\\5025211148\\\\YOLOv9-Segmentation\\\\segmented_AB\\\\merged_segs_13.jpg\n",
      "\n",
      "\n",
      "class tensor([0., 1.], device='cuda:0')\n",
      "indices (tensor([0], device='cuda:0'),)\n",
      "C:\\\\5025211148\\\\YOLOv9-Segmentation\\\\segmented_AB\\\\merged_segs_14.jpg\n",
      "\n",
      "\n",
      "class tensor([0., 1.], device='cuda:0')\n",
      "indices (tensor([0], device='cuda:0'),)\n",
      "C:\\\\5025211148\\\\YOLOv9-Segmentation\\\\segmented_AB\\\\merged_segs_15.jpg\n",
      "\n",
      "\n",
      "class tensor([0.], device='cuda:0')\n",
      "indices (tensor([0], device='cuda:0'),)\n",
      "C:\\\\5025211148\\\\YOLOv9-Segmentation\\\\segmented_AB\\\\merged_segs_16.jpg\n",
      "\n",
      "\n",
      "class tensor([0.], device='cuda:0')\n",
      "indices (tensor([0], device='cuda:0'),)\n",
      "C:\\\\5025211148\\\\YOLOv9-Segmentation\\\\segmented_AB\\\\merged_segs_17.jpg\n",
      "\n",
      "\n",
      "class tensor([0., 1., 1.], device='cuda:0')\n",
      "indices (tensor([0], device='cuda:0'),)\n",
      "C:\\\\5025211148\\\\YOLOv9-Segmentation\\\\segmented_AB\\\\merged_segs_18.jpg\n",
      "\n",
      "\n",
      "class tensor([0., 1.], device='cuda:0')\n",
      "indices (tensor([0], device='cuda:0'),)\n",
      "C:\\\\5025211148\\\\YOLOv9-Segmentation\\\\segmented_AB\\\\merged_segs_19.jpg\n",
      "\n",
      "\n",
      "class tensor([0., 1.], device='cuda:0')\n",
      "indices (tensor([0], device='cuda:0'),)\n",
      "C:\\\\5025211148\\\\YOLOv9-Segmentation\\\\segmented_AB\\\\merged_segs_20.jpg\n",
      "\n",
      "\n",
      "class tensor([0., 1.], device='cuda:0')\n",
      "indices (tensor([0], device='cuda:0'),)\n",
      "C:\\\\5025211148\\\\YOLOv9-Segmentation\\\\segmented_AB\\\\merged_segs_21.jpg\n",
      "\n",
      "\n",
      "class tensor([0., 1.], device='cuda:0')\n",
      "indices (tensor([0], device='cuda:0'),)\n",
      "C:\\\\5025211148\\\\YOLOv9-Segmentation\\\\segmented_AB\\\\merged_segs_22.jpg\n",
      "\n",
      "\n",
      "class tensor([0., 1.], device='cuda:0')\n",
      "indices (tensor([0], device='cuda:0'),)\n",
      "C:\\\\5025211148\\\\YOLOv9-Segmentation\\\\segmented_AB\\\\merged_segs_23.jpg\n",
      "\n",
      "\n",
      "class tensor([0., 1.], device='cuda:0')\n",
      "indices (tensor([0], device='cuda:0'),)\n",
      "C:\\\\5025211148\\\\YOLOv9-Segmentation\\\\segmented_AB\\\\merged_segs_24.jpg\n",
      "\n",
      "\n",
      "class tensor([0., 1.], device='cuda:0')\n",
      "indices (tensor([0], device='cuda:0'),)\n",
      "C:\\\\5025211148\\\\YOLOv9-Segmentation\\\\segmented_AB\\\\merged_segs_25.jpg\n",
      "\n",
      "\n",
      "class tensor([0., 1.], device='cuda:0')\n",
      "indices (tensor([0], device='cuda:0'),)\n",
      "C:\\\\5025211148\\\\YOLOv9-Segmentation\\\\segmented_AB\\\\merged_segs_26.jpg\n",
      "\n",
      "\n",
      "class tensor([0., 1.], device='cuda:0')\n",
      "indices (tensor([0], device='cuda:0'),)\n",
      "C:\\\\5025211148\\\\YOLOv9-Segmentation\\\\segmented_AB\\\\merged_segs_27.jpg\n",
      "\n",
      "\n",
      "class tensor([0., 1.], device='cuda:0')\n",
      "indices (tensor([0], device='cuda:0'),)\n",
      "C:\\\\5025211148\\\\YOLOv9-Segmentation\\\\segmented_AB\\\\merged_segs_28.jpg\n",
      "\n",
      "\n",
      "class tensor([0., 1.], device='cuda:0')\n",
      "indices (tensor([0], device='cuda:0'),)\n",
      "C:\\\\5025211148\\\\YOLOv9-Segmentation\\\\segmented_AB\\\\merged_segs_29.jpg\n",
      "\n",
      "\n",
      "class tensor([0., 1.], device='cuda:0')\n",
      "indices (tensor([0], device='cuda:0'),)\n",
      "C:\\\\5025211148\\\\YOLOv9-Segmentation\\\\segmented_AB\\\\merged_segs_30.jpg\n",
      "\n",
      "\n",
      "class tensor([0., 1.], device='cuda:0')\n",
      "indices (tensor([0], device='cuda:0'),)\n",
      "C:\\\\5025211148\\\\YOLOv9-Segmentation\\\\segmented_AB\\\\merged_segs_31.jpg\n",
      "\n",
      "\n",
      "class tensor([0., 1.], device='cuda:0')\n",
      "indices (tensor([0], device='cuda:0'),)\n",
      "C:\\\\5025211148\\\\YOLOv9-Segmentation\\\\segmented_AB\\\\merged_segs_32.jpg\n",
      "\n",
      "\n",
      "class tensor([0., 1.], device='cuda:0')\n",
      "indices (tensor([0], device='cuda:0'),)\n",
      "C:\\\\5025211148\\\\YOLOv9-Segmentation\\\\segmented_AB\\\\merged_segs_33.jpg\n",
      "\n",
      "\n",
      "class tensor([0., 1.], device='cuda:0')\n",
      "indices (tensor([0], device='cuda:0'),)\n",
      "C:\\\\5025211148\\\\YOLOv9-Segmentation\\\\segmented_AB\\\\merged_segs_34.jpg\n",
      "\n",
      "\n",
      "class tensor([0., 1.], device='cuda:0')\n",
      "indices (tensor([0], device='cuda:0'),)\n",
      "C:\\\\5025211148\\\\YOLOv9-Segmentation\\\\segmented_AB\\\\merged_segs_35.jpg\n",
      "\n",
      "\n",
      "class tensor([0., 1.], device='cuda:0')\n",
      "indices (tensor([0], device='cuda:0'),)\n",
      "C:\\\\5025211148\\\\YOLOv9-Segmentation\\\\segmented_AB\\\\merged_segs_36.jpg\n",
      "\n",
      "\n",
      "class tensor([0., 1.], device='cuda:0')\n",
      "indices (tensor([0], device='cuda:0'),)\n",
      "C:\\\\5025211148\\\\YOLOv9-Segmentation\\\\segmented_AB\\\\merged_segs_37.jpg\n",
      "\n",
      "\n",
      "class tensor([0., 1.], device='cuda:0')\n",
      "indices (tensor([0], device='cuda:0'),)\n",
      "C:\\\\5025211148\\\\YOLOv9-Segmentation\\\\segmented_AB\\\\merged_segs_38.jpg\n",
      "\n",
      "\n",
      "class tensor([0., 1.], device='cuda:0')\n",
      "indices (tensor([0], device='cuda:0'),)\n",
      "C:\\\\5025211148\\\\YOLOv9-Segmentation\\\\segmented_AB\\\\merged_segs_39.jpg\n",
      "\n",
      "\n",
      "class tensor([0., 1.], device='cuda:0')\n",
      "indices (tensor([0], device='cuda:0'),)\n",
      "C:\\\\5025211148\\\\YOLOv9-Segmentation\\\\segmented_AB\\\\merged_segs_40.jpg\n",
      "\n",
      "\n",
      "class tensor([0., 1.], device='cuda:0')\n",
      "indices (tensor([0], device='cuda:0'),)\n",
      "C:\\\\5025211148\\\\YOLOv9-Segmentation\\\\segmented_AB\\\\merged_segs_41.jpg\n",
      "\n",
      "\n",
      "class tensor([0., 1.], device='cuda:0')\n",
      "indices (tensor([0], device='cuda:0'),)\n",
      "C:\\\\5025211148\\\\YOLOv9-Segmentation\\\\segmented_AB\\\\merged_segs_42.jpg\n",
      "\n",
      "\n",
      "class tensor([0., 1.], device='cuda:0')\n",
      "indices (tensor([0], device='cuda:0'),)\n",
      "C:\\\\5025211148\\\\YOLOv9-Segmentation\\\\segmented_AB\\\\merged_segs_43.jpg\n",
      "\n",
      "\n",
      "class tensor([0., 1.], device='cuda:0')\n",
      "indices (tensor([0], device='cuda:0'),)\n",
      "C:\\\\5025211148\\\\YOLOv9-Segmentation\\\\segmented_AB\\\\merged_segs_44.jpg\n",
      "\n",
      "\n",
      "class tensor([0., 1.], device='cuda:0')\n",
      "indices (tensor([0], device='cuda:0'),)\n",
      "C:\\\\5025211148\\\\YOLOv9-Segmentation\\\\segmented_AB\\\\merged_segs_45.jpg\n",
      "\n",
      "\n",
      "class tensor([0.], device='cuda:0')\n",
      "indices (tensor([0], device='cuda:0'),)\n",
      "C:\\\\5025211148\\\\YOLOv9-Segmentation\\\\segmented_AB\\\\merged_segs_46.jpg\n",
      "\n",
      "\n",
      "class tensor([0., 1.], device='cuda:0')\n",
      "indices (tensor([0], device='cuda:0'),)\n",
      "C:\\\\5025211148\\\\YOLOv9-Segmentation\\\\segmented_AB\\\\merged_segs_47.jpg\n",
      "\n",
      "\n",
      "class tensor([0., 1.], device='cuda:0')\n",
      "indices (tensor([0], device='cuda:0'),)\n",
      "C:\\\\5025211148\\\\YOLOv9-Segmentation\\\\segmented_AB\\\\merged_segs_48.jpg\n",
      "\n",
      "\n",
      "class tensor([0., 1.], device='cuda:0')\n",
      "indices (tensor([0], device='cuda:0'),)\n",
      "C:\\\\5025211148\\\\YOLOv9-Segmentation\\\\segmented_AB\\\\merged_segs_49.jpg\n",
      "\n",
      "\n",
      "class tensor([0., 1.], device='cuda:0')\n",
      "indices (tensor([0], device='cuda:0'),)\n",
      "C:\\\\5025211148\\\\YOLOv9-Segmentation\\\\segmented_AB\\\\merged_segs_50.jpg\n",
      "\n",
      "\n",
      "class tensor([0., 1.], device='cuda:0')\n",
      "indices (tensor([0], device='cuda:0'),)\n",
      "C:\\\\5025211148\\\\YOLOv9-Segmentation\\\\segmented_AB\\\\merged_segs_51.jpg\n",
      "\n",
      "\n",
      "class tensor([0., 1.], device='cuda:0')\n",
      "indices (tensor([0], device='cuda:0'),)\n",
      "C:\\\\5025211148\\\\YOLOv9-Segmentation\\\\segmented_AB\\\\merged_segs_52.jpg\n",
      "\n",
      "\n",
      "class tensor([0., 1.], device='cuda:0')\n",
      "indices (tensor([0], device='cuda:0'),)\n",
      "C:\\\\5025211148\\\\YOLOv9-Segmentation\\\\segmented_AB\\\\merged_segs_53.jpg\n",
      "\n",
      "\n",
      "class tensor([0., 1., 1.], device='cuda:0')\n",
      "indices (tensor([0], device='cuda:0'),)\n",
      "C:\\\\5025211148\\\\YOLOv9-Segmentation\\\\segmented_AB\\\\merged_segs_54.jpg\n",
      "\n",
      "\n",
      "class tensor([0., 1.], device='cuda:0')\n",
      "indices (tensor([0], device='cuda:0'),)\n",
      "C:\\\\5025211148\\\\YOLOv9-Segmentation\\\\segmented_AB\\\\merged_segs_55.jpg\n",
      "\n",
      "\n",
      "class tensor([0., 1.], device='cuda:0')\n",
      "indices (tensor([0], device='cuda:0'),)\n",
      "C:\\\\5025211148\\\\YOLOv9-Segmentation\\\\segmented_AB\\\\merged_segs_56.jpg\n",
      "\n",
      "\n",
      "class tensor([0., 1.], device='cuda:0')\n",
      "indices (tensor([0], device='cuda:0'),)\n",
      "C:\\\\5025211148\\\\YOLOv9-Segmentation\\\\segmented_AB\\\\merged_segs_57.jpg\n",
      "\n",
      "\n",
      "class tensor([0., 1.], device='cuda:0')\n",
      "indices (tensor([0], device='cuda:0'),)\n",
      "C:\\\\5025211148\\\\YOLOv9-Segmentation\\\\segmented_AB\\\\merged_segs_58.jpg\n",
      "\n",
      "\n",
      "class tensor([0., 1.], device='cuda:0')\n",
      "indices (tensor([0], device='cuda:0'),)\n",
      "C:\\\\5025211148\\\\YOLOv9-Segmentation\\\\segmented_AB\\\\merged_segs_59.jpg\n",
      "\n",
      "\n",
      "class tensor([0., 1.], device='cuda:0')\n",
      "indices (tensor([0], device='cuda:0'),)\n",
      "C:\\\\5025211148\\\\YOLOv9-Segmentation\\\\segmented_AB\\\\merged_segs_60.jpg\n",
      "\n",
      "\n",
      "class tensor([0., 1.], device='cuda:0')\n",
      "indices (tensor([0], device='cuda:0'),)\n",
      "C:\\\\5025211148\\\\YOLOv9-Segmentation\\\\segmented_AB\\\\merged_segs_61.jpg\n",
      "\n",
      "\n",
      "class tensor([0., 1.], device='cuda:0')\n",
      "indices (tensor([0], device='cuda:0'),)\n",
      "C:\\\\5025211148\\\\YOLOv9-Segmentation\\\\segmented_AB\\\\merged_segs_62.jpg\n",
      "\n",
      "\n",
      "class tensor([0., 1.], device='cuda:0')\n",
      "indices (tensor([0], device='cuda:0'),)\n",
      "C:\\\\5025211148\\\\YOLOv9-Segmentation\\\\segmented_AB\\\\merged_segs_63.jpg\n",
      "\n",
      "\n",
      "class tensor([0., 1.], device='cuda:0')\n",
      "indices (tensor([0], device='cuda:0'),)\n",
      "C:\\\\5025211148\\\\YOLOv9-Segmentation\\\\segmented_AB\\\\merged_segs_64.jpg\n",
      "\n",
      "\n",
      "class tensor([0., 1.], device='cuda:0')\n",
      "indices (tensor([0], device='cuda:0'),)\n",
      "C:\\\\5025211148\\\\YOLOv9-Segmentation\\\\segmented_AB\\\\merged_segs_65.jpg\n",
      "\n",
      "\n",
      "class tensor([0., 1.], device='cuda:0')\n",
      "indices (tensor([0], device='cuda:0'),)\n",
      "C:\\\\5025211148\\\\YOLOv9-Segmentation\\\\segmented_AB\\\\merged_segs_66.jpg\n",
      "\n",
      "\n",
      "class tensor([0.], device='cuda:0')\n",
      "indices (tensor([0], device='cuda:0'),)\n",
      "C:\\\\5025211148\\\\YOLOv9-Segmentation\\\\segmented_AB\\\\merged_segs_67.jpg\n",
      "\n",
      "\n",
      "class tensor([0., 1.], device='cuda:0')\n",
      "indices (tensor([0], device='cuda:0'),)\n",
      "C:\\\\5025211148\\\\YOLOv9-Segmentation\\\\segmented_AB\\\\merged_segs_68.jpg\n",
      "\n",
      "\n",
      "class tensor([0., 1.], device='cuda:0')\n",
      "indices (tensor([0], device='cuda:0'),)\n",
      "C:\\\\5025211148\\\\YOLOv9-Segmentation\\\\segmented_AB\\\\merged_segs_69.jpg\n",
      "\n",
      "\n",
      "class tensor([0., 1.], device='cuda:0')\n",
      "indices (tensor([0], device='cuda:0'),)\n",
      "C:\\\\5025211148\\\\YOLOv9-Segmentation\\\\segmented_AB\\\\merged_segs_70.jpg\n",
      "\n",
      "\n",
      "class tensor([0., 1.], device='cuda:0')\n",
      "indices (tensor([0], device='cuda:0'),)\n",
      "C:\\\\5025211148\\\\YOLOv9-Segmentation\\\\segmented_AB\\\\merged_segs_71.jpg\n",
      "\n",
      "\n",
      "class tensor([0., 1.], device='cuda:0')\n",
      "indices (tensor([0], device='cuda:0'),)\n",
      "C:\\\\5025211148\\\\YOLOv9-Segmentation\\\\segmented_AB\\\\merged_segs_72.jpg\n",
      "\n",
      "\n",
      "class tensor([0., 1.], device='cuda:0')\n",
      "indices (tensor([0], device='cuda:0'),)\n",
      "C:\\\\5025211148\\\\YOLOv9-Segmentation\\\\segmented_AB\\\\merged_segs_73.jpg\n",
      "\n",
      "\n",
      "class tensor([0., 1.], device='cuda:0')\n",
      "indices (tensor([0], device='cuda:0'),)\n",
      "C:\\\\5025211148\\\\YOLOv9-Segmentation\\\\segmented_AB\\\\merged_segs_74.jpg\n",
      "\n",
      "\n"
     ]
    }
   ],
   "source": [
    "import torch\n",
    "import cv2\n",
    "import numpy as np\n",
    "i = 0\n",
    "x = 101\n",
    "y = 200\n",
    "\n",
    "for result in results:\n",
    "  if(result.masks is not None):\n",
    "    # get the AB masks\n",
    "    boxes = result.boxes.data\n",
    "    clss = boxes[:, 5]\n",
    "    AB_indices = torch.where(clss == 0)\n",
    "    AB_indices = (AB_indices[0][0].unsqueeze(0),)\n",
    "    # AB_indices = AB_indices[0][0]\n",
    "    print('class', clss)\n",
    "    print('indices', AB_indices)\n",
    "    # Convert mask to single channel image\n",
    "    try:\n",
    "      mask_raw = result.masks.cpu().data[[AB_indices]].numpy().transpose(1, 2, 0)\n",
    "      # Convert single channel grayscale to 3 channel image\n",
    "      mask_3channel = cv2.merge((mask_raw,mask_raw,mask_raw))\n",
    "\n",
    "      # Get the size of the original image (height, width, channels)\n",
    "      h2, w2, c2 = result.orig_img.shape\n",
    "\n",
    "      # Resize the mask to the same size as the image (can probably be removed if image is the same size as the model)\n",
    "      mask = cv2.resize(mask_3channel, (w2, h2))\n",
    "\n",
    "      # Convert BGR to HSV\n",
    "      hsv = cv2.cvtColor(mask, cv2.COLOR_BGR2HSV)\n",
    "\n",
    "      # Define range of brightness in HSV\n",
    "      lower_black = np.array([0,0,0])\n",
    "      upper_black = np.array([0,0,1])\n",
    "\n",
    "      # Create a mask. Threshold the HSV image to get everything black\n",
    "      mask = cv2.inRange(mask, lower_black, upper_black)\n",
    "\n",
    "      # Invert the mask to get everything but black\n",
    "      mask = cv2.bitwise_not(mask)\n",
    "\n",
    "      # Apply the mask to the original image\n",
    "      masked = cv2.bitwise_and(result.orig_img, result.orig_img, mask=mask)\n",
    "\n",
    "      # Show the masked part of the image\n",
    "      # cv2.imshow(\"mask\", masked)\n",
    "      resized_mask = cv2.resize(mask, (101, 200))\n",
    "      cv2.imwrite(fr'{segmented_AB_path}\\\\merged_segs_{i}.jpg', resized_mask)\n",
    "      print(fr'{segmented_AB_path}\\\\merged_segs_{i}.jpg')\n",
    "    except Exception as e:\n",
    "      print('error',e)\n",
    "      # print('\\n')\n",
    "      continue\n",
    "  else:\n",
    "    width = 101\n",
    "    height = 200\n",
    "    black_image = np.zeros((height, width), dtype=np.uint8)\n",
    "    print('ada yang kosong lo..')\n",
    "    # Save the black image to a file\n",
    "    cv2.imwrite(fr'{segmented_AB_path}\\\\merged_segs_{i}.jpg', black_image)\n",
    "    print(fr'{segmented_AB_path}\\\\merged_segs_{i}.jpg')\n",
    "  print('\\n')\n",
    "  i = i+1"
   ]
  },
  {
   "cell_type": "code",
   "execution_count": 19,
   "metadata": {
    "colab": {
     "base_uri": "https://localhost:8080/"
    },
    "executionInfo": {
     "elapsed": 7,
     "status": "ok",
     "timestamp": 1742741621129,
     "user": {
      "displayName": "Katarina Inezita",
      "userId": "04980882031321864073"
     },
     "user_tz": -420
    },
    "id": "TgyYiws-javN",
    "outputId": "41e22685-b5d6-46c4-deee-691f5f06a87d"
   },
   "outputs": [
    {
     "name": "stdout",
     "output_type": "stream",
     "text": [
      "C:\\\\5025211148\\\\YOLOv9-Segmentation\\\\segmented_AB\\merged_segs_0.jpg\n",
      "C:\\\\5025211148\\\\YOLOv9-Segmentation\\\\segmented_AB\\merged_segs_1.jpg\n",
      "C:\\\\5025211148\\\\YOLOv9-Segmentation\\\\segmented_AB\\merged_segs_2.jpg\n",
      "C:\\\\5025211148\\\\YOLOv9-Segmentation\\\\segmented_AB\\merged_segs_3.jpg\n",
      "C:\\\\5025211148\\\\YOLOv9-Segmentation\\\\segmented_AB\\merged_segs_4.jpg\n",
      "C:\\\\5025211148\\\\YOLOv9-Segmentation\\\\segmented_AB\\merged_segs_5.jpg\n",
      "C:\\\\5025211148\\\\YOLOv9-Segmentation\\\\segmented_AB\\merged_segs_6.jpg\n",
      "C:\\\\5025211148\\\\YOLOv9-Segmentation\\\\segmented_AB\\merged_segs_7.jpg\n",
      "C:\\\\5025211148\\\\YOLOv9-Segmentation\\\\segmented_AB\\merged_segs_8.jpg\n",
      "C:\\\\5025211148\\\\YOLOv9-Segmentation\\\\segmented_AB\\merged_segs_9.jpg\n",
      "C:\\\\5025211148\\\\YOLOv9-Segmentation\\\\segmented_AB\\merged_segs_10.jpg\n",
      "C:\\\\5025211148\\\\YOLOv9-Segmentation\\\\segmented_AB\\merged_segs_11.jpg\n",
      "C:\\\\5025211148\\\\YOLOv9-Segmentation\\\\segmented_AB\\merged_segs_12.jpg\n",
      "C:\\\\5025211148\\\\YOLOv9-Segmentation\\\\segmented_AB\\merged_segs_13.jpg\n",
      "C:\\\\5025211148\\\\YOLOv9-Segmentation\\\\segmented_AB\\merged_segs_14.jpg\n",
      "C:\\\\5025211148\\\\YOLOv9-Segmentation\\\\segmented_AB\\merged_segs_15.jpg\n",
      "C:\\\\5025211148\\\\YOLOv9-Segmentation\\\\segmented_AB\\merged_segs_16.jpg\n",
      "C:\\\\5025211148\\\\YOLOv9-Segmentation\\\\segmented_AB\\merged_segs_17.jpg\n",
      "C:\\\\5025211148\\\\YOLOv9-Segmentation\\\\segmented_AB\\merged_segs_18.jpg\n",
      "C:\\\\5025211148\\\\YOLOv9-Segmentation\\\\segmented_AB\\merged_segs_19.jpg\n",
      "C:\\\\5025211148\\\\YOLOv9-Segmentation\\\\segmented_AB\\merged_segs_20.jpg\n",
      "C:\\\\5025211148\\\\YOLOv9-Segmentation\\\\segmented_AB\\merged_segs_21.jpg\n",
      "C:\\\\5025211148\\\\YOLOv9-Segmentation\\\\segmented_AB\\merged_segs_22.jpg\n",
      "C:\\\\5025211148\\\\YOLOv9-Segmentation\\\\segmented_AB\\merged_segs_23.jpg\n",
      "C:\\\\5025211148\\\\YOLOv9-Segmentation\\\\segmented_AB\\merged_segs_24.jpg\n",
      "C:\\\\5025211148\\\\YOLOv9-Segmentation\\\\segmented_AB\\merged_segs_25.jpg\n",
      "C:\\\\5025211148\\\\YOLOv9-Segmentation\\\\segmented_AB\\merged_segs_26.jpg\n",
      "C:\\\\5025211148\\\\YOLOv9-Segmentation\\\\segmented_AB\\merged_segs_27.jpg\n",
      "C:\\\\5025211148\\\\YOLOv9-Segmentation\\\\segmented_AB\\merged_segs_28.jpg\n",
      "C:\\\\5025211148\\\\YOLOv9-Segmentation\\\\segmented_AB\\merged_segs_29.jpg\n",
      "C:\\\\5025211148\\\\YOLOv9-Segmentation\\\\segmented_AB\\merged_segs_30.jpg\n",
      "C:\\\\5025211148\\\\YOLOv9-Segmentation\\\\segmented_AB\\merged_segs_31.jpg\n",
      "C:\\\\5025211148\\\\YOLOv9-Segmentation\\\\segmented_AB\\merged_segs_32.jpg\n",
      "C:\\\\5025211148\\\\YOLOv9-Segmentation\\\\segmented_AB\\merged_segs_33.jpg\n",
      "C:\\\\5025211148\\\\YOLOv9-Segmentation\\\\segmented_AB\\merged_segs_34.jpg\n",
      "C:\\\\5025211148\\\\YOLOv9-Segmentation\\\\segmented_AB\\merged_segs_35.jpg\n",
      "C:\\\\5025211148\\\\YOLOv9-Segmentation\\\\segmented_AB\\merged_segs_36.jpg\n",
      "C:\\\\5025211148\\\\YOLOv9-Segmentation\\\\segmented_AB\\merged_segs_37.jpg\n",
      "C:\\\\5025211148\\\\YOLOv9-Segmentation\\\\segmented_AB\\merged_segs_38.jpg\n",
      "C:\\\\5025211148\\\\YOLOv9-Segmentation\\\\segmented_AB\\merged_segs_39.jpg\n",
      "C:\\\\5025211148\\\\YOLOv9-Segmentation\\\\segmented_AB\\merged_segs_40.jpg\n",
      "C:\\\\5025211148\\\\YOLOv9-Segmentation\\\\segmented_AB\\merged_segs_41.jpg\n",
      "C:\\\\5025211148\\\\YOLOv9-Segmentation\\\\segmented_AB\\merged_segs_42.jpg\n",
      "C:\\\\5025211148\\\\YOLOv9-Segmentation\\\\segmented_AB\\merged_segs_43.jpg\n",
      "C:\\\\5025211148\\\\YOLOv9-Segmentation\\\\segmented_AB\\merged_segs_44.jpg\n",
      "C:\\\\5025211148\\\\YOLOv9-Segmentation\\\\segmented_AB\\merged_segs_45.jpg\n",
      "C:\\\\5025211148\\\\YOLOv9-Segmentation\\\\segmented_AB\\merged_segs_46.jpg\n",
      "C:\\\\5025211148\\\\YOLOv9-Segmentation\\\\segmented_AB\\merged_segs_47.jpg\n",
      "C:\\\\5025211148\\\\YOLOv9-Segmentation\\\\segmented_AB\\merged_segs_48.jpg\n",
      "C:\\\\5025211148\\\\YOLOv9-Segmentation\\\\segmented_AB\\merged_segs_49.jpg\n",
      "C:\\\\5025211148\\\\YOLOv9-Segmentation\\\\segmented_AB\\merged_segs_50.jpg\n",
      "C:\\\\5025211148\\\\YOLOv9-Segmentation\\\\segmented_AB\\merged_segs_51.jpg\n",
      "C:\\\\5025211148\\\\YOLOv9-Segmentation\\\\segmented_AB\\merged_segs_52.jpg\n",
      "C:\\\\5025211148\\\\YOLOv9-Segmentation\\\\segmented_AB\\merged_segs_53.jpg\n",
      "C:\\\\5025211148\\\\YOLOv9-Segmentation\\\\segmented_AB\\merged_segs_54.jpg\n",
      "C:\\\\5025211148\\\\YOLOv9-Segmentation\\\\segmented_AB\\merged_segs_55.jpg\n",
      "C:\\\\5025211148\\\\YOLOv9-Segmentation\\\\segmented_AB\\merged_segs_56.jpg\n",
      "C:\\\\5025211148\\\\YOLOv9-Segmentation\\\\segmented_AB\\merged_segs_57.jpg\n",
      "C:\\\\5025211148\\\\YOLOv9-Segmentation\\\\segmented_AB\\merged_segs_58.jpg\n",
      "C:\\\\5025211148\\\\YOLOv9-Segmentation\\\\segmented_AB\\merged_segs_59.jpg\n",
      "C:\\\\5025211148\\\\YOLOv9-Segmentation\\\\segmented_AB\\merged_segs_60.jpg\n",
      "C:\\\\5025211148\\\\YOLOv9-Segmentation\\\\segmented_AB\\merged_segs_61.jpg\n",
      "C:\\\\5025211148\\\\YOLOv9-Segmentation\\\\segmented_AB\\merged_segs_62.jpg\n",
      "C:\\\\5025211148\\\\YOLOv9-Segmentation\\\\segmented_AB\\merged_segs_63.jpg\n",
      "C:\\\\5025211148\\\\YOLOv9-Segmentation\\\\segmented_AB\\merged_segs_64.jpg\n",
      "C:\\\\5025211148\\\\YOLOv9-Segmentation\\\\segmented_AB\\merged_segs_65.jpg\n",
      "C:\\\\5025211148\\\\YOLOv9-Segmentation\\\\segmented_AB\\merged_segs_66.jpg\n",
      "C:\\\\5025211148\\\\YOLOv9-Segmentation\\\\segmented_AB\\merged_segs_67.jpg\n",
      "C:\\\\5025211148\\\\YOLOv9-Segmentation\\\\segmented_AB\\merged_segs_68.jpg\n",
      "C:\\\\5025211148\\\\YOLOv9-Segmentation\\\\segmented_AB\\merged_segs_69.jpg\n",
      "C:\\\\5025211148\\\\YOLOv9-Segmentation\\\\segmented_AB\\merged_segs_70.jpg\n",
      "C:\\\\5025211148\\\\YOLOv9-Segmentation\\\\segmented_AB\\merged_segs_71.jpg\n",
      "C:\\\\5025211148\\\\YOLOv9-Segmentation\\\\segmented_AB\\merged_segs_72.jpg\n",
      "C:\\\\5025211148\\\\YOLOv9-Segmentation\\\\segmented_AB\\merged_segs_73.jpg\n",
      "C:\\\\5025211148\\\\YOLOv9-Segmentation\\\\segmented_AB\\merged_segs_74.jpg\n"
     ]
    }
   ],
   "source": [
    "import os\n",
    "import re\n",
    "\n",
    "# specify the directory path\n",
    "directory_path = segmented_AB_path_2\n",
    "\n",
    "# create an empty list to store the filenames with directory path\n",
    "file_list_AB = []\n",
    "\n",
    "# iterate over the files in the directory\n",
    "for filename in os.listdir(directory_path):\n",
    "    # check if the item is a file\n",
    "    if os.path.isfile(os.path.join(directory_path, filename)):\n",
    "        # append the filename with directory path to the list\n",
    "        file_list_AB.append(os.path.join(directory_path, filename))\n",
    "\n",
    "def extract_number(s):\n",
    "    match = re.search(r'merged_segs_(\\d+)', s)  # Match 'merged_segs_' followed by one or more digits\n",
    "    return int(match.group(1)) if match else float('inf')\n",
    "\n",
    "file_list_AB = sorted(file_list_AB, key=extract_number)\n",
    "for filename in file_list_AB:\n",
    "    print(filename)\n",
    "# print(file_list)  # Output: sorted file_list with filenames like 'merged_segs_0', 'merged_segs_1', 'merged_segs_2', etc.\n"
   ]
  },
  {
   "cell_type": "code",
   "execution_count": 20,
   "metadata": {
    "colab": {
     "base_uri": "https://localhost:8080/"
    },
    "executionInfo": {
     "elapsed": 7,
     "status": "ok",
     "timestamp": 1742741624965,
     "user": {
      "displayName": "Katarina Inezita",
      "userId": "04980882031321864073"
     },
     "user_tz": -420
    },
    "id": "QzynhpadjavO",
    "outputId": "259cc979-f930-4037-83b7-3d867854a30f"
   },
   "outputs": [
    {
     "name": "stdout",
     "output_type": "stream",
     "text": [
      "(75, 200, 101)\n"
     ]
    }
   ],
   "source": [
    "import numpy as np\n",
    "from PIL import Image  # If your images are in image files\n",
    "\n",
    "# Assuming img_files is a list of file paths to the 2D images\n",
    "# img_files = ['image1.png', 'image2.png', 'image3.png']  # Replace with your actual file paths\n",
    "\n",
    "# Load the images and convert them to numpy arrays\n",
    "image_arrays = [np.array(Image.open(img_file)) for img_file in file_list_AB]\n",
    "\n",
    "# Stack the image arrays into a 3D numpy array\n",
    "stacked_images = np.stack(image_arrays, axis=0)\n",
    "\n",
    "# stacked_images is now a 3D numpy array where the first dimension represents the index of the image in the list\n",
    "\n",
    "# Example usage:\n",
    "print(stacked_images.shape)  # Output: (3, height, width, channels) assuming RGB images\n",
    "\n",
    "np.save(segmented_AB_npy, stacked_images)"
   ]
  },
  {
   "cell_type": "code",
   "execution_count": 21,
   "metadata": {
    "colab": {
     "base_uri": "https://localhost:8080/"
    },
    "executionInfo": {
     "elapsed": 702,
     "status": "ok",
     "timestamp": 1742741627209,
     "user": {
      "displayName": "Katarina Inezita",
      "userId": "04980882031321864073"
     },
     "user_tz": -420
    },
    "id": "JJuap5T0javP",
    "outputId": "8388a37e-9068-4a22-9d7e-55fc26b7efa3"
   },
   "outputs": [
    {
     "name": "stdout",
     "output_type": "stream",
     "text": [
      "class tensor([0., 1., 1.], device='cuda:0')\n",
      "indices (tensor([1], device='cuda:0'),)\n",
      "C:\\\\5025211148\\\\YOLOv9-Segmentation\\\\segmented_MC\\\\merged_segs_0.jpg\n",
      "ketemu\n",
      "\n",
      "\n",
      "class tensor([0., 1., 1.], device='cuda:0')\n",
      "indices (tensor([1], device='cuda:0'),)\n",
      "C:\\\\5025211148\\\\YOLOv9-Segmentation\\\\segmented_MC\\\\merged_segs_1.jpg\n",
      "ketemu\n",
      "\n",
      "\n",
      "error index 0 is out of bounds for dimension 0 with size 0\n",
      "tidak ada mc lo..\n",
      "C:\\\\5025211148\\\\YOLOv9-Segmentation\\\\segmented_MC\\\\merged_segs_2.jpg\n",
      "class tensor([0., 1.], device='cuda:0')\n",
      "indices (tensor([1], device='cuda:0'),)\n",
      "C:\\\\5025211148\\\\YOLOv9-Segmentation\\\\segmented_MC\\\\merged_segs_3.jpg\n",
      "ketemu\n",
      "\n",
      "\n",
      "class tensor([0., 1.], device='cuda:0')\n",
      "indices (tensor([1], device='cuda:0'),)\n",
      "C:\\\\5025211148\\\\YOLOv9-Segmentation\\\\segmented_MC\\\\merged_segs_4.jpg\n",
      "ketemu\n",
      "\n",
      "\n",
      "class tensor([0., 1.], device='cuda:0')\n",
      "indices (tensor([1], device='cuda:0'),)\n",
      "C:\\\\5025211148\\\\YOLOv9-Segmentation\\\\segmented_MC\\\\merged_segs_5.jpg\n",
      "ketemu\n",
      "\n",
      "\n",
      "class tensor([0., 1.], device='cuda:0')\n",
      "indices (tensor([1], device='cuda:0'),)\n",
      "C:\\\\5025211148\\\\YOLOv9-Segmentation\\\\segmented_MC\\\\merged_segs_6.jpg\n",
      "ketemu\n",
      "\n",
      "\n",
      "class tensor([0., 1.], device='cuda:0')\n",
      "indices (tensor([1], device='cuda:0'),)\n",
      "C:\\\\5025211148\\\\YOLOv9-Segmentation\\\\segmented_MC\\\\merged_segs_7.jpg\n",
      "ketemu\n",
      "\n",
      "\n",
      "class tensor([0., 1.], device='cuda:0')\n",
      "indices (tensor([1], device='cuda:0'),)\n",
      "C:\\\\5025211148\\\\YOLOv9-Segmentation\\\\segmented_MC\\\\merged_segs_8.jpg\n",
      "ketemu\n",
      "\n",
      "\n",
      "class tensor([0., 1.], device='cuda:0')\n",
      "indices (tensor([1], device='cuda:0'),)\n",
      "C:\\\\5025211148\\\\YOLOv9-Segmentation\\\\segmented_MC\\\\merged_segs_9.jpg\n",
      "ketemu\n",
      "\n",
      "\n",
      "class tensor([0., 1.], device='cuda:0')\n",
      "indices (tensor([1], device='cuda:0'),)\n",
      "C:\\\\5025211148\\\\YOLOv9-Segmentation\\\\segmented_MC\\\\merged_segs_10.jpg\n",
      "ketemu\n",
      "\n",
      "\n",
      "class tensor([0., 1.], device='cuda:0')\n",
      "indices (tensor([1], device='cuda:0'),)\n",
      "C:\\\\5025211148\\\\YOLOv9-Segmentation\\\\segmented_MC\\\\merged_segs_11.jpg\n",
      "ketemu\n",
      "\n",
      "\n",
      "class tensor([0., 1.], device='cuda:0')\n",
      "indices (tensor([1], device='cuda:0'),)\n",
      "C:\\\\5025211148\\\\YOLOv9-Segmentation\\\\segmented_MC\\\\merged_segs_12.jpg\n",
      "ketemu\n",
      "\n",
      "\n",
      "class tensor([0., 1.], device='cuda:0')\n",
      "indices (tensor([1], device='cuda:0'),)\n",
      "C:\\\\5025211148\\\\YOLOv9-Segmentation\\\\segmented_MC\\\\merged_segs_13.jpg\n",
      "ketemu\n",
      "\n",
      "\n",
      "class tensor([0., 1.], device='cuda:0')\n",
      "indices (tensor([1], device='cuda:0'),)\n",
      "C:\\\\5025211148\\\\YOLOv9-Segmentation\\\\segmented_MC\\\\merged_segs_14.jpg\n",
      "ketemu\n",
      "\n",
      "\n",
      "class tensor([0., 1.], device='cuda:0')\n",
      "indices (tensor([1], device='cuda:0'),)\n",
      "C:\\\\5025211148\\\\YOLOv9-Segmentation\\\\segmented_MC\\\\merged_segs_15.jpg\n",
      "ketemu\n",
      "\n",
      "\n",
      "error index 0 is out of bounds for dimension 0 with size 0\n",
      "tidak ada mc lo..\n",
      "C:\\\\5025211148\\\\YOLOv9-Segmentation\\\\segmented_MC\\\\merged_segs_16.jpg\n",
      "error index 0 is out of bounds for dimension 0 with size 0\n",
      "tidak ada mc lo..\n",
      "C:\\\\5025211148\\\\YOLOv9-Segmentation\\\\segmented_MC\\\\merged_segs_17.jpg\n",
      "class tensor([0., 1., 1.], device='cuda:0')\n",
      "indices (tensor([1], device='cuda:0'),)\n",
      "C:\\\\5025211148\\\\YOLOv9-Segmentation\\\\segmented_MC\\\\merged_segs_18.jpg\n",
      "ketemu\n",
      "\n",
      "\n",
      "class tensor([0., 1.], device='cuda:0')\n",
      "indices (tensor([1], device='cuda:0'),)\n",
      "C:\\\\5025211148\\\\YOLOv9-Segmentation\\\\segmented_MC\\\\merged_segs_19.jpg\n",
      "ketemu\n",
      "\n",
      "\n",
      "class tensor([0., 1.], device='cuda:0')\n",
      "indices (tensor([1], device='cuda:0'),)\n",
      "C:\\\\5025211148\\\\YOLOv9-Segmentation\\\\segmented_MC\\\\merged_segs_20.jpg\n",
      "ketemu\n",
      "\n",
      "\n",
      "class tensor([0., 1.], device='cuda:0')\n",
      "indices (tensor([1], device='cuda:0'),)\n",
      "C:\\\\5025211148\\\\YOLOv9-Segmentation\\\\segmented_MC\\\\merged_segs_21.jpg\n",
      "ketemu\n",
      "\n",
      "\n",
      "class tensor([0., 1.], device='cuda:0')\n",
      "indices (tensor([1], device='cuda:0'),)\n",
      "C:\\\\5025211148\\\\YOLOv9-Segmentation\\\\segmented_MC\\\\merged_segs_22.jpg\n",
      "ketemu\n",
      "\n",
      "\n",
      "class tensor([0., 1.], device='cuda:0')\n",
      "indices (tensor([1], device='cuda:0'),)\n",
      "C:\\\\5025211148\\\\YOLOv9-Segmentation\\\\segmented_MC\\\\merged_segs_23.jpg\n",
      "ketemu\n",
      "\n",
      "\n",
      "class tensor([0., 1.], device='cuda:0')\n",
      "indices (tensor([1], device='cuda:0'),)\n",
      "C:\\\\5025211148\\\\YOLOv9-Segmentation\\\\segmented_MC\\\\merged_segs_24.jpg\n",
      "ketemu\n",
      "\n",
      "\n",
      "class tensor([0., 1.], device='cuda:0')\n",
      "indices (tensor([1], device='cuda:0'),)\n",
      "C:\\\\5025211148\\\\YOLOv9-Segmentation\\\\segmented_MC\\\\merged_segs_25.jpg\n",
      "ketemu\n",
      "\n",
      "\n",
      "class tensor([0., 1.], device='cuda:0')\n",
      "indices (tensor([1], device='cuda:0'),)\n",
      "C:\\\\5025211148\\\\YOLOv9-Segmentation\\\\segmented_MC\\\\merged_segs_26.jpg\n",
      "ketemu\n",
      "\n",
      "\n",
      "class tensor([0., 1.], device='cuda:0')\n",
      "indices (tensor([1], device='cuda:0'),)\n",
      "C:\\\\5025211148\\\\YOLOv9-Segmentation\\\\segmented_MC\\\\merged_segs_27.jpg\n",
      "ketemu\n",
      "\n",
      "\n",
      "class tensor([0., 1.], device='cuda:0')\n",
      "indices (tensor([1], device='cuda:0'),)\n",
      "C:\\\\5025211148\\\\YOLOv9-Segmentation\\\\segmented_MC\\\\merged_segs_28.jpg\n",
      "ketemu\n",
      "\n",
      "\n",
      "class tensor([0., 1.], device='cuda:0')\n",
      "indices (tensor([1], device='cuda:0'),)\n",
      "C:\\\\5025211148\\\\YOLOv9-Segmentation\\\\segmented_MC\\\\merged_segs_29.jpg\n",
      "ketemu\n",
      "\n",
      "\n",
      "class tensor([0., 1.], device='cuda:0')\n",
      "indices (tensor([1], device='cuda:0'),)\n",
      "C:\\\\5025211148\\\\YOLOv9-Segmentation\\\\segmented_MC\\\\merged_segs_30.jpg\n",
      "ketemu\n",
      "\n",
      "\n",
      "class tensor([0., 1.], device='cuda:0')\n",
      "indices (tensor([1], device='cuda:0'),)\n",
      "C:\\\\5025211148\\\\YOLOv9-Segmentation\\\\segmented_MC\\\\merged_segs_31.jpg\n",
      "ketemu\n",
      "\n",
      "\n",
      "class tensor([0., 1.], device='cuda:0')\n",
      "indices (tensor([1], device='cuda:0'),)\n",
      "C:\\\\5025211148\\\\YOLOv9-Segmentation\\\\segmented_MC\\\\merged_segs_32.jpg\n",
      "ketemu\n",
      "\n",
      "\n",
      "class tensor([0., 1.], device='cuda:0')\n",
      "indices (tensor([1], device='cuda:0'),)\n",
      "C:\\\\5025211148\\\\YOLOv9-Segmentation\\\\segmented_MC\\\\merged_segs_33.jpg\n",
      "ketemu\n",
      "\n",
      "\n",
      "class tensor([0., 1.], device='cuda:0')\n",
      "indices (tensor([1], device='cuda:0'),)\n",
      "C:\\\\5025211148\\\\YOLOv9-Segmentation\\\\segmented_MC\\\\merged_segs_34.jpg\n",
      "ketemu\n",
      "\n",
      "\n",
      "class tensor([0., 1.], device='cuda:0')\n",
      "indices (tensor([1], device='cuda:0'),)\n",
      "C:\\\\5025211148\\\\YOLOv9-Segmentation\\\\segmented_MC\\\\merged_segs_35.jpg\n",
      "ketemu\n",
      "\n",
      "\n",
      "class tensor([0., 1.], device='cuda:0')\n",
      "indices (tensor([1], device='cuda:0'),)\n",
      "C:\\\\5025211148\\\\YOLOv9-Segmentation\\\\segmented_MC\\\\merged_segs_36.jpg\n",
      "ketemu\n",
      "\n",
      "\n",
      "class tensor([0., 1.], device='cuda:0')\n",
      "indices (tensor([1], device='cuda:0'),)\n",
      "C:\\\\5025211148\\\\YOLOv9-Segmentation\\\\segmented_MC\\\\merged_segs_37.jpg\n",
      "ketemu\n",
      "\n",
      "\n",
      "class tensor([0., 1.], device='cuda:0')\n",
      "indices (tensor([1], device='cuda:0'),)\n",
      "C:\\\\5025211148\\\\YOLOv9-Segmentation\\\\segmented_MC\\\\merged_segs_38.jpg\n",
      "ketemu\n",
      "\n",
      "\n",
      "class tensor([0., 1.], device='cuda:0')\n",
      "indices (tensor([1], device='cuda:0'),)\n",
      "C:\\\\5025211148\\\\YOLOv9-Segmentation\\\\segmented_MC\\\\merged_segs_39.jpg\n",
      "ketemu\n",
      "\n",
      "\n",
      "class tensor([0., 1.], device='cuda:0')\n",
      "indices (tensor([1], device='cuda:0'),)\n",
      "C:\\\\5025211148\\\\YOLOv9-Segmentation\\\\segmented_MC\\\\merged_segs_40.jpg\n",
      "ketemu\n",
      "\n",
      "\n",
      "class tensor([0., 1.], device='cuda:0')\n",
      "indices (tensor([1], device='cuda:0'),)\n",
      "C:\\\\5025211148\\\\YOLOv9-Segmentation\\\\segmented_MC\\\\merged_segs_41.jpg\n",
      "ketemu\n",
      "\n",
      "\n",
      "class tensor([0., 1.], device='cuda:0')\n",
      "indices (tensor([1], device='cuda:0'),)\n",
      "C:\\\\5025211148\\\\YOLOv9-Segmentation\\\\segmented_MC\\\\merged_segs_42.jpg\n",
      "ketemu\n",
      "\n",
      "\n",
      "class tensor([0., 1.], device='cuda:0')\n",
      "indices (tensor([1], device='cuda:0'),)\n",
      "C:\\\\5025211148\\\\YOLOv9-Segmentation\\\\segmented_MC\\\\merged_segs_43.jpg\n",
      "ketemu\n",
      "\n",
      "\n",
      "class tensor([0., 1.], device='cuda:0')\n",
      "indices (tensor([1], device='cuda:0'),)\n",
      "C:\\\\5025211148\\\\YOLOv9-Segmentation\\\\segmented_MC\\\\merged_segs_44.jpg\n",
      "ketemu\n",
      "\n",
      "\n",
      "class tensor([0., 1.], device='cuda:0')\n",
      "indices (tensor([1], device='cuda:0'),)\n",
      "C:\\\\5025211148\\\\YOLOv9-Segmentation\\\\segmented_MC\\\\merged_segs_45.jpg\n",
      "ketemu\n",
      "\n",
      "\n",
      "error index 0 is out of bounds for dimension 0 with size 0\n",
      "tidak ada mc lo..\n",
      "C:\\\\5025211148\\\\YOLOv9-Segmentation\\\\segmented_MC\\\\merged_segs_46.jpg\n",
      "class tensor([0., 1.], device='cuda:0')\n",
      "indices (tensor([1], device='cuda:0'),)\n",
      "C:\\\\5025211148\\\\YOLOv9-Segmentation\\\\segmented_MC\\\\merged_segs_47.jpg\n",
      "ketemu\n",
      "\n",
      "\n",
      "class tensor([0., 1.], device='cuda:0')\n",
      "indices (tensor([1], device='cuda:0'),)\n",
      "C:\\\\5025211148\\\\YOLOv9-Segmentation\\\\segmented_MC\\\\merged_segs_48.jpg\n",
      "ketemu\n",
      "\n",
      "\n",
      "class tensor([0., 1.], device='cuda:0')\n",
      "indices (tensor([1], device='cuda:0'),)\n",
      "C:\\\\5025211148\\\\YOLOv9-Segmentation\\\\segmented_MC\\\\merged_segs_49.jpg\n",
      "ketemu\n",
      "\n",
      "\n",
      "class tensor([0., 1.], device='cuda:0')\n",
      "indices (tensor([1], device='cuda:0'),)\n",
      "C:\\\\5025211148\\\\YOLOv9-Segmentation\\\\segmented_MC\\\\merged_segs_50.jpg\n",
      "ketemu\n",
      "\n",
      "\n",
      "class tensor([0., 1.], device='cuda:0')\n",
      "indices (tensor([1], device='cuda:0'),)\n",
      "C:\\\\5025211148\\\\YOLOv9-Segmentation\\\\segmented_MC\\\\merged_segs_51.jpg\n",
      "ketemu\n",
      "\n",
      "\n",
      "class tensor([0., 1.], device='cuda:0')\n",
      "indices (tensor([1], device='cuda:0'),)\n",
      "C:\\\\5025211148\\\\YOLOv9-Segmentation\\\\segmented_MC\\\\merged_segs_52.jpg\n",
      "ketemu\n",
      "\n",
      "\n",
      "class tensor([0., 1.], device='cuda:0')\n",
      "indices (tensor([1], device='cuda:0'),)\n",
      "C:\\\\5025211148\\\\YOLOv9-Segmentation\\\\segmented_MC\\\\merged_segs_53.jpg\n",
      "ketemu\n",
      "\n",
      "\n",
      "class tensor([0., 1., 1.], device='cuda:0')\n",
      "indices (tensor([1], device='cuda:0'),)\n",
      "C:\\\\5025211148\\\\YOLOv9-Segmentation\\\\segmented_MC\\\\merged_segs_54.jpg\n",
      "ketemu\n",
      "\n",
      "\n",
      "class tensor([0., 1.], device='cuda:0')\n",
      "indices (tensor([1], device='cuda:0'),)\n",
      "C:\\\\5025211148\\\\YOLOv9-Segmentation\\\\segmented_MC\\\\merged_segs_55.jpg\n",
      "ketemu\n",
      "\n",
      "\n",
      "class tensor([0., 1.], device='cuda:0')\n",
      "indices (tensor([1], device='cuda:0'),)\n",
      "C:\\\\5025211148\\\\YOLOv9-Segmentation\\\\segmented_MC\\\\merged_segs_56.jpg\n",
      "ketemu\n",
      "\n",
      "\n",
      "class tensor([0., 1.], device='cuda:0')\n",
      "indices (tensor([1], device='cuda:0'),)\n",
      "C:\\\\5025211148\\\\YOLOv9-Segmentation\\\\segmented_MC\\\\merged_segs_57.jpg\n",
      "ketemu\n",
      "\n",
      "\n",
      "class tensor([0., 1.], device='cuda:0')\n",
      "indices (tensor([1], device='cuda:0'),)\n",
      "C:\\\\5025211148\\\\YOLOv9-Segmentation\\\\segmented_MC\\\\merged_segs_58.jpg\n",
      "ketemu\n",
      "\n",
      "\n",
      "class tensor([0., 1.], device='cuda:0')\n",
      "indices (tensor([1], device='cuda:0'),)\n",
      "C:\\\\5025211148\\\\YOLOv9-Segmentation\\\\segmented_MC\\\\merged_segs_59.jpg\n",
      "ketemu\n",
      "\n",
      "\n",
      "class tensor([0., 1.], device='cuda:0')\n",
      "indices (tensor([1], device='cuda:0'),)\n",
      "C:\\\\5025211148\\\\YOLOv9-Segmentation\\\\segmented_MC\\\\merged_segs_60.jpg\n",
      "ketemu\n",
      "\n",
      "\n",
      "class tensor([0., 1.], device='cuda:0')\n",
      "indices (tensor([1], device='cuda:0'),)\n",
      "C:\\\\5025211148\\\\YOLOv9-Segmentation\\\\segmented_MC\\\\merged_segs_61.jpg\n",
      "ketemu\n",
      "\n",
      "\n",
      "class tensor([0., 1.], device='cuda:0')\n",
      "indices (tensor([1], device='cuda:0'),)\n",
      "C:\\\\5025211148\\\\YOLOv9-Segmentation\\\\segmented_MC\\\\merged_segs_62.jpg\n",
      "ketemu\n",
      "\n",
      "\n",
      "class tensor([0., 1.], device='cuda:0')\n",
      "indices (tensor([1], device='cuda:0'),)\n",
      "C:\\\\5025211148\\\\YOLOv9-Segmentation\\\\segmented_MC\\\\merged_segs_63.jpg\n",
      "ketemu\n",
      "\n",
      "\n",
      "class tensor([0., 1.], device='cuda:0')\n",
      "indices (tensor([1], device='cuda:0'),)\n",
      "C:\\\\5025211148\\\\YOLOv9-Segmentation\\\\segmented_MC\\\\merged_segs_64.jpg\n",
      "ketemu\n",
      "\n",
      "\n",
      "class tensor([0., 1.], device='cuda:0')\n",
      "indices (tensor([1], device='cuda:0'),)\n",
      "C:\\\\5025211148\\\\YOLOv9-Segmentation\\\\segmented_MC\\\\merged_segs_65.jpg\n",
      "ketemu\n",
      "\n",
      "\n",
      "class tensor([0., 1.], device='cuda:0')\n",
      "indices (tensor([1], device='cuda:0'),)\n",
      "C:\\\\5025211148\\\\YOLOv9-Segmentation\\\\segmented_MC\\\\merged_segs_66.jpg\n",
      "ketemu\n",
      "\n",
      "\n",
      "error index 0 is out of bounds for dimension 0 with size 0\n",
      "tidak ada mc lo..\n",
      "C:\\\\5025211148\\\\YOLOv9-Segmentation\\\\segmented_MC\\\\merged_segs_67.jpg\n",
      "class tensor([0., 1.], device='cuda:0')\n",
      "indices (tensor([1], device='cuda:0'),)\n",
      "C:\\\\5025211148\\\\YOLOv9-Segmentation\\\\segmented_MC\\\\merged_segs_68.jpg\n",
      "ketemu\n",
      "\n",
      "\n",
      "class tensor([0., 1.], device='cuda:0')\n",
      "indices (tensor([1], device='cuda:0'),)\n",
      "C:\\\\5025211148\\\\YOLOv9-Segmentation\\\\segmented_MC\\\\merged_segs_69.jpg\n",
      "ketemu\n",
      "\n",
      "\n",
      "class tensor([0., 1.], device='cuda:0')\n",
      "indices (tensor([1], device='cuda:0'),)\n",
      "C:\\\\5025211148\\\\YOLOv9-Segmentation\\\\segmented_MC\\\\merged_segs_70.jpg\n",
      "ketemu\n",
      "\n",
      "\n",
      "class tensor([0., 1.], device='cuda:0')\n",
      "indices (tensor([1], device='cuda:0'),)\n",
      "C:\\\\5025211148\\\\YOLOv9-Segmentation\\\\segmented_MC\\\\merged_segs_71.jpg\n",
      "ketemu\n",
      "\n",
      "\n",
      "class tensor([0., 1.], device='cuda:0')\n",
      "indices (tensor([1], device='cuda:0'),)\n",
      "C:\\\\5025211148\\\\YOLOv9-Segmentation\\\\segmented_MC\\\\merged_segs_72.jpg\n",
      "ketemu\n",
      "\n",
      "\n",
      "class tensor([0., 1.], device='cuda:0')\n",
      "indices (tensor([1], device='cuda:0'),)\n",
      "C:\\\\5025211148\\\\YOLOv9-Segmentation\\\\segmented_MC\\\\merged_segs_73.jpg\n",
      "ketemu\n",
      "\n",
      "\n",
      "class tensor([0., 1.], device='cuda:0')\n",
      "indices (tensor([1], device='cuda:0'),)\n",
      "C:\\\\5025211148\\\\YOLOv9-Segmentation\\\\segmented_MC\\\\merged_segs_74.jpg\n",
      "ketemu\n",
      "\n",
      "\n"
     ]
    }
   ],
   "source": [
    "import torch\n",
    "import cv2\n",
    "i = 0\n",
    "x = 101\n",
    "y = 200\n",
    "\n",
    "for result in results:\n",
    "  if(result.masks is not None):\n",
    "    # get the AB masks\n",
    "    try:\n",
    "      boxes = result.boxes.data\n",
    "      clss = boxes[:, 5]\n",
    "      AB_indices = torch.where(clss == 1)\n",
    "      AB_indices = (AB_indices[0][0].unsqueeze(0),)\n",
    "      # AB_indices = AB_indices[0][0]\n",
    "      print('class', clss)\n",
    "      print('indices', AB_indices)\n",
    "      # Convert mask to single channel image\n",
    "      mask_raw = result.masks.cpu().data[[AB_indices]].numpy().transpose(1, 2, 0)\n",
    "      # Convert single channel grayscale to 3 channel image\n",
    "      mask_3channel = cv2.merge((mask_raw,mask_raw,mask_raw))\n",
    "\n",
    "      # Get the size of the original image (height, width, channels)\n",
    "      h2, w2, c2 = result.orig_img.shape\n",
    "\n",
    "      # Resize the mask to the same size as the image (can probably be removed if image is the same size as the model)\n",
    "      mask = cv2.resize(mask_3channel, (w2, h2))\n",
    "\n",
    "      # Convert BGR to HSV\n",
    "      hsv = cv2.cvtColor(mask, cv2.COLOR_BGR2HSV)\n",
    "\n",
    "      # Define range of brightness in HSV\n",
    "      lower_black = np.array([0,0,0])\n",
    "      upper_black = np.array([0,0,1])\n",
    "\n",
    "      # Create a mask. Threshold the HSV image to get everything black\n",
    "      mask = cv2.inRange(mask, lower_black, upper_black)\n",
    "\n",
    "      # Invert the mask to get everything but black\n",
    "      mask = cv2.bitwise_not(mask)\n",
    "\n",
    "      # Apply the mask to the original image\n",
    "      masked = cv2.bitwise_and(result.orig_img, result.orig_img, mask=mask)\n",
    "\n",
    "      # Show the masked part of the image\n",
    "      # cv2.imshow(\"mask\", masked)\n",
    "      resized_mask = cv2.resize(mask, (101, 200))\n",
    "      cv2.imwrite(fr'{segmented_MC_path}\\\\merged_segs_{i}.jpg', resized_mask)\n",
    "      print(fr'{segmented_MC_path}\\\\merged_segs_{i}.jpg')\n",
    "      print('ketemu')\n",
    "    except Exception as e:\n",
    "      print('error',e)\n",
    "      width = 101\n",
    "      height = 200\n",
    "      black_image = np.zeros((height, width), dtype=np.uint8)\n",
    "      print('tidak ada mc lo..')\n",
    "      # Save the black image to a file\n",
    "      cv2.imwrite(fr'{segmented_MC_path}\\\\merged_segs_{i}.jpg', black_image)\n",
    "      print(fr'{segmented_MC_path}\\\\merged_segs_{i}.jpg')\n",
    "      i = i+1\n",
    "      continue\n",
    "  else:\n",
    "    width = 101\n",
    "    height = 200\n",
    "    black_image = np.zeros((height, width), dtype=np.uint8)\n",
    "    print('ada yang kosong lo..')\n",
    "    # Save the black image to a file\n",
    "    cv2.imwrite(fr'{segmented_MC_path}\\\\merged_segs_{i}.jpg', black_image)\n",
    "    print(fr'{segmented_MC_path}\\\\merged_segs_{i}.jpg')\n",
    "  print('\\n')\n",
    "  i = i+1"
   ]
  },
  {
   "cell_type": "code",
   "execution_count": 22,
   "metadata": {
    "colab": {
     "base_uri": "https://localhost:8080/"
    },
    "executionInfo": {
     "elapsed": 19,
     "status": "ok",
     "timestamp": 1742741629758,
     "user": {
      "displayName": "Katarina Inezita",
      "userId": "04980882031321864073"
     },
     "user_tz": -420
    },
    "id": "8T4-nVMAjavR",
    "outputId": "a9d20c9f-efeb-4311-9f31-b1e993f4051b"
   },
   "outputs": [
    {
     "name": "stdout",
     "output_type": "stream",
     "text": [
      "C:\\\\5025211148\\\\YOLOv9-Segmentation\\\\segmented_MC\\merged_segs_0.jpg\n",
      "C:\\\\5025211148\\\\YOLOv9-Segmentation\\\\segmented_MC\\merged_segs_1.jpg\n",
      "C:\\\\5025211148\\\\YOLOv9-Segmentation\\\\segmented_MC\\merged_segs_2.jpg\n",
      "C:\\\\5025211148\\\\YOLOv9-Segmentation\\\\segmented_MC\\merged_segs_3.jpg\n",
      "C:\\\\5025211148\\\\YOLOv9-Segmentation\\\\segmented_MC\\merged_segs_4.jpg\n",
      "C:\\\\5025211148\\\\YOLOv9-Segmentation\\\\segmented_MC\\merged_segs_5.jpg\n",
      "C:\\\\5025211148\\\\YOLOv9-Segmentation\\\\segmented_MC\\merged_segs_6.jpg\n",
      "C:\\\\5025211148\\\\YOLOv9-Segmentation\\\\segmented_MC\\merged_segs_7.jpg\n",
      "C:\\\\5025211148\\\\YOLOv9-Segmentation\\\\segmented_MC\\merged_segs_8.jpg\n",
      "C:\\\\5025211148\\\\YOLOv9-Segmentation\\\\segmented_MC\\merged_segs_9.jpg\n",
      "C:\\\\5025211148\\\\YOLOv9-Segmentation\\\\segmented_MC\\merged_segs_10.jpg\n",
      "C:\\\\5025211148\\\\YOLOv9-Segmentation\\\\segmented_MC\\merged_segs_11.jpg\n",
      "C:\\\\5025211148\\\\YOLOv9-Segmentation\\\\segmented_MC\\merged_segs_12.jpg\n",
      "C:\\\\5025211148\\\\YOLOv9-Segmentation\\\\segmented_MC\\merged_segs_13.jpg\n",
      "C:\\\\5025211148\\\\YOLOv9-Segmentation\\\\segmented_MC\\merged_segs_14.jpg\n",
      "C:\\\\5025211148\\\\YOLOv9-Segmentation\\\\segmented_MC\\merged_segs_15.jpg\n",
      "C:\\\\5025211148\\\\YOLOv9-Segmentation\\\\segmented_MC\\merged_segs_16.jpg\n",
      "C:\\\\5025211148\\\\YOLOv9-Segmentation\\\\segmented_MC\\merged_segs_17.jpg\n",
      "C:\\\\5025211148\\\\YOLOv9-Segmentation\\\\segmented_MC\\merged_segs_18.jpg\n",
      "C:\\\\5025211148\\\\YOLOv9-Segmentation\\\\segmented_MC\\merged_segs_19.jpg\n",
      "C:\\\\5025211148\\\\YOLOv9-Segmentation\\\\segmented_MC\\merged_segs_20.jpg\n",
      "C:\\\\5025211148\\\\YOLOv9-Segmentation\\\\segmented_MC\\merged_segs_21.jpg\n",
      "C:\\\\5025211148\\\\YOLOv9-Segmentation\\\\segmented_MC\\merged_segs_22.jpg\n",
      "C:\\\\5025211148\\\\YOLOv9-Segmentation\\\\segmented_MC\\merged_segs_23.jpg\n",
      "C:\\\\5025211148\\\\YOLOv9-Segmentation\\\\segmented_MC\\merged_segs_24.jpg\n",
      "C:\\\\5025211148\\\\YOLOv9-Segmentation\\\\segmented_MC\\merged_segs_25.jpg\n",
      "C:\\\\5025211148\\\\YOLOv9-Segmentation\\\\segmented_MC\\merged_segs_26.jpg\n",
      "C:\\\\5025211148\\\\YOLOv9-Segmentation\\\\segmented_MC\\merged_segs_27.jpg\n",
      "C:\\\\5025211148\\\\YOLOv9-Segmentation\\\\segmented_MC\\merged_segs_28.jpg\n",
      "C:\\\\5025211148\\\\YOLOv9-Segmentation\\\\segmented_MC\\merged_segs_29.jpg\n",
      "C:\\\\5025211148\\\\YOLOv9-Segmentation\\\\segmented_MC\\merged_segs_30.jpg\n",
      "C:\\\\5025211148\\\\YOLOv9-Segmentation\\\\segmented_MC\\merged_segs_31.jpg\n",
      "C:\\\\5025211148\\\\YOLOv9-Segmentation\\\\segmented_MC\\merged_segs_32.jpg\n",
      "C:\\\\5025211148\\\\YOLOv9-Segmentation\\\\segmented_MC\\merged_segs_33.jpg\n",
      "C:\\\\5025211148\\\\YOLOv9-Segmentation\\\\segmented_MC\\merged_segs_34.jpg\n",
      "C:\\\\5025211148\\\\YOLOv9-Segmentation\\\\segmented_MC\\merged_segs_35.jpg\n",
      "C:\\\\5025211148\\\\YOLOv9-Segmentation\\\\segmented_MC\\merged_segs_36.jpg\n",
      "C:\\\\5025211148\\\\YOLOv9-Segmentation\\\\segmented_MC\\merged_segs_37.jpg\n",
      "C:\\\\5025211148\\\\YOLOv9-Segmentation\\\\segmented_MC\\merged_segs_38.jpg\n",
      "C:\\\\5025211148\\\\YOLOv9-Segmentation\\\\segmented_MC\\merged_segs_39.jpg\n",
      "C:\\\\5025211148\\\\YOLOv9-Segmentation\\\\segmented_MC\\merged_segs_40.jpg\n",
      "C:\\\\5025211148\\\\YOLOv9-Segmentation\\\\segmented_MC\\merged_segs_41.jpg\n",
      "C:\\\\5025211148\\\\YOLOv9-Segmentation\\\\segmented_MC\\merged_segs_42.jpg\n",
      "C:\\\\5025211148\\\\YOLOv9-Segmentation\\\\segmented_MC\\merged_segs_43.jpg\n",
      "C:\\\\5025211148\\\\YOLOv9-Segmentation\\\\segmented_MC\\merged_segs_44.jpg\n",
      "C:\\\\5025211148\\\\YOLOv9-Segmentation\\\\segmented_MC\\merged_segs_45.jpg\n",
      "C:\\\\5025211148\\\\YOLOv9-Segmentation\\\\segmented_MC\\merged_segs_46.jpg\n",
      "C:\\\\5025211148\\\\YOLOv9-Segmentation\\\\segmented_MC\\merged_segs_47.jpg\n",
      "C:\\\\5025211148\\\\YOLOv9-Segmentation\\\\segmented_MC\\merged_segs_48.jpg\n",
      "C:\\\\5025211148\\\\YOLOv9-Segmentation\\\\segmented_MC\\merged_segs_49.jpg\n",
      "C:\\\\5025211148\\\\YOLOv9-Segmentation\\\\segmented_MC\\merged_segs_50.jpg\n",
      "C:\\\\5025211148\\\\YOLOv9-Segmentation\\\\segmented_MC\\merged_segs_51.jpg\n",
      "C:\\\\5025211148\\\\YOLOv9-Segmentation\\\\segmented_MC\\merged_segs_52.jpg\n",
      "C:\\\\5025211148\\\\YOLOv9-Segmentation\\\\segmented_MC\\merged_segs_53.jpg\n",
      "C:\\\\5025211148\\\\YOLOv9-Segmentation\\\\segmented_MC\\merged_segs_54.jpg\n",
      "C:\\\\5025211148\\\\YOLOv9-Segmentation\\\\segmented_MC\\merged_segs_55.jpg\n",
      "C:\\\\5025211148\\\\YOLOv9-Segmentation\\\\segmented_MC\\merged_segs_56.jpg\n",
      "C:\\\\5025211148\\\\YOLOv9-Segmentation\\\\segmented_MC\\merged_segs_57.jpg\n",
      "C:\\\\5025211148\\\\YOLOv9-Segmentation\\\\segmented_MC\\merged_segs_58.jpg\n",
      "C:\\\\5025211148\\\\YOLOv9-Segmentation\\\\segmented_MC\\merged_segs_59.jpg\n",
      "C:\\\\5025211148\\\\YOLOv9-Segmentation\\\\segmented_MC\\merged_segs_60.jpg\n",
      "C:\\\\5025211148\\\\YOLOv9-Segmentation\\\\segmented_MC\\merged_segs_61.jpg\n",
      "C:\\\\5025211148\\\\YOLOv9-Segmentation\\\\segmented_MC\\merged_segs_62.jpg\n",
      "C:\\\\5025211148\\\\YOLOv9-Segmentation\\\\segmented_MC\\merged_segs_63.jpg\n",
      "C:\\\\5025211148\\\\YOLOv9-Segmentation\\\\segmented_MC\\merged_segs_64.jpg\n",
      "C:\\\\5025211148\\\\YOLOv9-Segmentation\\\\segmented_MC\\merged_segs_65.jpg\n",
      "C:\\\\5025211148\\\\YOLOv9-Segmentation\\\\segmented_MC\\merged_segs_66.jpg\n",
      "C:\\\\5025211148\\\\YOLOv9-Segmentation\\\\segmented_MC\\merged_segs_67.jpg\n",
      "C:\\\\5025211148\\\\YOLOv9-Segmentation\\\\segmented_MC\\merged_segs_68.jpg\n",
      "C:\\\\5025211148\\\\YOLOv9-Segmentation\\\\segmented_MC\\merged_segs_69.jpg\n",
      "C:\\\\5025211148\\\\YOLOv9-Segmentation\\\\segmented_MC\\merged_segs_70.jpg\n",
      "C:\\\\5025211148\\\\YOLOv9-Segmentation\\\\segmented_MC\\merged_segs_71.jpg\n",
      "C:\\\\5025211148\\\\YOLOv9-Segmentation\\\\segmented_MC\\merged_segs_72.jpg\n",
      "C:\\\\5025211148\\\\YOLOv9-Segmentation\\\\segmented_MC\\merged_segs_73.jpg\n",
      "C:\\\\5025211148\\\\YOLOv9-Segmentation\\\\segmented_MC\\merged_segs_74.jpg\n"
     ]
    }
   ],
   "source": [
    "import os\n",
    "import re\n",
    "\n",
    "# specify the directory path\n",
    "directory_path = segmented_MC_path_2\n",
    "\n",
    "# create an empty list to store the filenames with directory path\n",
    "file_list_MC = []\n",
    "\n",
    "# iterate over the files in the directory\n",
    "for filename in os.listdir(directory_path):\n",
    "    # check if the item is a file\n",
    "    if os.path.isfile(os.path.join(directory_path, filename)):\n",
    "        # append the filename with directory path to the list\n",
    "        file_list_MC.append(os.path.join(directory_path, filename))\n",
    "\n",
    "def extract_number(s):\n",
    "    match = re.search(r'merged_segs_(\\d+)', s)  # Match 'merged_segs_' followed by one or more digits\n",
    "    return int(match.group(1)) if match else float('inf')\n",
    "\n",
    "file_list_MC = sorted(file_list_MC, key=extract_number)\n",
    "for filename in file_list_MC:\n",
    "    print(filename)\n",
    "# print(file_list)  # Output: sorted file_list with filenames like 'merged_segs_0', 'merged_segs_1', 'merged_segs_2', etc.\n"
   ]
  },
  {
   "cell_type": "code",
   "execution_count": 23,
   "metadata": {
    "colab": {
     "base_uri": "https://localhost:8080/"
    },
    "executionInfo": {
     "elapsed": 20,
     "status": "ok",
     "timestamp": 1742741632937,
     "user": {
      "displayName": "Katarina Inezita",
      "userId": "04980882031321864073"
     },
     "user_tz": -420
    },
    "id": "R8hcziaTjavR",
    "outputId": "b20c9d1d-3fc1-40ce-eea6-9cfb9dcaed94"
   },
   "outputs": [
    {
     "name": "stdout",
     "output_type": "stream",
     "text": [
      "(75, 200, 101)\n"
     ]
    }
   ],
   "source": [
    "import numpy as np\n",
    "from PIL import Image  # If your images are in image files\n",
    "\n",
    "# Assuming img_files is a list of file paths to the 2D images\n",
    "# img_files = ['image1.png', 'image2.png', 'image3.png']  # Replace with your actual file paths\n",
    "\n",
    "# Load the images and convert them to numpy arrays\n",
    "image_arrays = [np.array(Image.open(img_file)) for img_file in file_list_MC]\n",
    "\n",
    "# Stack the image arrays into a 3D numpy array\n",
    "stacked_images = np.stack(image_arrays, axis=0)\n",
    "\n",
    "# stacked_images is now a 3D numpy array where the first dimension represents the index of the image in the list\n",
    "\n",
    "# Example usage:\n",
    "print(stacked_images.shape)  # Output: (3, height, width, channels) assuming RGB images\n",
    "\n",
    "np.save(segmented_MC_npy, stacked_images)"
   ]
  },
  {
   "cell_type": "code",
   "execution_count": 24,
   "metadata": {
    "colab": {
     "base_uri": "https://localhost:8080/"
    },
    "executionInfo": {
     "elapsed": 342,
     "status": "ok",
     "timestamp": 1742741634988,
     "user": {
      "displayName": "Katarina Inezita",
      "userId": "04980882031321864073"
     },
     "user_tz": -420
    },
    "id": "AFGRussJjavS",
    "outputId": "09aa609b-7a77-4197-9af5-2d6cddd43d5f"
   },
   "outputs": [
    {
     "name": "stdout",
     "output_type": "stream",
     "text": [
      "Saved resized output image for slice_0_png.rf.b6a308ad17de783c210d9ceb410d76a1.jpg as C:\\\\5025211148\\\\YOLOv9-Segmentation\\\\\\\\Dataset Train Val\\\\gt-AB\\slice_0_png.rf.b6a308ad17de783c210d9ceb410d76a1_output.jpg\n",
      "Saved resized output image for slice_10_png.rf.8cfc23276c5e0a0a9c082a84937bbfa9.jpg as C:\\\\5025211148\\\\YOLOv9-Segmentation\\\\\\\\Dataset Train Val\\\\gt-AB\\slice_10_png.rf.8cfc23276c5e0a0a9c082a84937bbfa9_output.jpg\n",
      "Saved resized output image for slice_11_png.rf.2f4ba45901be13bdd4a6d27191f04632.jpg as C:\\\\5025211148\\\\YOLOv9-Segmentation\\\\\\\\Dataset Train Val\\\\gt-AB\\slice_11_png.rf.2f4ba45901be13bdd4a6d27191f04632_output.jpg\n",
      "Saved resized output image for slice_12_png.rf.e697ea8e2a874fe7e9b6625b141d770f.jpg as C:\\\\5025211148\\\\YOLOv9-Segmentation\\\\\\\\Dataset Train Val\\\\gt-AB\\slice_12_png.rf.e697ea8e2a874fe7e9b6625b141d770f_output.jpg\n",
      "Saved resized output image for slice_13_png.rf.3e77ef333ad7540a2e71c11b85729e94.jpg as C:\\\\5025211148\\\\YOLOv9-Segmentation\\\\\\\\Dataset Train Val\\\\gt-AB\\slice_13_png.rf.3e77ef333ad7540a2e71c11b85729e94_output.jpg\n",
      "Saved resized output image for slice_14_png.rf.d4246e1825c0cc584de095d27ae0ba29.jpg as C:\\\\5025211148\\\\YOLOv9-Segmentation\\\\\\\\Dataset Train Val\\\\gt-AB\\slice_14_png.rf.d4246e1825c0cc584de095d27ae0ba29_output.jpg\n",
      "Saved resized output image for slice_15_png.rf.08dca079baea99e2094955b7bca56721.jpg as C:\\\\5025211148\\\\YOLOv9-Segmentation\\\\\\\\Dataset Train Val\\\\gt-AB\\slice_15_png.rf.08dca079baea99e2094955b7bca56721_output.jpg\n",
      "Saved resized output image for slice_16_png.rf.5505cc7edadd735a4051c540ba652f82.jpg as C:\\\\5025211148\\\\YOLOv9-Segmentation\\\\\\\\Dataset Train Val\\\\gt-AB\\slice_16_png.rf.5505cc7edadd735a4051c540ba652f82_output.jpg\n",
      "Saved resized output image for slice_184_jpg.rf.fb7007d3aec48c5887b58c4b1f251982.jpg as C:\\\\5025211148\\\\YOLOv9-Segmentation\\\\\\\\Dataset Train Val\\\\gt-AB\\slice_184_jpg.rf.fb7007d3aec48c5887b58c4b1f251982_output.jpg\n",
      "Saved resized output image for slice_185_jpg.rf.c259553f5c57f7ea65f5ec81e559a32a.jpg as C:\\\\5025211148\\\\YOLOv9-Segmentation\\\\\\\\Dataset Train Val\\\\gt-AB\\slice_185_jpg.rf.c259553f5c57f7ea65f5ec81e559a32a_output.jpg\n",
      "Saved resized output image for slice_186_jpg.rf.7fea4a8ac7a43acb2f28d29a8c9e2b18.jpg as C:\\\\5025211148\\\\YOLOv9-Segmentation\\\\\\\\Dataset Train Val\\\\gt-AB\\slice_186_jpg.rf.7fea4a8ac7a43acb2f28d29a8c9e2b18_output.jpg\n",
      "Saved resized output image for slice_187_jpg.rf.9abf8d193ac601a0c952ef8160a9a2f3.jpg as C:\\\\5025211148\\\\YOLOv9-Segmentation\\\\\\\\Dataset Train Val\\\\gt-AB\\slice_187_jpg.rf.9abf8d193ac601a0c952ef8160a9a2f3_output.jpg\n",
      "Saved resized output image for slice_188_jpg.rf.5fbe759a3a7c1fde7f222c92ef628ffc.jpg as C:\\\\5025211148\\\\YOLOv9-Segmentation\\\\\\\\Dataset Train Val\\\\gt-AB\\slice_188_jpg.rf.5fbe759a3a7c1fde7f222c92ef628ffc_output.jpg\n",
      "Saved resized output image for slice_189_jpg.rf.c1670c9fd948cb7906245cbbfe3f3ed5.jpg as C:\\\\5025211148\\\\YOLOv9-Segmentation\\\\\\\\Dataset Train Val\\\\gt-AB\\slice_189_jpg.rf.c1670c9fd948cb7906245cbbfe3f3ed5_output.jpg\n",
      "Saved resized output image for slice_190_jpg.rf.ad95785b57764989b3cd348bf7ebf3df.jpg as C:\\\\5025211148\\\\YOLOv9-Segmentation\\\\\\\\Dataset Train Val\\\\gt-AB\\slice_190_jpg.rf.ad95785b57764989b3cd348bf7ebf3df_output.jpg\n",
      "Saved resized output image for slice_191_jpg.rf.0ee9ad54909660dc8183df6b1a9d936d.jpg as C:\\\\5025211148\\\\YOLOv9-Segmentation\\\\\\\\Dataset Train Val\\\\gt-AB\\slice_191_jpg.rf.0ee9ad54909660dc8183df6b1a9d936d_output.jpg\n",
      "Saved resized output image for slice_192_jpg.rf.5f98ffbe0c04578941047e31680f4ac8.jpg as C:\\\\5025211148\\\\YOLOv9-Segmentation\\\\\\\\Dataset Train Val\\\\gt-AB\\slice_192_jpg.rf.5f98ffbe0c04578941047e31680f4ac8_output.jpg\n",
      "Saved resized output image for slice_193_jpg.rf.997bde128c89a09bddde6eede7136af8.jpg as C:\\\\5025211148\\\\YOLOv9-Segmentation\\\\\\\\Dataset Train Val\\\\gt-AB\\slice_193_jpg.rf.997bde128c89a09bddde6eede7136af8_output.jpg\n",
      "Saved resized output image for slice_194_jpg.rf.510119948c76ce4b0ba77184428b99a1.jpg as C:\\\\5025211148\\\\YOLOv9-Segmentation\\\\\\\\Dataset Train Val\\\\gt-AB\\slice_194_jpg.rf.510119948c76ce4b0ba77184428b99a1_output.jpg\n",
      "Saved resized output image for slice_195_jpg.rf.4bdeee9e3f4907b631f508bcec563dc2.jpg as C:\\\\5025211148\\\\YOLOv9-Segmentation\\\\\\\\Dataset Train Val\\\\gt-AB\\slice_195_jpg.rf.4bdeee9e3f4907b631f508bcec563dc2_output.jpg\n",
      "Saved resized output image for slice_196_jpg.rf.dc89629b77d81e3226e63a87afeecfc7.jpg as C:\\\\5025211148\\\\YOLOv9-Segmentation\\\\\\\\Dataset Train Val\\\\gt-AB\\slice_196_jpg.rf.dc89629b77d81e3226e63a87afeecfc7_output.jpg\n",
      "Saved resized output image for slice_197_jpg.rf.9ce57987bde90784b202fe9e6d7c481e.jpg as C:\\\\5025211148\\\\YOLOv9-Segmentation\\\\\\\\Dataset Train Val\\\\gt-AB\\slice_197_jpg.rf.9ce57987bde90784b202fe9e6d7c481e_output.jpg\n",
      "Saved resized output image for slice_198_jpg.rf.6b58b1ba2b6b73b61ba979f22fb46caf.jpg as C:\\\\5025211148\\\\YOLOv9-Segmentation\\\\\\\\Dataset Train Val\\\\gt-AB\\slice_198_jpg.rf.6b58b1ba2b6b73b61ba979f22fb46caf_output.jpg\n",
      "Saved resized output image for slice_199_jpg.rf.26f48bd8f377db569234a70975b06f44.jpg as C:\\\\5025211148\\\\YOLOv9-Segmentation\\\\\\\\Dataset Train Val\\\\gt-AB\\slice_199_jpg.rf.26f48bd8f377db569234a70975b06f44_output.jpg\n",
      "Saved resized output image for slice_1_png.rf.813ec633aebc1e939b902b040068a91a.jpg as C:\\\\5025211148\\\\YOLOv9-Segmentation\\\\\\\\Dataset Train Val\\\\gt-AB\\slice_1_png.rf.813ec633aebc1e939b902b040068a91a_output.jpg\n",
      "Saved resized output image for slice_200_jpg.rf.7a651a02064be38cf08502236c43f762.jpg as C:\\\\5025211148\\\\YOLOv9-Segmentation\\\\\\\\Dataset Train Val\\\\gt-AB\\slice_200_jpg.rf.7a651a02064be38cf08502236c43f762_output.jpg\n",
      "Saved resized output image for slice_201_jpg.rf.405030fbbb0b7c68d0450b10c48f32b3.jpg as C:\\\\5025211148\\\\YOLOv9-Segmentation\\\\\\\\Dataset Train Val\\\\gt-AB\\slice_201_jpg.rf.405030fbbb0b7c68d0450b10c48f32b3_output.jpg\n",
      "Saved resized output image for slice_202_jpg.rf.f7e659f04a40049e6cba5239c0ca41fe.jpg as C:\\\\5025211148\\\\YOLOv9-Segmentation\\\\\\\\Dataset Train Val\\\\gt-AB\\slice_202_jpg.rf.f7e659f04a40049e6cba5239c0ca41fe_output.jpg\n",
      "Saved resized output image for slice_203_jpg.rf.e5030f4868e53e80acb8f21aef7489f9.jpg as C:\\\\5025211148\\\\YOLOv9-Segmentation\\\\\\\\Dataset Train Val\\\\gt-AB\\slice_203_jpg.rf.e5030f4868e53e80acb8f21aef7489f9_output.jpg\n",
      "Saved resized output image for slice_204_jpg.rf.379e8a1abf3842f461423e8e76141932.jpg as C:\\\\5025211148\\\\YOLOv9-Segmentation\\\\\\\\Dataset Train Val\\\\gt-AB\\slice_204_jpg.rf.379e8a1abf3842f461423e8e76141932_output.jpg\n",
      "Saved resized output image for slice_205_jpg.rf.91c7f454ebef22c3ff8ce5727bba228e.jpg as C:\\\\5025211148\\\\YOLOv9-Segmentation\\\\\\\\Dataset Train Val\\\\gt-AB\\slice_205_jpg.rf.91c7f454ebef22c3ff8ce5727bba228e_output.jpg\n",
      "Saved resized output image for slice_206_jpg.rf.5b4192b7ef82aad37ac4d99ed13e2ee2.jpg as C:\\\\5025211148\\\\YOLOv9-Segmentation\\\\\\\\Dataset Train Val\\\\gt-AB\\slice_206_jpg.rf.5b4192b7ef82aad37ac4d99ed13e2ee2_output.jpg\n",
      "Saved resized output image for slice_207_jpg.rf.6c10293c5a5cc5871fe43008a8840e3b.jpg as C:\\\\5025211148\\\\YOLOv9-Segmentation\\\\\\\\Dataset Train Val\\\\gt-AB\\slice_207_jpg.rf.6c10293c5a5cc5871fe43008a8840e3b_output.jpg\n",
      "Saved resized output image for slice_208_jpg.rf.474a2cc7da8963637f4a10d5518ef23b.jpg as C:\\\\5025211148\\\\YOLOv9-Segmentation\\\\\\\\Dataset Train Val\\\\gt-AB\\slice_208_jpg.rf.474a2cc7da8963637f4a10d5518ef23b_output.jpg\n",
      "Saved resized output image for slice_209_jpg.rf.8931044812d6e143d00fc94414dc965c.jpg as C:\\\\5025211148\\\\YOLOv9-Segmentation\\\\\\\\Dataset Train Val\\\\gt-AB\\slice_209_jpg.rf.8931044812d6e143d00fc94414dc965c_output.jpg\n",
      "Saved resized output image for slice_210_jpg.rf.2f1e8d2936842397afbbace9a9c9ace1.jpg as C:\\\\5025211148\\\\YOLOv9-Segmentation\\\\\\\\Dataset Train Val\\\\gt-AB\\slice_210_jpg.rf.2f1e8d2936842397afbbace9a9c9ace1_output.jpg\n",
      "Saved resized output image for slice_211_jpg.rf.ce50dbaa10adb29f88ba7ce96c4b28e3.jpg as C:\\\\5025211148\\\\YOLOv9-Segmentation\\\\\\\\Dataset Train Val\\\\gt-AB\\slice_211_jpg.rf.ce50dbaa10adb29f88ba7ce96c4b28e3_output.jpg\n",
      "Saved resized output image for slice_212_jpg.rf.fa999268d1357cfe3baf7f66d218858a.jpg as C:\\\\5025211148\\\\YOLOv9-Segmentation\\\\\\\\Dataset Train Val\\\\gt-AB\\slice_212_jpg.rf.fa999268d1357cfe3baf7f66d218858a_output.jpg\n",
      "Saved resized output image for slice_227_jpg.rf.47e302d51c39b996e9aa5c2457568e72.jpg as C:\\\\5025211148\\\\YOLOv9-Segmentation\\\\\\\\Dataset Train Val\\\\gt-AB\\slice_227_jpg.rf.47e302d51c39b996e9aa5c2457568e72_output.jpg\n",
      "Saved resized output image for slice_228_jpg.rf.d6fa4e941fd8ee957cb2fa40d1617dcd.jpg as C:\\\\5025211148\\\\YOLOv9-Segmentation\\\\\\\\Dataset Train Val\\\\gt-AB\\slice_228_jpg.rf.d6fa4e941fd8ee957cb2fa40d1617dcd_output.jpg\n",
      "Saved resized output image for slice_229_jpg.rf.c4406e3223457b9d82da77009e090083.jpg as C:\\\\5025211148\\\\YOLOv9-Segmentation\\\\\\\\Dataset Train Val\\\\gt-AB\\slice_229_jpg.rf.c4406e3223457b9d82da77009e090083_output.jpg\n",
      "Saved resized output image for slice_230_jpg.rf.c38851d2bc1de61efaff2c6a0c6a533b.jpg as C:\\\\5025211148\\\\YOLOv9-Segmentation\\\\\\\\Dataset Train Val\\\\gt-AB\\slice_230_jpg.rf.c38851d2bc1de61efaff2c6a0c6a533b_output.jpg\n",
      "Saved resized output image for slice_231_jpg.rf.5a943022fe92bf999159d5a80fdfaa3c.jpg as C:\\\\5025211148\\\\YOLOv9-Segmentation\\\\\\\\Dataset Train Val\\\\gt-AB\\slice_231_jpg.rf.5a943022fe92bf999159d5a80fdfaa3c_output.jpg\n",
      "Saved resized output image for slice_232_jpg.rf.36559349f65c59474e2c273ef3a1895f.jpg as C:\\\\5025211148\\\\YOLOv9-Segmentation\\\\\\\\Dataset Train Val\\\\gt-AB\\slice_232_jpg.rf.36559349f65c59474e2c273ef3a1895f_output.jpg\n",
      "Saved resized output image for slice_233_jpg.rf.21c7a2018478f98c4170d84b9d900a8b.jpg as C:\\\\5025211148\\\\YOLOv9-Segmentation\\\\\\\\Dataset Train Val\\\\gt-AB\\slice_233_jpg.rf.21c7a2018478f98c4170d84b9d900a8b_output.jpg\n",
      "Saved resized output image for slice_234_jpg.rf.8376c291224523f2379285e6739f8508.jpg as C:\\\\5025211148\\\\YOLOv9-Segmentation\\\\\\\\Dataset Train Val\\\\gt-AB\\slice_234_jpg.rf.8376c291224523f2379285e6739f8508_output.jpg\n",
      "Saved resized output image for slice_234_jpg.rf.8c97c306d89d4aea1956db536d9ae8da.jpg as C:\\\\5025211148\\\\YOLOv9-Segmentation\\\\\\\\Dataset Train Val\\\\gt-AB\\slice_234_jpg.rf.8c97c306d89d4aea1956db536d9ae8da_output.jpg\n",
      "Saved resized output image for slice_235_jpg.rf.7a0cd7f426f4c0b16065120adc6c63f0.jpg as C:\\\\5025211148\\\\YOLOv9-Segmentation\\\\\\\\Dataset Train Val\\\\gt-AB\\slice_235_jpg.rf.7a0cd7f426f4c0b16065120adc6c63f0_output.jpg\n",
      "Saved resized output image for slice_236_jpg.rf.baef61c5ff250c1d85dc3ee096660de8.jpg as C:\\\\5025211148\\\\YOLOv9-Segmentation\\\\\\\\Dataset Train Val\\\\gt-AB\\slice_236_jpg.rf.baef61c5ff250c1d85dc3ee096660de8_output.jpg\n",
      "Saved resized output image for slice_237_jpg.rf.b9610d515a5437097ad9d6ec26739bd9.jpg as C:\\\\5025211148\\\\YOLOv9-Segmentation\\\\\\\\Dataset Train Val\\\\gt-AB\\slice_237_jpg.rf.b9610d515a5437097ad9d6ec26739bd9_output.jpg\n",
      "Saved resized output image for slice_238_jpg.rf.6025395d22a4004b13a3f9b376079bb8.jpg as C:\\\\5025211148\\\\YOLOv9-Segmentation\\\\\\\\Dataset Train Val\\\\gt-AB\\slice_238_jpg.rf.6025395d22a4004b13a3f9b376079bb8_output.jpg\n",
      "Saved resized output image for slice_239_jpg.rf.b6d73c66406e62a091551a6d3ccce095.jpg as C:\\\\5025211148\\\\YOLOv9-Segmentation\\\\\\\\Dataset Train Val\\\\gt-AB\\slice_239_jpg.rf.b6d73c66406e62a091551a6d3ccce095_output.jpg\n",
      "Saved resized output image for slice_239_jpg.rf.bd8f5271a858f2a277c210f5e04a86df.jpg as C:\\\\5025211148\\\\YOLOv9-Segmentation\\\\\\\\Dataset Train Val\\\\gt-AB\\slice_239_jpg.rf.bd8f5271a858f2a277c210f5e04a86df_output.jpg\n",
      "Saved resized output image for slice_240_jpg.rf.0aa788cdb7219a189ea9e4b9a53b996a.jpg as C:\\\\5025211148\\\\YOLOv9-Segmentation\\\\\\\\Dataset Train Val\\\\gt-AB\\slice_240_jpg.rf.0aa788cdb7219a189ea9e4b9a53b996a_output.jpg\n",
      "Saved resized output image for slice_241_jpg.rf.5bb370de0c0c5a0a1298999b8269e4b4.jpg as C:\\\\5025211148\\\\YOLOv9-Segmentation\\\\\\\\Dataset Train Val\\\\gt-AB\\slice_241_jpg.rf.5bb370de0c0c5a0a1298999b8269e4b4_output.jpg\n",
      "Saved resized output image for slice_241_jpg.rf.8e99851409db29bcb7433e96215d032f.jpg as C:\\\\5025211148\\\\YOLOv9-Segmentation\\\\\\\\Dataset Train Val\\\\gt-AB\\slice_241_jpg.rf.8e99851409db29bcb7433e96215d032f_output.jpg\n",
      "Saved resized output image for slice_242_jpg.rf.04473fce5585378c912db056877ef4be.jpg as C:\\\\5025211148\\\\YOLOv9-Segmentation\\\\\\\\Dataset Train Val\\\\gt-AB\\slice_242_jpg.rf.04473fce5585378c912db056877ef4be_output.jpg\n",
      "Saved resized output image for slice_243_jpg.rf.4e282c9d623df41fb28d1181aff460f7.jpg as C:\\\\5025211148\\\\YOLOv9-Segmentation\\\\\\\\Dataset Train Val\\\\gt-AB\\slice_243_jpg.rf.4e282c9d623df41fb28d1181aff460f7_output.jpg\n",
      "Saved resized output image for slice_243_jpg.rf.ae3d135830b986a680d9ef8fbe5441f9.jpg as C:\\\\5025211148\\\\YOLOv9-Segmentation\\\\\\\\Dataset Train Val\\\\gt-AB\\slice_243_jpg.rf.ae3d135830b986a680d9ef8fbe5441f9_output.jpg\n",
      "Saved resized output image for slice_244_jpg.rf.4a9409f3b5a33b7c702d348109c89c68.jpg as C:\\\\5025211148\\\\YOLOv9-Segmentation\\\\\\\\Dataset Train Val\\\\gt-AB\\slice_244_jpg.rf.4a9409f3b5a33b7c702d348109c89c68_output.jpg\n",
      "Saved resized output image for slice_245_jpg.rf.69a1679f246e89e375a49ba7b2e03b67.jpg as C:\\\\5025211148\\\\YOLOv9-Segmentation\\\\\\\\Dataset Train Val\\\\gt-AB\\slice_245_jpg.rf.69a1679f246e89e375a49ba7b2e03b67_output.jpg\n",
      "Saved resized output image for slice_245_jpg.rf.7280f92363a1b9f4c1b74a7079335c62.jpg as C:\\\\5025211148\\\\YOLOv9-Segmentation\\\\\\\\Dataset Train Val\\\\gt-AB\\slice_245_jpg.rf.7280f92363a1b9f4c1b74a7079335c62_output.jpg\n",
      "Saved resized output image for slice_246_jpg.rf.1b3b7419434d4f2ffe8a69c66cc0eb7d.jpg as C:\\\\5025211148\\\\YOLOv9-Segmentation\\\\\\\\Dataset Train Val\\\\gt-AB\\slice_246_jpg.rf.1b3b7419434d4f2ffe8a69c66cc0eb7d_output.jpg\n",
      "Saved resized output image for slice_247_jpg.rf.0132c277c4d7f8c5c95ea3a595ba7315.jpg as C:\\\\5025211148\\\\YOLOv9-Segmentation\\\\\\\\Dataset Train Val\\\\gt-AB\\slice_247_jpg.rf.0132c277c4d7f8c5c95ea3a595ba7315_output.jpg\n",
      "Saved resized output image for slice_248_jpg.rf.fe48f8cb5097a5c105f48b585f33a07a.jpg as C:\\\\5025211148\\\\YOLOv9-Segmentation\\\\\\\\Dataset Train Val\\\\gt-AB\\slice_248_jpg.rf.fe48f8cb5097a5c105f48b585f33a07a_output.jpg\n",
      "Saved resized output image for slice_250_jpg.rf.84d15643db599a8826b8ca7b5320dfc5.jpg as C:\\\\5025211148\\\\YOLOv9-Segmentation\\\\\\\\Dataset Train Val\\\\gt-AB\\slice_250_jpg.rf.84d15643db599a8826b8ca7b5320dfc5_output.jpg\n",
      "Saved resized output image for slice_257_jpg.rf.1afa5d3faf30171b5a1ee38437f1cae5.jpg as C:\\\\5025211148\\\\YOLOv9-Segmentation\\\\\\\\Dataset Train Val\\\\gt-AB\\slice_257_jpg.rf.1afa5d3faf30171b5a1ee38437f1cae5_output.jpg\n",
      "Saved resized output image for slice_2_png.rf.773ebb3973e8d24b3610d7d5889312bf.jpg as C:\\\\5025211148\\\\YOLOv9-Segmentation\\\\\\\\Dataset Train Val\\\\gt-AB\\slice_2_png.rf.773ebb3973e8d24b3610d7d5889312bf_output.jpg\n",
      "Saved resized output image for slice_3_png.rf.2b7ac0dccdcc3241e2441dcdfe40b19a.jpg as C:\\\\5025211148\\\\YOLOv9-Segmentation\\\\\\\\Dataset Train Val\\\\gt-AB\\slice_3_png.rf.2b7ac0dccdcc3241e2441dcdfe40b19a_output.jpg\n",
      "Saved resized output image for slice_4_png.rf.ed9951865dd8c8e9c4bb357b12d90bf3.jpg as C:\\\\5025211148\\\\YOLOv9-Segmentation\\\\\\\\Dataset Train Val\\\\gt-AB\\slice_4_png.rf.ed9951865dd8c8e9c4bb357b12d90bf3_output.jpg\n",
      "Saved resized output image for slice_5_png.rf.fa534a063f0865aba05bfb1f39bf17f1.jpg as C:\\\\5025211148\\\\YOLOv9-Segmentation\\\\\\\\Dataset Train Val\\\\gt-AB\\slice_5_png.rf.fa534a063f0865aba05bfb1f39bf17f1_output.jpg\n",
      "Saved resized output image for slice_6_png.rf.69513226c67a48924c9727490a40871b.jpg as C:\\\\5025211148\\\\YOLOv9-Segmentation\\\\\\\\Dataset Train Val\\\\gt-AB\\slice_6_png.rf.69513226c67a48924c9727490a40871b_output.jpg\n",
      "Saved resized output image for slice_7_png.rf.911a9c8ba0e64b11ffd5e11ceb31250e.jpg as C:\\\\5025211148\\\\YOLOv9-Segmentation\\\\\\\\Dataset Train Val\\\\gt-AB\\slice_7_png.rf.911a9c8ba0e64b11ffd5e11ceb31250e_output.jpg\n",
      "Saved resized output image for slice_8_png.rf.08bf826fea5c4ff01a4a4d1f987b7af6.jpg as C:\\\\5025211148\\\\YOLOv9-Segmentation\\\\\\\\Dataset Train Val\\\\gt-AB\\slice_8_png.rf.08bf826fea5c4ff01a4a4d1f987b7af6_output.jpg\n",
      "Saved resized output image for slice_9_png.rf.7b263d87fcdea007b3b78938772a24a5.jpg as C:\\\\5025211148\\\\YOLOv9-Segmentation\\\\\\\\Dataset Train Val\\\\gt-AB\\slice_9_png.rf.7b263d87fcdea007b3b78938772a24a5_output.jpg\n"
     ]
    }
   ],
   "source": [
    "import os\n",
    "import cv2\n",
    "import numpy as np\n",
    "\n",
    "# Directory paths\n",
    "img_path = valid_path\n",
    "gt_path = ground_truth_path\n",
    "output_path = gt_AB_path\n",
    "\n",
    "# Ensure output directory exists\n",
    "if not os.path.exists(output_path):\n",
    "    os.makedirs(output_path)\n",
    "\n",
    "# Iterate over files in the image directory\n",
    "for img_file in os.listdir(img_path):\n",
    "    if img_file.endswith(\".jpg\") or img_file.endswith(\".png\"):  # adjust based on your image format\n",
    "        # Read the image\n",
    "        img = cv2.imread(os.path.join(img_path, img_file))\n",
    "\n",
    "        # Create a blank white image with the same dimensions as the original image\n",
    "        mask = np.ones_like(img) * 255\n",
    "\n",
    "        # Read the corresponding ground truth file\n",
    "        gt_file = os.path.splitext(img_file)[0] + \".txt\"  # assuming ground truth files have the same name as images\n",
    "        gt_file_path = os.path.join(gt_path, gt_file)\n",
    "\n",
    "        if os.path.exists(gt_file_path):\n",
    "            class_0_points = []\n",
    "            class_1_points = []\n",
    "            with open(gt_file_path, \"r\") as file:\n",
    "                lines = file.readlines()\n",
    "                for line in lines:\n",
    "                    data = line.split()\n",
    "                    class_label = int(data[0])\n",
    "                    points = [(float(data[i]), float(data[i+1])) for i in range(1, len(data), 2)]\n",
    "                    # Convert normalized coordinates to pixel coordinates\n",
    "                    img_height, img_width, _ = img.shape\n",
    "                    points = [(int(point[0] * img_width), int(point[1] * img_height)) for point in points]\n",
    "                    if class_label == 0:\n",
    "                        class_0_points.extend(points)\n",
    "                    elif class_label == 1:\n",
    "                        class_1_points.extend(points)\n",
    "\n",
    "            # Create numpy arrays of points for drawing the polygons\n",
    "            polygon_points_0 = np.array(class_0_points)\n",
    "            polygon_points_1 = np.array(class_1_points)\n",
    "\n",
    "            # Draw the filled polygons on the mask\n",
    "            if len(polygon_points_0) > 0:\n",
    "                cv2.fillPoly(mask, [polygon_points_0], color=(0, 0, 0))\n",
    "            if len(polygon_points_1) > 0:\n",
    "                cv2.fillPoly(mask, [polygon_points_1], color=(255, 255, 255))\n",
    "\n",
    "            # Resize the output image to 101x200\n",
    "            mask = 255 - mask\n",
    "            mask_resized = cv2.resize(mask, (101, 200))\n",
    "\n",
    "            # Save the output image as JPEG\n",
    "            output_file = os.path.splitext(img_file)[0] + \"_output.jpg\"\n",
    "            output_file_path = os.path.join(output_path, output_file)\n",
    "            cv2.imwrite(output_file_path, mask_resized)\n",
    "\n",
    "            print(f\"Saved resized output image for {img_file} as {output_file_path}\")\n",
    "        else:\n",
    "            print(f\"No ground truth file found for {img_file}\")\n",
    "\n",
    "# image_loader = ImageLoader(output_path)\n",
    "# gt_AB = image_loader.load_images()\n"
   ]
  },
  {
   "cell_type": "code",
   "execution_count": 25,
   "metadata": {
    "colab": {
     "base_uri": "https://localhost:8080/"
    },
    "executionInfo": {
     "elapsed": 143,
     "status": "ok",
     "timestamp": 1742741638075,
     "user": {
      "displayName": "Katarina Inezita",
      "userId": "04980882031321864073"
     },
     "user_tz": -420
    },
    "id": "hcZsoJH7javS",
    "outputId": "266b5996-e1f5-42e1-f85a-9b2cbc673898"
   },
   "outputs": [
    {
     "name": "stdout",
     "output_type": "stream",
     "text": [
      "Saved resized output image for slice_0_png.rf.b6a308ad17de783c210d9ceb410d76a1.jpg as C:\\\\5025211148\\\\YOLOv9-Segmentation\\\\Dataset Train Val\\\\gt-MC\\slice_0_png.rf.b6a308ad17de783c210d9ceb410d76a1_output.jpg\n",
      "Saved resized output image for slice_10_png.rf.8cfc23276c5e0a0a9c082a84937bbfa9.jpg as C:\\\\5025211148\\\\YOLOv9-Segmentation\\\\Dataset Train Val\\\\gt-MC\\slice_10_png.rf.8cfc23276c5e0a0a9c082a84937bbfa9_output.jpg\n",
      "Saved resized output image for slice_11_png.rf.2f4ba45901be13bdd4a6d27191f04632.jpg as C:\\\\5025211148\\\\YOLOv9-Segmentation\\\\Dataset Train Val\\\\gt-MC\\slice_11_png.rf.2f4ba45901be13bdd4a6d27191f04632_output.jpg\n",
      "Saved resized output image for slice_12_png.rf.e697ea8e2a874fe7e9b6625b141d770f.jpg as C:\\\\5025211148\\\\YOLOv9-Segmentation\\\\Dataset Train Val\\\\gt-MC\\slice_12_png.rf.e697ea8e2a874fe7e9b6625b141d770f_output.jpg\n",
      "Saved resized output image for slice_13_png.rf.3e77ef333ad7540a2e71c11b85729e94.jpg as C:\\\\5025211148\\\\YOLOv9-Segmentation\\\\Dataset Train Val\\\\gt-MC\\slice_13_png.rf.3e77ef333ad7540a2e71c11b85729e94_output.jpg\n",
      "Saved resized output image for slice_14_png.rf.d4246e1825c0cc584de095d27ae0ba29.jpg as C:\\\\5025211148\\\\YOLOv9-Segmentation\\\\Dataset Train Val\\\\gt-MC\\slice_14_png.rf.d4246e1825c0cc584de095d27ae0ba29_output.jpg\n",
      "Saved resized output image for slice_15_png.rf.08dca079baea99e2094955b7bca56721.jpg as C:\\\\5025211148\\\\YOLOv9-Segmentation\\\\Dataset Train Val\\\\gt-MC\\slice_15_png.rf.08dca079baea99e2094955b7bca56721_output.jpg\n",
      "Saved resized output image for slice_16_png.rf.5505cc7edadd735a4051c540ba652f82.jpg as C:\\\\5025211148\\\\YOLOv9-Segmentation\\\\Dataset Train Val\\\\gt-MC\\slice_16_png.rf.5505cc7edadd735a4051c540ba652f82_output.jpg\n",
      "Saved resized output image for slice_184_jpg.rf.fb7007d3aec48c5887b58c4b1f251982.jpg as C:\\\\5025211148\\\\YOLOv9-Segmentation\\\\Dataset Train Val\\\\gt-MC\\slice_184_jpg.rf.fb7007d3aec48c5887b58c4b1f251982_output.jpg\n",
      "Saved resized output image for slice_185_jpg.rf.c259553f5c57f7ea65f5ec81e559a32a.jpg as C:\\\\5025211148\\\\YOLOv9-Segmentation\\\\Dataset Train Val\\\\gt-MC\\slice_185_jpg.rf.c259553f5c57f7ea65f5ec81e559a32a_output.jpg\n",
      "Saved resized output image for slice_186_jpg.rf.7fea4a8ac7a43acb2f28d29a8c9e2b18.jpg as C:\\\\5025211148\\\\YOLOv9-Segmentation\\\\Dataset Train Val\\\\gt-MC\\slice_186_jpg.rf.7fea4a8ac7a43acb2f28d29a8c9e2b18_output.jpg\n",
      "Saved resized output image for slice_187_jpg.rf.9abf8d193ac601a0c952ef8160a9a2f3.jpg as C:\\\\5025211148\\\\YOLOv9-Segmentation\\\\Dataset Train Val\\\\gt-MC\\slice_187_jpg.rf.9abf8d193ac601a0c952ef8160a9a2f3_output.jpg\n",
      "Saved resized output image for slice_188_jpg.rf.5fbe759a3a7c1fde7f222c92ef628ffc.jpg as C:\\\\5025211148\\\\YOLOv9-Segmentation\\\\Dataset Train Val\\\\gt-MC\\slice_188_jpg.rf.5fbe759a3a7c1fde7f222c92ef628ffc_output.jpg\n",
      "Saved resized output image for slice_189_jpg.rf.c1670c9fd948cb7906245cbbfe3f3ed5.jpg as C:\\\\5025211148\\\\YOLOv9-Segmentation\\\\Dataset Train Val\\\\gt-MC\\slice_189_jpg.rf.c1670c9fd948cb7906245cbbfe3f3ed5_output.jpg\n",
      "Saved resized output image for slice_190_jpg.rf.ad95785b57764989b3cd348bf7ebf3df.jpg as C:\\\\5025211148\\\\YOLOv9-Segmentation\\\\Dataset Train Val\\\\gt-MC\\slice_190_jpg.rf.ad95785b57764989b3cd348bf7ebf3df_output.jpg\n",
      "Saved resized output image for slice_191_jpg.rf.0ee9ad54909660dc8183df6b1a9d936d.jpg as C:\\\\5025211148\\\\YOLOv9-Segmentation\\\\Dataset Train Val\\\\gt-MC\\slice_191_jpg.rf.0ee9ad54909660dc8183df6b1a9d936d_output.jpg\n",
      "Saved resized output image for slice_192_jpg.rf.5f98ffbe0c04578941047e31680f4ac8.jpg as C:\\\\5025211148\\\\YOLOv9-Segmentation\\\\Dataset Train Val\\\\gt-MC\\slice_192_jpg.rf.5f98ffbe0c04578941047e31680f4ac8_output.jpg\n",
      "Saved resized output image for slice_193_jpg.rf.997bde128c89a09bddde6eede7136af8.jpg as C:\\\\5025211148\\\\YOLOv9-Segmentation\\\\Dataset Train Val\\\\gt-MC\\slice_193_jpg.rf.997bde128c89a09bddde6eede7136af8_output.jpg\n",
      "Saved resized output image for slice_194_jpg.rf.510119948c76ce4b0ba77184428b99a1.jpg as C:\\\\5025211148\\\\YOLOv9-Segmentation\\\\Dataset Train Val\\\\gt-MC\\slice_194_jpg.rf.510119948c76ce4b0ba77184428b99a1_output.jpg\n",
      "Saved resized output image for slice_195_jpg.rf.4bdeee9e3f4907b631f508bcec563dc2.jpg as C:\\\\5025211148\\\\YOLOv9-Segmentation\\\\Dataset Train Val\\\\gt-MC\\slice_195_jpg.rf.4bdeee9e3f4907b631f508bcec563dc2_output.jpg\n",
      "Saved resized output image for slice_196_jpg.rf.dc89629b77d81e3226e63a87afeecfc7.jpg as C:\\\\5025211148\\\\YOLOv9-Segmentation\\\\Dataset Train Val\\\\gt-MC\\slice_196_jpg.rf.dc89629b77d81e3226e63a87afeecfc7_output.jpg\n",
      "Saved resized output image for slice_197_jpg.rf.9ce57987bde90784b202fe9e6d7c481e.jpg as C:\\\\5025211148\\\\YOLOv9-Segmentation\\\\Dataset Train Val\\\\gt-MC\\slice_197_jpg.rf.9ce57987bde90784b202fe9e6d7c481e_output.jpg\n",
      "Saved resized output image for slice_198_jpg.rf.6b58b1ba2b6b73b61ba979f22fb46caf.jpg as C:\\\\5025211148\\\\YOLOv9-Segmentation\\\\Dataset Train Val\\\\gt-MC\\slice_198_jpg.rf.6b58b1ba2b6b73b61ba979f22fb46caf_output.jpg\n",
      "Saved resized output image for slice_199_jpg.rf.26f48bd8f377db569234a70975b06f44.jpg as C:\\\\5025211148\\\\YOLOv9-Segmentation\\\\Dataset Train Val\\\\gt-MC\\slice_199_jpg.rf.26f48bd8f377db569234a70975b06f44_output.jpg\n",
      "Saved resized output image for slice_1_png.rf.813ec633aebc1e939b902b040068a91a.jpg as C:\\\\5025211148\\\\YOLOv9-Segmentation\\\\Dataset Train Val\\\\gt-MC\\slice_1_png.rf.813ec633aebc1e939b902b040068a91a_output.jpg\n",
      "Saved resized output image for slice_200_jpg.rf.7a651a02064be38cf08502236c43f762.jpg as C:\\\\5025211148\\\\YOLOv9-Segmentation\\\\Dataset Train Val\\\\gt-MC\\slice_200_jpg.rf.7a651a02064be38cf08502236c43f762_output.jpg\n",
      "Saved resized output image for slice_201_jpg.rf.405030fbbb0b7c68d0450b10c48f32b3.jpg as C:\\\\5025211148\\\\YOLOv9-Segmentation\\\\Dataset Train Val\\\\gt-MC\\slice_201_jpg.rf.405030fbbb0b7c68d0450b10c48f32b3_output.jpg\n",
      "Saved resized output image for slice_202_jpg.rf.f7e659f04a40049e6cba5239c0ca41fe.jpg as C:\\\\5025211148\\\\YOLOv9-Segmentation\\\\Dataset Train Val\\\\gt-MC\\slice_202_jpg.rf.f7e659f04a40049e6cba5239c0ca41fe_output.jpg\n",
      "Saved resized output image for slice_203_jpg.rf.e5030f4868e53e80acb8f21aef7489f9.jpg as C:\\\\5025211148\\\\YOLOv9-Segmentation\\\\Dataset Train Val\\\\gt-MC\\slice_203_jpg.rf.e5030f4868e53e80acb8f21aef7489f9_output.jpg\n",
      "Saved resized output image for slice_204_jpg.rf.379e8a1abf3842f461423e8e76141932.jpg as C:\\\\5025211148\\\\YOLOv9-Segmentation\\\\Dataset Train Val\\\\gt-MC\\slice_204_jpg.rf.379e8a1abf3842f461423e8e76141932_output.jpg\n",
      "Saved resized output image for slice_205_jpg.rf.91c7f454ebef22c3ff8ce5727bba228e.jpg as C:\\\\5025211148\\\\YOLOv9-Segmentation\\\\Dataset Train Val\\\\gt-MC\\slice_205_jpg.rf.91c7f454ebef22c3ff8ce5727bba228e_output.jpg\n",
      "Saved resized output image for slice_206_jpg.rf.5b4192b7ef82aad37ac4d99ed13e2ee2.jpg as C:\\\\5025211148\\\\YOLOv9-Segmentation\\\\Dataset Train Val\\\\gt-MC\\slice_206_jpg.rf.5b4192b7ef82aad37ac4d99ed13e2ee2_output.jpg\n",
      "Saved resized output image for slice_207_jpg.rf.6c10293c5a5cc5871fe43008a8840e3b.jpg as C:\\\\5025211148\\\\YOLOv9-Segmentation\\\\Dataset Train Val\\\\gt-MC\\slice_207_jpg.rf.6c10293c5a5cc5871fe43008a8840e3b_output.jpg\n",
      "Saved resized output image for slice_208_jpg.rf.474a2cc7da8963637f4a10d5518ef23b.jpg as C:\\\\5025211148\\\\YOLOv9-Segmentation\\\\Dataset Train Val\\\\gt-MC\\slice_208_jpg.rf.474a2cc7da8963637f4a10d5518ef23b_output.jpg\n",
      "Saved resized output image for slice_209_jpg.rf.8931044812d6e143d00fc94414dc965c.jpg as C:\\\\5025211148\\\\YOLOv9-Segmentation\\\\Dataset Train Val\\\\gt-MC\\slice_209_jpg.rf.8931044812d6e143d00fc94414dc965c_output.jpg\n",
      "Saved resized output image for slice_210_jpg.rf.2f1e8d2936842397afbbace9a9c9ace1.jpg as C:\\\\5025211148\\\\YOLOv9-Segmentation\\\\Dataset Train Val\\\\gt-MC\\slice_210_jpg.rf.2f1e8d2936842397afbbace9a9c9ace1_output.jpg\n",
      "Saved resized output image for slice_211_jpg.rf.ce50dbaa10adb29f88ba7ce96c4b28e3.jpg as C:\\\\5025211148\\\\YOLOv9-Segmentation\\\\Dataset Train Val\\\\gt-MC\\slice_211_jpg.rf.ce50dbaa10adb29f88ba7ce96c4b28e3_output.jpg\n",
      "Saved resized output image for slice_212_jpg.rf.fa999268d1357cfe3baf7f66d218858a.jpg as C:\\\\5025211148\\\\YOLOv9-Segmentation\\\\Dataset Train Val\\\\gt-MC\\slice_212_jpg.rf.fa999268d1357cfe3baf7f66d218858a_output.jpg\n",
      "Saved resized output image for slice_227_jpg.rf.47e302d51c39b996e9aa5c2457568e72.jpg as C:\\\\5025211148\\\\YOLOv9-Segmentation\\\\Dataset Train Val\\\\gt-MC\\slice_227_jpg.rf.47e302d51c39b996e9aa5c2457568e72_output.jpg\n",
      "Saved resized output image for slice_228_jpg.rf.d6fa4e941fd8ee957cb2fa40d1617dcd.jpg as C:\\\\5025211148\\\\YOLOv9-Segmentation\\\\Dataset Train Val\\\\gt-MC\\slice_228_jpg.rf.d6fa4e941fd8ee957cb2fa40d1617dcd_output.jpg\n",
      "Saved resized output image for slice_229_jpg.rf.c4406e3223457b9d82da77009e090083.jpg as C:\\\\5025211148\\\\YOLOv9-Segmentation\\\\Dataset Train Val\\\\gt-MC\\slice_229_jpg.rf.c4406e3223457b9d82da77009e090083_output.jpg\n",
      "Saved resized output image for slice_230_jpg.rf.c38851d2bc1de61efaff2c6a0c6a533b.jpg as C:\\\\5025211148\\\\YOLOv9-Segmentation\\\\Dataset Train Val\\\\gt-MC\\slice_230_jpg.rf.c38851d2bc1de61efaff2c6a0c6a533b_output.jpg\n",
      "Saved resized output image for slice_231_jpg.rf.5a943022fe92bf999159d5a80fdfaa3c.jpg as C:\\\\5025211148\\\\YOLOv9-Segmentation\\\\Dataset Train Val\\\\gt-MC\\slice_231_jpg.rf.5a943022fe92bf999159d5a80fdfaa3c_output.jpg\n",
      "Saved resized output image for slice_232_jpg.rf.36559349f65c59474e2c273ef3a1895f.jpg as C:\\\\5025211148\\\\YOLOv9-Segmentation\\\\Dataset Train Val\\\\gt-MC\\slice_232_jpg.rf.36559349f65c59474e2c273ef3a1895f_output.jpg\n",
      "Saved resized output image for slice_233_jpg.rf.21c7a2018478f98c4170d84b9d900a8b.jpg as C:\\\\5025211148\\\\YOLOv9-Segmentation\\\\Dataset Train Val\\\\gt-MC\\slice_233_jpg.rf.21c7a2018478f98c4170d84b9d900a8b_output.jpg\n",
      "Saved resized output image for slice_234_jpg.rf.8376c291224523f2379285e6739f8508.jpg as C:\\\\5025211148\\\\YOLOv9-Segmentation\\\\Dataset Train Val\\\\gt-MC\\slice_234_jpg.rf.8376c291224523f2379285e6739f8508_output.jpg\n",
      "Saved resized output image for slice_234_jpg.rf.8c97c306d89d4aea1956db536d9ae8da.jpg as C:\\\\5025211148\\\\YOLOv9-Segmentation\\\\Dataset Train Val\\\\gt-MC\\slice_234_jpg.rf.8c97c306d89d4aea1956db536d9ae8da_output.jpg\n",
      "Saved resized output image for slice_235_jpg.rf.7a0cd7f426f4c0b16065120adc6c63f0.jpg as C:\\\\5025211148\\\\YOLOv9-Segmentation\\\\Dataset Train Val\\\\gt-MC\\slice_235_jpg.rf.7a0cd7f426f4c0b16065120adc6c63f0_output.jpg\n",
      "Saved resized output image for slice_236_jpg.rf.baef61c5ff250c1d85dc3ee096660de8.jpg as C:\\\\5025211148\\\\YOLOv9-Segmentation\\\\Dataset Train Val\\\\gt-MC\\slice_236_jpg.rf.baef61c5ff250c1d85dc3ee096660de8_output.jpg\n",
      "Saved resized output image for slice_237_jpg.rf.b9610d515a5437097ad9d6ec26739bd9.jpg as C:\\\\5025211148\\\\YOLOv9-Segmentation\\\\Dataset Train Val\\\\gt-MC\\slice_237_jpg.rf.b9610d515a5437097ad9d6ec26739bd9_output.jpg\n",
      "Saved resized output image for slice_238_jpg.rf.6025395d22a4004b13a3f9b376079bb8.jpg as C:\\\\5025211148\\\\YOLOv9-Segmentation\\\\Dataset Train Val\\\\gt-MC\\slice_238_jpg.rf.6025395d22a4004b13a3f9b376079bb8_output.jpg\n",
      "Saved resized output image for slice_239_jpg.rf.b6d73c66406e62a091551a6d3ccce095.jpg as C:\\\\5025211148\\\\YOLOv9-Segmentation\\\\Dataset Train Val\\\\gt-MC\\slice_239_jpg.rf.b6d73c66406e62a091551a6d3ccce095_output.jpg\n",
      "Saved resized output image for slice_239_jpg.rf.bd8f5271a858f2a277c210f5e04a86df.jpg as C:\\\\5025211148\\\\YOLOv9-Segmentation\\\\Dataset Train Val\\\\gt-MC\\slice_239_jpg.rf.bd8f5271a858f2a277c210f5e04a86df_output.jpg\n",
      "Saved resized output image for slice_240_jpg.rf.0aa788cdb7219a189ea9e4b9a53b996a.jpg as C:\\\\5025211148\\\\YOLOv9-Segmentation\\\\Dataset Train Val\\\\gt-MC\\slice_240_jpg.rf.0aa788cdb7219a189ea9e4b9a53b996a_output.jpg\n",
      "Saved resized output image for slice_241_jpg.rf.5bb370de0c0c5a0a1298999b8269e4b4.jpg as C:\\\\5025211148\\\\YOLOv9-Segmentation\\\\Dataset Train Val\\\\gt-MC\\slice_241_jpg.rf.5bb370de0c0c5a0a1298999b8269e4b4_output.jpg\n",
      "Saved resized output image for slice_241_jpg.rf.8e99851409db29bcb7433e96215d032f.jpg as C:\\\\5025211148\\\\YOLOv9-Segmentation\\\\Dataset Train Val\\\\gt-MC\\slice_241_jpg.rf.8e99851409db29bcb7433e96215d032f_output.jpg\n",
      "Saved resized output image for slice_242_jpg.rf.04473fce5585378c912db056877ef4be.jpg as C:\\\\5025211148\\\\YOLOv9-Segmentation\\\\Dataset Train Val\\\\gt-MC\\slice_242_jpg.rf.04473fce5585378c912db056877ef4be_output.jpg\n",
      "Saved resized output image for slice_243_jpg.rf.4e282c9d623df41fb28d1181aff460f7.jpg as C:\\\\5025211148\\\\YOLOv9-Segmentation\\\\Dataset Train Val\\\\gt-MC\\slice_243_jpg.rf.4e282c9d623df41fb28d1181aff460f7_output.jpg\n",
      "Saved resized output image for slice_243_jpg.rf.ae3d135830b986a680d9ef8fbe5441f9.jpg as C:\\\\5025211148\\\\YOLOv9-Segmentation\\\\Dataset Train Val\\\\gt-MC\\slice_243_jpg.rf.ae3d135830b986a680d9ef8fbe5441f9_output.jpg\n",
      "Saved resized output image for slice_244_jpg.rf.4a9409f3b5a33b7c702d348109c89c68.jpg as C:\\\\5025211148\\\\YOLOv9-Segmentation\\\\Dataset Train Val\\\\gt-MC\\slice_244_jpg.rf.4a9409f3b5a33b7c702d348109c89c68_output.jpg\n",
      "Saved resized output image for slice_245_jpg.rf.69a1679f246e89e375a49ba7b2e03b67.jpg as C:\\\\5025211148\\\\YOLOv9-Segmentation\\\\Dataset Train Val\\\\gt-MC\\slice_245_jpg.rf.69a1679f246e89e375a49ba7b2e03b67_output.jpg\n",
      "Saved resized output image for slice_245_jpg.rf.7280f92363a1b9f4c1b74a7079335c62.jpg as C:\\\\5025211148\\\\YOLOv9-Segmentation\\\\Dataset Train Val\\\\gt-MC\\slice_245_jpg.rf.7280f92363a1b9f4c1b74a7079335c62_output.jpg\n",
      "Saved resized output image for slice_246_jpg.rf.1b3b7419434d4f2ffe8a69c66cc0eb7d.jpg as C:\\\\5025211148\\\\YOLOv9-Segmentation\\\\Dataset Train Val\\\\gt-MC\\slice_246_jpg.rf.1b3b7419434d4f2ffe8a69c66cc0eb7d_output.jpg\n",
      "Saved resized output image for slice_247_jpg.rf.0132c277c4d7f8c5c95ea3a595ba7315.jpg as C:\\\\5025211148\\\\YOLOv9-Segmentation\\\\Dataset Train Val\\\\gt-MC\\slice_247_jpg.rf.0132c277c4d7f8c5c95ea3a595ba7315_output.jpg\n",
      "Saved resized output image for slice_248_jpg.rf.fe48f8cb5097a5c105f48b585f33a07a.jpg as C:\\\\5025211148\\\\YOLOv9-Segmentation\\\\Dataset Train Val\\\\gt-MC\\slice_248_jpg.rf.fe48f8cb5097a5c105f48b585f33a07a_output.jpg\n",
      "Saved resized output image for slice_250_jpg.rf.84d15643db599a8826b8ca7b5320dfc5.jpg as C:\\\\5025211148\\\\YOLOv9-Segmentation\\\\Dataset Train Val\\\\gt-MC\\slice_250_jpg.rf.84d15643db599a8826b8ca7b5320dfc5_output.jpg\n",
      "Saved resized output image for slice_257_jpg.rf.1afa5d3faf30171b5a1ee38437f1cae5.jpg as C:\\\\5025211148\\\\YOLOv9-Segmentation\\\\Dataset Train Val\\\\gt-MC\\slice_257_jpg.rf.1afa5d3faf30171b5a1ee38437f1cae5_output.jpg\n",
      "Saved resized output image for slice_2_png.rf.773ebb3973e8d24b3610d7d5889312bf.jpg as C:\\\\5025211148\\\\YOLOv9-Segmentation\\\\Dataset Train Val\\\\gt-MC\\slice_2_png.rf.773ebb3973e8d24b3610d7d5889312bf_output.jpg\n",
      "Saved resized output image for slice_3_png.rf.2b7ac0dccdcc3241e2441dcdfe40b19a.jpg as C:\\\\5025211148\\\\YOLOv9-Segmentation\\\\Dataset Train Val\\\\gt-MC\\slice_3_png.rf.2b7ac0dccdcc3241e2441dcdfe40b19a_output.jpg\n",
      "Saved resized output image for slice_4_png.rf.ed9951865dd8c8e9c4bb357b12d90bf3.jpg as C:\\\\5025211148\\\\YOLOv9-Segmentation\\\\Dataset Train Val\\\\gt-MC\\slice_4_png.rf.ed9951865dd8c8e9c4bb357b12d90bf3_output.jpg\n",
      "Saved resized output image for slice_5_png.rf.fa534a063f0865aba05bfb1f39bf17f1.jpg as C:\\\\5025211148\\\\YOLOv9-Segmentation\\\\Dataset Train Val\\\\gt-MC\\slice_5_png.rf.fa534a063f0865aba05bfb1f39bf17f1_output.jpg\n",
      "Saved resized output image for slice_6_png.rf.69513226c67a48924c9727490a40871b.jpg as C:\\\\5025211148\\\\YOLOv9-Segmentation\\\\Dataset Train Val\\\\gt-MC\\slice_6_png.rf.69513226c67a48924c9727490a40871b_output.jpg\n",
      "Saved resized output image for slice_7_png.rf.911a9c8ba0e64b11ffd5e11ceb31250e.jpg as C:\\\\5025211148\\\\YOLOv9-Segmentation\\\\Dataset Train Val\\\\gt-MC\\slice_7_png.rf.911a9c8ba0e64b11ffd5e11ceb31250e_output.jpg\n",
      "Saved resized output image for slice_8_png.rf.08bf826fea5c4ff01a4a4d1f987b7af6.jpg as C:\\\\5025211148\\\\YOLOv9-Segmentation\\\\Dataset Train Val\\\\gt-MC\\slice_8_png.rf.08bf826fea5c4ff01a4a4d1f987b7af6_output.jpg\n",
      "Saved resized output image for slice_9_png.rf.7b263d87fcdea007b3b78938772a24a5.jpg as C:\\\\5025211148\\\\YOLOv9-Segmentation\\\\Dataset Train Val\\\\gt-MC\\slice_9_png.rf.7b263d87fcdea007b3b78938772a24a5_output.jpg\n"
     ]
    }
   ],
   "source": [
    "import os\n",
    "import cv2\n",
    "import numpy as np\n",
    "\n",
    "# Directory paths\n",
    "img_path = valid_path\n",
    "gt_path = ground_truth_path\n",
    "output_path = gt_MC_path\n",
    "\n",
    "# Ensure output directory exists\n",
    "if not os.path.exists(output_path):\n",
    "    os.makedirs(output_path)\n",
    "\n",
    "# Iterate over files in the image directory\n",
    "for img_file in os.listdir(img_path):\n",
    "    if img_file.endswith(\".jpg\") or img_file.endswith(\".png\"):  # adjust based on your image format\n",
    "        # Read the image\n",
    "        img = cv2.imread(os.path.join(img_path, img_file))\n",
    "\n",
    "        # Create a blank white image with the same dimensions as the original image\n",
    "        mask = np.ones_like(img) * 255\n",
    "\n",
    "        # Read the corresponding ground truth file\n",
    "        gt_file = os.path.splitext(img_file)[0] + \".txt\"  # assuming ground truth files have the same name as images\n",
    "        gt_file_path = os.path.join(gt_path, gt_file)\n",
    "\n",
    "        if os.path.exists(gt_file_path):\n",
    "            class_0_points = []\n",
    "            with open(gt_file_path, \"r\") as file:\n",
    "                lines = file.readlines()\n",
    "                for line in lines:\n",
    "                    data = line.split()\n",
    "                    class_label = int(data[0])\n",
    "                    if class_label == 1:\n",
    "                        points = [(float(data[i]), float(data[i+1])) for i in range(1, len(data), 2)]\n",
    "                        # Convert normalized coordinates to pixel coordinates\n",
    "                        img_height, img_width, _ = img.shape\n",
    "                        points = [(int(point[0] * img_width), int(point[1] * img_height)) for point in points]\n",
    "                        class_0_points.extend(points)\n",
    "\n",
    "            # Create a numpy array of points for drawing the polygon\n",
    "            polygon_points = np.array(class_0_points)\n",
    "\n",
    "            # Draw the filled polygon on the mask\n",
    "            if len(polygon_points) > 0:\n",
    "                cv2.fillPoly(mask, [polygon_points], color=(0, 0, 0))\n",
    "\n",
    "            # Resize the output image to 101x200\n",
    "            mask = 255 - mask\n",
    "            mask_resized = cv2.resize(mask, (101, 200))\n",
    "\n",
    "            # Save the output image as JPEG\n",
    "            output_file = os.path.splitext(img_file)[0] + \"_output.jpg\"\n",
    "            output_file_path = os.path.join(output_path, output_file)\n",
    "            cv2.imwrite(output_file_path, mask_resized)\n",
    "\n",
    "            print(f\"Saved resized output image for {img_file} as {output_file_path}\")\n",
    "        else:\n",
    "            print(f\"No ground truth file found for {img_file}\")\n",
    "\n",
    "# image_loader = ImageLoader(output_path)\n",
    "# gt_MC = image_loader.load_images()"
   ]
  },
  {
   "cell_type": "code",
   "execution_count": 26,
   "metadata": {
    "id": "BLNENJWSjavT"
   },
   "outputs": [],
   "source": [
    "import os\n",
    "import cv2\n",
    "import numpy as np\n",
    "import re\n",
    "\n",
    "def read_images_as_binary_sorted(path, threshold=127):\n",
    "    image_list = []\n",
    "\n",
    "    # Get all files in the folder\n",
    "    files = os.listdir(path)\n",
    "\n",
    "    # Sort files based on filenames\n",
    "    sorted_files = sorted(files, key=sort_key)\n",
    "\n",
    "    # Iterate over sorted files\n",
    "    for file_name in sorted_files:\n",
    "        # Check if the file is an image (you can adjust the condition based on your image formats)\n",
    "        if file_name.endswith(\".jpg\") or file_name.endswith(\".png\"):\n",
    "            # Read the image in grayscale\n",
    "            image_path = os.path.join(path, file_name)\n",
    "            image = cv2.imread(image_path, cv2.IMREAD_GRAYSCALE)\n",
    "\n",
    "            if image is not None:\n",
    "                # Apply thresholding to convert grayscale to binary image\n",
    "                _, binary_image = cv2.threshold(image, threshold, 1, cv2.THRESH_BINARY)\n",
    "                image_list.append(binary_image)\n",
    "                # unique_values, counts = np.unique(binary_image, return_counts=True)\n",
    "                # for value, count in zip(unique_values, counts):\n",
    "                    # print(f\"{value}: {count}\")\n",
    "\n",
    "    # Convert the list of images to a numpy array\n",
    "    image_array = np.array(image_list)\n",
    "    return image_array\n",
    "\n",
    "def sort_key(file_name):\n",
    "    parts = re.split(r'(\\d+)', file_name)\n",
    "    parts[1::2] = map(int, parts[1::2])  # Convert numeric parts to integers\n",
    "    return parts\n",
    "\n",
    "# Example usage:\n",
    "# sorted_images = read_images_as_grayscale_sorted(\"/path/to/images\")\n"
   ]
  },
  {
   "cell_type": "code",
   "execution_count": 27,
   "metadata": {
    "colab": {
     "base_uri": "https://localhost:8080/"
    },
    "executionInfo": {
     "elapsed": 7,
     "status": "ok",
     "timestamp": 1742741650129,
     "user": {
      "displayName": "Katarina Inezita",
      "userId": "04980882031321864073"
     },
     "user_tz": -420
    },
    "id": "8IrUrp_CjavU",
    "outputId": "fe5ba981-3a9c-491f-d655-a446b08dfae4"
   },
   "outputs": [
    {
     "name": "stdout",
     "output_type": "stream",
     "text": [
      "Shape of images array: (75, 200, 101)\n"
     ]
    }
   ],
   "source": [
    "# Example usage:\n",
    "path_to_images = gt_AB_path\n",
    "gt_AB = read_images_as_binary_sorted(path_to_images)\n",
    "print(\"Shape of images array:\", gt_AB.shape)"
   ]
  },
  {
   "cell_type": "code",
   "execution_count": 28,
   "metadata": {
    "colab": {
     "base_uri": "https://localhost:8080/"
    },
    "executionInfo": {
     "elapsed": 53,
     "status": "ok",
     "timestamp": 1742741651100,
     "user": {
      "displayName": "Katarina Inezita",
      "userId": "04980882031321864073"
     },
     "user_tz": -420
    },
    "id": "BEZBVEC2javV",
    "outputId": "983c1188-bc81-4294-e412-93ef832dcfc5"
   },
   "outputs": [
    {
     "name": "stdout",
     "output_type": "stream",
     "text": [
      "Shape of images array: (75, 200, 101)\n"
     ]
    }
   ],
   "source": [
    "\n",
    "# Example usage:\n",
    "path_to_images = gt_MC_path\n",
    "gt_MC = read_images_as_binary_sorted(path_to_images)\n",
    "print(\"Shape of images array:\", gt_MC.shape)"
   ]
  },
  {
   "cell_type": "code",
   "execution_count": 29,
   "metadata": {
    "colab": {
     "base_uri": "https://localhost:8080/"
    },
    "executionInfo": {
     "elapsed": 17,
     "status": "ok",
     "timestamp": 1742741652664,
     "user": {
      "displayName": "Katarina Inezita",
      "userId": "04980882031321864073"
     },
     "user_tz": -420
    },
    "id": "0PHaLa92javX",
    "outputId": "288660a9-a656-4d1c-f296-c0f872a64591"
   },
   "outputs": [
    {
     "name": "stdout",
     "output_type": "stream",
     "text": [
      "Shape of images array: (75, 200, 101)\n"
     ]
    }
   ],
   "source": [
    "\n",
    "# Example usage:\n",
    "path_to_images = segmented_AB_path\n",
    "segmented_AB = read_images_as_binary_sorted(path_to_images)\n",
    "print(\"Shape of images array:\", segmented_AB.shape)"
   ]
  },
  {
   "cell_type": "code",
   "execution_count": 30,
   "metadata": {
    "colab": {
     "base_uri": "https://localhost:8080/"
    },
    "executionInfo": {
     "elapsed": 12,
     "status": "ok",
     "timestamp": 1742741653435,
     "user": {
      "displayName": "Katarina Inezita",
      "userId": "04980882031321864073"
     },
     "user_tz": -420
    },
    "id": "k-uKv2AejavY",
    "outputId": "2c1a3b07-0ef2-4c03-9c5f-d35beef0480f"
   },
   "outputs": [
    {
     "name": "stdout",
     "output_type": "stream",
     "text": [
      "Shape of images array: (75, 200, 101)\n"
     ]
    }
   ],
   "source": [
    "\n",
    "# Example usage:\n",
    "path_to_images = segmented_MC_path\n",
    "segmented_MC = read_images_as_binary_sorted(path_to_images)\n",
    "print(\"Shape of images array:\", segmented_MC.shape)"
   ]
  },
  {
   "cell_type": "code",
   "execution_count": 31,
   "metadata": {
    "id": "H6BJYaGAjavZ"
   },
   "outputs": [],
   "source": [
    "import numpy as np\n",
    "from sklearn.metrics import confusion_matrix\n",
    "\n",
    "\n",
    "def calculate_iou(gt, pred):\n",
    "    unique_gt = np.unique(gt)\n",
    "    unique_pred = np.unique(pred)\n",
    "\n",
    "    # If both gt and pred contain only one unique value and they are equal,\n",
    "    # then IoU is 1\n",
    "    if len(unique_gt) == len(unique_pred) == 1 and unique_gt[0] == unique_pred[0]:\n",
    "        return 1.0\n",
    "\n",
    "    # print(gt.shape)\n",
    "    cm = confusion_matrix(gt.flatten(), pred.flatten())\n",
    "    # unique_values, counts = np.unique(gt, return_counts=True)\n",
    "    # for value, count in zip(unique_values, counts):\n",
    "    #    print(f\"{value}: {count}\")\n",
    "    # print(cm)\n",
    "    intersection = np.diag(cm) #TN dan TP\n",
    "    union = np.sum(cm, axis=0) + np.sum(cm, axis=1) - intersection\n",
    "    # print(np.sum(cm, axis=0))\n",
    "    # print(np.sum(cm, axis=1))\n",
    "    # print(intersection)\n",
    "    # iou = np.mean((intersection + 1e-10) / (union + 1e-10))\n",
    "    # only calculate the iou for AB or MC thats why we use index [1] in intersection\n",
    "    iou = (intersection[1] + 1e-10) / (union[1] + 1e-10)\n",
    "    return iou\n",
    "\n",
    "def calculate_dice_score(gt, pred):\n",
    "    unique_gt = np.unique(gt)\n",
    "    unique_pred = np.unique(pred)\n",
    "\n",
    "    # If both gt and pred contain only one unique value and they are equal,\n",
    "    # then IoU is 1\n",
    "    if len(unique_gt) == len(unique_pred) == 1 and unique_gt[0] == unique_pred[0]:\n",
    "        return 1.0\n",
    "    cm = confusion_matrix(gt.flatten(), pred.flatten())\n",
    "    intersection = np.diag(cm)\n",
    "    union_dice = np.sum(cm, axis=0) + np.sum(cm, axis=1)\n",
    "    # dice_score = np.mean(2 * (intersection + 1e-10) / (union_dice + 1e-10))\n",
    "    dice_score = 2 * (intersection[1] + 1e-10) / (union_dice[1] + 1e-10)\n",
    "    return dice_score\n",
    "\n",
    "def calculate_average_iou_and_dice(gt_images, pred_images):\n",
    "    num_images = gt_images.shape[0]\n",
    "    iou_scores = []\n",
    "    dice_scores = []\n",
    "\n",
    "    for i in range(num_images):\n",
    "        gt_image = gt_images[i]\n",
    "        pred_image = pred_images[i]\n",
    "        iou = calculate_iou(gt_image, pred_image)\n",
    "        dice = calculate_dice_score(gt_image, pred_image)\n",
    "        print(i,\"iou:\",iou)\n",
    "        print(i,\"dice:\",dice)\n",
    "        iou_scores.append(iou)\n",
    "        dice_scores.append(dice)\n",
    "\n",
    "    avg_iou = np.nanmean(iou_scores)  # Use np.nanmean to handle NaN values\n",
    "    avg_dice = np.nanmean(dice_scores)  # Use np.nanmean to handle NaN values\n",
    "    return avg_iou, avg_dice\n",
    "\n",
    "# Example usage:\n",
    "# gt_images and pred_images are numpy arrays containing grayscale images\n",
    "# Each array should have shape (num_images, height, width)\n"
   ]
  },
  {
   "cell_type": "code",
   "execution_count": 32,
   "metadata": {
    "colab": {
     "base_uri": "https://localhost:8080/"
    },
    "executionInfo": {
     "elapsed": 385,
     "status": "ok",
     "timestamp": 1742741657790,
     "user": {
      "displayName": "Katarina Inezita",
      "userId": "04980882031321864073"
     },
     "user_tz": -420
    },
    "id": "AVyhaXWhjavZ",
    "outputId": "58d1e1a1-4895-4e94-eec7-72a2b92a5c27"
   },
   "outputs": [
    {
     "name": "stdout",
     "output_type": "stream",
     "text": [
      "0 iou: 0.9407756813417206\n",
      "0 dice: 0.9694842019983936\n",
      "1 iou: 0.9382384532760489\n",
      "1 dice: 0.9681352175117904\n",
      "2 iou: 0.9270588235294137\n",
      "2 dice: 0.9621489621489763\n",
      "3 iou: 0.9340141398271816\n",
      "3 dice: 0.9658813972380319\n",
      "4 iou: 0.9508024204156814\n",
      "4 dice: 0.974780849629144\n",
      "5 iou: 0.9435336976320597\n",
      "5 dice: 0.9709465791940156\n",
      "6 iou: 0.9530966571650699\n",
      "6 dice: 0.9759851399761315\n",
      "7 iou: 0.943425471454406\n",
      "7 dice: 0.9708892728964645\n",
      "8 iou: 0.9539869281045764\n",
      "8 dice: 0.9764516992239901\n",
      "9 iou: 0.9502604166666679\n",
      "9 dice: 0.9744959273601419\n",
      "10 iou: 0.9488250652741528\n",
      "10 dice: 0.9737406216506033\n",
      "11 iou: 0.9440395627277475\n",
      "11 dice: 0.9712143526576654\n",
      "12 iou: 0.9420365535248056\n",
      "12 dice: 0.9701532670072739\n",
      "13 iou: 0.9297478126608356\n",
      "13 dice: 0.963595146019483\n",
      "14 iou: 0.9488089204257489\n",
      "14 dice: 0.9737321196359041\n",
      "15 iou: 0.9392794154698932\n",
      "15 dice: 0.9686890996492273\n",
      "16 iou: 0.9310514651563672\n",
      "16 dice: 0.9642948227493119\n",
      "17 iou: 0.8974106850213078\n",
      "17 dice: 0.9459319398860089\n",
      "18 iou: 0.9037698412698445\n",
      "18 dice: 0.9494528400208625\n",
      "19 iou: 0.9012304622547422\n",
      "19 dice: 0.9480496764037266\n",
      "20 iou: 0.9321633479581528\n",
      "20 dice: 0.9648908296943413\n",
      "21 iou: 0.9400471539238822\n",
      "21 dice: 0.9690972222222402\n",
      "22 iou: 0.947333109694735\n",
      "22 dice: 0.9729543496985534\n",
      "23 iou: 0.9357737104825312\n",
      "23 dice: 0.9668213855939666\n",
      "24 iou: 0.941669460274893\n",
      "24 dice: 0.9699585635359294\n",
      "25 iou: 0.9578272604588408\n",
      "25 dice: 0.978459417542668\n",
      "26 iou: 0.9229222520107264\n",
      "26 dice: 0.9599163471593071\n",
      "27 iou: 0.9491582491582509\n",
      "27 dice: 0.9739160476766459\n",
      "28 iou: 0.9477363515312933\n",
      "28 dice: 0.9731669800034358\n",
      "29 iou: 0.9356666666666689\n",
      "29 dice: 0.9667642500430693\n",
      "30 iou: 0.9523652001323205\n",
      "30 dice: 0.9756014910200106\n",
      "31 iou: 0.9510887772194321\n",
      "31 dice: 0.9749313186813363\n",
      "32 iou: 0.9481286933683536\n",
      "32 dice: 0.9733737782271829\n",
      "33 iou: 0.9475581776466749\n",
      "33 dice: 0.9730730393806972\n",
      "34 iou: 0.953350854139292\n",
      "34 dice: 0.9761183989236634\n",
      "35 iou: 0.9592984778292535\n",
      "35 dice: 0.9792264820131907\n",
      "36 iou: 0.9363934426229529\n",
      "36 dice: 0.9671520487639863\n",
      "37 iou: 0.9440334512705068\n",
      "37 dice: 0.9712111184646101\n",
      "38 iou: 0.9530744336569594\n",
      "38 dice: 0.975973487986761\n",
      "39 iou: 0.9250803858520924\n",
      "39 dice: 0.9610823450810262\n",
      "40 iou: 0.9428938081488629\n",
      "40 dice: 0.9706076618230025\n",
      "41 iou: 0.9544150462225071\n",
      "41 dice: 0.9766759093133425\n",
      "42 iou: 0.9561626429479049\n",
      "42 dice: 0.977590126664518\n",
      "43 iou: 0.9553373455812494\n",
      "43 dice: 0.9771585938765758\n",
      "44 iou: 0.936875000000002\n",
      "44 dice: 0.9674088415618108\n",
      "45 iou: 0.9505289359054153\n",
      "45 dice: 0.9746371032062694\n",
      "46 iou: 0.9135638297872378\n",
      "46 dice: 0.9548297428770222\n",
      "47 iou: 0.9365875912408788\n",
      "47 dice: 0.9672555948174566\n",
      "48 iou: 0.938439849624063\n",
      "48 dice: 0.9682424242424492\n",
      "49 iou: 0.9203619909502299\n",
      "49 dice: 0.9585296889726919\n",
      "50 iou: 0.9241793804900637\n",
      "50 dice: 0.9605958673714811\n",
      "51 iou: 0.8983050847457674\n",
      "51 dice: 0.9464285714285968\n",
      "52 iou: 0.9475673122342962\n",
      "52 dice: 0.9730778559301728\n",
      "53 iou: 0.024256292906223147\n",
      "53 dice: 0.04736371760509172\n",
      "54 iou: 0.26039823008851193\n",
      "54 dice: 0.41319992978763537\n",
      "55 iou: 0.9537080774681175\n",
      "55 dice: 0.9763056092843575\n",
      "56 iou: 0.933768656716421\n",
      "56 dice: 0.9657501205981919\n",
      "57 iou: 0.9218537028623388\n",
      "57 dice: 0.9593380614657456\n",
      "58 iou: 0.936150234741787\n",
      "58 dice: 0.9670223084384344\n",
      "59 iou: 0.9512771996215728\n",
      "59 dice: 0.9750303030303279\n",
      "60 iou: 0.9704206241519683\n",
      "60 dice: 0.9849882936234818\n",
      "61 iou: 0.958092485549135\n",
      "61 dice: 0.9785977859778849\n",
      "62 iou: 0.9402199904352013\n",
      "62 dice: 0.9691890559526998\n",
      "63 iou: 0.9646931015752318\n",
      "63 dice: 0.9820293060547556\n",
      "64 iou: 0.9406084017382935\n",
      "64 dice: 0.969395371983106\n",
      "65 iou: 0.9679158802911845\n",
      "65 dice: 0.9836963967666943\n",
      "66 iou: 0.9583535108958858\n",
      "66 dice: 0.9787339268051687\n",
      "67 iou: 0.9566891241578461\n",
      "67 dice: 0.9778652238072066\n",
      "68 iou: 0.9326550387596931\n",
      "68 dice: 0.9651541739784667\n",
      "69 iou: 0.9491214266981393\n",
      "69 dice: 0.9738966630785929\n",
      "70 iou: 0.9445262641138957\n",
      "70 dice: 0.9714718505428181\n",
      "71 iou: 0.9148936170212806\n",
      "71 dice: 0.9555555555555814\n",
      "72 iou: 0.938953488372096\n",
      "72 dice: 0.9685157421289613\n",
      "73 iou: 0.9627387051700064\n",
      "73 dice: 0.9810156620788092\n",
      "74 iou: 0.949494949494952\n",
      "74 dice: 0.97409326424873\n",
      "Average IOU: 0.9201075833307247\n",
      "Average DSC: 0.9500398445259719\n",
      "\n"
     ]
    }
   ],
   "source": [
    "avg_iou, avg_dice = calculate_average_iou_and_dice(segmented_AB, gt_AB)\n",
    "print(\"Average IOU:\", avg_iou)\n",
    "print(\"Average DSC:\", avg_dice)\n",
    "print()\n",
    "# print(\"Average Dice Score:\", avg_dice)"
   ]
  },
  {
   "cell_type": "code",
   "execution_count": 33,
   "metadata": {
    "colab": {
     "base_uri": "https://localhost:8080/"
    },
    "executionInfo": {
     "elapsed": 253,
     "status": "ok",
     "timestamp": 1742741664790,
     "user": {
      "displayName": "Katarina Inezita",
      "userId": "04980882031321864073"
     },
     "user_tz": -420
    },
    "id": "y9OtJJ7Pjava",
    "outputId": "2cf03676-0904-487b-f28a-7fbc27b196cb"
   },
   "outputs": [
    {
     "name": "stdout",
     "output_type": "stream",
     "text": [
      "0 iou: 0.7480916030536275\n",
      "0 dice: 0.8558951965070499\n",
      "1 iou: 0.8146067415731378\n",
      "1 dice: 0.8978328173378025\n",
      "2 iou: 6.993006993002104e-13\n",
      "2 dice: 1.3986013986004208e-12\n",
      "3 iou: 0.6979865771814108\n",
      "3 dice: 0.8221343873522443\n",
      "4 iou: 0.7094594594596558\n",
      "4 dice: 0.8300395256921621\n",
      "5 iou: 0.7181208053693168\n",
      "5 dice: 0.8359375000004547\n",
      "6 iou: 0.7575757575759413\n",
      "6 dice: 0.8620689655177319\n",
      "7 iou: 0.8181818181819684\n",
      "7 dice: 0.9000000000005001\n",
      "8 iou: 0.7898550724639205\n",
      "8 dice: 0.8825910931178613\n",
      "9 iou: 0.7984496124032571\n",
      "9 dice: 0.8879310344832381\n",
      "10 iou: 0.6622516556293628\n",
      "10 dice: 0.7968127490044635\n",
      "11 iou: 0.6397515527952549\n",
      "11 dice: 0.7803030303034924\n",
      "12 iou: 0.6753246753248863\n",
      "12 dice: 0.8062015503880596\n",
      "13 iou: 0.5963855421689179\n",
      "13 dice: 0.7471698113212275\n",
      "14 iou: 0.6845637583894735\n",
      "14 dice: 0.8127490039845368\n",
      "15 iou: 0.6708074534163536\n",
      "15 dice: 0.8029739776956123\n",
      "16 iou: 6.622516556287006e-13\n",
      "16 dice: 1.3245033112574012e-12\n",
      "17 iou: 4.2918454935603903e-13\n",
      "17 dice: 8.583690987120781e-13\n",
      "18 iou: 0.4230769230771248\n",
      "18 dice: 0.5945945945949399\n",
      "19 iou: 0.3727272727275579\n",
      "19 dice: 0.5430463576163765\n",
      "20 iou: 0.617834394904702\n",
      "20 dice: 0.7637795275595418\n",
      "21 iou: 0.5704225352115702\n",
      "21 dice: 0.7264573991037102\n",
      "22 iou: 0.5538461538464972\n",
      "22 dice: 0.7128712871293501\n",
      "23 iou: 0.5208333333336661\n",
      "23 dice: 0.6849315068499157\n",
      "24 iou: 0.45454545454583606\n",
      "24 dice: 0.6250000000006611\n",
      "25 iou: 0.6117647058828097\n",
      "25 dice: 0.7591240875921467\n",
      "26 iou: 0.6145833333337348\n",
      "26 dice: 0.7612903225814445\n",
      "27 iou: 0.38167938931344914\n",
      "27 dice: 0.5524861878461037\n",
      "28 iou: 0.46153846153905326\n",
      "28 dice: 0.63157894736945\n",
      "29 iou: 0.522727272727815\n",
      "29 dice: 0.6865671641800848\n",
      "30 iou: 0.522727272727815\n",
      "30 dice: 0.6865671641800848\n",
      "31 iou: 0.4220183486243835\n",
      "31 dice: 0.5935483870976817\n",
      "32 iou: 0.48863636363694474\n",
      "32 dice: 0.6564885496193463\n",
      "33 iou: 0.37614678899139803\n",
      "33 dice: 0.5466666666676356\n",
      "34 iou: 0.47252747252805216\n",
      "34 dice: 0.6417910447771331\n",
      "35 iou: 0.42000000000058\n",
      "35 dice: 0.5915492957756399\n",
      "36 iou: 0.5764705882357924\n",
      "36 dice: 0.7313432835830364\n",
      "37 iou: 0.4623655913984276\n",
      "37 dice: 0.6323529411774763\n",
      "38 iou: 0.46666666666725926\n",
      "38 dice: 0.6363636363646695\n",
      "39 iou: 0.3796296296302041\n",
      "39 dice: 0.5503355704707716\n",
      "40 iou: 0.3571428571435131\n",
      "40 dice: 0.5263157894747923\n",
      "41 iou: 0.5061728395067825\n",
      "41 dice: 0.672131147542072\n",
      "42 iou: 0.4851485148519949\n",
      "42 dice: 0.6533333333342312\n",
      "43 iou: 0.5000000000005556\n",
      "43 dice: 0.6666666666676544\n",
      "44 iou: 0.3983739837403265\n",
      "44 dice: 0.5697674418612967\n",
      "45 iou: 0.5581395348842347\n",
      "45 dice: 0.7164179104487192\n",
      "46 iou: 7.936507936501638e-13\n",
      "46 dice: 1.5873015873003276e-12\n",
      "47 iou: 0.417647058823872\n",
      "47 dice: 0.5892116182578468\n",
      "48 iou: 0.48514851485174004\n",
      "48 dice: 0.6533333333337823\n",
      "49 iou: 0.7040816326533632\n",
      "49 dice: 0.8263473053899244\n",
      "50 iou: 0.6721311475412524\n",
      "50 dice: 0.8039215686280373\n",
      "51 iou: 0.7809523809525896\n",
      "51 dice: 0.8770053475941835\n",
      "52 iou: 0.7890625000001649\n",
      "52 dice: 0.8820960698694839\n",
      "53 iou: 0.005050505051007551\n",
      "53 dice: 0.010050251257281383\n",
      "54 iou: 5.681818181814954e-13\n",
      "54 dice: 1.1363636363629909e-12\n",
      "55 iou: 0.4814814814819616\n",
      "55 dice: 0.6500000000008438\n",
      "56 iou: 0.5444444444449507\n",
      "56 dice: 0.7050359712239533\n",
      "57 iou: 0.5051546391757679\n",
      "57 dice: 0.671232876713239\n",
      "58 iou: 0.5764705882357924\n",
      "58 dice: 0.7313432835830364\n",
      "59 iou: 0.4574468085112155\n",
      "59 dice: 0.627737226278374\n",
      "60 iou: 0.8241758241760174\n",
      "60 dice: 0.9036144578319859\n",
      "61 iou: 0.5434782608700615\n",
      "61 dice: 0.7042253521135886\n",
      "62 iou: 0.5434782608700615\n",
      "62 dice: 0.7042253521135886\n",
      "63 iou: 0.6886792452833126\n",
      "63 dice: 0.8156424581012204\n",
      "64 iou: 0.6000000000004211\n",
      "64 dice: 0.7500000000008225\n",
      "65 iou: 0.8586956521740666\n",
      "65 dice: 0.9239766081877638\n",
      "66 iou: 0.4487179487186555\n",
      "66 dice: 0.6194690265498943\n",
      "67 iou: 3.703703703689987e-12\n",
      "67 dice: 7.407407407379974e-12\n",
      "68 iou: 0.31730769230834877\n",
      "68 dice: 0.48175182481862655\n",
      "69 iou: 0.8118811881189981\n",
      "69 dice: 0.8961748633885814\n",
      "70 iou: 0.4112149532715783\n",
      "70 dice: 0.5827814569545811\n",
      "71 iou: 0.4423076923082286\n",
      "71 dice: 0.6133333333342579\n",
      "72 iou: 0.6309523809528204\n",
      "72 dice: 0.7737226277381215\n",
      "73 iou: 0.8761061946903751\n",
      "73 dice: 0.9339622641514463\n",
      "74 iou: 0.719626168224561\n",
      "74 dice: 0.8369565217397626\n",
      "Average IOU: 0.5255313457559546\n",
      "Average DSC: 0.656015438044538\n"
     ]
    }
   ],
   "source": [
    "avg_iou, avg_dice = calculate_average_iou_and_dice(segmented_MC, gt_MC)\n",
    "print(\"Average IOU:\", avg_iou)\n",
    "print(\"Average DSC:\", avg_dice)\n",
    "# print(\"Average Dice Score:\", avg_dice)"
   ]
  }
 ],
 "metadata": {
  "accelerator": "GPU",
  "colab": {
   "gpuType": "T4",
   "provenance": []
  },
  "kernelspec": {
   "display_name": "base",
   "language": "python",
   "name": "python3"
  },
  "language_info": {
   "codemirror_mode": {
    "name": "ipython",
    "version": 3
   },
   "file_extension": ".py",
   "mimetype": "text/x-python",
   "name": "python",
   "nbconvert_exporter": "python",
   "pygments_lexer": "ipython3",
   "version": "3.12.4"
  }
 },
 "nbformat": 4,
 "nbformat_minor": 0
}
